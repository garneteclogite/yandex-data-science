{
 "cells": [
  {
   "cell_type": "markdown",
   "id": "68314055",
   "metadata": {},
   "source": [
    "#  Прогнозирование заказов такси"
   ]
  },
  {
   "cell_type": "markdown",
   "id": "92ee486b",
   "metadata": {},
   "source": [
    "**Цель:** Компания «Чётенькое такси» собрала исторические данные о заказах такси в аэропортах. Чтобы привлекать больше водителей в период пиковой нагрузки, нужно спрогнозировать количество заказов такси на следующий час. Необходимо построить модель для такого предсказания.\n",
    "\n",
    "**Целевой показатель:** Значение метрики *RMSE* на тестовой выборке должно быть не больше 48."
   ]
  },
  {
   "cell_type": "markdown",
   "id": "aa846f0e",
   "metadata": {},
   "source": [
    "## 1. Загрузка данных"
   ]
  },
  {
   "cell_type": "markdown",
   "id": "5a6f2a1c",
   "metadata": {},
   "source": [
    "В ячейке ниже будут подгружаться необходимые библиотеки и инструменты для работы над проектом."
   ]
  },
  {
   "cell_type": "code",
   "execution_count": 1,
   "id": "3fead729",
   "metadata": {},
   "outputs": [],
   "source": [
    "import pandas as pd\n",
    "import matplotlib.pyplot as plt\n",
    "from statsmodels.tsa.seasonal import seasonal_decompose\n",
    "from sklearn.model_selection import train_test_split\n",
    "from sklearn.metrics import r2_score\n",
    "from sklearn.metrics import mean_squared_error, make_scorer\n",
    "from sklearn.model_selection import GridSearchCV, TimeSeriesSplit\n",
    "from sklearn.ensemble import RandomForestRegressor\n",
    "from sklearn.linear_model import LinearRegression\n",
    "import lightgbm as lgb\n",
    "from sklearn.dummy import DummyRegressor"
   ]
  },
  {
   "cell_type": "markdown",
   "id": "85b92605",
   "metadata": {},
   "source": [
    "Создадим переменную для датафрейма. Сразу же укажем в качестве индекса первую колонку, которая будет конвертирована в дату."
   ]
  },
  {
   "cell_type": "code",
   "execution_count": 2,
   "id": "0ce58464",
   "metadata": {
    "scrolled": true
   },
   "outputs": [],
   "source": [
    "try:\n",
    "    data = pd.read_csv('/Users/maksimkuznetsov/Downloads/taxi.csv', index_col=[0], parse_dates=[0])\n",
    "except:\n",
    "    data = pd.read_csv('/datasets/taxi.csv', index_col=[0], parse_dates=[0])"
   ]
  },
  {
   "cell_type": "markdown",
   "id": "dc7e013c",
   "metadata": {},
   "source": [
    "Посмотрим, какие срезы дат в датафрейме."
   ]
  },
  {
   "cell_type": "code",
   "execution_count": 3,
   "id": "36143b05",
   "metadata": {},
   "outputs": [
    {
     "data": {
      "text/html": [
       "<div>\n",
       "<style scoped>\n",
       "    .dataframe tbody tr th:only-of-type {\n",
       "        vertical-align: middle;\n",
       "    }\n",
       "\n",
       "    .dataframe tbody tr th {\n",
       "        vertical-align: top;\n",
       "    }\n",
       "\n",
       "    .dataframe thead th {\n",
       "        text-align: right;\n",
       "    }\n",
       "</style>\n",
       "<table border=\"1\" class=\"dataframe\">\n",
       "  <thead>\n",
       "    <tr style=\"text-align: right;\">\n",
       "      <th></th>\n",
       "      <th>num_orders</th>\n",
       "    </tr>\n",
       "    <tr>\n",
       "      <th>datetime</th>\n",
       "      <th></th>\n",
       "    </tr>\n",
       "  </thead>\n",
       "  <tbody>\n",
       "    <tr>\n",
       "      <th>2018-03-01 00:00:00</th>\n",
       "      <td>9</td>\n",
       "    </tr>\n",
       "    <tr>\n",
       "      <th>2018-03-01 00:10:00</th>\n",
       "      <td>14</td>\n",
       "    </tr>\n",
       "    <tr>\n",
       "      <th>2018-03-01 00:20:00</th>\n",
       "      <td>28</td>\n",
       "    </tr>\n",
       "    <tr>\n",
       "      <th>2018-03-01 00:30:00</th>\n",
       "      <td>20</td>\n",
       "    </tr>\n",
       "    <tr>\n",
       "      <th>2018-03-01 00:40:00</th>\n",
       "      <td>32</td>\n",
       "    </tr>\n",
       "  </tbody>\n",
       "</table>\n",
       "</div>"
      ],
      "text/plain": [
       "                     num_orders\n",
       "datetime                       \n",
       "2018-03-01 00:00:00           9\n",
       "2018-03-01 00:10:00          14\n",
       "2018-03-01 00:20:00          28\n",
       "2018-03-01 00:30:00          20\n",
       "2018-03-01 00:40:00          32"
      ]
     },
     "execution_count": 3,
     "metadata": {},
     "output_type": "execute_result"
    }
   ],
   "source": [
    "data.head()"
   ]
  },
  {
   "cell_type": "markdown",
   "id": "0c0cd58c",
   "metadata": {},
   "source": [
    "Видим, что у нас данные агрегированы по десятиминуткам. Теперь посмотрим информацию о датафрейме."
   ]
  },
  {
   "cell_type": "code",
   "execution_count": 4,
   "id": "957369bf",
   "metadata": {},
   "outputs": [
    {
     "name": "stdout",
     "output_type": "stream",
     "text": [
      "<class 'pandas.core.frame.DataFrame'>\n",
      "DatetimeIndex: 26496 entries, 2018-03-01 00:00:00 to 2018-08-31 23:50:00\n",
      "Data columns (total 1 columns):\n",
      " #   Column      Non-Null Count  Dtype\n",
      "---  ------      --------------  -----\n",
      " 0   num_orders  26496 non-null  int64\n",
      "dtypes: int64(1)\n",
      "memory usage: 414.0 KB\n"
     ]
    }
   ],
   "source": [
    "data.info()"
   ]
  },
  {
   "cell_type": "markdown",
   "id": "7cdac6e9",
   "metadata": {},
   "source": [
    "## 2. Анализ данных"
   ]
  },
  {
   "cell_type": "markdown",
   "id": "c2540dc8",
   "metadata": {},
   "source": [
    "Мы помним, что данные начинаются с 1 марта 2018, теперь посмотрим, когда они заканчиваются."
   ]
  },
  {
   "cell_type": "code",
   "execution_count": 5,
   "id": "2f2f5aac",
   "metadata": {},
   "outputs": [
    {
     "data": {
      "text/plain": [
       "Timestamp('2018-08-31 23:50:00')"
      ]
     },
     "execution_count": 5,
     "metadata": {},
     "output_type": "execute_result"
    }
   ],
   "source": [
    "data.last_valid_index()"
   ]
  },
  {
   "cell_type": "markdown",
   "id": "bb36acbe",
   "metadata": {},
   "source": [
    "Итак, датафрейм с 01.03.2018 - 31.08.2018."
   ]
  },
  {
   "cell_type": "markdown",
   "id": "194829ae",
   "metadata": {},
   "source": [
    "Проверим данные на монотонность."
   ]
  },
  {
   "cell_type": "code",
   "execution_count": 6,
   "id": "2527b417",
   "metadata": {},
   "outputs": [
    {
     "data": {
      "text/plain": [
       "True"
      ]
     },
     "execution_count": 6,
     "metadata": {},
     "output_type": "execute_result"
    }
   ],
   "source": [
    "data.index.is_monotonic"
   ]
  },
  {
   "cell_type": "markdown",
   "id": "5a0f4e0b",
   "metadata": {},
   "source": [
    "С монотонностью все ок.\n",
    "<br>\n",
    "Посмотрим на графическое представление данных."
   ]
  },
  {
   "cell_type": "code",
   "execution_count": 7,
   "id": "d4fb0d17",
   "metadata": {
    "scrolled": false
   },
   "outputs": [
    {
     "data": {
      "image/png": "[encoded data removed]",
      "text/plain": [
       "<Figure size 432x288 with 1 Axes>"
      ]
     },
     "metadata": {
      "needs_background": "light"
     },
     "output_type": "display_data"
    }
   ],
   "source": [
    "data.plot()\n",
    "plt.xlabel('Дата')\n",
    "plt.ylabel('Количество заказов')\n",
    "plt.title('Число заказов такси с марта по апрель 2018 за каждые 10 минут')\n",
    "plt.legend(['Количество заказов'])\n",
    "plt.show()"
   ]
  },
  {
   "cell_type": "markdown",
   "id": "b16c87c4",
   "metadata": {},
   "source": [
    "Видим, что график малоинформативный, очень много колебаний. Неудивительно, ведь у нас данные нересемплированы. Сейчас можно сделать вывод, что мы имем дело с нестационарным процессом, так как на графике заметно увеличение среднего. А возможно, это изменение коридоров для стандартного отклонения. В дальнейшем при рассмотрении ситуации по сезонам, когда разделим данные на дни, мы сможем выделить какие-то особенности, а пока посмотрим на гистограмму данных."
   ]
  },
  {
   "cell_type": "code",
   "execution_count": 8,
   "id": "ba279997",
   "metadata": {},
   "outputs": [
    {
     "data": {
      "image/png": "[encoded data removed]",
      "text/plain": [
       "<Figure size 432x288 with 1 Axes>"
      ]
     },
     "metadata": {
      "needs_background": "light"
     },
     "output_type": "display_data"
    }
   ],
   "source": [
    "data.plot(kind='hist', bins=50)\n",
    "plt.xlabel('Количество заказов')\n",
    "plt.ylabel('Частота встречаемости')\n",
    "plt.title('Количество заказов такси с марта по август 2018 за кадые 10 минут')\n",
    "plt.legend(['Количество заказов'])\n",
    "plt.show()"
   ]
  },
  {
   "cell_type": "markdown",
   "id": "6f9a6c7a",
   "metadata": {},
   "source": [
    "Видим, что распределение достаточно адекватное, близко к нормальному. Существует тянующийся хвост в область большого количества заказов. На мой взгляд, это нормально, бывает же, когда час-пик."
   ]
  },
  {
   "cell_type": "code",
   "execution_count": 9,
   "id": "83dd51cf",
   "metadata": {
    "scrolled": true
   },
   "outputs": [
    {
     "data": {
      "text/html": [
       "<div>\n",
       "<style scoped>\n",
       "    .dataframe tbody tr th:only-of-type {\n",
       "        vertical-align: middle;\n",
       "    }\n",
       "\n",
       "    .dataframe tbody tr th {\n",
       "        vertical-align: top;\n",
       "    }\n",
       "\n",
       "    .dataframe thead th {\n",
       "        text-align: right;\n",
       "    }\n",
       "</style>\n",
       "<table border=\"1\" class=\"dataframe\">\n",
       "  <thead>\n",
       "    <tr style=\"text-align: right;\">\n",
       "      <th></th>\n",
       "      <th>num_orders</th>\n",
       "    </tr>\n",
       "    <tr>\n",
       "      <th>datetime</th>\n",
       "      <th></th>\n",
       "    </tr>\n",
       "  </thead>\n",
       "  <tbody>\n",
       "    <tr>\n",
       "      <th>2018-03-05 01:00:00</th>\n",
       "      <td>42</td>\n",
       "    </tr>\n",
       "    <tr>\n",
       "      <th>2018-03-24 00:50:00</th>\n",
       "      <td>56</td>\n",
       "    </tr>\n",
       "    <tr>\n",
       "      <th>2018-04-23 00:50:00</th>\n",
       "      <td>45</td>\n",
       "    </tr>\n",
       "    <tr>\n",
       "      <th>2018-04-24 00:10:00</th>\n",
       "      <td>49</td>\n",
       "    </tr>\n",
       "    <tr>\n",
       "      <th>2018-04-24 00:20:00</th>\n",
       "      <td>58</td>\n",
       "    </tr>\n",
       "    <tr>\n",
       "      <th>2018-04-24 00:30:00</th>\n",
       "      <td>68</td>\n",
       "    </tr>\n",
       "    <tr>\n",
       "      <th>2018-04-28 00:30:00</th>\n",
       "      <td>42</td>\n",
       "    </tr>\n",
       "    <tr>\n",
       "      <th>2018-05-03 00:40:00</th>\n",
       "      <td>43</td>\n",
       "    </tr>\n",
       "    <tr>\n",
       "      <th>2018-05-03 00:50:00</th>\n",
       "      <td>42</td>\n",
       "    </tr>\n",
       "    <tr>\n",
       "      <th>2018-05-07 02:10:00</th>\n",
       "      <td>53</td>\n",
       "    </tr>\n",
       "    <tr>\n",
       "      <th>2018-05-12 02:10:00</th>\n",
       "      <td>44</td>\n",
       "    </tr>\n",
       "    <tr>\n",
       "      <th>2018-05-14 01:50:00</th>\n",
       "      <td>41</td>\n",
       "    </tr>\n",
       "    <tr>\n",
       "      <th>2018-05-14 02:00:00</th>\n",
       "      <td>56</td>\n",
       "    </tr>\n",
       "    <tr>\n",
       "      <th>2018-05-18 22:40:00</th>\n",
       "      <td>42</td>\n",
       "    </tr>\n",
       "    <tr>\n",
       "      <th>2018-05-18 23:50:00</th>\n",
       "      <td>49</td>\n",
       "    </tr>\n",
       "    <tr>\n",
       "      <th>2018-05-19 00:00:00</th>\n",
       "      <td>49</td>\n",
       "    </tr>\n",
       "    <tr>\n",
       "      <th>2018-05-19 00:10:00</th>\n",
       "      <td>43</td>\n",
       "    </tr>\n",
       "    <tr>\n",
       "      <th>2018-05-19 00:20:00</th>\n",
       "      <td>52</td>\n",
       "    </tr>\n",
       "    <tr>\n",
       "      <th>2018-05-21 02:10:00</th>\n",
       "      <td>42</td>\n",
       "    </tr>\n",
       "    <tr>\n",
       "      <th>2018-05-25 02:10:00</th>\n",
       "      <td>44</td>\n",
       "    </tr>\n",
       "  </tbody>\n",
       "</table>\n",
       "</div>"
      ],
      "text/plain": [
       "                     num_orders\n",
       "datetime                       \n",
       "2018-03-05 01:00:00          42\n",
       "2018-03-24 00:50:00          56\n",
       "2018-04-23 00:50:00          45\n",
       "2018-04-24 00:10:00          49\n",
       "2018-04-24 00:20:00          58\n",
       "2018-04-24 00:30:00          68\n",
       "2018-04-28 00:30:00          42\n",
       "2018-05-03 00:40:00          43\n",
       "2018-05-03 00:50:00          42\n",
       "2018-05-07 02:10:00          53\n",
       "2018-05-12 02:10:00          44\n",
       "2018-05-14 01:50:00          41\n",
       "2018-05-14 02:00:00          56\n",
       "2018-05-18 22:40:00          42\n",
       "2018-05-18 23:50:00          49\n",
       "2018-05-19 00:00:00          49\n",
       "2018-05-19 00:10:00          43\n",
       "2018-05-19 00:20:00          52\n",
       "2018-05-21 02:10:00          42\n",
       "2018-05-25 02:10:00          44"
      ]
     },
     "execution_count": 9,
     "metadata": {},
     "output_type": "execute_result"
    }
   ],
   "source": [
    "data[data['num_orders'] > 40].head(20)"
   ]
  },
  {
   "cell_type": "markdown",
   "id": "2f2295d2",
   "metadata": {},
   "source": [
    "На самом деле, я оказался неправ, видим, что бОльшее число заказов характерно для позднего вечера и ночи, когда перестает работать общественный транспорт. Теперь оценим, есть ли часы с нулевыми заказами."
   ]
  },
  {
   "cell_type": "code",
   "execution_count": 10,
   "id": "63934085",
   "metadata": {
    "scrolled": true
   },
   "outputs": [
    {
     "data": {
      "text/html": [
       "<div>\n",
       "<style scoped>\n",
       "    .dataframe tbody tr th:only-of-type {\n",
       "        vertical-align: middle;\n",
       "    }\n",
       "\n",
       "    .dataframe tbody tr th {\n",
       "        vertical-align: top;\n",
       "    }\n",
       "\n",
       "    .dataframe thead th {\n",
       "        text-align: right;\n",
       "    }\n",
       "</style>\n",
       "<table border=\"1\" class=\"dataframe\">\n",
       "  <thead>\n",
       "    <tr style=\"text-align: right;\">\n",
       "      <th></th>\n",
       "      <th>num_orders</th>\n",
       "    </tr>\n",
       "    <tr>\n",
       "      <th>datetime</th>\n",
       "      <th></th>\n",
       "    </tr>\n",
       "  </thead>\n",
       "  <tbody>\n",
       "    <tr>\n",
       "      <th>2018-03-01 05:20:00</th>\n",
       "      <td>0</td>\n",
       "    </tr>\n",
       "    <tr>\n",
       "      <th>2018-03-01 05:40:00</th>\n",
       "      <td>0</td>\n",
       "    </tr>\n",
       "    <tr>\n",
       "      <th>2018-03-01 05:50:00</th>\n",
       "      <td>0</td>\n",
       "    </tr>\n",
       "    <tr>\n",
       "      <th>2018-03-01 06:00:00</th>\n",
       "      <td>0</td>\n",
       "    </tr>\n",
       "    <tr>\n",
       "      <th>2018-03-01 06:10:00</th>\n",
       "      <td>0</td>\n",
       "    </tr>\n",
       "    <tr>\n",
       "      <th>...</th>\n",
       "      <td>...</td>\n",
       "    </tr>\n",
       "    <tr>\n",
       "      <th>2018-08-24 05:50:00</th>\n",
       "      <td>0</td>\n",
       "    </tr>\n",
       "    <tr>\n",
       "      <th>2018-08-26 05:40:00</th>\n",
       "      <td>0</td>\n",
       "    </tr>\n",
       "    <tr>\n",
       "      <th>2018-08-29 07:00:00</th>\n",
       "      <td>0</td>\n",
       "    </tr>\n",
       "    <tr>\n",
       "      <th>2018-08-30 06:10:00</th>\n",
       "      <td>0</td>\n",
       "    </tr>\n",
       "    <tr>\n",
       "      <th>2018-08-30 06:20:00</th>\n",
       "      <td>0</td>\n",
       "    </tr>\n",
       "  </tbody>\n",
       "</table>\n",
       "<p>537 rows × 1 columns</p>\n",
       "</div>"
      ],
      "text/plain": [
       "                     num_orders\n",
       "datetime                       \n",
       "2018-03-01 05:20:00           0\n",
       "2018-03-01 05:40:00           0\n",
       "2018-03-01 05:50:00           0\n",
       "2018-03-01 06:00:00           0\n",
       "2018-03-01 06:10:00           0\n",
       "...                         ...\n",
       "2018-08-24 05:50:00           0\n",
       "2018-08-26 05:40:00           0\n",
       "2018-08-29 07:00:00           0\n",
       "2018-08-30 06:10:00           0\n",
       "2018-08-30 06:20:00           0\n",
       "\n",
       "[537 rows x 1 columns]"
      ]
     },
     "execution_count": 10,
     "metadata": {},
     "output_type": "execute_result"
    }
   ],
   "source": [
    "data[data['num_orders'] == 0]"
   ]
  },
  {
   "cell_type": "markdown",
   "id": "942455a1",
   "metadata": {},
   "source": [
    "Есть много строк с нулевым количеством заказов. Это вполне вероятно, так как время - раннее утро."
   ]
  },
  {
   "cell_type": "markdown",
   "id": "d3ff7deb",
   "metadata": {},
   "source": [
    "### 2.1. Тренды/сезонность. Ресемплирование по дням"
   ]
  },
  {
   "cell_type": "markdown",
   "id": "465b3333",
   "metadata": {},
   "source": [
    "Теперь посмотрим на тренды и сезонность. Для этого сначала ресемплируем данные по одному дню."
   ]
  },
  {
   "cell_type": "code",
   "execution_count": 11,
   "id": "c65b0ff9",
   "metadata": {},
   "outputs": [
    {
     "data": {
      "text/html": [
       "<div>\n",
       "<style scoped>\n",
       "    .dataframe tbody tr th:only-of-type {\n",
       "        vertical-align: middle;\n",
       "    }\n",
       "\n",
       "    .dataframe tbody tr th {\n",
       "        vertical-align: top;\n",
       "    }\n",
       "\n",
       "    .dataframe thead th {\n",
       "        text-align: right;\n",
       "    }\n",
       "</style>\n",
       "<table border=\"1\" class=\"dataframe\">\n",
       "  <thead>\n",
       "    <tr style=\"text-align: right;\">\n",
       "      <th></th>\n",
       "      <th>num_orders</th>\n",
       "    </tr>\n",
       "    <tr>\n",
       "      <th>datetime</th>\n",
       "      <th></th>\n",
       "    </tr>\n",
       "  </thead>\n",
       "  <tbody>\n",
       "    <tr>\n",
       "      <th>2018-03-01</th>\n",
       "      <td>1364</td>\n",
       "    </tr>\n",
       "    <tr>\n",
       "      <th>2018-03-02</th>\n",
       "      <td>1506</td>\n",
       "    </tr>\n",
       "    <tr>\n",
       "      <th>2018-03-03</th>\n",
       "      <td>1290</td>\n",
       "    </tr>\n",
       "    <tr>\n",
       "      <th>2018-03-04</th>\n",
       "      <td>1141</td>\n",
       "    </tr>\n",
       "    <tr>\n",
       "      <th>2018-03-05</th>\n",
       "      <td>1259</td>\n",
       "    </tr>\n",
       "  </tbody>\n",
       "</table>\n",
       "</div>"
      ],
      "text/plain": [
       "            num_orders\n",
       "datetime              \n",
       "2018-03-01        1364\n",
       "2018-03-02        1506\n",
       "2018-03-03        1290\n",
       "2018-03-04        1141\n",
       "2018-03-05        1259"
      ]
     },
     "execution_count": 11,
     "metadata": {},
     "output_type": "execute_result"
    }
   ],
   "source": [
    "data_daily = data.resample('1D').sum()\n",
    "data_daily.head()"
   ]
  },
  {
   "cell_type": "code",
   "execution_count": 12,
   "id": "0a618fb6",
   "metadata": {},
   "outputs": [
    {
     "data": {
      "image/png": "[encoded data removed]",
      "text/plain": [
       "<Figure size 432x288 with 1 Axes>"
      ]
     },
     "metadata": {
      "needs_background": "light"
     },
     "output_type": "display_data"
    }
   ],
   "source": [
    "seasonal_decompose(data_daily['num_orders']).seasonal.plot()\n",
    "plt.xlabel('Дата')\n",
    "plt.title('Cезонная составляющая по месяцам с марта по август 2018\\n разбивка по дням')\n",
    "plt.show()"
   ]
  },
  {
   "cell_type": "markdown",
   "id": "ae687850",
   "metadata": {},
   "source": [
    "Видим, что информация по сезонности внутри одного месяца является малополезной. Внутри месяца есть высокие и низкие сезоны. Теперь глянем на тренд."
   ]
  },
  {
   "cell_type": "code",
   "execution_count": 13,
   "id": "b7fc8794",
   "metadata": {},
   "outputs": [
    {
     "data": {
      "image/png": "[encoded data removed]",
      "text/plain": [
       "<Figure size 432x288 with 1 Axes>"
      ]
     },
     "metadata": {
      "needs_background": "light"
     },
     "output_type": "display_data"
    }
   ],
   "source": [
    "seasonal_decompose(data_daily['num_orders']).trend.plot()\n",
    "plt.xlabel('Дата')\n",
    "plt.title('Тренд изменения количества заказов такси с марта по август 2018\\n разбивка по дням')\n",
    "plt.show()"
   ]
  },
  {
   "cell_type": "markdown",
   "id": "d76c6667",
   "metadata": {},
   "source": [
    "Здесь мы видим, что количество поездок увеличивается от начала года к концу лета. Интересная ситуация, не знаю, как это можно интерпретировать, но статистический факт - штука железная."
   ]
  },
  {
   "cell_type": "markdown",
   "id": "06e5588a",
   "metadata": {},
   "source": [
    "Теперь посмотрим, как зависит количество заказов от дня недели."
   ]
  },
  {
   "cell_type": "code",
   "execution_count": 15,
   "id": "5d2f4e99",
   "metadata": {},
   "outputs": [
    {
     "data": {
      "text/html": [
       "<div>\n",
       "<style scoped>\n",
       "    .dataframe tbody tr th:only-of-type {\n",
       "        vertical-align: middle;\n",
       "    }\n",
       "\n",
       "    .dataframe tbody tr th {\n",
       "        vertical-align: top;\n",
       "    }\n",
       "\n",
       "    .dataframe thead th {\n",
       "        text-align: right;\n",
       "    }\n",
       "</style>\n",
       "<table border=\"1\" class=\"dataframe\">\n",
       "  <thead>\n",
       "    <tr style=\"text-align: right;\">\n",
       "      <th></th>\n",
       "      <th>num_orders</th>\n",
       "      <th>dayofweek</th>\n",
       "    </tr>\n",
       "    <tr>\n",
       "      <th>datetime</th>\n",
       "      <th></th>\n",
       "      <th></th>\n",
       "    </tr>\n",
       "  </thead>\n",
       "  <tbody>\n",
       "    <tr>\n",
       "      <th>2018-03-01</th>\n",
       "      <td>1364</td>\n",
       "      <td>3</td>\n",
       "    </tr>\n",
       "    <tr>\n",
       "      <th>2018-03-02</th>\n",
       "      <td>1506</td>\n",
       "      <td>4</td>\n",
       "    </tr>\n",
       "    <tr>\n",
       "      <th>2018-03-03</th>\n",
       "      <td>1290</td>\n",
       "      <td>5</td>\n",
       "    </tr>\n",
       "    <tr>\n",
       "      <th>2018-03-04</th>\n",
       "      <td>1141</td>\n",
       "      <td>6</td>\n",
       "    </tr>\n",
       "    <tr>\n",
       "      <th>2018-03-05</th>\n",
       "      <td>1259</td>\n",
       "      <td>0</td>\n",
       "    </tr>\n",
       "  </tbody>\n",
       "</table>\n",
       "</div>"
      ],
      "text/plain": [
       "            num_orders  dayofweek\n",
       "datetime                         \n",
       "2018-03-01        1364          3\n",
       "2018-03-02        1506          4\n",
       "2018-03-03        1290          5\n",
       "2018-03-04        1141          6\n",
       "2018-03-05        1259          0"
      ]
     },
     "execution_count": 15,
     "metadata": {},
     "output_type": "execute_result"
    }
   ],
   "source": [
    "data_daily['dayofweek'] = data_daily.index.dayofweek\n",
    "data_daily.head()"
   ]
  },
  {
   "cell_type": "markdown",
   "id": "8c763dab",
   "metadata": {},
   "source": [
    "Построим график распределения заказов для Апреля 2018."
   ]
  },
  {
   "cell_type": "code",
   "execution_count": 16,
   "id": "43ff4985",
   "metadata": {
    "scrolled": true
   },
   "outputs": [
    {
     "data": {
      "image/png": "[encoded data removed]",
      "text/plain": [
       "<Figure size 288x144 with 1 Axes>"
      ]
     },
     "metadata": {
      "needs_background": "light"
     },
     "output_type": "display_data"
    }
   ],
   "source": [
    "data_march = data_daily['2018-04':'2018-04']\n",
    "seasonal_decompose(data_march['dayofweek']).seasonal.plot(figsize=(4,2))\n",
    "plt.xlabel('День месяца')\n",
    "plt.title('Сезонная составляющая количества заказов такси в апреле 2018\\n разбивка по дням')\n",
    "plt.show()"
   ]
  },
  {
   "cell_type": "markdown",
   "id": "87e52abf",
   "metadata": {},
   "source": [
    "Очевидно, что к концу недели число заказов увеличивается, так как 2 апреля 2018 года - это понедельник."
   ]
  },
  {
   "cell_type": "markdown",
   "id": "1374111e",
   "metadata": {},
   "source": [
    "\n",
    "\n",
    "### 2.2. Тренды/сезонность. Ресемплирование по часам"
   ]
  },
  {
   "cell_type": "markdown",
   "id": "a1e128ab",
   "metadata": {},
   "source": [
    "Теперь посмотрим на распределение заказов в течение дня с разбивкой по часам."
   ]
  },
  {
   "cell_type": "code",
   "execution_count": 17,
   "id": "40cfe57d",
   "metadata": {},
   "outputs": [
    {
     "data": {
      "text/html": [
       "<div>\n",
       "<style scoped>\n",
       "    .dataframe tbody tr th:only-of-type {\n",
       "        vertical-align: middle;\n",
       "    }\n",
       "\n",
       "    .dataframe tbody tr th {\n",
       "        vertical-align: top;\n",
       "    }\n",
       "\n",
       "    .dataframe thead th {\n",
       "        text-align: right;\n",
       "    }\n",
       "</style>\n",
       "<table border=\"1\" class=\"dataframe\">\n",
       "  <thead>\n",
       "    <tr style=\"text-align: right;\">\n",
       "      <th></th>\n",
       "      <th>num_orders</th>\n",
       "    </tr>\n",
       "    <tr>\n",
       "      <th>datetime</th>\n",
       "      <th></th>\n",
       "    </tr>\n",
       "  </thead>\n",
       "  <tbody>\n",
       "    <tr>\n",
       "      <th>2018-03-01 00:00:00</th>\n",
       "      <td>124</td>\n",
       "    </tr>\n",
       "    <tr>\n",
       "      <th>2018-03-01 01:00:00</th>\n",
       "      <td>85</td>\n",
       "    </tr>\n",
       "    <tr>\n",
       "      <th>2018-03-01 02:00:00</th>\n",
       "      <td>71</td>\n",
       "    </tr>\n",
       "    <tr>\n",
       "      <th>2018-03-01 03:00:00</th>\n",
       "      <td>66</td>\n",
       "    </tr>\n",
       "    <tr>\n",
       "      <th>2018-03-01 04:00:00</th>\n",
       "      <td>43</td>\n",
       "    </tr>\n",
       "  </tbody>\n",
       "</table>\n",
       "</div>"
      ],
      "text/plain": [
       "                     num_orders\n",
       "datetime                       \n",
       "2018-03-01 00:00:00         124\n",
       "2018-03-01 01:00:00          85\n",
       "2018-03-01 02:00:00          71\n",
       "2018-03-01 03:00:00          66\n",
       "2018-03-01 04:00:00          43"
      ]
     },
     "execution_count": 17,
     "metadata": {},
     "output_type": "execute_result"
    }
   ],
   "source": [
    "data_hour = data.resample('1H').sum()\n",
    "data_hour.head()"
   ]
  },
  {
   "cell_type": "code",
   "execution_count": 18,
   "id": "b70bea8d",
   "metadata": {},
   "outputs": [
    {
     "data": {
      "image/png": "[encoded data removed]",
      "text/plain": [
       "<Figure size 432x216 with 1 Axes>"
      ]
     },
     "metadata": {
      "needs_background": "light"
     },
     "output_type": "display_data"
    }
   ],
   "source": [
    "data_hour_slice = data_hour['2018-04-01':'2018-04-03'] # берем срез на начала апреля - это сб, вск и пн.\n",
    "seasonal_decompose(data_hour_slice['num_orders']).seasonal.plot(figsize=(6,3)) # смотрим на сезонность\n",
    "plt.xlabel('День и время')\n",
    "plt.title('Сезонная составляющая количества заказов такси с 1 по 3 апреля 2018\\n разбивка по часам')\n",
    "plt.show()"
   ]
  },
  {
   "cell_type": "markdown",
   "id": "eaa3690b",
   "metadata": {},
   "source": [
    "Здесь видим, что максимальное количество заказов наблюдается около полуночи. Есть всплески ближе к обеденному времени и времени ухода с работы. Все логично."
   ]
  },
  {
   "cell_type": "markdown",
   "id": "68255916",
   "metadata": {},
   "source": [
    "**Вывод по этапу анализа данных:**\n",
    "<br>\n",
    "Анализ данных показал, что существует уввеличение заказов:\n",
    "- к осени;\n",
    "- к концу недели; \n",
    "- к концу суток."
   ]
  },
  {
   "cell_type": "markdown",
   "id": "a3b3a8ec",
   "metadata": {},
   "source": [
    "## 3. Обучение моделей"
   ]
  },
  {
   "cell_type": "markdown",
   "id": "ce534dde",
   "metadata": {},
   "source": [
    "\n",
    "Пока наша таблица с ресемплированием данных по часам не является полезной для машинного обучения. Нужно создать дополнительные признаки. Это будут год, месяц, день, день недели, скользящее среднее и отстающие значения (лаг). Сделаем для этого функцию. При этом сделаем так, чтобы можно было менять в функции выше указанные параметры."
   ]
  },
  {
   "cell_type": "code",
   "execution_count": 19,
   "id": "622dd2bb",
   "metadata": {},
   "outputs": [],
   "source": [
    "def make_features(data, max_lag, rolling_mean_size):\n",
    "    data['hour'] = data.index.hour\n",
    "    data['day'] = data.index.day\n",
    "    data['dayofweek'] = data.index.dayofweek\n",
    "    \n",
    "    for lag in range(1, max_lag + 1):\n",
    "        data['lag_{}'.format(lag)] = data['num_orders'].shift(lag)\n",
    "\n",
    "    data['rolling_mean'] = data['num_orders'].shift().rolling(rolling_mean_size).mean()"
   ]
  },
  {
   "cell_type": "markdown",
   "id": "7099dde4",
   "metadata": {},
   "source": [
    "Создадим признаки, ипользуя функцию. Пускай будет 24 лага, сколько в сутках часов."
   ]
  },
  {
   "cell_type": "code",
   "execution_count": 20,
   "id": "c02761a2",
   "metadata": {},
   "outputs": [],
   "source": [
    "make_features(data_hour, 24, 6)"
   ]
  },
  {
   "cell_type": "code",
   "execution_count": 21,
   "id": "99e356bd",
   "metadata": {
    "scrolled": true
   },
   "outputs": [
    {
     "data": {
      "text/html": [
       "<div>\n",
       "<style scoped>\n",
       "    .dataframe tbody tr th:only-of-type {\n",
       "        vertical-align: middle;\n",
       "    }\n",
       "\n",
       "    .dataframe tbody tr th {\n",
       "        vertical-align: top;\n",
       "    }\n",
       "\n",
       "    .dataframe thead th {\n",
       "        text-align: right;\n",
       "    }\n",
       "</style>\n",
       "<table border=\"1\" class=\"dataframe\">\n",
       "  <thead>\n",
       "    <tr style=\"text-align: right;\">\n",
       "      <th></th>\n",
       "      <th>num_orders</th>\n",
       "      <th>hour</th>\n",
       "      <th>day</th>\n",
       "      <th>dayofweek</th>\n",
       "      <th>lag_1</th>\n",
       "      <th>lag_2</th>\n",
       "      <th>lag_3</th>\n",
       "      <th>lag_4</th>\n",
       "      <th>lag_5</th>\n",
       "      <th>lag_6</th>\n",
       "      <th>...</th>\n",
       "      <th>lag_16</th>\n",
       "      <th>lag_17</th>\n",
       "      <th>lag_18</th>\n",
       "      <th>lag_19</th>\n",
       "      <th>lag_20</th>\n",
       "      <th>lag_21</th>\n",
       "      <th>lag_22</th>\n",
       "      <th>lag_23</th>\n",
       "      <th>lag_24</th>\n",
       "      <th>rolling_mean</th>\n",
       "    </tr>\n",
       "    <tr>\n",
       "      <th>datetime</th>\n",
       "      <th></th>\n",
       "      <th></th>\n",
       "      <th></th>\n",
       "      <th></th>\n",
       "      <th></th>\n",
       "      <th></th>\n",
       "      <th></th>\n",
       "      <th></th>\n",
       "      <th></th>\n",
       "      <th></th>\n",
       "      <th></th>\n",
       "      <th></th>\n",
       "      <th></th>\n",
       "      <th></th>\n",
       "      <th></th>\n",
       "      <th></th>\n",
       "      <th></th>\n",
       "      <th></th>\n",
       "      <th></th>\n",
       "      <th></th>\n",
       "      <th></th>\n",
       "    </tr>\n",
       "  </thead>\n",
       "  <tbody>\n",
       "    <tr>\n",
       "      <th>2018-03-01 00:00:00</th>\n",
       "      <td>124</td>\n",
       "      <td>0</td>\n",
       "      <td>1</td>\n",
       "      <td>3</td>\n",
       "      <td>NaN</td>\n",
       "      <td>NaN</td>\n",
       "      <td>NaN</td>\n",
       "      <td>NaN</td>\n",
       "      <td>NaN</td>\n",
       "      <td>NaN</td>\n",
       "      <td>...</td>\n",
       "      <td>NaN</td>\n",
       "      <td>NaN</td>\n",
       "      <td>NaN</td>\n",
       "      <td>NaN</td>\n",
       "      <td>NaN</td>\n",
       "      <td>NaN</td>\n",
       "      <td>NaN</td>\n",
       "      <td>NaN</td>\n",
       "      <td>NaN</td>\n",
       "      <td>NaN</td>\n",
       "    </tr>\n",
       "    <tr>\n",
       "      <th>2018-03-01 01:00:00</th>\n",
       "      <td>85</td>\n",
       "      <td>1</td>\n",
       "      <td>1</td>\n",
       "      <td>3</td>\n",
       "      <td>124.0</td>\n",
       "      <td>NaN</td>\n",
       "      <td>NaN</td>\n",
       "      <td>NaN</td>\n",
       "      <td>NaN</td>\n",
       "      <td>NaN</td>\n",
       "      <td>...</td>\n",
       "      <td>NaN</td>\n",
       "      <td>NaN</td>\n",
       "      <td>NaN</td>\n",
       "      <td>NaN</td>\n",
       "      <td>NaN</td>\n",
       "      <td>NaN</td>\n",
       "      <td>NaN</td>\n",
       "      <td>NaN</td>\n",
       "      <td>NaN</td>\n",
       "      <td>NaN</td>\n",
       "    </tr>\n",
       "    <tr>\n",
       "      <th>2018-03-01 02:00:00</th>\n",
       "      <td>71</td>\n",
       "      <td>2</td>\n",
       "      <td>1</td>\n",
       "      <td>3</td>\n",
       "      <td>85.0</td>\n",
       "      <td>124.0</td>\n",
       "      <td>NaN</td>\n",
       "      <td>NaN</td>\n",
       "      <td>NaN</td>\n",
       "      <td>NaN</td>\n",
       "      <td>...</td>\n",
       "      <td>NaN</td>\n",
       "      <td>NaN</td>\n",
       "      <td>NaN</td>\n",
       "      <td>NaN</td>\n",
       "      <td>NaN</td>\n",
       "      <td>NaN</td>\n",
       "      <td>NaN</td>\n",
       "      <td>NaN</td>\n",
       "      <td>NaN</td>\n",
       "      <td>NaN</td>\n",
       "    </tr>\n",
       "    <tr>\n",
       "      <th>2018-03-01 03:00:00</th>\n",
       "      <td>66</td>\n",
       "      <td>3</td>\n",
       "      <td>1</td>\n",
       "      <td>3</td>\n",
       "      <td>71.0</td>\n",
       "      <td>85.0</td>\n",
       "      <td>124.0</td>\n",
       "      <td>NaN</td>\n",
       "      <td>NaN</td>\n",
       "      <td>NaN</td>\n",
       "      <td>...</td>\n",
       "      <td>NaN</td>\n",
       "      <td>NaN</td>\n",
       "      <td>NaN</td>\n",
       "      <td>NaN</td>\n",
       "      <td>NaN</td>\n",
       "      <td>NaN</td>\n",
       "      <td>NaN</td>\n",
       "      <td>NaN</td>\n",
       "      <td>NaN</td>\n",
       "      <td>NaN</td>\n",
       "    </tr>\n",
       "    <tr>\n",
       "      <th>2018-03-01 04:00:00</th>\n",
       "      <td>43</td>\n",
       "      <td>4</td>\n",
       "      <td>1</td>\n",
       "      <td>3</td>\n",
       "      <td>66.0</td>\n",
       "      <td>71.0</td>\n",
       "      <td>85.0</td>\n",
       "      <td>124.0</td>\n",
       "      <td>NaN</td>\n",
       "      <td>NaN</td>\n",
       "      <td>...</td>\n",
       "      <td>NaN</td>\n",
       "      <td>NaN</td>\n",
       "      <td>NaN</td>\n",
       "      <td>NaN</td>\n",
       "      <td>NaN</td>\n",
       "      <td>NaN</td>\n",
       "      <td>NaN</td>\n",
       "      <td>NaN</td>\n",
       "      <td>NaN</td>\n",
       "      <td>NaN</td>\n",
       "    </tr>\n",
       "  </tbody>\n",
       "</table>\n",
       "<p>5 rows × 29 columns</p>\n",
       "</div>"
      ],
      "text/plain": [
       "                     num_orders  hour  day  dayofweek  lag_1  lag_2  lag_3  \\\n",
       "datetime                                                                     \n",
       "2018-03-01 00:00:00         124     0    1          3    NaN    NaN    NaN   \n",
       "2018-03-01 01:00:00          85     1    1          3  124.0    NaN    NaN   \n",
       "2018-03-01 02:00:00          71     2    1          3   85.0  124.0    NaN   \n",
       "2018-03-01 03:00:00          66     3    1          3   71.0   85.0  124.0   \n",
       "2018-03-01 04:00:00          43     4    1          3   66.0   71.0   85.0   \n",
       "\n",
       "                     lag_4  lag_5  lag_6  ...  lag_16  lag_17  lag_18  lag_19  \\\n",
       "datetime                                  ...                                   \n",
       "2018-03-01 00:00:00    NaN    NaN    NaN  ...     NaN     NaN     NaN     NaN   \n",
       "2018-03-01 01:00:00    NaN    NaN    NaN  ...     NaN     NaN     NaN     NaN   \n",
       "2018-03-01 02:00:00    NaN    NaN    NaN  ...     NaN     NaN     NaN     NaN   \n",
       "2018-03-01 03:00:00    NaN    NaN    NaN  ...     NaN     NaN     NaN     NaN   \n",
       "2018-03-01 04:00:00  124.0    NaN    NaN  ...     NaN     NaN     NaN     NaN   \n",
       "\n",
       "                     lag_20  lag_21  lag_22  lag_23  lag_24  rolling_mean  \n",
       "datetime                                                                   \n",
       "2018-03-01 00:00:00     NaN     NaN     NaN     NaN     NaN           NaN  \n",
       "2018-03-01 01:00:00     NaN     NaN     NaN     NaN     NaN           NaN  \n",
       "2018-03-01 02:00:00     NaN     NaN     NaN     NaN     NaN           NaN  \n",
       "2018-03-01 03:00:00     NaN     NaN     NaN     NaN     NaN           NaN  \n",
       "2018-03-01 04:00:00     NaN     NaN     NaN     NaN     NaN           NaN  \n",
       "\n",
       "[5 rows x 29 columns]"
      ]
     },
     "execution_count": 21,
     "metadata": {},
     "output_type": "execute_result"
    }
   ],
   "source": [
    "data_hour.head()"
   ]
  },
  {
   "cell_type": "markdown",
   "id": "0e2fbf1f",
   "metadata": {},
   "source": [
    "Посмотрим, с какими параметрами количество заказов больше всего коррелирует."
   ]
  },
  {
   "cell_type": "code",
   "execution_count": 22,
   "id": "56135cb8",
   "metadata": {},
   "outputs": [
    {
     "data": {
      "text/html": [
       "<div>\n",
       "<style scoped>\n",
       "    .dataframe tbody tr th:only-of-type {\n",
       "        vertical-align: middle;\n",
       "    }\n",
       "\n",
       "    .dataframe tbody tr th {\n",
       "        vertical-align: top;\n",
       "    }\n",
       "\n",
       "    .dataframe thead th {\n",
       "        text-align: right;\n",
       "    }\n",
       "</style>\n",
       "<table border=\"1\" class=\"dataframe\">\n",
       "  <thead>\n",
       "    <tr style=\"text-align: right;\">\n",
       "      <th></th>\n",
       "      <th>num_orders</th>\n",
       "      <th>hour</th>\n",
       "      <th>day</th>\n",
       "      <th>dayofweek</th>\n",
       "      <th>lag_1</th>\n",
       "      <th>lag_2</th>\n",
       "      <th>lag_3</th>\n",
       "      <th>lag_4</th>\n",
       "      <th>lag_5</th>\n",
       "      <th>lag_6</th>\n",
       "      <th>lag_7</th>\n",
       "      <th>lag_8</th>\n",
       "      <th>lag_9</th>\n",
       "      <th>lag_10</th>\n",
       "      <th>lag_11</th>\n",
       "      <th>lag_12</th>\n",
       "      <th>lag_13</th>\n",
       "      <th>lag_14</th>\n",
       "      <th>lag_15</th>\n",
       "      <th>lag_16</th>\n",
       "      <th>lag_17</th>\n",
       "      <th>lag_18</th>\n",
       "      <th>lag_19</th>\n",
       "      <th>lag_20</th>\n",
       "      <th>lag_21</th>\n",
       "      <th>lag_22</th>\n",
       "      <th>lag_23</th>\n",
       "      <th>lag_24</th>\n",
       "      <th>rolling_mean</th>\n",
       "    </tr>\n",
       "  </thead>\n",
       "  <tbody>\n",
       "    <tr>\n",
       "      <th>num_orders</th>\n",
       "      <td>1.0</td>\n",
       "      <td>0.0</td>\n",
       "      <td>0.17</td>\n",
       "      <td>-0.02</td>\n",
       "      <td>0.62</td>\n",
       "      <td>0.47</td>\n",
       "      <td>0.32</td>\n",
       "      <td>0.25</td>\n",
       "      <td>0.23</td>\n",
       "      <td>0.24</td>\n",
       "      <td>0.29</td>\n",
       "      <td>0.31</td>\n",
       "      <td>0.27</td>\n",
       "      <td>0.26</td>\n",
       "      <td>0.32</td>\n",
       "      <td>0.33</td>\n",
       "      <td>0.31</td>\n",
       "      <td>0.26</td>\n",
       "      <td>0.24</td>\n",
       "      <td>0.27</td>\n",
       "      <td>0.26</td>\n",
       "      <td>0.21</td>\n",
       "      <td>0.2</td>\n",
       "      <td>0.22</td>\n",
       "      <td>0.27</td>\n",
       "      <td>0.41</td>\n",
       "      <td>0.56</td>\n",
       "      <td>0.69</td>\n",
       "      <td>0.48</td>\n",
       "    </tr>\n",
       "  </tbody>\n",
       "</table>\n",
       "</div>"
      ],
      "text/plain": [
       "            num_orders  hour   day  dayofweek  lag_1  lag_2  lag_3  lag_4  \\\n",
       "num_orders         1.0   0.0  0.17      -0.02   0.62   0.47   0.32   0.25   \n",
       "\n",
       "            lag_5  lag_6  lag_7  lag_8  lag_9  lag_10  lag_11  lag_12  lag_13  \\\n",
       "num_orders   0.23   0.24   0.29   0.31   0.27    0.26    0.32    0.33    0.31   \n",
       "\n",
       "            lag_14  lag_15  lag_16  lag_17  lag_18  lag_19  lag_20  lag_21  \\\n",
       "num_orders    0.26    0.24    0.27    0.26    0.21     0.2    0.22    0.27   \n",
       "\n",
       "            lag_22  lag_23  lag_24  rolling_mean  \n",
       "num_orders    0.41    0.56    0.69          0.48  "
      ]
     },
     "execution_count": 22,
     "metadata": {},
     "output_type": "execute_result"
    }
   ],
   "source": [
    "pd.set_option('display.max_columns', None)\n",
    "data_hour.corr().round(2).head(1)"
   ]
  },
  {
   "cell_type": "markdown",
   "id": "642ea7b0",
   "metadata": {},
   "source": [
    "Итак есть средняя корреляция (0.5 - 0.7) с месяцем, лагами 1, 23 и 24 ч. "
   ]
  },
  {
   "cell_type": "markdown",
   "id": "4cbe31fb",
   "metadata": {},
   "source": [
    "Разделим выборку на обучающую и тестовую. Не забудем сделать так, чтобы она не перемешивалась, так как важно, чтобы тест был на более поздних данных. Так как мы сделали отстающие значения, то в первых 24 ячейках будут данные формата None. Их нужно будет исключить из обучающей выборки. Создадим в выборках обычные признаки и целевой."
   ]
  },
  {
   "cell_type": "code",
   "execution_count": 63,
   "id": "026ec80c",
   "metadata": {},
   "outputs": [],
   "source": [
    "train, test = train_test_split(data_hour, test_size=0.1, shuffle=False)\n",
    "\n",
    "train = train.dropna()\n",
    "\n",
    "features_train = train.drop('num_orders', axis=1)\n",
    "features_test = test.drop('num_orders', axis=1)\n",
    "\n",
    "target_train = train['num_orders']\n",
    "target_test = test['num_orders']"
   ]
  },
  {
   "cell_type": "code",
   "execution_count": 65,
   "id": "f6cbb1eb",
   "metadata": {},
   "outputs": [
    {
     "name": "stdout",
     "output_type": "stream",
     "text": [
      "(3950, 28) (3950,)\n",
      "\n",
      "(442, 28) (442,)\n"
     ]
    }
   ],
   "source": [
    "print(features_train.shape, target_train.shape)\n",
    "print()\n",
    "print(features_test.shape, target_test.shape)"
   ]
  },
  {
   "cell_type": "markdown",
   "id": "492c1c93",
   "metadata": {},
   "source": [
    "Согласно заданию, при обучении мне нужно использовать несколько моделей. Поэтому я буду применять **RandomForestRegressor**, **LinearRegression** и модель градиентного бустинга - **LightGBM**."
   ]
  },
  {
   "cell_type": "markdown",
   "id": "cddb19f5",
   "metadata": {},
   "source": [
    "Для подбора лучших гиперпараметров разных моделей используем **GridSearch**. Вызовем **TimeSeriesSplit**, чтобы при кросс-валидации тестовые индексы были больше трейновых. Метрикой уже будет RMSE. Кстати, создадим для ее вычисления функцию."
   ]
  },
  {
   "cell_type": "code",
   "execution_count": 72,
   "id": "8a417280",
   "metadata": {},
   "outputs": [],
   "source": [
    "def rmse(target, predictions):\n",
    "    mse = mean_squared_error(target, predictions)\n",
    "    return mse**0.5\n",
    "\n",
    "rmse_score = make_scorer(rmse, greater_is_better = False)"
   ]
  },
  {
   "cell_type": "markdown",
   "id": "3b9ba2a7",
   "metadata": {},
   "source": [
    "**RandomForestRegressor**"
   ]
  },
  {
   "cell_type": "code",
   "execution_count": 75,
   "id": "3ace63c3",
   "metadata": {},
   "outputs": [
    {
     "name": "stdout",
     "output_type": "stream",
     "text": [
      "Параметры лучшей модели RandomForestRegressor(max_depth=19, n_estimators=110, random_state=12345)\n",
      "RMSE для лучшей модели RandomForestRegressor: 25.21\n"
     ]
    }
   ],
   "source": [
    "forest = RandomForestRegressor(random_state=12345)\n",
    "    \n",
    "parameters_forest = {'n_estimators': range(80, 120, 10), 'max_depth': range(10, 20)}\n",
    "\n",
    "tscv = TimeSeriesSplit(n_splits=5)\n",
    "    \n",
    "grid_search_forest = GridSearchCV(estimator=forest, param_grid=parameters_forest, scoring=rmse_score, \n",
    "                                  cv=tscv, n_jobs=-1)\n",
    "    \n",
    "grid_search_forest.fit(features_train, target_train)\n",
    "\n",
    "print('Параметры лучшей модели', grid_search_forest.best_estimator_)\n",
    "\n",
    "print('RMSE для лучшей модели RandomForestRegressor:', (grid_search_forest.best_score_*(-1)).round(2))\n"
   ]
  },
  {
   "cell_type": "markdown",
   "id": "d76cdcd0",
   "metadata": {},
   "source": [
    "**LinearRegression**"
   ]
  },
  {
   "cell_type": "code",
   "execution_count": 77,
   "id": "bc9e5ed2",
   "metadata": {},
   "outputs": [
    {
     "name": "stdout",
     "output_type": "stream",
     "text": [
      "RMSE для лучшей модели LinearRegression: 27.15\n"
     ]
    }
   ],
   "source": [
    "linear = LinearRegression()\n",
    "\n",
    "parameters_linear = {}\n",
    "\n",
    "tscv = TimeSeriesSplit(n_splits=5)\n",
    "\n",
    "grid_search_linear = GridSearchCV(estimator=linear, param_grid=parameters_linear, scoring=rmse_score, \\\n",
    "                                            cv=tscv, n_jobs=-1)\n",
    "\n",
    "grid_search_linear.fit(features_train, target_train)\n",
    "\n",
    "print('RMSE для лучшей модели LinearRegression:', (grid_search_linear.best_score_*(-1)).round(2))"
   ]
  },
  {
   "cell_type": "markdown",
   "id": "e343b439",
   "metadata": {},
   "source": [
    "**LGBMRegressor**"
   ]
  },
  {
   "cell_type": "code",
   "execution_count": 80,
   "id": "0e0be509",
   "metadata": {},
   "outputs": [
    {
     "name": "stdout",
     "output_type": "stream",
     "text": [
      "Параметры лучшей модели LGBMRegressor(max_depth=15, num_leaves=200)\n",
      "RMSE для лучшей модели LightGBM: 25.06\n"
     ]
    }
   ],
   "source": [
    "lgbm = lgb.LGBMRegressor()\n",
    "\n",
    "parameters_lgbm = {\n",
    "    'max_depth': [10, 15, 20, 50],\n",
    "    'num_leaves': [50, 100, 200, 300]\n",
    "}\n",
    "\n",
    "tscv = TimeSeriesSplit(n_splits=5)\n",
    "\n",
    "grid_search_lgbm = GridSearchCV(estimator=lgbm, param_grid=parameters_lgbm, scoring=rmse_score, \n",
    "                                cv=tscv, n_jobs=-1)\n",
    "\n",
    "grid_search_lgbm.fit(features_train, target_train)\n",
    "\n",
    "print('Параметры лучшей модели', grid_search_lgbm.best_estimator_)\n",
    "\n",
    "print('RMSE для лучшей модели LightGBM:', (grid_search_lgbm.best_score_*(-1)).round(2))"
   ]
  },
  {
   "cell_type": "markdown",
   "id": "a712911f",
   "metadata": {},
   "source": [
    "**Вывод** по анализу обучения моделей:\n",
    "<br>\n",
    "<br>\n",
    "Модель градиентного бустинга LGBM показала себя лучше всех остальных, ее RMSE=25.06. Хотя и RandomForestRegressor отстает на немного."
   ]
  },
  {
   "cell_type": "markdown",
   "id": "43e090d0",
   "metadata": {},
   "source": [
    "## 4. Тестирование лучшей модели"
   ]
  },
  {
   "cell_type": "markdown",
   "id": "1075462b",
   "metadata": {},
   "source": [
    "Протестируем модель LightGBM, используя тестовую выборку."
   ]
  },
  {
   "cell_type": "code",
   "execution_count": 85,
   "id": "0160c3dd",
   "metadata": {},
   "outputs": [
    {
     "name": "stdout",
     "output_type": "stream",
     "text": [
      "RMSE для лучшей модели LightGBM: 41.27\n"
     ]
    }
   ],
   "source": [
    "predictions_best = grid_search_lgbm.best_estimator_.predict(features_test)\n",
    "\n",
    "print('RMSE для лучшей модели LightGBM:', (mean_squared_error(target_test, predictions_best)**0.5).round(2))"
   ]
  },
  {
   "cell_type": "markdown",
   "id": "b6c7d132",
   "metadata": {},
   "source": [
    "RMSE вполне хорошее, меньше запрошенных 48."
   ]
  },
  {
   "cell_type": "markdown",
   "id": "c4cf313b",
   "metadata": {},
   "source": [
    "## 5. Вывод по проекту"
   ]
  },
  {
   "cell_type": "markdown",
   "id": "5fe0c755",
   "metadata": {},
   "source": [
    "Основной задачей проекта являлось построение модели для компании \"Четенькое такси\", которая способна качественно предсказывать количество заказов клиентов такси на следующий час.\n",
    "\n",
    "Анализ данных показал, что наибольшее число заказов характерно для следующих временных отрезков:\n",
    "- конец лето и осень\n",
    "- конец недели (выходные)\n",
    "- конец суток, самое начало новых суток.\n",
    "\n",
    "Наилучшим образом в машинном обучении показала себя моедель градиентного бустинга. Ее RMSE = 41.27, что намного меньше изначально запрошенного 48.\n"
   ]
  }
 ],
 "metadata": {
  "ExecuteTimeLog": [
   {
    "duration": 2042,
    "start_time": "2023-02-17T18:17:28.658Z"
   },
   {
    "duration": 152,
    "start_time": "2023-02-17T18:17:30.703Z"
   },
   {
    "duration": 0,
    "start_time": "2023-02-17T18:17:30.860Z"
   },
   {
    "duration": 0,
    "start_time": "2023-02-17T18:17:30.861Z"
   },
   {
    "duration": 0,
    "start_time": "2023-02-17T18:17:30.862Z"
   },
   {
    "duration": 0,
    "start_time": "2023-02-17T18:17:30.863Z"
   },
   {
    "duration": 0,
    "start_time": "2023-02-17T18:17:30.864Z"
   },
   {
    "duration": 0,
    "start_time": "2023-02-17T18:17:30.866Z"
   },
   {
    "duration": 0,
    "start_time": "2023-02-17T18:17:30.867Z"
   },
   {
    "duration": 0,
    "start_time": "2023-02-17T18:17:30.869Z"
   },
   {
    "duration": 0,
    "start_time": "2023-02-17T18:17:30.870Z"
   },
   {
    "duration": 0,
    "start_time": "2023-02-17T18:17:30.872Z"
   },
   {
    "duration": 0,
    "start_time": "2023-02-17T18:17:30.873Z"
   },
   {
    "duration": 0,
    "start_time": "2023-02-17T18:17:30.875Z"
   },
   {
    "duration": 155,
    "start_time": "2023-02-17T18:19:33.592Z"
   },
   {
    "duration": 10415,
    "start_time": "2023-02-17T18:20:12.832Z"
   },
   {
    "duration": 1834,
    "start_time": "2023-02-18T15:28:48.327Z"
   },
   {
    "duration": 149,
    "start_time": "2023-02-18T15:28:50.163Z"
   },
   {
    "duration": 11,
    "start_time": "2023-02-18T15:28:50.313Z"
   },
   {
    "duration": 11,
    "start_time": "2023-02-18T15:28:50.325Z"
   },
   {
    "duration": 4,
    "start_time": "2023-02-18T15:28:50.339Z"
   },
   {
    "duration": 4,
    "start_time": "2023-02-18T15:28:50.344Z"
   },
   {
    "duration": 642,
    "start_time": "2023-02-18T15:28:50.350Z"
   },
   {
    "duration": 228,
    "start_time": "2023-02-18T15:28:50.994Z"
   },
   {
    "duration": 8,
    "start_time": "2023-02-18T15:28:51.223Z"
   },
   {
    "duration": 11,
    "start_time": "2023-02-18T15:28:51.232Z"
   },
   {
    "duration": 10,
    "start_time": "2023-02-18T15:28:51.244Z"
   },
   {
    "duration": 221,
    "start_time": "2023-02-18T15:28:51.256Z"
   },
   {
    "duration": 187,
    "start_time": "2023-02-18T15:28:51.479Z"
   },
   {
    "duration": 2043,
    "start_time": "2023-02-18T15:28:51.668Z"
   },
   {
    "duration": 98,
    "start_time": "2023-02-18T15:28:53.713Z"
   },
   {
    "duration": 180,
    "start_time": "2023-02-18T15:28:53.813Z"
   },
   {
    "duration": 16,
    "start_time": "2023-02-18T15:28:53.995Z"
   },
   {
    "duration": 141,
    "start_time": "2023-02-18T15:28:54.012Z"
   },
   {
    "duration": 3,
    "start_time": "2023-02-18T15:28:54.155Z"
   },
   {
    "duration": 21,
    "start_time": "2023-02-18T15:28:54.160Z"
   },
   {
    "duration": 35,
    "start_time": "2023-02-18T15:28:54.183Z"
   },
   {
    "duration": 36,
    "start_time": "2023-02-18T15:28:54.219Z"
   },
   {
    "duration": 133,
    "start_time": "2023-02-18T15:28:54.257Z"
   },
   {
    "duration": 1707,
    "start_time": "2023-02-18T15:29:06.656Z"
   },
   {
    "duration": 225,
    "start_time": "2023-02-18T15:29:35.343Z"
   }
  ],
  "kernelspec": {
   "display_name": "Python 3 (ipykernel)",
   "language": "python",
   "name": "python3"
  },
  "language_info": {
   "codemirror_mode": {
    "name": "ipython",
    "version": 3
   },
   "file_extension": ".py",
   "mimetype": "text/x-python",
   "name": "python",
   "nbconvert_exporter": "python",
   "pygments_lexer": "ipython3",
   "version": "3.8.16"
  },
  "toc": {
   "base_numbering": 1,
   "nav_menu": {},
   "number_sections": true,
   "sideBar": true,
   "skip_h1_title": true,
   "title_cell": "Table of Contents",
   "title_sidebar": "Contents",
   "toc_cell": false,
   "toc_position": {},
   "toc_section_display": true,
   "toc_window_display": false
  }
 },
 "nbformat": 4,
 "nbformat_minor": 5
}
