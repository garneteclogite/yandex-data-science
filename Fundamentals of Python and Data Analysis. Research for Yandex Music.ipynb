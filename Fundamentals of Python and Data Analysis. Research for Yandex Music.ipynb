{
 "cells": [
  {
   "cell_type": "markdown",
   "metadata": {
    "id": "E0vqbgi9ay0H"
   },
   "source": [
    "# Основы Python и Анализа данных. Исследование для Яндекс. Музыкa"
   ]
  },
  {
   "cell_type": "markdown",
   "metadata": {},
   "source": [
    "## Введение"
   ]
  },
  {
   "cell_type": "markdown",
   "metadata": {
    "id": "VUC88oWjTJw2"
   },
   "source": [
    "Сравнение Москвы и Петербурга окружено мифами. Например:\n",
    " * Москва — мегаполис, подчинённый жёсткому ритму рабочей недели;\n",
    " * Петербург — культурная столица, со своими вкусами.\n",
    "\n",
    "На данных Яндекс Музыки я сравню поведение пользователей двух столиц.\n",
    "\n",
    "**Цель исследования** — проверить три гипотезы:\n",
    "1. Активность пользователей зависит от дня недели. Причём в Москве и Петербурге это проявляется по-разному.\n",
    "2. В понедельник утром в Москве преобладают одни жанры, а в Петербурге — другие. Так же и вечером пятницы преобладают разные жанры — в зависимости от города. \n",
    "3. Москва и Петербург предпочитают разные жанры музыки. В Москве чаще слушают поп-музыку, в Петербурге — русский рэп.\n",
    "\n",
    "**План исследования**\n",
    "\n",
    "Данные о поведении пользователей я получу из файла `yandex_music_project.csv`. О качестве данных ничего не известно. Поэтому перед проверкой гипотез понадобится обзор данных. \n",
    "\n",
    "Я проверю данные на ошибки и оценю их влияние на исследование. Затем, на этапе предобработки постараюсь найти возможность исправить самые критичные ошибки данных.\n",
    " \n",
    "Таким образом, исследование пройдёт в три этапа:\n",
    " 1. Обзор данных.\n",
    " 2. Предобработка данных.\n",
    " 3. Проверка гипотез."
   ]
  },
  {
   "cell_type": "markdown",
   "metadata": {
    "id": "Ml1hmfXC_Zcs"
   },
   "source": [
    "## Обзор данных"
   ]
  },
  {
   "cell_type": "markdown",
   "metadata": {
    "id": "57eAOGIz_Zcs",
    "tags": [
     "start_task"
    ]
   },
   "source": [
    "Основной инструмент аналитика — `pandas`. Импортируем эту библиотеку."
   ]
  },
  {
   "cell_type": "code",
   "execution_count": 174,
   "metadata": {
    "deletable": false,
    "id": "AXN7PHPN_Zcs"
   },
   "outputs": [],
   "source": [
    "import pandas as pd"
   ]
  },
  {
   "cell_type": "markdown",
   "metadata": {
    "id": "SG23P8tt_Zcs",
    "tags": [
     "start_task"
    ]
   },
   "source": [
    "Прочитаем файл `yandex_music_project.csv` из папки `/datasets` и сохраним его в переменной `df`:"
   ]
  },
  {
   "cell_type": "code",
   "execution_count": 175,
   "metadata": {
    "deletable": false,
    "id": "fFVu7vqh_Zct"
   },
   "outputs": [],
   "source": [
    "df = pd.read_csv('/datasets/yandex_music_project.csv')"
   ]
  },
  {
   "cell_type": "markdown",
   "metadata": {
    "id": "rDoOMd3uTqnZ",
    "tags": [
     "start_task"
    ]
   },
   "source": [
    "Выведем на экран первые десять строк таблицы:"
   ]
  },
  {
   "cell_type": "code",
   "execution_count": 176,
   "metadata": {
    "deletable": false,
    "id": "oWTVX3gW_Zct"
   },
   "outputs": [
    {
     "name": "stdout",
     "output_type": "stream",
     "text": [
      "     userID                        Track            artist   genre  \\\n",
      "0  FFB692EC            Kamigata To Boots  The Mass Missile    rock   \n",
      "1  55204538  Delayed Because of Accident  Andreas Rönnberg    rock   \n",
      "2    20EC38            Funiculì funiculà       Mario Lanza     pop   \n",
      "3  A3DD03C9        Dragons in the Sunset        Fire + Ice    folk   \n",
      "4  E2DC1FAE                  Soul People        Space Echo   dance   \n",
      "5  842029A1                    Преданная         IMPERVTOR  rusrap   \n",
      "6  4CB90AA5                         True      Roman Messer   dance   \n",
      "7  F03E1C1F             Feeling This Way   Polina Griffith   dance   \n",
      "8  8FA1D3BE     И вновь продолжается бой               NaN  ruspop   \n",
      "9  E772D5C0                    Pessimist               NaN   dance   \n",
      "\n",
      "             City        time        Day  \n",
      "0  Saint-Petersburg  20:28:33  Wednesday  \n",
      "1            Moscow  14:07:09     Friday  \n",
      "2  Saint-Petersburg  20:58:07  Wednesday  \n",
      "3  Saint-Petersburg  08:37:09     Monday  \n",
      "4            Moscow  08:34:34     Monday  \n",
      "5  Saint-Petersburg  13:09:41     Friday  \n",
      "6            Moscow  13:00:07  Wednesday  \n",
      "7            Moscow  20:47:49  Wednesday  \n",
      "8            Moscow  09:17:40     Friday  \n",
      "9  Saint-Petersburg  21:20:49  Wednesday  \n"
     ]
    }
   ],
   "source": [
    "print(df.head(10))"
   ]
  },
  {
   "cell_type": "markdown",
   "metadata": {
    "id": "EO73Kwic_Zct",
    "tags": [
     "start_task"
    ]
   },
   "source": [
    "Получим общую информацию о таблице c помощью метода `info()`:"
   ]
  },
  {
   "cell_type": "code",
   "execution_count": 177,
   "metadata": {
    "deletable": false,
    "id": "DSf2kIb-_Zct"
   },
   "outputs": [
    {
     "name": "stdout",
     "output_type": "stream",
     "text": [
      "<class 'pandas.core.frame.DataFrame'>\n",
      "RangeIndex: 65079 entries, 0 to 65078\n",
      "Data columns (total 7 columns):\n",
      " #   Column    Non-Null Count  Dtype \n",
      "---  ------    --------------  ----- \n",
      " 0     userID  65079 non-null  object\n",
      " 1   Track     63848 non-null  object\n",
      " 2   artist    57876 non-null  object\n",
      " 3   genre     63881 non-null  object\n",
      " 4     City    65079 non-null  object\n",
      " 5   time      65079 non-null  object\n",
      " 6   Day       65079 non-null  object\n",
      "dtypes: object(7)\n",
      "memory usage: 3.5+ MB\n"
     ]
    }
   ],
   "source": [
    "df.info()"
   ]
  },
  {
   "cell_type": "markdown",
   "metadata": {
    "id": "TaQ2Iwbr_Zct"
   },
   "source": [
    "Итак, в таблице семь столбцов. Тип данных во всех столбцах — `object`.\n",
    "\n",
    "Согласно документации к данным:\n",
    "* `userID` — идентификатор пользователя;\n",
    "* `Track` — название трека;  \n",
    "* `artist` — имя исполнителя;\n",
    "* `genre` — название жанра;\n",
    "* `City` — город пользователя;\n",
    "* `time` — время начала прослушивания;\n",
    "* `Day` — день недели.\n",
    "\n",
    "Количество значений в столбцах различается. Значит, в данных есть пропущенные значения."
   ]
  },
  {
   "cell_type": "markdown",
   "metadata": {
    "id": "rAfziTBDmf2h",
    "tags": [
     "start_task"
    ]
   },
   "source": [
    "В названиях колонок видны нарушения стиля. Наименование столбца начинается с заглавной буквы, не соблюден змеиный регистр."
   ]
  },
  {
   "cell_type": "markdown",
   "metadata": {
    "id": "MCB6-dXG_Zct"
   },
   "source": [
    "**Выводы**\n",
    "\n",
    "В каждой строке таблицы — данные о прослушанном треке. Часть колонок описывает саму композицию: название, исполнителя и жанр. Остальные данные рассказывают о пользователе: из какого он города, когда он слушал музыку. \n",
    "\n",
    "Предварительно можно утверждать, что данных достаточно для проверки гипотез. Но встречаются пропуски в данных, а в названиях колонок — расхождения с хорошим стилем.\n",
    "\n",
    "Чтобы двигаться дальше, нужно устранить проблемы в данных."
   ]
  },
  {
   "cell_type": "markdown",
   "metadata": {
    "id": "SjYF6Ub9_Zct"
   },
   "source": [
    "## Предобработка данных\n",
    "Исправим стиль в заголовках столбцов, исключим пропуски. Затем проверим данные на дубликаты."
   ]
  },
  {
   "cell_type": "markdown",
   "metadata": {
    "id": "dIaKXr29_Zct",
    "tags": [
     "start_task"
    ]
   },
   "source": [
    "### Стиль заголовков\n",
    "\n",
    "Выведем на экран названия столбцов:"
   ]
  },
  {
   "cell_type": "code",
   "execution_count": 179,
   "metadata": {
    "id": "oKOTdF_Q_Zct"
   },
   "outputs": [
    {
     "data": {
      "text/plain": [
       "Index(['  userID', 'Track', 'artist', 'genre', '  City  ', 'time', 'Day'], dtype='object')"
      ]
     },
     "execution_count": 179,
     "metadata": {},
     "output_type": "execute_result"
    }
   ],
   "source": [
    "df.columns"
   ]
  },
  {
   "cell_type": "markdown",
   "metadata": {
    "id": "zj5534cv_Zct",
    "tags": [
     "start_task"
    ]
   },
   "source": [
    "Приведём названия в соответствие с хорошим стилем:\n",
    "* несколько слов в названии запишем в «змеином_регистре»,\n",
    "* все символы сделаем строчными,\n",
    "* устраним пробелы."
   ]
  },
  {
   "cell_type": "code",
   "execution_count": 180,
   "metadata": {
    "deletable": false,
    "id": "ISlFqs5y_Zct"
   },
   "outputs": [],
   "source": [
    "df = df.rename(columns = {'  userID':'user_id', 'Track':'track', '  City  ':'city', 'Day':'day'})"
   ]
  },
  {
   "cell_type": "markdown",
   "metadata": {
    "id": "1dqbh00J_Zct",
    "tags": [
     "start_task"
    ]
   },
   "source": [
    "Проверим результат."
   ]
  },
  {
   "cell_type": "code",
   "execution_count": 181,
   "metadata": {
    "deletable": false,
    "id": "d4NOAmTW_Zct"
   },
   "outputs": [
    {
     "data": {
      "text/plain": [
       "Index(['user_id', 'track', 'artist', 'genre', 'city', 'time', 'day'], dtype='object')"
      ]
     },
     "execution_count": 181,
     "metadata": {},
     "output_type": "execute_result"
    }
   ],
   "source": [
    "df.columns"
   ]
  },
  {
   "cell_type": "markdown",
   "metadata": {
    "id": "5ISfbcfY_Zct",
    "tags": [
     "start_task"
    ]
   },
   "source": [
    "### Пропуски значений\n",
    "\n",
    "Сначала посчитаем, сколько в таблице пропущенных значений."
   ]
  },
  {
   "cell_type": "code",
   "execution_count": 182,
   "metadata": {
    "deletable": false,
    "id": "RskX29qr_Zct"
   },
   "outputs": [
    {
     "data": {
      "text/plain": [
       "user_id       0\n",
       "track      1231\n",
       "artist     7203\n",
       "genre      1198\n",
       "city          0\n",
       "time          0\n",
       "day           0\n",
       "dtype: int64"
      ]
     },
     "execution_count": 182,
     "metadata": {},
     "output_type": "execute_result"
    }
   ],
   "source": [
    "df.isna().sum()"
   ]
  },
  {
   "cell_type": "markdown",
   "metadata": {
    "id": "qubhgnlO_Zct"
   },
   "source": [
    "Не все пропущенные значения влияют на исследование. Так в `track` и `artist` пропуски не важны для вашей работы. Достаточно заменить их явными обозначениями.\n",
    "\n",
    "Но пропуски в `genre` могут помешать сравнению музыкальных вкусов в Москве и Санкт-Петербурге. На практике было бы правильно установить причину пропусков и восстановить данные. Такой возможности нет в учебном проекте. Придётся:\n",
    "* заполнить и эти пропуски явными обозначениями;\n",
    "* оценить, насколько они повредят расчётам. "
   ]
  },
  {
   "cell_type": "markdown",
   "metadata": {
    "id": "fSv2laPA_Zct",
    "tags": [
     "start_task"
    ]
   },
   "source": [
    "Заменим пропущенные значения в столбцах `track`, `artist` и `genre` на строку `'unknown'`. Для этого создадим список `columns_to_replace`, переберём его элементы циклом `for` и для каждого столбца выполним замену пропущенных значений:"
   ]
  },
  {
   "cell_type": "code",
   "execution_count": 183,
   "metadata": {
    "deletable": false,
    "id": "KplB5qWs_Zct"
   },
   "outputs": [],
   "source": [
    "columns_to_replace = ['track', 'artist', 'genre']\n",
    "\n",
    "for column in columns_to_replace:\n",
    "    df[column] = df[column].fillna('unknown')"
   ]
  },
  {
   "cell_type": "markdown",
   "metadata": {
    "id": "Ilsm-MZo_Zct",
    "tags": [
     "start_task"
    ]
   },
   "source": [
    "Убедимся, что в таблице не осталось пропусков."
   ]
  },
  {
   "cell_type": "code",
   "execution_count": 184,
   "metadata": {
    "deletable": false,
    "id": "Tq4nYRX4_Zct"
   },
   "outputs": [
    {
     "data": {
      "text/plain": [
       "user_id    0\n",
       "track      0\n",
       "artist     0\n",
       "genre      0\n",
       "city       0\n",
       "time       0\n",
       "day        0\n",
       "dtype: int64"
      ]
     },
     "execution_count": 184,
     "metadata": {},
     "output_type": "execute_result"
    }
   ],
   "source": [
    "df.isna().sum()"
   ]
  },
  {
   "cell_type": "markdown",
   "metadata": {
    "id": "BWKRtBJ3_Zct",
    "tags": [
     "start_task"
    ]
   },
   "source": [
    "### Дубликаты\n",
    "\n",
    "Посчитаем явные дубликаты в таблице."
   ]
  },
  {
   "cell_type": "code",
   "execution_count": 185,
   "metadata": {
    "deletable": false,
    "id": "36eES_S0_Zct"
   },
   "outputs": [
    {
     "data": {
      "text/plain": [
       "3826"
      ]
     },
     "execution_count": 185,
     "metadata": {},
     "output_type": "execute_result"
    }
   ],
   "source": [
    "df.duplicated().sum()"
   ]
  },
  {
   "cell_type": "markdown",
   "metadata": {
    "id": "Ot25h6XR_Zct",
    "tags": [
     "start_task"
    ]
   },
   "source": [
    "Вызовем специальный метод `pandas`, чтобы удалить явные дубликаты:"
   ]
  },
  {
   "cell_type": "code",
   "execution_count": 186,
   "metadata": {
    "deletable": false,
    "id": "exFHq6tt_Zct"
   },
   "outputs": [],
   "source": [
    "df = df.drop_duplicates()"
   ]
  },
  {
   "cell_type": "markdown",
   "metadata": {
    "id": "Im2YwBEG_Zct",
    "tags": [
     "start_task"
    ]
   },
   "source": [
    "Ещё раз посчитаем явные дубликаты в таблице."
   ]
  },
  {
   "cell_type": "code",
   "execution_count": 187,
   "metadata": {
    "deletable": false,
    "id": "-8PuNWQ0_Zct"
   },
   "outputs": [
    {
     "data": {
      "text/plain": [
       "0"
      ]
     },
     "execution_count": 187,
     "metadata": {},
     "output_type": "execute_result"
    }
   ],
   "source": [
    "df.duplicated().sum()"
   ]
  },
  {
   "cell_type": "markdown",
   "metadata": {
    "id": "QlFBsxAr_Zct"
   },
   "source": [
    "Теперь избавимся от неявных дубликатов в колонке `genre`. Например, название одного и того же жанра может быть записано немного по-разному. Такие ошибки тоже повлияют на результат исследования."
   ]
  },
  {
   "cell_type": "markdown",
   "metadata": {
    "id": "eSjWwsOh_Zct",
    "tags": [
     "start_task"
    ]
   },
   "source": [
    "Выведем на экран список уникальных названий жанров, отсортированный в алфавитном порядке."
   ]
  },
  {
   "cell_type": "code",
   "execution_count": 188,
   "metadata": {
    "deletable": false,
    "id": "JIUcqzZN_Zct"
   },
   "outputs": [
    {
     "name": "stdout",
     "output_type": "stream",
     "text": [
      "['acid' 'acoustic' 'action' 'adult' 'africa' 'afrikaans' 'alternative'\n",
      " 'alternativepunk' 'ambient' 'americana' 'animated' 'anime' 'arabesk'\n",
      " 'arabic' 'arena' 'argentinetango' 'art' 'audiobook' 'author' 'avantgarde'\n",
      " 'axé' 'baile' 'balkan' 'beats' 'bigroom' 'black' 'bluegrass' 'blues'\n",
      " 'bollywood' 'bossa' 'brazilian' 'breakbeat' 'breaks' 'broadway'\n",
      " 'cantautori' 'cantopop' 'canzone' 'caribbean' 'caucasian' 'celtic'\n",
      " 'chamber' 'chanson' 'children' 'chill' 'chinese' 'choral' 'christian'\n",
      " 'christmas' 'classical' 'classicmetal' 'club' 'colombian' 'comedy'\n",
      " 'conjazz' 'contemporary' 'country' 'cuban' 'dance' 'dancehall' 'dancepop'\n",
      " 'dark' 'death' 'deep' 'deutschrock' 'deutschspr' 'dirty' 'disco' 'dnb'\n",
      " 'documentary' 'downbeat' 'downtempo' 'drum' 'dub' 'dubstep' 'eastern'\n",
      " 'easy' 'electronic' 'electropop' 'emo' 'entehno' 'epicmetal' 'estrada'\n",
      " 'ethnic' 'eurofolk' 'european' 'experimental' 'extrememetal' 'fado'\n",
      " 'fairytail' 'film' 'fitness' 'flamenco' 'folk' 'folklore' 'folkmetal'\n",
      " 'folkrock' 'folktronica' 'forró' 'frankreich' 'französisch' 'french'\n",
      " 'funk' 'future' 'gangsta' 'garage' 'german' 'ghazal' 'gitarre' 'glitch'\n",
      " 'gospel' 'gothic' 'grime' 'grunge' 'gypsy' 'handsup' \"hard'n'heavy\"\n",
      " 'hardcore' 'hardstyle' 'hardtechno' 'hip' 'hip-hop' 'hiphop' 'historisch'\n",
      " 'holiday' 'hop' 'horror' 'house' 'hymn' 'idm' 'independent' 'indian'\n",
      " 'indie' 'indipop' 'industrial' 'inspirational' 'instrumental'\n",
      " 'international' 'irish' 'jam' 'japanese' 'jazz' 'jewish' 'jpop' 'jungle'\n",
      " 'k-pop' 'karadeniz' 'karaoke' 'kayokyoku' 'korean' 'laiko' 'latin'\n",
      " 'latino' 'leftfield' 'local' 'lounge' 'loungeelectronic' 'lovers'\n",
      " 'malaysian' 'mandopop' 'marschmusik' 'meditative' 'mediterranean'\n",
      " 'melodic' 'metal' 'metalcore' 'mexican' 'middle' 'minimal'\n",
      " 'miscellaneous' 'modern' 'mood' 'mpb' 'muslim' 'native' 'neoklassik'\n",
      " 'neue' 'new' 'newage' 'newwave' 'nu' 'nujazz' 'numetal' 'oceania' 'old'\n",
      " 'opera' 'orchestral' 'other' 'piano' 'podcasts' 'pop' 'popdance'\n",
      " 'popelectronic' 'popeurodance' 'poprussian' 'post' 'posthardcore'\n",
      " 'postrock' 'power' 'progmetal' 'progressive' 'psychedelic' 'punjabi'\n",
      " 'punk' 'quebecois' 'ragga' 'ram' 'rancheras' 'rap' 'rave' 'reggae'\n",
      " 'reggaeton' 'regional' 'relax' 'religious' 'retro' 'rhythm' 'rnb' 'rnr'\n",
      " 'rock' 'rockabilly' 'rockalternative' 'rockindie' 'rockother' 'romance'\n",
      " 'roots' 'ruspop' 'rusrap' 'rusrock' 'russian' 'salsa' 'samba' 'scenic'\n",
      " 'schlager' 'self' 'sertanejo' 'shanson' 'shoegazing' 'showtunes' 'singer'\n",
      " 'ska' 'skarock' 'slow' 'smooth' 'soft' 'soul' 'soulful' 'sound'\n",
      " 'soundtrack' 'southern' 'specialty' 'speech' 'spiritual' 'sport'\n",
      " 'stonerrock' 'surf' 'swing' 'synthpop' 'synthrock' 'sängerportrait'\n",
      " 'tango' 'tanzorchester' 'taraftar' 'tatar' 'tech' 'techno' 'teen'\n",
      " 'thrash' 'top' 'traditional' 'tradjazz' 'trance' 'tribal' 'trip'\n",
      " 'triphop' 'tropical' 'türk' 'türkçe' 'ukrrock' 'unknown' 'urban' 'uzbek'\n",
      " 'variété' 'vi' 'videogame' 'vocal' 'western' 'world' 'worldbeat' 'ïîï'\n",
      " 'электроника']\n"
     ]
    }
   ],
   "source": [
    "df_genre = df['genre']\n",
    "print(df_genre.sort_values().unique())"
   ]
  },
  {
   "cell_type": "markdown",
   "metadata": {
    "id": "qej-Qmuo_Zct",
    "tags": [
     "start_task"
    ]
   },
   "source": [
    "Видим неявные дубликаты названия `hiphop`:\n",
    "* *hip*,\n",
    "* *hop*,\n",
    "* *hip-hop*.\n",
    "\n",
    "Чтобы очистить от них таблицу воспользуемся методом `replace()` с двумя аргументами: списком строк-дубликатов (включащий *hip*, *hop* и *hip-hop*) и строкой с правильным значением."
   ]
  },
  {
   "cell_type": "code",
   "execution_count": 189,
   "metadata": {
    "deletable": false,
    "id": "ErNDkmns_Zct"
   },
   "outputs": [],
   "source": [
    "mistakes = ['hip', 'hop', 'hip-hop']\n",
    "ineed = 'hiphop'\n",
    "df['genre'] = df['genre'].replace(mistakes, ineed)"
   ]
  },
  {
   "cell_type": "markdown",
   "metadata": {
    "id": "zQKF16_RG15m",
    "tags": [
     "start_task"
    ]
   },
   "source": [
    "Выведем новый отсортированный список уникальных значений столбца `genre`:"
   ]
  },
  {
   "cell_type": "code",
   "execution_count": 190,
   "metadata": {
    "deletable": false,
    "id": "wvixALnFG15m"
   },
   "outputs": [
    {
     "name": "stdout",
     "output_type": "stream",
     "text": [
      "['acid' 'acoustic' 'action' 'adult' 'africa' 'afrikaans' 'alternative'\n",
      " 'alternativepunk' 'ambient' 'americana' 'animated' 'anime' 'arabesk'\n",
      " 'arabic' 'arena' 'argentinetango' 'art' 'audiobook' 'author' 'avantgarde'\n",
      " 'axé' 'baile' 'balkan' 'beats' 'bigroom' 'black' 'bluegrass' 'blues'\n",
      " 'bollywood' 'bossa' 'brazilian' 'breakbeat' 'breaks' 'broadway'\n",
      " 'cantautori' 'cantopop' 'canzone' 'caribbean' 'caucasian' 'celtic'\n",
      " 'chamber' 'chanson' 'children' 'chill' 'chinese' 'choral' 'christian'\n",
      " 'christmas' 'classical' 'classicmetal' 'club' 'colombian' 'comedy'\n",
      " 'conjazz' 'contemporary' 'country' 'cuban' 'dance' 'dancehall' 'dancepop'\n",
      " 'dark' 'death' 'deep' 'deutschrock' 'deutschspr' 'dirty' 'disco' 'dnb'\n",
      " 'documentary' 'downbeat' 'downtempo' 'drum' 'dub' 'dubstep' 'eastern'\n",
      " 'easy' 'electronic' 'electropop' 'emo' 'entehno' 'epicmetal' 'estrada'\n",
      " 'ethnic' 'eurofolk' 'european' 'experimental' 'extrememetal' 'fado'\n",
      " 'fairytail' 'film' 'fitness' 'flamenco' 'folk' 'folklore' 'folkmetal'\n",
      " 'folkrock' 'folktronica' 'forró' 'frankreich' 'französisch' 'french'\n",
      " 'funk' 'future' 'gangsta' 'garage' 'german' 'ghazal' 'gitarre' 'glitch'\n",
      " 'gospel' 'gothic' 'grime' 'grunge' 'gypsy' 'handsup' \"hard'n'heavy\"\n",
      " 'hardcore' 'hardstyle' 'hardtechno' 'hiphop' 'historisch' 'holiday'\n",
      " 'horror' 'house' 'hymn' 'idm' 'independent' 'indian' 'indie' 'indipop'\n",
      " 'industrial' 'inspirational' 'instrumental' 'international' 'irish' 'jam'\n",
      " 'japanese' 'jazz' 'jewish' 'jpop' 'jungle' 'k-pop' 'karadeniz' 'karaoke'\n",
      " 'kayokyoku' 'korean' 'laiko' 'latin' 'latino' 'leftfield' 'local'\n",
      " 'lounge' 'loungeelectronic' 'lovers' 'malaysian' 'mandopop' 'marschmusik'\n",
      " 'meditative' 'mediterranean' 'melodic' 'metal' 'metalcore' 'mexican'\n",
      " 'middle' 'minimal' 'miscellaneous' 'modern' 'mood' 'mpb' 'muslim'\n",
      " 'native' 'neoklassik' 'neue' 'new' 'newage' 'newwave' 'nu' 'nujazz'\n",
      " 'numetal' 'oceania' 'old' 'opera' 'orchestral' 'other' 'piano' 'podcasts'\n",
      " 'pop' 'popdance' 'popelectronic' 'popeurodance' 'poprussian' 'post'\n",
      " 'posthardcore' 'postrock' 'power' 'progmetal' 'progressive' 'psychedelic'\n",
      " 'punjabi' 'punk' 'quebecois' 'ragga' 'ram' 'rancheras' 'rap' 'rave'\n",
      " 'reggae' 'reggaeton' 'regional' 'relax' 'religious' 'retro' 'rhythm'\n",
      " 'rnb' 'rnr' 'rock' 'rockabilly' 'rockalternative' 'rockindie' 'rockother'\n",
      " 'romance' 'roots' 'ruspop' 'rusrap' 'rusrock' 'russian' 'salsa' 'samba'\n",
      " 'scenic' 'schlager' 'self' 'sertanejo' 'shanson' 'shoegazing' 'showtunes'\n",
      " 'singer' 'ska' 'skarock' 'slow' 'smooth' 'soft' 'soul' 'soulful' 'sound'\n",
      " 'soundtrack' 'southern' 'specialty' 'speech' 'spiritual' 'sport'\n",
      " 'stonerrock' 'surf' 'swing' 'synthpop' 'synthrock' 'sängerportrait'\n",
      " 'tango' 'tanzorchester' 'taraftar' 'tatar' 'tech' 'techno' 'teen'\n",
      " 'thrash' 'top' 'traditional' 'tradjazz' 'trance' 'tribal' 'trip'\n",
      " 'triphop' 'tropical' 'türk' 'türkçe' 'ukrrock' 'unknown' 'urban' 'uzbek'\n",
      " 'variété' 'vi' 'videogame' 'vocal' 'western' 'world' 'worldbeat' 'ïîï'\n",
      " 'электроника']\n"
     ]
    }
   ],
   "source": [
    "df_genre = df['genre']\n",
    "print(df_genre.sort_values().unique())"
   ]
  },
  {
   "cell_type": "markdown",
   "metadata": {
    "id": "jz6a9-7HQUDd"
   },
   "source": [
    "**Выводы**\n",
    "\n",
    "Предобработка обнаружила три проблемы в данных:\n",
    "\n",
    "- нарушения в стиле заголовков,\n",
    "- пропущенные значения,\n",
    "- дубликаты — явные и неявные.\n",
    "\n",
    "Были исправлены заголовки, чтобы упростить работу с таблицей. Удалены явные и неявные дубликаты.\n",
    "\n",
    "Пропущенные значения были заменены на `'unknown'`. Ещё предстоит увидеть, не повредят ли исследованию пропуски в колонке `genre`.\n",
    "\n",
    "Теперь можно перейти к проверке гипотез. "
   ]
  },
  {
   "cell_type": "markdown",
   "metadata": {
    "id": "WttZHXH0SqKk"
   },
   "source": [
    "## Проверка гипотез"
   ]
  },
  {
   "cell_type": "markdown",
   "metadata": {
    "id": "Im936VVi_Zcu"
   },
   "source": [
    "### Сравнение поведения пользователей двух столиц"
   ]
  },
  {
   "cell_type": "markdown",
   "metadata": {
    "id": "nwt_MuaL_Zcu"
   },
   "source": [
    "Первая гипотеза утверждает, что пользователи по-разному слушают музыку в Москве и Санкт-Петербурге. Проверим это предположение по данным о трёх днях недели — понедельнике, среде и пятнице. Для этого:\n",
    "\n",
    "* Разделим пользователей Москвы и Санкт-Петербурга.\n",
    "* Сравним, сколько треков послушала каждая группа пользователей в понедельник, среду и пятницу.\n"
   ]
  },
  {
   "cell_type": "markdown",
   "metadata": {
    "id": "8Dw_YMmT_Zcu",
    "tags": [
     "start_task"
    ]
   },
   "source": [
    "Для тренировки сначала выполним каждый из расчётов по отдельности. \n",
    "\n",
    "Оценим активность пользователей в каждом городе. Сгруппируем данные по городу и посчитаем прослушивания в каждой группе."
   ]
  },
  {
   "cell_type": "code",
   "execution_count": 191,
   "metadata": {
    "deletable": false,
    "id": "0_Qs96oh_Zcu"
   },
   "outputs": [
    {
     "data": {
      "text/html": [
       "<div>\n",
       "<style scoped>\n",
       "    .dataframe tbody tr th:only-of-type {\n",
       "        vertical-align: middle;\n",
       "    }\n",
       "\n",
       "    .dataframe tbody tr th {\n",
       "        vertical-align: top;\n",
       "    }\n",
       "\n",
       "    .dataframe thead th {\n",
       "        text-align: right;\n",
       "    }\n",
       "</style>\n",
       "<table border=\"1\" class=\"dataframe\">\n",
       "  <thead>\n",
       "    <tr style=\"text-align: right;\">\n",
       "      <th></th>\n",
       "      <th>user_id</th>\n",
       "      <th>track</th>\n",
       "      <th>artist</th>\n",
       "      <th>genre</th>\n",
       "      <th>city</th>\n",
       "      <th>time</th>\n",
       "      <th>day</th>\n",
       "    </tr>\n",
       "  </thead>\n",
       "  <tbody>\n",
       "    <tr>\n",
       "      <th>0</th>\n",
       "      <td>FFB692EC</td>\n",
       "      <td>Kamigata To Boots</td>\n",
       "      <td>The Mass Missile</td>\n",
       "      <td>rock</td>\n",
       "      <td>Saint-Petersburg</td>\n",
       "      <td>20:28:33</td>\n",
       "      <td>Wednesday</td>\n",
       "    </tr>\n",
       "    <tr>\n",
       "      <th>1</th>\n",
       "      <td>55204538</td>\n",
       "      <td>Delayed Because of Accident</td>\n",
       "      <td>Andreas Rönnberg</td>\n",
       "      <td>rock</td>\n",
       "      <td>Moscow</td>\n",
       "      <td>14:07:09</td>\n",
       "      <td>Friday</td>\n",
       "    </tr>\n",
       "    <tr>\n",
       "      <th>2</th>\n",
       "      <td>20EC38</td>\n",
       "      <td>Funiculì funiculà</td>\n",
       "      <td>Mario Lanza</td>\n",
       "      <td>pop</td>\n",
       "      <td>Saint-Petersburg</td>\n",
       "      <td>20:58:07</td>\n",
       "      <td>Wednesday</td>\n",
       "    </tr>\n",
       "    <tr>\n",
       "      <th>3</th>\n",
       "      <td>A3DD03C9</td>\n",
       "      <td>Dragons in the Sunset</td>\n",
       "      <td>Fire + Ice</td>\n",
       "      <td>folk</td>\n",
       "      <td>Saint-Petersburg</td>\n",
       "      <td>08:37:09</td>\n",
       "      <td>Monday</td>\n",
       "    </tr>\n",
       "    <tr>\n",
       "      <th>4</th>\n",
       "      <td>E2DC1FAE</td>\n",
       "      <td>Soul People</td>\n",
       "      <td>Space Echo</td>\n",
       "      <td>dance</td>\n",
       "      <td>Moscow</td>\n",
       "      <td>08:34:34</td>\n",
       "      <td>Monday</td>\n",
       "    </tr>\n",
       "  </tbody>\n",
       "</table>\n",
       "</div>"
      ],
      "text/plain": [
       "    user_id                        track            artist  genre  \\\n",
       "0  FFB692EC            Kamigata To Boots  The Mass Missile   rock   \n",
       "1  55204538  Delayed Because of Accident  Andreas Rönnberg   rock   \n",
       "2    20EC38            Funiculì funiculà       Mario Lanza    pop   \n",
       "3  A3DD03C9        Dragons in the Sunset        Fire + Ice   folk   \n",
       "4  E2DC1FAE                  Soul People        Space Echo  dance   \n",
       "\n",
       "               city      time        day  \n",
       "0  Saint-Petersburg  20:28:33  Wednesday  \n",
       "1            Moscow  14:07:09     Friday  \n",
       "2  Saint-Petersburg  20:58:07  Wednesday  \n",
       "3  Saint-Petersburg  08:37:09     Monday  \n",
       "4            Moscow  08:34:34     Monday  "
      ]
     },
     "execution_count": 191,
     "metadata": {},
     "output_type": "execute_result"
    }
   ],
   "source": [
    "df.head()\n",
    "#df.groupby('city')['user_id'].count()"
   ]
  },
  {
   "cell_type": "markdown",
   "metadata": {
    "id": "dzli3w8o_Zcu",
    "tags": [
     "start_task"
    ]
   },
   "source": [
    "В Москве прослушиваний больше, чем в Петербурге. Из этого не следует, что московские пользователи чаще слушают музыку. Просто самих пользователей в Москве больше.\n",
    "\n",
    "Теперь сгруппируем данные по дню недели и посчитаем прослушивания в понедельник, среду и пятницу."
   ]
  },
  {
   "cell_type": "code",
   "execution_count": 192,
   "metadata": {
    "deletable": false,
    "id": "uZMKjiJz_Zcu"
   },
   "outputs": [
    {
     "data": {
      "text/plain": [
       "day\n",
       "Friday       21840\n",
       "Monday       21354\n",
       "Wednesday    18059\n",
       "Name: user_id, dtype: int64"
      ]
     },
     "execution_count": 192,
     "metadata": {},
     "output_type": "execute_result"
    }
   ],
   "source": [
    "df.groupby('day')['user_id'].count()\n",
    "#on_friday = df[df['day']=='Friday']"
   ]
  },
  {
   "cell_type": "markdown",
   "metadata": {
    "deletable": false,
    "editable": false,
    "id": "cC2tNrlL_Zcu"
   },
   "source": [
    "В среднем пользователи из двух городов менее активны по средам. Но картина может измениться, если рассмотреть каждый город в отдельности."
   ]
  },
  {
   "cell_type": "markdown",
   "metadata": {
    "id": "POzs8bGa_Zcu",
    "tags": [
     "start_task"
    ]
   },
   "source": [
    "Мы видели, как работает группировка по городу и по дням недели. Теперь напишем функцию, которая объединит два эти расчёта.\n",
    "\n",
    "Создадим функцию `number_tracks()`, которая посчитает прослушивания для заданного дня и города. Ей понадобятся два параметра:\n",
    "* день недели,\n",
    "* название города.\n",
    "\n",
    "В функции сохраним в переменную строки исходной таблицы, у которых значение:\n",
    "  * в колонке `day` равно параметру `day`,\n",
    "  * в колонке `city` равно параметру `city`.\n",
    "\n",
    "Для этого применим последовательную фильтрацию с логической индексацией (или сложные логические выражения в одну строку).\n",
    "\n",
    "Затем посчитаем значения в столбце `user_id` получившейся таблицы. Результат сохраним в новую переменную. Вернем эту переменную из функции."
   ]
  },
  {
   "cell_type": "code",
   "execution_count": 193,
   "metadata": {
    "deletable": false,
    "id": "Nz3GdQB1_Zcu"
   },
   "outputs": [
    {
     "data": {
      "text/plain": [
       "15740"
      ]
     },
     "execution_count": 193,
     "metadata": {},
     "output_type": "execute_result"
    }
   ],
   "source": [
    "def number_tracks(day,city):\n",
    "    track_list = df[df['day']==day]\n",
    "    track_list = track_list[track_list['city']==city]\n",
    "    track_list_count = track_list['user_id'].count()\n",
    "    return track_list_count\n",
    "\n",
    "number_tracks('Monday', 'Moscow')"
   ]
  },
  {
   "cell_type": "markdown",
   "metadata": {
    "id": "ytf7xFrFJQ2r",
    "tags": [
     "start_task"
    ]
   },
   "source": [
    "Вызовем `number_tracks()` шесть раз, меняя значение параметров — так, чтобы получить данные для каждого города в каждый из трёх дней."
   ]
  },
  {
   "cell_type": "code",
   "execution_count": 194,
   "metadata": {
    "deletable": false,
    "id": "rJcRATNQ_Zcu"
   },
   "outputs": [
    {
     "data": {
      "text/plain": [
       "15740"
      ]
     },
     "execution_count": 194,
     "metadata": {},
     "output_type": "execute_result"
    }
   ],
   "source": [
    "number_tracks('Monday', 'Moscow')# количество прослушиваний в Москве по понедельникам"
   ]
  },
  {
   "cell_type": "code",
   "execution_count": 195,
   "metadata": {
    "deletable": false,
    "id": "hq_ncZ5T_Zcu"
   },
   "outputs": [
    {
     "data": {
      "text/plain": [
       "5614"
      ]
     },
     "execution_count": 195,
     "metadata": {},
     "output_type": "execute_result"
    }
   ],
   "source": [
    "number_tracks('Monday', 'Saint-Petersburg')# количество прослушиваний в Санкт-Петербурге по понедельникам"
   ]
  },
  {
   "cell_type": "code",
   "execution_count": 196,
   "metadata": {
    "deletable": false,
    "id": "_NTy2VPU_Zcu"
   },
   "outputs": [
    {
     "data": {
      "text/plain": [
       "11056"
      ]
     },
     "execution_count": 196,
     "metadata": {},
     "output_type": "execute_result"
    }
   ],
   "source": [
    "number_tracks('Wednesday', 'Moscow')# количество прослушиваний в Москве по средам"
   ]
  },
  {
   "cell_type": "code",
   "execution_count": 197,
   "metadata": {
    "deletable": false,
    "id": "j2y3TAwo_Zcu"
   },
   "outputs": [
    {
     "data": {
      "text/plain": [
       "7003"
      ]
     },
     "execution_count": 197,
     "metadata": {},
     "output_type": "execute_result"
    }
   ],
   "source": [
    "number_tracks('Wednesday', 'Saint-Petersburg')# количество прослушиваний в Санкт-Петербурге по средам"
   ]
  },
  {
   "cell_type": "code",
   "execution_count": 198,
   "metadata": {
    "deletable": false,
    "id": "vYDw5u_K_Zcu"
   },
   "outputs": [
    {
     "data": {
      "text/plain": [
       "15945"
      ]
     },
     "execution_count": 198,
     "metadata": {},
     "output_type": "execute_result"
    }
   ],
   "source": [
    "number_tracks('Friday', 'Moscow')# количество прослушиваний в Москве по пятницам"
   ]
  },
  {
   "cell_type": "code",
   "execution_count": 199,
   "metadata": {
    "deletable": false,
    "id": "8_yzFtW3_Zcu"
   },
   "outputs": [
    {
     "data": {
      "text/plain": [
       "5895"
      ]
     },
     "execution_count": 199,
     "metadata": {},
     "output_type": "execute_result"
    }
   ],
   "source": [
    "number_tracks('Friday', 'Saint-Petersburg')# количество прослушиваний в Санкт-Петербурге по пятницам"
   ]
  },
  {
   "cell_type": "markdown",
   "metadata": {
    "id": "7QXffbO-_Zcu",
    "tags": [
     "start_task"
    ]
   },
   "source": [
    "Создадим c помощью конструктора `pd.DataFrame` таблицу, где\n",
    "* названия колонок — `['city', 'monday', 'wednesday', 'friday']`;\n",
    "* данные — результаты, которые мы получили с помощью `number_tracks`."
   ]
  },
  {
   "cell_type": "code",
   "execution_count": 200,
   "metadata": {
    "deletable": false,
    "id": "APAcLpOr_Zcu"
   },
   "outputs": [
    {
     "data": {
      "text/html": [
       "<div>\n",
       "<style scoped>\n",
       "    .dataframe tbody tr th:only-of-type {\n",
       "        vertical-align: middle;\n",
       "    }\n",
       "\n",
       "    .dataframe tbody tr th {\n",
       "        vertical-align: top;\n",
       "    }\n",
       "\n",
       "    .dataframe thead th {\n",
       "        text-align: right;\n",
       "    }\n",
       "</style>\n",
       "<table border=\"1\" class=\"dataframe\">\n",
       "  <thead>\n",
       "    <tr style=\"text-align: right;\">\n",
       "      <th></th>\n",
       "      <th>city</th>\n",
       "      <th>monday</th>\n",
       "      <th>wednesday</th>\n",
       "      <th>friday</th>\n",
       "    </tr>\n",
       "  </thead>\n",
       "  <tbody>\n",
       "    <tr>\n",
       "      <th>0</th>\n",
       "      <td>Moscow</td>\n",
       "      <td>15740</td>\n",
       "      <td>11056</td>\n",
       "      <td>15945</td>\n",
       "    </tr>\n",
       "    <tr>\n",
       "      <th>1</th>\n",
       "      <td>Saint-Petersburg</td>\n",
       "      <td>5614</td>\n",
       "      <td>7003</td>\n",
       "      <td>5895</td>\n",
       "    </tr>\n",
       "  </tbody>\n",
       "</table>\n",
       "</div>"
      ],
      "text/plain": [
       "               city  monday  wednesday  friday\n",
       "0            Moscow   15740      11056   15945\n",
       "1  Saint-Petersburg    5614       7003    5895"
      ]
     },
     "execution_count": 200,
     "metadata": {},
     "output_type": "execute_result"
    }
   ],
   "source": [
    "columns = ['city', 'monday', 'wednesday', 'friday']\n",
    "data = [['Moscow', 15740, 11056, 15945], ['Saint-Petersburg', 5614, 7003, 5895]]\n",
    "pd.DataFrame(data=data, columns=columns)"
   ]
  },
  {
   "cell_type": "markdown",
   "metadata": {
    "id": "-EgPIHYu_Zcu"
   },
   "source": [
    "**Выводы**\n",
    "\n",
    "Данные показывают разницу поведения пользователей:\n",
    "\n",
    "- В Москве пик прослушиваний приходится на понедельник и пятницу, а в среду заметен спад.\n",
    "- В Петербурге, наоборот, больше слушают музыку по средам. Активность в понедельник и пятницу здесь почти в равной мере уступает среде.\n",
    "\n",
    "Значит, данные говорят в пользу первой гипотезы."
   ]
  },
  {
   "cell_type": "markdown",
   "metadata": {
    "id": "atZAxtq4_Zcu"
   },
   "source": [
    "### Музыка в начале и в конце недели"
   ]
  },
  {
   "cell_type": "markdown",
   "metadata": {
    "id": "eXrQqXFH_Zcu"
   },
   "source": [
    "Согласно второй гипотезе, утром в понедельник в Москве преобладают одни жанры, а в Петербурге — другие. Так же и вечером пятницы преобладают разные жанры — в зависимости от города."
   ]
  },
  {
   "cell_type": "markdown",
   "metadata": {
    "id": "S8UcW6Hw_Zcu",
    "tags": [
     "start_task"
    ]
   },
   "source": [
    "Сохраним таблицы с данными в две переменные:\n",
    "* по Москве — в `moscow_general`;\n",
    "* по Санкт-Петербургу — в `spb_general`."
   ]
  },
  {
   "cell_type": "code",
   "execution_count": 201,
   "metadata": {
    "deletable": false,
    "id": "qeaFfM_P_Zcu"
   },
   "outputs": [
    {
     "name": "stdout",
     "output_type": "stream",
     "text": [
      "        user_id                          track                   artist  \\\n",
      "1      55204538    Delayed Because of Accident         Andreas Rönnberg   \n",
      "4      E2DC1FAE                    Soul People               Space Echo   \n",
      "6      4CB90AA5                           True             Roman Messer   \n",
      "7      F03E1C1F               Feeling This Way          Polina Griffith   \n",
      "8      8FA1D3BE       И вновь продолжается бой                  unknown   \n",
      "...         ...                            ...                      ...   \n",
      "65073  83A474E7  I Worship Only What You Bleed  The Black Dahlia Murder   \n",
      "65074  729CBB09                        My Name                   McLean   \n",
      "65076  C5E3A0D5                      Jalopiina                  unknown   \n",
      "65077  321D0506                  Freight Train            Chas McDevitt   \n",
      "65078  3A64EF84      Tell Me Sweet Little Lies             Monica Lopez   \n",
      "\n",
      "              genre    city      time        day  \n",
      "1              rock  Moscow  14:07:09     Friday  \n",
      "4             dance  Moscow  08:34:34     Monday  \n",
      "6             dance  Moscow  13:00:07  Wednesday  \n",
      "7             dance  Moscow  20:47:49  Wednesday  \n",
      "8            ruspop  Moscow  09:17:40     Friday  \n",
      "...             ...     ...       ...        ...  \n",
      "65073  extrememetal  Moscow  21:07:12     Monday  \n",
      "65074           rnb  Moscow  13:32:28  Wednesday  \n",
      "65076    industrial  Moscow  20:09:26     Friday  \n",
      "65077          rock  Moscow  21:43:59     Friday  \n",
      "65078       country  Moscow  21:59:46     Friday  \n",
      "\n",
      "[42741 rows x 7 columns]\n"
     ]
    }
   ],
   "source": [
    "moscow_general = df[df['city']=='Moscow']\n",
    "print(moscow_general)"
   ]
  },
  {
   "cell_type": "code",
   "execution_count": 202,
   "metadata": {
    "deletable": false,
    "id": "ORaVRKto_Zcu"
   },
   "outputs": [],
   "source": [
    "spb_general = df[df['city']=='Saint-Petersburg']"
   ]
  },
  {
   "cell_type": "markdown",
   "metadata": {
    "id": "MEJV-CX2_Zcu",
    "tags": [
     "start_task"
    ]
   },
   "source": [
    "Создадим функцию `genre_weekday()` с четырьмя параметрами:\n",
    "* таблица (датафрейм) с данными,\n",
    "* день недели,\n",
    "* начальная временная метка в формате 'hh:mm', \n",
    "* последняя временная метка в формате 'hh:mm'.\n",
    "\n",
    "Функция должна вернуть информацию о топ-10 жанров тех треков, которые прослушивали в указанный день, в промежутке между двумя отметками времени."
   ]
  },
  {
   "cell_type": "code",
   "execution_count": 203,
   "metadata": {
    "deletable": false,
    "id": "laJT9BYl_Zcu"
   },
   "outputs": [],
   "source": [
    "def genre_weekday(df, day, time1, time2):\n",
    "    genre_df = df[df['day']==day]\n",
    "    genre_df = genre_df[genre_df['time']>time1]\n",
    "    genre_df = genre_df[genre_df['time']<time2]\n",
    "    genre_df_count = genre_df.groupby('genre')['genre'].count()\n",
    "    genre_df_sorted = genre_df_count.sort_values(ascending=False)\n",
    "    return genre_df_sorted[:10]"
   ]
  },
  {
   "cell_type": "markdown",
   "metadata": {
    "id": "la2s2_PF_Zcu",
    "tags": [
     "start_task"
    ]
   },
   "source": [
    "Сравним результаты функции `genre_weekday()` для Москвы и Санкт-Петербурга в понедельник утром (с 7:00 до 11:00) и в пятницу вечером (с 17:00 до 23:00):"
   ]
  },
  {
   "cell_type": "code",
   "execution_count": 204,
   "metadata": {
    "deletable": false,
    "id": "yz7itPUQ_Zcu"
   },
   "outputs": [
    {
     "data": {
      "text/plain": [
       "genre\n",
       "pop            781\n",
       "dance          549\n",
       "electronic     480\n",
       "rock           474\n",
       "hiphop         286\n",
       "ruspop         186\n",
       "world          181\n",
       "rusrap         175\n",
       "alternative    164\n",
       "unknown        161\n",
       "Name: genre, dtype: int64"
      ]
     },
     "execution_count": 204,
     "metadata": {},
     "output_type": "execute_result"
    }
   ],
   "source": [
    "genre_weekday(moscow_general, 'Monday', '07:00', '11:00')"
   ]
  },
  {
   "cell_type": "code",
   "execution_count": 205,
   "metadata": {
    "deletable": false,
    "id": "kwUcHPdy_Zcu"
   },
   "outputs": [
    {
     "data": {
      "text/plain": [
       "genre\n",
       "pop            218\n",
       "dance          182\n",
       "rock           162\n",
       "electronic     147\n",
       "hiphop          80\n",
       "ruspop          64\n",
       "alternative     58\n",
       "rusrap          55\n",
       "jazz            44\n",
       "classical       40\n",
       "Name: genre, dtype: int64"
      ]
     },
     "execution_count": 205,
     "metadata": {},
     "output_type": "execute_result"
    }
   ],
   "source": [
    "genre_weekday(spb_general, 'Monday', '07:00', '11:00')"
   ]
  },
  {
   "cell_type": "code",
   "execution_count": 206,
   "metadata": {
    "deletable": false,
    "id": "EzXVRE1o_Zcu"
   },
   "outputs": [
    {
     "data": {
      "text/plain": [
       "genre\n",
       "pop            713\n",
       "rock           517\n",
       "dance          495\n",
       "electronic     482\n",
       "hiphop         273\n",
       "world          208\n",
       "ruspop         170\n",
       "alternative    163\n",
       "classical      163\n",
       "rusrap         142\n",
       "Name: genre, dtype: int64"
      ]
     },
     "execution_count": 206,
     "metadata": {},
     "output_type": "execute_result"
    }
   ],
   "source": [
    "genre_weekday(moscow_general, 'Friday', '17:00', '23:00')"
   ]
  },
  {
   "cell_type": "code",
   "execution_count": 207,
   "metadata": {
    "deletable": false,
    "id": "JZaEKu5v_Zcu"
   },
   "outputs": [
    {
     "data": {
      "text/plain": [
       "genre\n",
       "pop            256\n",
       "electronic     216\n",
       "rock           216\n",
       "dance          210\n",
       "hiphop          97\n",
       "alternative     63\n",
       "jazz            61\n",
       "classical       60\n",
       "rusrap          59\n",
       "world           54\n",
       "Name: genre, dtype: int64"
      ]
     },
     "execution_count": 207,
     "metadata": {},
     "output_type": "execute_result"
    }
   ],
   "source": [
    "genre_weekday(spb_general, 'Friday', '17:00', '23:00')"
   ]
  },
  {
   "cell_type": "markdown",
   "metadata": {
    "id": "wrCe4MNX_Zcu"
   },
   "source": [
    "**Выводы**\n",
    "\n",
    "Если сравнить топ-10 жанров в понедельник утром, можно сделать такие выводы:\n",
    "\n",
    "1. В Москве и Петербурге слушают похожую музыку. Единственное отличие — в московский рейтинг вошёл жанр “world”, а в петербургский — джаз и классика.\n",
    "\n",
    "2. В Москве пропущенных значений оказалось так много, что значение `'unknown'` заняло десятое место среди самых популярных жанров. Значит, пропущенные значения занимают существенную долю в данных и угрожают достоверности исследования.\n",
    "\n",
    "Вечер пятницы не меняет эту картину. Некоторые жанры поднимаются немного выше, другие спускаются, но в целом топ-10 остаётся тем же самым.\n",
    "\n",
    "Таким образом, вторая гипотеза подтвердилась лишь частично:\n",
    "* Пользователи слушают похожую музыку в начале недели и в конце.\n",
    "* Разница между Москвой и Петербургом не слишком выражена. В Москве чаще слушают русскую популярную музыку, в Петербурге — джаз.\n",
    "\n",
    "Однако пропуски в данных ставят под сомнение этот результат. В Москве их так много, что рейтинг топ-10 мог бы выглядеть иначе, если бы не утерянные  данные о жанрах."
   ]
  },
  {
   "cell_type": "markdown",
   "metadata": {
    "id": "JolODAqr_Zcu"
   },
   "source": [
    "### Жанровые предпочтения в Москве и Петербурге\n",
    "\n",
    "Гипотеза: Петербург — столица рэпа, музыку этого жанра там слушают чаще, чем в Москве.  А Москва — город контрастов, в котором, тем не менее, преобладает поп-музыка."
   ]
  },
  {
   "cell_type": "markdown",
   "metadata": {
    "id": "DlegSvaT_Zcu",
    "tags": [
     "start_task"
    ]
   },
   "source": [
    "Сгруппируем таблицу `moscow_general` по жанру и посчитаем прослушивания треков каждого жанра методом `count()`. Затем отсортируем результат в порядке убывания и сохраним его в таблице `moscow_genres`."
   ]
  },
  {
   "cell_type": "code",
   "execution_count": 209,
   "metadata": {
    "deletable": false,
    "id": "r19lIPke_Zcu"
   },
   "outputs": [],
   "source": [
    "moscow_genres = moscow_general.groupby('genre')['genre'].count().sort_values(ascending=False)"
   ]
  },
  {
   "cell_type": "markdown",
   "metadata": {
    "id": "6kMuomxTiIr8",
    "tags": [
     "start_task"
    ]
   },
   "source": [
    "Выведем на экран первые десять строк `moscow_genres`:"
   ]
  },
  {
   "cell_type": "code",
   "execution_count": 210,
   "metadata": {
    "deletable": false,
    "id": "WhCSooF8_Zcv"
   },
   "outputs": [
    {
     "data": {
      "text/plain": [
       "genre\n",
       "pop            5892\n",
       "dance          4435\n",
       "rock           3965\n",
       "electronic     3786\n",
       "hiphop         2096\n",
       "classical      1616\n",
       "world          1432\n",
       "alternative    1379\n",
       "ruspop         1372\n",
       "rusrap         1161\n",
       "Name: genre, dtype: int64"
      ]
     },
     "execution_count": 210,
     "metadata": {},
     "output_type": "execute_result"
    }
   ],
   "source": [
    "moscow_genres.head(10)"
   ]
  },
  {
   "cell_type": "markdown",
   "metadata": {
    "id": "cnPG2vnN_Zcv",
    "tags": [
     "start_task"
    ]
   },
   "source": [
    "Теперь повторим то же и для Петербурга."
   ]
  },
  {
   "cell_type": "code",
   "execution_count": 212,
   "metadata": {
    "deletable": false,
    "id": "gluLIpE7_Zcv"
   },
   "outputs": [],
   "source": [
    "spb_genres = spb_general.groupby('genre')['genre'].count().sort_values(ascending=False)"
   ]
  },
  {
   "cell_type": "markdown",
   "metadata": {
    "id": "5Doha_ODgyQ8",
    "tags": [
     "start_task"
    ]
   },
   "source": [
    "Выведите на экран первые десять строк `spb_genres`:"
   ]
  },
  {
   "cell_type": "code",
   "execution_count": 213,
   "metadata": {
    "deletable": false,
    "id": "uaGJHjVU_Zcv"
   },
   "outputs": [
    {
     "data": {
      "text/plain": [
       "genre\n",
       "pop            2431\n",
       "dance          1932\n",
       "rock           1879\n",
       "electronic     1736\n",
       "hiphop          960\n",
       "alternative     649\n",
       "classical       646\n",
       "rusrap          564\n",
       "ruspop          538\n",
       "world           515\n",
       "Name: genre, dtype: int64"
      ]
     },
     "execution_count": 213,
     "metadata": {},
     "output_type": "execute_result"
    }
   ],
   "source": [
    "spb_genres.head(10)"
   ]
  },
  {
   "cell_type": "markdown",
   "metadata": {
    "id": "RY51YJYu_Zcv"
   },
   "source": [
    "**Выводы**"
   ]
  },
  {
   "cell_type": "markdown",
   "metadata": {
    "deletable": false,
    "editable": false,
    "id": "nVhnJEm__Zcv"
   },
   "source": [
    "Гипотеза частично подтвердилась:\n",
    "* Поп-музыка — самый популярный жанр в Москве, как и предполагала гипотеза. Более того, в топ-10 жанров встречается близкий жанр — русская популярная музыка.\n",
    "* Вопреки ожиданиям, рэп одинаково популярен в Москве и Петербурге. \n"
   ]
  },
  {
   "cell_type": "markdown",
   "metadata": {
    "deletable": false,
    "editable": false,
    "id": "ykKQ0N65_Zcv"
   },
   "source": [
    "## Итоги исследования"
   ]
  },
  {
   "cell_type": "markdown",
   "metadata": {
    "id": "tjUwbHb3_Zcv"
   },
   "source": [
    "Было проверено три гипотезы. Установлено:\n",
    "\n",
    "1. День недели по-разному влияет на активность пользователей в Москве и Петербурге. \n",
    "\n",
    "Первая гипотеза полностью подтвердилась.\n",
    "\n",
    "2. Музыкальные предпочтения не сильно меняются в течение недели — будь то Москва или Петербург. Небольшие различия заметны в начале недели, по понедельникам:\n",
    "* в Москве слушают музыку жанра “world”,\n",
    "* в Петербурге — джаз и классику.\n",
    "\n",
    "Таким образом, вторая гипотеза подтвердилась лишь отчасти. Этот результат мог оказаться иным, если бы не пропуски в данных.\n",
    "\n",
    "3. Во вкусах пользователей Москвы и Петербурга больше общего чем различий. Вопреки ожиданиям, предпочтения жанров в Петербурге напоминают московские.\n",
    "\n",
    "Третья гипотеза не подтвердилась. Если различия в предпочтениях и существуют, на основной массе пользователей они незаметны."
   ]
  }
 ],
 "metadata": {
  "ExecuteTimeLog": [
   {
    "duration": 355,
    "start_time": "2022-09-13T13:26:10.795Z"
   },
   {
    "duration": 234,
    "start_time": "2022-09-13T13:27:07.614Z"
   },
   {
    "duration": 161,
    "start_time": "2022-09-13T13:27:33.880Z"
   },
   {
    "duration": 170,
    "start_time": "2022-09-13T13:27:42.297Z"
   },
   {
    "duration": 10,
    "start_time": "2022-09-13T13:28:33.147Z"
   },
   {
    "duration": 29,
    "start_time": "2022-09-13T13:29:53.216Z"
   },
   {
    "duration": 65,
    "start_time": "2022-09-13T13:34:06.572Z"
   },
   {
    "duration": 5,
    "start_time": "2022-09-13T13:34:59.562Z"
   },
   {
    "duration": 44,
    "start_time": "2022-09-13T13:37:23.322Z"
   },
   {
    "duration": 20,
    "start_time": "2022-09-13T13:37:54.398Z"
   },
   {
    "duration": 12,
    "start_time": "2022-09-13T13:38:53.117Z"
   },
   {
    "duration": 13,
    "start_time": "2022-09-13T13:39:30.408Z"
   },
   {
    "duration": 4,
    "start_time": "2022-09-13T13:39:54.266Z"
   },
   {
    "duration": 4,
    "start_time": "2022-09-13T13:40:54.090Z"
   },
   {
    "duration": 8,
    "start_time": "2022-09-13T13:41:10.379Z"
   },
   {
    "duration": 4,
    "start_time": "2022-09-13T13:41:13.179Z"
   },
   {
    "duration": 53,
    "start_time": "2022-09-15T16:09:44.986Z"
   },
   {
    "duration": 404,
    "start_time": "2022-09-15T16:10:07.348Z"
   },
   {
    "duration": 527,
    "start_time": "2022-09-15T16:10:07.754Z"
   },
   {
    "duration": 19,
    "start_time": "2022-09-15T16:10:08.285Z"
   },
   {
    "duration": 34,
    "start_time": "2022-09-15T16:10:08.307Z"
   },
   {
    "duration": 10,
    "start_time": "2022-09-15T16:10:08.342Z"
   },
   {
    "duration": 14,
    "start_time": "2022-09-15T16:10:08.353Z"
   },
   {
    "duration": 15,
    "start_time": "2022-09-15T16:10:08.368Z"
   },
   {
    "duration": 22,
    "start_time": "2022-09-15T16:10:08.385Z"
   },
   {
    "duration": 26,
    "start_time": "2022-09-15T16:10:12.513Z"
   },
   {
    "duration": 17,
    "start_time": "2022-09-15T16:13:38.594Z"
   },
   {
    "duration": 24,
    "start_time": "2022-09-15T16:14:28.696Z"
   },
   {
    "duration": 30,
    "start_time": "2022-09-15T16:15:53.615Z"
   },
   {
    "duration": 65,
    "start_time": "2022-09-15T16:16:13.493Z"
   },
   {
    "duration": 69,
    "start_time": "2022-09-15T16:16:34.574Z"
   },
   {
    "duration": 68,
    "start_time": "2022-09-15T16:17:30.122Z"
   },
   {
    "duration": 6,
    "start_time": "2022-09-15T16:18:04.177Z"
   },
   {
    "duration": 54,
    "start_time": "2022-09-15T16:21:02.218Z"
   },
   {
    "duration": 10,
    "start_time": "2022-09-15T16:21:40.787Z"
   },
   {
    "duration": 53,
    "start_time": "2022-09-15T16:21:47.057Z"
   },
   {
    "duration": 34,
    "start_time": "2022-09-15T16:23:13.729Z"
   },
   {
    "duration": 40,
    "start_time": "2022-09-15T16:23:42.187Z"
   },
   {
    "duration": 44,
    "start_time": "2022-09-15T16:23:48.189Z"
   },
   {
    "duration": 39,
    "start_time": "2022-09-15T16:24:23.154Z"
   },
   {
    "duration": 40,
    "start_time": "2022-09-15T16:27:34.827Z"
   },
   {
    "duration": 105,
    "start_time": "2022-09-15T16:28:19.347Z"
   },
   {
    "duration": 43,
    "start_time": "2022-09-15T16:30:05.391Z"
   },
   {
    "duration": 44,
    "start_time": "2022-09-15T16:31:04.197Z"
   },
   {
    "duration": 8,
    "start_time": "2022-09-15T16:38:44.374Z"
   },
   {
    "duration": 9,
    "start_time": "2022-09-15T16:38:58.232Z"
   },
   {
    "duration": 45,
    "start_time": "2022-09-15T16:40:30.770Z"
   },
   {
    "duration": 41,
    "start_time": "2022-09-15T16:40:39.419Z"
   },
   {
    "duration": 36,
    "start_time": "2022-09-15T16:40:52.754Z"
   },
   {
    "duration": 86,
    "start_time": "2022-09-15T16:42:56.763Z"
   },
   {
    "duration": 970,
    "start_time": "2022-09-15T16:45:14.346Z"
   },
   {
    "duration": 934,
    "start_time": "2022-09-15T16:45:59.165Z"
   },
   {
    "duration": 8,
    "start_time": "2022-09-15T16:46:24.748Z"
   },
   {
    "duration": 7,
    "start_time": "2022-09-15T16:47:51.092Z"
   },
   {
    "duration": 8,
    "start_time": "2022-09-15T16:47:58.017Z"
   },
   {
    "duration": 7,
    "start_time": "2022-09-15T16:49:34.252Z"
   },
   {
    "duration": 4,
    "start_time": "2022-09-15T16:49:53.317Z"
   },
   {
    "duration": 42,
    "start_time": "2022-09-15T16:50:17.857Z"
   },
   {
    "duration": 931,
    "start_time": "2022-09-15T16:51:11.539Z"
   },
   {
    "duration": 12,
    "start_time": "2022-09-15T16:52:22.236Z"
   },
   {
    "duration": 9,
    "start_time": "2022-09-15T16:54:55.156Z"
   },
   {
    "duration": 10,
    "start_time": "2022-09-15T16:55:20.503Z"
   },
   {
    "duration": 0,
    "start_time": "2022-09-15T16:55:20.514Z"
   },
   {
    "duration": 3,
    "start_time": "2022-09-15T16:55:20.516Z"
   },
   {
    "duration": 4,
    "start_time": "2022-09-15T16:55:20.523Z"
   },
   {
    "duration": 5,
    "start_time": "2022-09-15T16:55:20.530Z"
   },
   {
    "duration": 8,
    "start_time": "2022-09-15T16:55:20.538Z"
   },
   {
    "duration": 6,
    "start_time": "2022-09-15T16:55:20.548Z"
   },
   {
    "duration": 7,
    "start_time": "2022-09-15T16:55:20.561Z"
   },
   {
    "duration": 20,
    "start_time": "2022-09-15T16:55:20.569Z"
   },
   {
    "duration": 12,
    "start_time": "2022-09-15T16:55:20.591Z"
   },
   {
    "duration": 8,
    "start_time": "2022-09-15T16:55:20.604Z"
   },
   {
    "duration": 6,
    "start_time": "2022-09-15T16:55:20.614Z"
   },
   {
    "duration": 8,
    "start_time": "2022-09-15T16:55:20.622Z"
   },
   {
    "duration": 7,
    "start_time": "2022-09-15T16:55:20.632Z"
   },
   {
    "duration": 100,
    "start_time": "2022-09-15T16:55:20.641Z"
   },
   {
    "duration": 0,
    "start_time": "2022-09-15T16:55:20.742Z"
   },
   {
    "duration": 0,
    "start_time": "2022-09-15T16:55:20.744Z"
   },
   {
    "duration": 0,
    "start_time": "2022-09-15T16:55:20.745Z"
   },
   {
    "duration": 0,
    "start_time": "2022-09-15T16:55:20.746Z"
   },
   {
    "duration": 0,
    "start_time": "2022-09-15T16:55:20.746Z"
   },
   {
    "duration": 0,
    "start_time": "2022-09-15T16:55:20.748Z"
   },
   {
    "duration": 0,
    "start_time": "2022-09-15T16:55:20.749Z"
   },
   {
    "duration": 0,
    "start_time": "2022-09-15T16:55:20.750Z"
   },
   {
    "duration": 3,
    "start_time": "2022-09-15T16:55:34.189Z"
   },
   {
    "duration": 172,
    "start_time": "2022-09-15T16:55:34.195Z"
   },
   {
    "duration": 6,
    "start_time": "2022-09-15T16:55:34.369Z"
   },
   {
    "duration": 36,
    "start_time": "2022-09-15T16:55:34.376Z"
   },
   {
    "duration": 2,
    "start_time": "2022-09-15T16:55:34.414Z"
   },
   {
    "duration": 10,
    "start_time": "2022-09-15T16:55:34.418Z"
   },
   {
    "duration": 22,
    "start_time": "2022-09-15T16:55:34.430Z"
   },
   {
    "duration": 4,
    "start_time": "2022-09-15T16:55:34.453Z"
   },
   {
    "duration": 37,
    "start_time": "2022-09-15T16:55:34.459Z"
   },
   {
    "duration": 18,
    "start_time": "2022-09-15T16:55:34.498Z"
   },
   {
    "duration": 26,
    "start_time": "2022-09-15T16:55:34.518Z"
   },
   {
    "duration": 84,
    "start_time": "2022-09-15T16:55:34.546Z"
   },
   {
    "duration": 75,
    "start_time": "2022-09-15T16:55:34.632Z"
   },
   {
    "duration": 61,
    "start_time": "2022-09-15T16:55:34.709Z"
   },
   {
    "duration": 50,
    "start_time": "2022-09-15T16:55:34.772Z"
   },
   {
    "duration": 9,
    "start_time": "2022-09-15T16:55:44.057Z"
   },
   {
    "duration": 14,
    "start_time": "2022-09-15T16:56:03.427Z"
   },
   {
    "duration": 38,
    "start_time": "2022-09-15T16:56:43.928Z"
   },
   {
    "duration": 11,
    "start_time": "2022-09-15T16:59:16.945Z"
   },
   {
    "duration": 11,
    "start_time": "2022-09-15T17:01:05.823Z"
   },
   {
    "duration": 11,
    "start_time": "2022-09-15T17:01:59.760Z"
   },
   {
    "duration": 12,
    "start_time": "2022-09-15T17:02:45.937Z"
   },
   {
    "duration": 10,
    "start_time": "2022-09-15T17:03:24.890Z"
   },
   {
    "duration": 6,
    "start_time": "2022-09-15T17:04:28.100Z"
   },
   {
    "duration": 7,
    "start_time": "2022-09-15T17:04:39.796Z"
   },
   {
    "duration": 7,
    "start_time": "2022-09-15T17:04:55.863Z"
   },
   {
    "duration": 10,
    "start_time": "2022-09-15T17:05:26.730Z"
   },
   {
    "duration": 7,
    "start_time": "2022-09-15T17:05:43.205Z"
   },
   {
    "duration": 4,
    "start_time": "2022-09-15T17:05:48.085Z"
   },
   {
    "duration": 7,
    "start_time": "2022-09-15T17:05:56.691Z"
   },
   {
    "duration": 9,
    "start_time": "2022-09-15T17:05:59.677Z"
   },
   {
    "duration": 7,
    "start_time": "2022-09-15T17:06:07.183Z"
   },
   {
    "duration": 8,
    "start_time": "2022-09-15T17:06:16.592Z"
   },
   {
    "duration": 4,
    "start_time": "2022-09-15T17:06:22.976Z"
   },
   {
    "duration": 34,
    "start_time": "2022-09-15T17:08:58.634Z"
   },
   {
    "duration": 12,
    "start_time": "2022-09-15T17:09:54.481Z"
   },
   {
    "duration": 11,
    "start_time": "2022-09-15T17:11:43.445Z"
   },
   {
    "duration": 10,
    "start_time": "2022-09-15T17:12:00.133Z"
   },
   {
    "duration": 12,
    "start_time": "2022-09-15T17:12:20.514Z"
   },
   {
    "duration": 15,
    "start_time": "2022-09-15T17:15:48.149Z"
   },
   {
    "duration": 26,
    "start_time": "2022-09-15T17:16:28.641Z"
   },
   {
    "duration": 36,
    "start_time": "2022-09-15T17:17:14.751Z"
   },
   {
    "duration": 26,
    "start_time": "2022-09-15T17:19:29.757Z"
   },
   {
    "duration": 134,
    "start_time": "2022-09-15T17:20:00.995Z"
   },
   {
    "duration": 28,
    "start_time": "2022-09-15T17:20:35.013Z"
   },
   {
    "duration": 400,
    "start_time": "2022-09-16T07:15:35.533Z"
   },
   {
    "duration": 465,
    "start_time": "2022-09-16T07:15:35.935Z"
   },
   {
    "duration": 8,
    "start_time": "2022-09-16T07:15:36.402Z"
   },
   {
    "duration": 29,
    "start_time": "2022-09-16T07:15:36.413Z"
   },
   {
    "duration": 2,
    "start_time": "2022-09-16T07:15:36.444Z"
   },
   {
    "duration": 14,
    "start_time": "2022-09-16T07:15:36.447Z"
   },
   {
    "duration": 37,
    "start_time": "2022-09-16T07:15:36.462Z"
   },
   {
    "duration": 6,
    "start_time": "2022-09-16T07:15:36.502Z"
   },
   {
    "duration": 49,
    "start_time": "2022-09-16T07:15:36.510Z"
   },
   {
    "duration": 26,
    "start_time": "2022-09-16T07:15:36.564Z"
   },
   {
    "duration": 30,
    "start_time": "2022-09-16T07:15:36.595Z"
   },
   {
    "duration": 110,
    "start_time": "2022-09-16T07:15:36.627Z"
   },
   {
    "duration": 92,
    "start_time": "2022-09-16T07:15:36.739Z"
   },
   {
    "duration": 76,
    "start_time": "2022-09-16T07:15:36.833Z"
   },
   {
    "duration": 38,
    "start_time": "2022-09-16T07:15:36.911Z"
   },
   {
    "duration": 11,
    "start_time": "2022-09-16T07:15:36.951Z"
   },
   {
    "duration": 55,
    "start_time": "2022-09-16T07:15:36.964Z"
   },
   {
    "duration": 15,
    "start_time": "2022-09-16T07:15:37.022Z"
   },
   {
    "duration": 22,
    "start_time": "2022-09-16T07:15:37.039Z"
   },
   {
    "duration": 4,
    "start_time": "2022-09-16T07:15:37.063Z"
   },
   {
    "duration": 26,
    "start_time": "2022-09-16T07:15:37.069Z"
   },
   {
    "duration": 6,
    "start_time": "2022-09-16T07:15:37.098Z"
   },
   {
    "duration": 6,
    "start_time": "2022-09-16T07:15:37.106Z"
   },
   {
    "duration": 5,
    "start_time": "2022-09-16T07:15:37.114Z"
   },
   {
    "duration": 9,
    "start_time": "2022-09-16T07:15:37.121Z"
   },
   {
    "duration": 7,
    "start_time": "2022-09-16T07:15:37.131Z"
   },
   {
    "duration": 6,
    "start_time": "2022-09-16T07:15:37.139Z"
   },
   {
    "duration": 6,
    "start_time": "2022-09-16T07:15:37.149Z"
   },
   {
    "duration": 5,
    "start_time": "2022-09-16T07:15:37.157Z"
   },
   {
    "duration": 79,
    "start_time": "2022-09-16T07:15:37.164Z"
   },
   {
    "duration": 0,
    "start_time": "2022-09-16T07:15:37.245Z"
   },
   {
    "duration": 0,
    "start_time": "2022-09-16T07:15:37.246Z"
   },
   {
    "duration": 0,
    "start_time": "2022-09-16T07:15:37.248Z"
   },
   {
    "duration": 0,
    "start_time": "2022-09-16T07:15:37.249Z"
   },
   {
    "duration": 0,
    "start_time": "2022-09-16T07:15:37.250Z"
   },
   {
    "duration": 0,
    "start_time": "2022-09-16T07:15:37.251Z"
   },
   {
    "duration": 0,
    "start_time": "2022-09-16T07:15:37.252Z"
   },
   {
    "duration": 0,
    "start_time": "2022-09-16T07:15:37.253Z"
   },
   {
    "duration": 71,
    "start_time": "2022-09-16T07:27:51.147Z"
   },
   {
    "duration": 67,
    "start_time": "2022-09-16T07:28:02.268Z"
   },
   {
    "duration": 122,
    "start_time": "2022-09-16T07:30:30.052Z"
   },
   {
    "duration": 842,
    "start_time": "2022-09-16T07:35:15.855Z"
   },
   {
    "duration": 324,
    "start_time": "2022-09-17T09:41:50.730Z"
   },
   {
    "duration": 432,
    "start_time": "2022-09-17T09:41:51.056Z"
   },
   {
    "duration": 10,
    "start_time": "2022-09-17T09:41:51.489Z"
   },
   {
    "duration": 40,
    "start_time": "2022-09-17T09:41:51.500Z"
   },
   {
    "duration": 2,
    "start_time": "2022-09-17T09:41:51.543Z"
   },
   {
    "duration": 10,
    "start_time": "2022-09-17T09:41:51.547Z"
   },
   {
    "duration": 26,
    "start_time": "2022-09-17T09:41:51.558Z"
   },
   {
    "duration": 7,
    "start_time": "2022-09-17T09:41:51.585Z"
   },
   {
    "duration": 24,
    "start_time": "2022-09-17T09:41:51.593Z"
   },
   {
    "duration": 16,
    "start_time": "2022-09-17T09:41:51.619Z"
   },
   {
    "duration": 41,
    "start_time": "2022-09-17T09:41:51.637Z"
   },
   {
    "duration": 58,
    "start_time": "2022-09-17T09:41:51.680Z"
   },
   {
    "duration": 76,
    "start_time": "2022-09-17T09:41:51.740Z"
   },
   {
    "duration": 60,
    "start_time": "2022-09-17T09:41:51.819Z"
   },
   {
    "duration": 32,
    "start_time": "2022-09-17T09:41:51.881Z"
   },
   {
    "duration": 10,
    "start_time": "2022-09-17T09:41:51.915Z"
   },
   {
    "duration": 50,
    "start_time": "2022-09-17T09:41:51.927Z"
   },
   {
    "duration": 9,
    "start_time": "2022-09-17T09:41:51.979Z"
   },
   {
    "duration": 14,
    "start_time": "2022-09-17T09:41:51.989Z"
   },
   {
    "duration": 140,
    "start_time": "2022-09-17T09:41:52.005Z"
   },
   {
    "duration": 0,
    "start_time": "2022-09-17T09:41:52.147Z"
   },
   {
    "duration": 0,
    "start_time": "2022-09-17T09:41:52.148Z"
   },
   {
    "duration": 0,
    "start_time": "2022-09-17T09:41:52.149Z"
   },
   {
    "duration": 0,
    "start_time": "2022-09-17T09:41:52.149Z"
   },
   {
    "duration": 0,
    "start_time": "2022-09-17T09:41:52.151Z"
   },
   {
    "duration": 0,
    "start_time": "2022-09-17T09:41:52.152Z"
   },
   {
    "duration": 0,
    "start_time": "2022-09-17T09:41:52.153Z"
   },
   {
    "duration": 0,
    "start_time": "2022-09-17T09:41:52.154Z"
   },
   {
    "duration": 0,
    "start_time": "2022-09-17T09:41:52.155Z"
   },
   {
    "duration": 0,
    "start_time": "2022-09-17T09:41:52.156Z"
   },
   {
    "duration": 0,
    "start_time": "2022-09-17T09:41:52.157Z"
   },
   {
    "duration": 0,
    "start_time": "2022-09-17T09:41:52.158Z"
   },
   {
    "duration": 0,
    "start_time": "2022-09-17T09:41:52.158Z"
   },
   {
    "duration": 0,
    "start_time": "2022-09-17T09:41:52.159Z"
   },
   {
    "duration": 0,
    "start_time": "2022-09-17T09:41:52.160Z"
   },
   {
    "duration": 0,
    "start_time": "2022-09-17T09:41:52.161Z"
   },
   {
    "duration": 0,
    "start_time": "2022-09-17T09:41:52.162Z"
   },
   {
    "duration": 0,
    "start_time": "2022-09-17T09:41:52.163Z"
   },
   {
    "duration": 77,
    "start_time": "2022-09-17T09:43:09.997Z"
   },
   {
    "duration": 56,
    "start_time": "2022-09-17T09:50:49.851Z"
   },
   {
    "duration": 7,
    "start_time": "2022-09-17T09:53:30.466Z"
   },
   {
    "duration": 7,
    "start_time": "2022-09-17T09:53:39.185Z"
   },
   {
    "duration": 7,
    "start_time": "2022-09-17T09:54:46.061Z"
   },
   {
    "duration": 2,
    "start_time": "2022-09-17T09:54:54.479Z"
   },
   {
    "duration": 153,
    "start_time": "2022-09-17T09:54:54.482Z"
   },
   {
    "duration": 6,
    "start_time": "2022-09-17T09:54:54.637Z"
   },
   {
    "duration": 34,
    "start_time": "2022-09-17T09:54:54.644Z"
   },
   {
    "duration": 2,
    "start_time": "2022-09-17T09:54:54.680Z"
   },
   {
    "duration": 8,
    "start_time": "2022-09-17T09:54:54.683Z"
   },
   {
    "duration": 13,
    "start_time": "2022-09-17T09:54:54.692Z"
   },
   {
    "duration": 4,
    "start_time": "2022-09-17T09:54:54.706Z"
   },
   {
    "duration": 22,
    "start_time": "2022-09-17T09:54:54.711Z"
   },
   {
    "duration": 16,
    "start_time": "2022-09-17T09:54:54.734Z"
   },
   {
    "duration": 39,
    "start_time": "2022-09-17T09:54:54.752Z"
   },
   {
    "duration": 59,
    "start_time": "2022-09-17T09:54:54.792Z"
   },
   {
    "duration": 69,
    "start_time": "2022-09-17T09:54:54.852Z"
   },
   {
    "duration": 63,
    "start_time": "2022-09-17T09:54:54.923Z"
   },
   {
    "duration": 31,
    "start_time": "2022-09-17T09:54:54.987Z"
   },
   {
    "duration": 9,
    "start_time": "2022-09-17T09:54:55.020Z"
   },
   {
    "duration": 52,
    "start_time": "2022-09-17T09:54:55.031Z"
   },
   {
    "duration": 8,
    "start_time": "2022-09-17T09:54:55.084Z"
   },
   {
    "duration": 14,
    "start_time": "2022-09-17T09:54:55.094Z"
   },
   {
    "duration": 7,
    "start_time": "2022-09-17T09:54:55.109Z"
   },
   {
    "duration": 0,
    "start_time": "2022-09-17T09:54:55.118Z"
   },
   {
    "duration": 0,
    "start_time": "2022-09-17T09:54:55.119Z"
   },
   {
    "duration": 0,
    "start_time": "2022-09-17T09:54:55.120Z"
   },
   {
    "duration": 0,
    "start_time": "2022-09-17T09:54:55.121Z"
   },
   {
    "duration": 0,
    "start_time": "2022-09-17T09:54:55.121Z"
   },
   {
    "duration": 0,
    "start_time": "2022-09-17T09:54:55.123Z"
   },
   {
    "duration": 0,
    "start_time": "2022-09-17T09:54:55.123Z"
   },
   {
    "duration": 0,
    "start_time": "2022-09-17T09:54:55.125Z"
   },
   {
    "duration": 0,
    "start_time": "2022-09-17T09:54:55.126Z"
   },
   {
    "duration": 0,
    "start_time": "2022-09-17T09:54:55.127Z"
   },
   {
    "duration": 0,
    "start_time": "2022-09-17T09:54:55.128Z"
   },
   {
    "duration": 0,
    "start_time": "2022-09-17T09:54:55.128Z"
   },
   {
    "duration": 0,
    "start_time": "2022-09-17T09:54:55.129Z"
   },
   {
    "duration": 0,
    "start_time": "2022-09-17T09:54:55.130Z"
   },
   {
    "duration": 0,
    "start_time": "2022-09-17T09:54:55.131Z"
   },
   {
    "duration": 0,
    "start_time": "2022-09-17T09:54:55.132Z"
   },
   {
    "duration": 0,
    "start_time": "2022-09-17T09:54:55.133Z"
   },
   {
    "duration": 0,
    "start_time": "2022-09-17T09:54:55.133Z"
   },
   {
    "duration": 7,
    "start_time": "2022-09-17T09:55:41.239Z"
   },
   {
    "duration": 9,
    "start_time": "2022-09-17T09:55:53.395Z"
   },
   {
    "duration": 7,
    "start_time": "2022-09-17T09:57:55.901Z"
   },
   {
    "duration": 9,
    "start_time": "2022-09-17T09:58:20.197Z"
   },
   {
    "duration": 11,
    "start_time": "2022-09-17T09:58:23.234Z"
   },
   {
    "duration": 7,
    "start_time": "2022-09-17T09:59:04.443Z"
   },
   {
    "duration": 12,
    "start_time": "2022-09-17T09:59:20.709Z"
   },
   {
    "duration": 7,
    "start_time": "2022-09-17T10:00:00.191Z"
   },
   {
    "duration": 7,
    "start_time": "2022-09-17T10:00:51.946Z"
   },
   {
    "duration": 11,
    "start_time": "2022-09-17T10:01:34.096Z"
   },
   {
    "duration": 11,
    "start_time": "2022-09-17T10:01:37.076Z"
   },
   {
    "duration": 14,
    "start_time": "2022-09-17T10:01:51.388Z"
   },
   {
    "duration": 8,
    "start_time": "2022-09-17T10:02:24.992Z"
   },
   {
    "duration": 16,
    "start_time": "2022-09-17T10:03:53.289Z"
   },
   {
    "duration": 28,
    "start_time": "2022-09-17T10:04:52.088Z"
   },
   {
    "duration": 24,
    "start_time": "2022-09-17T10:05:39.202Z"
   },
   {
    "duration": 18,
    "start_time": "2022-09-17T10:06:25.535Z"
   },
   {
    "duration": 16,
    "start_time": "2022-09-17T10:07:38.368Z"
   },
   {
    "duration": 7,
    "start_time": "2022-09-17T10:08:10.256Z"
   },
   {
    "duration": 18,
    "start_time": "2022-09-17T10:08:28.151Z"
   },
   {
    "duration": 16,
    "start_time": "2022-09-17T10:09:58.090Z"
   },
   {
    "duration": 14,
    "start_time": "2022-09-17T10:10:06.662Z"
   },
   {
    "duration": 14,
    "start_time": "2022-09-17T10:10:16.829Z"
   },
   {
    "duration": 16,
    "start_time": "2022-09-17T10:10:25.858Z"
   },
   {
    "duration": 21,
    "start_time": "2022-09-17T10:10:47.673Z"
   },
   {
    "duration": 15,
    "start_time": "2022-09-17T10:10:57.491Z"
   },
   {
    "duration": 15,
    "start_time": "2022-09-17T10:18:52.539Z"
   },
   {
    "duration": 67,
    "start_time": "2022-09-17T10:21:21.396Z"
   },
   {
    "duration": 1490,
    "start_time": "2022-09-17T10:21:32.609Z"
   },
   {
    "duration": 11,
    "start_time": "2022-09-17T10:22:41.867Z"
   },
   {
    "duration": 8,
    "start_time": "2022-09-17T10:22:47.821Z"
   },
   {
    "duration": 10,
    "start_time": "2022-09-17T10:23:30.713Z"
   },
   {
    "duration": 16,
    "start_time": "2022-09-17T10:24:18.103Z"
   },
   {
    "duration": 4,
    "start_time": "2022-09-17T10:35:34.495Z"
   },
   {
    "duration": 4,
    "start_time": "2022-09-17T10:41:57.532Z"
   },
   {
    "duration": 4,
    "start_time": "2022-09-17T10:46:16.510Z"
   },
   {
    "duration": 4,
    "start_time": "2022-09-17T10:47:54.966Z"
   },
   {
    "duration": 5,
    "start_time": "2022-09-17T10:49:59.385Z"
   },
   {
    "duration": 4,
    "start_time": "2022-09-17T10:53:22.020Z"
   },
   {
    "duration": 4,
    "start_time": "2022-09-17T10:54:55.139Z"
   },
   {
    "duration": 4,
    "start_time": "2022-09-17T10:55:39.956Z"
   },
   {
    "duration": 3,
    "start_time": "2022-09-17T10:58:45.034Z"
   },
   {
    "duration": 4,
    "start_time": "2022-09-17T11:01:03.513Z"
   },
   {
    "duration": 5,
    "start_time": "2022-09-17T11:01:21.610Z"
   },
   {
    "duration": 5,
    "start_time": "2022-09-17T11:01:37.239Z"
   },
   {
    "duration": 4,
    "start_time": "2022-09-17T11:01:46.219Z"
   },
   {
    "duration": 11,
    "start_time": "2022-09-17T11:02:36.800Z"
   },
   {
    "duration": 2,
    "start_time": "2022-09-17T11:02:56.706Z"
   },
   {
    "duration": 165,
    "start_time": "2022-09-17T11:02:56.710Z"
   },
   {
    "duration": 13,
    "start_time": "2022-09-17T11:02:56.879Z"
   },
   {
    "duration": 43,
    "start_time": "2022-09-17T11:02:56.897Z"
   },
   {
    "duration": 2,
    "start_time": "2022-09-17T11:02:56.941Z"
   },
   {
    "duration": 8,
    "start_time": "2022-09-17T11:02:56.945Z"
   },
   {
    "duration": 12,
    "start_time": "2022-09-17T11:02:56.954Z"
   },
   {
    "duration": 5,
    "start_time": "2022-09-17T11:02:56.968Z"
   },
   {
    "duration": 74,
    "start_time": "2022-09-17T11:02:56.975Z"
   },
   {
    "duration": 16,
    "start_time": "2022-09-17T11:02:57.051Z"
   },
   {
    "duration": 40,
    "start_time": "2022-09-17T11:02:57.069Z"
   },
   {
    "duration": 58,
    "start_time": "2022-09-17T11:02:57.111Z"
   },
   {
    "duration": 68,
    "start_time": "2022-09-17T11:02:57.171Z"
   },
   {
    "duration": 62,
    "start_time": "2022-09-17T11:02:57.241Z"
   },
   {
    "duration": 37,
    "start_time": "2022-09-17T11:02:57.305Z"
   },
   {
    "duration": 9,
    "start_time": "2022-09-17T11:02:57.344Z"
   },
   {
    "duration": 62,
    "start_time": "2022-09-17T11:02:57.355Z"
   },
   {
    "duration": 9,
    "start_time": "2022-09-17T11:02:57.418Z"
   },
   {
    "duration": 17,
    "start_time": "2022-09-17T11:02:57.428Z"
   },
   {
    "duration": 37,
    "start_time": "2022-09-17T11:02:57.446Z"
   },
   {
    "duration": 20,
    "start_time": "2022-09-17T11:02:57.485Z"
   },
   {
    "duration": 26,
    "start_time": "2022-09-17T11:02:57.507Z"
   },
   {
    "duration": 13,
    "start_time": "2022-09-17T11:02:57.535Z"
   },
   {
    "duration": 13,
    "start_time": "2022-09-17T11:02:57.551Z"
   },
   {
    "duration": 25,
    "start_time": "2022-09-17T11:02:57.565Z"
   },
   {
    "duration": 37,
    "start_time": "2022-09-17T11:02:57.592Z"
   },
   {
    "duration": 10,
    "start_time": "2022-09-17T11:02:57.631Z"
   },
   {
    "duration": 35,
    "start_time": "2022-09-17T11:02:57.643Z"
   },
   {
    "duration": 34,
    "start_time": "2022-09-17T11:02:57.683Z"
   },
   {
    "duration": 14,
    "start_time": "2022-09-17T11:02:57.720Z"
   },
   {
    "duration": 12,
    "start_time": "2022-09-17T11:02:57.736Z"
   },
   {
    "duration": 23,
    "start_time": "2022-09-17T11:02:57.750Z"
   },
   {
    "duration": 43,
    "start_time": "2022-09-17T11:02:57.776Z"
   },
   {
    "duration": 15,
    "start_time": "2022-09-17T11:02:57.821Z"
   },
   {
    "duration": 6,
    "start_time": "2022-09-17T11:02:57.839Z"
   },
   {
    "duration": 16,
    "start_time": "2022-09-17T11:02:57.847Z"
   },
   {
    "duration": 26,
    "start_time": "2022-09-17T11:02:57.865Z"
   },
   {
    "duration": 18,
    "start_time": "2022-09-17T11:02:57.907Z"
   },
   {
    "duration": 9,
    "start_time": "2022-09-17T11:05:03.019Z"
   },
   {
    "duration": 9,
    "start_time": "2022-09-17T11:05:45.227Z"
   },
   {
    "duration": 4,
    "start_time": "2022-09-17T11:06:12.933Z"
   },
   {
    "duration": 15,
    "start_time": "2022-09-17T11:06:15.884Z"
   },
   {
    "duration": 4,
    "start_time": "2022-09-17T11:07:13.554Z"
   },
   {
    "duration": 15,
    "start_time": "2022-09-17T11:07:17.806Z"
   },
   {
    "duration": 6,
    "start_time": "2022-09-17T11:07:34.232Z"
   },
   {
    "duration": 20,
    "start_time": "2022-09-17T11:07:37.664Z"
   },
   {
    "duration": 17,
    "start_time": "2022-09-17T11:07:52.693Z"
   },
   {
    "duration": 5,
    "start_time": "2022-09-17T11:07:58.362Z"
   },
   {
    "duration": 9,
    "start_time": "2022-09-17T11:08:01.915Z"
   },
   {
    "duration": 13,
    "start_time": "2022-09-17T11:08:17.875Z"
   },
   {
    "duration": 3,
    "start_time": "2022-09-17T11:09:00.871Z"
   },
   {
    "duration": 187,
    "start_time": "2022-09-17T11:09:00.875Z"
   },
   {
    "duration": 6,
    "start_time": "2022-09-17T11:09:01.064Z"
   },
   {
    "duration": 42,
    "start_time": "2022-09-17T11:09:01.077Z"
   },
   {
    "duration": 2,
    "start_time": "2022-09-17T11:09:01.121Z"
   },
   {
    "duration": 10,
    "start_time": "2022-09-17T11:09:01.125Z"
   },
   {
    "duration": 15,
    "start_time": "2022-09-17T11:09:01.137Z"
   },
   {
    "duration": 18,
    "start_time": "2022-09-17T11:09:01.154Z"
   },
   {
    "duration": 46,
    "start_time": "2022-09-17T11:09:01.173Z"
   },
   {
    "duration": 20,
    "start_time": "2022-09-17T11:09:01.221Z"
   },
   {
    "duration": 26,
    "start_time": "2022-09-17T11:09:01.242Z"
   },
   {
    "duration": 82,
    "start_time": "2022-09-17T11:09:01.270Z"
   },
   {
    "duration": 66,
    "start_time": "2022-09-17T11:09:01.354Z"
   },
   {
    "duration": 63,
    "start_time": "2022-09-17T11:09:01.423Z"
   },
   {
    "duration": 39,
    "start_time": "2022-09-17T11:09:01.488Z"
   },
   {
    "duration": 23,
    "start_time": "2022-09-17T11:09:01.529Z"
   },
   {
    "duration": 45,
    "start_time": "2022-09-17T11:09:01.553Z"
   },
   {
    "duration": 10,
    "start_time": "2022-09-17T11:09:01.600Z"
   },
   {
    "duration": 12,
    "start_time": "2022-09-17T11:09:01.612Z"
   },
   {
    "duration": 17,
    "start_time": "2022-09-17T11:09:01.626Z"
   },
   {
    "duration": 42,
    "start_time": "2022-09-17T11:09:01.645Z"
   },
   {
    "duration": 14,
    "start_time": "2022-09-17T11:09:01.692Z"
   },
   {
    "duration": 12,
    "start_time": "2022-09-17T11:09:01.708Z"
   },
   {
    "duration": 13,
    "start_time": "2022-09-17T11:09:01.721Z"
   },
   {
    "duration": 15,
    "start_time": "2022-09-17T11:09:01.735Z"
   },
   {
    "duration": 43,
    "start_time": "2022-09-17T11:09:01.752Z"
   },
   {
    "duration": 8,
    "start_time": "2022-09-17T11:09:01.796Z"
   },
   {
    "duration": 22,
    "start_time": "2022-09-17T11:09:01.805Z"
   },
   {
    "duration": 10,
    "start_time": "2022-09-17T11:09:01.828Z"
   },
   {
    "duration": 5,
    "start_time": "2022-09-17T11:09:01.840Z"
   },
   {
    "duration": 22,
    "start_time": "2022-09-17T11:09:01.846Z"
   },
   {
    "duration": 24,
    "start_time": "2022-09-17T11:09:01.870Z"
   },
   {
    "duration": 4,
    "start_time": "2022-09-17T11:09:01.896Z"
   },
   {
    "duration": 13,
    "start_time": "2022-09-17T11:09:01.902Z"
   },
   {
    "duration": 4,
    "start_time": "2022-09-17T11:09:01.916Z"
   },
   {
    "duration": 5,
    "start_time": "2022-09-17T11:09:01.922Z"
   },
   {
    "duration": 5,
    "start_time": "2022-09-17T11:09:01.928Z"
   },
   {
    "duration": 5,
    "start_time": "2022-09-17T11:09:01.934Z"
   },
   {
    "duration": 4,
    "start_time": "2022-09-17T11:11:24.925Z"
   },
   {
    "duration": 8,
    "start_time": "2022-09-17T11:11:28.006Z"
   },
   {
    "duration": 10,
    "start_time": "2022-09-17T11:11:31.908Z"
   },
   {
    "duration": 4,
    "start_time": "2022-09-17T11:11:35.526Z"
   },
   {
    "duration": 4,
    "start_time": "2022-09-17T11:13:35.895Z"
   },
   {
    "duration": 1480,
    "start_time": "2022-09-17T11:13:38.665Z"
   },
   {
    "duration": 4,
    "start_time": "2022-09-17T11:13:55.716Z"
   },
   {
    "duration": 1172,
    "start_time": "2022-09-17T11:13:59.017Z"
   },
   {
    "duration": 4,
    "start_time": "2022-09-17T11:18:08.230Z"
   },
   {
    "duration": 14,
    "start_time": "2022-09-17T11:18:12.162Z"
   },
   {
    "duration": 3,
    "start_time": "2022-09-17T11:18:38.313Z"
   },
   {
    "duration": 12,
    "start_time": "2022-09-17T11:18:41.502Z"
   },
   {
    "duration": 4,
    "start_time": "2022-09-17T11:19:03.398Z"
   },
   {
    "duration": 16,
    "start_time": "2022-09-17T11:19:05.884Z"
   },
   {
    "duration": 5,
    "start_time": "2022-09-17T11:20:35.076Z"
   },
   {
    "duration": 17,
    "start_time": "2022-09-17T11:20:38.636Z"
   },
   {
    "duration": 5,
    "start_time": "2022-09-17T11:24:55.725Z"
   },
   {
    "duration": 13,
    "start_time": "2022-09-17T11:24:59.126Z"
   },
   {
    "duration": 14,
    "start_time": "2022-09-17T12:06:21.561Z"
   },
   {
    "duration": 3,
    "start_time": "2022-09-17T12:06:47.615Z"
   },
   {
    "duration": 9,
    "start_time": "2022-09-17T12:08:10.375Z"
   },
   {
    "duration": 56,
    "start_time": "2022-09-17T12:08:12.844Z"
   },
   {
    "duration": 442,
    "start_time": "2022-09-17T12:08:18.955Z"
   },
   {
    "duration": 218,
    "start_time": "2022-09-17T12:08:19.399Z"
   },
   {
    "duration": 8,
    "start_time": "2022-09-17T12:08:19.618Z"
   },
   {
    "duration": 34,
    "start_time": "2022-09-17T12:08:19.628Z"
   },
   {
    "duration": 3,
    "start_time": "2022-09-17T12:08:19.663Z"
   },
   {
    "duration": 11,
    "start_time": "2022-09-17T12:08:19.667Z"
   },
   {
    "duration": 16,
    "start_time": "2022-09-17T12:08:19.679Z"
   },
   {
    "duration": 12,
    "start_time": "2022-09-17T12:08:19.697Z"
   },
   {
    "duration": 28,
    "start_time": "2022-09-17T12:08:19.710Z"
   },
   {
    "duration": 18,
    "start_time": "2022-09-17T12:08:19.747Z"
   },
   {
    "duration": 28,
    "start_time": "2022-09-17T12:08:19.767Z"
   },
   {
    "duration": 79,
    "start_time": "2022-09-17T12:08:19.797Z"
   },
   {
    "duration": 62,
    "start_time": "2022-09-17T12:08:19.878Z"
   },
   {
    "duration": 56,
    "start_time": "2022-09-17T12:08:19.947Z"
   },
   {
    "duration": 46,
    "start_time": "2022-09-17T12:08:20.004Z"
   },
   {
    "duration": 10,
    "start_time": "2022-09-17T12:08:20.052Z"
   },
   {
    "duration": 37,
    "start_time": "2022-09-17T12:08:20.064Z"
   },
   {
    "duration": 11,
    "start_time": "2022-09-17T12:08:20.102Z"
   },
   {
    "duration": 38,
    "start_time": "2022-09-17T12:08:20.114Z"
   },
   {
    "duration": 17,
    "start_time": "2022-09-17T12:08:20.153Z"
   },
   {
    "duration": 14,
    "start_time": "2022-09-17T12:08:20.171Z"
   },
   {
    "duration": 12,
    "start_time": "2022-09-17T12:08:20.187Z"
   },
   {
    "duration": 24,
    "start_time": "2022-09-17T12:08:20.200Z"
   },
   {
    "duration": 31,
    "start_time": "2022-09-17T12:08:20.225Z"
   },
   {
    "duration": 15,
    "start_time": "2022-09-17T12:08:20.257Z"
   },
   {
    "duration": 12,
    "start_time": "2022-09-17T12:08:20.274Z"
   },
   {
    "duration": 7,
    "start_time": "2022-09-17T12:08:20.288Z"
   },
   {
    "duration": 26,
    "start_time": "2022-09-17T12:08:20.298Z"
   },
   {
    "duration": 8,
    "start_time": "2022-09-17T12:08:20.347Z"
   },
   {
    "duration": 4,
    "start_time": "2022-09-17T12:08:20.357Z"
   },
   {
    "duration": 7,
    "start_time": "2022-09-17T12:08:20.362Z"
   },
   {
    "duration": 13,
    "start_time": "2022-09-17T12:08:20.370Z"
   },
   {
    "duration": 7,
    "start_time": "2022-09-17T12:08:20.385Z"
   },
   {
    "duration": 2824,
    "start_time": "2022-09-17T12:08:20.393Z"
   },
   {
    "duration": 0,
    "start_time": "2022-09-17T12:08:23.219Z"
   },
   {
    "duration": 0,
    "start_time": "2022-09-17T12:08:23.220Z"
   },
   {
    "duration": 0,
    "start_time": "2022-09-17T12:08:23.221Z"
   },
   {
    "duration": 0,
    "start_time": "2022-09-17T12:08:23.222Z"
   },
   {
    "duration": 4,
    "start_time": "2022-09-17T12:08:35.576Z"
   },
   {
    "duration": 2468,
    "start_time": "2022-09-17T12:08:37.850Z"
   },
   {
    "duration": 4,
    "start_time": "2022-09-17T12:11:01.755Z"
   },
   {
    "duration": 2652,
    "start_time": "2022-09-17T12:11:05.446Z"
   },
   {
    "duration": 368,
    "start_time": "2022-09-17T12:37:45.225Z"
   },
   {
    "duration": 87,
    "start_time": "2022-09-17T12:37:57.401Z"
   },
   {
    "duration": 298,
    "start_time": "2022-09-17T12:38:52.123Z"
   },
   {
    "duration": 4,
    "start_time": "2022-09-17T12:39:02.724Z"
   },
   {
    "duration": 19,
    "start_time": "2022-09-17T14:36:05.146Z"
   },
   {
    "duration": 12,
    "start_time": "2022-09-17T14:37:15.565Z"
   },
   {
    "duration": 12,
    "start_time": "2022-09-17T14:38:30.550Z"
   },
   {
    "duration": 15,
    "start_time": "2022-09-17T14:39:08.063Z"
   },
   {
    "duration": 11,
    "start_time": "2022-09-17T14:39:28.657Z"
   },
   {
    "duration": 7,
    "start_time": "2022-09-17T14:43:53.129Z"
   },
   {
    "duration": 6,
    "start_time": "2022-09-17T14:46:05.099Z"
   },
   {
    "duration": 2,
    "start_time": "2022-09-17T14:46:12.169Z"
   },
   {
    "duration": 166,
    "start_time": "2022-09-17T14:46:12.173Z"
   },
   {
    "duration": 10,
    "start_time": "2022-09-17T14:46:12.341Z"
   },
   {
    "duration": 33,
    "start_time": "2022-09-17T14:46:12.352Z"
   },
   {
    "duration": 2,
    "start_time": "2022-09-17T14:46:12.387Z"
   },
   {
    "duration": 6,
    "start_time": "2022-09-17T14:46:12.391Z"
   },
   {
    "duration": 14,
    "start_time": "2022-09-17T14:46:12.399Z"
   },
   {
    "duration": 9,
    "start_time": "2022-09-17T14:46:12.414Z"
   },
   {
    "duration": 44,
    "start_time": "2022-09-17T14:46:12.425Z"
   },
   {
    "duration": 24,
    "start_time": "2022-09-17T14:46:12.470Z"
   },
   {
    "duration": 45,
    "start_time": "2022-09-17T14:46:12.497Z"
   },
   {
    "duration": 59,
    "start_time": "2022-09-17T14:46:12.544Z"
   },
   {
    "duration": 61,
    "start_time": "2022-09-17T14:46:12.605Z"
   },
   {
    "duration": 60,
    "start_time": "2022-09-17T14:46:12.668Z"
   },
   {
    "duration": 47,
    "start_time": "2022-09-17T14:46:12.730Z"
   },
   {
    "duration": 10,
    "start_time": "2022-09-17T14:46:12.779Z"
   },
   {
    "duration": 56,
    "start_time": "2022-09-17T14:46:12.791Z"
   },
   {
    "duration": 8,
    "start_time": "2022-09-17T14:46:12.849Z"
   },
   {
    "duration": 14,
    "start_time": "2022-09-17T14:46:12.859Z"
   },
   {
    "duration": 17,
    "start_time": "2022-09-17T14:46:12.874Z"
   },
   {
    "duration": 17,
    "start_time": "2022-09-17T14:46:12.893Z"
   },
   {
    "duration": 24,
    "start_time": "2022-09-17T14:46:12.911Z"
   },
   {
    "duration": 56,
    "start_time": "2022-09-17T14:46:12.947Z"
   },
   {
    "duration": 15,
    "start_time": "2022-09-17T14:46:13.005Z"
   },
   {
    "duration": 21,
    "start_time": "2022-09-17T14:46:13.022Z"
   },
   {
    "duration": 12,
    "start_time": "2022-09-17T14:46:13.045Z"
   },
   {
    "duration": 9,
    "start_time": "2022-09-17T14:46:13.059Z"
   },
   {
    "duration": 17,
    "start_time": "2022-09-17T14:46:13.070Z"
   },
   {
    "duration": 10,
    "start_time": "2022-09-17T14:46:13.090Z"
   },
   {
    "duration": 4,
    "start_time": "2022-09-17T14:46:13.102Z"
   },
   {
    "duration": 44,
    "start_time": "2022-09-17T14:46:13.107Z"
   },
   {
    "duration": 10,
    "start_time": "2022-09-17T14:46:13.153Z"
   },
   {
    "duration": 15,
    "start_time": "2022-09-17T14:46:13.165Z"
   },
   {
    "duration": 10,
    "start_time": "2022-09-17T14:46:13.182Z"
   },
   {
    "duration": 9,
    "start_time": "2022-09-17T14:46:13.194Z"
   },
   {
    "duration": 0,
    "start_time": "2022-09-17T14:46:13.204Z"
   },
   {
    "duration": 0,
    "start_time": "2022-09-17T14:46:13.205Z"
   },
   {
    "duration": 0,
    "start_time": "2022-09-17T14:46:13.206Z"
   },
   {
    "duration": 7,
    "start_time": "2022-09-17T14:48:09.100Z"
   },
   {
    "duration": 6,
    "start_time": "2022-09-17T14:48:13.229Z"
   },
   {
    "duration": 7,
    "start_time": "2022-09-17T14:48:51.163Z"
   },
   {
    "duration": 3,
    "start_time": "2022-09-17T14:57:27.929Z"
   },
   {
    "duration": 164,
    "start_time": "2022-09-17T14:57:27.934Z"
   },
   {
    "duration": 7,
    "start_time": "2022-09-17T14:57:28.099Z"
   },
   {
    "duration": 29,
    "start_time": "2022-09-17T14:57:28.107Z"
   },
   {
    "duration": 11,
    "start_time": "2022-09-17T14:57:28.137Z"
   },
   {
    "duration": 6,
    "start_time": "2022-09-17T14:57:28.150Z"
   },
   {
    "duration": 11,
    "start_time": "2022-09-17T14:57:28.157Z"
   },
   {
    "duration": 4,
    "start_time": "2022-09-17T14:57:28.169Z"
   },
   {
    "duration": 26,
    "start_time": "2022-09-17T14:57:28.174Z"
   },
   {
    "duration": 16,
    "start_time": "2022-09-17T14:57:28.204Z"
   },
   {
    "duration": 45,
    "start_time": "2022-09-17T14:57:28.221Z"
   },
   {
    "duration": 59,
    "start_time": "2022-09-17T14:57:28.267Z"
   },
   {
    "duration": 75,
    "start_time": "2022-09-17T14:57:28.328Z"
   },
   {
    "duration": 61,
    "start_time": "2022-09-17T14:57:28.405Z"
   },
   {
    "duration": 37,
    "start_time": "2022-09-17T14:57:28.467Z"
   },
   {
    "duration": 10,
    "start_time": "2022-09-17T14:57:28.506Z"
   },
   {
    "duration": 55,
    "start_time": "2022-09-17T14:57:28.518Z"
   },
   {
    "duration": 8,
    "start_time": "2022-09-17T14:57:28.575Z"
   },
   {
    "duration": 14,
    "start_time": "2022-09-17T14:57:28.585Z"
   },
   {
    "duration": 16,
    "start_time": "2022-09-17T14:57:28.601Z"
   },
   {
    "duration": 34,
    "start_time": "2022-09-17T14:57:28.618Z"
   },
   {
    "duration": 13,
    "start_time": "2022-09-17T14:57:28.654Z"
   },
   {
    "duration": 23,
    "start_time": "2022-09-17T14:57:28.669Z"
   },
   {
    "duration": 13,
    "start_time": "2022-09-17T14:57:28.694Z"
   },
   {
    "duration": 16,
    "start_time": "2022-09-17T14:57:28.709Z"
   },
   {
    "duration": 13,
    "start_time": "2022-09-17T14:57:28.747Z"
   },
   {
    "duration": 9,
    "start_time": "2022-09-17T14:57:28.762Z"
   },
   {
    "duration": 16,
    "start_time": "2022-09-17T14:57:28.774Z"
   },
   {
    "duration": 9,
    "start_time": "2022-09-17T14:57:28.791Z"
   },
   {
    "duration": 5,
    "start_time": "2022-09-17T14:57:28.802Z"
   },
   {
    "duration": 49,
    "start_time": "2022-09-17T14:57:28.808Z"
   },
   {
    "duration": 11,
    "start_time": "2022-09-17T14:57:28.858Z"
   },
   {
    "duration": 17,
    "start_time": "2022-09-17T14:57:28.871Z"
   },
   {
    "duration": 12,
    "start_time": "2022-09-17T14:57:28.890Z"
   },
   {
    "duration": 11,
    "start_time": "2022-09-17T14:57:28.904Z"
   },
   {
    "duration": 0,
    "start_time": "2022-09-17T14:57:28.917Z"
   },
   {
    "duration": 0,
    "start_time": "2022-09-17T14:57:28.918Z"
   },
   {
    "duration": 0,
    "start_time": "2022-09-17T14:57:28.920Z"
   },
   {
    "duration": 7,
    "start_time": "2022-09-17T14:57:34.736Z"
   },
   {
    "duration": 10,
    "start_time": "2022-09-17T14:58:00.792Z"
   },
   {
    "duration": 4,
    "start_time": "2022-09-17T14:58:57.572Z"
   },
   {
    "duration": 10,
    "start_time": "2022-09-17T14:59:42.129Z"
   },
   {
    "duration": 14,
    "start_time": "2022-09-17T15:00:52.406Z"
   },
   {
    "duration": 8,
    "start_time": "2022-09-17T15:01:58.999Z"
   },
   {
    "duration": 3,
    "start_time": "2022-09-17T15:02:50.237Z"
   },
   {
    "duration": 208,
    "start_time": "2022-09-17T15:02:50.241Z"
   },
   {
    "duration": 8,
    "start_time": "2022-09-17T15:02:50.451Z"
   },
   {
    "duration": 35,
    "start_time": "2022-09-17T15:02:50.460Z"
   },
   {
    "duration": 2,
    "start_time": "2022-09-17T15:02:50.498Z"
   },
   {
    "duration": 11,
    "start_time": "2022-09-17T15:02:50.502Z"
   },
   {
    "duration": 14,
    "start_time": "2022-09-17T15:02:50.515Z"
   },
   {
    "duration": 18,
    "start_time": "2022-09-17T15:02:50.531Z"
   },
   {
    "duration": 26,
    "start_time": "2022-09-17T15:02:50.550Z"
   },
   {
    "duration": 32,
    "start_time": "2022-09-17T15:02:50.578Z"
   },
   {
    "duration": 42,
    "start_time": "2022-09-17T15:02:50.613Z"
   },
   {
    "duration": 58,
    "start_time": "2022-09-17T15:02:50.657Z"
   },
   {
    "duration": 80,
    "start_time": "2022-09-17T15:02:50.717Z"
   },
   {
    "duration": 57,
    "start_time": "2022-09-17T15:02:50.799Z"
   },
   {
    "duration": 39,
    "start_time": "2022-09-17T15:02:50.859Z"
   },
   {
    "duration": 11,
    "start_time": "2022-09-17T15:02:50.900Z"
   },
   {
    "duration": 55,
    "start_time": "2022-09-17T15:02:50.913Z"
   },
   {
    "duration": 10,
    "start_time": "2022-09-17T15:02:50.969Z"
   },
   {
    "duration": 15,
    "start_time": "2022-09-17T15:02:50.980Z"
   },
   {
    "duration": 17,
    "start_time": "2022-09-17T15:02:50.996Z"
   },
   {
    "duration": 42,
    "start_time": "2022-09-17T15:02:51.014Z"
   },
   {
    "duration": 14,
    "start_time": "2022-09-17T15:02:51.058Z"
   },
   {
    "duration": 25,
    "start_time": "2022-09-17T15:02:51.073Z"
   },
   {
    "duration": 13,
    "start_time": "2022-09-17T15:02:51.100Z"
   },
   {
    "duration": 16,
    "start_time": "2022-09-17T15:02:51.114Z"
   },
   {
    "duration": 15,
    "start_time": "2022-09-17T15:02:51.146Z"
   },
   {
    "duration": 9,
    "start_time": "2022-09-17T15:02:51.162Z"
   },
   {
    "duration": 19,
    "start_time": "2022-09-17T15:02:51.173Z"
   },
   {
    "duration": 10,
    "start_time": "2022-09-17T15:02:51.196Z"
   },
   {
    "duration": 5,
    "start_time": "2022-09-17T15:02:51.208Z"
   },
   {
    "duration": 46,
    "start_time": "2022-09-17T15:02:51.214Z"
   },
   {
    "duration": 11,
    "start_time": "2022-09-17T15:02:51.262Z"
   },
   {
    "duration": 15,
    "start_time": "2022-09-17T15:02:51.274Z"
   },
   {
    "duration": 11,
    "start_time": "2022-09-17T15:02:51.291Z"
   },
   {
    "duration": 10,
    "start_time": "2022-09-17T15:02:51.303Z"
   },
   {
    "duration": 33,
    "start_time": "2022-09-17T15:02:51.314Z"
   },
   {
    "duration": 13,
    "start_time": "2022-09-17T15:02:51.348Z"
   },
   {
    "duration": 23,
    "start_time": "2022-09-17T15:02:51.362Z"
   },
   {
    "duration": 8,
    "start_time": "2022-09-17T15:03:42.403Z"
   },
   {
    "duration": 8,
    "start_time": "2022-09-17T15:04:01.576Z"
   },
   {
    "duration": 9,
    "start_time": "2022-09-17T15:04:18.201Z"
   },
   {
    "duration": 3,
    "start_time": "2022-09-17T15:04:26.034Z"
   },
   {
    "duration": 166,
    "start_time": "2022-09-17T15:04:26.039Z"
   },
   {
    "duration": 7,
    "start_time": "2022-09-17T15:04:26.208Z"
   },
   {
    "duration": 53,
    "start_time": "2022-09-17T15:04:26.218Z"
   },
   {
    "duration": 6,
    "start_time": "2022-09-17T15:04:26.274Z"
   },
   {
    "duration": 17,
    "start_time": "2022-09-17T15:04:26.281Z"
   },
   {
    "duration": 14,
    "start_time": "2022-09-17T15:04:26.300Z"
   },
   {
    "duration": 6,
    "start_time": "2022-09-17T15:04:26.316Z"
   },
   {
    "duration": 43,
    "start_time": "2022-09-17T15:04:26.324Z"
   },
   {
    "duration": 31,
    "start_time": "2022-09-17T15:04:26.369Z"
   },
   {
    "duration": 30,
    "start_time": "2022-09-17T15:04:26.403Z"
   },
   {
    "duration": 66,
    "start_time": "2022-09-17T15:04:26.434Z"
   },
   {
    "duration": 68,
    "start_time": "2022-09-17T15:04:26.502Z"
   },
   {
    "duration": 52,
    "start_time": "2022-09-17T15:04:26.572Z"
   },
   {
    "duration": 47,
    "start_time": "2022-09-17T15:04:26.625Z"
   },
   {
    "duration": 10,
    "start_time": "2022-09-17T15:04:26.674Z"
   },
   {
    "duration": 46,
    "start_time": "2022-09-17T15:04:26.686Z"
   },
   {
    "duration": 10,
    "start_time": "2022-09-17T15:04:26.746Z"
   },
   {
    "duration": 15,
    "start_time": "2022-09-17T15:04:26.757Z"
   },
   {
    "duration": 17,
    "start_time": "2022-09-17T15:04:26.774Z"
   },
   {
    "duration": 14,
    "start_time": "2022-09-17T15:04:26.793Z"
   },
   {
    "duration": 40,
    "start_time": "2022-09-17T15:04:26.808Z"
   },
   {
    "duration": 15,
    "start_time": "2022-09-17T15:04:26.849Z"
   },
   {
    "duration": 13,
    "start_time": "2022-09-17T15:04:26.865Z"
   },
   {
    "duration": 16,
    "start_time": "2022-09-17T15:04:26.879Z"
   },
   {
    "duration": 14,
    "start_time": "2022-09-17T15:04:26.896Z"
   },
   {
    "duration": 37,
    "start_time": "2022-09-17T15:04:26.912Z"
   },
   {
    "duration": 17,
    "start_time": "2022-09-17T15:04:26.950Z"
   },
   {
    "duration": 14,
    "start_time": "2022-09-17T15:04:26.970Z"
   },
   {
    "duration": 5,
    "start_time": "2022-09-17T15:04:26.986Z"
   },
   {
    "duration": 32,
    "start_time": "2022-09-17T15:04:26.993Z"
   },
   {
    "duration": 26,
    "start_time": "2022-09-17T15:04:27.027Z"
   },
   {
    "duration": 15,
    "start_time": "2022-09-17T15:04:27.055Z"
   },
   {
    "duration": 10,
    "start_time": "2022-09-17T15:04:27.071Z"
   },
   {
    "duration": 11,
    "start_time": "2022-09-17T15:04:27.083Z"
   },
   {
    "duration": 0,
    "start_time": "2022-09-17T15:04:27.095Z"
   },
   {
    "duration": 0,
    "start_time": "2022-09-17T15:04:27.096Z"
   },
   {
    "duration": 0,
    "start_time": "2022-09-17T15:04:27.097Z"
   },
   {
    "duration": 9,
    "start_time": "2022-09-17T15:05:25.157Z"
   },
   {
    "duration": 5,
    "start_time": "2022-09-17T15:05:59.346Z"
   },
   {
    "duration": 6,
    "start_time": "2022-09-17T15:07:07.909Z"
   },
   {
    "duration": 5,
    "start_time": "2022-09-17T15:07:19.236Z"
   },
   {
    "duration": 4,
    "start_time": "2022-09-17T15:07:44.539Z"
   }
  ],
  "celltoolbar": "Edit Metadata",
  "colab": {
   "collapsed_sections": [
    "E0vqbgi9ay0H",
    "VUC88oWjTJw2"
   ],
   "name": "automatization_template_upd4.ipynb",
   "provenance": []
  },
  "kernelspec": {
   "display_name": "Python 3 (ipykernel)",
   "language": "python",
   "name": "python3"
  },
  "language_info": {
   "codemirror_mode": {
    "name": "ipython",
    "version": 3
   },
   "file_extension": ".py",
   "mimetype": "text/x-python",
   "name": "python",
   "nbconvert_exporter": "python",
   "pygments_lexer": "ipython3",
   "version": "3.8.16"
  },
  "toc": {
   "base_numbering": 1,
   "nav_menu": {
    "height": "215px",
    "width": "403px"
   },
   "number_sections": true,
   "sideBar": true,
   "skip_h1_title": true,
   "title_cell": "Table of Contents",
   "title_sidebar": "Contents",
   "toc_cell": false,
   "toc_position": {
    "height": "calc(100% - 180px)",
    "left": "10px",
    "top": "150px",
    "width": "285.825px"
   },
   "toc_section_display": true,
   "toc_window_display": false
  }
 },
 "nbformat": 4,
 "nbformat_minor": 1
}
