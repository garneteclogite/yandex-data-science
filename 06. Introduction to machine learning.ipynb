{
 "cells": [
  {
   "cell_type": "markdown",
   "metadata": {},
   "source": [
    "# Introduction to machine learning. Recommendation of tariffs"
   ]
  },
  {
   "cell_type": "markdown",
   "metadata": {},
   "source": [
    "## Introduction"
   ]
  },
  {
   "cell_type": "markdown",
   "metadata": {},
   "source": [
    "### Main goal"
   ]
  },
  {
   "cell_type": "markdown",
   "metadata": {},
   "source": [
    "We have data on the behavior of customers who have already switched to certain tariffs. We need to build a model for the classification task, which will select the right tariff for new users. No preprocessing of the data will be needed because I already did it during the project from the \"Statistical Data Analysis\" chapter."
   ]
  },
  {
   "cell_type": "markdown",
   "metadata": {},
   "source": [
    "### Used metrics"
   ]
  },
  {
   "cell_type": "markdown",
   "metadata": {},
   "source": [
    "I need to create a model with the value of *accuracy* = 0.75"
   ]
  },
  {
   "cell_type": "markdown",
   "metadata": {},
   "source": [
    "## Loading the necessary libraries and data"
   ]
  },
  {
   "cell_type": "markdown",
   "metadata": {},
   "source": [
    "Importing libraries."
   ]
  },
  {
   "cell_type": "code",
   "execution_count": 1,
   "metadata": {},
   "outputs": [],
   "source": [
    "import pandas as pd\n",
    "from sklearn.model_selection import train_test_split\n",
    "from sklearn.tree import DecisionTreeClassifier\n",
    "from sklearn.metrics import accuracy_score\n",
    "from sklearn.ensemble import RandomForestClassifier\n",
    "from sklearn.linear_model import LogisticRegression\n",
    "from sklearn.dummy import DummyClassifier"
   ]
  },
  {
   "cell_type": "markdown",
   "metadata": {},
   "source": [
    "Opening a dataset and creating a variable."
   ]
  },
  {
   "cell_type": "code",
   "execution_count": 2,
   "metadata": {},
   "outputs": [],
   "source": [
    "df = pd.read_csv('/datasets/users_behavior.csv')"
   ]
  },
  {
   "cell_type": "markdown",
   "metadata": {},
   "source": [
    "Studying data."
   ]
  },
  {
   "cell_type": "code",
   "execution_count": 3,
   "metadata": {},
   "outputs": [
    {
     "data": {
      "text/html": [
       "<div>\n",
       "<style scoped>\n",
       "    .dataframe tbody tr th:only-of-type {\n",
       "        vertical-align: middle;\n",
       "    }\n",
       "\n",
       "    .dataframe tbody tr th {\n",
       "        vertical-align: top;\n",
       "    }\n",
       "\n",
       "    .dataframe thead th {\n",
       "        text-align: right;\n",
       "    }\n",
       "</style>\n",
       "<table border=\"1\" class=\"dataframe\">\n",
       "  <thead>\n",
       "    <tr style=\"text-align: right;\">\n",
       "      <th></th>\n",
       "      <th>calls</th>\n",
       "      <th>minutes</th>\n",
       "      <th>messages</th>\n",
       "      <th>mb_used</th>\n",
       "      <th>is_ultra</th>\n",
       "    </tr>\n",
       "  </thead>\n",
       "  <tbody>\n",
       "    <tr>\n",
       "      <th>0</th>\n",
       "      <td>40.0</td>\n",
       "      <td>311.90</td>\n",
       "      <td>83.0</td>\n",
       "      <td>19915.42</td>\n",
       "      <td>0</td>\n",
       "    </tr>\n",
       "    <tr>\n",
       "      <th>1</th>\n",
       "      <td>85.0</td>\n",
       "      <td>516.75</td>\n",
       "      <td>56.0</td>\n",
       "      <td>22696.96</td>\n",
       "      <td>0</td>\n",
       "    </tr>\n",
       "    <tr>\n",
       "      <th>2</th>\n",
       "      <td>77.0</td>\n",
       "      <td>467.66</td>\n",
       "      <td>86.0</td>\n",
       "      <td>21060.45</td>\n",
       "      <td>0</td>\n",
       "    </tr>\n",
       "    <tr>\n",
       "      <th>3</th>\n",
       "      <td>106.0</td>\n",
       "      <td>745.53</td>\n",
       "      <td>81.0</td>\n",
       "      <td>8437.39</td>\n",
       "      <td>1</td>\n",
       "    </tr>\n",
       "    <tr>\n",
       "      <th>4</th>\n",
       "      <td>66.0</td>\n",
       "      <td>418.74</td>\n",
       "      <td>1.0</td>\n",
       "      <td>14502.75</td>\n",
       "      <td>0</td>\n",
       "    </tr>\n",
       "  </tbody>\n",
       "</table>\n",
       "</div>"
      ],
      "text/plain": [
       "   calls  minutes  messages   mb_used  is_ultra\n",
       "0   40.0   311.90      83.0  19915.42         0\n",
       "1   85.0   516.75      56.0  22696.96         0\n",
       "2   77.0   467.66      86.0  21060.45         0\n",
       "3  106.0   745.53      81.0   8437.39         1\n",
       "4   66.0   418.74       1.0  14502.75         0"
      ]
     },
     "execution_count": 3,
     "metadata": {},
     "output_type": "execute_result"
    }
   ],
   "source": [
    "df.head()"
   ]
  },
  {
   "cell_type": "code",
   "execution_count": 4,
   "metadata": {},
   "outputs": [
    {
     "data": {
      "text/plain": [
       "(3214, 5)"
      ]
     },
     "execution_count": 4,
     "metadata": {},
     "output_type": "execute_result"
    }
   ],
   "source": [
    "df.shape"
   ]
  },
  {
   "cell_type": "markdown",
   "metadata": {},
   "source": [
    "## Splitting the data into samples"
   ]
  },
  {
   "cell_type": "markdown",
   "metadata": {},
   "source": [
    "I make samples according to the rule - 3:1:1 (training, validation, test). The training sample is for teaching the model, the validation sample is for selecting hyperparameters, and the test sample is for the final test of the model."
   ]
  },
  {
   "cell_type": "code",
   "execution_count": 5,
   "metadata": {},
   "outputs": [],
   "source": [
    "df_train_valid, df_test = train_test_split(df, test_size=0.2, random_state=12345)\n",
    "df_train, df_valid = train_test_split(df_train_valid, test_size=0.2, random_state=12345)"
   ]
  },
  {
   "cell_type": "code",
   "execution_count": 6,
   "metadata": {},
   "outputs": [
    {
     "data": {
      "text/plain": [
       "((2056, 5), (643, 5), (515, 5))"
      ]
     },
     "execution_count": 6,
     "metadata": {},
     "output_type": "execute_result"
    }
   ],
   "source": [
    "df_train.shape, df_test.shape, df_valid.shape"
   ]
  },
  {
   "cell_type": "markdown",
   "metadata": {},
   "source": [
    "Identifying the features and target features in each sample."
   ]
  },
  {
   "cell_type": "code",
   "execution_count": 7,
   "metadata": {},
   "outputs": [],
   "source": [
    "features_train = df_train.drop(['is_ultra'], axis=1)\n",
    "target_train = df_train['is_ultra']\n",
    "\n",
    "features_valid = df_valid.drop(['is_ultra'], axis=1)\n",
    "target_valid = df_valid['is_ultra']\n",
    "\n",
    "features_test = df_test.drop(['is_ultra'], axis=1)\n",
    "target_test = df_test['is_ultra']"
   ]
  },
  {
   "cell_type": "markdown",
   "metadata": {},
   "source": [
    "## Model research"
   ]
  },
  {
   "cell_type": "markdown",
   "metadata": {},
   "source": [
    "Since the target feature is a categorical variable, we face the task of classification, not regression."
   ]
  },
  {
   "cell_type": "markdown",
   "metadata": {},
   "source": [
    "First, we will use the decision tree method. Using a cycle, we will change the most important hyperparameter (max_depth) and determine which depth results in the highest accuracy."
   ]
  },
  {
   "cell_type": "code",
   "execution_count": 8,
   "metadata": {},
   "outputs": [
    {
     "name": "stdout",
     "output_type": "stream",
     "text": [
      "max_depth = 1 : 0.7223300970873786\n",
      "max_depth = 2 : 0.7475728155339806\n",
      "max_depth = 3 : 0.7553398058252427\n",
      "max_depth = 4 : 0.7533980582524272\n",
      "max_depth = 5 : 0.7572815533980582\n",
      "max_depth = 6 : 0.7611650485436893\n",
      "max_depth = 7 : 0.7650485436893204\n",
      "max_depth = 8 : 0.7631067961165049\n",
      "max_depth = 9 : 0.7533980582524272\n",
      "max_depth = 10 : 0.7592233009708738\n",
      "max_depth = 11 : 0.7533980582524272\n",
      "max_depth = 12 : 0.7495145631067961\n",
      "max_depth = 13 : 0.7339805825242719\n",
      "max_depth = 14 : 0.7339805825242719\n"
     ]
    }
   ],
   "source": [
    "for depth in range(1, 15):\n",
    "    model = DecisionTreeClassifier(random_state=12345, max_depth=depth)\n",
    "    model.fit(features_train, target_train)\n",
    "    predictions_valid = model.predict(features_valid)\n",
    "    print(\"max_depth =\", depth, \": \", end='')\n",
    "    print(accuracy_score(target_valid, predictions_valid))"
   ]
  },
  {
   "cell_type": "markdown",
   "metadata": {},
   "source": [
    "The highest accuracy is at max_depth=7."
   ]
  },
  {
   "cell_type": "markdown",
   "metadata": {},
   "source": [
    "Now let's use the random forest method. With the help of the cycle, we will find such a value of n_estimators, which will allow us to get the largest score(), which is inherently accuracy."
   ]
  },
  {
   "cell_type": "code",
   "execution_count": 9,
   "metadata": {},
   "outputs": [
    {
     "name": "stdout",
     "output_type": "stream",
     "text": [
      "Accuracy наилучшей модели на валидационной выборке: 0.7728155339805826\n"
     ]
    }
   ],
   "source": [
    "best_model = None\n",
    "best_result = 0\n",
    "for est in range(1, 14):\n",
    "    model = RandomForestClassifier(random_state=12345, n_estimators=est)\n",
    "    model.fit(features_train, target_train)\n",
    "    result = model.score(features_valid, target_valid)\n",
    "    if result > best_result:\n",
    "        best_model = model\n",
    "        best_result = result\n",
    "\n",
    "print(\"Accuracy наилучшей модели на валидационной выборке:\", best_result)"
   ]
  },
  {
   "cell_type": "markdown",
   "metadata": {},
   "source": [
    "It is worth noting that when the n_estimators parameter is increased, the quality of the model also increases. However, this is accompanied by the fact that the model running time also increases. At the same time, if at n_estimators=14 accuracy=0.7728, then at n_estimators=100 accuracy=0.7883. With such a significant increase in the number of trees, the quality of the model increases by only 1.5%. Therefore we can stop at the parameter n_estimators=14."
   ]
  },
  {
   "cell_type": "markdown",
   "metadata": {},
   "source": [
    "Now let's move on to the logistic regression model. We will use the 'lbfgs' algorithm in the hyperparameter solver since it is one of the most common and suitable for most problems. Let's set the number of iterations equal to 1000."
   ]
  },
  {
   "cell_type": "code",
   "execution_count": 10,
   "metadata": {},
   "outputs": [
    {
     "name": "stdout",
     "output_type": "stream",
     "text": [
      "0.7165048543689321\n"
     ]
    }
   ],
   "source": [
    "model = LogisticRegression(random_state=12345, solver='lbfgs', max_iter=1000) \n",
    "model.fit(features_train, target_train)\n",
    "print(model.score(features_valid, target_valid))"
   ]
  },
  {
   "cell_type": "markdown",
   "metadata": {},
   "source": [
    "**Conclusion:** The study of models trained by different methods allows us to conclude that the model trained by the random forest method is of the highest quality. In this case, we have obtained the highest value of the accuracy metric. Therefore, the optimal parameter n_estimators can be considered to be 14."
   ]
  },
  {
   "cell_type": "markdown",
   "metadata": {},
   "source": [
    "## Checking the model on a test sample"
   ]
  },
  {
   "cell_type": "code",
   "execution_count": 11,
   "metadata": {},
   "outputs": [
    {
     "name": "stdout",
     "output_type": "stream",
     "text": [
      "0.7838258164852255\n"
     ]
    }
   ],
   "source": [
    "model = RandomForestClassifier(random_state=12345, n_estimators=14)\n",
    "model.fit(features_train, target_train)\n",
    "predictions_test = model.predict(features_test)\n",
    "print(accuracy_score(target_test, predictions_test))"
   ]
  },
  {
   "cell_type": "markdown",
   "metadata": {},
   "source": [
    "So, we even exceeded the target indicator. Accuracy=0.78. The task is completed."
   ]
  },
  {
   "cell_type": "markdown",
   "metadata": {},
   "source": [
    "## Checking the model for adequacy"
   ]
  },
  {
   "cell_type": "markdown",
   "metadata": {},
   "source": [
    "We will use the dummy classifier (sklearn.dummy.DummyClassifier). By using its parameter strategy='most_frequent', we can predict the target values simply based on the most occurring feature values. The accuracy score of the trained model must be higher than that of the model where DummyClassifier is used."
   ]
  },
  {
   "cell_type": "code",
   "execution_count": 12,
   "metadata": {},
   "outputs": [
    {
     "data": {
      "text/plain": [
       "0.6951788491446346"
      ]
     },
     "execution_count": 12,
     "metadata": {},
     "output_type": "execute_result"
    }
   ],
   "source": [
    "model = DummyClassifier(strategy='most_frequent', random_state=0)\n",
    "model.fit(features_train, target_train)\n",
    "model.score(features_test, target_test)"
   ]
  },
  {
   "cell_type": "markdown",
   "metadata": {},
   "source": [
    "We see that our model has more value of accuracy, so we can consider it adequate."
   ]
  },
  {
   "cell_type": "markdown",
   "metadata": {},
   "source": [
    "## Conclusion"
   ]
  },
  {
   "cell_type": "markdown",
   "metadata": {},
   "source": [
    "A study of different machine learning models leads us to the conclusion that the most successful model for predicting user tariffs is the random forest model with the number of n_estimators=14. The accuracy metric in this case reaches 0.78."
   ]
  }
 ],
 "metadata": {
  "ExecuteTimeLog": [
   {
    "duration": 371,
    "start_time": "2022-11-23T09:06:50.368Z"
   },
   {
    "duration": 63,
    "start_time": "2022-11-23T09:07:40.676Z"
   },
   {
    "duration": 17,
    "start_time": "2022-11-23T09:10:36.088Z"
   },
   {
    "duration": 64,
    "start_time": "2022-11-23T09:17:42.767Z"
   },
   {
    "duration": 6,
    "start_time": "2022-11-23T09:17:48.744Z"
   },
   {
    "duration": 6,
    "start_time": "2022-11-23T09:17:51.569Z"
   },
   {
    "duration": 3,
    "start_time": "2022-11-23T09:17:54.977Z"
   },
   {
    "duration": 680,
    "start_time": "2022-11-23T09:33:42.779Z"
   },
   {
    "duration": 6,
    "start_time": "2022-11-23T09:33:46.147Z"
   },
   {
    "duration": 6,
    "start_time": "2022-11-23T09:34:53.867Z"
   },
   {
    "duration": 6,
    "start_time": "2022-11-23T09:39:16.161Z"
   },
   {
    "duration": 39,
    "start_time": "2022-11-23T09:41:02.005Z"
   },
   {
    "duration": 6,
    "start_time": "2022-11-23T09:41:13.389Z"
   },
   {
    "duration": 10,
    "start_time": "2022-11-23T09:41:15.502Z"
   },
   {
    "duration": 4,
    "start_time": "2022-11-23T09:47:32.411Z"
   },
   {
    "duration": 3,
    "start_time": "2022-11-23T09:47:49.387Z"
   },
   {
    "duration": 11,
    "start_time": "2022-11-23T09:48:50.624Z"
   },
   {
    "duration": 5,
    "start_time": "2022-11-23T09:49:53.452Z"
   },
   {
    "duration": 11,
    "start_time": "2022-11-23T09:50:15.339Z"
   },
   {
    "duration": 6,
    "start_time": "2022-11-23T09:50:23.588Z"
   },
   {
    "duration": 10,
    "start_time": "2022-11-23T10:01:34.765Z"
   },
   {
    "duration": 42,
    "start_time": "2022-11-23T10:01:40.246Z"
   },
   {
    "duration": 41,
    "start_time": "2022-11-23T10:01:43.814Z"
   },
   {
    "duration": 39,
    "start_time": "2022-11-23T10:02:19.900Z"
   },
   {
    "duration": 49,
    "start_time": "2022-11-23T10:02:25.564Z"
   },
   {
    "duration": 59,
    "start_time": "2022-11-23T10:02:33.660Z"
   },
   {
    "duration": 62,
    "start_time": "2022-11-23T10:02:41.232Z"
   },
   {
    "duration": 72,
    "start_time": "2022-11-23T10:02:50.351Z"
   },
   {
    "duration": 215,
    "start_time": "2022-11-23T10:02:58.791Z"
   },
   {
    "duration": 134,
    "start_time": "2022-11-23T10:06:17.713Z"
   },
   {
    "duration": 10,
    "start_time": "2022-11-23T10:12:04.510Z"
   },
   {
    "duration": 260,
    "start_time": "2022-11-23T10:16:47.093Z"
   },
   {
    "duration": 882,
    "start_time": "2022-11-23T10:16:53.507Z"
   },
   {
    "duration": 1377,
    "start_time": "2022-11-23T10:17:02.226Z"
   },
   {
    "duration": 255,
    "start_time": "2022-11-23T10:17:43.019Z"
   },
   {
    "duration": 1970,
    "start_time": "2022-11-23T10:17:47.702Z"
   },
   {
    "duration": 2513,
    "start_time": "2022-11-23T10:17:55.757Z"
   },
   {
    "duration": 20242,
    "start_time": "2022-11-23T10:20:20.727Z"
   },
   {
    "duration": 824,
    "start_time": "2022-11-23T10:21:36.142Z"
   },
   {
    "duration": 20311,
    "start_time": "2022-11-23T10:24:22.968Z"
   },
   {
    "duration": 46397,
    "start_time": "2022-11-23T10:27:28.519Z"
   },
   {
    "duration": 495,
    "start_time": "2022-11-23T10:28:38.342Z"
   },
   {
    "duration": 430,
    "start_time": "2022-11-23T10:28:57.144Z"
   },
   {
    "duration": 221,
    "start_time": "2022-11-23T10:29:00.817Z"
   },
   {
    "duration": 423,
    "start_time": "2022-11-23T10:29:06.769Z"
   },
   {
    "duration": 366,
    "start_time": "2022-11-23T10:29:10.489Z"
   },
   {
    "duration": 511,
    "start_time": "2022-11-23T10:29:17.306Z"
   },
   {
    "duration": 417,
    "start_time": "2022-11-23T10:29:26.667Z"
   },
   {
    "duration": 369,
    "start_time": "2022-11-23T10:29:32.483Z"
   },
   {
    "duration": 434,
    "start_time": "2022-11-23T10:29:35.627Z"
   },
   {
    "duration": 3,
    "start_time": "2022-11-23T10:31:26.217Z"
   },
   {
    "duration": 3,
    "start_time": "2022-11-23T10:33:20.358Z"
   },
   {
    "duration": 12,
    "start_time": "2022-11-23T10:41:39.501Z"
   },
   {
    "duration": 381,
    "start_time": "2022-11-23T10:42:34.771Z"
   },
   {
    "duration": 41,
    "start_time": "2022-11-23T10:46:45.160Z"
   },
   {
    "duration": 58,
    "start_time": "2022-11-23T10:48:11.912Z"
   },
   {
    "duration": 38,
    "start_time": "2022-11-23T10:48:17.665Z"
   },
   {
    "duration": 57,
    "start_time": "2022-11-23T10:48:22.058Z"
   },
   {
    "duration": 38,
    "start_time": "2022-11-23T10:48:24.625Z"
   },
   {
    "duration": 38,
    "start_time": "2022-11-23T10:48:26.610Z"
   },
   {
    "duration": 461,
    "start_time": "2022-11-23T10:48:33.788Z"
   },
   {
    "duration": 37,
    "start_time": "2022-11-23T10:48:40.779Z"
   },
   {
    "duration": 48,
    "start_time": "2022-11-23T10:48:47.189Z"
   },
   {
    "duration": 37,
    "start_time": "2022-11-23T10:48:53.646Z"
   },
   {
    "duration": 44,
    "start_time": "2022-11-23T10:50:04.525Z"
   },
   {
    "duration": 54,
    "start_time": "2022-11-23T10:50:09.344Z"
   },
   {
    "duration": 60,
    "start_time": "2022-11-23T10:50:12.758Z"
   },
   {
    "duration": 40,
    "start_time": "2022-11-23T10:50:17.518Z"
   },
   {
    "duration": 80,
    "start_time": "2022-11-23T10:52:02.531Z"
   },
   {
    "duration": 82,
    "start_time": "2022-11-23T10:57:50.788Z"
   },
   {
    "duration": 74,
    "start_time": "2022-11-23T10:59:31.334Z"
   },
   {
    "duration": 81,
    "start_time": "2022-11-23T11:02:06.231Z"
   },
   {
    "duration": 87,
    "start_time": "2022-11-23T11:03:19.191Z"
   },
   {
    "duration": 86,
    "start_time": "2022-11-23T11:07:15.953Z"
   },
   {
    "duration": 67,
    "start_time": "2022-11-23T11:10:16.469Z"
   },
   {
    "duration": 68,
    "start_time": "2022-11-23T11:10:41.856Z"
   },
   {
    "duration": 81,
    "start_time": "2022-11-23T11:12:01.450Z"
   },
   {
    "duration": 50,
    "start_time": "2022-11-23T11:12:20.356Z"
   },
   {
    "duration": 74,
    "start_time": "2022-11-23T11:13:35.040Z"
   },
   {
    "duration": 67,
    "start_time": "2022-11-23T11:13:56.570Z"
   },
   {
    "duration": 41,
    "start_time": "2022-11-23T11:14:56.231Z"
   },
   {
    "duration": 75,
    "start_time": "2022-11-23T11:16:17.649Z"
   },
   {
    "duration": 37,
    "start_time": "2022-11-23T11:16:28.373Z"
   },
   {
    "duration": 36,
    "start_time": "2022-11-23T11:17:25.078Z"
   },
   {
    "duration": 37,
    "start_time": "2022-11-23T11:17:27.855Z"
   },
   {
    "duration": 42,
    "start_time": "2022-11-23T11:17:31.623Z"
   },
   {
    "duration": 65,
    "start_time": "2022-11-23T11:18:26.989Z"
   },
   {
    "duration": 82,
    "start_time": "2022-11-23T11:18:57.800Z"
   },
   {
    "duration": 81,
    "start_time": "2022-11-23T11:20:08.873Z"
   },
   {
    "duration": 78,
    "start_time": "2022-11-23T11:22:17.312Z"
   },
   {
    "duration": 3,
    "start_time": "2022-11-23T11:23:06.272Z"
   },
   {
    "duration": 3,
    "start_time": "2022-11-23T11:24:18.141Z"
   },
   {
    "duration": 4,
    "start_time": "2022-11-23T11:30:24.918Z"
   },
   {
    "duration": 3,
    "start_time": "2022-11-23T11:31:12.131Z"
   },
   {
    "duration": 9,
    "start_time": "2022-11-23T12:02:37.182Z"
   },
   {
    "duration": 3,
    "start_time": "2022-11-23T12:02:53.296Z"
   },
   {
    "duration": 3,
    "start_time": "2022-11-23T12:04:30.892Z"
   },
   {
    "duration": 8,
    "start_time": "2022-11-23T12:05:32.979Z"
   },
   {
    "duration": 5,
    "start_time": "2022-11-23T12:15:24.725Z"
   },
   {
    "duration": 73,
    "start_time": "2022-11-23T12:15:55.240Z"
   },
   {
    "duration": 2279,
    "start_time": "2022-11-23T12:27:31.738Z"
   },
   {
    "duration": 27,
    "start_time": "2022-11-23T12:27:34.018Z"
   },
   {
    "duration": 17,
    "start_time": "2022-11-23T12:27:34.047Z"
   },
   {
    "duration": 5,
    "start_time": "2022-11-23T12:27:34.114Z"
   },
   {
    "duration": 20,
    "start_time": "2022-11-23T12:27:34.121Z"
   },
   {
    "duration": 9,
    "start_time": "2022-11-23T12:27:34.142Z"
   },
   {
    "duration": 63,
    "start_time": "2022-11-23T12:27:34.152Z"
   },
   {
    "duration": 219,
    "start_time": "2022-11-23T12:27:34.216Z"
   },
   {
    "duration": 984,
    "start_time": "2022-11-23T12:27:34.437Z"
   },
   {
    "duration": 89,
    "start_time": "2022-11-23T12:27:35.424Z"
   },
   {
    "duration": 118,
    "start_time": "2022-11-23T12:27:35.515Z"
   },
   {
    "duration": 7,
    "start_time": "2022-11-23T12:27:35.634Z"
   }
  ],
  "kernelspec": {
   "display_name": "Python 3 (ipykernel)",
   "language": "python",
   "name": "python3"
  },
  "language_info": {
   "codemirror_mode": {
    "name": "ipython",
    "version": 3
   },
   "file_extension": ".py",
   "mimetype": "text/x-python",
   "name": "python",
   "nbconvert_exporter": "python",
   "pygments_lexer": "ipython3",
   "version": "3.8.16"
  },
  "toc": {
   "base_numbering": 1,
   "nav_menu": {},
   "number_sections": true,
   "sideBar": true,
   "skip_h1_title": true,
   "title_cell": "Table of Contents",
   "title_sidebar": "Contents",
   "toc_cell": false,
   "toc_position": {},
   "toc_section_display": true,
   "toc_window_display": false
  }
 },
 "nbformat": 4,
 "nbformat_minor": 2
}
