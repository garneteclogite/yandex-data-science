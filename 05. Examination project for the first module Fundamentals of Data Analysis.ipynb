{
 "cells": [
  {
   "cell_type": "markdown",
   "metadata": {},
   "source": [
    "# Итоговый проект по первому модулю \"Основы анализа данных\""
   ]
  },
  {
   "cell_type": "markdown",
   "metadata": {},
   "source": [
    "## Введение"
   ]
  },
  {
   "cell_type": "markdown",
   "metadata": {},
   "source": [
    "На основе статистических данных по продажам компьютерных игр для интернет-магазина «Стримчик» необходимо провести исследование закономерностей, определяющих успешность игры с целью определения потенциально популярного продукта для дальнейших рекламных компаний в 2017 году."
   ]
  },
  {
   "cell_type": "markdown",
   "metadata": {},
   "source": [
    "## Основные задачи "
   ]
  },
  {
   "cell_type": "markdown",
   "metadata": {},
   "source": [
    "В задачи исследования входит:\n",
    "- определение структуры общемировых продаж игр по разным годам с определением платформ игр, которые в 2017 году могут принести большую прибыль;\n",
    "- определить структуру продаж наиболее успешных платформ, выявить, насколько равномерными являются их продажи;\n",
    "- выявить наличие связи между рейтингами пользователей/критиков и общими продажами, а также определить наиболее кассовые жанры игр по общемировым продажам;\n",
    "- определить какие платформы и жанры игр были популярны в разных частях мира, включая Северную Америку, Европу и Японию;\n",
    "- определить какие по ESRB рейтингу игры в разных странах являются более успешными - проверить гипотезы о равенстве пользовательских рейтингов на (1) разных платформах и (2) игр с разными активными жанрами."
   ]
  },
  {
   "cell_type": "markdown",
   "metadata": {},
   "source": [
    "## Загрузка необходимых библиотек и данных"
   ]
  },
  {
   "cell_type": "code",
   "execution_count": 1,
   "metadata": {},
   "outputs": [],
   "source": [
    "import pandas as pd\n",
    "import matplotlib.pyplot as plt\n",
    "import seaborn as sns\n",
    "from scipy import stats as st"
   ]
  },
  {
   "cell_type": "code",
   "execution_count": 2,
   "metadata": {},
   "outputs": [],
   "source": [
    "df = pd.read_csv('/datasets/games.csv')"
   ]
  },
  {
   "cell_type": "markdown",
   "metadata": {},
   "source": [
    "## Основная информация о данных"
   ]
  },
  {
   "cell_type": "markdown",
   "metadata": {},
   "source": [
    "Выведем основную информацию о датафрейме."
   ]
  },
  {
   "cell_type": "code",
   "execution_count": 3,
   "metadata": {},
   "outputs": [
    {
     "name": "stdout",
     "output_type": "stream",
     "text": [
      "<class 'pandas.core.frame.DataFrame'>\n",
      "RangeIndex: 16715 entries, 0 to 16714\n",
      "Data columns (total 11 columns):\n",
      " #   Column           Non-Null Count  Dtype  \n",
      "---  ------           --------------  -----  \n",
      " 0   Name             16713 non-null  object \n",
      " 1   Platform         16715 non-null  object \n",
      " 2   Year_of_Release  16446 non-null  float64\n",
      " 3   Genre            16713 non-null  object \n",
      " 4   NA_sales         16715 non-null  float64\n",
      " 5   EU_sales         16715 non-null  float64\n",
      " 6   JP_sales         16715 non-null  float64\n",
      " 7   Other_sales      16715 non-null  float64\n",
      " 8   Critic_Score     8137 non-null   float64\n",
      " 9   User_Score       10014 non-null  object \n",
      " 10  Rating           9949 non-null   object \n",
      "dtypes: float64(6), object(5)\n",
      "memory usage: 1.4+ MB\n"
     ]
    }
   ],
   "source": [
    "df.info()"
   ]
  },
  {
   "cell_type": "markdown",
   "metadata": {},
   "source": [
    "Познакомимся с записями в строках."
   ]
  },
  {
   "cell_type": "code",
   "execution_count": 4,
   "metadata": {
    "scrolled": true
   },
   "outputs": [
    {
     "data": {
      "text/html": [
       "<div>\n",
       "<style scoped>\n",
       "    .dataframe tbody tr th:only-of-type {\n",
       "        vertical-align: middle;\n",
       "    }\n",
       "\n",
       "    .dataframe tbody tr th {\n",
       "        vertical-align: top;\n",
       "    }\n",
       "\n",
       "    .dataframe thead th {\n",
       "        text-align: right;\n",
       "    }\n",
       "</style>\n",
       "<table border=\"1\" class=\"dataframe\">\n",
       "  <thead>\n",
       "    <tr style=\"text-align: right;\">\n",
       "      <th></th>\n",
       "      <th>Name</th>\n",
       "      <th>Platform</th>\n",
       "      <th>Year_of_Release</th>\n",
       "      <th>Genre</th>\n",
       "      <th>NA_sales</th>\n",
       "      <th>EU_sales</th>\n",
       "      <th>JP_sales</th>\n",
       "      <th>Other_sales</th>\n",
       "      <th>Critic_Score</th>\n",
       "      <th>User_Score</th>\n",
       "      <th>Rating</th>\n",
       "    </tr>\n",
       "  </thead>\n",
       "  <tbody>\n",
       "    <tr>\n",
       "      <th>0</th>\n",
       "      <td>Wii Sports</td>\n",
       "      <td>Wii</td>\n",
       "      <td>2006.0</td>\n",
       "      <td>Sports</td>\n",
       "      <td>41.36</td>\n",
       "      <td>28.96</td>\n",
       "      <td>3.77</td>\n",
       "      <td>8.45</td>\n",
       "      <td>76.0</td>\n",
       "      <td>8</td>\n",
       "      <td>E</td>\n",
       "    </tr>\n",
       "    <tr>\n",
       "      <th>1</th>\n",
       "      <td>Super Mario Bros.</td>\n",
       "      <td>NES</td>\n",
       "      <td>1985.0</td>\n",
       "      <td>Platform</td>\n",
       "      <td>29.08</td>\n",
       "      <td>3.58</td>\n",
       "      <td>6.81</td>\n",
       "      <td>0.77</td>\n",
       "      <td>NaN</td>\n",
       "      <td>NaN</td>\n",
       "      <td>NaN</td>\n",
       "    </tr>\n",
       "    <tr>\n",
       "      <th>2</th>\n",
       "      <td>Mario Kart Wii</td>\n",
       "      <td>Wii</td>\n",
       "      <td>2008.0</td>\n",
       "      <td>Racing</td>\n",
       "      <td>15.68</td>\n",
       "      <td>12.76</td>\n",
       "      <td>3.79</td>\n",
       "      <td>3.29</td>\n",
       "      <td>82.0</td>\n",
       "      <td>8.3</td>\n",
       "      <td>E</td>\n",
       "    </tr>\n",
       "    <tr>\n",
       "      <th>3</th>\n",
       "      <td>Wii Sports Resort</td>\n",
       "      <td>Wii</td>\n",
       "      <td>2009.0</td>\n",
       "      <td>Sports</td>\n",
       "      <td>15.61</td>\n",
       "      <td>10.93</td>\n",
       "      <td>3.28</td>\n",
       "      <td>2.95</td>\n",
       "      <td>80.0</td>\n",
       "      <td>8</td>\n",
       "      <td>E</td>\n",
       "    </tr>\n",
       "    <tr>\n",
       "      <th>4</th>\n",
       "      <td>Pokemon Red/Pokemon Blue</td>\n",
       "      <td>GB</td>\n",
       "      <td>1996.0</td>\n",
       "      <td>Role-Playing</td>\n",
       "      <td>11.27</td>\n",
       "      <td>8.89</td>\n",
       "      <td>10.22</td>\n",
       "      <td>1.00</td>\n",
       "      <td>NaN</td>\n",
       "      <td>NaN</td>\n",
       "      <td>NaN</td>\n",
       "    </tr>\n",
       "  </tbody>\n",
       "</table>\n",
       "</div>"
      ],
      "text/plain": [
       "                       Name Platform  Year_of_Release         Genre  NA_sales  \\\n",
       "0                Wii Sports      Wii           2006.0        Sports     41.36   \n",
       "1         Super Mario Bros.      NES           1985.0      Platform     29.08   \n",
       "2            Mario Kart Wii      Wii           2008.0        Racing     15.68   \n",
       "3         Wii Sports Resort      Wii           2009.0        Sports     15.61   \n",
       "4  Pokemon Red/Pokemon Blue       GB           1996.0  Role-Playing     11.27   \n",
       "\n",
       "   EU_sales  JP_sales  Other_sales  Critic_Score User_Score Rating  \n",
       "0     28.96      3.77         8.45          76.0          8      E  \n",
       "1      3.58      6.81         0.77           NaN        NaN    NaN  \n",
       "2     12.76      3.79         3.29          82.0        8.3      E  \n",
       "3     10.93      3.28         2.95          80.0          8      E  \n",
       "4      8.89     10.22         1.00           NaN        NaN    NaN  "
      ]
     },
     "execution_count": 4,
     "metadata": {},
     "output_type": "execute_result"
    }
   ],
   "source": [
    "df.head()"
   ]
  },
  {
   "cell_type": "markdown",
   "metadata": {},
   "source": [
    "Обратим внимание на количество явных дубликатов."
   ]
  },
  {
   "cell_type": "code",
   "execution_count": 5,
   "metadata": {},
   "outputs": [
    {
     "data": {
      "text/plain": [
       "0"
      ]
     },
     "execution_count": 5,
     "metadata": {},
     "output_type": "execute_result"
    }
   ],
   "source": [
    "df.duplicated().sum()"
   ]
  },
  {
   "cell_type": "markdown",
   "metadata": {},
   "source": [
    "Сделаем красивыми названия столбцов, приведем все к нижнему регистру."
   ]
  },
  {
   "cell_type": "code",
   "execution_count": 6,
   "metadata": {},
   "outputs": [],
   "source": [
    "df = df.rename(columns={\n",
    "    'Name':'name', \n",
    "    'Platform':'platform', \n",
    "    'Year_of_Release':'year_of_release',\n",
    "    'Genre':'genre',\n",
    "    'NA_sales':'na_sales',\n",
    "    'EU_sales':'eu_sales',\n",
    "    'JP_sales':'jp_sales',\n",
    "    'Other_sales':'other_sales',\n",
    "    'Critic_Score':'critic_score',\n",
    "    'User_Score':'user_score',\n",
    "    'Rating':'rating'\n",
    "})"
   ]
  },
  {
   "cell_type": "markdown",
   "metadata": {},
   "source": [
    "##  Обработка пропусков"
   ]
  },
  {
   "cell_type": "markdown",
   "metadata": {},
   "source": [
    "Займемся обработкой пропусков, сначала посмотрим, сколько вообще их во всем датафрейме."
   ]
  },
  {
   "cell_type": "code",
   "execution_count": 7,
   "metadata": {},
   "outputs": [
    {
     "data": {
      "text/plain": [
       "name                  2\n",
       "platform              0\n",
       "year_of_release     269\n",
       "genre                 2\n",
       "na_sales              0\n",
       "eu_sales              0\n",
       "jp_sales              0\n",
       "other_sales           0\n",
       "critic_score       8578\n",
       "user_score         6701\n",
       "rating             6766\n",
       "dtype: int64"
      ]
     },
     "execution_count": 7,
     "metadata": {},
     "output_type": "execute_result"
    }
   ],
   "source": [
    "df.isnull().sum()"
   ]
  },
  {
   "cell_type": "markdown",
   "metadata": {},
   "source": [
    "Пропуски в столбце 'name' удалю, так как здесь не указаны важнейшие параметры, необходимые для анализа,\n",
    "также этих пропуска всего 2."
   ]
  },
  {
   "cell_type": "code",
   "execution_count": 8,
   "metadata": {},
   "outputs": [
    {
     "data": {
      "text/html": [
       "<div>\n",
       "<style scoped>\n",
       "    .dataframe tbody tr th:only-of-type {\n",
       "        vertical-align: middle;\n",
       "    }\n",
       "\n",
       "    .dataframe tbody tr th {\n",
       "        vertical-align: top;\n",
       "    }\n",
       "\n",
       "    .dataframe thead th {\n",
       "        text-align: right;\n",
       "    }\n",
       "</style>\n",
       "<table border=\"1\" class=\"dataframe\">\n",
       "  <thead>\n",
       "    <tr style=\"text-align: right;\">\n",
       "      <th></th>\n",
       "      <th>name</th>\n",
       "      <th>platform</th>\n",
       "      <th>year_of_release</th>\n",
       "      <th>genre</th>\n",
       "      <th>na_sales</th>\n",
       "      <th>eu_sales</th>\n",
       "      <th>jp_sales</th>\n",
       "      <th>other_sales</th>\n",
       "      <th>critic_score</th>\n",
       "      <th>user_score</th>\n",
       "      <th>rating</th>\n",
       "    </tr>\n",
       "  </thead>\n",
       "  <tbody>\n",
       "    <tr>\n",
       "      <th>659</th>\n",
       "      <td>NaN</td>\n",
       "      <td>GEN</td>\n",
       "      <td>1993.0</td>\n",
       "      <td>NaN</td>\n",
       "      <td>1.78</td>\n",
       "      <td>0.53</td>\n",
       "      <td>0.00</td>\n",
       "      <td>0.08</td>\n",
       "      <td>NaN</td>\n",
       "      <td>NaN</td>\n",
       "      <td>NaN</td>\n",
       "    </tr>\n",
       "    <tr>\n",
       "      <th>14244</th>\n",
       "      <td>NaN</td>\n",
       "      <td>GEN</td>\n",
       "      <td>1993.0</td>\n",
       "      <td>NaN</td>\n",
       "      <td>0.00</td>\n",
       "      <td>0.00</td>\n",
       "      <td>0.03</td>\n",
       "      <td>0.00</td>\n",
       "      <td>NaN</td>\n",
       "      <td>NaN</td>\n",
       "      <td>NaN</td>\n",
       "    </tr>\n",
       "  </tbody>\n",
       "</table>\n",
       "</div>"
      ],
      "text/plain": [
       "      name platform  year_of_release genre  na_sales  eu_sales  jp_sales  \\\n",
       "659    NaN      GEN           1993.0   NaN      1.78      0.53      0.00   \n",
       "14244  NaN      GEN           1993.0   NaN      0.00      0.00      0.03   \n",
       "\n",
       "       other_sales  critic_score user_score rating  \n",
       "659           0.08           NaN        NaN    NaN  \n",
       "14244         0.00           NaN        NaN    NaN  "
      ]
     },
     "execution_count": 8,
     "metadata": {},
     "output_type": "execute_result"
    }
   ],
   "source": [
    "df[df['name'].isna()]"
   ]
  },
  {
   "cell_type": "markdown",
   "metadata": {},
   "source": [
    "Ниже операция удаления."
   ]
  },
  {
   "cell_type": "code",
   "execution_count": 9,
   "metadata": {},
   "outputs": [],
   "source": [
    "df = df.loc[~(df['name'].isna())]"
   ]
  },
  {
   "cell_type": "markdown",
   "metadata": {},
   "source": [
    "Посмотрим на пропуски в столбце 'year_of_release', их всего 269, поэтому удалим их."
   ]
  },
  {
   "cell_type": "code",
   "execution_count": 10,
   "metadata": {
    "scrolled": true
   },
   "outputs": [
    {
     "data": {
      "text/html": [
       "<div>\n",
       "<style scoped>\n",
       "    .dataframe tbody tr th:only-of-type {\n",
       "        vertical-align: middle;\n",
       "    }\n",
       "\n",
       "    .dataframe tbody tr th {\n",
       "        vertical-align: top;\n",
       "    }\n",
       "\n",
       "    .dataframe thead th {\n",
       "        text-align: right;\n",
       "    }\n",
       "</style>\n",
       "<table border=\"1\" class=\"dataframe\">\n",
       "  <thead>\n",
       "    <tr style=\"text-align: right;\">\n",
       "      <th></th>\n",
       "      <th>name</th>\n",
       "      <th>platform</th>\n",
       "      <th>year_of_release</th>\n",
       "      <th>genre</th>\n",
       "      <th>na_sales</th>\n",
       "      <th>eu_sales</th>\n",
       "      <th>jp_sales</th>\n",
       "      <th>other_sales</th>\n",
       "      <th>critic_score</th>\n",
       "      <th>user_score</th>\n",
       "      <th>rating</th>\n",
       "    </tr>\n",
       "  </thead>\n",
       "  <tbody>\n",
       "    <tr>\n",
       "      <th>183</th>\n",
       "      <td>Madden NFL 2004</td>\n",
       "      <td>PS2</td>\n",
       "      <td>NaN</td>\n",
       "      <td>Sports</td>\n",
       "      <td>4.26</td>\n",
       "      <td>0.26</td>\n",
       "      <td>0.01</td>\n",
       "      <td>0.71</td>\n",
       "      <td>94.0</td>\n",
       "      <td>8.5</td>\n",
       "      <td>E</td>\n",
       "    </tr>\n",
       "    <tr>\n",
       "      <th>377</th>\n",
       "      <td>FIFA Soccer 2004</td>\n",
       "      <td>PS2</td>\n",
       "      <td>NaN</td>\n",
       "      <td>Sports</td>\n",
       "      <td>0.59</td>\n",
       "      <td>2.36</td>\n",
       "      <td>0.04</td>\n",
       "      <td>0.51</td>\n",
       "      <td>84.0</td>\n",
       "      <td>6.4</td>\n",
       "      <td>E</td>\n",
       "    </tr>\n",
       "    <tr>\n",
       "      <th>456</th>\n",
       "      <td>LEGO Batman: The Videogame</td>\n",
       "      <td>Wii</td>\n",
       "      <td>NaN</td>\n",
       "      <td>Action</td>\n",
       "      <td>1.80</td>\n",
       "      <td>0.97</td>\n",
       "      <td>0.00</td>\n",
       "      <td>0.29</td>\n",
       "      <td>74.0</td>\n",
       "      <td>7.9</td>\n",
       "      <td>E10+</td>\n",
       "    </tr>\n",
       "    <tr>\n",
       "      <th>475</th>\n",
       "      <td>wwe Smackdown vs. Raw 2006</td>\n",
       "      <td>PS2</td>\n",
       "      <td>NaN</td>\n",
       "      <td>Fighting</td>\n",
       "      <td>1.57</td>\n",
       "      <td>1.02</td>\n",
       "      <td>0.00</td>\n",
       "      <td>0.41</td>\n",
       "      <td>NaN</td>\n",
       "      <td>NaN</td>\n",
       "      <td>NaN</td>\n",
       "    </tr>\n",
       "    <tr>\n",
       "      <th>609</th>\n",
       "      <td>Space Invaders</td>\n",
       "      <td>2600</td>\n",
       "      <td>NaN</td>\n",
       "      <td>Shooter</td>\n",
       "      <td>2.36</td>\n",
       "      <td>0.14</td>\n",
       "      <td>0.00</td>\n",
       "      <td>0.03</td>\n",
       "      <td>NaN</td>\n",
       "      <td>NaN</td>\n",
       "      <td>NaN</td>\n",
       "    </tr>\n",
       "    <tr>\n",
       "      <th>...</th>\n",
       "      <td>...</td>\n",
       "      <td>...</td>\n",
       "      <td>...</td>\n",
       "      <td>...</td>\n",
       "      <td>...</td>\n",
       "      <td>...</td>\n",
       "      <td>...</td>\n",
       "      <td>...</td>\n",
       "      <td>...</td>\n",
       "      <td>...</td>\n",
       "      <td>...</td>\n",
       "    </tr>\n",
       "    <tr>\n",
       "      <th>16373</th>\n",
       "      <td>PDC World Championship Darts 2008</td>\n",
       "      <td>PSP</td>\n",
       "      <td>NaN</td>\n",
       "      <td>Sports</td>\n",
       "      <td>0.01</td>\n",
       "      <td>0.00</td>\n",
       "      <td>0.00</td>\n",
       "      <td>0.00</td>\n",
       "      <td>43.0</td>\n",
       "      <td>tbd</td>\n",
       "      <td>E10+</td>\n",
       "    </tr>\n",
       "    <tr>\n",
       "      <th>16405</th>\n",
       "      <td>Freaky Flyers</td>\n",
       "      <td>GC</td>\n",
       "      <td>NaN</td>\n",
       "      <td>Racing</td>\n",
       "      <td>0.01</td>\n",
       "      <td>0.00</td>\n",
       "      <td>0.00</td>\n",
       "      <td>0.00</td>\n",
       "      <td>69.0</td>\n",
       "      <td>6.5</td>\n",
       "      <td>T</td>\n",
       "    </tr>\n",
       "    <tr>\n",
       "      <th>16448</th>\n",
       "      <td>Inversion</td>\n",
       "      <td>PC</td>\n",
       "      <td>NaN</td>\n",
       "      <td>Shooter</td>\n",
       "      <td>0.01</td>\n",
       "      <td>0.00</td>\n",
       "      <td>0.00</td>\n",
       "      <td>0.00</td>\n",
       "      <td>59.0</td>\n",
       "      <td>6.7</td>\n",
       "      <td>M</td>\n",
       "    </tr>\n",
       "    <tr>\n",
       "      <th>16458</th>\n",
       "      <td>Hakuouki: Shinsengumi Kitan</td>\n",
       "      <td>PS3</td>\n",
       "      <td>NaN</td>\n",
       "      <td>Adventure</td>\n",
       "      <td>0.01</td>\n",
       "      <td>0.00</td>\n",
       "      <td>0.00</td>\n",
       "      <td>0.00</td>\n",
       "      <td>NaN</td>\n",
       "      <td>NaN</td>\n",
       "      <td>NaN</td>\n",
       "    </tr>\n",
       "    <tr>\n",
       "      <th>16522</th>\n",
       "      <td>Virtua Quest</td>\n",
       "      <td>GC</td>\n",
       "      <td>NaN</td>\n",
       "      <td>Role-Playing</td>\n",
       "      <td>0.01</td>\n",
       "      <td>0.00</td>\n",
       "      <td>0.00</td>\n",
       "      <td>0.00</td>\n",
       "      <td>55.0</td>\n",
       "      <td>5.5</td>\n",
       "      <td>T</td>\n",
       "    </tr>\n",
       "  </tbody>\n",
       "</table>\n",
       "<p>269 rows × 11 columns</p>\n",
       "</div>"
      ],
      "text/plain": [
       "                                    name platform  year_of_release  \\\n",
       "183                      Madden NFL 2004      PS2              NaN   \n",
       "377                     FIFA Soccer 2004      PS2              NaN   \n",
       "456           LEGO Batman: The Videogame      Wii              NaN   \n",
       "475           wwe Smackdown vs. Raw 2006      PS2              NaN   \n",
       "609                       Space Invaders     2600              NaN   \n",
       "...                                  ...      ...              ...   \n",
       "16373  PDC World Championship Darts 2008      PSP              NaN   \n",
       "16405                      Freaky Flyers       GC              NaN   \n",
       "16448                          Inversion       PC              NaN   \n",
       "16458        Hakuouki: Shinsengumi Kitan      PS3              NaN   \n",
       "16522                       Virtua Quest       GC              NaN   \n",
       "\n",
       "              genre  na_sales  eu_sales  jp_sales  other_sales  critic_score  \\\n",
       "183          Sports      4.26      0.26      0.01         0.71          94.0   \n",
       "377          Sports      0.59      2.36      0.04         0.51          84.0   \n",
       "456          Action      1.80      0.97      0.00         0.29          74.0   \n",
       "475        Fighting      1.57      1.02      0.00         0.41           NaN   \n",
       "609         Shooter      2.36      0.14      0.00         0.03           NaN   \n",
       "...             ...       ...       ...       ...          ...           ...   \n",
       "16373        Sports      0.01      0.00      0.00         0.00          43.0   \n",
       "16405        Racing      0.01      0.00      0.00         0.00          69.0   \n",
       "16448       Shooter      0.01      0.00      0.00         0.00          59.0   \n",
       "16458     Adventure      0.01      0.00      0.00         0.00           NaN   \n",
       "16522  Role-Playing      0.01      0.00      0.00         0.00          55.0   \n",
       "\n",
       "      user_score rating  \n",
       "183          8.5      E  \n",
       "377          6.4      E  \n",
       "456          7.9   E10+  \n",
       "475          NaN    NaN  \n",
       "609          NaN    NaN  \n",
       "...          ...    ...  \n",
       "16373        tbd   E10+  \n",
       "16405        6.5      T  \n",
       "16448        6.7      M  \n",
       "16458        NaN    NaN  \n",
       "16522        5.5      T  \n",
       "\n",
       "[269 rows x 11 columns]"
      ]
     },
     "execution_count": 10,
     "metadata": {},
     "output_type": "execute_result"
    }
   ],
   "source": [
    "df[df['year_of_release'].isna()]"
   ]
  },
  {
   "cell_type": "code",
   "execution_count": 11,
   "metadata": {},
   "outputs": [],
   "source": [
    "df = df.loc[~(df['year_of_release'].isna())]"
   ]
  },
  {
   "cell_type": "markdown",
   "metadata": {},
   "source": [
    "Теперь, когда пропусков нет, можно перевести данные столбца 'year_of_release' в int."
   ]
  },
  {
   "cell_type": "code",
   "execution_count": 12,
   "metadata": {},
   "outputs": [],
   "source": [
    "df['year_of_release'] = df['year_of_release'].astype('int')"
   ]
  },
  {
   "cell_type": "markdown",
   "metadata": {},
   "source": [
    "Займемся пропусками в столбцах 'critic_score', 'user_score'.\n",
    "С первого взгляда можно выдвинуть гипотезу, что составители датафрейма халатно отнеслись к информации, связанной с \n",
    "рейтингами игр, так как количество пропусков в этих столбцах совпадает.\n",
    "Выведем срез, где все значения в 'critic_score', 'user_score' пропущены."
   ]
  },
  {
   "cell_type": "code",
   "execution_count": 13,
   "metadata": {},
   "outputs": [
    {
     "data": {
      "text/html": [
       "<div>\n",
       "<style scoped>\n",
       "    .dataframe tbody tr th:only-of-type {\n",
       "        vertical-align: middle;\n",
       "    }\n",
       "\n",
       "    .dataframe tbody tr th {\n",
       "        vertical-align: top;\n",
       "    }\n",
       "\n",
       "    .dataframe thead th {\n",
       "        text-align: right;\n",
       "    }\n",
       "</style>\n",
       "<table border=\"1\" class=\"dataframe\">\n",
       "  <thead>\n",
       "    <tr style=\"text-align: right;\">\n",
       "      <th></th>\n",
       "      <th>name</th>\n",
       "      <th>platform</th>\n",
       "      <th>year_of_release</th>\n",
       "      <th>genre</th>\n",
       "      <th>na_sales</th>\n",
       "      <th>eu_sales</th>\n",
       "      <th>jp_sales</th>\n",
       "      <th>other_sales</th>\n",
       "      <th>critic_score</th>\n",
       "      <th>user_score</th>\n",
       "      <th>rating</th>\n",
       "    </tr>\n",
       "  </thead>\n",
       "  <tbody>\n",
       "    <tr>\n",
       "      <th>1</th>\n",
       "      <td>Super Mario Bros.</td>\n",
       "      <td>NES</td>\n",
       "      <td>1985</td>\n",
       "      <td>Platform</td>\n",
       "      <td>29.08</td>\n",
       "      <td>3.58</td>\n",
       "      <td>6.81</td>\n",
       "      <td>0.77</td>\n",
       "      <td>NaN</td>\n",
       "      <td>NaN</td>\n",
       "      <td>NaN</td>\n",
       "    </tr>\n",
       "    <tr>\n",
       "      <th>4</th>\n",
       "      <td>Pokemon Red/Pokemon Blue</td>\n",
       "      <td>GB</td>\n",
       "      <td>1996</td>\n",
       "      <td>Role-Playing</td>\n",
       "      <td>11.27</td>\n",
       "      <td>8.89</td>\n",
       "      <td>10.22</td>\n",
       "      <td>1.00</td>\n",
       "      <td>NaN</td>\n",
       "      <td>NaN</td>\n",
       "      <td>NaN</td>\n",
       "    </tr>\n",
       "    <tr>\n",
       "      <th>5</th>\n",
       "      <td>Tetris</td>\n",
       "      <td>GB</td>\n",
       "      <td>1989</td>\n",
       "      <td>Puzzle</td>\n",
       "      <td>23.20</td>\n",
       "      <td>2.26</td>\n",
       "      <td>4.22</td>\n",
       "      <td>0.58</td>\n",
       "      <td>NaN</td>\n",
       "      <td>NaN</td>\n",
       "      <td>NaN</td>\n",
       "    </tr>\n",
       "    <tr>\n",
       "      <th>9</th>\n",
       "      <td>Duck Hunt</td>\n",
       "      <td>NES</td>\n",
       "      <td>1984</td>\n",
       "      <td>Shooter</td>\n",
       "      <td>26.93</td>\n",
       "      <td>0.63</td>\n",
       "      <td>0.28</td>\n",
       "      <td>0.47</td>\n",
       "      <td>NaN</td>\n",
       "      <td>NaN</td>\n",
       "      <td>NaN</td>\n",
       "    </tr>\n",
       "    <tr>\n",
       "      <th>10</th>\n",
       "      <td>Nintendogs</td>\n",
       "      <td>DS</td>\n",
       "      <td>2005</td>\n",
       "      <td>Simulation</td>\n",
       "      <td>9.05</td>\n",
       "      <td>10.95</td>\n",
       "      <td>1.93</td>\n",
       "      <td>2.74</td>\n",
       "      <td>NaN</td>\n",
       "      <td>NaN</td>\n",
       "      <td>NaN</td>\n",
       "    </tr>\n",
       "    <tr>\n",
       "      <th>...</th>\n",
       "      <td>...</td>\n",
       "      <td>...</td>\n",
       "      <td>...</td>\n",
       "      <td>...</td>\n",
       "      <td>...</td>\n",
       "      <td>...</td>\n",
       "      <td>...</td>\n",
       "      <td>...</td>\n",
       "      <td>...</td>\n",
       "      <td>...</td>\n",
       "      <td>...</td>\n",
       "    </tr>\n",
       "    <tr>\n",
       "      <th>16710</th>\n",
       "      <td>Samurai Warriors: Sanada Maru</td>\n",
       "      <td>PS3</td>\n",
       "      <td>2016</td>\n",
       "      <td>Action</td>\n",
       "      <td>0.00</td>\n",
       "      <td>0.00</td>\n",
       "      <td>0.01</td>\n",
       "      <td>0.00</td>\n",
       "      <td>NaN</td>\n",
       "      <td>NaN</td>\n",
       "      <td>NaN</td>\n",
       "    </tr>\n",
       "    <tr>\n",
       "      <th>16711</th>\n",
       "      <td>LMA Manager 2007</td>\n",
       "      <td>X360</td>\n",
       "      <td>2006</td>\n",
       "      <td>Sports</td>\n",
       "      <td>0.00</td>\n",
       "      <td>0.01</td>\n",
       "      <td>0.00</td>\n",
       "      <td>0.00</td>\n",
       "      <td>NaN</td>\n",
       "      <td>NaN</td>\n",
       "      <td>NaN</td>\n",
       "    </tr>\n",
       "    <tr>\n",
       "      <th>16712</th>\n",
       "      <td>Haitaka no Psychedelica</td>\n",
       "      <td>PSV</td>\n",
       "      <td>2016</td>\n",
       "      <td>Adventure</td>\n",
       "      <td>0.00</td>\n",
       "      <td>0.00</td>\n",
       "      <td>0.01</td>\n",
       "      <td>0.00</td>\n",
       "      <td>NaN</td>\n",
       "      <td>NaN</td>\n",
       "      <td>NaN</td>\n",
       "    </tr>\n",
       "    <tr>\n",
       "      <th>16713</th>\n",
       "      <td>Spirits &amp; Spells</td>\n",
       "      <td>GBA</td>\n",
       "      <td>2003</td>\n",
       "      <td>Platform</td>\n",
       "      <td>0.01</td>\n",
       "      <td>0.00</td>\n",
       "      <td>0.00</td>\n",
       "      <td>0.00</td>\n",
       "      <td>NaN</td>\n",
       "      <td>NaN</td>\n",
       "      <td>NaN</td>\n",
       "    </tr>\n",
       "    <tr>\n",
       "      <th>16714</th>\n",
       "      <td>Winning Post 8 2016</td>\n",
       "      <td>PSV</td>\n",
       "      <td>2016</td>\n",
       "      <td>Simulation</td>\n",
       "      <td>0.00</td>\n",
       "      <td>0.00</td>\n",
       "      <td>0.01</td>\n",
       "      <td>0.00</td>\n",
       "      <td>NaN</td>\n",
       "      <td>NaN</td>\n",
       "      <td>NaN</td>\n",
       "    </tr>\n",
       "  </tbody>\n",
       "</table>\n",
       "<p>6572 rows × 11 columns</p>\n",
       "</div>"
      ],
      "text/plain": [
       "                                name platform  year_of_release         genre  \\\n",
       "1                  Super Mario Bros.      NES             1985      Platform   \n",
       "4           Pokemon Red/Pokemon Blue       GB             1996  Role-Playing   \n",
       "5                             Tetris       GB             1989        Puzzle   \n",
       "9                          Duck Hunt      NES             1984       Shooter   \n",
       "10                        Nintendogs       DS             2005    Simulation   \n",
       "...                              ...      ...              ...           ...   \n",
       "16710  Samurai Warriors: Sanada Maru      PS3             2016        Action   \n",
       "16711               LMA Manager 2007     X360             2006        Sports   \n",
       "16712        Haitaka no Psychedelica      PSV             2016     Adventure   \n",
       "16713               Spirits & Spells      GBA             2003      Platform   \n",
       "16714            Winning Post 8 2016      PSV             2016    Simulation   \n",
       "\n",
       "       na_sales  eu_sales  jp_sales  other_sales  critic_score user_score  \\\n",
       "1         29.08      3.58      6.81         0.77           NaN        NaN   \n",
       "4         11.27      8.89     10.22         1.00           NaN        NaN   \n",
       "5         23.20      2.26      4.22         0.58           NaN        NaN   \n",
       "9         26.93      0.63      0.28         0.47           NaN        NaN   \n",
       "10         9.05     10.95      1.93         2.74           NaN        NaN   \n",
       "...         ...       ...       ...          ...           ...        ...   \n",
       "16710      0.00      0.00      0.01         0.00           NaN        NaN   \n",
       "16711      0.00      0.01      0.00         0.00           NaN        NaN   \n",
       "16712      0.00      0.00      0.01         0.00           NaN        NaN   \n",
       "16713      0.01      0.00      0.00         0.00           NaN        NaN   \n",
       "16714      0.00      0.00      0.01         0.00           NaN        NaN   \n",
       "\n",
       "      rating  \n",
       "1        NaN  \n",
       "4        NaN  \n",
       "5        NaN  \n",
       "9        NaN  \n",
       "10       NaN  \n",
       "...      ...  \n",
       "16710    NaN  \n",
       "16711    NaN  \n",
       "16712    NaN  \n",
       "16713    NaN  \n",
       "16714    NaN  \n",
       "\n",
       "[6572 rows x 11 columns]"
      ]
     },
     "execution_count": 13,
     "metadata": {},
     "output_type": "execute_result"
    }
   ],
   "source": [
    "df[(df['critic_score'].isna()) & (df['user_score'].isna())]"
   ]
  },
  {
   "cell_type": "markdown",
   "metadata": {},
   "source": [
    "Учитывая то, (1) что в датафрейме существует всего 6500+ строк, где одновременно пропущены значения в столбцах 'critic_score', \n",
    "'user_score', а также то (2), что в каждом из этих столбцов по отдельности примерно такое же количество пропусков, можно сделать вывод, что к заполнению именно этих вместе взятых столбцов подходили не очень строго. Но у меня есть еще одна гипотеза, что рейтинговая информация не была добавлена в таблицу для игр 2016 года выпуска. Проверим это в след ячейке."
   ]
  },
  {
   "cell_type": "code",
   "execution_count": 14,
   "metadata": {},
   "outputs": [
    {
     "data": {
      "text/html": [
       "<div>\n",
       "<style scoped>\n",
       "    .dataframe tbody tr th:only-of-type {\n",
       "        vertical-align: middle;\n",
       "    }\n",
       "\n",
       "    .dataframe tbody tr th {\n",
       "        vertical-align: top;\n",
       "    }\n",
       "\n",
       "    .dataframe thead th {\n",
       "        text-align: right;\n",
       "    }\n",
       "</style>\n",
       "<table border=\"1\" class=\"dataframe\">\n",
       "  <thead>\n",
       "    <tr style=\"text-align: right;\">\n",
       "      <th></th>\n",
       "      <th>name</th>\n",
       "      <th>platform</th>\n",
       "      <th>year_of_release</th>\n",
       "      <th>genre</th>\n",
       "      <th>na_sales</th>\n",
       "      <th>eu_sales</th>\n",
       "      <th>jp_sales</th>\n",
       "      <th>other_sales</th>\n",
       "      <th>critic_score</th>\n",
       "      <th>user_score</th>\n",
       "      <th>rating</th>\n",
       "    </tr>\n",
       "  </thead>\n",
       "  <tbody>\n",
       "    <tr>\n",
       "      <th>108</th>\n",
       "      <td>Pokemon Sun/Moon</td>\n",
       "      <td>3DS</td>\n",
       "      <td>2016</td>\n",
       "      <td>Role-Playing</td>\n",
       "      <td>2.98</td>\n",
       "      <td>1.45</td>\n",
       "      <td>2.26</td>\n",
       "      <td>0.45</td>\n",
       "      <td>NaN</td>\n",
       "      <td>NaN</td>\n",
       "      <td>NaN</td>\n",
       "    </tr>\n",
       "    <tr>\n",
       "      <th>1216</th>\n",
       "      <td>Ratchet &amp; Clank (2016)</td>\n",
       "      <td>PS4</td>\n",
       "      <td>2016</td>\n",
       "      <td>Platform</td>\n",
       "      <td>0.50</td>\n",
       "      <td>0.76</td>\n",
       "      <td>0.04</td>\n",
       "      <td>0.24</td>\n",
       "      <td>NaN</td>\n",
       "      <td>NaN</td>\n",
       "      <td>NaN</td>\n",
       "    </tr>\n",
       "    <tr>\n",
       "      <th>1275</th>\n",
       "      <td>Doom (2016)</td>\n",
       "      <td>PS4</td>\n",
       "      <td>2016</td>\n",
       "      <td>Shooter</td>\n",
       "      <td>0.54</td>\n",
       "      <td>0.69</td>\n",
       "      <td>0.02</td>\n",
       "      <td>0.24</td>\n",
       "      <td>NaN</td>\n",
       "      <td>NaN</td>\n",
       "      <td>NaN</td>\n",
       "    </tr>\n",
       "    <tr>\n",
       "      <th>1466</th>\n",
       "      <td>Yokai Watch 3</td>\n",
       "      <td>3DS</td>\n",
       "      <td>2016</td>\n",
       "      <td>Action</td>\n",
       "      <td>0.00</td>\n",
       "      <td>0.00</td>\n",
       "      <td>1.33</td>\n",
       "      <td>0.00</td>\n",
       "      <td>NaN</td>\n",
       "      <td>NaN</td>\n",
       "      <td>NaN</td>\n",
       "    </tr>\n",
       "    <tr>\n",
       "      <th>1475</th>\n",
       "      <td>The Elder Scrolls V: Skyrim</td>\n",
       "      <td>PS4</td>\n",
       "      <td>2016</td>\n",
       "      <td>Role-Playing</td>\n",
       "      <td>0.48</td>\n",
       "      <td>0.59</td>\n",
       "      <td>0.04</td>\n",
       "      <td>0.21</td>\n",
       "      <td>NaN</td>\n",
       "      <td>NaN</td>\n",
       "      <td>NaN</td>\n",
       "    </tr>\n",
       "    <tr>\n",
       "      <th>...</th>\n",
       "      <td>...</td>\n",
       "      <td>...</td>\n",
       "      <td>...</td>\n",
       "      <td>...</td>\n",
       "      <td>...</td>\n",
       "      <td>...</td>\n",
       "      <td>...</td>\n",
       "      <td>...</td>\n",
       "      <td>...</td>\n",
       "      <td>...</td>\n",
       "      <td>...</td>\n",
       "    </tr>\n",
       "    <tr>\n",
       "      <th>16699</th>\n",
       "      <td>The Longest 5 Minutes</td>\n",
       "      <td>PSV</td>\n",
       "      <td>2016</td>\n",
       "      <td>Action</td>\n",
       "      <td>0.00</td>\n",
       "      <td>0.00</td>\n",
       "      <td>0.01</td>\n",
       "      <td>0.00</td>\n",
       "      <td>NaN</td>\n",
       "      <td>NaN</td>\n",
       "      <td>NaN</td>\n",
       "    </tr>\n",
       "    <tr>\n",
       "      <th>16703</th>\n",
       "      <td>Strawberry Nauts</td>\n",
       "      <td>PSV</td>\n",
       "      <td>2016</td>\n",
       "      <td>Adventure</td>\n",
       "      <td>0.00</td>\n",
       "      <td>0.00</td>\n",
       "      <td>0.01</td>\n",
       "      <td>0.00</td>\n",
       "      <td>NaN</td>\n",
       "      <td>NaN</td>\n",
       "      <td>NaN</td>\n",
       "    </tr>\n",
       "    <tr>\n",
       "      <th>16710</th>\n",
       "      <td>Samurai Warriors: Sanada Maru</td>\n",
       "      <td>PS3</td>\n",
       "      <td>2016</td>\n",
       "      <td>Action</td>\n",
       "      <td>0.00</td>\n",
       "      <td>0.00</td>\n",
       "      <td>0.01</td>\n",
       "      <td>0.00</td>\n",
       "      <td>NaN</td>\n",
       "      <td>NaN</td>\n",
       "      <td>NaN</td>\n",
       "    </tr>\n",
       "    <tr>\n",
       "      <th>16712</th>\n",
       "      <td>Haitaka no Psychedelica</td>\n",
       "      <td>PSV</td>\n",
       "      <td>2016</td>\n",
       "      <td>Adventure</td>\n",
       "      <td>0.00</td>\n",
       "      <td>0.00</td>\n",
       "      <td>0.01</td>\n",
       "      <td>0.00</td>\n",
       "      <td>NaN</td>\n",
       "      <td>NaN</td>\n",
       "      <td>NaN</td>\n",
       "    </tr>\n",
       "    <tr>\n",
       "      <th>16714</th>\n",
       "      <td>Winning Post 8 2016</td>\n",
       "      <td>PSV</td>\n",
       "      <td>2016</td>\n",
       "      <td>Simulation</td>\n",
       "      <td>0.00</td>\n",
       "      <td>0.00</td>\n",
       "      <td>0.01</td>\n",
       "      <td>0.00</td>\n",
       "      <td>NaN</td>\n",
       "      <td>NaN</td>\n",
       "      <td>NaN</td>\n",
       "    </tr>\n",
       "  </tbody>\n",
       "</table>\n",
       "<p>206 rows × 11 columns</p>\n",
       "</div>"
      ],
      "text/plain": [
       "                                name platform  year_of_release         genre  \\\n",
       "108                 Pokemon Sun/Moon      3DS             2016  Role-Playing   \n",
       "1216          Ratchet & Clank (2016)      PS4             2016      Platform   \n",
       "1275                     Doom (2016)      PS4             2016       Shooter   \n",
       "1466                   Yokai Watch 3      3DS             2016        Action   \n",
       "1475     The Elder Scrolls V: Skyrim      PS4             2016  Role-Playing   \n",
       "...                              ...      ...              ...           ...   \n",
       "16699          The Longest 5 Minutes      PSV             2016        Action   \n",
       "16703               Strawberry Nauts      PSV             2016     Adventure   \n",
       "16710  Samurai Warriors: Sanada Maru      PS3             2016        Action   \n",
       "16712        Haitaka no Psychedelica      PSV             2016     Adventure   \n",
       "16714            Winning Post 8 2016      PSV             2016    Simulation   \n",
       "\n",
       "       na_sales  eu_sales  jp_sales  other_sales  critic_score user_score  \\\n",
       "108        2.98      1.45      2.26         0.45           NaN        NaN   \n",
       "1216       0.50      0.76      0.04         0.24           NaN        NaN   \n",
       "1275       0.54      0.69      0.02         0.24           NaN        NaN   \n",
       "1466       0.00      0.00      1.33         0.00           NaN        NaN   \n",
       "1475       0.48      0.59      0.04         0.21           NaN        NaN   \n",
       "...         ...       ...       ...          ...           ...        ...   \n",
       "16699      0.00      0.00      0.01         0.00           NaN        NaN   \n",
       "16703      0.00      0.00      0.01         0.00           NaN        NaN   \n",
       "16710      0.00      0.00      0.01         0.00           NaN        NaN   \n",
       "16712      0.00      0.00      0.01         0.00           NaN        NaN   \n",
       "16714      0.00      0.00      0.01         0.00           NaN        NaN   \n",
       "\n",
       "      rating  \n",
       "108      NaN  \n",
       "1216     NaN  \n",
       "1275     NaN  \n",
       "1466     NaN  \n",
       "1475     NaN  \n",
       "...      ...  \n",
       "16699    NaN  \n",
       "16703    NaN  \n",
       "16710    NaN  \n",
       "16712    NaN  \n",
       "16714    NaN  \n",
       "\n",
       "[206 rows x 11 columns]"
      ]
     },
     "execution_count": 14,
     "metadata": {},
     "output_type": "execute_result"
    }
   ],
   "source": [
    "df.loc[(df['critic_score'].isna()) & (df['user_score'].isna()) & (df['year_of_release']==2016)]"
   ]
  },
  {
   "cell_type": "markdown",
   "metadata": {},
   "source": [
    "Но из следующего среза датафрейма видим, что в строках с 2016 годом мало пропусков. Моя гипотеза не подтвердилась.\n",
    "Но есть еще одна, что рейтинговая информация не доступна для старых игр. Проверим это далее."
   ]
  },
  {
   "cell_type": "code",
   "execution_count": 15,
   "metadata": {},
   "outputs": [
    {
     "data": {
      "text/html": [
       "<div>\n",
       "<style scoped>\n",
       "    .dataframe tbody tr th:only-of-type {\n",
       "        vertical-align: middle;\n",
       "    }\n",
       "\n",
       "    .dataframe tbody tr th {\n",
       "        vertical-align: top;\n",
       "    }\n",
       "\n",
       "    .dataframe thead th {\n",
       "        text-align: right;\n",
       "    }\n",
       "</style>\n",
       "<table border=\"1\" class=\"dataframe\">\n",
       "  <thead>\n",
       "    <tr style=\"text-align: right;\">\n",
       "      <th></th>\n",
       "      <th>name</th>\n",
       "      <th>platform</th>\n",
       "      <th>year_of_release</th>\n",
       "      <th>genre</th>\n",
       "      <th>na_sales</th>\n",
       "      <th>eu_sales</th>\n",
       "      <th>jp_sales</th>\n",
       "      <th>other_sales</th>\n",
       "      <th>critic_score</th>\n",
       "      <th>user_score</th>\n",
       "      <th>rating</th>\n",
       "    </tr>\n",
       "  </thead>\n",
       "  <tbody>\n",
       "    <tr>\n",
       "      <th>1</th>\n",
       "      <td>Super Mario Bros.</td>\n",
       "      <td>NES</td>\n",
       "      <td>1985</td>\n",
       "      <td>Platform</td>\n",
       "      <td>29.08</td>\n",
       "      <td>3.58</td>\n",
       "      <td>6.81</td>\n",
       "      <td>0.77</td>\n",
       "      <td>NaN</td>\n",
       "      <td>NaN</td>\n",
       "      <td>NaN</td>\n",
       "    </tr>\n",
       "    <tr>\n",
       "      <th>4</th>\n",
       "      <td>Pokemon Red/Pokemon Blue</td>\n",
       "      <td>GB</td>\n",
       "      <td>1996</td>\n",
       "      <td>Role-Playing</td>\n",
       "      <td>11.27</td>\n",
       "      <td>8.89</td>\n",
       "      <td>10.22</td>\n",
       "      <td>1.00</td>\n",
       "      <td>NaN</td>\n",
       "      <td>NaN</td>\n",
       "      <td>NaN</td>\n",
       "    </tr>\n",
       "    <tr>\n",
       "      <th>5</th>\n",
       "      <td>Tetris</td>\n",
       "      <td>GB</td>\n",
       "      <td>1989</td>\n",
       "      <td>Puzzle</td>\n",
       "      <td>23.20</td>\n",
       "      <td>2.26</td>\n",
       "      <td>4.22</td>\n",
       "      <td>0.58</td>\n",
       "      <td>NaN</td>\n",
       "      <td>NaN</td>\n",
       "      <td>NaN</td>\n",
       "    </tr>\n",
       "    <tr>\n",
       "      <th>9</th>\n",
       "      <td>Duck Hunt</td>\n",
       "      <td>NES</td>\n",
       "      <td>1984</td>\n",
       "      <td>Shooter</td>\n",
       "      <td>26.93</td>\n",
       "      <td>0.63</td>\n",
       "      <td>0.28</td>\n",
       "      <td>0.47</td>\n",
       "      <td>NaN</td>\n",
       "      <td>NaN</td>\n",
       "      <td>NaN</td>\n",
       "    </tr>\n",
       "    <tr>\n",
       "      <th>12</th>\n",
       "      <td>Pokemon Gold/Pokemon Silver</td>\n",
       "      <td>GB</td>\n",
       "      <td>1999</td>\n",
       "      <td>Role-Playing</td>\n",
       "      <td>9.00</td>\n",
       "      <td>6.18</td>\n",
       "      <td>7.20</td>\n",
       "      <td>0.71</td>\n",
       "      <td>NaN</td>\n",
       "      <td>NaN</td>\n",
       "      <td>NaN</td>\n",
       "    </tr>\n",
       "    <tr>\n",
       "      <th>...</th>\n",
       "      <td>...</td>\n",
       "      <td>...</td>\n",
       "      <td>...</td>\n",
       "      <td>...</td>\n",
       "      <td>...</td>\n",
       "      <td>...</td>\n",
       "      <td>...</td>\n",
       "      <td>...</td>\n",
       "      <td>...</td>\n",
       "      <td>...</td>\n",
       "      <td>...</td>\n",
       "    </tr>\n",
       "    <tr>\n",
       "      <th>16341</th>\n",
       "      <td>Builder's Block</td>\n",
       "      <td>PS</td>\n",
       "      <td>1999</td>\n",
       "      <td>Strategy</td>\n",
       "      <td>0.01</td>\n",
       "      <td>0.00</td>\n",
       "      <td>0.00</td>\n",
       "      <td>0.00</td>\n",
       "      <td>NaN</td>\n",
       "      <td>NaN</td>\n",
       "      <td>NaN</td>\n",
       "    </tr>\n",
       "    <tr>\n",
       "      <th>16468</th>\n",
       "      <td>Meru Purana</td>\n",
       "      <td>PS</td>\n",
       "      <td>1996</td>\n",
       "      <td>Strategy</td>\n",
       "      <td>0.00</td>\n",
       "      <td>0.00</td>\n",
       "      <td>0.01</td>\n",
       "      <td>0.00</td>\n",
       "      <td>NaN</td>\n",
       "      <td>NaN</td>\n",
       "      <td>NaN</td>\n",
       "    </tr>\n",
       "    <tr>\n",
       "      <th>16607</th>\n",
       "      <td>Samurai Shodown: Warrios Rage</td>\n",
       "      <td>PS</td>\n",
       "      <td>1999</td>\n",
       "      <td>Fighting</td>\n",
       "      <td>0.01</td>\n",
       "      <td>0.00</td>\n",
       "      <td>0.00</td>\n",
       "      <td>0.00</td>\n",
       "      <td>NaN</td>\n",
       "      <td>NaN</td>\n",
       "      <td>NaN</td>\n",
       "    </tr>\n",
       "    <tr>\n",
       "      <th>16666</th>\n",
       "      <td>Psychic Detective</td>\n",
       "      <td>PS</td>\n",
       "      <td>1995</td>\n",
       "      <td>Adventure</td>\n",
       "      <td>0.01</td>\n",
       "      <td>0.00</td>\n",
       "      <td>0.00</td>\n",
       "      <td>0.00</td>\n",
       "      <td>NaN</td>\n",
       "      <td>NaN</td>\n",
       "      <td>NaN</td>\n",
       "    </tr>\n",
       "    <tr>\n",
       "      <th>16694</th>\n",
       "      <td>Carmageddon 64</td>\n",
       "      <td>N64</td>\n",
       "      <td>1999</td>\n",
       "      <td>Action</td>\n",
       "      <td>0.01</td>\n",
       "      <td>0.00</td>\n",
       "      <td>0.00</td>\n",
       "      <td>0.00</td>\n",
       "      <td>NaN</td>\n",
       "      <td>NaN</td>\n",
       "      <td>NaN</td>\n",
       "    </tr>\n",
       "  </tbody>\n",
       "</table>\n",
       "<p>1866 rows × 11 columns</p>\n",
       "</div>"
      ],
      "text/plain": [
       "                                name platform  year_of_release         genre  \\\n",
       "1                  Super Mario Bros.      NES             1985      Platform   \n",
       "4           Pokemon Red/Pokemon Blue       GB             1996  Role-Playing   \n",
       "5                             Tetris       GB             1989        Puzzle   \n",
       "9                          Duck Hunt      NES             1984       Shooter   \n",
       "12       Pokemon Gold/Pokemon Silver       GB             1999  Role-Playing   \n",
       "...                              ...      ...              ...           ...   \n",
       "16341                Builder's Block       PS             1999      Strategy   \n",
       "16468                    Meru Purana       PS             1996      Strategy   \n",
       "16607  Samurai Shodown: Warrios Rage       PS             1999      Fighting   \n",
       "16666              Psychic Detective       PS             1995     Adventure   \n",
       "16694                 Carmageddon 64      N64             1999        Action   \n",
       "\n",
       "       na_sales  eu_sales  jp_sales  other_sales  critic_score user_score  \\\n",
       "1         29.08      3.58      6.81         0.77           NaN        NaN   \n",
       "4         11.27      8.89     10.22         1.00           NaN        NaN   \n",
       "5         23.20      2.26      4.22         0.58           NaN        NaN   \n",
       "9         26.93      0.63      0.28         0.47           NaN        NaN   \n",
       "12         9.00      6.18      7.20         0.71           NaN        NaN   \n",
       "...         ...       ...       ...          ...           ...        ...   \n",
       "16341      0.01      0.00      0.00         0.00           NaN        NaN   \n",
       "16468      0.00      0.00      0.01         0.00           NaN        NaN   \n",
       "16607      0.01      0.00      0.00         0.00           NaN        NaN   \n",
       "16666      0.01      0.00      0.00         0.00           NaN        NaN   \n",
       "16694      0.01      0.00      0.00         0.00           NaN        NaN   \n",
       "\n",
       "      rating  \n",
       "1        NaN  \n",
       "4        NaN  \n",
       "5        NaN  \n",
       "9        NaN  \n",
       "12       NaN  \n",
       "...      ...  \n",
       "16341    NaN  \n",
       "16468    NaN  \n",
       "16607    NaN  \n",
       "16666    NaN  \n",
       "16694    NaN  \n",
       "\n",
       "[1866 rows x 11 columns]"
      ]
     },
     "execution_count": 15,
     "metadata": {},
     "output_type": "execute_result"
    }
   ],
   "source": [
    "df.loc[(df['critic_score'].isna()) & (df['user_score'].isna()) & (df['year_of_release'] < 2000)]"
   ]
  },
  {
   "cell_type": "markdown",
   "metadata": {},
   "source": [
    "Не самая большая доля пропусков в строках, где год меньше 2000."
   ]
  },
  {
   "cell_type": "code",
   "execution_count": 16,
   "metadata": {},
   "outputs": [
    {
     "data": {
      "text/html": [
       "<div>\n",
       "<style scoped>\n",
       "    .dataframe tbody tr th:only-of-type {\n",
       "        vertical-align: middle;\n",
       "    }\n",
       "\n",
       "    .dataframe tbody tr th {\n",
       "        vertical-align: top;\n",
       "    }\n",
       "\n",
       "    .dataframe thead th {\n",
       "        text-align: right;\n",
       "    }\n",
       "</style>\n",
       "<table border=\"1\" class=\"dataframe\">\n",
       "  <thead>\n",
       "    <tr style=\"text-align: right;\">\n",
       "      <th></th>\n",
       "      <th>name</th>\n",
       "      <th>platform</th>\n",
       "      <th>year_of_release</th>\n",
       "      <th>genre</th>\n",
       "      <th>na_sales</th>\n",
       "      <th>eu_sales</th>\n",
       "      <th>jp_sales</th>\n",
       "      <th>other_sales</th>\n",
       "      <th>critic_score</th>\n",
       "      <th>user_score</th>\n",
       "      <th>rating</th>\n",
       "    </tr>\n",
       "  </thead>\n",
       "  <tbody>\n",
       "    <tr>\n",
       "      <th>31</th>\n",
       "      <td>Call of Duty: Black Ops 3</td>\n",
       "      <td>PS4</td>\n",
       "      <td>2015</td>\n",
       "      <td>Shooter</td>\n",
       "      <td>6.03</td>\n",
       "      <td>5.86</td>\n",
       "      <td>0.36</td>\n",
       "      <td>2.38</td>\n",
       "      <td>NaN</td>\n",
       "      <td>NaN</td>\n",
       "      <td>NaN</td>\n",
       "    </tr>\n",
       "    <tr>\n",
       "      <th>33</th>\n",
       "      <td>Pokemon X/Pokemon Y</td>\n",
       "      <td>3DS</td>\n",
       "      <td>2013</td>\n",
       "      <td>Role-Playing</td>\n",
       "      <td>5.28</td>\n",
       "      <td>4.19</td>\n",
       "      <td>4.35</td>\n",
       "      <td>0.78</td>\n",
       "      <td>NaN</td>\n",
       "      <td>NaN</td>\n",
       "      <td>NaN</td>\n",
       "    </tr>\n",
       "    <tr>\n",
       "      <th>47</th>\n",
       "      <td>Pokemon Omega Ruby/Pokemon Alpha Sapphire</td>\n",
       "      <td>3DS</td>\n",
       "      <td>2014</td>\n",
       "      <td>Role-Playing</td>\n",
       "      <td>4.35</td>\n",
       "      <td>3.49</td>\n",
       "      <td>3.10</td>\n",
       "      <td>0.74</td>\n",
       "      <td>NaN</td>\n",
       "      <td>NaN</td>\n",
       "      <td>NaN</td>\n",
       "    </tr>\n",
       "    <tr>\n",
       "      <th>72</th>\n",
       "      <td>Minecraft</td>\n",
       "      <td>X360</td>\n",
       "      <td>2013</td>\n",
       "      <td>Misc</td>\n",
       "      <td>5.70</td>\n",
       "      <td>2.65</td>\n",
       "      <td>0.02</td>\n",
       "      <td>0.81</td>\n",
       "      <td>NaN</td>\n",
       "      <td>NaN</td>\n",
       "      <td>NaN</td>\n",
       "    </tr>\n",
       "    <tr>\n",
       "      <th>83</th>\n",
       "      <td>Pokemon Black 2/Pokemon White 2</td>\n",
       "      <td>DS</td>\n",
       "      <td>2012</td>\n",
       "      <td>Role-Playing</td>\n",
       "      <td>2.79</td>\n",
       "      <td>1.72</td>\n",
       "      <td>3.14</td>\n",
       "      <td>0.41</td>\n",
       "      <td>NaN</td>\n",
       "      <td>NaN</td>\n",
       "      <td>NaN</td>\n",
       "    </tr>\n",
       "    <tr>\n",
       "      <th>...</th>\n",
       "      <td>...</td>\n",
       "      <td>...</td>\n",
       "      <td>...</td>\n",
       "      <td>...</td>\n",
       "      <td>...</td>\n",
       "      <td>...</td>\n",
       "      <td>...</td>\n",
       "      <td>...</td>\n",
       "      <td>...</td>\n",
       "      <td>...</td>\n",
       "      <td>...</td>\n",
       "    </tr>\n",
       "    <tr>\n",
       "      <th>16703</th>\n",
       "      <td>Strawberry Nauts</td>\n",
       "      <td>PSV</td>\n",
       "      <td>2016</td>\n",
       "      <td>Adventure</td>\n",
       "      <td>0.00</td>\n",
       "      <td>0.00</td>\n",
       "      <td>0.01</td>\n",
       "      <td>0.00</td>\n",
       "      <td>NaN</td>\n",
       "      <td>NaN</td>\n",
       "      <td>NaN</td>\n",
       "    </tr>\n",
       "    <tr>\n",
       "      <th>16707</th>\n",
       "      <td>Aiyoku no Eustia</td>\n",
       "      <td>PSV</td>\n",
       "      <td>2014</td>\n",
       "      <td>Misc</td>\n",
       "      <td>0.00</td>\n",
       "      <td>0.00</td>\n",
       "      <td>0.01</td>\n",
       "      <td>0.00</td>\n",
       "      <td>NaN</td>\n",
       "      <td>NaN</td>\n",
       "      <td>NaN</td>\n",
       "    </tr>\n",
       "    <tr>\n",
       "      <th>16710</th>\n",
       "      <td>Samurai Warriors: Sanada Maru</td>\n",
       "      <td>PS3</td>\n",
       "      <td>2016</td>\n",
       "      <td>Action</td>\n",
       "      <td>0.00</td>\n",
       "      <td>0.00</td>\n",
       "      <td>0.01</td>\n",
       "      <td>0.00</td>\n",
       "      <td>NaN</td>\n",
       "      <td>NaN</td>\n",
       "      <td>NaN</td>\n",
       "    </tr>\n",
       "    <tr>\n",
       "      <th>16712</th>\n",
       "      <td>Haitaka no Psychedelica</td>\n",
       "      <td>PSV</td>\n",
       "      <td>2016</td>\n",
       "      <td>Adventure</td>\n",
       "      <td>0.00</td>\n",
       "      <td>0.00</td>\n",
       "      <td>0.01</td>\n",
       "      <td>0.00</td>\n",
       "      <td>NaN</td>\n",
       "      <td>NaN</td>\n",
       "      <td>NaN</td>\n",
       "    </tr>\n",
       "    <tr>\n",
       "      <th>16714</th>\n",
       "      <td>Winning Post 8 2016</td>\n",
       "      <td>PSV</td>\n",
       "      <td>2016</td>\n",
       "      <td>Simulation</td>\n",
       "      <td>0.00</td>\n",
       "      <td>0.00</td>\n",
       "      <td>0.01</td>\n",
       "      <td>0.00</td>\n",
       "      <td>NaN</td>\n",
       "      <td>NaN</td>\n",
       "      <td>NaN</td>\n",
       "    </tr>\n",
       "  </tbody>\n",
       "</table>\n",
       "<p>1636 rows × 11 columns</p>\n",
       "</div>"
      ],
      "text/plain": [
       "                                            name platform  year_of_release  \\\n",
       "31                     Call of Duty: Black Ops 3      PS4             2015   \n",
       "33                           Pokemon X/Pokemon Y      3DS             2013   \n",
       "47     Pokemon Omega Ruby/Pokemon Alpha Sapphire      3DS             2014   \n",
       "72                                     Minecraft     X360             2013   \n",
       "83               Pokemon Black 2/Pokemon White 2       DS             2012   \n",
       "...                                          ...      ...              ...   \n",
       "16703                           Strawberry Nauts      PSV             2016   \n",
       "16707                           Aiyoku no Eustia      PSV             2014   \n",
       "16710              Samurai Warriors: Sanada Maru      PS3             2016   \n",
       "16712                    Haitaka no Psychedelica      PSV             2016   \n",
       "16714                        Winning Post 8 2016      PSV             2016   \n",
       "\n",
       "              genre  na_sales  eu_sales  jp_sales  other_sales  critic_score  \\\n",
       "31          Shooter      6.03      5.86      0.36         2.38           NaN   \n",
       "33     Role-Playing      5.28      4.19      4.35         0.78           NaN   \n",
       "47     Role-Playing      4.35      3.49      3.10         0.74           NaN   \n",
       "72             Misc      5.70      2.65      0.02         0.81           NaN   \n",
       "83     Role-Playing      2.79      1.72      3.14         0.41           NaN   \n",
       "...             ...       ...       ...       ...          ...           ...   \n",
       "16703     Adventure      0.00      0.00      0.01         0.00           NaN   \n",
       "16707          Misc      0.00      0.00      0.01         0.00           NaN   \n",
       "16710        Action      0.00      0.00      0.01         0.00           NaN   \n",
       "16712     Adventure      0.00      0.00      0.01         0.00           NaN   \n",
       "16714    Simulation      0.00      0.00      0.01         0.00           NaN   \n",
       "\n",
       "      user_score rating  \n",
       "31           NaN    NaN  \n",
       "33           NaN    NaN  \n",
       "47           NaN    NaN  \n",
       "72           NaN    NaN  \n",
       "83           NaN    NaN  \n",
       "...          ...    ...  \n",
       "16703        NaN    NaN  \n",
       "16707        NaN    NaN  \n",
       "16710        NaN    NaN  \n",
       "16712        NaN    NaN  \n",
       "16714        NaN    NaN  \n",
       "\n",
       "[1636 rows x 11 columns]"
      ]
     },
     "execution_count": 16,
     "metadata": {},
     "output_type": "execute_result"
    }
   ],
   "source": [
    "df.loc[(df['critic_score'].isna()) & (df['user_score'].isna()) & (df['year_of_release'] > 2010)]"
   ]
  },
  {
   "cell_type": "markdown",
   "metadata": {},
   "source": [
    "Попусков много и в строках где год превышает даже 2010, уж тогда-то точно уже задумывались о всевозможных рейтингах.\n",
    "На основании всего этого, я делаю вывод о том, что пропуски в столбцах 'critic_score', 'user_score', не связаны никак\n",
    "с какими-то временными периодами, а, скорее всего, информацию просто не предоставляли. Ну что ж, оставим пропуски в покое, \n",
    "так как их много, не будем их удалять."
   ]
  },
  {
   "cell_type": "markdown",
   "metadata": {},
   "source": [
    "Теперь займемся пропусками в столбце 'rating'. Согласно информации в интернете, этот рейтинг присваивается играм, выпускаемым в Америке и США. Получается, что игры остальной части света, которых в датасете много, имеют в этой графе NaN. Чтобы в дальнейшнем при анализе учитывать этот фактор, присвоим пропускам в данной графе значение 'unknown'."
   ]
  },
  {
   "cell_type": "code",
   "execution_count": 17,
   "metadata": {},
   "outputs": [],
   "source": [
    "df['rating'] = df['rating'].fillna(value='unknown')"
   ]
  },
  {
   "cell_type": "markdown",
   "metadata": {},
   "source": [
    "**Вывод после этапа обработки пропусков данных**\n",
    "<br> Анализ данных позволил удалить пропуски в столбцах 'name' и 'year_of_release', и это определенно меньше общепринятых 10% от общих данных.</br>"
   ]
  },
  {
   "cell_type": "markdown",
   "metadata": {},
   "source": [
    "## Поиск аномальных значений и неявных дубликатов"
   ]
  },
  {
   "cell_type": "markdown",
   "metadata": {},
   "source": [
    "В данном разделе проверим диапазоны значений для числовых данных, а также просто корректность некторых данных для строковых."
   ]
  },
  {
   "cell_type": "code",
   "execution_count": 18,
   "metadata": {},
   "outputs": [
    {
     "data": {
      "text/plain": [
       "array(['2600', '3DO', '3DS', 'DC', 'DS', 'GB', 'GBA', 'GC', 'GEN', 'GG',\n",
       "       'N64', 'NES', 'NG', 'PC', 'PCFX', 'PS', 'PS2', 'PS3', 'PS4', 'PSP',\n",
       "       'PSV', 'SAT', 'SCD', 'SNES', 'TG16', 'WS', 'Wii', 'WiiU', 'X360',\n",
       "       'XB', 'XOne'], dtype=object)"
      ]
     },
     "execution_count": 18,
     "metadata": {},
     "output_type": "execute_result"
    }
   ],
   "source": [
    "df['platform'].sort_values().unique()"
   ]
  },
  {
   "cell_type": "markdown",
   "metadata": {},
   "source": [
    "Здесь, вроде, все адекватные значения, все платформы существуют."
   ]
  },
  {
   "cell_type": "code",
   "execution_count": 19,
   "metadata": {},
   "outputs": [
    {
     "data": {
      "text/plain": [
       "array([1980, 1981, 1982, 1983, 1984, 1985, 1986, 1987, 1988, 1989, 1990,\n",
       "       1991, 1992, 1993, 1994, 1995, 1996, 1997, 1998, 1999, 2000, 2001,\n",
       "       2002, 2003, 2004, 2005, 2006, 2007, 2008, 2009, 2010, 2011, 2012,\n",
       "       2013, 2014, 2015, 2016])"
      ]
     },
     "execution_count": 19,
     "metadata": {},
     "output_type": "execute_result"
    }
   ],
   "source": [
    "df['year_of_release'].sort_values().unique()"
   ]
  },
  {
   "cell_type": "markdown",
   "metadata": {},
   "source": [
    "С годами все хорошо."
   ]
  },
  {
   "cell_type": "code",
   "execution_count": 20,
   "metadata": {},
   "outputs": [
    {
     "data": {
      "text/plain": [
       "array(['Action', 'Adventure', 'Fighting', 'Misc', 'Platform', 'Puzzle',\n",
       "       'Racing', 'Role-Playing', 'Shooter', 'Simulation', 'Sports',\n",
       "       'Strategy'], dtype=object)"
      ]
     },
     "execution_count": 20,
     "metadata": {},
     "output_type": "execute_result"
    }
   ],
   "source": [
    "df['genre'].sort_values().unique()"
   ]
  },
  {
   "cell_type": "markdown",
   "metadata": {},
   "source": [
    "И здесь неявных дубликатов нет."
   ]
  },
  {
   "cell_type": "markdown",
   "metadata": {},
   "source": [
    "Поищем выбивающиеся значения в столбцах, связанных с продажами."
   ]
  },
  {
   "cell_type": "code",
   "execution_count": 21,
   "metadata": {},
   "outputs": [
    {
     "data": {
      "text/plain": [
       "(0.0, 41.36, 0.0, 28.96, 0.0, 10.22)"
      ]
     },
     "execution_count": 21,
     "metadata": {},
     "output_type": "execute_result"
    }
   ],
   "source": [
    "df['na_sales'].min(), df['na_sales'].max(),\\\n",
    "df['eu_sales'].min(), df['eu_sales'].max(),\\\n",
    "df['jp_sales'].min(), df['jp_sales'].max()"
   ]
  },
  {
   "cell_type": "markdown",
   "metadata": {},
   "source": [
    "Есть строки, где продажи равнялись 0, но это может быть связано с тем, что игра выходила только в одной из частей света, т.е. продажи не велись в других странах. Странно будет, если окажется, что информация о продажах отсутствует во всех столбцах (выручка равна 0). Проверим это."
   ]
  },
  {
   "cell_type": "code",
   "execution_count": 22,
   "metadata": {},
   "outputs": [
    {
     "data": {
      "text/html": [
       "<div>\n",
       "<style scoped>\n",
       "    .dataframe tbody tr th:only-of-type {\n",
       "        vertical-align: middle;\n",
       "    }\n",
       "\n",
       "    .dataframe tbody tr th {\n",
       "        vertical-align: top;\n",
       "    }\n",
       "\n",
       "    .dataframe thead th {\n",
       "        text-align: right;\n",
       "    }\n",
       "</style>\n",
       "<table border=\"1\" class=\"dataframe\">\n",
       "  <thead>\n",
       "    <tr style=\"text-align: right;\">\n",
       "      <th></th>\n",
       "      <th>name</th>\n",
       "      <th>platform</th>\n",
       "      <th>year_of_release</th>\n",
       "      <th>genre</th>\n",
       "      <th>na_sales</th>\n",
       "      <th>eu_sales</th>\n",
       "      <th>jp_sales</th>\n",
       "      <th>other_sales</th>\n",
       "      <th>critic_score</th>\n",
       "      <th>user_score</th>\n",
       "      <th>rating</th>\n",
       "    </tr>\n",
       "  </thead>\n",
       "  <tbody>\n",
       "    <tr>\n",
       "      <th>16676</th>\n",
       "      <td>G1 Jockey 4 2008</td>\n",
       "      <td>PS3</td>\n",
       "      <td>2008</td>\n",
       "      <td>Sports</td>\n",
       "      <td>0.0</td>\n",
       "      <td>0.0</td>\n",
       "      <td>0.0</td>\n",
       "      <td>0.0</td>\n",
       "      <td>NaN</td>\n",
       "      <td>NaN</td>\n",
       "      <td>unknown</td>\n",
       "    </tr>\n",
       "    <tr>\n",
       "      <th>16709</th>\n",
       "      <td>SCORE International Baja 1000: The Official Game</td>\n",
       "      <td>PS2</td>\n",
       "      <td>2008</td>\n",
       "      <td>Racing</td>\n",
       "      <td>0.0</td>\n",
       "      <td>0.0</td>\n",
       "      <td>0.0</td>\n",
       "      <td>0.0</td>\n",
       "      <td>NaN</td>\n",
       "      <td>NaN</td>\n",
       "      <td>unknown</td>\n",
       "    </tr>\n",
       "  </tbody>\n",
       "</table>\n",
       "</div>"
      ],
      "text/plain": [
       "                                                   name platform  \\\n",
       "16676                                  G1 Jockey 4 2008      PS3   \n",
       "16709  SCORE International Baja 1000: The Official Game      PS2   \n",
       "\n",
       "       year_of_release   genre  na_sales  eu_sales  jp_sales  other_sales  \\\n",
       "16676             2008  Sports       0.0       0.0       0.0          0.0   \n",
       "16709             2008  Racing       0.0       0.0       0.0          0.0   \n",
       "\n",
       "       critic_score user_score   rating  \n",
       "16676           NaN        NaN  unknown  \n",
       "16709           NaN        NaN  unknown  "
      ]
     },
     "execution_count": 22,
     "metadata": {},
     "output_type": "execute_result"
    }
   ],
   "source": [
    "df.loc[(df['na_sales']==0) & (df['eu_sales']==0) & (df['jp_sales']==0) & (df['other_sales']==0)]"
   ]
  },
  {
   "cell_type": "markdown",
   "metadata": {},
   "source": [
    "А вот и две строки, которые, по всей видимости можно удалить, так как по ним нет никакой коммерческой информации. \n",
    "Мы занимаемся анализом данных в первую очередь для того, чтобы быть полезными заказчикам. А с этими строками каши не сваришь. Удаляю."
   ]
  },
  {
   "cell_type": "code",
   "execution_count": 23,
   "metadata": {},
   "outputs": [],
   "source": [
    "df = df.loc[~((df['na_sales']==0) & (df['eu_sales']==0) & (df['jp_sales']==0) & (df['other_sales']==0))]"
   ]
  },
  {
   "cell_type": "markdown",
   "metadata": {},
   "source": [
    "Продолжаем дальше изучать значения столбцов."
   ]
  },
  {
   "cell_type": "code",
   "execution_count": 24,
   "metadata": {},
   "outputs": [
    {
     "data": {
      "text/plain": [
       "array([13., 17., 19., 20., 21., 23., 24., 25., 26., 27., 28., 29., 30.,\n",
       "       31., 32., 33., 34., 35., 36., 37., 38., 39., 40., 41., 42., 43.,\n",
       "       44., 45., 46., 47., 48., 49., 50., 51., 52., 53., 54., 55., 56.,\n",
       "       57., 58., 59., 60., 61., 62., 63., 64., 65., 66., 67., 68., 69.,\n",
       "       70., 71., 72., 73., 74., 75., 76., 77., 78., 79., 80., 81., 82.,\n",
       "       83., 84., 85., 86., 87., 88., 89., 90., 91., 92., 93., 94., 95.,\n",
       "       96., 97., 98., nan])"
      ]
     },
     "execution_count": 24,
     "metadata": {},
     "output_type": "execute_result"
    }
   ],
   "source": [
    "df['critic_score'].sort_values().unique()"
   ]
  },
  {
   "cell_type": "markdown",
   "metadata": {},
   "source": [
    "Здесь все хорошо. Критики, по всей видимости, оценивали игру от 0 до 100."
   ]
  },
  {
   "cell_type": "code",
   "execution_count": 25,
   "metadata": {},
   "outputs": [
    {
     "data": {
      "text/plain": [
       "array(['0', '0.2', '0.3', '0.5', '0.6', '0.7', '0.9', '1', '1.1', '1.2',\n",
       "       '1.3', '1.4', '1.5', '1.6', '1.7', '1.8', '1.9', '2', '2.1', '2.2',\n",
       "       '2.3', '2.4', '2.5', '2.6', '2.7', '2.8', '2.9', '3', '3.1', '3.2',\n",
       "       '3.3', '3.4', '3.5', '3.6', '3.7', '3.8', '3.9', '4', '4.1', '4.2',\n",
       "       '4.3', '4.4', '4.5', '4.6', '4.7', '4.8', '4.9', '5', '5.1', '5.2',\n",
       "       '5.3', '5.4', '5.5', '5.6', '5.7', '5.8', '5.9', '6', '6.1', '6.2',\n",
       "       '6.3', '6.4', '6.5', '6.6', '6.7', '6.8', '6.9', '7', '7.1', '7.2',\n",
       "       '7.3', '7.4', '7.5', '7.6', '7.7', '7.8', '7.9', '8', '8.1', '8.2',\n",
       "       '8.3', '8.4', '8.5', '8.6', '8.7', '8.8', '8.9', '9', '9.1', '9.2',\n",
       "       '9.3', '9.4', '9.5', '9.6', '9.7', 'tbd', nan], dtype=object)"
      ]
     },
     "execution_count": 25,
     "metadata": {},
     "output_type": "execute_result"
    }
   ],
   "source": [
    "df['user_score'].sort_values().unique()"
   ]
  },
  {
   "cell_type": "markdown",
   "metadata": {},
   "source": [
    "Пользователи оценивали игры по 10-балльной шкале. И видно, что есть некоторое значение 'tbd'.\n",
    "Что бы это могло значить? Интрнет говорит - \"to be determined\". Цитата из интернет-источника \"Очень часто подобное \n",
    "сокращение можно встретить в анонсах компьютерных игр в графе \"Дата выхода\". Можно предположить, что эта аббревиатура\n",
    "должна быть в ячейках с самыми свежими играми - 2016 года. Смысл в том, что юзеры еще не определили их рейтинг.\n",
    "Возможно, рейтинг еще не сформировался из-за того, что мало пользователей сыграло в игру."
   ]
  },
  {
   "cell_type": "code",
   "execution_count": 26,
   "metadata": {},
   "outputs": [
    {
     "data": {
      "text/html": [
       "<div>\n",
       "<style scoped>\n",
       "    .dataframe tbody tr th:only-of-type {\n",
       "        vertical-align: middle;\n",
       "    }\n",
       "\n",
       "    .dataframe tbody tr th {\n",
       "        vertical-align: top;\n",
       "    }\n",
       "\n",
       "    .dataframe thead th {\n",
       "        text-align: right;\n",
       "    }\n",
       "</style>\n",
       "<table border=\"1\" class=\"dataframe\">\n",
       "  <thead>\n",
       "    <tr style=\"text-align: right;\">\n",
       "      <th></th>\n",
       "      <th>name</th>\n",
       "      <th>platform</th>\n",
       "      <th>year_of_release</th>\n",
       "      <th>genre</th>\n",
       "      <th>na_sales</th>\n",
       "      <th>eu_sales</th>\n",
       "      <th>jp_sales</th>\n",
       "      <th>other_sales</th>\n",
       "      <th>critic_score</th>\n",
       "      <th>user_score</th>\n",
       "      <th>rating</th>\n",
       "    </tr>\n",
       "  </thead>\n",
       "  <tbody>\n",
       "    <tr>\n",
       "      <th>119</th>\n",
       "      <td>Zumba Fitness</td>\n",
       "      <td>Wii</td>\n",
       "      <td>2010</td>\n",
       "      <td>Sports</td>\n",
       "      <td>3.45</td>\n",
       "      <td>2.59</td>\n",
       "      <td>0.0</td>\n",
       "      <td>0.66</td>\n",
       "      <td>NaN</td>\n",
       "      <td>tbd</td>\n",
       "      <td>E</td>\n",
       "    </tr>\n",
       "    <tr>\n",
       "      <th>301</th>\n",
       "      <td>Namco Museum: 50th Anniversary</td>\n",
       "      <td>PS2</td>\n",
       "      <td>2005</td>\n",
       "      <td>Misc</td>\n",
       "      <td>2.08</td>\n",
       "      <td>1.35</td>\n",
       "      <td>0.0</td>\n",
       "      <td>0.54</td>\n",
       "      <td>61.0</td>\n",
       "      <td>tbd</td>\n",
       "      <td>E10+</td>\n",
       "    </tr>\n",
       "    <tr>\n",
       "      <th>520</th>\n",
       "      <td>Zumba Fitness 2</td>\n",
       "      <td>Wii</td>\n",
       "      <td>2011</td>\n",
       "      <td>Sports</td>\n",
       "      <td>1.51</td>\n",
       "      <td>1.03</td>\n",
       "      <td>0.0</td>\n",
       "      <td>0.27</td>\n",
       "      <td>NaN</td>\n",
       "      <td>tbd</td>\n",
       "      <td>T</td>\n",
       "    </tr>\n",
       "    <tr>\n",
       "      <th>645</th>\n",
       "      <td>uDraw Studio</td>\n",
       "      <td>Wii</td>\n",
       "      <td>2010</td>\n",
       "      <td>Misc</td>\n",
       "      <td>1.65</td>\n",
       "      <td>0.57</td>\n",
       "      <td>0.0</td>\n",
       "      <td>0.20</td>\n",
       "      <td>71.0</td>\n",
       "      <td>tbd</td>\n",
       "      <td>E</td>\n",
       "    </tr>\n",
       "    <tr>\n",
       "      <th>718</th>\n",
       "      <td>Just Dance Kids</td>\n",
       "      <td>Wii</td>\n",
       "      <td>2010</td>\n",
       "      <td>Misc</td>\n",
       "      <td>1.52</td>\n",
       "      <td>0.54</td>\n",
       "      <td>0.0</td>\n",
       "      <td>0.18</td>\n",
       "      <td>NaN</td>\n",
       "      <td>tbd</td>\n",
       "      <td>E</td>\n",
       "    </tr>\n",
       "    <tr>\n",
       "      <th>...</th>\n",
       "      <td>...</td>\n",
       "      <td>...</td>\n",
       "      <td>...</td>\n",
       "      <td>...</td>\n",
       "      <td>...</td>\n",
       "      <td>...</td>\n",
       "      <td>...</td>\n",
       "      <td>...</td>\n",
       "      <td>...</td>\n",
       "      <td>...</td>\n",
       "      <td>...</td>\n",
       "    </tr>\n",
       "    <tr>\n",
       "      <th>16695</th>\n",
       "      <td>Planet Monsters</td>\n",
       "      <td>GBA</td>\n",
       "      <td>2001</td>\n",
       "      <td>Action</td>\n",
       "      <td>0.01</td>\n",
       "      <td>0.00</td>\n",
       "      <td>0.0</td>\n",
       "      <td>0.00</td>\n",
       "      <td>67.0</td>\n",
       "      <td>tbd</td>\n",
       "      <td>E</td>\n",
       "    </tr>\n",
       "    <tr>\n",
       "      <th>16697</th>\n",
       "      <td>Bust-A-Move 3000</td>\n",
       "      <td>GC</td>\n",
       "      <td>2003</td>\n",
       "      <td>Puzzle</td>\n",
       "      <td>0.01</td>\n",
       "      <td>0.00</td>\n",
       "      <td>0.0</td>\n",
       "      <td>0.00</td>\n",
       "      <td>53.0</td>\n",
       "      <td>tbd</td>\n",
       "      <td>E</td>\n",
       "    </tr>\n",
       "    <tr>\n",
       "      <th>16698</th>\n",
       "      <td>Mega Brain Boost</td>\n",
       "      <td>DS</td>\n",
       "      <td>2008</td>\n",
       "      <td>Puzzle</td>\n",
       "      <td>0.01</td>\n",
       "      <td>0.00</td>\n",
       "      <td>0.0</td>\n",
       "      <td>0.00</td>\n",
       "      <td>48.0</td>\n",
       "      <td>tbd</td>\n",
       "      <td>E</td>\n",
       "    </tr>\n",
       "    <tr>\n",
       "      <th>16704</th>\n",
       "      <td>Plushees</td>\n",
       "      <td>DS</td>\n",
       "      <td>2008</td>\n",
       "      <td>Simulation</td>\n",
       "      <td>0.01</td>\n",
       "      <td>0.00</td>\n",
       "      <td>0.0</td>\n",
       "      <td>0.00</td>\n",
       "      <td>NaN</td>\n",
       "      <td>tbd</td>\n",
       "      <td>E</td>\n",
       "    </tr>\n",
       "    <tr>\n",
       "      <th>16706</th>\n",
       "      <td>Men in Black II: Alien Escape</td>\n",
       "      <td>GC</td>\n",
       "      <td>2003</td>\n",
       "      <td>Shooter</td>\n",
       "      <td>0.01</td>\n",
       "      <td>0.00</td>\n",
       "      <td>0.0</td>\n",
       "      <td>0.00</td>\n",
       "      <td>NaN</td>\n",
       "      <td>tbd</td>\n",
       "      <td>T</td>\n",
       "    </tr>\n",
       "  </tbody>\n",
       "</table>\n",
       "<p>2376 rows × 11 columns</p>\n",
       "</div>"
      ],
      "text/plain": [
       "                                 name platform  year_of_release       genre  \\\n",
       "119                     Zumba Fitness      Wii             2010      Sports   \n",
       "301    Namco Museum: 50th Anniversary      PS2             2005        Misc   \n",
       "520                   Zumba Fitness 2      Wii             2011      Sports   \n",
       "645                      uDraw Studio      Wii             2010        Misc   \n",
       "718                   Just Dance Kids      Wii             2010        Misc   \n",
       "...                               ...      ...              ...         ...   \n",
       "16695                 Planet Monsters      GBA             2001      Action   \n",
       "16697                Bust-A-Move 3000       GC             2003      Puzzle   \n",
       "16698                Mega Brain Boost       DS             2008      Puzzle   \n",
       "16704                        Plushees       DS             2008  Simulation   \n",
       "16706   Men in Black II: Alien Escape       GC             2003     Shooter   \n",
       "\n",
       "       na_sales  eu_sales  jp_sales  other_sales  critic_score user_score  \\\n",
       "119        3.45      2.59       0.0         0.66           NaN        tbd   \n",
       "301        2.08      1.35       0.0         0.54          61.0        tbd   \n",
       "520        1.51      1.03       0.0         0.27           NaN        tbd   \n",
       "645        1.65      0.57       0.0         0.20          71.0        tbd   \n",
       "718        1.52      0.54       0.0         0.18           NaN        tbd   \n",
       "...         ...       ...       ...          ...           ...        ...   \n",
       "16695      0.01      0.00       0.0         0.00          67.0        tbd   \n",
       "16697      0.01      0.00       0.0         0.00          53.0        tbd   \n",
       "16698      0.01      0.00       0.0         0.00          48.0        tbd   \n",
       "16704      0.01      0.00       0.0         0.00           NaN        tbd   \n",
       "16706      0.01      0.00       0.0         0.00           NaN        tbd   \n",
       "\n",
       "      rating  \n",
       "119        E  \n",
       "301     E10+  \n",
       "520        T  \n",
       "645        E  \n",
       "718        E  \n",
       "...      ...  \n",
       "16695      E  \n",
       "16697      E  \n",
       "16698      E  \n",
       "16704      E  \n",
       "16706      T  \n",
       "\n",
       "[2376 rows x 11 columns]"
      ]
     },
     "execution_count": 26,
     "metadata": {},
     "output_type": "execute_result"
    }
   ],
   "source": [
    "df[df['user_score']=='tbd']"
   ]
  },
  {
   "cell_type": "markdown",
   "metadata": {},
   "source": [
    "Но мои предположения не подтвердились. Видим, что значение 'tbd' в самых разных строках, где год принимает разные значения. Из среза данных видно, что где-то 'tbd' указано в строках с высокими продажами и довольно 'старыми' датами, \n",
    "то есть рейтинг пользователей должен был сформироваться. А где-то, как в самом конце таблицы, рейтинг у игр не сформировался,\n",
    "так как копий было продано всего около 10000. И это звучит логично. Получается природа 'tbd' в таблице двойственна, \n",
    "с одной стороны, логично отсутствие информации, так как игры были неуспешные и рейтинг не сформировался. Но с другой стороны,\n",
    "в успешных играх тоже есть значения 'tbd', что говорит о том, что данную информацию просто нам не предоставили.\n",
    "Оставим 'tbd', удаление строк с этим параметром исказит наши выводы."
   ]
  },
  {
   "cell_type": "markdown",
   "metadata": {},
   "source": [
    "Чтобы перевести формат 'user_score' во float для начала нужно как-то разобраться с 'tbd'. Сделаем из этого значение NaN."
   ]
  },
  {
   "cell_type": "code",
   "execution_count": 27,
   "metadata": {},
   "outputs": [],
   "source": [
    "df.loc[df['user_score']=='tbd', 'user_score'] = None"
   ]
  },
  {
   "cell_type": "code",
   "execution_count": 28,
   "metadata": {},
   "outputs": [
    {
     "data": {
      "text/plain": [
       "name                  0\n",
       "platform              0\n",
       "year_of_release       0\n",
       "genre                 0\n",
       "na_sales              0\n",
       "eu_sales              0\n",
       "jp_sales              0\n",
       "other_sales           0\n",
       "critic_score       8459\n",
       "user_score         8979\n",
       "rating                0\n",
       "dtype: int64"
      ]
     },
     "execution_count": 28,
     "metadata": {},
     "output_type": "execute_result"
    }
   ],
   "source": [
    "df.isna().sum()"
   ]
  },
  {
   "cell_type": "markdown",
   "metadata": {},
   "source": [
    "Мы видим, что после этой операции количество пропусков в 'user_score' и 'critic_score' стало примерно одиковым.\n",
    "На мой взгляд, это неплохо."
   ]
  },
  {
   "cell_type": "markdown",
   "metadata": {},
   "source": [
    "Теперь меняем формат столбца 'user_score':"
   ]
  },
  {
   "cell_type": "code",
   "execution_count": 29,
   "metadata": {},
   "outputs": [],
   "source": [
    "df['user_score'] = df['user_score'].astype('float')"
   ]
  },
  {
   "cell_type": "code",
   "execution_count": 30,
   "metadata": {},
   "outputs": [
    {
     "data": {
      "text/plain": [
       "array(['AO', 'E', 'E10+', 'EC', 'K-A', 'M', 'RP', 'T', 'unknown'],\n",
       "      dtype=object)"
      ]
     },
     "execution_count": 30,
     "metadata": {},
     "output_type": "execute_result"
    }
   ],
   "source": [
    "df['rating'].sort_values().unique()"
   ]
  },
  {
   "cell_type": "markdown",
   "metadata": {},
   "source": [
    "Здесь со значениями тоже все хорошо."
   ]
  },
  {
   "cell_type": "markdown",
   "metadata": {},
   "source": [
    "## Добавление вспомогательных столбцов"
   ]
  },
  {
   "cell_type": "markdown",
   "metadata": {},
   "source": [
    "Создадим столбец с суммарными продажами по всему миру."
   ]
  },
  {
   "cell_type": "code",
   "execution_count": 31,
   "metadata": {},
   "outputs": [],
   "source": [
    "df['total_sales'] = df['na_sales'] + df['eu_sales'] + df['jp_sales'] + df['other_sales']"
   ]
  },
  {
   "cell_type": "markdown",
   "metadata": {},
   "source": [
    "Обнулим индексы."
   ]
  },
  {
   "cell_type": "code",
   "execution_count": 32,
   "metadata": {},
   "outputs": [],
   "source": [
    "df.reset_index(drop=True, inplace=True)"
   ]
  },
  {
   "cell_type": "markdown",
   "metadata": {},
   "source": [
    "Посмотрим, что у нас осталось."
   ]
  },
  {
   "cell_type": "code",
   "execution_count": 33,
   "metadata": {},
   "outputs": [
    {
     "name": "stdout",
     "output_type": "stream",
     "text": [
      "<class 'pandas.core.frame.DataFrame'>\n",
      "RangeIndex: 16442 entries, 0 to 16441\n",
      "Data columns (total 12 columns):\n",
      " #   Column           Non-Null Count  Dtype  \n",
      "---  ------           --------------  -----  \n",
      " 0   name             16442 non-null  object \n",
      " 1   platform         16442 non-null  object \n",
      " 2   year_of_release  16442 non-null  int64  \n",
      " 3   genre            16442 non-null  object \n",
      " 4   na_sales         16442 non-null  float64\n",
      " 5   eu_sales         16442 non-null  float64\n",
      " 6   jp_sales         16442 non-null  float64\n",
      " 7   other_sales      16442 non-null  float64\n",
      " 8   critic_score     7983 non-null   float64\n",
      " 9   user_score       7463 non-null   float64\n",
      " 10  rating           16442 non-null  object \n",
      " 11  total_sales      16442 non-null  float64\n",
      "dtypes: float64(7), int64(1), object(4)\n",
      "memory usage: 1.5+ MB\n",
      "None\n",
      "-------------------------\n",
      "name [' Beyblade Burst' ' Fire Emblem Fates' \" Frozen: Olaf's Quest\" ...\n",
      " 'uDraw Studio' 'uDraw Studio: Instant Artist'\n",
      " '¡Shin Chan Flipa en colores!']\n",
      "name : кол-во NaN 0 , процент NaN 0.0 %\n",
      "-------------------------\n",
      "platform ['2600' '3DO' '3DS' 'DC' 'DS' 'GB' 'GBA' 'GC' 'GEN' 'GG' 'N64' 'NES' 'NG'\n",
      " 'PC' 'PCFX' 'PS' 'PS2' 'PS3' 'PS4' 'PSP' 'PSV' 'SAT' 'SCD' 'SNES' 'TG16'\n",
      " 'WS' 'Wii' 'WiiU' 'X360' 'XB' 'XOne']\n",
      "platform : кол-во NaN 0 , процент NaN 0.0 %\n",
      "-------------------------\n",
      "year_of_release [1980 1981 1982 1983 1984 1985 1986 1987 1988 1989 1990 1991 1992 1993\n",
      " 1994 1995 1996 1997 1998 1999 2000 2001 2002 2003 2004 2005 2006 2007\n",
      " 2008 2009 2010 2011 2012 2013 2014 2015 2016]\n",
      "year_of_release : кол-во NaN 0 , процент NaN 0.0 %\n",
      "-------------------------\n",
      "genre ['Action' 'Adventure' 'Fighting' 'Misc' 'Platform' 'Puzzle' 'Racing'\n",
      " 'Role-Playing' 'Shooter' 'Simulation' 'Sports' 'Strategy']\n",
      "genre : кол-во NaN 0 , процент NaN 0.0 %\n",
      "-------------------------\n",
      "critic_score [13. 17. 19. 20. 21. 23. 24. 25. 26. 27. 28. 29. 30. 31. 32. 33. 34. 35.\n",
      " 36. 37. 38. 39. 40. 41. 42. 43. 44. 45. 46. 47. 48. 49. 50. 51. 52. 53.\n",
      " 54. 55. 56. 57. 58. 59. 60. 61. 62. 63. 64. 65. 66. 67. 68. 69. 70. 71.\n",
      " 72. 73. 74. 75. 76. 77. 78. 79. 80. 81. 82. 83. 84. 85. 86. 87. 88. 89.\n",
      " 90. 91. 92. 93. 94. 95. 96. 97. 98. nan]\n",
      "critic_score : кол-во NaN 8459 , процент NaN 51.45 %\n",
      "-------------------------\n",
      "user_score [0.  0.2 0.3 0.5 0.6 0.7 0.9 1.  1.1 1.2 1.3 1.4 1.5 1.6 1.7 1.8 1.9 2.\n",
      " 2.1 2.2 2.3 2.4 2.5 2.6 2.7 2.8 2.9 3.  3.1 3.2 3.3 3.4 3.5 3.6 3.7 3.8\n",
      " 3.9 4.  4.1 4.2 4.3 4.4 4.5 4.6 4.7 4.8 4.9 5.  5.1 5.2 5.3 5.4 5.5 5.6\n",
      " 5.7 5.8 5.9 6.  6.1 6.2 6.3 6.4 6.5 6.6 6.7 6.8 6.9 7.  7.1 7.2 7.3 7.4\n",
      " 7.5 7.6 7.7 7.8 7.9 8.  8.1 8.2 8.3 8.4 8.5 8.6 8.7 8.8 8.9 9.  9.1 9.2\n",
      " 9.3 9.4 9.5 9.6 9.7 nan]\n",
      "user_score : кол-во NaN 8979 , процент NaN 54.61 %\n",
      "-------------------------\n",
      "rating ['AO' 'E' 'E10+' 'EC' 'K-A' 'M' 'RP' 'T' 'unknown']\n",
      "rating : кол-во NaN 0 , процент NaN 0.0 %\n"
     ]
    }
   ],
   "source": [
    "temp = df.copy() \n",
    "list_c = ['name', 'platform', 'year_of_release', 'genre', 'critic_score', 'user_score', 'rating']\n",
    "print(temp.info())\n",
    "for col_l in list_c:\n",
    "  print('-'* 25)\n",
    "  print(col_l, temp[col_l].sort_values().unique())\n",
    "  print(col_l,': кол-во NaN',temp[col_l].isna().sum(),\n",
    "        ', процент NaN', round(temp[col_l].isna().sum()/len(temp)*100, 2),'%')"
   ]
  },
  {
   "cell_type": "markdown",
   "metadata": {},
   "source": [
    "## Исследовательский анализ данных"
   ]
  },
  {
   "cell_type": "markdown",
   "metadata": {},
   "source": [
    "Посмотрим на динамику выхода игр за все года."
   ]
  },
  {
   "cell_type": "code",
   "execution_count": 34,
   "metadata": {},
   "outputs": [
    {
     "data": {
      "image/png": "[encoded data removed]",
      "text/plain": [
       "<Figure size 1080x432 with 1 Axes>"
      ]
     },
     "metadata": {
      "needs_background": "light"
     },
     "output_type": "display_data"
    }
   ],
   "source": [
    "df.groupby('year_of_release')['total_sales'].count().plot(kind='bar', figsize=(15, 6))\n",
    "plt.xlabel('Год')\n",
    "plt.ylabel('Количество вышедших игр (шт)')\n",
    "plt.title('Динамика выхода игр с 1980 по 2016 гг')\n",
    "plt.show()"
   ]
  },
  {
   "cell_type": "code",
   "execution_count": 35,
   "metadata": {},
   "outputs": [
    {
     "data": {
      "image/png": "[encoded data removed]",
      "text/plain": [
       "<Figure size 1080x432 with 1 Axes>"
      ]
     },
     "metadata": {
      "needs_background": "light"
     },
     "output_type": "display_data"
    }
   ],
   "source": [
    "df.groupby('year_of_release')['total_sales'].sum().plot(kind='bar', figsize=(15, 6))\n",
    "plt.xlabel('Год')\n",
    "plt.ylabel('Количество проданных копий игр (млн шт)')\n",
    "plt.title('Количество проданных копий игр с 1980 по 2016 гг')\n",
    "plt.show()"
   ]
  },
  {
   "cell_type": "markdown",
   "metadata": {},
   "source": [
    "**Вывод** \n",
    "<br>\n",
    "Видим, что рисунок двух выше приведенных графиков совпадает. И это достаточно логичная зависимость. Начиная с 1980 года количество выпускаемых игр увеличивалось, поэтому росло и число проданных копий.\n",
    "<br>\n",
    "Однако мы видим, что в 2008-2009 годах оба иллюстрируемых показателя достигли своего пика, а затем начали снижаться. То есть от тренда роста выпуска игр и продаж, мы перешли к тренду снижения."
   ]
  },
  {
   "cell_type": "markdown",
   "metadata": {},
   "source": [
    "Теперь глянем, как менялись продажи по платформам за разные годы."
   ]
  },
  {
   "cell_type": "code",
   "execution_count": 36,
   "metadata": {
    "scrolled": false
   },
   "outputs": [
    {
     "data": {
      "text/html": [
       "<div>\n",
       "<style scoped>\n",
       "    .dataframe tbody tr th:only-of-type {\n",
       "        vertical-align: middle;\n",
       "    }\n",
       "\n",
       "    .dataframe tbody tr th {\n",
       "        vertical-align: top;\n",
       "    }\n",
       "\n",
       "    .dataframe thead th {\n",
       "        text-align: right;\n",
       "    }\n",
       "</style>\n",
       "<table border=\"1\" class=\"dataframe\">\n",
       "  <thead>\n",
       "    <tr style=\"text-align: right;\">\n",
       "      <th>platform</th>\n",
       "      <th>2600</th>\n",
       "      <th>3DO</th>\n",
       "      <th>3DS</th>\n",
       "      <th>DC</th>\n",
       "      <th>DS</th>\n",
       "      <th>GB</th>\n",
       "      <th>GBA</th>\n",
       "      <th>GC</th>\n",
       "      <th>GEN</th>\n",
       "      <th>GG</th>\n",
       "      <th>N64</th>\n",
       "      <th>NES</th>\n",
       "      <th>NG</th>\n",
       "      <th>PC</th>\n",
       "      <th>PCFX</th>\n",
       "      <th>PS</th>\n",
       "      <th>PS2</th>\n",
       "      <th>PS3</th>\n",
       "      <th>PS4</th>\n",
       "      <th>PSP</th>\n",
       "      <th>PSV</th>\n",
       "      <th>SAT</th>\n",
       "      <th>SCD</th>\n",
       "      <th>SNES</th>\n",
       "      <th>TG16</th>\n",
       "      <th>WS</th>\n",
       "      <th>Wii</th>\n",
       "      <th>WiiU</th>\n",
       "      <th>X360</th>\n",
       "      <th>XB</th>\n",
       "      <th>XOne</th>\n",
       "    </tr>\n",
       "    <tr>\n",
       "      <th>year_of_release</th>\n",
       "      <th></th>\n",
       "      <th></th>\n",
       "      <th></th>\n",
       "      <th></th>\n",
       "      <th></th>\n",
       "      <th></th>\n",
       "      <th></th>\n",
       "      <th></th>\n",
       "      <th></th>\n",
       "      <th></th>\n",
       "      <th></th>\n",
       "      <th></th>\n",
       "      <th></th>\n",
       "      <th></th>\n",
       "      <th></th>\n",
       "      <th></th>\n",
       "      <th></th>\n",
       "      <th></th>\n",
       "      <th></th>\n",
       "      <th></th>\n",
       "      <th></th>\n",
       "      <th></th>\n",
       "      <th></th>\n",
       "      <th></th>\n",
       "      <th></th>\n",
       "      <th></th>\n",
       "      <th></th>\n",
       "      <th></th>\n",
       "      <th></th>\n",
       "      <th></th>\n",
       "      <th></th>\n",
       "    </tr>\n",
       "  </thead>\n",
       "  <tbody>\n",
       "    <tr>\n",
       "      <th>1980</th>\n",
       "      <td>11.38</td>\n",
       "      <td></td>\n",
       "      <td></td>\n",
       "      <td></td>\n",
       "      <td></td>\n",
       "      <td></td>\n",
       "      <td></td>\n",
       "      <td></td>\n",
       "      <td></td>\n",
       "      <td></td>\n",
       "      <td></td>\n",
       "      <td></td>\n",
       "      <td></td>\n",
       "      <td></td>\n",
       "      <td></td>\n",
       "      <td></td>\n",
       "      <td></td>\n",
       "      <td></td>\n",
       "      <td></td>\n",
       "      <td></td>\n",
       "      <td></td>\n",
       "      <td></td>\n",
       "      <td></td>\n",
       "      <td></td>\n",
       "      <td></td>\n",
       "      <td></td>\n",
       "      <td></td>\n",
       "      <td></td>\n",
       "      <td></td>\n",
       "      <td></td>\n",
       "      <td></td>\n",
       "    </tr>\n",
       "    <tr>\n",
       "      <th>1981</th>\n",
       "      <td>35.68</td>\n",
       "      <td></td>\n",
       "      <td></td>\n",
       "      <td></td>\n",
       "      <td></td>\n",
       "      <td></td>\n",
       "      <td></td>\n",
       "      <td></td>\n",
       "      <td></td>\n",
       "      <td></td>\n",
       "      <td></td>\n",
       "      <td></td>\n",
       "      <td></td>\n",
       "      <td></td>\n",
       "      <td></td>\n",
       "      <td></td>\n",
       "      <td></td>\n",
       "      <td></td>\n",
       "      <td></td>\n",
       "      <td></td>\n",
       "      <td></td>\n",
       "      <td></td>\n",
       "      <td></td>\n",
       "      <td></td>\n",
       "      <td></td>\n",
       "      <td></td>\n",
       "      <td></td>\n",
       "      <td></td>\n",
       "      <td></td>\n",
       "      <td></td>\n",
       "      <td></td>\n",
       "    </tr>\n",
       "    <tr>\n",
       "      <th>1982</th>\n",
       "      <td>28.88</td>\n",
       "      <td></td>\n",
       "      <td></td>\n",
       "      <td></td>\n",
       "      <td></td>\n",
       "      <td></td>\n",
       "      <td></td>\n",
       "      <td></td>\n",
       "      <td></td>\n",
       "      <td></td>\n",
       "      <td></td>\n",
       "      <td></td>\n",
       "      <td></td>\n",
       "      <td></td>\n",
       "      <td></td>\n",
       "      <td></td>\n",
       "      <td></td>\n",
       "      <td></td>\n",
       "      <td></td>\n",
       "      <td></td>\n",
       "      <td></td>\n",
       "      <td></td>\n",
       "      <td></td>\n",
       "      <td></td>\n",
       "      <td></td>\n",
       "      <td></td>\n",
       "      <td></td>\n",
       "      <td></td>\n",
       "      <td></td>\n",
       "      <td></td>\n",
       "      <td></td>\n",
       "    </tr>\n",
       "    <tr>\n",
       "      <th>1983</th>\n",
       "      <td>5.84</td>\n",
       "      <td></td>\n",
       "      <td></td>\n",
       "      <td></td>\n",
       "      <td></td>\n",
       "      <td></td>\n",
       "      <td></td>\n",
       "      <td></td>\n",
       "      <td></td>\n",
       "      <td></td>\n",
       "      <td></td>\n",
       "      <td>10.96</td>\n",
       "      <td></td>\n",
       "      <td></td>\n",
       "      <td></td>\n",
       "      <td></td>\n",
       "      <td></td>\n",
       "      <td></td>\n",
       "      <td></td>\n",
       "      <td></td>\n",
       "      <td></td>\n",
       "      <td></td>\n",
       "      <td></td>\n",
       "      <td></td>\n",
       "      <td></td>\n",
       "      <td></td>\n",
       "      <td></td>\n",
       "      <td></td>\n",
       "      <td></td>\n",
       "      <td></td>\n",
       "      <td></td>\n",
       "    </tr>\n",
       "    <tr>\n",
       "      <th>1984</th>\n",
       "      <td>0.27</td>\n",
       "      <td></td>\n",
       "      <td></td>\n",
       "      <td></td>\n",
       "      <td></td>\n",
       "      <td></td>\n",
       "      <td></td>\n",
       "      <td></td>\n",
       "      <td></td>\n",
       "      <td></td>\n",
       "      <td></td>\n",
       "      <td>50.08</td>\n",
       "      <td></td>\n",
       "      <td></td>\n",
       "      <td></td>\n",
       "      <td></td>\n",
       "      <td></td>\n",
       "      <td></td>\n",
       "      <td></td>\n",
       "      <td></td>\n",
       "      <td></td>\n",
       "      <td></td>\n",
       "      <td></td>\n",
       "      <td></td>\n",
       "      <td></td>\n",
       "      <td></td>\n",
       "      <td></td>\n",
       "      <td></td>\n",
       "      <td></td>\n",
       "      <td></td>\n",
       "      <td></td>\n",
       "    </tr>\n",
       "    <tr>\n",
       "      <th>1985</th>\n",
       "      <td>0.45</td>\n",
       "      <td></td>\n",
       "      <td></td>\n",
       "      <td></td>\n",
       "      <td>0.02</td>\n",
       "      <td></td>\n",
       "      <td></td>\n",
       "      <td></td>\n",
       "      <td></td>\n",
       "      <td></td>\n",
       "      <td></td>\n",
       "      <td>53.44</td>\n",
       "      <td></td>\n",
       "      <td>0.04</td>\n",
       "      <td></td>\n",
       "      <td></td>\n",
       "      <td></td>\n",
       "      <td></td>\n",
       "      <td></td>\n",
       "      <td></td>\n",
       "      <td></td>\n",
       "      <td></td>\n",
       "      <td></td>\n",
       "      <td></td>\n",
       "      <td></td>\n",
       "      <td></td>\n",
       "      <td></td>\n",
       "      <td></td>\n",
       "      <td></td>\n",
       "      <td></td>\n",
       "      <td></td>\n",
       "    </tr>\n",
       "    <tr>\n",
       "      <th>1986</th>\n",
       "      <td>0.67</td>\n",
       "      <td></td>\n",
       "      <td></td>\n",
       "      <td></td>\n",
       "      <td></td>\n",
       "      <td></td>\n",
       "      <td></td>\n",
       "      <td></td>\n",
       "      <td></td>\n",
       "      <td></td>\n",
       "      <td></td>\n",
       "      <td>36.41</td>\n",
       "      <td></td>\n",
       "      <td></td>\n",
       "      <td></td>\n",
       "      <td></td>\n",
       "      <td></td>\n",
       "      <td></td>\n",
       "      <td></td>\n",
       "      <td></td>\n",
       "      <td></td>\n",
       "      <td></td>\n",
       "      <td></td>\n",
       "      <td></td>\n",
       "      <td></td>\n",
       "      <td></td>\n",
       "      <td></td>\n",
       "      <td></td>\n",
       "      <td></td>\n",
       "      <td></td>\n",
       "      <td></td>\n",
       "    </tr>\n",
       "    <tr>\n",
       "      <th>1987</th>\n",
       "      <td>1.94</td>\n",
       "      <td></td>\n",
       "      <td></td>\n",
       "      <td></td>\n",
       "      <td></td>\n",
       "      <td></td>\n",
       "      <td></td>\n",
       "      <td></td>\n",
       "      <td></td>\n",
       "      <td></td>\n",
       "      <td></td>\n",
       "      <td>19.76</td>\n",
       "      <td></td>\n",
       "      <td></td>\n",
       "      <td></td>\n",
       "      <td></td>\n",
       "      <td></td>\n",
       "      <td></td>\n",
       "      <td></td>\n",
       "      <td></td>\n",
       "      <td></td>\n",
       "      <td></td>\n",
       "      <td></td>\n",
       "      <td></td>\n",
       "      <td></td>\n",
       "      <td></td>\n",
       "      <td></td>\n",
       "      <td></td>\n",
       "      <td></td>\n",
       "      <td></td>\n",
       "      <td></td>\n",
       "    </tr>\n",
       "    <tr>\n",
       "      <th>1988</th>\n",
       "      <td>0.74</td>\n",
       "      <td></td>\n",
       "      <td></td>\n",
       "      <td></td>\n",
       "      <td></td>\n",
       "      <td>1.43</td>\n",
       "      <td></td>\n",
       "      <td></td>\n",
       "      <td></td>\n",
       "      <td></td>\n",
       "      <td></td>\n",
       "      <td>45.01</td>\n",
       "      <td></td>\n",
       "      <td>0.03</td>\n",
       "      <td></td>\n",
       "      <td></td>\n",
       "      <td></td>\n",
       "      <td></td>\n",
       "      <td></td>\n",
       "      <td></td>\n",
       "      <td></td>\n",
       "      <td></td>\n",
       "      <td></td>\n",
       "      <td></td>\n",
       "      <td></td>\n",
       "      <td></td>\n",
       "      <td></td>\n",
       "      <td></td>\n",
       "      <td></td>\n",
       "      <td></td>\n",
       "      <td></td>\n",
       "    </tr>\n",
       "    <tr>\n",
       "      <th>1989</th>\n",
       "      <td>0.63</td>\n",
       "      <td></td>\n",
       "      <td></td>\n",
       "      <td></td>\n",
       "      <td></td>\n",
       "      <td>64.97</td>\n",
       "      <td></td>\n",
       "      <td></td>\n",
       "      <td></td>\n",
       "      <td></td>\n",
       "      <td></td>\n",
       "      <td>7.85</td>\n",
       "      <td></td>\n",
       "      <td></td>\n",
       "      <td></td>\n",
       "      <td></td>\n",
       "      <td></td>\n",
       "      <td></td>\n",
       "      <td></td>\n",
       "      <td></td>\n",
       "      <td></td>\n",
       "      <td></td>\n",
       "      <td></td>\n",
       "      <td></td>\n",
       "      <td></td>\n",
       "      <td></td>\n",
       "      <td></td>\n",
       "      <td></td>\n",
       "      <td></td>\n",
       "      <td></td>\n",
       "      <td></td>\n",
       "    </tr>\n",
       "    <tr>\n",
       "      <th>1990</th>\n",
       "      <td></td>\n",
       "      <td></td>\n",
       "      <td></td>\n",
       "      <td></td>\n",
       "      <td></td>\n",
       "      <td>4.89</td>\n",
       "      <td></td>\n",
       "      <td></td>\n",
       "      <td>2.6</td>\n",
       "      <td></td>\n",
       "      <td></td>\n",
       "      <td>15.73</td>\n",
       "      <td></td>\n",
       "      <td></td>\n",
       "      <td></td>\n",
       "      <td></td>\n",
       "      <td></td>\n",
       "      <td></td>\n",
       "      <td></td>\n",
       "      <td></td>\n",
       "      <td></td>\n",
       "      <td></td>\n",
       "      <td></td>\n",
       "      <td>26.15</td>\n",
       "      <td></td>\n",
       "      <td></td>\n",
       "      <td></td>\n",
       "      <td></td>\n",
       "      <td></td>\n",
       "      <td></td>\n",
       "      <td></td>\n",
       "    </tr>\n",
       "    <tr>\n",
       "      <th>1991</th>\n",
       "      <td></td>\n",
       "      <td></td>\n",
       "      <td></td>\n",
       "      <td></td>\n",
       "      <td></td>\n",
       "      <td>5.57</td>\n",
       "      <td></td>\n",
       "      <td></td>\n",
       "      <td>4.33</td>\n",
       "      <td></td>\n",
       "      <td></td>\n",
       "      <td>6.11</td>\n",
       "      <td></td>\n",
       "      <td></td>\n",
       "      <td></td>\n",
       "      <td></td>\n",
       "      <td></td>\n",
       "      <td></td>\n",
       "      <td></td>\n",
       "      <td></td>\n",
       "      <td></td>\n",
       "      <td></td>\n",
       "      <td></td>\n",
       "      <td>16.22</td>\n",
       "      <td></td>\n",
       "      <td></td>\n",
       "      <td></td>\n",
       "      <td></td>\n",
       "      <td></td>\n",
       "      <td></td>\n",
       "      <td></td>\n",
       "    </tr>\n",
       "    <tr>\n",
       "      <th>1992</th>\n",
       "      <td></td>\n",
       "      <td></td>\n",
       "      <td></td>\n",
       "      <td></td>\n",
       "      <td></td>\n",
       "      <td>25.49</td>\n",
       "      <td></td>\n",
       "      <td></td>\n",
       "      <td>12.64</td>\n",
       "      <td>0.04</td>\n",
       "      <td></td>\n",
       "      <td>1.98</td>\n",
       "      <td></td>\n",
       "      <td>3.03</td>\n",
       "      <td></td>\n",
       "      <td></td>\n",
       "      <td></td>\n",
       "      <td></td>\n",
       "      <td></td>\n",
       "      <td></td>\n",
       "      <td></td>\n",
       "      <td></td>\n",
       "      <td></td>\n",
       "      <td>32.98</td>\n",
       "      <td></td>\n",
       "      <td></td>\n",
       "      <td></td>\n",
       "      <td></td>\n",
       "      <td></td>\n",
       "      <td></td>\n",
       "      <td></td>\n",
       "    </tr>\n",
       "    <tr>\n",
       "      <th>1993</th>\n",
       "      <td></td>\n",
       "      <td></td>\n",
       "      <td></td>\n",
       "      <td></td>\n",
       "      <td></td>\n",
       "      <td></td>\n",
       "      <td></td>\n",
       "      <td></td>\n",
       "      <td>0.65</td>\n",
       "      <td></td>\n",
       "      <td></td>\n",
       "      <td>3.61</td>\n",
       "      <td>0.21</td>\n",
       "      <td></td>\n",
       "      <td></td>\n",
       "      <td></td>\n",
       "      <td></td>\n",
       "      <td></td>\n",
       "      <td></td>\n",
       "      <td></td>\n",
       "      <td></td>\n",
       "      <td></td>\n",
       "      <td>1.5</td>\n",
       "      <td>40.02</td>\n",
       "      <td></td>\n",
       "      <td></td>\n",
       "      <td></td>\n",
       "      <td></td>\n",
       "      <td></td>\n",
       "      <td></td>\n",
       "      <td></td>\n",
       "    </tr>\n",
       "    <tr>\n",
       "      <th>1994</th>\n",
       "      <td></td>\n",
       "      <td>0.02</td>\n",
       "      <td></td>\n",
       "      <td></td>\n",
       "      <td></td>\n",
       "      <td>12.18</td>\n",
       "      <td></td>\n",
       "      <td></td>\n",
       "      <td>8.13</td>\n",
       "      <td></td>\n",
       "      <td></td>\n",
       "      <td>0.11</td>\n",
       "      <td>0.8</td>\n",
       "      <td>12.87</td>\n",
       "      <td></td>\n",
       "      <td>6.03</td>\n",
       "      <td></td>\n",
       "      <td></td>\n",
       "      <td></td>\n",
       "      <td></td>\n",
       "      <td></td>\n",
       "      <td>3.65</td>\n",
       "      <td>0.36</td>\n",
       "      <td>35.08</td>\n",
       "      <td></td>\n",
       "      <td></td>\n",
       "      <td></td>\n",
       "      <td></td>\n",
       "      <td></td>\n",
       "      <td></td>\n",
       "      <td></td>\n",
       "    </tr>\n",
       "    <tr>\n",
       "      <th>1995</th>\n",
       "      <td></td>\n",
       "      <td>0.08</td>\n",
       "      <td></td>\n",
       "      <td></td>\n",
       "      <td></td>\n",
       "      <td>3.6</td>\n",
       "      <td></td>\n",
       "      <td></td>\n",
       "      <td></td>\n",
       "      <td></td>\n",
       "      <td></td>\n",
       "      <td></td>\n",
       "      <td>0.33</td>\n",
       "      <td>4.22</td>\n",
       "      <td></td>\n",
       "      <td>35.96</td>\n",
       "      <td></td>\n",
       "      <td></td>\n",
       "      <td></td>\n",
       "      <td></td>\n",
       "      <td></td>\n",
       "      <td>11.57</td>\n",
       "      <td></td>\n",
       "      <td>32.2</td>\n",
       "      <td>0.16</td>\n",
       "      <td></td>\n",
       "      <td></td>\n",
       "      <td></td>\n",
       "      <td></td>\n",
       "      <td></td>\n",
       "      <td></td>\n",
       "    </tr>\n",
       "    <tr>\n",
       "      <th>1996</th>\n",
       "      <td></td>\n",
       "      <td></td>\n",
       "      <td></td>\n",
       "      <td></td>\n",
       "      <td></td>\n",
       "      <td>36.03</td>\n",
       "      <td></td>\n",
       "      <td></td>\n",
       "      <td></td>\n",
       "      <td></td>\n",
       "      <td>34.1</td>\n",
       "      <td></td>\n",
       "      <td>0.1</td>\n",
       "      <td>10.58</td>\n",
       "      <td>0.03</td>\n",
       "      <td>94.7</td>\n",
       "      <td></td>\n",
       "      <td></td>\n",
       "      <td></td>\n",
       "      <td></td>\n",
       "      <td></td>\n",
       "      <td>7.69</td>\n",
       "      <td></td>\n",
       "      <td>15.92</td>\n",
       "      <td></td>\n",
       "      <td></td>\n",
       "      <td></td>\n",
       "      <td></td>\n",
       "      <td></td>\n",
       "      <td></td>\n",
       "      <td></td>\n",
       "    </tr>\n",
       "    <tr>\n",
       "      <th>1997</th>\n",
       "      <td></td>\n",
       "      <td></td>\n",
       "      <td></td>\n",
       "      <td></td>\n",
       "      <td></td>\n",
       "      <td>6.37</td>\n",
       "      <td></td>\n",
       "      <td></td>\n",
       "      <td></td>\n",
       "      <td></td>\n",
       "      <td>39.5</td>\n",
       "      <td></td>\n",
       "      <td></td>\n",
       "      <td>11.27</td>\n",
       "      <td></td>\n",
       "      <td>136.17</td>\n",
       "      <td></td>\n",
       "      <td></td>\n",
       "      <td></td>\n",
       "      <td></td>\n",
       "      <td></td>\n",
       "      <td>6.77</td>\n",
       "      <td></td>\n",
       "      <td>0.99</td>\n",
       "      <td></td>\n",
       "      <td></td>\n",
       "      <td></td>\n",
       "      <td></td>\n",
       "      <td></td>\n",
       "      <td></td>\n",
       "      <td></td>\n",
       "    </tr>\n",
       "    <tr>\n",
       "      <th>1998</th>\n",
       "      <td></td>\n",
       "      <td></td>\n",
       "      <td></td>\n",
       "      <td>3.38</td>\n",
       "      <td></td>\n",
       "      <td>26.9</td>\n",
       "      <td></td>\n",
       "      <td></td>\n",
       "      <td></td>\n",
       "      <td></td>\n",
       "      <td>49.24</td>\n",
       "      <td></td>\n",
       "      <td></td>\n",
       "      <td>3.26</td>\n",
       "      <td></td>\n",
       "      <td>169.49</td>\n",
       "      <td></td>\n",
       "      <td></td>\n",
       "      <td></td>\n",
       "      <td></td>\n",
       "      <td></td>\n",
       "      <td>3.82</td>\n",
       "      <td></td>\n",
       "      <td>0.22</td>\n",
       "      <td></td>\n",
       "      <td></td>\n",
       "      <td></td>\n",
       "      <td></td>\n",
       "      <td></td>\n",
       "      <td></td>\n",
       "      <td></td>\n",
       "    </tr>\n",
       "    <tr>\n",
       "      <th>1999</th>\n",
       "      <td></td>\n",
       "      <td></td>\n",
       "      <td></td>\n",
       "      <td>5.16</td>\n",
       "      <td></td>\n",
       "      <td>38.0</td>\n",
       "      <td></td>\n",
       "      <td></td>\n",
       "      <td></td>\n",
       "      <td></td>\n",
       "      <td>57.87</td>\n",
       "      <td></td>\n",
       "      <td></td>\n",
       "      <td>4.74</td>\n",
       "      <td></td>\n",
       "      <td>144.53</td>\n",
       "      <td></td>\n",
       "      <td></td>\n",
       "      <td></td>\n",
       "      <td></td>\n",
       "      <td></td>\n",
       "      <td>0.09</td>\n",
       "      <td></td>\n",
       "      <td>0.26</td>\n",
       "      <td></td>\n",
       "      <td>0.46</td>\n",
       "      <td></td>\n",
       "      <td></td>\n",
       "      <td></td>\n",
       "      <td></td>\n",
       "      <td></td>\n",
       "    </tr>\n",
       "    <tr>\n",
       "      <th>2000</th>\n",
       "      <td></td>\n",
       "      <td></td>\n",
       "      <td></td>\n",
       "      <td>5.99</td>\n",
       "      <td></td>\n",
       "      <td>19.76</td>\n",
       "      <td>0.07</td>\n",
       "      <td></td>\n",
       "      <td></td>\n",
       "      <td></td>\n",
       "      <td>33.97</td>\n",
       "      <td></td>\n",
       "      <td></td>\n",
       "      <td>4.66</td>\n",
       "      <td></td>\n",
       "      <td>96.37</td>\n",
       "      <td>39.17</td>\n",
       "      <td></td>\n",
       "      <td></td>\n",
       "      <td></td>\n",
       "      <td></td>\n",
       "      <td></td>\n",
       "      <td></td>\n",
       "      <td></td>\n",
       "      <td></td>\n",
       "      <td>0.68</td>\n",
       "      <td></td>\n",
       "      <td></td>\n",
       "      <td></td>\n",
       "      <td>0.99</td>\n",
       "      <td></td>\n",
       "    </tr>\n",
       "    <tr>\n",
       "      <th>2001</th>\n",
       "      <td></td>\n",
       "      <td></td>\n",
       "      <td></td>\n",
       "      <td>1.07</td>\n",
       "      <td></td>\n",
       "      <td>9.24</td>\n",
       "      <td>61.53</td>\n",
       "      <td>26.34</td>\n",
       "      <td></td>\n",
       "      <td></td>\n",
       "      <td>3.25</td>\n",
       "      <td></td>\n",
       "      <td></td>\n",
       "      <td>5.47</td>\n",
       "      <td></td>\n",
       "      <td>35.59</td>\n",
       "      <td>166.43</td>\n",
       "      <td></td>\n",
       "      <td></td>\n",
       "      <td></td>\n",
       "      <td></td>\n",
       "      <td></td>\n",
       "      <td></td>\n",
       "      <td></td>\n",
       "      <td></td>\n",
       "      <td>0.28</td>\n",
       "      <td></td>\n",
       "      <td></td>\n",
       "      <td></td>\n",
       "      <td>22.26</td>\n",
       "      <td></td>\n",
       "    </tr>\n",
       "    <tr>\n",
       "      <th>2002</th>\n",
       "      <td></td>\n",
       "      <td></td>\n",
       "      <td></td>\n",
       "      <td>0.29</td>\n",
       "      <td></td>\n",
       "      <td></td>\n",
       "      <td>74.16</td>\n",
       "      <td>51.81</td>\n",
       "      <td></td>\n",
       "      <td></td>\n",
       "      <td>0.08</td>\n",
       "      <td></td>\n",
       "      <td></td>\n",
       "      <td>8.57</td>\n",
       "      <td></td>\n",
       "      <td>6.67</td>\n",
       "      <td>205.38</td>\n",
       "      <td></td>\n",
       "      <td></td>\n",
       "      <td></td>\n",
       "      <td></td>\n",
       "      <td></td>\n",
       "      <td></td>\n",
       "      <td></td>\n",
       "      <td></td>\n",
       "      <td></td>\n",
       "      <td></td>\n",
       "      <td></td>\n",
       "      <td></td>\n",
       "      <td>48.01</td>\n",
       "      <td></td>\n",
       "    </tr>\n",
       "    <tr>\n",
       "      <th>2003</th>\n",
       "      <td></td>\n",
       "      <td></td>\n",
       "      <td></td>\n",
       "      <td></td>\n",
       "      <td></td>\n",
       "      <td></td>\n",
       "      <td>56.67</td>\n",
       "      <td>50.61</td>\n",
       "      <td></td>\n",
       "      <td></td>\n",
       "      <td></td>\n",
       "      <td></td>\n",
       "      <td></td>\n",
       "      <td>8.84</td>\n",
       "      <td></td>\n",
       "      <td>2.07</td>\n",
       "      <td>184.31</td>\n",
       "      <td></td>\n",
       "      <td></td>\n",
       "      <td></td>\n",
       "      <td></td>\n",
       "      <td></td>\n",
       "      <td></td>\n",
       "      <td></td>\n",
       "      <td></td>\n",
       "      <td></td>\n",
       "      <td></td>\n",
       "      <td></td>\n",
       "      <td></td>\n",
       "      <td>55.04</td>\n",
       "      <td></td>\n",
       "    </tr>\n",
       "    <tr>\n",
       "      <th>2004</th>\n",
       "      <td></td>\n",
       "      <td></td>\n",
       "      <td></td>\n",
       "      <td></td>\n",
       "      <td>17.27</td>\n",
       "      <td></td>\n",
       "      <td>77.91</td>\n",
       "      <td>28.82</td>\n",
       "      <td></td>\n",
       "      <td></td>\n",
       "      <td></td>\n",
       "      <td></td>\n",
       "      <td></td>\n",
       "      <td>10.39</td>\n",
       "      <td></td>\n",
       "      <td></td>\n",
       "      <td>211.81</td>\n",
       "      <td></td>\n",
       "      <td></td>\n",
       "      <td>7.06</td>\n",
       "      <td></td>\n",
       "      <td></td>\n",
       "      <td></td>\n",
       "      <td></td>\n",
       "      <td></td>\n",
       "      <td></td>\n",
       "      <td></td>\n",
       "      <td></td>\n",
       "      <td></td>\n",
       "      <td>65.42</td>\n",
       "      <td></td>\n",
       "    </tr>\n",
       "    <tr>\n",
       "      <th>2005</th>\n",
       "      <td></td>\n",
       "      <td></td>\n",
       "      <td></td>\n",
       "      <td></td>\n",
       "      <td>130.14</td>\n",
       "      <td></td>\n",
       "      <td>33.86</td>\n",
       "      <td>27.62</td>\n",
       "      <td></td>\n",
       "      <td></td>\n",
       "      <td></td>\n",
       "      <td></td>\n",
       "      <td></td>\n",
       "      <td>4.37</td>\n",
       "      <td></td>\n",
       "      <td></td>\n",
       "      <td>160.66</td>\n",
       "      <td></td>\n",
       "      <td></td>\n",
       "      <td>43.84</td>\n",
       "      <td></td>\n",
       "      <td></td>\n",
       "      <td></td>\n",
       "      <td></td>\n",
       "      <td></td>\n",
       "      <td></td>\n",
       "      <td></td>\n",
       "      <td></td>\n",
       "      <td>8.25</td>\n",
       "      <td>49.08</td>\n",
       "      <td></td>\n",
       "    </tr>\n",
       "    <tr>\n",
       "      <th>2006</th>\n",
       "      <td></td>\n",
       "      <td></td>\n",
       "      <td></td>\n",
       "      <td></td>\n",
       "      <td>119.81</td>\n",
       "      <td></td>\n",
       "      <td>5.28</td>\n",
       "      <td>11.26</td>\n",
       "      <td></td>\n",
       "      <td></td>\n",
       "      <td></td>\n",
       "      <td></td>\n",
       "      <td></td>\n",
       "      <td>2.85</td>\n",
       "      <td></td>\n",
       "      <td></td>\n",
       "      <td>103.42</td>\n",
       "      <td>20.96</td>\n",
       "      <td></td>\n",
       "      <td>55.32</td>\n",
       "      <td></td>\n",
       "      <td></td>\n",
       "      <td></td>\n",
       "      <td></td>\n",
       "      <td></td>\n",
       "      <td></td>\n",
       "      <td>137.15</td>\n",
       "      <td></td>\n",
       "      <td>51.62</td>\n",
       "      <td>10.04</td>\n",
       "      <td></td>\n",
       "    </tr>\n",
       "    <tr>\n",
       "      <th>2007</th>\n",
       "      <td></td>\n",
       "      <td></td>\n",
       "      <td></td>\n",
       "      <td>0.02</td>\n",
       "      <td>146.94</td>\n",
       "      <td></td>\n",
       "      <td>3.4</td>\n",
       "      <td>0.27</td>\n",
       "      <td></td>\n",
       "      <td></td>\n",
       "      <td></td>\n",
       "      <td></td>\n",
       "      <td></td>\n",
       "      <td>9.28</td>\n",
       "      <td></td>\n",
       "      <td></td>\n",
       "      <td>75.99</td>\n",
       "      <td>73.19</td>\n",
       "      <td></td>\n",
       "      <td>46.93</td>\n",
       "      <td></td>\n",
       "      <td></td>\n",
       "      <td></td>\n",
       "      <td></td>\n",
       "      <td></td>\n",
       "      <td></td>\n",
       "      <td>152.77</td>\n",
       "      <td></td>\n",
       "      <td>95.41</td>\n",
       "      <td>0.55</td>\n",
       "      <td></td>\n",
       "    </tr>\n",
       "    <tr>\n",
       "      <th>2008</th>\n",
       "      <td></td>\n",
       "      <td></td>\n",
       "      <td></td>\n",
       "      <td>0.04</td>\n",
       "      <td>145.31</td>\n",
       "      <td></td>\n",
       "      <td></td>\n",
       "      <td></td>\n",
       "      <td></td>\n",
       "      <td></td>\n",
       "      <td></td>\n",
       "      <td></td>\n",
       "      <td></td>\n",
       "      <td>12.42</td>\n",
       "      <td></td>\n",
       "      <td></td>\n",
       "      <td>53.9</td>\n",
       "      <td>118.52</td>\n",
       "      <td></td>\n",
       "      <td>34.55</td>\n",
       "      <td></td>\n",
       "      <td></td>\n",
       "      <td></td>\n",
       "      <td></td>\n",
       "      <td></td>\n",
       "      <td></td>\n",
       "      <td>171.32</td>\n",
       "      <td></td>\n",
       "      <td>135.26</td>\n",
       "      <td>0.18</td>\n",
       "      <td></td>\n",
       "    </tr>\n",
       "    <tr>\n",
       "      <th>2009</th>\n",
       "      <td></td>\n",
       "      <td></td>\n",
       "      <td></td>\n",
       "      <td></td>\n",
       "      <td>119.54</td>\n",
       "      <td></td>\n",
       "      <td></td>\n",
       "      <td></td>\n",
       "      <td></td>\n",
       "      <td></td>\n",
       "      <td></td>\n",
       "      <td></td>\n",
       "      <td></td>\n",
       "      <td>16.91</td>\n",
       "      <td></td>\n",
       "      <td></td>\n",
       "      <td>26.4</td>\n",
       "      <td>130.93</td>\n",
       "      <td></td>\n",
       "      <td>37.78</td>\n",
       "      <td></td>\n",
       "      <td></td>\n",
       "      <td></td>\n",
       "      <td></td>\n",
       "      <td></td>\n",
       "      <td></td>\n",
       "      <td>206.97</td>\n",
       "      <td></td>\n",
       "      <td>120.29</td>\n",
       "      <td></td>\n",
       "      <td></td>\n",
       "    </tr>\n",
       "    <tr>\n",
       "      <th>2010</th>\n",
       "      <td></td>\n",
       "      <td></td>\n",
       "      <td></td>\n",
       "      <td></td>\n",
       "      <td>85.02</td>\n",
       "      <td></td>\n",
       "      <td></td>\n",
       "      <td></td>\n",
       "      <td></td>\n",
       "      <td></td>\n",
       "      <td></td>\n",
       "      <td></td>\n",
       "      <td></td>\n",
       "      <td>24.28</td>\n",
       "      <td></td>\n",
       "      <td></td>\n",
       "      <td>5.64</td>\n",
       "      <td>142.17</td>\n",
       "      <td></td>\n",
       "      <td>35.04</td>\n",
       "      <td></td>\n",
       "      <td></td>\n",
       "      <td></td>\n",
       "      <td></td>\n",
       "      <td></td>\n",
       "      <td></td>\n",
       "      <td>127.95</td>\n",
       "      <td></td>\n",
       "      <td>170.03</td>\n",
       "      <td></td>\n",
       "      <td></td>\n",
       "    </tr>\n",
       "    <tr>\n",
       "      <th>2011</th>\n",
       "      <td></td>\n",
       "      <td></td>\n",
       "      <td>63.2</td>\n",
       "      <td></td>\n",
       "      <td>26.18</td>\n",
       "      <td></td>\n",
       "      <td></td>\n",
       "      <td></td>\n",
       "      <td></td>\n",
       "      <td></td>\n",
       "      <td></td>\n",
       "      <td></td>\n",
       "      <td></td>\n",
       "      <td>35.03</td>\n",
       "      <td></td>\n",
       "      <td></td>\n",
       "      <td>0.45</td>\n",
       "      <td>156.78</td>\n",
       "      <td></td>\n",
       "      <td>17.82</td>\n",
       "      <td>4.63</td>\n",
       "      <td></td>\n",
       "      <td></td>\n",
       "      <td></td>\n",
       "      <td></td>\n",
       "      <td></td>\n",
       "      <td>59.65</td>\n",
       "      <td></td>\n",
       "      <td>143.84</td>\n",
       "      <td></td>\n",
       "      <td></td>\n",
       "    </tr>\n",
       "    <tr>\n",
       "      <th>2012</th>\n",
       "      <td></td>\n",
       "      <td></td>\n",
       "      <td>51.36</td>\n",
       "      <td></td>\n",
       "      <td>11.01</td>\n",
       "      <td></td>\n",
       "      <td></td>\n",
       "      <td></td>\n",
       "      <td></td>\n",
       "      <td></td>\n",
       "      <td></td>\n",
       "      <td></td>\n",
       "      <td></td>\n",
       "      <td>23.22</td>\n",
       "      <td></td>\n",
       "      <td></td>\n",
       "      <td></td>\n",
       "      <td>107.36</td>\n",
       "      <td></td>\n",
       "      <td>7.69</td>\n",
       "      <td>16.19</td>\n",
       "      <td></td>\n",
       "      <td></td>\n",
       "      <td></td>\n",
       "      <td></td>\n",
       "      <td></td>\n",
       "      <td>21.71</td>\n",
       "      <td>17.56</td>\n",
       "      <td>99.74</td>\n",
       "      <td></td>\n",
       "      <td></td>\n",
       "    </tr>\n",
       "    <tr>\n",
       "      <th>2013</th>\n",
       "      <td></td>\n",
       "      <td></td>\n",
       "      <td>56.57</td>\n",
       "      <td></td>\n",
       "      <td>1.54</td>\n",
       "      <td></td>\n",
       "      <td></td>\n",
       "      <td></td>\n",
       "      <td></td>\n",
       "      <td></td>\n",
       "      <td></td>\n",
       "      <td></td>\n",
       "      <td></td>\n",
       "      <td>12.38</td>\n",
       "      <td></td>\n",
       "      <td></td>\n",
       "      <td></td>\n",
       "      <td>113.25</td>\n",
       "      <td>25.99</td>\n",
       "      <td>3.14</td>\n",
       "      <td>10.59</td>\n",
       "      <td></td>\n",
       "      <td></td>\n",
       "      <td></td>\n",
       "      <td></td>\n",
       "      <td></td>\n",
       "      <td>8.59</td>\n",
       "      <td>21.65</td>\n",
       "      <td>88.58</td>\n",
       "      <td></td>\n",
       "      <td>18.96</td>\n",
       "    </tr>\n",
       "    <tr>\n",
       "      <th>2014</th>\n",
       "      <td></td>\n",
       "      <td></td>\n",
       "      <td>43.76</td>\n",
       "      <td></td>\n",
       "      <td></td>\n",
       "      <td></td>\n",
       "      <td></td>\n",
       "      <td></td>\n",
       "      <td></td>\n",
       "      <td></td>\n",
       "      <td></td>\n",
       "      <td></td>\n",
       "      <td></td>\n",
       "      <td>13.28</td>\n",
       "      <td></td>\n",
       "      <td></td>\n",
       "      <td></td>\n",
       "      <td>47.76</td>\n",
       "      <td>100.0</td>\n",
       "      <td>0.24</td>\n",
       "      <td>11.9</td>\n",
       "      <td></td>\n",
       "      <td></td>\n",
       "      <td></td>\n",
       "      <td></td>\n",
       "      <td></td>\n",
       "      <td>3.75</td>\n",
       "      <td>22.03</td>\n",
       "      <td>34.74</td>\n",
       "      <td></td>\n",
       "      <td>54.07</td>\n",
       "    </tr>\n",
       "    <tr>\n",
       "      <th>2015</th>\n",
       "      <td></td>\n",
       "      <td></td>\n",
       "      <td>27.78</td>\n",
       "      <td></td>\n",
       "      <td></td>\n",
       "      <td></td>\n",
       "      <td></td>\n",
       "      <td></td>\n",
       "      <td></td>\n",
       "      <td></td>\n",
       "      <td></td>\n",
       "      <td></td>\n",
       "      <td></td>\n",
       "      <td>8.52</td>\n",
       "      <td></td>\n",
       "      <td></td>\n",
       "      <td></td>\n",
       "      <td>16.82</td>\n",
       "      <td>118.9</td>\n",
       "      <td>0.12</td>\n",
       "      <td>6.25</td>\n",
       "      <td></td>\n",
       "      <td></td>\n",
       "      <td></td>\n",
       "      <td></td>\n",
       "      <td></td>\n",
       "      <td>1.14</td>\n",
       "      <td>16.35</td>\n",
       "      <td>11.96</td>\n",
       "      <td></td>\n",
       "      <td>60.14</td>\n",
       "    </tr>\n",
       "    <tr>\n",
       "      <th>2016</th>\n",
       "      <td></td>\n",
       "      <td></td>\n",
       "      <td>15.14</td>\n",
       "      <td></td>\n",
       "      <td></td>\n",
       "      <td></td>\n",
       "      <td></td>\n",
       "      <td></td>\n",
       "      <td></td>\n",
       "      <td></td>\n",
       "      <td></td>\n",
       "      <td></td>\n",
       "      <td></td>\n",
       "      <td>5.25</td>\n",
       "      <td></td>\n",
       "      <td></td>\n",
       "      <td></td>\n",
       "      <td>3.6</td>\n",
       "      <td>69.25</td>\n",
       "      <td></td>\n",
       "      <td>4.25</td>\n",
       "      <td></td>\n",
       "      <td></td>\n",
       "      <td></td>\n",
       "      <td></td>\n",
       "      <td></td>\n",
       "      <td>0.18</td>\n",
       "      <td>4.6</td>\n",
       "      <td>1.52</td>\n",
       "      <td></td>\n",
       "      <td>26.15</td>\n",
       "    </tr>\n",
       "  </tbody>\n",
       "</table>\n",
       "</div>"
      ],
      "text/plain": [
       "platform          2600   3DO    3DS    DC      DS     GB    GBA     GC    GEN  \\\n",
       "year_of_release                                                                 \n",
       "1980             11.38                                                          \n",
       "1981             35.68                                                          \n",
       "1982             28.88                                                          \n",
       "1983              5.84                                                          \n",
       "1984              0.27                                                          \n",
       "1985              0.45                       0.02                               \n",
       "1986              0.67                                                          \n",
       "1987              1.94                                                          \n",
       "1988              0.74                              1.43                        \n",
       "1989              0.63                             64.97                        \n",
       "1990                                                4.89                  2.6   \n",
       "1991                                                5.57                 4.33   \n",
       "1992                                               25.49                12.64   \n",
       "1993                                                                     0.65   \n",
       "1994                    0.02                       12.18                 8.13   \n",
       "1995                    0.08                         3.6                        \n",
       "1996                                               36.03                        \n",
       "1997                                                6.37                        \n",
       "1998                                 3.38           26.9                        \n",
       "1999                                 5.16           38.0                        \n",
       "2000                                 5.99          19.76   0.07                 \n",
       "2001                                 1.07           9.24  61.53  26.34          \n",
       "2002                                 0.29                 74.16  51.81          \n",
       "2003                                                      56.67  50.61          \n",
       "2004                                        17.27         77.91  28.82          \n",
       "2005                                       130.14         33.86  27.62          \n",
       "2006                                       119.81          5.28  11.26          \n",
       "2007                                 0.02  146.94           3.4   0.27          \n",
       "2008                                 0.04  145.31                               \n",
       "2009                                       119.54                               \n",
       "2010                                        85.02                               \n",
       "2011                           63.2         26.18                               \n",
       "2012                          51.36         11.01                               \n",
       "2013                          56.57          1.54                               \n",
       "2014                          43.76                                             \n",
       "2015                          27.78                                             \n",
       "2016                          15.14                                             \n",
       "\n",
       "platform           GG    N64    NES    NG     PC  PCFX      PS     PS2  \\\n",
       "year_of_release                                                          \n",
       "1980                                                                     \n",
       "1981                                                                     \n",
       "1982                                                                     \n",
       "1983                          10.96                                      \n",
       "1984                          50.08                                      \n",
       "1985                          53.44         0.04                         \n",
       "1986                          36.41                                      \n",
       "1987                          19.76                                      \n",
       "1988                          45.01         0.03                         \n",
       "1989                           7.85                                      \n",
       "1990                          15.73                                      \n",
       "1991                           6.11                                      \n",
       "1992             0.04          1.98         3.03                         \n",
       "1993                           3.61  0.21                                \n",
       "1994                           0.11   0.8  12.87          6.03           \n",
       "1995                                 0.33   4.22         35.96           \n",
       "1996                    34.1          0.1  10.58  0.03    94.7           \n",
       "1997                    39.5               11.27        136.17           \n",
       "1998                   49.24                3.26        169.49           \n",
       "1999                   57.87                4.74        144.53           \n",
       "2000                   33.97                4.66         96.37   39.17   \n",
       "2001                    3.25                5.47         35.59  166.43   \n",
       "2002                    0.08                8.57          6.67  205.38   \n",
       "2003                                        8.84          2.07  184.31   \n",
       "2004                                       10.39                211.81   \n",
       "2005                                        4.37                160.66   \n",
       "2006                                        2.85                103.42   \n",
       "2007                                        9.28                 75.99   \n",
       "2008                                       12.42                  53.9   \n",
       "2009                                       16.91                  26.4   \n",
       "2010                                       24.28                  5.64   \n",
       "2011                                       35.03                  0.45   \n",
       "2012                                       23.22                         \n",
       "2013                                       12.38                         \n",
       "2014                                       13.28                         \n",
       "2015                                        8.52                         \n",
       "2016                                        5.25                         \n",
       "\n",
       "platform            PS3    PS4    PSP    PSV    SAT   SCD   SNES  TG16    WS  \\\n",
       "year_of_release                                                                \n",
       "1980                                                                           \n",
       "1981                                                                           \n",
       "1982                                                                           \n",
       "1983                                                                           \n",
       "1984                                                                           \n",
       "1985                                                                           \n",
       "1986                                                                           \n",
       "1987                                                                           \n",
       "1988                                                                           \n",
       "1989                                                                           \n",
       "1990                                                       26.15               \n",
       "1991                                                       16.22               \n",
       "1992                                                       32.98               \n",
       "1993                                                  1.5  40.02               \n",
       "1994                                           3.65  0.36  35.08               \n",
       "1995                                          11.57         32.2  0.16         \n",
       "1996                                           7.69        15.92               \n",
       "1997                                           6.77         0.99               \n",
       "1998                                           3.82         0.22               \n",
       "1999                                           0.09         0.26        0.46   \n",
       "2000                                                                    0.68   \n",
       "2001                                                                    0.28   \n",
       "2002                                                                           \n",
       "2003                                                                           \n",
       "2004                             7.06                                          \n",
       "2005                            43.84                                          \n",
       "2006              20.96         55.32                                          \n",
       "2007              73.19         46.93                                          \n",
       "2008             118.52         34.55                                          \n",
       "2009             130.93         37.78                                          \n",
       "2010             142.17         35.04                                          \n",
       "2011             156.78         17.82   4.63                                   \n",
       "2012             107.36          7.69  16.19                                   \n",
       "2013             113.25  25.99   3.14  10.59                                   \n",
       "2014              47.76  100.0   0.24   11.9                                   \n",
       "2015              16.82  118.9   0.12   6.25                                   \n",
       "2016                3.6  69.25          4.25                                   \n",
       "\n",
       "platform            Wii   WiiU    X360     XB   XOne  \n",
       "year_of_release                                       \n",
       "1980                                                  \n",
       "1981                                                  \n",
       "1982                                                  \n",
       "1983                                                  \n",
       "1984                                                  \n",
       "1985                                                  \n",
       "1986                                                  \n",
       "1987                                                  \n",
       "1988                                                  \n",
       "1989                                                  \n",
       "1990                                                  \n",
       "1991                                                  \n",
       "1992                                                  \n",
       "1993                                                  \n",
       "1994                                                  \n",
       "1995                                                  \n",
       "1996                                                  \n",
       "1997                                                  \n",
       "1998                                                  \n",
       "1999                                                  \n",
       "2000                                     0.99         \n",
       "2001                                    22.26         \n",
       "2002                                    48.01         \n",
       "2003                                    55.04         \n",
       "2004                                    65.42         \n",
       "2005                              8.25  49.08         \n",
       "2006             137.15          51.62  10.04         \n",
       "2007             152.77          95.41   0.55         \n",
       "2008             171.32         135.26   0.18         \n",
       "2009             206.97         120.29                \n",
       "2010             127.95         170.03                \n",
       "2011              59.65         143.84                \n",
       "2012              21.71  17.56   99.74                \n",
       "2013               8.59  21.65   88.58         18.96  \n",
       "2014               3.75  22.03   34.74         54.07  \n",
       "2015               1.14  16.35   11.96         60.14  \n",
       "2016               0.18    4.6    1.52         26.15  "
      ]
     },
     "execution_count": 36,
     "metadata": {},
     "output_type": "execute_result"
    }
   ],
   "source": [
    "pd.set_option('display.max_columns', None)\n",
    "pd.pivot_table(df, index='year_of_release', columns='platform', values='total_sales', aggfunc='sum').fillna('')"
   ]
  },
  {
   "cell_type": "markdown",
   "metadata": {},
   "source": [
    "Таблица показывает также, что платформы в среднем остаются актуальными около 10 лет (исключение PC, логично). Также можно заметить, что за последние годы наибольшими суммарными продажами обладают платформы PS4, XOne, 3DS. "
   ]
  },
  {
   "cell_type": "markdown",
   "metadata": {},
   "source": [
    "Выбросим лишнее из таблицы. Нам нужны будут только данные 2014 - 2016 гг, так как бизнес чаще всего имеет дело с периодом в 3 года. Также в этих годах появились новые платформы, ставшие лидерами по продажам."
   ]
  },
  {
   "cell_type": "code",
   "execution_count": 37,
   "metadata": {},
   "outputs": [],
   "source": [
    "df = df[df['year_of_release']>2013]"
   ]
  },
  {
   "cell_type": "markdown",
   "metadata": {},
   "source": [
    "Посмотрим, как сводная таблица выглядит теперь."
   ]
  },
  {
   "cell_type": "code",
   "execution_count": 38,
   "metadata": {},
   "outputs": [
    {
     "data": {
      "text/html": [
       "<div>\n",
       "<style scoped>\n",
       "    .dataframe tbody tr th:only-of-type {\n",
       "        vertical-align: middle;\n",
       "    }\n",
       "\n",
       "    .dataframe tbody tr th {\n",
       "        vertical-align: top;\n",
       "    }\n",
       "\n",
       "    .dataframe thead th {\n",
       "        text-align: right;\n",
       "    }\n",
       "</style>\n",
       "<table border=\"1\" class=\"dataframe\">\n",
       "  <thead>\n",
       "    <tr style=\"text-align: right;\">\n",
       "      <th>year_of_release</th>\n",
       "      <th>2014</th>\n",
       "      <th>2015</th>\n",
       "      <th>2016</th>\n",
       "    </tr>\n",
       "    <tr>\n",
       "      <th>platform</th>\n",
       "      <th></th>\n",
       "      <th></th>\n",
       "      <th></th>\n",
       "    </tr>\n",
       "  </thead>\n",
       "  <tbody>\n",
       "    <tr>\n",
       "      <th>3DS</th>\n",
       "      <td>43.76</td>\n",
       "      <td>27.78</td>\n",
       "      <td>15.14</td>\n",
       "    </tr>\n",
       "    <tr>\n",
       "      <th>PC</th>\n",
       "      <td>13.28</td>\n",
       "      <td>8.52</td>\n",
       "      <td>5.25</td>\n",
       "    </tr>\n",
       "    <tr>\n",
       "      <th>PS3</th>\n",
       "      <td>47.76</td>\n",
       "      <td>16.82</td>\n",
       "      <td>3.6</td>\n",
       "    </tr>\n",
       "    <tr>\n",
       "      <th>PS4</th>\n",
       "      <td>100.00</td>\n",
       "      <td>118.90</td>\n",
       "      <td>69.25</td>\n",
       "    </tr>\n",
       "    <tr>\n",
       "      <th>PSP</th>\n",
       "      <td>0.24</td>\n",
       "      <td>0.12</td>\n",
       "      <td></td>\n",
       "    </tr>\n",
       "    <tr>\n",
       "      <th>PSV</th>\n",
       "      <td>11.90</td>\n",
       "      <td>6.25</td>\n",
       "      <td>4.25</td>\n",
       "    </tr>\n",
       "    <tr>\n",
       "      <th>Wii</th>\n",
       "      <td>3.75</td>\n",
       "      <td>1.14</td>\n",
       "      <td>0.18</td>\n",
       "    </tr>\n",
       "    <tr>\n",
       "      <th>WiiU</th>\n",
       "      <td>22.03</td>\n",
       "      <td>16.35</td>\n",
       "      <td>4.6</td>\n",
       "    </tr>\n",
       "    <tr>\n",
       "      <th>X360</th>\n",
       "      <td>34.74</td>\n",
       "      <td>11.96</td>\n",
       "      <td>1.52</td>\n",
       "    </tr>\n",
       "    <tr>\n",
       "      <th>XOne</th>\n",
       "      <td>54.07</td>\n",
       "      <td>60.14</td>\n",
       "      <td>26.15</td>\n",
       "    </tr>\n",
       "  </tbody>\n",
       "</table>\n",
       "</div>"
      ],
      "text/plain": [
       "year_of_release    2014    2015   2016\n",
       "platform                              \n",
       "3DS               43.76   27.78  15.14\n",
       "PC                13.28    8.52   5.25\n",
       "PS3               47.76   16.82    3.6\n",
       "PS4              100.00  118.90  69.25\n",
       "PSP                0.24    0.12       \n",
       "PSV               11.90    6.25   4.25\n",
       "Wii                3.75    1.14   0.18\n",
       "WiiU              22.03   16.35    4.6\n",
       "X360              34.74   11.96   1.52\n",
       "XOne              54.07   60.14  26.15"
      ]
     },
     "execution_count": 38,
     "metadata": {},
     "output_type": "execute_result"
    }
   ],
   "source": [
    "pd.pivot_table(df, index='platform', columns='year_of_release', values='total_sales', aggfunc='sum').fillna('')"
   ]
  },
  {
   "cell_type": "markdown",
   "metadata": {},
   "source": [
    "Провизуализируем таблицу."
   ]
  },
  {
   "cell_type": "code",
   "execution_count": 39,
   "metadata": {},
   "outputs": [
    {
     "data": {
      "image/png": "[encoded data removed]",
      "text/plain": [
       "<Figure size 720x432 with 1 Axes>"
      ]
     },
     "metadata": {
      "needs_background": "light"
     },
     "output_type": "display_data"
    }
   ],
   "source": [
    "pd.pivot_table(df, index='platform', columns='year_of_release', values='total_sales', aggfunc='sum').\\\n",
    "plot(kind='bar', figsize=(10, 6), grid=True)\n",
    "plt.xlabel('Платформы')\n",
    "plt.ylabel('Количество проданных копий игр (млн шт)')\n",
    "plt.title('Динамика продаж игр на разных платформах за 2014 - 2016 гг')\n",
    "plt.legend(['2014', '2015', '2016'])\n",
    "plt.show()"
   ]
  },
  {
   "cell_type": "markdown",
   "metadata": {},
   "source": [
    "**Вывод:**\n",
    "<br> В качестве актуального стоит выбрать период, охватывающий 2014 - 2016 гг, что связано с тем, что сфера компьютерных игр является очень динамичной и быстро развивающейся. Кроме того, для этого времени характерно появление новых платформ, доля которых на рынке стала доминировать.\n",
    "<br>\n",
    "В актуальном периоде можно выделить следующие платформы, продажи которых увеличивались от года к году: PS4 и ХOne.\n",
    "<br>\n",
    "Платформы, продажи на которых также являются значительными по объему, но их продажи несколько упали: PS3, 3DS, X360 и WiiU."
   ]
  },
  {
   "cell_type": "markdown",
   "metadata": {},
   "source": [
    "Посмотрим на показатели общих продаж всех игр на отдельных крупных и потенциально прибыльных платформах. Сколько в среднем на той или другой платформе продается копий одной игры? Для этого построим ящики с усами."
   ]
  },
  {
   "cell_type": "code",
   "execution_count": 40,
   "metadata": {},
   "outputs": [
    {
     "data": {
      "image/png": "[encoded data removed]",
      "text/plain": [
       "<Figure size 1080x720 with 1 Axes>"
      ]
     },
     "metadata": {
      "needs_background": "light"
     },
     "output_type": "display_data"
    }
   ],
   "source": [
    "plt.figure(figsize=(15, 10))\n",
    "sns.boxplot(x='platform', y='total_sales', data=df)\n",
    "plt.ylabel('Количество проданных копий игр (млн шт)')\n",
    "plt.ylim(0, 2)\n",
    "plt.xlabel('Платформа')\n",
    "plt.title('Продажи игр за период 2014 - 2016 гг на разных платформах')\n",
    "\n",
    "plt.show()"
   ]
  },
  {
   "cell_type": "markdown",
   "metadata": {},
   "source": [
    "Узнаем, сколько всего игр внутри каждой платформы, чтобы судить о представительности статистики."
   ]
  },
  {
   "cell_type": "code",
   "execution_count": 41,
   "metadata": {},
   "outputs": [
    {
     "data": {
      "text/plain": [
       "platform\n",
       "3DS     212\n",
       "PC      151\n",
       "PS3     219\n",
       "PS4     376\n",
       "PSP      13\n",
       "PSV     295\n",
       "Wii      11\n",
       "WiiU     73\n",
       "X360    111\n",
       "XOne    228\n",
       "Name: name, dtype: int64"
      ]
     },
     "execution_count": 41,
     "metadata": {},
     "output_type": "execute_result"
    }
   ],
   "source": [
    "df.groupby('platform')['name'].count()"
   ]
  },
  {
   "cell_type": "markdown",
   "metadata": {},
   "source": [
    "**Вывод**\n",
    "<br>\n",
    "Статистический анализ продаж игр внутри разных платформ показал интересные результаты. Казалось бы, что есть платформы с большим количеством общих продаж игр. Однако диаграмма размаха показывает, что эти значительные продажи делаются за счет очень коммерчески успешных игр, которые с точки зрения статистики, скорее, относятся к выбросам, нежели к математически ожидаемым величинам. Так, например, медианные значения продаж приблизительно равны друг другу на следующих платформах - PS4, XOne, WiiU, X360, Wii. Но в тоже время Wii можно не рассматривать, так как для данной платформы слишком мало данных (11 наблюдений)."
   ]
  },
  {
   "cell_type": "markdown",
   "metadata": {},
   "source": [
    "Посмотрим на то, как внутри 5 успешных платформ отзывы критиков и пользователей влияют на продажи. Эти платформы мы выявили на предыдущем этапе анализа по медианных продажам - PS4, XOne, WiiU, X360 и PS3. Построим для этого графики рассеяния и посчитаем корреляции."
   ]
  },
  {
   "cell_type": "code",
   "execution_count": 42,
   "metadata": {},
   "outputs": [
    {
     "data": {
      "image/png": "[encoded data removed]",
      "text/plain": [
       "<Figure size 432x288 with 1 Axes>"
      ]
     },
     "metadata": {
      "needs_background": "light"
     },
     "output_type": "display_data"
    },
    {
     "data": {
      "image/png": "[encoded data removed]",
      "text/plain": [
       "<Figure size 432x288 with 1 Axes>"
      ]
     },
     "metadata": {
      "needs_background": "light"
     },
     "output_type": "display_data"
    },
    {
     "data": {
      "image/png": "[encoded data removed]",
      "text/plain": [
       "<Figure size 432x288 with 1 Axes>"
      ]
     },
     "metadata": {
      "needs_background": "light"
     },
     "output_type": "display_data"
    },
    {
     "data": {
      "image/png": "[encoded data removed]",
      "text/plain": [
       "<Figure size 432x288 with 1 Axes>"
      ]
     },
     "metadata": {
      "needs_background": "light"
     },
     "output_type": "display_data"
    },
    {
     "data": {
      "image/png": "[encoded data removed]",
      "text/plain": [
       "<Figure size 432x288 with 1 Axes>"
      ]
     },
     "metadata": {
      "needs_background": "light"
     },
     "output_type": "display_data"
    }
   ],
   "source": [
    "df_ps4 = df.loc[df['platform']=='PS4']\n",
    "df_ps4.plot(kind='scatter', x='critic_score', y='total_sales', alpha=0.5)\n",
    "plt.xlabel('Рейтинг критиков (от 0 до 100)')\n",
    "plt.ylabel('Количество проданных копий игр (млн шт)')\n",
    "plt.title('Зависимость показателя общих продаж игр от рейтинга критиков внутри платформы PS4')\n",
    "plt.show()\n",
    "\n",
    "df_wiiu = df.loc[df['platform']=='WiiU']\n",
    "df_wiiu.plot(kind='scatter', x='critic_score', y='total_sales', alpha=0.5)\n",
    "plt.xlabel('Рейтинг критиков (от 0 до 100)')\n",
    "plt.ylabel('Количество проданных копий игр (млн шт)')\n",
    "plt.title('Зависимость показателя общих продаж игр от рейтинга критиков внутри платформы WiiU')\n",
    "plt.show()\n",
    "\n",
    "df_x360 = df.loc[df['platform']=='X360']\n",
    "df_x360.plot(kind='scatter', x='critic_score', y='total_sales', alpha=0.5)\n",
    "plt.xlabel('Рейтинг критиков (от 0 до 100)')\n",
    "plt.ylabel('Количество проданных копий игр (млн шт)')\n",
    "plt.title('Зависимость показателя общих продаж игр от рейтинга критиков внутри платформы X360')\n",
    "plt.show()\n",
    "\n",
    "df_xone = df.loc[df['platform']=='XOne']\n",
    "df_xone.plot(kind='scatter', x='critic_score', y='total_sales', alpha=0.5)\n",
    "plt.xlabel('Рейтинг критиков (от 0 до 100)')\n",
    "plt.ylabel('Количество проданных копий игр (млн шт)')\n",
    "plt.title('Зависимость показателя общих продаж игр от рейтинга критиков внутри платформы XOne')\n",
    "plt.show()\n",
    "\n",
    "df_ps3 = df.loc[df['platform']=='PS3']\n",
    "df_ps3.plot(kind='scatter', x='critic_score', y='total_sales', alpha=0.5)\n",
    "plt.xlabel('Рейтинг критиков (от 0 до 100)')\n",
    "plt.ylabel('Количество проданных копий игр (млн шт)')\n",
    "plt.title('Зависимость показателя общих продаж игр от рейтинга критиков внутри платформы PS3')\n",
    "plt.show()"
   ]
  },
  {
   "cell_type": "code",
   "execution_count": 43,
   "metadata": {},
   "outputs": [
    {
     "data": {
      "text/plain": [
       "(0.4, 0.37, 0.53, 0.43, 0.45)"
      ]
     },
     "execution_count": 43,
     "metadata": {},
     "output_type": "execute_result"
    }
   ],
   "source": [
    "df_ps4['total_sales'].corr(df_ps4['critic_score']).round(2),\\\n",
    "df_wiiu['total_sales'].corr(df_wiiu['critic_score']).round(2),\\\n",
    "df_x360['total_sales'].corr(df_x360['critic_score']).round(2),\\\n",
    "df_xone['total_sales'].corr(df_xone['critic_score']).round(2),\\\n",
    "df_ps3['total_sales'].corr(df_ps3['critic_score']).round(2)"
   ]
  },
  {
   "cell_type": "markdown",
   "metadata": {},
   "source": [
    "**Вывод**\n",
    "<br>\n",
    "Диаграммы рассеяния вместе с коэффициентами корреляции свидетельствуют о том, что между количеством продаж и оценкой критиков существует прямая слабая связь. Это может говорить, о том, что положительные отзывы критиков все же влияют на коммерческий успех игры."
   ]
  },
  {
   "cell_type": "markdown",
   "metadata": {},
   "source": [
    "Теперь определим если связь между отзывами пользователей и числом продаж."
   ]
  },
  {
   "cell_type": "code",
   "execution_count": 44,
   "metadata": {},
   "outputs": [
    {
     "data": {
      "image/png": "[encoded data removed]",
      "text/plain": [
       "<Figure size 432x288 with 1 Axes>"
      ]
     },
     "metadata": {
      "needs_background": "light"
     },
     "output_type": "display_data"
    },
    {
     "data": {
      "image/png": "[encoded data removed]",
      "text/plain": [
       "<Figure size 432x288 with 1 Axes>"
      ]
     },
     "metadata": {
      "needs_background": "light"
     },
     "output_type": "display_data"
    },
    {
     "data": {
      "image/png": "[encoded data removed]",
      "text/plain": [
       "<Figure size 432x288 with 1 Axes>"
      ]
     },
     "metadata": {
      "needs_background": "light"
     },
     "output_type": "display_data"
    },
    {
     "data": {
      "image/png": "[encoded data removed]",
      "text/plain": [
       "<Figure size 432x288 with 1 Axes>"
      ]
     },
     "metadata": {
      "needs_background": "light"
     },
     "output_type": "display_data"
    },
    {
     "data": {
      "image/png": "[encoded data removed]",
      "text/plain": [
       "<Figure size 432x288 with 1 Axes>"
      ]
     },
     "metadata": {
      "needs_background": "light"
     },
     "output_type": "display_data"
    }
   ],
   "source": [
    "df_ps4.plot(kind='scatter', x='user_score', y='total_sales', alpha=0.5)\n",
    "plt.xlabel('Рейтинг пользователей (от 0 до 10)')\n",
    "plt.ylabel('Количество проданных копий игр (млн шт)')\n",
    "plt.title('Зависимость показателя общих продаж игр от рейтинга пользователей внутри платформы PS4')\n",
    "plt.show()\n",
    "\n",
    "df_wiiu.plot(kind='scatter', x='user_score', y='total_sales', alpha=0.5)\n",
    "plt.xlabel('Рейтинг пользователей (от 0 до 10)')\n",
    "plt.ylabel('Количество проданных копий игр (млн шт)')\n",
    "plt.title('Зависимость показателя общих продаж игр от рейтинга пользователей внутри платформы WiiU')\n",
    "plt.show()\n",
    "\n",
    "df_x360.plot(kind='scatter', x='user_score', y='total_sales', alpha=0.5)\n",
    "plt.xlabel('Рейтинг пользователей (от 0 до 10)')\n",
    "plt.ylabel('Количество проданных копий игр (млн шт)')\n",
    "plt.title('Зависимость показателя общих продаж игр от рейтинга пользователей внутри платформы X360')\n",
    "plt.show()\n",
    "\n",
    "df_xone.plot(kind='scatter', x='user_score', y='total_sales', alpha=0.5)\n",
    "plt.xlabel('Рейтинг пользователей (от 0 до 10)')\n",
    "plt.ylabel('Количество проданных копий игр (млн шт)')\n",
    "plt.title('Зависимость показателя общих продаж игр от рейтинга пользователей внутри платформы XOne')\n",
    "plt.show()\n",
    "\n",
    "df_ps3.plot(kind='scatter', x='user_score', y='total_sales', alpha=0.5)\n",
    "plt.xlabel('Рейтинг пользователей (от 0 до 10)')\n",
    "plt.ylabel('Количество проданных копий игр (млн шт)')\n",
    "plt.title('Зависимость показателя общих продаж игр от рейтинга пользователей внутри платформы PS3')\n",
    "plt.show()"
   ]
  },
  {
   "cell_type": "code",
   "execution_count": 45,
   "metadata": {},
   "outputs": [
    {
     "data": {
      "text/plain": [
       "(-0.04, 0.41, -0.14, -0.07, -0.17)"
      ]
     },
     "execution_count": 45,
     "metadata": {},
     "output_type": "execute_result"
    }
   ],
   "source": [
    "df_ps4['total_sales'].corr(df_ps4['user_score']).round(2),\\\n",
    "df_wiiu['total_sales'].corr(df_wiiu['user_score']).round(2),\\\n",
    "df_x360['total_sales'].corr(df_x360['user_score']).round(2),\\\n",
    "df_xone['total_sales'].corr(df_xone['user_score']).round(2),\\\n",
    "df_ps3['total_sales'].corr(df_ps3['user_score']).round(2)"
   ]
  },
  {
   "cell_type": "markdown",
   "metadata": {},
   "source": [
    "**Вывод**\n",
    "<br>\n",
    "Диаграммы рассеяния вместе с коэффициентами корреляции свидетельствуют о том, что между количеством продаж и оценкой пользователей не существует какой-либо связи, что говорит о том, что рейтинг пользователей не влияет на продажи игр. Исключением является лишь платформа WiiU, здесь связь прямая, но слабая. Возможно, отзывы пользователей на этой платформе все же сказываются на продажах."
   ]
  },
  {
   "cell_type": "markdown",
   "metadata": {},
   "source": [
    "Исследуем успешность игровых жанров. Можно выдвинуть следующую гипотезу - существуют жанры игр, которые больше пользуются\n",
    "популярностью у пользователей, и, соответственно, являются более прибыльными. Посмотрим сначала на суммарные продажи по жанрам. "
   ]
  },
  {
   "cell_type": "code",
   "execution_count": 46,
   "metadata": {},
   "outputs": [
    {
     "data": {
      "image/png": "[encoded data removed]",
      "text/plain": [
       "<Figure size 792x360 with 1 Axes>"
      ]
     },
     "metadata": {
      "needs_background": "light"
     },
     "output_type": "display_data"
    }
   ],
   "source": [
    "pd.pivot_table(df, index='genre', values='total_sales', aggfunc='sum').plot(kind='bar', figsize=(11, 5))\n",
    "plt.xlabel('Жанр игры')\n",
    "plt.ylabel('Количество проданных копий игр (млн шт)')\n",
    "plt.title('Динамика продаж игр определенных жанров за 2008 - 2016 гг')\n",
    "plt.show()"
   ]
  },
  {
   "cell_type": "markdown",
   "metadata": {},
   "source": [
    "Здесь все по классике. Впереди всех экшн и стрелялки.Самый популярный жанр - action. Затем идут shooter, sport и role-playing.\n",
    "Самые малопродаваемые жанры - strategy, adventures, puzzle. Но может оказаться так, что наиболее продаваемыми были какие-то определенные игры, которые и вносили искажение в статистику. Надо посмотреть на диаграммы размаха."
   ]
  },
  {
   "cell_type": "code",
   "execution_count": 47,
   "metadata": {},
   "outputs": [
    {
     "data": {
      "image/png": "[encoded data removed]",
      "text/plain": [
       "<Figure size 1080x720 with 1 Axes>"
      ]
     },
     "metadata": {
      "needs_background": "light"
     },
     "output_type": "display_data"
    }
   ],
   "source": [
    "plt.figure(figsize=(15, 10))\n",
    "sns.boxplot(x='genre', y='total_sales', data=df)\n",
    "plt.ylabel('Количество проданных копий игр (млн шт)')\n",
    "plt.ylim(0, 2)\n",
    "plt.xlabel('Жанр')\n",
    "plt.title('Продажи игр разного жанра за период 2014 - 2016 гг')\n",
    "\n",
    "plt.show()"
   ]
  },
  {
   "cell_type": "markdown",
   "metadata": {},
   "source": [
    "**Вывод**\n",
    "<br>По медианному показателю продаж одной игры ситуация меняется. На самом деле, больше всего в среднем продаются игры жанра Shooter, Sports, а затем уже Action. И вообще, согласно средним показателям, между играми нет такого колоссального разрыва в продажах. На последнем месте игры жанра Adventure, а не Puuzle, как это видно по столбчатой диаграмме."
   ]
  },
  {
   "cell_type": "markdown",
   "metadata": {},
   "source": [
    "## Составление портрета пользователя каждого региона"
   ]
  },
  {
   "cell_type": "markdown",
   "metadata": {},
   "source": [
    "Посмотрим какие платформы были популярны в разных частях мира в 2014 - 2016 гг. "
   ]
  },
  {
   "cell_type": "code",
   "execution_count": 48,
   "metadata": {},
   "outputs": [
    {
     "data": {
      "text/plain": [
       "platform\n",
       "PS4     98.61\n",
       "XOne    81.27\n",
       "X360    28.30\n",
       "3DS     22.64\n",
       "PS3     22.05\n",
       "WiiU    19.36\n",
       "PC       7.23\n",
       "PSV      2.52\n",
       "Wii      2.08\n",
       "PSP      0.00\n",
       "Name: na_sales, dtype: float64"
      ]
     },
     "execution_count": 48,
     "metadata": {},
     "output_type": "execute_result"
    }
   ],
   "source": [
    "df.groupby('platform')['na_sales'].sum().sort_values(ascending=False)"
   ]
  },
  {
   "cell_type": "code",
   "execution_count": 49,
   "metadata": {},
   "outputs": [
    {
     "data": {
      "text/plain": [
       "platform\n",
       "PS4     130.04\n",
       "XOne     46.25\n",
       "PS3      25.54\n",
       "PC       17.97\n",
       "3DS      16.12\n",
       "X360     15.49\n",
       "WiiU     13.15\n",
       "PSV       3.53\n",
       "Wii       2.59\n",
       "PSP       0.00\n",
       "Name: eu_sales, dtype: float64"
      ]
     },
     "execution_count": 49,
     "metadata": {},
     "output_type": "execute_result"
    }
   ],
   "source": [
    "df.groupby('platform')['eu_sales'].sum().sort_values(ascending=False)"
   ]
  },
  {
   "cell_type": "code",
   "execution_count": 50,
   "metadata": {},
   "outputs": [
    {
     "data": {
      "text/plain": [
       "platform\n",
       "3DS     44.24\n",
       "PS4     15.02\n",
       "PSV     14.54\n",
       "PS3     11.22\n",
       "WiiU     7.31\n",
       "PSP      0.36\n",
       "XOne     0.32\n",
       "X360     0.08\n",
       "PC       0.00\n",
       "Wii      0.00\n",
       "Name: jp_sales, dtype: float64"
      ]
     },
     "execution_count": 50,
     "metadata": {},
     "output_type": "execute_result"
    }
   ],
   "source": [
    "df.groupby('platform')['jp_sales'].sum().sort_values(ascending=False)"
   ]
  },
  {
   "cell_type": "markdown",
   "metadata": {},
   "source": [
    "Для визуализации выделим топ-5, а остальные объединим в other."
   ]
  },
  {
   "cell_type": "code",
   "execution_count": 51,
   "metadata": {},
   "outputs": [],
   "source": [
    "# Для Северной Америки\n",
    "na_platform = df.groupby('platform')['na_sales'].sum().sort_values(ascending=False)\n",
    "na_platform = na_platform.to_frame()\n",
    "na_platform = na_platform.T\n",
    "na_platform['other'] = na_platform[['WiiU','PC','PSV','Wii','PSP']].sum(axis = 1)\n",
    "na_platform = na_platform.drop(columns=['WiiU','PC','PSV','Wii','PSP'])\n",
    "na_platform = na_platform.T\n",
    "na_platform = na_platform.squeeze()\n",
    "\n",
    "# Для Европы\n",
    "eu_platform = df.groupby('platform')['eu_sales'].sum().sort_values(ascending=False)\n",
    "eu_platform = eu_platform.to_frame()\n",
    "eu_platform = eu_platform.T\n",
    "eu_platform['other'] = eu_platform[['X360', 'WiiU','PSV','Wii','PSP']].sum(axis = 1)\n",
    "eu_platform = eu_platform.drop(columns=['X360', 'WiiU','PSV','Wii','PSP'])\n",
    "eu_platform = eu_platform.T\n",
    "eu_platform = eu_platform.squeeze()\n",
    "\n",
    "# Для Японии\n",
    "jp_platform = df.groupby('platform')['jp_sales'].sum().sort_values(ascending=False)\n",
    "jp_platform = jp_platform.to_frame()\n",
    "jp_platform = jp_platform.T\n",
    "jp_platform['other'] = jp_platform[['PSP', 'XOne','X360','PC','Wii']].sum(axis = 1)\n",
    "jp_platform = jp_platform.drop(columns=['PSP', 'XOne','X360','PC','Wii'])\n",
    "jp_platform = jp_platform.T\n",
    "jp_platform = jp_platform.squeeze()"
   ]
  },
  {
   "cell_type": "markdown",
   "metadata": {},
   "source": [
    "Визуализируем данные."
   ]
  },
  {
   "cell_type": "code",
   "execution_count": 52,
   "metadata": {},
   "outputs": [
    {
     "data": {
      "image/png": "[encoded data removed]",
      "text/plain": [
       "<Figure size 360x360 with 1 Axes>"
      ]
     },
     "metadata": {},
     "output_type": "display_data"
    },
    {
     "data": {
      "image/png": "[encoded data removed]",
      "text/plain": [
       "<Figure size 360x360 with 1 Axes>"
      ]
     },
     "metadata": {},
     "output_type": "display_data"
    },
    {
     "data": {
      "image/png": "[encoded data removed]",
      "text/plain": [
       "<Figure size 360x360 with 1 Axes>"
      ]
     },
     "metadata": {},
     "output_type": "display_data"
    }
   ],
   "source": [
    "# Для Америки:\n",
    "fig, ax = plt.subplots()\n",
    "explode = (0.1, 0.1, 0.1, 0.1, 0.1, 0.1)\n",
    "ax.pie(na_platform, autopct='%1.1f%%', explode=explode, \\\n",
    "       labels=['PS4', 'XOne', 'X360', '3DS', 'PS3', 'Другие'], rotatelabels=True)\n",
    "ax.set_title(label='Доля продаж на разных актуальных платформах в Северной Америке за 2014 - 2016 гг', pad = 20)\n",
    "fig.set_figheight(5)\n",
    "fig.set_figwidth(5)\n",
    "plt.show()\n",
    "\n",
    "# Для Европы:\n",
    "fig, ax = plt.subplots()\n",
    "explode = (0.1, 0.1, 0.1, 0.1, 0.1, 0.1)\n",
    "ax.pie(eu_platform, autopct='%1.1f%%', explode=explode, \\\n",
    "       labels=['PS4', 'XOne', 'PS3', 'PC', '3DS', 'Другие'], rotatelabels=True)\n",
    "ax.set_title(label='Доля продаж на разных актуальных платформах в Европе за 2014 - 2016 гг', pad = 20)\n",
    "fig.set_figheight(5)\n",
    "fig.set_figwidth(5)\n",
    "plt.show()\n",
    "\n",
    "# Для Японии:\n",
    "fig, ax = plt.subplots()\n",
    "explode = (0.1, 0.1, 0.1, 0.1, 0.1, 0.1)\n",
    "ax.pie(jp_platform, autopct='%1.1f%%', explode=explode, \\\n",
    "       labels=['3DS', 'PS4', 'PSV', 'PS3', 'WiiU', 'Другие'], rotatelabels=True)\n",
    "ax.set_title(label='Доля продаж на разных актуальных платформах в Европе за 2014 - 2016 гг', pad = 20)\n",
    "fig.set_figheight(5)\n",
    "fig.set_figwidth(5)\n",
    "plt.show()"
   ]
  },
  {
   "cell_type": "markdown",
   "metadata": {},
   "source": [
    "**Вывод**\n",
    "<br>\n",
    "Круговые диаграммы показывают, что в Северной Америке и Европе по продажам лидируют PS4 и XOne. Следует отметить, что в случае Европы доля PS4 на рынке почти 50%.\n",
    "<br>\n",
    "Совсем другая ситуация в Японии. Здесь лидером рынка (доля почти 50%) является платформа 3DS, за ней уже расположились PS4, PSV, PS3. XOne в Японии вовсе не популярна и занимает одно из последних мест.\n"
   ]
  },
  {
   "cell_type": "markdown",
   "metadata": {},
   "source": [
    "Теперь посмотрим какие были самые популярные жанры в разных частях света за 2014 - 2016 гг."
   ]
  },
  {
   "cell_type": "code",
   "execution_count": 53,
   "metadata": {
    "scrolled": true
   },
   "outputs": [
    {
     "data": {
      "text/plain": [
       "genre\n",
       "Shooter         79.02\n",
       "Action          72.53\n",
       "Sports          46.13\n",
       "Role-Playing    33.47\n",
       "Misc            15.05\n",
       "Fighting        12.43\n",
       "Racing           8.74\n",
       "Platform         6.79\n",
       "Adventure        5.64\n",
       "Simulation       2.63\n",
       "Strategy         0.98\n",
       "Puzzle           0.65\n",
       "Name: na_sales, dtype: float64"
      ]
     },
     "execution_count": 53,
     "metadata": {},
     "output_type": "execute_result"
    }
   ],
   "source": [
    "df.groupby('genre')['na_sales'].sum().sort_values(ascending=False)"
   ]
  },
  {
   "cell_type": "code",
   "execution_count": 54,
   "metadata": {},
   "outputs": [
    {
     "data": {
      "text/plain": [
       "genre\n",
       "Action          74.68\n",
       "Shooter         65.52\n",
       "Sports          45.73\n",
       "Role-Playing    28.17\n",
       "Racing          14.13\n",
       "Misc            12.86\n",
       "Simulation       7.30\n",
       "Platform         6.80\n",
       "Fighting         6.69\n",
       "Adventure        6.49\n",
       "Strategy         1.79\n",
       "Puzzle           0.52\n",
       "Name: eu_sales, dtype: float64"
      ]
     },
     "execution_count": 54,
     "metadata": {},
     "output_type": "execute_result"
    }
   ],
   "source": [
    "df.groupby('genre')['eu_sales'].sum().sort_values(ascending=False)"
   ]
  },
  {
   "cell_type": "code",
   "execution_count": 55,
   "metadata": {},
   "outputs": [
    {
     "data": {
      "text/plain": [
       "genre\n",
       "Role-Playing    31.16\n",
       "Action          29.58\n",
       "Fighting         6.37\n",
       "Misc             5.61\n",
       "Shooter          4.87\n",
       "Adventure        3.60\n",
       "Sports           3.26\n",
       "Platform         2.69\n",
       "Simulation       2.31\n",
       "Racing           1.76\n",
       "Strategy         0.95\n",
       "Puzzle           0.93\n",
       "Name: jp_sales, dtype: float64"
      ]
     },
     "execution_count": 55,
     "metadata": {},
     "output_type": "execute_result"
    }
   ],
   "source": [
    "df.groupby('genre')['jp_sales'].sum().sort_values(ascending=False)"
   ]
  },
  {
   "cell_type": "markdown",
   "metadata": {},
   "source": [
    "Для визуализации выделим топ-5, а остальные объединим в other."
   ]
  },
  {
   "cell_type": "code",
   "execution_count": 56,
   "metadata": {},
   "outputs": [],
   "source": [
    "# Для Северной Америки\n",
    "na_genre = df.groupby('genre')['na_sales'].sum().sort_values(ascending=False)\n",
    "na_genre = na_genre.to_frame()\n",
    "na_genre = na_genre.T\n",
    "na_genre['other'] = na_genre[['Adventure','Sports','Platform','Simulation','Racing', 'Strategy', 'Puzzle']].sum(axis = 1)\n",
    "na_genre = na_genre.drop(columns=['Adventure','Sports','Platform','Simulation','Racing', 'Strategy', 'Puzzle'])\n",
    "na_genre = na_genre.T\n",
    "na_genre = na_genre.squeeze()\n",
    "\n",
    "# Для Европы\n",
    "eu_genre = df.groupby('genre')['eu_sales'].sum().sort_values(ascending=False)\n",
    "eu_genre = eu_genre.to_frame()\n",
    "eu_genre = eu_genre.T\n",
    "eu_genre['other'] = eu_genre[['Misc', 'Simulation','Platform','Fighting','Adventure', 'Strategy', 'Puzzle']].sum(axis = 1)\n",
    "eu_genre = eu_genre.drop(columns=['Misc', 'Simulation','Platform','Fighting','Adventure', 'Strategy', 'Puzzle'])\n",
    "eu_genre = eu_genre.T\n",
    "eu_genre = eu_genre.squeeze()\n",
    "\n",
    "# Для Японии\n",
    "jp_genre = df.groupby('genre')['jp_sales'].sum().sort_values(ascending=False)\n",
    "jp_genre = jp_genre.to_frame()\n",
    "jp_genre = jp_genre.T\n",
    "jp_genre['other'] = jp_genre[['Adventure', 'Sports','Platform','Simulation','Racing', 'Strategy', 'Puzzle']].sum(axis = 1)\n",
    "jp_genre = jp_genre.drop(columns=['Adventure', 'Sports','Platform','Simulation','Racing', 'Strategy', 'Puzzle'])\n",
    "jp_genre = jp_genre.T\n",
    "jp_genre = jp_genre.squeeze()"
   ]
  },
  {
   "cell_type": "code",
   "execution_count": 57,
   "metadata": {},
   "outputs": [
    {
     "data": {
      "image/png": "[encoded data removed]",
      "text/plain": [
       "<Figure size 360x360 with 1 Axes>"
      ]
     },
     "metadata": {},
     "output_type": "display_data"
    },
    {
     "data": {
      "image/png": "[encoded data removed]",
      "text/plain": [
       "<Figure size 360x360 with 1 Axes>"
      ]
     },
     "metadata": {},
     "output_type": "display_data"
    },
    {
     "data": {
      "image/png": "[encoded data removed]",
      "text/plain": [
       "<Figure size 360x360 with 1 Axes>"
      ]
     },
     "metadata": {},
     "output_type": "display_data"
    }
   ],
   "source": [
    "# Для Америки:\n",
    "fig, ax = plt.subplots()\n",
    "explode = (0.1, 0.1, 0.1, 0.1, 0.1, 0.1)\n",
    "ax.pie(na_genre, autopct='%1.1f%%', explode=explode, \\\n",
    "       labels=['Shooter', 'Action', 'Sports', 'Role-Playing', 'Misc', 'Другие'], rotatelabels=True)\n",
    "ax.set_title(label='Доля продаж игр разных жанров в Северной Америке за 2014 - 2016 гг', pad = 20)\n",
    "fig.set_figheight(5)\n",
    "fig.set_figwidth(5)\n",
    "plt.show()\n",
    "\n",
    "# Для Европы:\n",
    "fig, ax = plt.subplots()\n",
    "explode = (0.1, 0.1, 0.1, 0.1, 0.1, 0.1)\n",
    "ax.pie(eu_genre, autopct='%1.1f%%', explode=explode, \\\n",
    "       labels=['Action', 'Shooter', 'Sports', 'Role-Playing', 'Racing', 'Другие'], rotatelabels=True)\n",
    "ax.set_title(label='Доля продаж игр разных жанров в Европе за 2014 - 2016 гг', pad = 20)\n",
    "fig.set_figheight(5)\n",
    "fig.set_figwidth(5)\n",
    "plt.show()\n",
    "\n",
    "# Для Японии:\n",
    "fig, ax = plt.subplots()\n",
    "explode = (0.1, 0.1, 0.1, 0.1, 0.1, 0.1)\n",
    "ax.pie(jp_genre, autopct='%1.1f%%', explode=explode, \\\n",
    "       labels=['Role-Playing', 'Action', 'Fighting', 'Misc', 'Shooter', 'Другие'], rotatelabels=True)\n",
    "ax.set_title(label='Доля продаж игр разных жанров в Японии за 2014 - 2016 гг', pad = 20)\n",
    "fig.set_figheight(5)\n",
    "fig.set_figwidth(5)\n",
    "plt.show()"
   ]
  },
  {
   "cell_type": "markdown",
   "metadata": {},
   "source": [
    "**Вывод:** \n",
    "<br>Анализ продаж игр разных жанров в разных частях мира показывает, что предпочтения геймеров в Северной Америке и Европе схожи. Они и диктуют общемировой тренд, который был ранее замечен на общих продажах. Здесь в лидерах action, shooter и sports. Другая ситуация в Японии. Здесь на первом месте ролевые игры, а уже потом экшн."
   ]
  },
  {
   "cell_type": "markdown",
   "metadata": {},
   "source": [
    "Посмотрим на то, как продаются в разных частях света игры с разным рейтингом ESRB."
   ]
  },
  {
   "cell_type": "code",
   "execution_count": 58,
   "metadata": {},
   "outputs": [
    {
     "data": {
      "image/png": "[encoded data removed]",
      "text/plain": [
       "<Figure size 432x288 with 1 Axes>"
      ]
     },
     "metadata": {
      "needs_background": "light"
     },
     "output_type": "display_data"
    }
   ],
   "source": [
    "# Посмотрим на то, как продаются в разных частях света\n",
    "df.groupby('rating')['na_sales', 'eu_sales', 'jp_sales'].sum().plot(kind='bar')\n",
    "plt.xlabel('Рейтинг ESRB')\n",
    "plt.ylabel('Количество проданных копий игр (млн шт)')\n",
    "plt.title('Динамика продаж игр c разным рейтигом ESRB в Северной Америке')\n",
    "plt.legend(['Северная Америка', 'Европа', 'Япония'])\n",
    "plt.show()"
   ]
  },
  {
   "cell_type": "markdown",
   "metadata": {},
   "source": [
    "**Вывод:** \n",
    "<br>В Америке и Европе лидером по продажам являются игры с рейтингом 'для всех'. Но лишь ненамного отстают в этих частях мира игры с неизвестным рейтингом. Игры с этим рейтингом лидируют по продажам в Японии. На втором месте в Японии игры с рейтингом 'для всех'."
   ]
  },
  {
   "cell_type": "markdown",
   "metadata": {},
   "source": [
    "## Проверка гипотез"
   ]
  },
  {
   "cell_type": "markdown",
   "metadata": {},
   "source": [
    "Проверка гипотезы: средние рейтинги пользователей платформ XOne и PC одинаковые:\n",
    "\n",
    "```\n",
    "H_0: Средний рейтинг пользователей платформы XOne = среднему рейтингу платформы PC\n",
    "H_a: Средний рейтинг пользователей платформы XOne ≠ среднему рейтингу платформы PC\n",
    "alpha = 0.05, критический уровень зададим таким\n",
    "```"
   ]
  },
  {
   "cell_type": "markdown",
   "metadata": {},
   "source": [
    "По сути, нужно проверить гипотезу о равенстве средних двух выборок, которые не зависят друг от друга.\n",
    "Применим t-тест."
   ]
  },
  {
   "cell_type": "code",
   "execution_count": 61,
   "metadata": {},
   "outputs": [
    {
     "name": "stdout",
     "output_type": "stream",
     "text": [
      "0.11601398086668943\n",
      "Не получилось отвергнуть нулевую гипотезу\n"
     ]
    }
   ],
   "source": [
    "results = st.ttest_ind(\n",
    "    df[df['platform']=='XOne']['user_score'],\n",
    "    df[df['platform']=='PC']['user_score'], equal_var=False, nan_policy='omit') # я предполагаю, что дисперсии у этих \n",
    "                                # двух параметров не равны друг другу, также установим, чтобы в рассчет не шли значения NaN\n",
    "alpha = 0.05\n",
    "\n",
    "print(results.pvalue)\n",
    "\n",
    "if results.pvalue < alpha:\n",
    "    print(\"Отвергаем нулевую гипотезу\")\n",
    "else:\n",
    "    print(\"Не получилось отвергнуть нулевую гипотезу\")"
   ]
  },
  {
   "cell_type": "markdown",
   "metadata": {},
   "source": [
    "Посмотрим, какие средние рейтиги пользователей платформ, чтобы подкрепить вывод, данный тестом Стьдента."
   ]
  },
  {
   "cell_type": "code",
   "execution_count": 62,
   "metadata": {},
   "outputs": [
    {
     "data": {
      "text/plain": [
       "platform\n",
       "3DS     7.138182\n",
       "PC      6.298361\n",
       "PS3     6.014286\n",
       "PS4     6.828099\n",
       "PSP          NaN\n",
       "PSV     7.656164\n",
       "Wii     6.350000\n",
       "WiiU    7.087500\n",
       "X360    5.771084\n",
       "XOne    6.594545\n",
       "Name: user_score, dtype: float64"
      ]
     },
     "execution_count": 62,
     "metadata": {},
     "output_type": "execute_result"
    }
   ],
   "source": [
    "df.groupby('platform')['user_score'].mean()"
   ]
  },
  {
   "cell_type": "markdown",
   "metadata": {},
   "source": [
    "Действительно можно утверждать, что рейтинги платформ XOne и PC близки. Тогда как, рейтинги 3DS и X360 явно разные."
   ]
  },
  {
   "cell_type": "markdown",
   "metadata": {},
   "source": [
    "Проверка гипотезы: средние пользовательские рейтинги жанров action и sports разные:\n",
    "\n",
    "```\n",
    "H_0: Средний рейтинг пользователей жанра action = среднему рейтингу жанра sports\n",
    "H_a: Средний рейтинг пользователей жанра action ≠ среднему рейтингу жанра sports\n",
    "alpha = 0.05, критический уровень зададим таким\n",
    "```"
   ]
  },
  {
   "cell_type": "markdown",
   "metadata": {},
   "source": [
    "Применим тот же самый тест, что и выше. "
   ]
  },
  {
   "cell_type": "code",
   "execution_count": 63,
   "metadata": {},
   "outputs": [
    {
     "name": "stdout",
     "output_type": "stream",
     "text": [
      "1.182555038264477e-14\n",
      "Отвергаем нулевую гипотезу\n"
     ]
    }
   ],
   "source": [
    "results = st.ttest_ind(\n",
    "    df[df['genre']=='Action']['user_score'],\n",
    "    df[df['genre']=='Sports']['user_score'], equal_var=False, nan_policy='omit') # я предполагаю, что дисперсии у этих \n",
    "                                                                                # двух параметров разные\n",
    "alpha = 0.05\n",
    "\n",
    "print(results.pvalue)\n",
    "\n",
    "if results.pvalue < alpha:\n",
    "    print(\"Отвергаем нулевую гипотезу\")\n",
    "else:\n",
    "    print(\"Не получилось отвергнуть нулевую гипотезу\")"
   ]
  },
  {
   "cell_type": "code",
   "execution_count": 64,
   "metadata": {},
   "outputs": [
    {
     "data": {
      "text/plain": [
       "genre\n",
       "Action          6.760606\n",
       "Adventure       7.470213\n",
       "Fighting        6.983784\n",
       "Misc            6.968293\n",
       "Platform        6.741379\n",
       "Puzzle          7.975000\n",
       "Racing          6.327451\n",
       "Role-Playing    7.348571\n",
       "Shooter         6.549074\n",
       "Simulation      6.504167\n",
       "Sports          5.225197\n",
       "Strategy        7.216667\n",
       "Name: user_score, dtype: float64"
      ]
     },
     "execution_count": 64,
     "metadata": {},
     "output_type": "execute_result"
    }
   ],
   "source": [
    "df.groupby('genre')['user_score'].mean()"
   ]
  },
  {
   "cell_type": "markdown",
   "metadata": {},
   "source": [
    "Таблица средних пользовательских рейтингов игр разного жанра действительно показывает, что оценки Action и Sports разные. А вот Fighting и Misc очень близки друг другу."
   ]
  },
  {
   "cell_type": "markdown",
   "metadata": {},
   "source": [
    "**Вывод по проверке гипотез**\n",
    "<br> \n",
    "Для проверки гипотез, связанных со сравнением пользовательских рейтингов разных платформ и разных жанров игр, изначально необходимо исходить из логики, что пользовательские рейтинги равны, это и будет нулевой гипотезой. Противоположное утверждение - альтернативная гипотеза. \n",
    "Для проверки равенства двух средних выборок, которые независимы друг от друга, необходимо использовать двусторонний тест Стьюдента.\n",
    "<br>\n",
    "Тест показал, (1) что пользовательские рейтинги платформ XOne и PC равны, (2) пользовательские рейтинги игр с жанрами 'Action' и 'Sports' разные."
   ]
  },
  {
   "cell_type": "markdown",
   "metadata": {},
   "source": [
    "##  Заключение"
   ]
  },
  {
   "cell_type": "markdown",
   "metadata": {},
   "source": [
    "**Основная задача проекта**\n",
    "\n",
    "С целью определения закономерностей компьютерных игр, способствующих получению большей прибыли в 2017 году, для онлайн-магазина \"Стримчик\" был проведен исследовательский анализ данных.\n",
    "\n",
    "**Материалы для анализа**\n",
    "\n",
    "Материалом для исследования послужили данные о числе проданных игр разных платформ, рейтингов и жанров.\n",
    "\n",
    "**Охватываемый период исследования**\n",
    "\n",
    "Анализируем период - 2014 - 2016 гг. Это связано с тем, что сфера компьютерных игр является очень динамичной и быстро развивающейся. Кроме того, для этого времени характерно появление новых платформ, доля которых на рынке стала доминировать.\n",
    "\n",
    "**Основные выводы**\n",
    "\n",
    "Анализ общих продаж на платформах показал, что наиболее успешными были платформы PS4 и ХOne. Однако анализ медианных значений продаж игр на разных платформах, свидетельствует о том, что в среднем продажи на PS4 и XOne не отличаются от продаж на WiiU, X360.\n",
    "\n",
    "Данные о корреляции данных отзывов критиков и общих продаж свидетельствуют о том, что положительные отзывы критиков все же влияют на коммерческий успех игры.\n",
    "\n",
    "Не смотря на то, что по общему числу проданных копий лидируют игры жанра action, по медианному показателю продаж игр ситуация меняется. Можно утверждать, что больше всего в среднем продаются игры жанра shooter, sports, а затем уже action.\n",
    "\n",
    "По общему числу продаж в Америке и Европе лидируют платформы PS4 и XOne. Следует отметить, что в случае Европы доля PS4 на рынке почти 50%. Совсем другая ситуация в Японии. Здесь лидером рынка (доля почти 50%) является платформа 3DS, за ней уже расположилась PS4.\n",
    "\n",
    "С точки зрения общих продаж игр разного жанра в Европе и Америке в лидерах action, shooter и sports. Другая ситуация в Японии. Здесь на первом месте rolling-play, а уже потом action.\n",
    "\n",
    "Во всем мире в лидерах по продажам игры с рейтингом \"для всех\", а также игры, рейтинг для которых не был установлен производителем.\n",
    "\n",
    "Исследования показывают, что пользовательские рейтинги некоторых платформ одинаковые. Так, например, рейтинг XOne равен рейтингу PC. В то же время данные свидетельствуют о том, что внутри одного большого жанра активных игр рейтинги могут быть разные. Так, например, рейтинг жанра action не равен рейтингу жанра sports.\n",
    "\n",
    "**Рекомендации для рекламной компании**\n",
    "\n",
    "С учетом того, что наш рынок относится в большей степени к европейскому, ниже приводятся следующие рекомендации.\n",
    "\n",
    "Предлагаемые платформы: PS4, XOne. \n",
    "\n",
    "Предлагаемые жанры: Shooter, Sports, Action.\n",
    "\n",
    "Предлагаемый рейтинг ESRB: \"для всех\" или игры без рейтинга.\n",
    "\n",
    "Также перед рекламной компанией стоит обратить внимание на наличие положительных отзывов критиков об игре."
   ]
  }
 ],
 "metadata": {
  "ExecuteTimeLog": [
   {
    "duration": 429,
    "start_time": "2022-10-31T08:29:37.257Z"
   },
   {
    "duration": 97,
    "start_time": "2022-10-31T08:29:59.587Z"
   },
   {
    "duration": 14,
    "start_time": "2022-10-31T08:30:04.739Z"
   },
   {
    "duration": 29,
    "start_time": "2022-10-31T08:30:16.483Z"
   },
   {
    "duration": 56,
    "start_time": "2022-10-31T08:39:29.090Z"
   },
   {
    "duration": 5,
    "start_time": "2022-10-31T08:40:08.442Z"
   },
   {
    "duration": 15,
    "start_time": "2022-10-31T08:40:20.775Z"
   },
   {
    "duration": 6,
    "start_time": "2022-10-31T08:40:34.278Z"
   },
   {
    "duration": 14,
    "start_time": "2022-10-31T08:40:34.808Z"
   },
   {
    "duration": 5,
    "start_time": "2022-10-31T08:40:41.271Z"
   },
   {
    "duration": 15,
    "start_time": "2022-10-31T08:40:43.459Z"
   },
   {
    "duration": 14,
    "start_time": "2022-10-31T08:40:51.429Z"
   },
   {
    "duration": 3,
    "start_time": "2022-10-31T08:41:03.840Z"
   },
   {
    "duration": 75,
    "start_time": "2022-10-31T08:41:03.846Z"
   },
   {
    "duration": 13,
    "start_time": "2022-10-31T08:41:03.923Z"
   },
   {
    "duration": 18,
    "start_time": "2022-10-31T08:41:03.940Z"
   },
   {
    "duration": 7,
    "start_time": "2022-10-31T08:41:03.960Z"
   },
   {
    "duration": 16,
    "start_time": "2022-10-31T08:41:03.968Z"
   },
   {
    "duration": 17,
    "start_time": "2022-10-31T08:51:49.394Z"
   },
   {
    "duration": 68,
    "start_time": "2022-10-31T08:53:51.637Z"
   },
   {
    "duration": 11,
    "start_time": "2022-10-31T08:55:58.730Z"
   },
   {
    "duration": 1019,
    "start_time": "2022-10-31T08:58:09.539Z"
   },
   {
    "duration": 7,
    "start_time": "2022-10-31T08:58:21.837Z"
   },
   {
    "duration": 16,
    "start_time": "2022-10-31T08:58:31.657Z"
   },
   {
    "duration": 12,
    "start_time": "2022-10-31T09:00:30.924Z"
   },
   {
    "duration": 11,
    "start_time": "2022-10-31T09:00:51.495Z"
   },
   {
    "duration": 2,
    "start_time": "2022-10-31T09:04:46.867Z"
   },
   {
    "duration": 66,
    "start_time": "2022-10-31T09:04:46.871Z"
   },
   {
    "duration": 14,
    "start_time": "2022-10-31T09:04:46.939Z"
   },
   {
    "duration": 13,
    "start_time": "2022-10-31T09:04:46.955Z"
   },
   {
    "duration": 6,
    "start_time": "2022-10-31T09:04:46.970Z"
   },
   {
    "duration": 17,
    "start_time": "2022-10-31T09:04:46.978Z"
   },
   {
    "duration": 36,
    "start_time": "2022-10-31T09:04:46.997Z"
   },
   {
    "duration": 17,
    "start_time": "2022-10-31T09:04:47.036Z"
   },
   {
    "duration": 13,
    "start_time": "2022-10-31T09:04:47.055Z"
   },
   {
    "duration": 14,
    "start_time": "2022-10-31T09:07:17.811Z"
   },
   {
    "duration": 6,
    "start_time": "2022-10-31T09:08:12.983Z"
   },
   {
    "duration": 12,
    "start_time": "2022-10-31T09:08:22.448Z"
   },
   {
    "duration": 20,
    "start_time": "2022-10-31T09:08:29.156Z"
   },
   {
    "duration": 22,
    "start_time": "2022-10-31T09:13:01.446Z"
   },
   {
    "duration": 25,
    "start_time": "2022-10-31T09:18:58.420Z"
   },
   {
    "duration": 3,
    "start_time": "2022-10-31T09:20:09.515Z"
   },
   {
    "duration": 6,
    "start_time": "2022-10-31T09:25:25.992Z"
   },
   {
    "duration": 386,
    "start_time": "2022-10-31T09:25:45.275Z"
   },
   {
    "duration": 55,
    "start_time": "2022-10-31T09:25:45.663Z"
   },
   {
    "duration": 15,
    "start_time": "2022-10-31T09:25:45.719Z"
   },
   {
    "duration": 20,
    "start_time": "2022-10-31T09:25:45.735Z"
   },
   {
    "duration": 4,
    "start_time": "2022-10-31T09:25:45.757Z"
   },
   {
    "duration": 21,
    "start_time": "2022-10-31T09:25:45.763Z"
   },
   {
    "duration": 11,
    "start_time": "2022-10-31T09:25:45.786Z"
   },
   {
    "duration": 46,
    "start_time": "2022-10-31T09:25:45.799Z"
   },
   {
    "duration": 11,
    "start_time": "2022-10-31T09:25:45.847Z"
   },
   {
    "duration": 24,
    "start_time": "2022-10-31T09:25:45.860Z"
   },
   {
    "duration": 3,
    "start_time": "2022-10-31T09:25:45.886Z"
   },
   {
    "duration": 6,
    "start_time": "2022-10-31T09:25:45.891Z"
   },
   {
    "duration": 15,
    "start_time": "2022-10-31T09:26:02.342Z"
   },
   {
    "duration": 1642,
    "start_time": "2022-10-31T09:26:43.756Z"
   },
   {
    "duration": 11,
    "start_time": "2022-10-31T09:26:51.773Z"
   },
   {
    "duration": 3,
    "start_time": "2022-10-31T09:37:58.131Z"
   },
   {
    "duration": 14,
    "start_time": "2022-10-31T09:38:07.540Z"
   },
   {
    "duration": 7,
    "start_time": "2022-10-31T09:38:08.750Z"
   },
   {
    "duration": 3,
    "start_time": "2022-10-31T09:40:58.588Z"
   },
   {
    "duration": 15,
    "start_time": "2022-10-31T09:41:01.103Z"
   },
   {
    "duration": 6,
    "start_time": "2022-10-31T09:41:01.690Z"
   },
   {
    "duration": 17,
    "start_time": "2022-10-31T09:43:04.866Z"
   },
   {
    "duration": 3,
    "start_time": "2022-10-31T09:46:54.730Z"
   },
   {
    "duration": 21,
    "start_time": "2022-10-31T09:50:23.875Z"
   },
   {
    "duration": 6,
    "start_time": "2022-10-31T09:53:20.130Z"
   },
   {
    "duration": 1014,
    "start_time": "2022-10-31T09:56:02.582Z"
   },
   {
    "duration": 7,
    "start_time": "2022-10-31T09:56:07.982Z"
   },
   {
    "duration": 7,
    "start_time": "2022-10-31T09:56:24.158Z"
   },
   {
    "duration": 4,
    "start_time": "2022-10-31T09:56:52.123Z"
   },
   {
    "duration": 16,
    "start_time": "2022-10-31T09:56:52.537Z"
   },
   {
    "duration": 6,
    "start_time": "2022-10-31T09:56:53.320Z"
   },
   {
    "duration": 7,
    "start_time": "2022-10-31T09:56:54.085Z"
   },
   {
    "duration": 6,
    "start_time": "2022-10-31T09:57:05.205Z"
   },
   {
    "duration": 107,
    "start_time": "2022-10-31T09:59:47.295Z"
   },
   {
    "duration": 4,
    "start_time": "2022-10-31T10:00:32.315Z"
   },
   {
    "duration": 16,
    "start_time": "2022-10-31T10:00:33.690Z"
   },
   {
    "duration": 5,
    "start_time": "2022-10-31T10:00:34.395Z"
   },
   {
    "duration": 5,
    "start_time": "2022-10-31T10:01:37.502Z"
   },
   {
    "duration": 4,
    "start_time": "2022-10-31T10:01:46.340Z"
   },
   {
    "duration": 16,
    "start_time": "2022-10-31T10:01:47.166Z"
   },
   {
    "duration": 3,
    "start_time": "2022-10-31T10:02:22.292Z"
   },
   {
    "duration": 15,
    "start_time": "2022-10-31T10:02:23.656Z"
   },
   {
    "duration": 7,
    "start_time": "2022-10-31T10:02:24.127Z"
   },
   {
    "duration": 3,
    "start_time": "2022-10-31T10:02:43.650Z"
   },
   {
    "duration": 15,
    "start_time": "2022-10-31T10:02:44.591Z"
   },
   {
    "duration": 7,
    "start_time": "2022-10-31T10:02:46.023Z"
   },
   {
    "duration": 5,
    "start_time": "2022-10-31T10:03:22.197Z"
   },
   {
    "duration": 16,
    "start_time": "2022-10-31T10:03:22.901Z"
   },
   {
    "duration": 7,
    "start_time": "2022-10-31T10:03:23.643Z"
   },
   {
    "duration": 4,
    "start_time": "2022-10-31T10:04:49.663Z"
   },
   {
    "duration": 15,
    "start_time": "2022-10-31T10:04:50.410Z"
   },
   {
    "duration": 10,
    "start_time": "2022-10-31T10:04:55.383Z"
   },
   {
    "duration": 4,
    "start_time": "2022-10-31T10:05:02.934Z"
   },
   {
    "duration": 15,
    "start_time": "2022-10-31T10:05:03.531Z"
   },
   {
    "duration": 6,
    "start_time": "2022-10-31T10:05:04.370Z"
   },
   {
    "duration": 4,
    "start_time": "2022-10-31T10:05:20.504Z"
   },
   {
    "duration": 15,
    "start_time": "2022-10-31T10:05:21.680Z"
   },
   {
    "duration": 6,
    "start_time": "2022-10-31T10:05:22.280Z"
   },
   {
    "duration": 15,
    "start_time": "2022-10-31T10:08:42.847Z"
   },
   {
    "duration": 5,
    "start_time": "2022-10-31T10:16:04.852Z"
   },
   {
    "duration": 17,
    "start_time": "2022-10-31T10:16:10.454Z"
   },
   {
    "duration": 30,
    "start_time": "2022-10-31T10:17:55.990Z"
   },
   {
    "duration": 6,
    "start_time": "2022-10-31T10:18:16.435Z"
   },
   {
    "duration": 17,
    "start_time": "2022-10-31T10:18:23.730Z"
   },
   {
    "duration": 17,
    "start_time": "2022-10-31T10:19:29.237Z"
   },
   {
    "duration": 4,
    "start_time": "2022-10-31T10:24:33.039Z"
   },
   {
    "duration": 16,
    "start_time": "2022-10-31T10:24:43.025Z"
   },
   {
    "duration": 6,
    "start_time": "2022-10-31T10:29:46.653Z"
   },
   {
    "duration": 22,
    "start_time": "2022-10-31T10:29:53.391Z"
   },
   {
    "duration": 8,
    "start_time": "2022-10-31T10:30:59.256Z"
   },
   {
    "duration": 3,
    "start_time": "2022-10-31T10:31:08.778Z"
   },
   {
    "duration": 58,
    "start_time": "2022-10-31T10:31:08.784Z"
   },
   {
    "duration": 14,
    "start_time": "2022-10-31T10:31:08.843Z"
   },
   {
    "duration": 13,
    "start_time": "2022-10-31T10:31:08.860Z"
   },
   {
    "duration": 5,
    "start_time": "2022-10-31T10:31:08.875Z"
   },
   {
    "duration": 17,
    "start_time": "2022-10-31T10:31:08.882Z"
   },
   {
    "duration": 37,
    "start_time": "2022-10-31T10:31:08.901Z"
   },
   {
    "duration": 27,
    "start_time": "2022-10-31T10:31:08.940Z"
   },
   {
    "duration": 11,
    "start_time": "2022-10-31T10:31:08.969Z"
   },
   {
    "duration": 14,
    "start_time": "2022-10-31T10:31:08.983Z"
   },
   {
    "duration": 6,
    "start_time": "2022-10-31T10:31:08.999Z"
   },
   {
    "duration": 39,
    "start_time": "2022-10-31T10:31:09.006Z"
   },
   {
    "duration": 6,
    "start_time": "2022-10-31T10:31:09.047Z"
   },
   {
    "duration": 20,
    "start_time": "2022-10-31T10:31:09.055Z"
   },
   {
    "duration": 5,
    "start_time": "2022-10-31T10:31:09.076Z"
   },
   {
    "duration": 9,
    "start_time": "2022-10-31T10:31:09.082Z"
   },
   {
    "duration": 23,
    "start_time": "2022-10-31T10:31:14.307Z"
   },
   {
    "duration": 31,
    "start_time": "2022-10-31T10:32:55.489Z"
   },
   {
    "duration": 23,
    "start_time": "2022-10-31T10:33:11.003Z"
   },
   {
    "duration": 15,
    "start_time": "2022-10-31T10:38:51.809Z"
   },
   {
    "duration": 6,
    "start_time": "2022-10-31T10:39:12.402Z"
   },
   {
    "duration": 9,
    "start_time": "2022-10-31T10:39:31.247Z"
   },
   {
    "duration": 11,
    "start_time": "2022-10-31T10:39:59.463Z"
   },
   {
    "duration": 17,
    "start_time": "2022-10-31T10:40:54.696Z"
   },
   {
    "duration": 3,
    "start_time": "2022-10-31T10:41:28.839Z"
   },
   {
    "duration": 53,
    "start_time": "2022-10-31T10:41:28.843Z"
   },
   {
    "duration": 14,
    "start_time": "2022-10-31T10:41:28.897Z"
   },
   {
    "duration": 19,
    "start_time": "2022-10-31T10:41:28.913Z"
   },
   {
    "duration": 6,
    "start_time": "2022-10-31T10:41:28.934Z"
   },
   {
    "duration": 17,
    "start_time": "2022-10-31T10:41:28.942Z"
   },
   {
    "duration": 10,
    "start_time": "2022-10-31T10:41:28.961Z"
   },
   {
    "duration": 15,
    "start_time": "2022-10-31T10:41:28.973Z"
   },
   {
    "duration": 8,
    "start_time": "2022-10-31T10:41:28.989Z"
   },
   {
    "duration": 45,
    "start_time": "2022-10-31T10:41:28.999Z"
   },
   {
    "duration": 4,
    "start_time": "2022-10-31T10:41:29.047Z"
   },
   {
    "duration": 20,
    "start_time": "2022-10-31T10:41:29.053Z"
   },
   {
    "duration": 6,
    "start_time": "2022-10-31T10:41:29.075Z"
   },
   {
    "duration": 18,
    "start_time": "2022-10-31T10:41:29.082Z"
   },
   {
    "duration": 4,
    "start_time": "2022-10-31T10:41:29.101Z"
   },
   {
    "duration": 27,
    "start_time": "2022-10-31T10:41:29.107Z"
   },
   {
    "duration": 24,
    "start_time": "2022-10-31T10:41:29.135Z"
   },
   {
    "duration": 4,
    "start_time": "2022-10-31T10:41:29.161Z"
   },
   {
    "duration": 15,
    "start_time": "2022-10-31T10:41:29.167Z"
   },
   {
    "duration": 17,
    "start_time": "2022-10-31T10:41:29.183Z"
   },
   {
    "duration": 12,
    "start_time": "2022-10-31T10:44:20.987Z"
   },
   {
    "duration": 13,
    "start_time": "2022-10-31T10:44:36.006Z"
   },
   {
    "duration": 8,
    "start_time": "2022-10-31T10:44:56.113Z"
   },
   {
    "duration": 9,
    "start_time": "2022-10-31T10:45:10.452Z"
   },
   {
    "duration": 13,
    "start_time": "2022-10-31T10:46:03.276Z"
   },
   {
    "duration": 7,
    "start_time": "2022-10-31T10:46:36.062Z"
   },
   {
    "duration": 4,
    "start_time": "2022-10-31T10:46:39.379Z"
   },
   {
    "duration": 9,
    "start_time": "2022-10-31T10:46:45.568Z"
   },
   {
    "duration": 14,
    "start_time": "2022-10-31T10:46:49.428Z"
   },
   {
    "duration": 14,
    "start_time": "2022-10-31T10:54:10.870Z"
   },
   {
    "duration": 6,
    "start_time": "2022-10-31T10:56:33.478Z"
   },
   {
    "duration": 8,
    "start_time": "2022-10-31T10:56:46.436Z"
   },
   {
    "duration": 7,
    "start_time": "2022-10-31T10:57:22.487Z"
   },
   {
    "duration": 15,
    "start_time": "2022-10-31T10:58:41.003Z"
   },
   {
    "duration": 13,
    "start_time": "2022-10-31T10:59:30.440Z"
   },
   {
    "duration": 10,
    "start_time": "2022-10-31T10:59:47.990Z"
   },
   {
    "duration": 2,
    "start_time": "2022-10-31T14:44:02.544Z"
   },
   {
    "duration": 54,
    "start_time": "2022-10-31T14:44:02.549Z"
   },
   {
    "duration": 14,
    "start_time": "2022-10-31T14:44:02.605Z"
   },
   {
    "duration": 15,
    "start_time": "2022-10-31T14:44:02.620Z"
   },
   {
    "duration": 18,
    "start_time": "2022-10-31T14:44:02.637Z"
   },
   {
    "duration": 6,
    "start_time": "2022-10-31T14:44:02.657Z"
   },
   {
    "duration": 17,
    "start_time": "2022-10-31T14:44:02.666Z"
   },
   {
    "duration": 14,
    "start_time": "2022-10-31T14:44:02.685Z"
   },
   {
    "duration": 34,
    "start_time": "2022-10-31T14:44:02.701Z"
   },
   {
    "duration": 15,
    "start_time": "2022-10-31T14:44:02.737Z"
   },
   {
    "duration": 4,
    "start_time": "2022-10-31T14:44:02.755Z"
   },
   {
    "duration": 22,
    "start_time": "2022-10-31T14:44:02.760Z"
   },
   {
    "duration": 6,
    "start_time": "2022-10-31T14:44:02.785Z"
   },
   {
    "duration": 20,
    "start_time": "2022-10-31T14:44:02.793Z"
   },
   {
    "duration": 5,
    "start_time": "2022-10-31T14:44:02.834Z"
   },
   {
    "duration": 16,
    "start_time": "2022-10-31T14:44:02.841Z"
   },
   {
    "duration": 35,
    "start_time": "2022-10-31T14:44:02.859Z"
   },
   {
    "duration": 5,
    "start_time": "2022-10-31T14:44:02.896Z"
   },
   {
    "duration": 10,
    "start_time": "2022-10-31T14:44:02.903Z"
   },
   {
    "duration": 14,
    "start_time": "2022-10-31T14:44:02.914Z"
   },
   {
    "duration": 16,
    "start_time": "2022-10-31T14:44:02.929Z"
   },
   {
    "duration": 23,
    "start_time": "2022-10-31T14:45:44.156Z"
   },
   {
    "duration": 24,
    "start_time": "2022-10-31T14:56:57.543Z"
   },
   {
    "duration": 10,
    "start_time": "2022-10-31T14:57:43.025Z"
   },
   {
    "duration": 9,
    "start_time": "2022-10-31T15:06:57.978Z"
   },
   {
    "duration": 4,
    "start_time": "2022-10-31T15:07:04.893Z"
   },
   {
    "duration": 13,
    "start_time": "2022-10-31T15:09:10.417Z"
   },
   {
    "duration": 14,
    "start_time": "2022-10-31T15:26:40.623Z"
   },
   {
    "duration": 8,
    "start_time": "2022-10-31T15:28:36.756Z"
   },
   {
    "duration": 20,
    "start_time": "2022-10-31T15:34:37.989Z"
   },
   {
    "duration": 19,
    "start_time": "2022-10-31T15:37:40.382Z"
   },
   {
    "duration": 4,
    "start_time": "2022-10-31T15:39:21.489Z"
   },
   {
    "duration": 23,
    "start_time": "2022-10-31T15:39:31.811Z"
   },
   {
    "duration": 24,
    "start_time": "2022-10-31T15:41:59.270Z"
   },
   {
    "duration": 24,
    "start_time": "2022-10-31T15:42:17.359Z"
   },
   {
    "duration": 21,
    "start_time": "2022-10-31T15:42:23.371Z"
   },
   {
    "duration": 24,
    "start_time": "2022-10-31T15:43:10.711Z"
   },
   {
    "duration": 56,
    "start_time": "2022-10-31T15:49:51.791Z"
   },
   {
    "duration": 14,
    "start_time": "2022-10-31T15:53:06.394Z"
   },
   {
    "duration": 10,
    "start_time": "2022-10-31T15:53:38.362Z"
   },
   {
    "duration": 18,
    "start_time": "2022-10-31T15:54:31.447Z"
   },
   {
    "duration": 7,
    "start_time": "2022-10-31T15:56:01.153Z"
   },
   {
    "duration": 7,
    "start_time": "2022-10-31T15:56:57.843Z"
   },
   {
    "duration": 25,
    "start_time": "2022-10-31T15:58:06.456Z"
   },
   {
    "duration": 11,
    "start_time": "2022-10-31T15:59:18.145Z"
   },
   {
    "duration": 13,
    "start_time": "2022-10-31T16:00:14.756Z"
   },
   {
    "duration": 10,
    "start_time": "2022-10-31T16:01:53.807Z"
   },
   {
    "duration": 87,
    "start_time": "2022-10-31T16:03:35.352Z"
   },
   {
    "duration": 55,
    "start_time": "2022-10-31T16:04:05.154Z"
   },
   {
    "duration": 206,
    "start_time": "2022-10-31T16:04:12.578Z"
   },
   {
    "duration": 6,
    "start_time": "2022-10-31T16:04:27.188Z"
   },
   {
    "duration": 145,
    "start_time": "2022-10-31T16:05:30.626Z"
   },
   {
    "duration": 6,
    "start_time": "2022-10-31T16:05:38.551Z"
   },
   {
    "duration": 127,
    "start_time": "2022-10-31T16:07:07.639Z"
   },
   {
    "duration": 76,
    "start_time": "2022-10-31T16:07:17.218Z"
   },
   {
    "duration": 6,
    "start_time": "2022-10-31T16:08:21.525Z"
   },
   {
    "duration": 6,
    "start_time": "2022-10-31T16:08:26.531Z"
   },
   {
    "duration": 5,
    "start_time": "2022-10-31T16:08:29.306Z"
   },
   {
    "duration": 6,
    "start_time": "2022-10-31T16:08:38.289Z"
   },
   {
    "duration": 5,
    "start_time": "2022-10-31T16:08:41.385Z"
   },
   {
    "duration": 14,
    "start_time": "2022-10-31T16:14:07.554Z"
   },
   {
    "duration": 16,
    "start_time": "2022-10-31T16:15:20.027Z"
   },
   {
    "duration": 15,
    "start_time": "2022-10-31T16:25:42.314Z"
   },
   {
    "duration": 10,
    "start_time": "2022-10-31T16:25:48.955Z"
   },
   {
    "duration": 21,
    "start_time": "2022-10-31T16:25:50.305Z"
   },
   {
    "duration": 6,
    "start_time": "2022-10-31T16:28:09.857Z"
   },
   {
    "duration": 11,
    "start_time": "2022-10-31T16:34:21.052Z"
   },
   {
    "duration": 24,
    "start_time": "2022-10-31T16:42:16.697Z"
   },
   {
    "duration": 32,
    "start_time": "2022-10-31T16:47:31.550Z"
   },
   {
    "duration": 14,
    "start_time": "2022-10-31T16:52:55.657Z"
   },
   {
    "duration": 20,
    "start_time": "2022-10-31T16:59:55.606Z"
   },
   {
    "duration": 27,
    "start_time": "2022-10-31T17:00:10.155Z"
   },
   {
    "duration": 14,
    "start_time": "2022-10-31T17:09:05.188Z"
   },
   {
    "duration": 11,
    "start_time": "2022-10-31T17:10:45.848Z"
   },
   {
    "duration": 7,
    "start_time": "2022-10-31T17:11:22.034Z"
   },
   {
    "duration": 23,
    "start_time": "2022-10-31T17:12:01.744Z"
   },
   {
    "duration": 6,
    "start_time": "2022-10-31T17:16:37.287Z"
   },
   {
    "duration": 6,
    "start_time": "2022-10-31T17:16:52.902Z"
   },
   {
    "duration": 3,
    "start_time": "2022-10-31T17:17:02.250Z"
   },
   {
    "duration": 109,
    "start_time": "2022-10-31T17:17:02.258Z"
   },
   {
    "duration": 20,
    "start_time": "2022-10-31T17:17:02.370Z"
   },
   {
    "duration": 80,
    "start_time": "2022-10-31T17:17:02.391Z"
   },
   {
    "duration": 21,
    "start_time": "2022-10-31T17:17:02.473Z"
   },
   {
    "duration": 8,
    "start_time": "2022-10-31T17:17:02.497Z"
   },
   {
    "duration": 33,
    "start_time": "2022-10-31T17:17:02.507Z"
   },
   {
    "duration": 18,
    "start_time": "2022-10-31T17:17:02.542Z"
   },
   {
    "duration": 10,
    "start_time": "2022-10-31T17:17:02.562Z"
   },
   {
    "duration": 21,
    "start_time": "2022-10-31T17:17:02.574Z"
   },
   {
    "duration": 9,
    "start_time": "2022-10-31T17:17:02.597Z"
   },
   {
    "duration": 75,
    "start_time": "2022-10-31T17:17:02.607Z"
   },
   {
    "duration": 19,
    "start_time": "2022-10-31T17:17:02.684Z"
   },
   {
    "duration": 43,
    "start_time": "2022-10-31T17:17:02.705Z"
   },
   {
    "duration": 5,
    "start_time": "2022-10-31T17:17:02.752Z"
   },
   {
    "duration": 49,
    "start_time": "2022-10-31T17:17:02.758Z"
   },
   {
    "duration": 57,
    "start_time": "2022-10-31T17:17:02.809Z"
   },
   {
    "duration": 10,
    "start_time": "2022-10-31T17:17:02.868Z"
   },
   {
    "duration": 28,
    "start_time": "2022-10-31T17:17:02.880Z"
   },
   {
    "duration": 48,
    "start_time": "2022-10-31T17:17:02.910Z"
   },
   {
    "duration": 11,
    "start_time": "2022-10-31T17:17:02.961Z"
   },
   {
    "duration": 30,
    "start_time": "2022-10-31T17:17:02.973Z"
   },
   {
    "duration": 39,
    "start_time": "2022-10-31T17:17:03.005Z"
   },
   {
    "duration": 23,
    "start_time": "2022-10-31T17:17:03.046Z"
   },
   {
    "duration": 14,
    "start_time": "2022-10-31T17:17:03.071Z"
   },
   {
    "duration": 15,
    "start_time": "2022-10-31T17:17:03.087Z"
   },
   {
    "duration": 40,
    "start_time": "2022-10-31T17:17:03.104Z"
   },
   {
    "duration": 6,
    "start_time": "2022-10-31T17:17:03.146Z"
   },
   {
    "duration": 11,
    "start_time": "2022-10-31T17:17:03.154Z"
   },
   {
    "duration": 11,
    "start_time": "2022-10-31T17:17:03.166Z"
   },
   {
    "duration": 29,
    "start_time": "2022-10-31T17:17:03.179Z"
   },
   {
    "duration": 23,
    "start_time": "2022-10-31T17:17:03.210Z"
   },
   {
    "duration": 7,
    "start_time": "2022-10-31T17:17:03.235Z"
   },
   {
    "duration": 12,
    "start_time": "2022-10-31T17:17:03.243Z"
   },
   {
    "duration": 19,
    "start_time": "2022-10-31T17:17:03.257Z"
   },
   {
    "duration": 24,
    "start_time": "2022-10-31T17:17:03.277Z"
   },
   {
    "duration": 32,
    "start_time": "2022-10-31T17:17:03.303Z"
   },
   {
    "duration": 5,
    "start_time": "2022-10-31T17:17:03.337Z"
   },
   {
    "duration": 14,
    "start_time": "2022-10-31T17:17:16.128Z"
   },
   {
    "duration": 21,
    "start_time": "2022-10-31T17:21:00.950Z"
   },
   {
    "duration": 11,
    "start_time": "2022-10-31T17:21:25.140Z"
   },
   {
    "duration": 20,
    "start_time": "2022-10-31T17:22:13.868Z"
   },
   {
    "duration": 11,
    "start_time": "2022-10-31T17:23:30.478Z"
   },
   {
    "duration": 11,
    "start_time": "2022-10-31T17:26:15.506Z"
   },
   {
    "duration": 15,
    "start_time": "2022-10-31T17:26:34.906Z"
   },
   {
    "duration": 5,
    "start_time": "2022-10-31T17:31:01.406Z"
   },
   {
    "duration": 16,
    "start_time": "2022-10-31T17:31:10.076Z"
   },
   {
    "duration": 14,
    "start_time": "2022-10-31T17:32:20.029Z"
   },
   {
    "duration": 51,
    "start_time": "2022-10-31T17:32:50.248Z"
   },
   {
    "duration": 406,
    "start_time": "2022-11-01T13:12:27.504Z"
   },
   {
    "duration": 185,
    "start_time": "2022-11-01T13:12:27.912Z"
   },
   {
    "duration": 13,
    "start_time": "2022-11-01T13:12:28.098Z"
   },
   {
    "duration": 20,
    "start_time": "2022-11-01T13:12:28.113Z"
   },
   {
    "duration": 14,
    "start_time": "2022-11-01T13:12:28.135Z"
   },
   {
    "duration": 4,
    "start_time": "2022-11-01T13:12:28.150Z"
   },
   {
    "duration": 25,
    "start_time": "2022-11-01T13:12:28.155Z"
   },
   {
    "duration": 13,
    "start_time": "2022-11-01T13:12:28.181Z"
   },
   {
    "duration": 6,
    "start_time": "2022-11-01T13:12:28.196Z"
   },
   {
    "duration": 14,
    "start_time": "2022-11-01T13:12:28.205Z"
   },
   {
    "duration": 5,
    "start_time": "2022-11-01T13:12:28.220Z"
   },
   {
    "duration": 17,
    "start_time": "2022-11-01T13:12:28.226Z"
   },
   {
    "duration": 37,
    "start_time": "2022-11-01T13:12:28.245Z"
   },
   {
    "duration": 17,
    "start_time": "2022-11-01T13:12:28.284Z"
   },
   {
    "duration": 4,
    "start_time": "2022-11-01T13:12:28.302Z"
   },
   {
    "duration": 8,
    "start_time": "2022-11-01T13:12:28.308Z"
   },
   {
    "duration": 21,
    "start_time": "2022-11-01T13:12:28.317Z"
   },
   {
    "duration": 4,
    "start_time": "2022-11-01T13:12:28.340Z"
   },
   {
    "duration": 9,
    "start_time": "2022-11-01T13:12:28.345Z"
   },
   {
    "duration": 39,
    "start_time": "2022-11-01T13:12:28.355Z"
   },
   {
    "duration": 7,
    "start_time": "2022-11-01T13:12:28.395Z"
   },
   {
    "duration": 19,
    "start_time": "2022-11-01T13:12:28.404Z"
   },
   {
    "duration": 17,
    "start_time": "2022-11-01T13:12:28.424Z"
   },
   {
    "duration": 45,
    "start_time": "2022-11-01T13:12:28.443Z"
   },
   {
    "duration": 10,
    "start_time": "2022-11-01T13:12:28.489Z"
   },
   {
    "duration": 4,
    "start_time": "2022-11-01T13:12:28.501Z"
   },
   {
    "duration": 11,
    "start_time": "2022-11-01T13:12:28.506Z"
   },
   {
    "duration": 5,
    "start_time": "2022-11-01T13:12:28.520Z"
   },
   {
    "duration": 7,
    "start_time": "2022-11-01T13:12:28.527Z"
   },
   {
    "duration": 12,
    "start_time": "2022-11-01T13:12:28.535Z"
   },
   {
    "duration": 29,
    "start_time": "2022-11-01T13:12:28.549Z"
   },
   {
    "duration": 13,
    "start_time": "2022-11-01T13:12:28.579Z"
   },
   {
    "duration": 7,
    "start_time": "2022-11-01T13:12:28.593Z"
   },
   {
    "duration": 18,
    "start_time": "2022-11-01T13:12:28.601Z"
   },
   {
    "duration": 14,
    "start_time": "2022-11-01T13:12:28.621Z"
   },
   {
    "duration": 22,
    "start_time": "2022-11-01T13:12:28.636Z"
   },
   {
    "duration": 5,
    "start_time": "2022-11-01T13:12:28.659Z"
   },
   {
    "duration": 27,
    "start_time": "2022-11-01T13:12:28.665Z"
   },
   {
    "duration": 4,
    "start_time": "2022-11-01T13:12:28.694Z"
   },
   {
    "duration": 19,
    "start_time": "2022-11-01T13:12:28.699Z"
   },
   {
    "duration": 12,
    "start_time": "2022-11-01T13:12:28.720Z"
   },
   {
    "duration": 13,
    "start_time": "2022-11-01T13:12:36.082Z"
   },
   {
    "duration": 6,
    "start_time": "2022-11-01T13:15:32.951Z"
   },
   {
    "duration": 534,
    "start_time": "2022-11-01T13:15:52.310Z"
   },
   {
    "duration": 4,
    "start_time": "2022-11-01T13:16:47.893Z"
   },
   {
    "duration": 469,
    "start_time": "2022-11-01T13:16:59.784Z"
   },
   {
    "duration": 100,
    "start_time": "2022-11-01T13:19:26.589Z"
   },
   {
    "duration": 954,
    "start_time": "2022-11-01T13:19:55.984Z"
   },
   {
    "duration": 126,
    "start_time": "2022-11-01T13:21:00.728Z"
   },
   {
    "duration": 134,
    "start_time": "2022-11-01T13:21:27.590Z"
   },
   {
    "duration": 127,
    "start_time": "2022-11-01T13:22:18.953Z"
   },
   {
    "duration": 166,
    "start_time": "2022-11-01T13:22:50.050Z"
   },
   {
    "duration": 165,
    "start_time": "2022-11-01T13:22:54.650Z"
   },
   {
    "duration": 205,
    "start_time": "2022-11-01T13:22:59.940Z"
   },
   {
    "duration": 156,
    "start_time": "2022-11-01T13:23:03.940Z"
   },
   {
    "duration": 148,
    "start_time": "2022-11-01T13:23:09.023Z"
   },
   {
    "duration": 161,
    "start_time": "2022-11-01T13:23:19.942Z"
   },
   {
    "duration": 174,
    "start_time": "2022-11-01T13:23:52.605Z"
   },
   {
    "duration": 285,
    "start_time": "2022-11-01T13:24:38.464Z"
   },
   {
    "duration": 266,
    "start_time": "2022-11-01T13:25:05.407Z"
   },
   {
    "duration": 286,
    "start_time": "2022-11-01T13:26:03.902Z"
   },
   {
    "duration": 343,
    "start_time": "2022-11-01T13:28:59.622Z"
   },
   {
    "duration": 291,
    "start_time": "2022-11-01T13:31:52.713Z"
   },
   {
    "duration": 274,
    "start_time": "2022-11-01T13:32:35.471Z"
   },
   {
    "duration": 13,
    "start_time": "2022-11-01T13:33:00.799Z"
   },
   {
    "duration": 15,
    "start_time": "2022-11-01T13:33:08.015Z"
   },
   {
    "duration": 281,
    "start_time": "2022-11-01T13:33:40.383Z"
   },
   {
    "duration": 124,
    "start_time": "2022-11-01T13:34:04.350Z"
   },
   {
    "duration": 306,
    "start_time": "2022-11-01T13:38:43.912Z"
   },
   {
    "duration": 378,
    "start_time": "2022-11-01T13:39:20.726Z"
   },
   {
    "duration": 3148,
    "start_time": "2022-11-01T13:57:00.624Z"
   },
   {
    "duration": 3,
    "start_time": "2022-11-01T13:58:10.274Z"
   },
   {
    "duration": 10,
    "start_time": "2022-11-01T13:58:19.540Z"
   },
   {
    "duration": 19,
    "start_time": "2022-11-01T13:59:58.180Z"
   },
   {
    "duration": 76,
    "start_time": "2022-11-01T14:01:45.668Z"
   },
   {
    "duration": 53,
    "start_time": "2022-11-01T14:01:52.248Z"
   },
   {
    "duration": 47,
    "start_time": "2022-11-01T14:04:27.490Z"
   },
   {
    "duration": 27,
    "start_time": "2022-11-01T14:07:50.735Z"
   },
   {
    "duration": 73,
    "start_time": "2022-11-01T14:07:56.528Z"
   },
   {
    "duration": 27,
    "start_time": "2022-11-01T14:08:00.507Z"
   },
   {
    "duration": 26,
    "start_time": "2022-11-01T14:08:08.745Z"
   },
   {
    "duration": 41,
    "start_time": "2022-11-01T14:10:07.732Z"
   },
   {
    "duration": 45,
    "start_time": "2022-11-01T14:38:19.600Z"
   },
   {
    "duration": 52,
    "start_time": "2022-11-01T14:39:36.195Z"
   },
   {
    "duration": 55,
    "start_time": "2022-11-01T14:39:44.128Z"
   },
   {
    "duration": 2,
    "start_time": "2022-11-01T15:24:28.805Z"
   },
   {
    "duration": 13,
    "start_time": "2022-11-01T15:30:39.361Z"
   },
   {
    "duration": 22,
    "start_time": "2022-11-01T15:31:13.248Z"
   },
   {
    "duration": 11,
    "start_time": "2022-11-01T15:33:49.370Z"
   },
   {
    "duration": 3,
    "start_time": "2022-11-01T15:37:16.161Z"
   },
   {
    "duration": 14,
    "start_time": "2022-11-01T15:37:39.685Z"
   },
   {
    "duration": 13,
    "start_time": "2022-11-01T15:37:46.031Z"
   },
   {
    "duration": 19,
    "start_time": "2022-11-01T15:37:49.749Z"
   },
   {
    "duration": 12,
    "start_time": "2022-11-01T15:37:57.544Z"
   },
   {
    "duration": 12,
    "start_time": "2022-11-01T15:39:48.036Z"
   },
   {
    "duration": 15,
    "start_time": "2022-11-01T15:41:24.173Z"
   },
   {
    "duration": 12,
    "start_time": "2022-11-01T15:43:04.015Z"
   },
   {
    "duration": 4,
    "start_time": "2022-11-01T15:45:32.480Z"
   },
   {
    "duration": 15,
    "start_time": "2022-11-01T15:45:41.885Z"
   },
   {
    "duration": 5,
    "start_time": "2022-11-01T15:46:08.386Z"
   },
   {
    "duration": 14,
    "start_time": "2022-11-01T15:46:15.496Z"
   },
   {
    "duration": 13,
    "start_time": "2022-11-01T15:46:42.016Z"
   },
   {
    "duration": 5,
    "start_time": "2022-11-01T15:46:50.048Z"
   },
   {
    "duration": 2,
    "start_time": "2022-11-01T15:48:49.656Z"
   },
   {
    "duration": 51,
    "start_time": "2022-11-01T15:48:49.667Z"
   },
   {
    "duration": 12,
    "start_time": "2022-11-01T15:48:49.719Z"
   },
   {
    "duration": 23,
    "start_time": "2022-11-01T15:48:49.733Z"
   },
   {
    "duration": 31,
    "start_time": "2022-11-01T15:48:49.758Z"
   },
   {
    "duration": 4,
    "start_time": "2022-11-01T15:48:49.791Z"
   },
   {
    "duration": 23,
    "start_time": "2022-11-01T15:48:49.797Z"
   },
   {
    "duration": 16,
    "start_time": "2022-11-01T15:48:49.821Z"
   },
   {
    "duration": 11,
    "start_time": "2022-11-01T15:48:49.839Z"
   },
   {
    "duration": 18,
    "start_time": "2022-11-01T15:48:49.852Z"
   },
   {
    "duration": 7,
    "start_time": "2022-11-01T15:48:49.871Z"
   },
   {
    "duration": 32,
    "start_time": "2022-11-01T15:48:49.879Z"
   },
   {
    "duration": 9,
    "start_time": "2022-11-01T15:48:49.913Z"
   },
   {
    "duration": 16,
    "start_time": "2022-11-01T15:48:49.923Z"
   },
   {
    "duration": 4,
    "start_time": "2022-11-01T15:48:49.942Z"
   },
   {
    "duration": 6,
    "start_time": "2022-11-01T15:48:49.947Z"
   },
   {
    "duration": 92,
    "start_time": "2022-11-01T15:48:49.954Z"
   },
   {
    "duration": 5,
    "start_time": "2022-11-01T15:48:50.047Z"
   },
   {
    "duration": 12,
    "start_time": "2022-11-01T15:48:50.053Z"
   },
   {
    "duration": 1599,
    "start_time": "2022-11-01T15:48:50.066Z"
   },
   {
    "duration": 15,
    "start_time": "2022-11-01T15:48:51.666Z"
   },
   {
    "duration": 120,
    "start_time": "2022-11-01T15:48:51.682Z"
   },
   {
    "duration": 1144,
    "start_time": "2022-11-01T15:48:51.803Z"
   },
   {
    "duration": 444,
    "start_time": "2022-11-01T15:48:52.949Z"
   },
   {
    "duration": 11,
    "start_time": "2022-11-01T15:48:53.395Z"
   },
   {
    "duration": 6,
    "start_time": "2022-11-01T15:48:53.407Z"
   },
   {
    "duration": 14,
    "start_time": "2022-11-01T15:48:53.414Z"
   },
   {
    "duration": 4,
    "start_time": "2022-11-01T15:48:53.429Z"
   },
   {
    "duration": 7,
    "start_time": "2022-11-01T15:48:53.434Z"
   },
   {
    "duration": 37,
    "start_time": "2022-11-01T15:48:53.443Z"
   },
   {
    "duration": 7,
    "start_time": "2022-11-01T15:48:53.481Z"
   },
   {
    "duration": 13,
    "start_time": "2022-11-01T15:48:53.490Z"
   },
   {
    "duration": 5,
    "start_time": "2022-11-01T15:48:53.504Z"
   },
   {
    "duration": 5,
    "start_time": "2022-11-01T15:48:53.511Z"
   },
   {
    "duration": 9,
    "start_time": "2022-11-01T15:48:53.518Z"
   },
   {
    "duration": 676,
    "start_time": "2022-11-01T15:48:53.529Z"
   },
   {
    "duration": 4,
    "start_time": "2022-11-01T15:48:54.207Z"
   },
   {
    "duration": 11,
    "start_time": "2022-11-01T15:48:54.212Z"
   },
   {
    "duration": 7,
    "start_time": "2022-11-01T15:48:54.224Z"
   },
   {
    "duration": 17,
    "start_time": "2022-11-01T15:48:54.232Z"
   },
   {
    "duration": 29,
    "start_time": "2022-11-01T15:48:54.250Z"
   },
   {
    "duration": 5,
    "start_time": "2022-11-01T15:48:54.280Z"
   },
   {
    "duration": 276,
    "start_time": "2022-11-01T15:48:54.286Z"
   },
   {
    "duration": 372,
    "start_time": "2022-11-01T15:48:54.563Z"
   },
   {
    "duration": 62,
    "start_time": "2022-11-01T15:48:54.937Z"
   },
   {
    "duration": 2,
    "start_time": "2022-11-01T15:48:55.001Z"
   },
   {
    "duration": 13,
    "start_time": "2022-11-01T15:55:13.574Z"
   },
   {
    "duration": 14,
    "start_time": "2022-11-01T15:57:01.198Z"
   },
   {
    "duration": 5,
    "start_time": "2022-11-01T15:57:18.221Z"
   },
   {
    "duration": 13,
    "start_time": "2022-11-01T15:57:34.524Z"
   },
   {
    "duration": 10,
    "start_time": "2022-11-01T16:32:23.961Z"
   },
   {
    "duration": 90,
    "start_time": "2022-11-01T16:33:14.659Z"
   },
   {
    "duration": 76,
    "start_time": "2022-11-01T16:33:25.187Z"
   },
   {
    "duration": 76,
    "start_time": "2022-11-01T16:33:42.567Z"
   },
   {
    "duration": 928,
    "start_time": "2022-11-01T16:33:47.602Z"
   },
   {
    "duration": 13,
    "start_time": "2022-11-01T16:34:04.065Z"
   },
   {
    "duration": 1539,
    "start_time": "2022-11-01T16:40:04.325Z"
   },
   {
    "duration": 2,
    "start_time": "2022-11-01T16:41:30.695Z"
   },
   {
    "duration": 53,
    "start_time": "2022-11-01T16:41:30.719Z"
   },
   {
    "duration": 13,
    "start_time": "2022-11-01T16:41:30.773Z"
   },
   {
    "duration": 28,
    "start_time": "2022-11-01T16:41:30.787Z"
   },
   {
    "duration": 35,
    "start_time": "2022-11-01T16:41:30.816Z"
   },
   {
    "duration": 12,
    "start_time": "2022-11-01T16:41:30.853Z"
   },
   {
    "duration": 37,
    "start_time": "2022-11-01T16:41:30.867Z"
   },
   {
    "duration": 20,
    "start_time": "2022-11-01T16:41:30.906Z"
   },
   {
    "duration": 24,
    "start_time": "2022-11-01T16:41:30.927Z"
   },
   {
    "duration": 27,
    "start_time": "2022-11-01T16:41:30.953Z"
   },
   {
    "duration": 6,
    "start_time": "2022-11-01T16:41:30.981Z"
   },
   {
    "duration": 19,
    "start_time": "2022-11-01T16:41:30.989Z"
   },
   {
    "duration": 5,
    "start_time": "2022-11-01T16:41:31.009Z"
   },
   {
    "duration": 20,
    "start_time": "2022-11-01T16:41:31.016Z"
   },
   {
    "duration": 6,
    "start_time": "2022-11-01T16:41:31.037Z"
   },
   {
    "duration": 15,
    "start_time": "2022-11-01T16:41:31.044Z"
   },
   {
    "duration": 102,
    "start_time": "2022-11-01T16:41:31.061Z"
   },
   {
    "duration": 12,
    "start_time": "2022-11-01T16:41:31.165Z"
   },
   {
    "duration": 10,
    "start_time": "2022-11-01T16:41:31.178Z"
   },
   {
    "duration": 1652,
    "start_time": "2022-11-01T16:41:31.334Z"
   },
   {
    "duration": 9,
    "start_time": "2022-11-01T16:41:32.988Z"
   },
   {
    "duration": 117,
    "start_time": "2022-11-01T16:41:32.998Z"
   },
   {
    "duration": 1114,
    "start_time": "2022-11-01T16:41:33.117Z"
   },
   {
    "duration": 462,
    "start_time": "2022-11-01T16:41:34.233Z"
   },
   {
    "duration": 16,
    "start_time": "2022-11-01T16:41:34.697Z"
   },
   {
    "duration": 6,
    "start_time": "2022-11-01T16:41:34.715Z"
   },
   {
    "duration": 12,
    "start_time": "2022-11-01T16:41:34.723Z"
   },
   {
    "duration": 6,
    "start_time": "2022-11-01T16:41:34.777Z"
   },
   {
    "duration": 11,
    "start_time": "2022-11-01T16:41:34.786Z"
   },
   {
    "duration": 5,
    "start_time": "2022-11-01T16:41:34.799Z"
   },
   {
    "duration": 6,
    "start_time": "2022-11-01T16:41:34.805Z"
   },
   {
    "duration": 14,
    "start_time": "2022-11-01T16:41:34.813Z"
   },
   {
    "duration": 7,
    "start_time": "2022-11-01T16:41:34.829Z"
   },
   {
    "duration": 7,
    "start_time": "2022-11-01T16:41:34.837Z"
   },
   {
    "duration": 38,
    "start_time": "2022-11-01T16:41:34.845Z"
   },
   {
    "duration": 670,
    "start_time": "2022-11-01T16:41:34.885Z"
   },
   {
    "duration": 4,
    "start_time": "2022-11-01T16:41:35.557Z"
   },
   {
    "duration": 17,
    "start_time": "2022-11-01T16:41:35.563Z"
   },
   {
    "duration": 7,
    "start_time": "2022-11-01T16:41:35.582Z"
   },
   {
    "duration": 14,
    "start_time": "2022-11-01T16:41:35.590Z"
   },
   {
    "duration": 4,
    "start_time": "2022-11-01T16:41:35.606Z"
   },
   {
    "duration": 4,
    "start_time": "2022-11-01T16:41:35.611Z"
   },
   {
    "duration": 319,
    "start_time": "2022-11-01T16:41:35.617Z"
   },
   {
    "duration": 295,
    "start_time": "2022-11-01T16:41:35.938Z"
   },
   {
    "duration": 59,
    "start_time": "2022-11-01T16:41:36.235Z"
   },
   {
    "duration": 5,
    "start_time": "2022-11-01T16:41:36.296Z"
   },
   {
    "duration": 83,
    "start_time": "2022-11-01T16:46:10.311Z"
   },
   {
    "duration": 78,
    "start_time": "2022-11-01T16:46:17.369Z"
   },
   {
    "duration": 13,
    "start_time": "2022-11-01T16:46:24.876Z"
   },
   {
    "duration": 1394,
    "start_time": "2022-11-01T16:46:37.136Z"
   },
   {
    "duration": 1488,
    "start_time": "2022-11-01T16:47:20.792Z"
   },
   {
    "duration": 1333,
    "start_time": "2022-11-01T16:47:53.668Z"
   },
   {
    "duration": 1330,
    "start_time": "2022-11-01T16:48:04.049Z"
   },
   {
    "duration": 1414,
    "start_time": "2022-11-01T16:48:12.440Z"
   },
   {
    "duration": 1424,
    "start_time": "2022-11-01T16:48:36.055Z"
   },
   {
    "duration": 326,
    "start_time": "2022-11-01T16:50:17.774Z"
   },
   {
    "duration": 257,
    "start_time": "2022-11-01T16:51:51.234Z"
   },
   {
    "duration": 22,
    "start_time": "2022-11-01T16:52:32.328Z"
   },
   {
    "duration": 280,
    "start_time": "2022-11-01T16:55:37.505Z"
   },
   {
    "duration": 339,
    "start_time": "2022-11-01T16:58:07.616Z"
   },
   {
    "duration": 23,
    "start_time": "2022-11-01T17:00:03.016Z"
   },
   {
    "duration": 275,
    "start_time": "2022-11-01T17:00:03.659Z"
   },
   {
    "duration": 337,
    "start_time": "2022-11-01T17:06:51.520Z"
   },
   {
    "duration": 1594,
    "start_time": "2022-11-01T17:36:17.678Z"
   },
   {
    "duration": 1115,
    "start_time": "2022-11-01T17:58:33.638Z"
   },
   {
    "duration": 1140,
    "start_time": "2022-11-01T17:59:24.616Z"
   },
   {
    "duration": 1148,
    "start_time": "2022-11-01T18:00:15.062Z"
   },
   {
    "duration": 1138,
    "start_time": "2022-11-01T18:00:33.053Z"
   },
   {
    "duration": 129,
    "start_time": "2022-11-01T18:00:48.939Z"
   },
   {
    "duration": 170,
    "start_time": "2022-11-01T18:02:47.668Z"
   },
   {
    "duration": 220,
    "start_time": "2022-11-01T18:02:55.733Z"
   },
   {
    "duration": 130,
    "start_time": "2022-11-01T18:03:01.382Z"
   },
   {
    "duration": 145,
    "start_time": "2022-11-01T18:05:05.889Z"
   },
   {
    "duration": 150,
    "start_time": "2022-11-01T18:06:36.595Z"
   },
   {
    "duration": 151,
    "start_time": "2022-11-01T18:08:20.296Z"
   },
   {
    "duration": 12,
    "start_time": "2022-11-01T18:12:01.059Z"
   },
   {
    "duration": 147,
    "start_time": "2022-11-01T18:14:16.712Z"
   },
   {
    "duration": 157,
    "start_time": "2022-11-01T18:14:29.702Z"
   },
   {
    "duration": 8,
    "start_time": "2022-11-01T18:16:04.223Z"
   },
   {
    "duration": 6,
    "start_time": "2022-11-01T18:18:54.312Z"
   },
   {
    "duration": 2,
    "start_time": "2022-11-01T18:18:58.574Z"
   },
   {
    "duration": 48,
    "start_time": "2022-11-01T18:18:58.584Z"
   },
   {
    "duration": 12,
    "start_time": "2022-11-01T18:18:58.634Z"
   },
   {
    "duration": 34,
    "start_time": "2022-11-01T18:18:58.648Z"
   },
   {
    "duration": 23,
    "start_time": "2022-11-01T18:18:58.684Z"
   },
   {
    "duration": 16,
    "start_time": "2022-11-01T18:18:58.709Z"
   },
   {
    "duration": 26,
    "start_time": "2022-11-01T18:18:58.727Z"
   },
   {
    "duration": 40,
    "start_time": "2022-11-01T18:18:58.755Z"
   },
   {
    "duration": 33,
    "start_time": "2022-11-01T18:18:58.797Z"
   },
   {
    "duration": 38,
    "start_time": "2022-11-01T18:18:58.832Z"
   },
   {
    "duration": 31,
    "start_time": "2022-11-01T18:18:58.872Z"
   },
   {
    "duration": 34,
    "start_time": "2022-11-01T18:18:58.904Z"
   },
   {
    "duration": 28,
    "start_time": "2022-11-01T18:18:58.939Z"
   },
   {
    "duration": 21,
    "start_time": "2022-11-01T18:18:58.968Z"
   },
   {
    "duration": 3,
    "start_time": "2022-11-01T18:18:58.991Z"
   },
   {
    "duration": 11,
    "start_time": "2022-11-01T18:18:58.996Z"
   },
   {
    "duration": 115,
    "start_time": "2022-11-01T18:18:59.009Z"
   },
   {
    "duration": 5,
    "start_time": "2022-11-01T18:18:59.125Z"
   },
   {
    "duration": 25,
    "start_time": "2022-11-01T18:18:59.131Z"
   },
   {
    "duration": 1622,
    "start_time": "2022-11-01T18:18:59.160Z"
   },
   {
    "duration": 9,
    "start_time": "2022-11-01T18:19:00.785Z"
   },
   {
    "duration": 131,
    "start_time": "2022-11-01T18:19:00.796Z"
   },
   {
    "duration": 1104,
    "start_time": "2022-11-01T18:19:00.930Z"
   },
   {
    "duration": 482,
    "start_time": "2022-11-01T18:19:02.036Z"
   },
   {
    "duration": 11,
    "start_time": "2022-11-01T18:19:02.519Z"
   },
   {
    "duration": 25,
    "start_time": "2022-11-01T18:19:02.532Z"
   },
   {
    "duration": 37,
    "start_time": "2022-11-01T18:19:02.558Z"
   },
   {
    "duration": 21,
    "start_time": "2022-11-01T18:19:02.597Z"
   },
   {
    "duration": 43,
    "start_time": "2022-11-01T18:19:02.621Z"
   },
   {
    "duration": 35,
    "start_time": "2022-11-01T18:19:02.666Z"
   },
   {
    "duration": 45,
    "start_time": "2022-11-01T18:19:02.703Z"
   },
   {
    "duration": 72,
    "start_time": "2022-11-01T18:19:02.751Z"
   },
   {
    "duration": 47,
    "start_time": "2022-11-01T18:19:02.825Z"
   },
   {
    "duration": 27,
    "start_time": "2022-11-01T18:19:02.873Z"
   },
   {
    "duration": 39,
    "start_time": "2022-11-01T18:19:02.902Z"
   },
   {
    "duration": 681,
    "start_time": "2022-11-01T18:19:02.944Z"
   },
   {
    "duration": 5,
    "start_time": "2022-11-01T18:19:03.627Z"
   },
   {
    "duration": 168,
    "start_time": "2022-11-01T18:19:03.634Z"
   },
   {
    "duration": 14,
    "start_time": "2022-11-01T18:19:03.804Z"
   },
   {
    "duration": 35,
    "start_time": "2022-11-01T18:19:03.820Z"
   },
   {
    "duration": 13,
    "start_time": "2022-11-01T18:19:03.856Z"
   },
   {
    "duration": 31,
    "start_time": "2022-11-01T18:19:03.870Z"
   },
   {
    "duration": 305,
    "start_time": "2022-11-01T18:19:03.903Z"
   },
   {
    "duration": 307,
    "start_time": "2022-11-01T18:19:04.210Z"
   },
   {
    "duration": 59,
    "start_time": "2022-11-01T18:19:04.519Z"
   },
   {
    "duration": 6,
    "start_time": "2022-11-01T18:19:04.580Z"
   },
   {
    "duration": 30,
    "start_time": "2022-11-01T18:19:04.589Z"
   },
   {
    "duration": 359,
    "start_time": "2022-11-01T18:19:04.621Z"
   },
   {
    "duration": 162,
    "start_time": "2022-11-01T18:19:04.981Z"
   },
   {
    "duration": 160,
    "start_time": "2022-11-01T18:19:05.145Z"
   },
   {
    "duration": 7,
    "start_time": "2022-11-01T18:19:05.307Z"
   },
   {
    "duration": 262,
    "start_time": "2022-11-01T18:21:55.738Z"
   },
   {
    "duration": 157,
    "start_time": "2022-11-01T18:25:34.994Z"
   },
   {
    "duration": 14,
    "start_time": "2022-11-01T18:25:45.785Z"
   },
   {
    "duration": 14,
    "start_time": "2022-11-01T18:26:18.441Z"
   },
   {
    "duration": 12,
    "start_time": "2022-11-01T18:27:34.041Z"
   },
   {
    "duration": 8,
    "start_time": "2022-11-01T18:28:01.660Z"
   },
   {
    "duration": 8,
    "start_time": "2022-11-01T18:28:11.763Z"
   },
   {
    "duration": 151,
    "start_time": "2022-11-01T18:28:51.011Z"
   },
   {
    "duration": 193,
    "start_time": "2022-11-01T18:30:17.709Z"
   },
   {
    "duration": 139,
    "start_time": "2022-11-01T18:30:33.598Z"
   },
   {
    "duration": 10,
    "start_time": "2022-11-01T18:31:02.814Z"
   },
   {
    "duration": 6,
    "start_time": "2022-11-01T18:31:22.465Z"
   },
   {
    "duration": 5,
    "start_time": "2022-11-01T18:31:32.357Z"
   },
   {
    "duration": 6,
    "start_time": "2022-11-01T18:31:48.431Z"
   },
   {
    "duration": 141,
    "start_time": "2022-11-01T18:33:53.261Z"
   },
   {
    "duration": 150,
    "start_time": "2022-11-01T18:36:21.193Z"
   },
   {
    "duration": 6,
    "start_time": "2022-11-01T18:37:19.912Z"
   },
   {
    "duration": 6,
    "start_time": "2022-11-01T18:38:49.545Z"
   },
   {
    "duration": 15,
    "start_time": "2022-11-01T18:45:30.712Z"
   },
   {
    "duration": 22,
    "start_time": "2022-11-01T18:45:45.869Z"
   },
   {
    "duration": 13,
    "start_time": "2022-11-01T18:46:46.103Z"
   },
   {
    "duration": 242,
    "start_time": "2022-11-01T18:47:44.546Z"
   },
   {
    "duration": 232,
    "start_time": "2022-11-01T18:48:38.633Z"
   },
   {
    "duration": 16,
    "start_time": "2022-11-01T18:57:27.211Z"
   },
   {
    "duration": 9,
    "start_time": "2022-11-01T18:57:30.421Z"
   },
   {
    "duration": 6,
    "start_time": "2022-11-01T18:57:48.084Z"
   },
   {
    "duration": 1262,
    "start_time": "2022-11-02T10:00:29.677Z"
   },
   {
    "duration": 88,
    "start_time": "2022-11-02T10:00:30.941Z"
   },
   {
    "duration": 14,
    "start_time": "2022-11-02T10:00:31.031Z"
   },
   {
    "duration": 43,
    "start_time": "2022-11-02T10:00:31.047Z"
   },
   {
    "duration": 27,
    "start_time": "2022-11-02T10:00:31.092Z"
   },
   {
    "duration": 27,
    "start_time": "2022-11-02T10:00:31.120Z"
   },
   {
    "duration": 41,
    "start_time": "2022-11-02T10:00:31.148Z"
   },
   {
    "duration": 34,
    "start_time": "2022-11-02T10:00:31.191Z"
   },
   {
    "duration": 51,
    "start_time": "2022-11-02T10:00:31.227Z"
   },
   {
    "duration": 33,
    "start_time": "2022-11-02T10:00:31.282Z"
   },
   {
    "duration": 23,
    "start_time": "2022-11-02T10:00:31.317Z"
   },
   {
    "duration": 45,
    "start_time": "2022-11-02T10:00:31.341Z"
   },
   {
    "duration": 22,
    "start_time": "2022-11-02T10:00:31.388Z"
   },
   {
    "duration": 40,
    "start_time": "2022-11-02T10:00:31.411Z"
   },
   {
    "duration": 14,
    "start_time": "2022-11-02T10:00:31.452Z"
   },
   {
    "duration": 39,
    "start_time": "2022-11-02T10:00:31.467Z"
   },
   {
    "duration": 37,
    "start_time": "2022-11-02T10:00:31.508Z"
   },
   {
    "duration": 16,
    "start_time": "2022-11-02T10:00:31.546Z"
   },
   {
    "duration": 50,
    "start_time": "2022-11-02T10:00:31.563Z"
   },
   {
    "duration": 51,
    "start_time": "2022-11-02T10:00:31.615Z"
   },
   {
    "duration": 42,
    "start_time": "2022-11-02T10:00:31.668Z"
   },
   {
    "duration": 70,
    "start_time": "2022-11-02T10:00:31.711Z"
   },
   {
    "duration": 36,
    "start_time": "2022-11-02T10:00:31.783Z"
   },
   {
    "duration": 42,
    "start_time": "2022-11-02T10:00:31.821Z"
   },
   {
    "duration": 11,
    "start_time": "2022-11-02T10:00:31.864Z"
   },
   {
    "duration": 32,
    "start_time": "2022-11-02T10:00:31.877Z"
   },
   {
    "duration": 33,
    "start_time": "2022-11-02T10:00:31.910Z"
   },
   {
    "duration": 33,
    "start_time": "2022-11-02T10:00:31.946Z"
   },
   {
    "duration": 23,
    "start_time": "2022-11-02T10:00:31.981Z"
   },
   {
    "duration": 16,
    "start_time": "2022-11-02T10:00:32.005Z"
   },
   {
    "duration": 23,
    "start_time": "2022-11-02T10:00:32.022Z"
   },
   {
    "duration": 44,
    "start_time": "2022-11-02T10:00:32.047Z"
   },
   {
    "duration": 17,
    "start_time": "2022-11-02T10:00:32.092Z"
   },
   {
    "duration": 39,
    "start_time": "2022-11-02T10:00:32.111Z"
   },
   {
    "duration": 22,
    "start_time": "2022-11-02T10:00:32.152Z"
   },
   {
    "duration": 75,
    "start_time": "2022-11-02T10:00:32.175Z"
   },
   {
    "duration": 35,
    "start_time": "2022-11-02T10:00:32.251Z"
   },
   {
    "duration": 22,
    "start_time": "2022-11-02T10:00:32.287Z"
   },
   {
    "duration": 27,
    "start_time": "2022-11-02T10:00:32.311Z"
   },
   {
    "duration": 53,
    "start_time": "2022-11-02T10:00:32.339Z"
   },
   {
    "duration": 17,
    "start_time": "2022-11-02T10:00:32.393Z"
   },
   {
    "duration": 32,
    "start_time": "2022-11-02T10:00:32.411Z"
   },
   {
    "duration": 322,
    "start_time": "2022-11-02T10:00:32.444Z"
   },
   {
    "duration": 294,
    "start_time": "2022-11-02T10:00:32.767Z"
   },
   {
    "duration": 68,
    "start_time": "2022-11-02T10:00:33.062Z"
   },
   {
    "duration": 5,
    "start_time": "2022-11-02T10:00:33.132Z"
   },
   {
    "duration": 53,
    "start_time": "2022-11-02T10:00:33.139Z"
   },
   {
    "duration": 343,
    "start_time": "2022-11-02T10:00:33.194Z"
   },
   {
    "duration": 160,
    "start_time": "2022-11-02T10:00:33.538Z"
   },
   {
    "duration": 159,
    "start_time": "2022-11-02T10:00:33.699Z"
   },
   {
    "duration": 7,
    "start_time": "2022-11-02T10:00:33.859Z"
   },
   {
    "duration": 226,
    "start_time": "2022-11-02T10:00:33.867Z"
   },
   {
    "duration": 149,
    "start_time": "2022-11-02T10:00:34.095Z"
   },
   {
    "duration": 6,
    "start_time": "2022-11-02T10:00:34.246Z"
   },
   {
    "duration": 167,
    "start_time": "2022-11-02T10:00:34.254Z"
   },
   {
    "duration": 142,
    "start_time": "2022-11-02T10:00:34.423Z"
   },
   {
    "duration": 7,
    "start_time": "2022-11-02T10:00:34.567Z"
   },
   {
    "duration": 255,
    "start_time": "2022-11-02T10:00:34.575Z"
   },
   {
    "duration": 76,
    "start_time": "2022-11-02T10:01:16.488Z"
   },
   {
    "duration": 90,
    "start_time": "2022-11-02T10:03:55.120Z"
   },
   {
    "duration": 10,
    "start_time": "2022-11-02T10:04:03.808Z"
   },
   {
    "duration": 5,
    "start_time": "2022-11-02T10:04:33.958Z"
   },
   {
    "duration": 7,
    "start_time": "2022-11-02T10:04:46.347Z"
   },
   {
    "duration": 89,
    "start_time": "2022-11-02T10:04:59.911Z"
   },
   {
    "duration": 99,
    "start_time": "2022-11-02T10:06:37.681Z"
   },
   {
    "duration": 10,
    "start_time": "2022-11-02T10:09:42.048Z"
   },
   {
    "duration": 310,
    "start_time": "2022-11-02T10:10:13.574Z"
   },
   {
    "duration": 113,
    "start_time": "2022-11-02T10:11:26.980Z"
   },
   {
    "duration": 118,
    "start_time": "2022-11-02T10:12:32.898Z"
   },
   {
    "duration": 8,
    "start_time": "2022-11-02T10:12:56.320Z"
   },
   {
    "duration": 111,
    "start_time": "2022-11-02T10:14:18.596Z"
   },
   {
    "duration": 129,
    "start_time": "2022-11-02T10:15:50.716Z"
   },
   {
    "duration": 91,
    "start_time": "2022-11-02T10:16:15.977Z"
   },
   {
    "duration": 76,
    "start_time": "2022-11-02T10:16:47.643Z"
   },
   {
    "duration": 177,
    "start_time": "2022-11-02T10:17:02.107Z"
   },
   {
    "duration": 83,
    "start_time": "2022-11-02T10:17:45.529Z"
   },
   {
    "duration": 176,
    "start_time": "2022-11-02T10:18:02.426Z"
   },
   {
    "duration": 144,
    "start_time": "2022-11-02T10:19:13.765Z"
   },
   {
    "duration": 139,
    "start_time": "2022-11-02T10:19:27.708Z"
   },
   {
    "duration": 164,
    "start_time": "2022-11-02T10:19:45.013Z"
   },
   {
    "duration": 102,
    "start_time": "2022-11-02T10:20:19.503Z"
   },
   {
    "duration": 148,
    "start_time": "2022-11-02T10:20:40.482Z"
   },
   {
    "duration": 138,
    "start_time": "2022-11-02T10:21:43.550Z"
   },
   {
    "duration": 44,
    "start_time": "2022-11-02T10:21:56.738Z"
   },
   {
    "duration": 145,
    "start_time": "2022-11-02T10:22:04.523Z"
   },
   {
    "duration": 142,
    "start_time": "2022-11-02T10:22:12.097Z"
   },
   {
    "duration": 159,
    "start_time": "2022-11-02T10:22:18.104Z"
   },
   {
    "duration": 153,
    "start_time": "2022-11-02T10:22:23.265Z"
   },
   {
    "duration": 153,
    "start_time": "2022-11-02T10:22:33.856Z"
   },
   {
    "duration": 145,
    "start_time": "2022-11-02T10:22:40.767Z"
   },
   {
    "duration": 149,
    "start_time": "2022-11-02T10:22:46.936Z"
   },
   {
    "duration": 153,
    "start_time": "2022-11-02T10:23:01.904Z"
   },
   {
    "duration": 154,
    "start_time": "2022-11-02T10:23:13.526Z"
   },
   {
    "duration": 149,
    "start_time": "2022-11-02T10:23:24.308Z"
   },
   {
    "duration": 185,
    "start_time": "2022-11-02T10:23:28.830Z"
   },
   {
    "duration": 141,
    "start_time": "2022-11-02T10:23:35.468Z"
   },
   {
    "duration": 189,
    "start_time": "2022-11-02T10:23:38.912Z"
   },
   {
    "duration": 6,
    "start_time": "2022-11-02T10:24:13.224Z"
   },
   {
    "duration": 20,
    "start_time": "2022-11-02T10:25:32.342Z"
   },
   {
    "duration": 56,
    "start_time": "2022-11-02T10:27:12.777Z"
   },
   {
    "duration": 149,
    "start_time": "2022-11-02T10:27:33.355Z"
   },
   {
    "duration": 143,
    "start_time": "2022-11-02T10:28:30.077Z"
   },
   {
    "duration": 198,
    "start_time": "2022-11-02T10:28:48.861Z"
   },
   {
    "duration": 149,
    "start_time": "2022-11-02T10:28:55.248Z"
   },
   {
    "duration": 150,
    "start_time": "2022-11-02T10:29:21.336Z"
   },
   {
    "duration": 5,
    "start_time": "2022-11-02T10:39:13.599Z"
   },
   {
    "duration": 162,
    "start_time": "2022-11-02T10:39:20.980Z"
   },
   {
    "duration": 159,
    "start_time": "2022-11-02T10:39:49.832Z"
   },
   {
    "duration": 155,
    "start_time": "2022-11-02T10:40:40.875Z"
   },
   {
    "duration": 152,
    "start_time": "2022-11-02T10:41:43.076Z"
   },
   {
    "duration": 264,
    "start_time": "2022-11-02T10:41:49.900Z"
   },
   {
    "duration": 249,
    "start_time": "2022-11-02T10:41:55.415Z"
   },
   {
    "duration": 205,
    "start_time": "2022-11-02T10:42:03.073Z"
   },
   {
    "duration": 194,
    "start_time": "2022-11-02T10:42:06.010Z"
   },
   {
    "duration": 163,
    "start_time": "2022-11-02T10:42:12.342Z"
   },
   {
    "duration": 8,
    "start_time": "2022-11-02T10:44:45.006Z"
   },
   {
    "duration": 159,
    "start_time": "2022-11-02T10:45:42.307Z"
   },
   {
    "duration": 8,
    "start_time": "2022-11-02T10:46:05.688Z"
   },
   {
    "duration": 425,
    "start_time": "2022-11-02T10:47:52.430Z"
   },
   {
    "duration": 150,
    "start_time": "2022-11-02T10:54:36.500Z"
   },
   {
    "duration": 156,
    "start_time": "2022-11-02T10:55:45.890Z"
   },
   {
    "duration": 187,
    "start_time": "2022-11-02T11:01:38.992Z"
   },
   {
    "duration": 6,
    "start_time": "2022-11-02T11:02:12.492Z"
   },
   {
    "duration": 193,
    "start_time": "2022-11-02T11:02:49.067Z"
   },
   {
    "duration": 160,
    "start_time": "2022-11-02T11:02:54.816Z"
   },
   {
    "duration": 161,
    "start_time": "2022-11-02T11:03:57.464Z"
   },
   {
    "duration": 155,
    "start_time": "2022-11-02T11:04:02.141Z"
   },
   {
    "duration": 147,
    "start_time": "2022-11-02T11:09:18.448Z"
   },
   {
    "duration": 97,
    "start_time": "2022-11-02T11:12:30.338Z"
   },
   {
    "duration": 6,
    "start_time": "2022-11-02T11:12:49.764Z"
   },
   {
    "duration": 106,
    "start_time": "2022-11-02T11:15:54.258Z"
   },
   {
    "duration": 100,
    "start_time": "2022-11-02T11:16:04.334Z"
   },
   {
    "duration": 196,
    "start_time": "2022-11-02T11:16:36.956Z"
   },
   {
    "duration": 103,
    "start_time": "2022-11-02T11:19:23.882Z"
   },
   {
    "duration": 99,
    "start_time": "2022-11-02T11:20:42.485Z"
   },
   {
    "duration": 105,
    "start_time": "2022-11-02T11:21:14.072Z"
   },
   {
    "duration": 134,
    "start_time": "2022-11-02T11:34:22.604Z"
   },
   {
    "duration": 96,
    "start_time": "2022-11-02T11:35:09.790Z"
   },
   {
    "duration": 97,
    "start_time": "2022-11-02T11:35:35.760Z"
   },
   {
    "duration": 98,
    "start_time": "2022-11-02T11:36:42.889Z"
   },
   {
    "duration": 232,
    "start_time": "2022-11-02T11:41:26.034Z"
   },
   {
    "duration": 245,
    "start_time": "2022-11-02T11:41:59.104Z"
   },
   {
    "duration": 210,
    "start_time": "2022-11-02T11:42:36.810Z"
   },
   {
    "duration": 262,
    "start_time": "2022-11-02T11:43:35.047Z"
   },
   {
    "duration": 287,
    "start_time": "2022-11-02T11:43:56.578Z"
   },
   {
    "duration": 300,
    "start_time": "2022-11-02T11:44:05.640Z"
   },
   {
    "duration": 12,
    "start_time": "2022-11-02T11:46:15.086Z"
   },
   {
    "duration": 290,
    "start_time": "2022-11-02T11:46:54.782Z"
   },
   {
    "duration": 348,
    "start_time": "2022-11-02T11:49:59.579Z"
   },
   {
    "duration": 295,
    "start_time": "2022-11-02T11:51:25.989Z"
   },
   {
    "duration": 293,
    "start_time": "2022-11-02T11:52:01.760Z"
   },
   {
    "duration": 277,
    "start_time": "2022-11-02T11:52:06.733Z"
   },
   {
    "duration": 3,
    "start_time": "2022-11-02T11:52:26.169Z"
   },
   {
    "duration": 48,
    "start_time": "2022-11-02T11:52:26.173Z"
   },
   {
    "duration": 13,
    "start_time": "2022-11-02T11:52:26.233Z"
   },
   {
    "duration": 26,
    "start_time": "2022-11-02T11:52:26.247Z"
   },
   {
    "duration": 20,
    "start_time": "2022-11-02T11:52:26.274Z"
   },
   {
    "duration": 24,
    "start_time": "2022-11-02T11:52:26.296Z"
   },
   {
    "duration": 29,
    "start_time": "2022-11-02T11:52:26.323Z"
   },
   {
    "duration": 13,
    "start_time": "2022-11-02T11:52:26.353Z"
   },
   {
    "duration": 16,
    "start_time": "2022-11-02T11:52:26.367Z"
   },
   {
    "duration": 14,
    "start_time": "2022-11-02T11:52:26.385Z"
   },
   {
    "duration": 4,
    "start_time": "2022-11-02T11:52:26.402Z"
   },
   {
    "duration": 21,
    "start_time": "2022-11-02T11:52:26.408Z"
   },
   {
    "duration": 6,
    "start_time": "2022-11-02T11:52:26.437Z"
   },
   {
    "duration": 16,
    "start_time": "2022-11-02T11:52:26.444Z"
   },
   {
    "duration": 5,
    "start_time": "2022-11-02T11:52:26.461Z"
   },
   {
    "duration": 9,
    "start_time": "2022-11-02T11:52:26.467Z"
   },
   {
    "duration": 27,
    "start_time": "2022-11-02T11:52:26.477Z"
   },
   {
    "duration": 4,
    "start_time": "2022-11-02T11:52:26.506Z"
   },
   {
    "duration": 32,
    "start_time": "2022-11-02T11:52:26.512Z"
   },
   {
    "duration": 23,
    "start_time": "2022-11-02T11:52:26.545Z"
   },
   {
    "duration": 8,
    "start_time": "2022-11-02T11:52:26.570Z"
   },
   {
    "duration": 21,
    "start_time": "2022-11-02T11:52:26.580Z"
   },
   {
    "duration": 31,
    "start_time": "2022-11-02T11:52:26.602Z"
   },
   {
    "duration": 20,
    "start_time": "2022-11-02T11:52:26.634Z"
   },
   {
    "duration": 12,
    "start_time": "2022-11-02T11:52:26.655Z"
   },
   {
    "duration": 5,
    "start_time": "2022-11-02T11:52:26.668Z"
   },
   {
    "duration": 16,
    "start_time": "2022-11-02T11:52:26.674Z"
   },
   {
    "duration": 4,
    "start_time": "2022-11-02T11:52:26.691Z"
   },
   {
    "duration": 25,
    "start_time": "2022-11-02T11:52:26.698Z"
   },
   {
    "duration": 9,
    "start_time": "2022-11-02T11:52:26.724Z"
   },
   {
    "duration": 5,
    "start_time": "2022-11-02T11:52:26.736Z"
   },
   {
    "duration": 14,
    "start_time": "2022-11-02T11:52:26.743Z"
   },
   {
    "duration": 7,
    "start_time": "2022-11-02T11:52:26.758Z"
   },
   {
    "duration": 6,
    "start_time": "2022-11-02T11:52:26.766Z"
   },
   {
    "duration": 10,
    "start_time": "2022-11-02T11:52:26.774Z"
   },
   {
    "duration": 60,
    "start_time": "2022-11-02T11:52:26.786Z"
   },
   {
    "duration": 5,
    "start_time": "2022-11-02T11:52:26.848Z"
   },
   {
    "duration": 13,
    "start_time": "2022-11-02T11:52:26.854Z"
   },
   {
    "duration": 8,
    "start_time": "2022-11-02T11:52:26.868Z"
   },
   {
    "duration": 17,
    "start_time": "2022-11-02T11:52:26.878Z"
   },
   {
    "duration": 5,
    "start_time": "2022-11-02T11:52:26.897Z"
   },
   {
    "duration": 6,
    "start_time": "2022-11-02T11:52:26.903Z"
   },
   {
    "duration": 288,
    "start_time": "2022-11-02T11:52:26.922Z"
   },
   {
    "duration": 303,
    "start_time": "2022-11-02T11:52:27.211Z"
   },
   {
    "duration": 57,
    "start_time": "2022-11-02T11:52:27.522Z"
   },
   {
    "duration": 6,
    "start_time": "2022-11-02T11:52:27.581Z"
   },
   {
    "duration": 36,
    "start_time": "2022-11-02T11:52:27.588Z"
   },
   {
    "duration": 353,
    "start_time": "2022-11-02T11:52:27.626Z"
   },
   {
    "duration": 157,
    "start_time": "2022-11-02T11:52:27.981Z"
   },
   {
    "duration": 451,
    "start_time": "2022-11-02T11:52:28.140Z"
   },
   {
    "duration": 7,
    "start_time": "2022-11-02T11:52:28.593Z"
   },
   {
    "duration": 182,
    "start_time": "2022-11-02T11:52:28.601Z"
   },
   {
    "duration": 188,
    "start_time": "2022-11-02T11:52:28.785Z"
   },
   {
    "duration": 7,
    "start_time": "2022-11-02T11:52:28.975Z"
   },
   {
    "duration": 191,
    "start_time": "2022-11-02T11:52:28.984Z"
   },
   {
    "duration": 164,
    "start_time": "2022-11-02T11:52:29.176Z"
   },
   {
    "duration": 7,
    "start_time": "2022-11-02T11:52:29.342Z"
   },
   {
    "duration": 254,
    "start_time": "2022-11-02T11:52:29.351Z"
   },
   {
    "duration": 165,
    "start_time": "2022-11-02T11:52:29.606Z"
   },
   {
    "duration": 164,
    "start_time": "2022-11-02T11:52:29.773Z"
   },
   {
    "duration": 171,
    "start_time": "2022-11-02T11:52:29.939Z"
   },
   {
    "duration": 202,
    "start_time": "2022-11-02T11:52:30.112Z"
   },
   {
    "duration": 169,
    "start_time": "2022-11-02T11:52:30.315Z"
   },
   {
    "duration": 164,
    "start_time": "2022-11-02T11:52:30.485Z"
   },
   {
    "duration": 281,
    "start_time": "2022-11-02T11:52:30.651Z"
   },
   {
    "duration": 4,
    "start_time": "2022-11-02T11:52:30.933Z"
   },
   {
    "duration": 12,
    "start_time": "2022-11-02T12:01:41.960Z"
   },
   {
    "duration": 120,
    "start_time": "2022-11-02T12:04:46.419Z"
   },
   {
    "duration": 152,
    "start_time": "2022-11-02T12:07:19.082Z"
   },
   {
    "duration": 179,
    "start_time": "2022-11-02T12:08:27.552Z"
   },
   {
    "duration": 187,
    "start_time": "2022-11-02T12:08:37.755Z"
   },
   {
    "duration": 235,
    "start_time": "2022-11-02T12:09:03.860Z"
   },
   {
    "duration": 49,
    "start_time": "2022-11-02T12:15:29.535Z"
   },
   {
    "duration": 22,
    "start_time": "2022-11-02T12:22:40.453Z"
   },
   {
    "duration": 3,
    "start_time": "2022-11-02T12:25:24.465Z"
   },
   {
    "duration": 6,
    "start_time": "2022-11-02T12:25:31.997Z"
   },
   {
    "duration": 5,
    "start_time": "2022-11-02T12:27:00.840Z"
   },
   {
    "duration": 6,
    "start_time": "2022-11-02T12:27:04.566Z"
   },
   {
    "duration": 9,
    "start_time": "2022-11-02T12:28:15.866Z"
   },
   {
    "duration": 9,
    "start_time": "2022-11-02T12:28:50.114Z"
   },
   {
    "duration": 10,
    "start_time": "2022-11-02T12:29:22.649Z"
   },
   {
    "duration": 3,
    "start_time": "2022-11-02T12:30:12.829Z"
   },
   {
    "duration": 9,
    "start_time": "2022-11-02T12:30:13.476Z"
   },
   {
    "duration": 3,
    "start_time": "2022-11-02T12:31:24.152Z"
   },
   {
    "duration": 10,
    "start_time": "2022-11-02T12:31:26.443Z"
   },
   {
    "duration": 3,
    "start_time": "2022-11-02T12:32:22.396Z"
   },
   {
    "duration": 12,
    "start_time": "2022-11-02T12:32:23.208Z"
   },
   {
    "duration": 2,
    "start_time": "2022-11-02T12:37:16.586Z"
   },
   {
    "duration": 9,
    "start_time": "2022-11-02T12:40:17.718Z"
   },
   {
    "duration": 2,
    "start_time": "2022-11-02T12:44:17.197Z"
   },
   {
    "duration": 9,
    "start_time": "2022-11-02T12:44:18.720Z"
   },
   {
    "duration": 9,
    "start_time": "2022-11-02T12:46:31.731Z"
   },
   {
    "duration": 8,
    "start_time": "2022-11-02T12:47:32.135Z"
   },
   {
    "duration": 8,
    "start_time": "2022-11-02T12:47:35.860Z"
   },
   {
    "duration": 10,
    "start_time": "2022-11-02T12:47:44.206Z"
   },
   {
    "duration": 8,
    "start_time": "2022-11-02T12:47:46.859Z"
   },
   {
    "duration": 6,
    "start_time": "2022-11-02T12:48:01.450Z"
   },
   {
    "duration": 8,
    "start_time": "2022-11-02T12:48:24.285Z"
   },
   {
    "duration": 6,
    "start_time": "2022-11-02T12:48:47.442Z"
   },
   {
    "duration": 7,
    "start_time": "2022-11-02T12:49:03.238Z"
   },
   {
    "duration": 3,
    "start_time": "2022-11-02T12:49:34.075Z"
   },
   {
    "duration": 7,
    "start_time": "2022-11-02T12:49:34.655Z"
   },
   {
    "duration": 7,
    "start_time": "2022-11-02T12:51:04.731Z"
   },
   {
    "duration": 8,
    "start_time": "2022-11-02T12:53:37.726Z"
   },
   {
    "duration": 2,
    "start_time": "2022-11-02T12:54:14.748Z"
   },
   {
    "duration": 50,
    "start_time": "2022-11-02T12:54:14.752Z"
   },
   {
    "duration": 12,
    "start_time": "2022-11-02T12:54:14.803Z"
   },
   {
    "duration": 16,
    "start_time": "2022-11-02T12:54:14.817Z"
   },
   {
    "duration": 15,
    "start_time": "2022-11-02T12:54:14.835Z"
   },
   {
    "duration": 4,
    "start_time": "2022-11-02T12:54:14.851Z"
   },
   {
    "duration": 12,
    "start_time": "2022-11-02T12:54:14.856Z"
   },
   {
    "duration": 12,
    "start_time": "2022-11-02T12:54:14.869Z"
   },
   {
    "duration": 8,
    "start_time": "2022-11-02T12:54:14.883Z"
   },
   {
    "duration": 42,
    "start_time": "2022-11-02T12:54:14.893Z"
   },
   {
    "duration": 3,
    "start_time": "2022-11-02T12:54:14.938Z"
   },
   {
    "duration": 20,
    "start_time": "2022-11-02T12:54:14.943Z"
   },
   {
    "duration": 6,
    "start_time": "2022-11-02T12:54:14.965Z"
   },
   {
    "duration": 16,
    "start_time": "2022-11-02T12:54:14.972Z"
   },
   {
    "duration": 36,
    "start_time": "2022-11-02T12:54:14.990Z"
   },
   {
    "duration": 13,
    "start_time": "2022-11-02T12:54:15.027Z"
   },
   {
    "duration": 23,
    "start_time": "2022-11-02T12:54:15.041Z"
   },
   {
    "duration": 4,
    "start_time": "2022-11-02T12:54:15.066Z"
   },
   {
    "duration": 12,
    "start_time": "2022-11-02T12:54:15.071Z"
   },
   {
    "duration": 29,
    "start_time": "2022-11-02T12:54:15.084Z"
   },
   {
    "duration": 10,
    "start_time": "2022-11-02T12:54:15.115Z"
   },
   {
    "duration": 20,
    "start_time": "2022-11-02T12:54:15.126Z"
   },
   {
    "duration": 18,
    "start_time": "2022-11-02T12:54:15.147Z"
   },
   {
    "duration": 18,
    "start_time": "2022-11-02T12:54:15.166Z"
   },
   {
    "duration": 43,
    "start_time": "2022-11-02T12:54:15.186Z"
   },
   {
    "duration": 5,
    "start_time": "2022-11-02T12:54:15.231Z"
   },
   {
    "duration": 13,
    "start_time": "2022-11-02T12:54:15.238Z"
   },
   {
    "duration": 6,
    "start_time": "2022-11-02T12:54:15.252Z"
   },
   {
    "duration": 6,
    "start_time": "2022-11-02T12:54:15.261Z"
   },
   {
    "duration": 5,
    "start_time": "2022-11-02T12:54:15.268Z"
   },
   {
    "duration": 5,
    "start_time": "2022-11-02T12:54:15.275Z"
   },
   {
    "duration": 43,
    "start_time": "2022-11-02T12:54:15.281Z"
   },
   {
    "duration": 7,
    "start_time": "2022-11-02T12:54:15.326Z"
   },
   {
    "duration": 7,
    "start_time": "2022-11-02T12:54:15.334Z"
   },
   {
    "duration": 11,
    "start_time": "2022-11-02T12:54:15.342Z"
   },
   {
    "duration": 19,
    "start_time": "2022-11-02T12:54:15.354Z"
   },
   {
    "duration": 5,
    "start_time": "2022-11-02T12:54:15.374Z"
   },
   {
    "duration": 47,
    "start_time": "2022-11-02T12:54:15.380Z"
   },
   {
    "duration": 5,
    "start_time": "2022-11-02T12:54:15.429Z"
   },
   {
    "duration": 18,
    "start_time": "2022-11-02T12:54:15.436Z"
   },
   {
    "duration": 5,
    "start_time": "2022-11-02T12:54:15.455Z"
   },
   {
    "duration": 4,
    "start_time": "2022-11-02T12:54:15.462Z"
   },
   {
    "duration": 307,
    "start_time": "2022-11-02T12:54:15.468Z"
   },
   {
    "duration": 288,
    "start_time": "2022-11-02T12:54:15.776Z"
   },
   {
    "duration": 57,
    "start_time": "2022-11-02T12:54:16.066Z"
   },
   {
    "duration": 7,
    "start_time": "2022-11-02T12:54:16.125Z"
   },
   {
    "duration": 28,
    "start_time": "2022-11-02T12:54:16.134Z"
   },
   {
    "duration": 376,
    "start_time": "2022-11-02T12:54:16.164Z"
   },
   {
    "duration": 155,
    "start_time": "2022-11-02T12:54:16.542Z"
   },
   {
    "duration": 157,
    "start_time": "2022-11-02T12:54:16.698Z"
   },
   {
    "duration": 6,
    "start_time": "2022-11-02T12:54:16.856Z"
   },
   {
    "duration": 159,
    "start_time": "2022-11-02T12:54:16.863Z"
   },
   {
    "duration": 150,
    "start_time": "2022-11-02T12:54:17.024Z"
   },
   {
    "duration": 5,
    "start_time": "2022-11-02T12:54:17.175Z"
   },
   {
    "duration": 148,
    "start_time": "2022-11-02T12:54:17.182Z"
   },
   {
    "duration": 155,
    "start_time": "2022-11-02T12:54:17.332Z"
   },
   {
    "duration": 8,
    "start_time": "2022-11-02T12:54:17.488Z"
   },
   {
    "duration": 252,
    "start_time": "2022-11-02T12:54:17.497Z"
   },
   {
    "duration": 160,
    "start_time": "2022-11-02T12:54:17.751Z"
   },
   {
    "duration": 168,
    "start_time": "2022-11-02T12:54:17.913Z"
   },
   {
    "duration": 165,
    "start_time": "2022-11-02T12:54:18.082Z"
   },
   {
    "duration": 159,
    "start_time": "2022-11-02T12:54:18.249Z"
   },
   {
    "duration": 168,
    "start_time": "2022-11-02T12:54:18.409Z"
   },
   {
    "duration": 166,
    "start_time": "2022-11-02T12:54:18.579Z"
   },
   {
    "duration": 319,
    "start_time": "2022-11-02T12:54:18.746Z"
   },
   {
    "duration": 219,
    "start_time": "2022-11-02T12:54:19.066Z"
   },
   {
    "duration": 3,
    "start_time": "2022-11-02T12:54:19.286Z"
   },
   {
    "duration": 8,
    "start_time": "2022-11-02T12:54:38.193Z"
   },
   {
    "duration": 7,
    "start_time": "2022-11-02T12:56:41.768Z"
   },
   {
    "duration": 4,
    "start_time": "2022-11-02T12:59:10.934Z"
   },
   {
    "duration": 8,
    "start_time": "2022-11-02T12:59:16.321Z"
   },
   {
    "duration": 64,
    "start_time": "2022-11-02T13:00:40.027Z"
   },
   {
    "duration": 49,
    "start_time": "2022-11-02T13:04:11.088Z"
   },
   {
    "duration": 7,
    "start_time": "2022-11-02T13:07:02.144Z"
   },
   {
    "duration": 7,
    "start_time": "2022-11-02T13:08:48.732Z"
   },
   {
    "duration": 6,
    "start_time": "2022-11-02T13:08:58.182Z"
   },
   {
    "duration": 8,
    "start_time": "2022-11-02T13:10:25.624Z"
   },
   {
    "duration": 5,
    "start_time": "2022-11-02T13:10:44.021Z"
   },
   {
    "duration": 6,
    "start_time": "2022-11-02T13:11:21.365Z"
   },
   {
    "duration": 9,
    "start_time": "2022-11-02T13:11:37.604Z"
   },
   {
    "duration": 17,
    "start_time": "2022-11-02T13:12:07.019Z"
   },
   {
    "duration": 9,
    "start_time": "2022-11-02T13:12:14.318Z"
   },
   {
    "duration": 13,
    "start_time": "2022-11-02T13:12:17.588Z"
   },
   {
    "duration": 8,
    "start_time": "2022-11-02T13:12:52.425Z"
   },
   {
    "duration": 6,
    "start_time": "2022-11-02T13:13:13.591Z"
   },
   {
    "duration": 6,
    "start_time": "2022-11-02T13:13:27.645Z"
   },
   {
    "duration": 9,
    "start_time": "2022-11-02T13:13:50.051Z"
   },
   {
    "duration": 593,
    "start_time": "2022-11-02T13:25:16.995Z"
   },
   {
    "duration": 8,
    "start_time": "2022-11-02T13:29:48.168Z"
   },
   {
    "duration": 8,
    "start_time": "2022-11-02T13:29:55.546Z"
   },
   {
    "duration": 9,
    "start_time": "2022-11-02T13:30:26.508Z"
   },
   {
    "duration": 22,
    "start_time": "2022-11-02T13:31:27.966Z"
   },
   {
    "duration": 13,
    "start_time": "2022-11-02T13:32:12.198Z"
   },
   {
    "duration": 7,
    "start_time": "2022-11-02T13:33:57.448Z"
   },
   {
    "duration": 94,
    "start_time": "2022-11-02T13:35:10.786Z"
   },
   {
    "duration": 435,
    "start_time": "2022-11-02T13:37:40.090Z"
   },
   {
    "duration": 108,
    "start_time": "2022-11-02T13:38:40.157Z"
   },
   {
    "duration": 107,
    "start_time": "2022-11-02T13:38:50.790Z"
   },
   {
    "duration": 153,
    "start_time": "2022-11-02T13:39:18.988Z"
   },
   {
    "duration": 9,
    "start_time": "2022-11-02T13:42:06.724Z"
   },
   {
    "duration": 105,
    "start_time": "2022-11-02T13:43:26.278Z"
   },
   {
    "duration": 9,
    "start_time": "2022-11-02T13:47:50.907Z"
   },
   {
    "duration": 8,
    "start_time": "2022-11-02T13:49:13.364Z"
   },
   {
    "duration": 117,
    "start_time": "2022-11-02T13:49:35.617Z"
   },
   {
    "duration": 2,
    "start_time": "2022-11-02T15:25:06.629Z"
   },
   {
    "duration": 45,
    "start_time": "2022-11-02T15:51:53.208Z"
   },
   {
    "duration": 7,
    "start_time": "2022-11-02T16:34:19.373Z"
   },
   {
    "duration": 6,
    "start_time": "2022-11-02T16:34:29.352Z"
   },
   {
    "duration": 6,
    "start_time": "2022-11-02T16:34:38.832Z"
   },
   {
    "duration": 595,
    "start_time": "2022-11-02T18:29:10.034Z"
   },
   {
    "duration": 49,
    "start_time": "2022-11-02T18:29:10.630Z"
   },
   {
    "duration": 14,
    "start_time": "2022-11-02T18:29:10.680Z"
   },
   {
    "duration": 14,
    "start_time": "2022-11-02T18:29:10.696Z"
   },
   {
    "duration": 13,
    "start_time": "2022-11-02T18:29:10.712Z"
   },
   {
    "duration": 4,
    "start_time": "2022-11-02T18:29:10.726Z"
   },
   {
    "duration": 11,
    "start_time": "2022-11-02T18:29:10.731Z"
   },
   {
    "duration": 12,
    "start_time": "2022-11-02T18:29:10.744Z"
   },
   {
    "duration": 13,
    "start_time": "2022-11-02T18:29:10.757Z"
   },
   {
    "duration": 18,
    "start_time": "2022-11-02T18:29:10.771Z"
   },
   {
    "duration": 15,
    "start_time": "2022-11-02T18:29:10.790Z"
   },
   {
    "duration": 18,
    "start_time": "2022-11-02T18:29:10.806Z"
   },
   {
    "duration": 8,
    "start_time": "2022-11-02T18:29:10.825Z"
   },
   {
    "duration": 15,
    "start_time": "2022-11-02T18:29:10.835Z"
   },
   {
    "duration": 3,
    "start_time": "2022-11-02T18:29:10.852Z"
   },
   {
    "duration": 6,
    "start_time": "2022-11-02T18:29:10.857Z"
   },
   {
    "duration": 42,
    "start_time": "2022-11-02T18:29:10.864Z"
   },
   {
    "duration": 5,
    "start_time": "2022-11-02T18:29:10.907Z"
   },
   {
    "duration": 8,
    "start_time": "2022-11-02T18:29:10.913Z"
   },
   {
    "duration": 20,
    "start_time": "2022-11-02T18:29:10.923Z"
   },
   {
    "duration": 8,
    "start_time": "2022-11-02T18:29:10.944Z"
   },
   {
    "duration": 19,
    "start_time": "2022-11-02T18:29:10.953Z"
   },
   {
    "duration": 47,
    "start_time": "2022-11-02T18:29:10.974Z"
   },
   {
    "duration": 19,
    "start_time": "2022-11-02T18:29:11.023Z"
   },
   {
    "duration": 11,
    "start_time": "2022-11-02T18:29:11.043Z"
   },
   {
    "duration": 5,
    "start_time": "2022-11-02T18:29:11.055Z"
   },
   {
    "duration": 10,
    "start_time": "2022-11-02T18:29:11.061Z"
   },
   {
    "duration": 33,
    "start_time": "2022-11-02T18:29:11.073Z"
   },
   {
    "duration": 4,
    "start_time": "2022-11-02T18:29:11.108Z"
   },
   {
    "duration": 7,
    "start_time": "2022-11-02T18:29:11.113Z"
   },
   {
    "duration": 4,
    "start_time": "2022-11-02T18:29:11.122Z"
   },
   {
    "duration": 12,
    "start_time": "2022-11-02T18:29:11.127Z"
   },
   {
    "duration": 6,
    "start_time": "2022-11-02T18:29:11.140Z"
   },
   {
    "duration": 6,
    "start_time": "2022-11-02T18:29:11.148Z"
   },
   {
    "duration": 9,
    "start_time": "2022-11-02T18:29:11.155Z"
   },
   {
    "duration": 54,
    "start_time": "2022-11-02T18:29:11.166Z"
   },
   {
    "duration": 4,
    "start_time": "2022-11-02T18:29:11.221Z"
   },
   {
    "duration": 12,
    "start_time": "2022-11-02T18:29:11.227Z"
   },
   {
    "duration": 5,
    "start_time": "2022-11-02T18:29:11.240Z"
   },
   {
    "duration": 12,
    "start_time": "2022-11-02T18:29:11.246Z"
   },
   {
    "duration": 5,
    "start_time": "2022-11-02T18:29:11.261Z"
   },
   {
    "duration": 4,
    "start_time": "2022-11-02T18:29:11.267Z"
   },
   {
    "duration": 316,
    "start_time": "2022-11-02T18:29:11.272Z"
   },
   {
    "duration": 323,
    "start_time": "2022-11-02T18:29:11.589Z"
   },
   {
    "duration": 51,
    "start_time": "2022-11-02T18:29:11.914Z"
   },
   {
    "duration": 5,
    "start_time": "2022-11-02T18:29:11.967Z"
   },
   {
    "duration": 87,
    "start_time": "2022-11-02T18:29:11.973Z"
   },
   {
    "duration": 360,
    "start_time": "2022-11-02T18:29:12.062Z"
   },
   {
    "duration": 10,
    "start_time": "2022-11-02T18:29:12.424Z"
   },
   {
    "duration": 143,
    "start_time": "2022-11-02T18:29:12.436Z"
   },
   {
    "duration": 9,
    "start_time": "2022-11-02T18:29:12.580Z"
   },
   {
    "duration": 117,
    "start_time": "2022-11-02T18:29:12.590Z"
   },
   {
    "duration": 9,
    "start_time": "2022-11-02T18:29:12.708Z"
   },
   {
    "duration": 120,
    "start_time": "2022-11-02T18:29:12.718Z"
   },
   {
    "duration": 153,
    "start_time": "2022-11-02T18:29:12.839Z"
   },
   {
    "duration": 151,
    "start_time": "2022-11-02T18:29:12.993Z"
   },
   {
    "duration": 5,
    "start_time": "2022-11-02T18:29:13.146Z"
   },
   {
    "duration": 145,
    "start_time": "2022-11-02T18:29:13.152Z"
   },
   {
    "duration": 143,
    "start_time": "2022-11-02T18:29:13.298Z"
   },
   {
    "duration": 5,
    "start_time": "2022-11-02T18:29:13.443Z"
   },
   {
    "duration": 145,
    "start_time": "2022-11-02T18:29:13.449Z"
   },
   {
    "duration": 144,
    "start_time": "2022-11-02T18:29:13.596Z"
   },
   {
    "duration": 6,
    "start_time": "2022-11-02T18:29:13.741Z"
   },
   {
    "duration": 295,
    "start_time": "2022-11-02T18:29:13.748Z"
   },
   {
    "duration": 161,
    "start_time": "2022-11-02T18:29:14.044Z"
   },
   {
    "duration": 170,
    "start_time": "2022-11-02T18:29:14.206Z"
   },
   {
    "duration": 169,
    "start_time": "2022-11-02T18:29:14.378Z"
   },
   {
    "duration": 166,
    "start_time": "2022-11-02T18:29:14.548Z"
   },
   {
    "duration": 160,
    "start_time": "2022-11-02T18:29:14.715Z"
   },
   {
    "duration": 153,
    "start_time": "2022-11-02T18:29:14.877Z"
   },
   {
    "duration": 282,
    "start_time": "2022-11-02T18:29:15.032Z"
   },
   {
    "duration": 175,
    "start_time": "2022-11-02T18:29:15.316Z"
   },
   {
    "duration": 460,
    "start_time": "2022-11-02T18:29:15.492Z"
   },
   {
    "duration": 9,
    "start_time": "2022-11-02T18:29:15.953Z"
   },
   {
    "duration": 12,
    "start_time": "2022-11-02T18:29:15.963Z"
   },
   {
    "duration": 34,
    "start_time": "2022-11-02T19:18:44.278Z"
   },
   {
    "duration": 618,
    "start_time": "2022-11-02T19:18:56.186Z"
   },
   {
    "duration": 51,
    "start_time": "2022-11-02T19:18:56.805Z"
   },
   {
    "duration": 14,
    "start_time": "2022-11-02T19:18:56.857Z"
   },
   {
    "duration": 17,
    "start_time": "2022-11-02T19:18:56.873Z"
   },
   {
    "duration": 15,
    "start_time": "2022-11-02T19:18:56.892Z"
   },
   {
    "duration": 5,
    "start_time": "2022-11-02T19:18:56.908Z"
   },
   {
    "duration": 10,
    "start_time": "2022-11-02T19:18:56.914Z"
   },
   {
    "duration": 13,
    "start_time": "2022-11-02T19:18:56.926Z"
   },
   {
    "duration": 6,
    "start_time": "2022-11-02T19:18:56.941Z"
   },
   {
    "duration": 15,
    "start_time": "2022-11-02T19:18:56.949Z"
   },
   {
    "duration": 8,
    "start_time": "2022-11-02T19:18:56.966Z"
   },
   {
    "duration": 42,
    "start_time": "2022-11-02T19:18:56.975Z"
   },
   {
    "duration": 6,
    "start_time": "2022-11-02T19:18:57.019Z"
   },
   {
    "duration": 18,
    "start_time": "2022-11-02T19:18:57.027Z"
   },
   {
    "duration": 5,
    "start_time": "2022-11-02T19:18:57.046Z"
   },
   {
    "duration": 6,
    "start_time": "2022-11-02T19:18:57.053Z"
   },
   {
    "duration": 47,
    "start_time": "2022-11-02T19:18:57.060Z"
   },
   {
    "duration": 5,
    "start_time": "2022-11-02T19:18:57.108Z"
   },
   {
    "duration": 6,
    "start_time": "2022-11-02T19:18:57.115Z"
   },
   {
    "duration": 20,
    "start_time": "2022-11-02T19:18:57.123Z"
   },
   {
    "duration": 8,
    "start_time": "2022-11-02T19:18:57.144Z"
   },
   {
    "duration": 21,
    "start_time": "2022-11-02T19:18:57.154Z"
   },
   {
    "duration": 47,
    "start_time": "2022-11-02T19:18:57.176Z"
   },
   {
    "duration": 19,
    "start_time": "2022-11-02T19:18:57.224Z"
   },
   {
    "duration": 15,
    "start_time": "2022-11-02T19:18:57.244Z"
   },
   {
    "duration": 12,
    "start_time": "2022-11-02T19:18:57.261Z"
   },
   {
    "duration": 37,
    "start_time": "2022-11-02T19:18:57.275Z"
   },
   {
    "duration": 6,
    "start_time": "2022-11-02T19:18:57.317Z"
   },
   {
    "duration": 14,
    "start_time": "2022-11-02T19:18:57.325Z"
   },
   {
    "duration": 8,
    "start_time": "2022-11-02T19:18:57.341Z"
   },
   {
    "duration": 15,
    "start_time": "2022-11-02T19:18:57.351Z"
   },
   {
    "duration": 39,
    "start_time": "2022-11-02T19:18:57.368Z"
   },
   {
    "duration": 8,
    "start_time": "2022-11-02T19:18:57.409Z"
   },
   {
    "duration": 23,
    "start_time": "2022-11-02T19:18:57.421Z"
   },
   {
    "duration": 24,
    "start_time": "2022-11-02T19:18:57.446Z"
   },
   {
    "duration": 38,
    "start_time": "2022-11-02T19:18:57.472Z"
   },
   {
    "duration": 11,
    "start_time": "2022-11-02T19:18:57.512Z"
   },
   {
    "duration": 24,
    "start_time": "2022-11-02T19:18:57.524Z"
   },
   {
    "duration": 11,
    "start_time": "2022-11-02T19:18:57.550Z"
   },
   {
    "duration": 19,
    "start_time": "2022-11-02T19:18:57.563Z"
   },
   {
    "duration": 7,
    "start_time": "2022-11-02T19:18:57.583Z"
   },
   {
    "duration": 5,
    "start_time": "2022-11-02T19:18:57.592Z"
   },
   {
    "duration": 70,
    "start_time": "2022-11-02T19:18:57.599Z"
   },
   {
    "duration": 334,
    "start_time": "2022-11-02T19:18:57.671Z"
   },
   {
    "duration": 328,
    "start_time": "2022-11-02T19:18:58.007Z"
   },
   {
    "duration": 53,
    "start_time": "2022-11-02T19:18:58.337Z"
   },
   {
    "duration": 16,
    "start_time": "2022-11-02T19:18:58.391Z"
   },
   {
    "duration": 107,
    "start_time": "2022-11-02T19:18:58.409Z"
   },
   {
    "duration": 359,
    "start_time": "2022-11-02T19:18:58.517Z"
   },
   {
    "duration": 9,
    "start_time": "2022-11-02T19:18:58.878Z"
   },
   {
    "duration": 132,
    "start_time": "2022-11-02T19:18:58.888Z"
   },
   {
    "duration": 9,
    "start_time": "2022-11-02T19:18:59.023Z"
   },
   {
    "duration": 121,
    "start_time": "2022-11-02T19:18:59.034Z"
   },
   {
    "duration": 8,
    "start_time": "2022-11-02T19:18:59.157Z"
   },
   {
    "duration": 126,
    "start_time": "2022-11-02T19:18:59.167Z"
   },
   {
    "duration": 150,
    "start_time": "2022-11-02T19:18:59.295Z"
   },
   {
    "duration": 153,
    "start_time": "2022-11-02T19:18:59.447Z"
   },
   {
    "duration": 7,
    "start_time": "2022-11-02T19:18:59.602Z"
   },
   {
    "duration": 156,
    "start_time": "2022-11-02T19:18:59.610Z"
   },
   {
    "duration": 156,
    "start_time": "2022-11-02T19:18:59.768Z"
   },
   {
    "duration": 6,
    "start_time": "2022-11-02T19:18:59.926Z"
   },
   {
    "duration": 158,
    "start_time": "2022-11-02T19:18:59.933Z"
   },
   {
    "duration": 144,
    "start_time": "2022-11-02T19:19:00.093Z"
   },
   {
    "duration": 6,
    "start_time": "2022-11-02T19:19:00.239Z"
   },
   {
    "duration": 311,
    "start_time": "2022-11-02T19:19:00.246Z"
   },
   {
    "duration": 170,
    "start_time": "2022-11-02T19:19:00.559Z"
   },
   {
    "duration": 176,
    "start_time": "2022-11-02T19:19:00.731Z"
   },
   {
    "duration": 163,
    "start_time": "2022-11-02T19:19:00.909Z"
   },
   {
    "duration": 167,
    "start_time": "2022-11-02T19:19:01.073Z"
   },
   {
    "duration": 207,
    "start_time": "2022-11-02T19:19:01.241Z"
   },
   {
    "duration": 151,
    "start_time": "2022-11-02T19:19:01.449Z"
   },
   {
    "duration": 344,
    "start_time": "2022-11-02T19:19:01.601Z"
   },
   {
    "duration": 209,
    "start_time": "2022-11-02T19:19:01.946Z"
   },
   {
    "duration": 462,
    "start_time": "2022-11-02T19:19:02.156Z"
   },
   {
    "duration": 8,
    "start_time": "2022-11-02T19:19:02.620Z"
   },
   {
    "duration": 11,
    "start_time": "2022-11-02T19:19:02.629Z"
   },
   {
    "duration": 9,
    "start_time": "2022-11-02T20:01:00.493Z"
   },
   {
    "duration": 80,
    "start_time": "2022-11-03T06:13:55.096Z"
   },
   {
    "duration": 40,
    "start_time": "2022-11-03T06:14:18.087Z"
   },
   {
    "duration": 718,
    "start_time": "2022-11-03T06:14:27.640Z"
   },
   {
    "duration": 183,
    "start_time": "2022-11-03T06:14:28.360Z"
   },
   {
    "duration": 13,
    "start_time": "2022-11-03T06:14:28.544Z"
   },
   {
    "duration": 22,
    "start_time": "2022-11-03T06:14:28.558Z"
   },
   {
    "duration": 15,
    "start_time": "2022-11-03T06:14:30.688Z"
   },
   {
    "duration": 4,
    "start_time": "2022-11-03T06:15:18.807Z"
   },
   {
    "duration": 3,
    "start_time": "2022-11-03T06:15:29.406Z"
   },
   {
    "duration": 57,
    "start_time": "2022-11-03T06:15:29.411Z"
   },
   {
    "duration": 11,
    "start_time": "2022-11-03T06:15:29.470Z"
   },
   {
    "duration": 22,
    "start_time": "2022-11-03T06:15:29.482Z"
   },
   {
    "duration": 30,
    "start_time": "2022-11-03T06:15:29.505Z"
   },
   {
    "duration": 4,
    "start_time": "2022-11-03T06:15:33.178Z"
   },
   {
    "duration": 70,
    "start_time": "2022-11-03T06:15:57.134Z"
   },
   {
    "duration": 9,
    "start_time": "2022-11-03T06:16:03.348Z"
   },
   {
    "duration": 5,
    "start_time": "2022-11-03T06:17:17.871Z"
   },
   {
    "duration": 3,
    "start_time": "2022-11-03T06:17:33.959Z"
   },
   {
    "duration": 55,
    "start_time": "2022-11-03T06:17:33.964Z"
   },
   {
    "duration": 13,
    "start_time": "2022-11-03T06:17:34.021Z"
   },
   {
    "duration": 13,
    "start_time": "2022-11-03T06:17:34.035Z"
   },
   {
    "duration": 22,
    "start_time": "2022-11-03T06:17:34.050Z"
   },
   {
    "duration": 5,
    "start_time": "2022-11-03T06:17:34.074Z"
   },
   {
    "duration": 13,
    "start_time": "2022-11-03T06:17:34.080Z"
   },
   {
    "duration": 44,
    "start_time": "2022-11-03T06:17:34.094Z"
   },
   {
    "duration": 9,
    "start_time": "2022-11-03T06:17:34.139Z"
   },
   {
    "duration": 19,
    "start_time": "2022-11-03T06:20:59.586Z"
   },
   {
    "duration": 3,
    "start_time": "2022-11-03T06:21:29.462Z"
   },
   {
    "duration": 60,
    "start_time": "2022-11-03T06:21:29.467Z"
   },
   {
    "duration": 13,
    "start_time": "2022-11-03T06:21:29.532Z"
   },
   {
    "duration": 13,
    "start_time": "2022-11-03T06:21:29.547Z"
   },
   {
    "duration": 20,
    "start_time": "2022-11-03T06:21:29.562Z"
   },
   {
    "duration": 4,
    "start_time": "2022-11-03T06:21:29.584Z"
   },
   {
    "duration": 11,
    "start_time": "2022-11-03T06:21:29.589Z"
   },
   {
    "duration": 25,
    "start_time": "2022-11-03T06:21:29.601Z"
   },
   {
    "duration": 7,
    "start_time": "2022-11-03T06:21:29.628Z"
   },
   {
    "duration": 6,
    "start_time": "2022-11-03T06:23:21.011Z"
   },
   {
    "duration": 9,
    "start_time": "2022-11-03T06:23:41.373Z"
   },
   {
    "duration": 2,
    "start_time": "2022-11-03T06:23:48.618Z"
   },
   {
    "duration": 60,
    "start_time": "2022-11-03T06:23:48.622Z"
   },
   {
    "duration": 11,
    "start_time": "2022-11-03T06:23:48.684Z"
   },
   {
    "duration": 11,
    "start_time": "2022-11-03T06:23:48.697Z"
   },
   {
    "duration": 18,
    "start_time": "2022-11-03T06:23:48.710Z"
   },
   {
    "duration": 3,
    "start_time": "2022-11-03T06:23:48.730Z"
   },
   {
    "duration": 11,
    "start_time": "2022-11-03T06:23:48.735Z"
   },
   {
    "duration": 16,
    "start_time": "2022-11-03T06:23:48.747Z"
   },
   {
    "duration": 6,
    "start_time": "2022-11-03T06:23:48.764Z"
   },
   {
    "duration": 19,
    "start_time": "2022-11-03T06:23:48.772Z"
   },
   {
    "duration": 68,
    "start_time": "2022-11-03T06:26:27.832Z"
   },
   {
    "duration": 73,
    "start_time": "2022-11-03T06:34:58.433Z"
   },
   {
    "duration": 246,
    "start_time": "2022-11-03T06:35:37.611Z"
   },
   {
    "duration": 78,
    "start_time": "2022-11-03T06:39:20.910Z"
   },
   {
    "duration": 2,
    "start_time": "2022-11-03T06:39:50.428Z"
   },
   {
    "duration": 63,
    "start_time": "2022-11-03T06:39:50.432Z"
   },
   {
    "duration": 12,
    "start_time": "2022-11-03T06:39:50.497Z"
   },
   {
    "duration": 12,
    "start_time": "2022-11-03T06:39:50.510Z"
   },
   {
    "duration": 16,
    "start_time": "2022-11-03T06:39:50.524Z"
   },
   {
    "duration": 3,
    "start_time": "2022-11-03T06:39:50.541Z"
   },
   {
    "duration": 15,
    "start_time": "2022-11-03T06:39:50.546Z"
   },
   {
    "duration": 17,
    "start_time": "2022-11-03T06:39:50.562Z"
   },
   {
    "duration": 8,
    "start_time": "2022-11-03T06:39:50.580Z"
   },
   {
    "duration": 22,
    "start_time": "2022-11-03T06:39:50.589Z"
   },
   {
    "duration": 4,
    "start_time": "2022-11-03T06:39:50.621Z"
   },
   {
    "duration": 40,
    "start_time": "2022-11-03T06:39:50.626Z"
   },
   {
    "duration": 68,
    "start_time": "2022-11-03T06:44:01.139Z"
   },
   {
    "duration": 74,
    "start_time": "2022-11-03T06:50:33.149Z"
   },
   {
    "duration": 71,
    "start_time": "2022-11-03T06:56:25.791Z"
   },
   {
    "duration": 6,
    "start_time": "2022-11-03T06:56:33.419Z"
   },
   {
    "duration": 6,
    "start_time": "2022-11-03T06:57:00.319Z"
   },
   {
    "duration": 2,
    "start_time": "2022-11-03T06:59:05.536Z"
   },
   {
    "duration": 75,
    "start_time": "2022-11-03T06:59:05.540Z"
   },
   {
    "duration": 18,
    "start_time": "2022-11-03T06:59:05.617Z"
   },
   {
    "duration": 45,
    "start_time": "2022-11-03T06:59:05.637Z"
   },
   {
    "duration": 32,
    "start_time": "2022-11-03T06:59:05.683Z"
   },
   {
    "duration": 33,
    "start_time": "2022-11-03T06:59:05.716Z"
   },
   {
    "duration": 36,
    "start_time": "2022-11-03T06:59:05.751Z"
   },
   {
    "duration": 29,
    "start_time": "2022-11-03T06:59:05.788Z"
   },
   {
    "duration": 43,
    "start_time": "2022-11-03T06:59:05.819Z"
   },
   {
    "duration": 43,
    "start_time": "2022-11-03T06:59:05.864Z"
   },
   {
    "duration": 5,
    "start_time": "2022-11-03T06:59:05.908Z"
   },
   {
    "duration": 67,
    "start_time": "2022-11-03T06:59:05.915Z"
   },
   {
    "duration": 31,
    "start_time": "2022-11-03T06:59:05.984Z"
   },
   {
    "duration": 29,
    "start_time": "2022-11-03T06:59:06.017Z"
   },
   {
    "duration": 45,
    "start_time": "2022-11-03T06:59:06.048Z"
   },
   {
    "duration": 19,
    "start_time": "2022-11-03T06:59:06.094Z"
   },
   {
    "duration": 54,
    "start_time": "2022-11-03T06:59:06.115Z"
   },
   {
    "duration": 25,
    "start_time": "2022-11-03T06:59:06.171Z"
   },
   {
    "duration": 20,
    "start_time": "2022-11-03T06:59:06.198Z"
   },
   {
    "duration": 52,
    "start_time": "2022-11-03T06:59:06.220Z"
   },
   {
    "duration": 6,
    "start_time": "2022-11-03T07:04:13.368Z"
   },
   {
    "duration": 11,
    "start_time": "2022-11-03T07:04:41.845Z"
   },
   {
    "duration": 9,
    "start_time": "2022-11-03T07:04:52.134Z"
   },
   {
    "duration": 8,
    "start_time": "2022-11-03T07:05:43.220Z"
   },
   {
    "duration": 35,
    "start_time": "2022-11-03T07:18:28.405Z"
   },
   {
    "duration": 3,
    "start_time": "2022-11-03T07:18:37.301Z"
   },
   {
    "duration": 66,
    "start_time": "2022-11-03T07:18:37.307Z"
   },
   {
    "duration": 14,
    "start_time": "2022-11-03T07:18:37.376Z"
   },
   {
    "duration": 17,
    "start_time": "2022-11-03T07:18:37.392Z"
   },
   {
    "duration": 35,
    "start_time": "2022-11-03T07:18:37.411Z"
   },
   {
    "duration": 8,
    "start_time": "2022-11-03T07:18:37.448Z"
   },
   {
    "duration": 19,
    "start_time": "2022-11-03T07:18:37.459Z"
   },
   {
    "duration": 24,
    "start_time": "2022-11-03T07:18:37.481Z"
   },
   {
    "duration": 17,
    "start_time": "2022-11-03T07:18:37.507Z"
   },
   {
    "duration": 22,
    "start_time": "2022-11-03T07:18:37.526Z"
   },
   {
    "duration": 26,
    "start_time": "2022-11-03T07:18:37.551Z"
   },
   {
    "duration": 37,
    "start_time": "2022-11-03T07:18:37.578Z"
   },
   {
    "duration": 32,
    "start_time": "2022-11-03T07:18:37.617Z"
   },
   {
    "duration": 31,
    "start_time": "2022-11-03T07:18:37.651Z"
   },
   {
    "duration": 45,
    "start_time": "2022-11-03T07:18:37.684Z"
   },
   {
    "duration": 11,
    "start_time": "2022-11-03T07:18:37.731Z"
   },
   {
    "duration": 8,
    "start_time": "2022-11-03T07:18:37.743Z"
   },
   {
    "duration": 12,
    "start_time": "2022-11-03T07:18:37.752Z"
   },
   {
    "duration": 5,
    "start_time": "2022-11-03T07:18:37.765Z"
   },
   {
    "duration": 16,
    "start_time": "2022-11-03T07:18:37.772Z"
   },
   {
    "duration": 6,
    "start_time": "2022-11-03T07:18:37.823Z"
   },
   {
    "duration": 8,
    "start_time": "2022-11-03T07:18:37.830Z"
   },
   {
    "duration": 13,
    "start_time": "2022-11-03T07:18:37.839Z"
   },
   {
    "duration": 30,
    "start_time": "2022-11-03T07:18:37.854Z"
   },
   {
    "duration": 36,
    "start_time": "2022-11-03T07:18:37.886Z"
   },
   {
    "duration": 10,
    "start_time": "2022-11-03T07:18:37.923Z"
   },
   {
    "duration": 11,
    "start_time": "2022-11-03T07:18:37.935Z"
   },
   {
    "duration": 16,
    "start_time": "2022-11-03T07:18:37.947Z"
   },
   {
    "duration": 5,
    "start_time": "2022-11-03T07:18:37.967Z"
   },
   {
    "duration": 4,
    "start_time": "2022-11-03T07:18:37.974Z"
   },
   {
    "duration": 104,
    "start_time": "2022-11-03T07:18:37.979Z"
   },
   {
    "duration": 407,
    "start_time": "2022-11-03T07:18:38.085Z"
   },
   {
    "duration": 352,
    "start_time": "2022-11-03T07:18:38.494Z"
   },
   {
    "duration": 6,
    "start_time": "2022-11-03T07:19:42.485Z"
   },
   {
    "duration": 5,
    "start_time": "2022-11-03T07:22:28.847Z"
   },
   {
    "duration": 3,
    "start_time": "2022-11-03T07:22:55.472Z"
   },
   {
    "duration": 54,
    "start_time": "2022-11-03T07:22:55.476Z"
   },
   {
    "duration": 16,
    "start_time": "2022-11-03T07:22:55.532Z"
   },
   {
    "duration": 13,
    "start_time": "2022-11-03T07:22:55.549Z"
   },
   {
    "duration": 15,
    "start_time": "2022-11-03T07:22:55.565Z"
   },
   {
    "duration": 4,
    "start_time": "2022-11-03T07:22:55.581Z"
   },
   {
    "duration": 39,
    "start_time": "2022-11-03T07:22:55.586Z"
   },
   {
    "duration": 15,
    "start_time": "2022-11-03T07:22:55.626Z"
   },
   {
    "duration": 8,
    "start_time": "2022-11-03T07:22:55.643Z"
   },
   {
    "duration": 104,
    "start_time": "2022-11-03T07:22:55.652Z"
   },
   {
    "duration": 5,
    "start_time": "2022-11-03T07:22:55.759Z"
   },
   {
    "duration": 5,
    "start_time": "2022-11-03T07:22:55.766Z"
   },
   {
    "duration": 22,
    "start_time": "2022-11-03T07:22:55.773Z"
   },
   {
    "duration": 48,
    "start_time": "2022-11-03T07:22:55.798Z"
   },
   {
    "duration": 20,
    "start_time": "2022-11-03T07:22:55.847Z"
   },
   {
    "duration": 20,
    "start_time": "2022-11-03T07:22:55.868Z"
   },
   {
    "duration": 38,
    "start_time": "2022-11-03T07:22:55.889Z"
   },
   {
    "duration": 13,
    "start_time": "2022-11-03T07:22:55.929Z"
   },
   {
    "duration": 15,
    "start_time": "2022-11-03T07:22:55.943Z"
   },
   {
    "duration": 12,
    "start_time": "2022-11-03T07:22:55.960Z"
   },
   {
    "duration": 22,
    "start_time": "2022-11-03T07:22:55.974Z"
   },
   {
    "duration": 8,
    "start_time": "2022-11-03T07:22:55.998Z"
   },
   {
    "duration": 18,
    "start_time": "2022-11-03T07:22:56.008Z"
   },
   {
    "duration": 33,
    "start_time": "2022-11-03T07:22:56.028Z"
   },
   {
    "duration": 24,
    "start_time": "2022-11-03T07:22:56.063Z"
   },
   {
    "duration": 5,
    "start_time": "2022-11-03T07:22:56.089Z"
   },
   {
    "duration": 21,
    "start_time": "2022-11-03T07:22:56.096Z"
   },
   {
    "duration": 31,
    "start_time": "2022-11-03T07:22:56.119Z"
   },
   {
    "duration": 13,
    "start_time": "2022-11-03T07:22:56.156Z"
   },
   {
    "duration": 11,
    "start_time": "2022-11-03T07:22:56.171Z"
   },
   {
    "duration": 6,
    "start_time": "2022-11-03T07:22:56.184Z"
   },
   {
    "duration": 98,
    "start_time": "2022-11-03T07:22:56.192Z"
   },
   {
    "duration": 402,
    "start_time": "2022-11-03T07:22:56.294Z"
   },
   {
    "duration": 341,
    "start_time": "2022-11-03T07:22:56.698Z"
   },
   {
    "duration": 60,
    "start_time": "2022-11-03T07:23:02.291Z"
   },
   {
    "duration": 3,
    "start_time": "2022-11-03T07:42:58.687Z"
   },
   {
    "duration": 50,
    "start_time": "2022-11-03T07:42:58.693Z"
   },
   {
    "duration": 12,
    "start_time": "2022-11-03T07:42:58.745Z"
   },
   {
    "duration": 18,
    "start_time": "2022-11-03T07:42:58.758Z"
   },
   {
    "duration": 16,
    "start_time": "2022-11-03T07:42:58.777Z"
   },
   {
    "duration": 3,
    "start_time": "2022-11-03T07:42:58.794Z"
   },
   {
    "duration": 31,
    "start_time": "2022-11-03T07:42:58.799Z"
   },
   {
    "duration": 15,
    "start_time": "2022-11-03T07:42:58.832Z"
   },
   {
    "duration": 53,
    "start_time": "2022-11-03T07:42:58.848Z"
   },
   {
    "duration": 20,
    "start_time": "2022-11-03T07:42:58.903Z"
   },
   {
    "duration": 4,
    "start_time": "2022-11-03T07:42:58.925Z"
   },
   {
    "duration": 23,
    "start_time": "2022-11-03T07:42:58.930Z"
   },
   {
    "duration": 33,
    "start_time": "2022-11-03T07:42:58.955Z"
   },
   {
    "duration": 17,
    "start_time": "2022-11-03T07:42:58.990Z"
   },
   {
    "duration": 28,
    "start_time": "2022-11-03T07:42:59.009Z"
   },
   {
    "duration": 29,
    "start_time": "2022-11-03T07:42:59.038Z"
   },
   {
    "duration": 12,
    "start_time": "2022-11-03T07:42:59.068Z"
   },
   {
    "duration": 13,
    "start_time": "2022-11-03T07:42:59.082Z"
   },
   {
    "duration": 28,
    "start_time": "2022-11-03T07:42:59.096Z"
   },
   {
    "duration": 15,
    "start_time": "2022-11-03T07:42:59.125Z"
   },
   {
    "duration": 17,
    "start_time": "2022-11-03T07:42:59.141Z"
   },
   {
    "duration": 21,
    "start_time": "2022-11-03T07:42:59.159Z"
   },
   {
    "duration": 13,
    "start_time": "2022-11-03T07:42:59.181Z"
   },
   {
    "duration": 21,
    "start_time": "2022-11-03T07:42:59.195Z"
   },
   {
    "duration": 27,
    "start_time": "2022-11-03T07:42:59.217Z"
   },
   {
    "duration": 9,
    "start_time": "2022-11-03T07:42:59.245Z"
   },
   {
    "duration": 22,
    "start_time": "2022-11-03T07:42:59.255Z"
   },
   {
    "duration": 13,
    "start_time": "2022-11-03T07:42:59.279Z"
   },
   {
    "duration": 31,
    "start_time": "2022-11-03T07:42:59.296Z"
   },
   {
    "duration": 13,
    "start_time": "2022-11-03T07:42:59.329Z"
   },
   {
    "duration": 19,
    "start_time": "2022-11-03T07:42:59.344Z"
   },
   {
    "duration": 86,
    "start_time": "2022-11-03T07:42:59.365Z"
   },
   {
    "duration": 280,
    "start_time": "2022-11-03T07:42:59.453Z"
   },
   {
    "duration": 292,
    "start_time": "2022-11-03T07:42:59.735Z"
   },
   {
    "duration": 54,
    "start_time": "2022-11-03T07:43:00.029Z"
   },
   {
    "duration": 5,
    "start_time": "2022-11-03T07:43:14.990Z"
   },
   {
    "duration": 20,
    "start_time": "2022-11-03T07:44:54.660Z"
   },
   {
    "duration": 2,
    "start_time": "2022-11-03T07:48:24.636Z"
   },
   {
    "duration": 53,
    "start_time": "2022-11-03T07:48:24.640Z"
   },
   {
    "duration": 13,
    "start_time": "2022-11-03T07:48:24.695Z"
   },
   {
    "duration": 13,
    "start_time": "2022-11-03T07:48:24.709Z"
   },
   {
    "duration": 19,
    "start_time": "2022-11-03T07:48:24.725Z"
   },
   {
    "duration": 5,
    "start_time": "2022-11-03T07:48:24.745Z"
   },
   {
    "duration": 9,
    "start_time": "2022-11-03T07:48:24.751Z"
   },
   {
    "duration": 15,
    "start_time": "2022-11-03T07:48:24.761Z"
   },
   {
    "duration": 11,
    "start_time": "2022-11-03T07:48:24.777Z"
   },
   {
    "duration": 43,
    "start_time": "2022-11-03T07:48:24.789Z"
   },
   {
    "duration": 5,
    "start_time": "2022-11-03T07:48:24.835Z"
   },
   {
    "duration": 7,
    "start_time": "2022-11-03T07:48:24.841Z"
   },
   {
    "duration": 21,
    "start_time": "2022-11-03T07:48:24.849Z"
   },
   {
    "duration": 18,
    "start_time": "2022-11-03T07:48:24.872Z"
   },
   {
    "duration": 46,
    "start_time": "2022-11-03T07:48:24.892Z"
   },
   {
    "duration": 18,
    "start_time": "2022-11-03T07:48:24.939Z"
   },
   {
    "duration": 11,
    "start_time": "2022-11-03T07:48:24.959Z"
   },
   {
    "duration": 5,
    "start_time": "2022-11-03T07:48:24.972Z"
   },
   {
    "duration": 10,
    "start_time": "2022-11-03T07:48:24.979Z"
   },
   {
    "duration": 7,
    "start_time": "2022-11-03T07:48:25.021Z"
   },
   {
    "duration": 13,
    "start_time": "2022-11-03T07:48:25.029Z"
   },
   {
    "duration": 6,
    "start_time": "2022-11-03T07:48:25.044Z"
   },
   {
    "duration": 5,
    "start_time": "2022-11-03T07:48:25.052Z"
   },
   {
    "duration": 10,
    "start_time": "2022-11-03T07:48:25.059Z"
   },
   {
    "duration": 52,
    "start_time": "2022-11-03T07:48:25.070Z"
   },
   {
    "duration": 4,
    "start_time": "2022-11-03T07:48:25.124Z"
   },
   {
    "duration": 11,
    "start_time": "2022-11-03T07:48:25.129Z"
   },
   {
    "duration": 4,
    "start_time": "2022-11-03T07:48:25.142Z"
   },
   {
    "duration": 9,
    "start_time": "2022-11-03T07:48:25.148Z"
   },
   {
    "duration": 4,
    "start_time": "2022-11-03T07:48:25.158Z"
   },
   {
    "duration": 5,
    "start_time": "2022-11-03T07:48:25.163Z"
   },
   {
    "duration": 85,
    "start_time": "2022-11-03T07:48:25.169Z"
   },
   {
    "duration": 295,
    "start_time": "2022-11-03T07:48:25.255Z"
   },
   {
    "duration": 342,
    "start_time": "2022-11-03T07:48:25.551Z"
   },
   {
    "duration": 54,
    "start_time": "2022-11-03T07:48:25.895Z"
   },
   {
    "duration": 5,
    "start_time": "2022-11-03T07:48:41.599Z"
   },
   {
    "duration": 21,
    "start_time": "2022-11-03T07:48:45.797Z"
   },
   {
    "duration": 22,
    "start_time": "2022-11-03T07:51:41.099Z"
   },
   {
    "duration": 72,
    "start_time": "2022-11-03T07:52:39.582Z"
   },
   {
    "duration": 20,
    "start_time": "2022-11-03T07:53:31.997Z"
   },
   {
    "duration": 16,
    "start_time": "2022-11-03T07:54:31.536Z"
   },
   {
    "duration": 28,
    "start_time": "2022-11-03T07:54:39.359Z"
   },
   {
    "duration": 21,
    "start_time": "2022-11-03T07:54:42.702Z"
   },
   {
    "duration": 16,
    "start_time": "2022-11-03T07:54:47.677Z"
   },
   {
    "duration": 18,
    "start_time": "2022-11-03T07:54:56.550Z"
   },
   {
    "duration": 139,
    "start_time": "2022-11-03T07:55:06.926Z"
   },
   {
    "duration": 300,
    "start_time": "2022-11-03T07:56:00.032Z"
   },
   {
    "duration": 266,
    "start_time": "2022-11-03T07:57:23.633Z"
   },
   {
    "duration": 230,
    "start_time": "2022-11-03T07:57:30.475Z"
   },
   {
    "duration": 215,
    "start_time": "2022-11-03T07:57:34.937Z"
   },
   {
    "duration": 214,
    "start_time": "2022-11-03T07:57:46.310Z"
   },
   {
    "duration": 236,
    "start_time": "2022-11-03T07:57:52.178Z"
   },
   {
    "duration": 286,
    "start_time": "2022-11-03T07:57:55.960Z"
   },
   {
    "duration": 208,
    "start_time": "2022-11-03T07:58:03.731Z"
   },
   {
    "duration": 216,
    "start_time": "2022-11-03T07:58:31.686Z"
   },
   {
    "duration": 290,
    "start_time": "2022-11-03T08:16:16.801Z"
   },
   {
    "duration": 236,
    "start_time": "2022-11-03T08:17:24.365Z"
   },
   {
    "duration": 123,
    "start_time": "2022-11-03T08:20:53.436Z"
   },
   {
    "duration": 113,
    "start_time": "2022-11-03T08:21:23.959Z"
   },
   {
    "duration": 3,
    "start_time": "2022-11-03T08:25:07.265Z"
   },
   {
    "duration": 65,
    "start_time": "2022-11-03T08:25:07.270Z"
   },
   {
    "duration": 12,
    "start_time": "2022-11-03T08:25:07.337Z"
   },
   {
    "duration": 22,
    "start_time": "2022-11-03T08:25:07.351Z"
   },
   {
    "duration": 22,
    "start_time": "2022-11-03T08:25:07.375Z"
   },
   {
    "duration": 4,
    "start_time": "2022-11-03T08:25:07.399Z"
   },
   {
    "duration": 42,
    "start_time": "2022-11-03T08:25:07.405Z"
   },
   {
    "duration": 17,
    "start_time": "2022-11-03T08:25:07.449Z"
   },
   {
    "duration": 7,
    "start_time": "2022-11-03T08:25:07.467Z"
   },
   {
    "duration": 18,
    "start_time": "2022-11-03T08:25:07.475Z"
   },
   {
    "duration": 5,
    "start_time": "2022-11-03T08:25:07.496Z"
   },
   {
    "duration": 7,
    "start_time": "2022-11-03T08:25:07.502Z"
   },
   {
    "duration": 36,
    "start_time": "2022-11-03T08:25:07.511Z"
   },
   {
    "duration": 19,
    "start_time": "2022-11-03T08:25:07.549Z"
   },
   {
    "duration": 19,
    "start_time": "2022-11-03T08:25:07.570Z"
   },
   {
    "duration": 45,
    "start_time": "2022-11-03T08:25:07.591Z"
   },
   {
    "duration": 11,
    "start_time": "2022-11-03T08:25:07.638Z"
   },
   {
    "duration": 5,
    "start_time": "2022-11-03T08:25:07.650Z"
   },
   {
    "duration": 11,
    "start_time": "2022-11-03T08:25:07.657Z"
   },
   {
    "duration": 7,
    "start_time": "2022-11-03T08:25:07.670Z"
   },
   {
    "duration": 14,
    "start_time": "2022-11-03T08:25:07.678Z"
   },
   {
    "duration": 6,
    "start_time": "2022-11-03T08:25:07.693Z"
   },
   {
    "duration": 36,
    "start_time": "2022-11-03T08:25:07.700Z"
   },
   {
    "duration": 17,
    "start_time": "2022-11-03T08:25:07.737Z"
   },
   {
    "duration": 22,
    "start_time": "2022-11-03T08:25:07.755Z"
   },
   {
    "duration": 6,
    "start_time": "2022-11-03T08:25:07.779Z"
   },
   {
    "duration": 18,
    "start_time": "2022-11-03T08:25:07.789Z"
   },
   {
    "duration": 6,
    "start_time": "2022-11-03T08:25:07.809Z"
   },
   {
    "duration": 14,
    "start_time": "2022-11-03T08:25:07.821Z"
   },
   {
    "duration": 14,
    "start_time": "2022-11-03T08:25:07.838Z"
   },
   {
    "duration": 5,
    "start_time": "2022-11-03T08:25:07.853Z"
   },
   {
    "duration": 77,
    "start_time": "2022-11-03T08:25:07.859Z"
   },
   {
    "duration": 299,
    "start_time": "2022-11-03T08:25:07.938Z"
   },
   {
    "duration": 296,
    "start_time": "2022-11-03T08:25:08.239Z"
   },
   {
    "duration": 51,
    "start_time": "2022-11-03T08:25:08.536Z"
   },
   {
    "duration": 21,
    "start_time": "2022-11-03T08:25:08.589Z"
   },
   {
    "duration": 25,
    "start_time": "2022-11-03T08:25:08.611Z"
   },
   {
    "duration": 222,
    "start_time": "2022-11-03T08:25:08.637Z"
   },
   {
    "duration": 105,
    "start_time": "2022-11-03T08:26:39.198Z"
   },
   {
    "duration": 108,
    "start_time": "2022-11-03T08:27:31.791Z"
   },
   {
    "duration": 163,
    "start_time": "2022-11-03T08:29:20.504Z"
   },
   {
    "duration": 7,
    "start_time": "2022-11-03T08:29:45.171Z"
   },
   {
    "duration": 170,
    "start_time": "2022-11-03T09:11:18.530Z"
   },
   {
    "duration": 10,
    "start_time": "2022-11-03T09:11:38.569Z"
   },
   {
    "duration": 80,
    "start_time": "2022-11-03T09:12:01.111Z"
   },
   {
    "duration": 3,
    "start_time": "2022-11-03T09:12:52.201Z"
   },
   {
    "duration": 76,
    "start_time": "2022-11-03T09:12:59.511Z"
   },
   {
    "duration": 145,
    "start_time": "2022-11-03T09:19:32.816Z"
   },
   {
    "duration": 13,
    "start_time": "2022-11-03T09:21:23.571Z"
   },
   {
    "duration": 9,
    "start_time": "2022-11-03T09:21:27.027Z"
   },
   {
    "duration": 617,
    "start_time": "2022-11-03T09:24:11.404Z"
   },
   {
    "duration": 255,
    "start_time": "2022-11-03T09:25:00.741Z"
   },
   {
    "duration": 247,
    "start_time": "2022-11-03T09:26:23.688Z"
   },
   {
    "duration": 243,
    "start_time": "2022-11-03T09:26:53.447Z"
   },
   {
    "duration": 261,
    "start_time": "2022-11-03T09:28:12.135Z"
   },
   {
    "duration": 3,
    "start_time": "2022-11-03T09:28:45.360Z"
   },
   {
    "duration": 339,
    "start_time": "2022-11-03T09:29:16.396Z"
   },
   {
    "duration": 410,
    "start_time": "2022-11-03T09:29:30.242Z"
   },
   {
    "duration": 335,
    "start_time": "2022-11-03T09:29:55.573Z"
   },
   {
    "duration": 353,
    "start_time": "2022-11-03T09:29:58.463Z"
   },
   {
    "duration": 355,
    "start_time": "2022-11-03T09:30:11.167Z"
   },
   {
    "duration": 140,
    "start_time": "2022-11-03T09:30:37.129Z"
   },
   {
    "duration": 334,
    "start_time": "2022-11-03T09:30:51.628Z"
   },
   {
    "duration": 426,
    "start_time": "2022-11-03T09:33:42.547Z"
   },
   {
    "duration": 3,
    "start_time": "2022-11-03T09:33:55.819Z"
   },
   {
    "duration": 53,
    "start_time": "2022-11-03T09:33:55.825Z"
   },
   {
    "duration": 11,
    "start_time": "2022-11-03T09:33:55.880Z"
   },
   {
    "duration": 13,
    "start_time": "2022-11-03T09:33:55.892Z"
   },
   {
    "duration": 19,
    "start_time": "2022-11-03T09:33:55.906Z"
   },
   {
    "duration": 4,
    "start_time": "2022-11-03T09:33:55.927Z"
   },
   {
    "duration": 11,
    "start_time": "2022-11-03T09:33:55.933Z"
   },
   {
    "duration": 15,
    "start_time": "2022-11-03T09:33:55.946Z"
   },
   {
    "duration": 17,
    "start_time": "2022-11-03T09:33:55.962Z"
   },
   {
    "duration": 28,
    "start_time": "2022-11-03T09:33:55.980Z"
   },
   {
    "duration": 16,
    "start_time": "2022-11-03T09:33:56.009Z"
   },
   {
    "duration": 11,
    "start_time": "2022-11-03T09:33:56.027Z"
   },
   {
    "duration": 32,
    "start_time": "2022-11-03T09:33:56.039Z"
   },
   {
    "duration": 23,
    "start_time": "2022-11-03T09:33:56.073Z"
   },
   {
    "duration": 39,
    "start_time": "2022-11-03T09:33:56.100Z"
   },
   {
    "duration": 23,
    "start_time": "2022-11-03T09:33:56.141Z"
   },
   {
    "duration": 14,
    "start_time": "2022-11-03T09:33:56.165Z"
   },
   {
    "duration": 12,
    "start_time": "2022-11-03T09:33:56.180Z"
   },
   {
    "duration": 35,
    "start_time": "2022-11-03T09:33:56.194Z"
   },
   {
    "duration": 10,
    "start_time": "2022-11-03T09:33:56.231Z"
   },
   {
    "duration": 18,
    "start_time": "2022-11-03T09:33:56.242Z"
   },
   {
    "duration": 6,
    "start_time": "2022-11-03T09:33:56.262Z"
   },
   {
    "duration": 22,
    "start_time": "2022-11-03T09:33:56.270Z"
   },
   {
    "duration": 25,
    "start_time": "2022-11-03T09:33:56.294Z"
   },
   {
    "duration": 23,
    "start_time": "2022-11-03T09:33:56.321Z"
   },
   {
    "duration": 4,
    "start_time": "2022-11-03T09:33:56.346Z"
   },
   {
    "duration": 11,
    "start_time": "2022-11-03T09:33:56.351Z"
   },
   {
    "duration": 8,
    "start_time": "2022-11-03T09:33:56.363Z"
   },
   {
    "duration": 16,
    "start_time": "2022-11-03T09:33:56.372Z"
   },
   {
    "duration": 4,
    "start_time": "2022-11-03T09:33:56.390Z"
   },
   {
    "duration": 4,
    "start_time": "2022-11-03T09:33:56.395Z"
   },
   {
    "duration": 82,
    "start_time": "2022-11-03T09:33:56.400Z"
   },
   {
    "duration": 312,
    "start_time": "2022-11-03T09:33:56.483Z"
   },
   {
    "duration": 318,
    "start_time": "2022-11-03T09:33:56.797Z"
   },
   {
    "duration": 58,
    "start_time": "2022-11-03T09:33:57.117Z"
   },
   {
    "duration": 4,
    "start_time": "2022-11-03T09:33:57.177Z"
   },
   {
    "duration": 22,
    "start_time": "2022-11-03T09:33:57.182Z"
   },
   {
    "duration": 268,
    "start_time": "2022-11-03T09:33:57.205Z"
   },
   {
    "duration": 328,
    "start_time": "2022-11-03T09:34:04.686Z"
   },
   {
    "duration": 350,
    "start_time": "2022-11-03T09:34:58.380Z"
   },
   {
    "duration": 296,
    "start_time": "2022-11-03T09:35:13.678Z"
   },
   {
    "duration": 201,
    "start_time": "2022-11-03T09:35:22.415Z"
   },
   {
    "duration": 200,
    "start_time": "2022-11-03T09:35:32.748Z"
   },
   {
    "duration": 210,
    "start_time": "2022-11-03T09:35:38.028Z"
   },
   {
    "duration": 209,
    "start_time": "2022-11-03T09:36:43.191Z"
   },
   {
    "duration": 296,
    "start_time": "2022-11-03T09:36:52.716Z"
   },
   {
    "duration": 244,
    "start_time": "2022-11-03T09:37:10.814Z"
   },
   {
    "duration": 203,
    "start_time": "2022-11-03T09:37:25.412Z"
   },
   {
    "duration": 229,
    "start_time": "2022-11-03T09:38:17.440Z"
   },
   {
    "duration": 217,
    "start_time": "2022-11-03T09:38:26.520Z"
   },
   {
    "duration": 440,
    "start_time": "2022-11-03T09:39:06.134Z"
   },
   {
    "duration": 352,
    "start_time": "2022-11-03T09:39:40.309Z"
   },
   {
    "duration": 215,
    "start_time": "2022-11-03T09:41:21.116Z"
   },
   {
    "duration": 231,
    "start_time": "2022-11-03T09:41:37.875Z"
   },
   {
    "duration": 204,
    "start_time": "2022-11-03T09:42:25.455Z"
   },
   {
    "duration": 204,
    "start_time": "2022-11-03T09:42:34.656Z"
   },
   {
    "duration": 306,
    "start_time": "2022-11-03T09:42:41.291Z"
   },
   {
    "duration": 939,
    "start_time": "2022-11-03T09:43:51.321Z"
   },
   {
    "duration": 269,
    "start_time": "2022-11-03T09:44:08.175Z"
   },
   {
    "duration": 266,
    "start_time": "2022-11-03T09:44:37.201Z"
   },
   {
    "duration": 249,
    "start_time": "2022-11-03T09:44:44.488Z"
   },
   {
    "duration": 356,
    "start_time": "2022-11-03T09:44:51.972Z"
   },
   {
    "duration": 12,
    "start_time": "2022-11-03T10:04:33.364Z"
   },
   {
    "duration": 12,
    "start_time": "2022-11-03T10:04:41.777Z"
   },
   {
    "duration": 533,
    "start_time": "2022-11-03T10:05:58.531Z"
   },
   {
    "duration": 1117,
    "start_time": "2022-11-03T10:08:21.564Z"
   },
   {
    "duration": 19,
    "start_time": "2022-11-03T10:08:33.588Z"
   },
   {
    "duration": 16,
    "start_time": "2022-11-03T10:08:58.750Z"
   },
   {
    "duration": 331,
    "start_time": "2022-11-03T10:11:25.252Z"
   },
   {
    "duration": 8,
    "start_time": "2022-11-03T10:18:55.949Z"
   },
   {
    "duration": 9,
    "start_time": "2022-11-03T10:19:04.551Z"
   },
   {
    "duration": 11,
    "start_time": "2022-11-03T10:19:51.063Z"
   },
   {
    "duration": 73,
    "start_time": "2022-11-03T10:20:19.077Z"
   },
   {
    "duration": 91,
    "start_time": "2022-11-03T10:20:36.657Z"
   },
   {
    "duration": 73,
    "start_time": "2022-11-03T10:21:09.110Z"
   },
   {
    "duration": 9,
    "start_time": "2022-11-03T10:21:17.384Z"
   },
   {
    "duration": 12,
    "start_time": "2022-11-03T10:21:41.636Z"
   },
   {
    "duration": 134,
    "start_time": "2022-11-03T10:27:02.596Z"
   },
   {
    "duration": 125,
    "start_time": "2022-11-03T10:27:20.252Z"
   },
   {
    "duration": 70,
    "start_time": "2022-11-03T10:38:24.150Z"
   },
   {
    "duration": 68,
    "start_time": "2022-11-03T10:39:21.100Z"
   },
   {
    "duration": 277,
    "start_time": "2022-11-03T10:41:29.803Z"
   },
   {
    "duration": 291,
    "start_time": "2022-11-03T10:42:31.655Z"
   },
   {
    "duration": 804,
    "start_time": "2022-11-03T10:44:30.235Z"
   },
   {
    "duration": 17,
    "start_time": "2022-11-03T10:46:12.764Z"
   },
   {
    "duration": 20,
    "start_time": "2022-11-03T10:46:36.212Z"
   },
   {
    "duration": 5,
    "start_time": "2022-11-03T10:57:15.070Z"
   },
   {
    "duration": 714,
    "start_time": "2022-11-03T11:01:29.053Z"
   },
   {
    "duration": 695,
    "start_time": "2022-11-03T11:04:09.981Z"
   },
   {
    "duration": 12,
    "start_time": "2022-11-03T11:06:35.787Z"
   },
   {
    "duration": 799,
    "start_time": "2022-11-03T11:08:14.413Z"
   },
   {
    "duration": 5,
    "start_time": "2022-11-03T11:09:31.477Z"
   },
   {
    "duration": 12,
    "start_time": "2022-11-03T11:11:22.332Z"
   },
   {
    "duration": 11,
    "start_time": "2022-11-03T11:11:29.773Z"
   },
   {
    "duration": 8,
    "start_time": "2022-11-03T11:11:39.267Z"
   },
   {
    "duration": 668,
    "start_time": "2022-11-03T11:19:18.993Z"
   },
   {
    "duration": 7,
    "start_time": "2022-11-03T11:20:09.951Z"
   },
   {
    "duration": 287,
    "start_time": "2022-11-03T11:28:09.078Z"
   },
   {
    "duration": 109,
    "start_time": "2022-11-03T11:28:59.201Z"
   },
   {
    "duration": 259,
    "start_time": "2022-11-03T11:29:56.934Z"
   },
   {
    "duration": 103,
    "start_time": "2022-11-03T11:37:12.237Z"
   },
   {
    "duration": 13,
    "start_time": "2022-11-03T11:37:47.950Z"
   },
   {
    "duration": 7,
    "start_time": "2022-11-03T11:38:06.518Z"
   },
   {
    "duration": 114,
    "start_time": "2022-11-03T11:39:23.822Z"
   },
   {
    "duration": 169,
    "start_time": "2022-11-03T11:40:00.661Z"
   },
   {
    "duration": 199,
    "start_time": "2022-11-03T11:40:20.797Z"
   },
   {
    "duration": 181,
    "start_time": "2022-11-03T11:41:52.076Z"
   },
   {
    "duration": 289,
    "start_time": "2022-11-03T11:42:01.663Z"
   },
   {
    "duration": 7,
    "start_time": "2022-11-03T11:42:22.835Z"
   },
   {
    "duration": 172,
    "start_time": "2022-11-03T11:42:48.973Z"
   },
   {
    "duration": 187,
    "start_time": "2022-11-03T11:43:35.645Z"
   },
   {
    "duration": 183,
    "start_time": "2022-11-03T11:43:47.352Z"
   },
   {
    "duration": 7,
    "start_time": "2022-11-03T11:44:25.252Z"
   },
   {
    "duration": 178,
    "start_time": "2022-11-03T11:44:59.498Z"
   },
   {
    "duration": 166,
    "start_time": "2022-11-03T11:45:13.548Z"
   },
   {
    "duration": 179,
    "start_time": "2022-11-03T11:46:14.346Z"
   },
   {
    "duration": 166,
    "start_time": "2022-11-03T11:46:46.928Z"
   },
   {
    "duration": 8,
    "start_time": "2022-11-03T11:48:16.039Z"
   },
   {
    "duration": 6,
    "start_time": "2022-11-03T11:48:36.681Z"
   },
   {
    "duration": 96,
    "start_time": "2022-11-03T11:50:54.260Z"
   },
   {
    "duration": 96,
    "start_time": "2022-11-03T11:51:21.540Z"
   },
   {
    "duration": 22,
    "start_time": "2022-11-03T11:51:41.820Z"
   },
   {
    "duration": 98,
    "start_time": "2022-11-03T11:52:06.660Z"
   },
   {
    "duration": 3,
    "start_time": "2022-11-03T11:52:41.912Z"
   },
   {
    "duration": 134,
    "start_time": "2022-11-03T11:53:10.990Z"
   },
   {
    "duration": 106,
    "start_time": "2022-11-03T11:53:24.623Z"
   },
   {
    "duration": 6,
    "start_time": "2022-11-03T11:53:52.207Z"
   },
   {
    "duration": 4,
    "start_time": "2022-11-03T11:54:26.861Z"
   },
   {
    "duration": 8,
    "start_time": "2022-11-03T11:54:31.080Z"
   },
   {
    "duration": 2,
    "start_time": "2022-11-03T11:55:23.616Z"
   },
   {
    "duration": 48,
    "start_time": "2022-11-03T11:55:23.622Z"
   },
   {
    "duration": 13,
    "start_time": "2022-11-03T11:55:23.672Z"
   },
   {
    "duration": 14,
    "start_time": "2022-11-03T11:55:23.686Z"
   },
   {
    "duration": 16,
    "start_time": "2022-11-03T11:55:23.702Z"
   },
   {
    "duration": 4,
    "start_time": "2022-11-03T11:55:23.719Z"
   },
   {
    "duration": 15,
    "start_time": "2022-11-03T11:55:23.724Z"
   },
   {
    "duration": 12,
    "start_time": "2022-11-03T11:55:23.740Z"
   },
   {
    "duration": 7,
    "start_time": "2022-11-03T11:55:23.754Z"
   },
   {
    "duration": 20,
    "start_time": "2022-11-03T11:55:23.762Z"
   },
   {
    "duration": 4,
    "start_time": "2022-11-03T11:55:23.783Z"
   },
   {
    "duration": 15,
    "start_time": "2022-11-03T11:55:23.789Z"
   },
   {
    "duration": 33,
    "start_time": "2022-11-03T11:55:23.806Z"
   },
   {
    "duration": 20,
    "start_time": "2022-11-03T11:55:23.841Z"
   },
   {
    "duration": 19,
    "start_time": "2022-11-03T11:55:23.864Z"
   },
   {
    "duration": 45,
    "start_time": "2022-11-03T11:55:23.884Z"
   },
   {
    "duration": 11,
    "start_time": "2022-11-03T11:55:23.930Z"
   },
   {
    "duration": 9,
    "start_time": "2022-11-03T11:55:23.943Z"
   },
   {
    "duration": 30,
    "start_time": "2022-11-03T11:55:23.953Z"
   },
   {
    "duration": 18,
    "start_time": "2022-11-03T11:55:23.984Z"
   },
   {
    "duration": 27,
    "start_time": "2022-11-03T11:55:24.003Z"
   },
   {
    "duration": 10,
    "start_time": "2022-11-03T11:55:24.032Z"
   },
   {
    "duration": 26,
    "start_time": "2022-11-03T11:55:24.044Z"
   },
   {
    "duration": 28,
    "start_time": "2022-11-03T11:55:24.071Z"
   },
   {
    "duration": 33,
    "start_time": "2022-11-03T11:55:24.100Z"
   },
   {
    "duration": 14,
    "start_time": "2022-11-03T11:55:24.135Z"
   },
   {
    "duration": 10,
    "start_time": "2022-11-03T11:55:24.151Z"
   },
   {
    "duration": 19,
    "start_time": "2022-11-03T11:55:24.163Z"
   },
   {
    "duration": 15,
    "start_time": "2022-11-03T11:55:24.184Z"
   },
   {
    "duration": 11,
    "start_time": "2022-11-03T11:55:24.200Z"
   },
   {
    "duration": 9,
    "start_time": "2022-11-03T11:55:24.212Z"
   },
   {
    "duration": 67,
    "start_time": "2022-11-03T11:55:24.223Z"
   },
   {
    "duration": 407,
    "start_time": "2022-11-03T11:55:24.292Z"
   },
   {
    "duration": 300,
    "start_time": "2022-11-03T11:55:24.700Z"
   },
   {
    "duration": 57,
    "start_time": "2022-11-03T11:55:25.004Z"
   },
   {
    "duration": 4,
    "start_time": "2022-11-03T11:55:25.062Z"
   },
   {
    "duration": 19,
    "start_time": "2022-11-03T11:55:25.067Z"
   },
   {
    "duration": 237,
    "start_time": "2022-11-03T11:55:25.087Z"
   },
   {
    "duration": 271,
    "start_time": "2022-11-03T11:55:25.326Z"
   },
   {
    "duration": 6,
    "start_time": "2022-11-03T11:55:25.599Z"
   },
   {
    "duration": 765,
    "start_time": "2022-11-03T11:55:25.606Z"
   },
   {
    "duration": 8,
    "start_time": "2022-11-03T11:55:26.372Z"
   },
   {
    "duration": 811,
    "start_time": "2022-11-03T11:55:26.381Z"
   },
   {
    "duration": 7,
    "start_time": "2022-11-03T11:55:27.194Z"
   },
   {
    "duration": 260,
    "start_time": "2022-11-03T11:55:27.202Z"
   },
   {
    "duration": 295,
    "start_time": "2022-11-03T11:55:27.463Z"
   },
   {
    "duration": 6,
    "start_time": "2022-11-03T11:55:27.760Z"
   },
   {
    "duration": 3,
    "start_time": "2022-11-03T11:55:32.198Z"
   },
   {
    "duration": 8,
    "start_time": "2022-11-03T11:55:36.120Z"
   },
   {
    "duration": 22,
    "start_time": "2022-11-03T11:55:51.886Z"
   },
   {
    "duration": 25,
    "start_time": "2022-11-03T11:56:02.892Z"
   },
   {
    "duration": 29,
    "start_time": "2022-11-03T11:56:16.582Z"
   },
   {
    "duration": 4,
    "start_time": "2022-11-03T11:56:42.764Z"
   },
   {
    "duration": 8,
    "start_time": "2022-11-03T11:56:56.728Z"
   },
   {
    "duration": 70,
    "start_time": "2022-11-03T11:59:57.348Z"
   },
   {
    "duration": 119,
    "start_time": "2022-11-03T12:00:00.896Z"
   },
   {
    "duration": 5,
    "start_time": "2022-11-03T12:00:18.545Z"
   },
   {
    "duration": 168,
    "start_time": "2022-11-03T12:00:22.315Z"
   },
   {
    "duration": 107,
    "start_time": "2022-11-03T12:00:33.215Z"
   },
   {
    "duration": 7,
    "start_time": "2022-11-03T12:03:08.177Z"
   },
   {
    "duration": 6,
    "start_time": "2022-11-03T12:03:28.186Z"
   },
   {
    "duration": 166,
    "start_time": "2022-11-03T12:05:28.979Z"
   },
   {
    "duration": 6,
    "start_time": "2022-11-03T12:06:09.992Z"
   },
   {
    "duration": 4,
    "start_time": "2022-11-03T12:08:02.801Z"
   },
   {
    "duration": 5,
    "start_time": "2022-11-03T12:08:43.928Z"
   },
   {
    "duration": 101,
    "start_time": "2022-11-03T12:09:12.608Z"
   },
   {
    "duration": 7,
    "start_time": "2022-11-03T12:09:32.110Z"
   },
   {
    "duration": 4,
    "start_time": "2022-11-03T12:09:55.380Z"
   },
   {
    "duration": 8,
    "start_time": "2022-11-03T12:10:00.136Z"
   },
   {
    "duration": 7,
    "start_time": "2022-11-03T12:10:24.278Z"
   },
   {
    "duration": 4,
    "start_time": "2022-11-03T12:10:31.087Z"
   },
   {
    "duration": 8,
    "start_time": "2022-11-03T12:10:35.364Z"
   },
   {
    "duration": 5,
    "start_time": "2022-11-03T12:11:01.432Z"
   },
   {
    "duration": 6,
    "start_time": "2022-11-03T12:11:08.684Z"
   },
   {
    "duration": 99,
    "start_time": "2022-11-03T12:12:14.989Z"
   },
   {
    "duration": 152,
    "start_time": "2022-11-03T12:12:24.915Z"
   },
   {
    "duration": 165,
    "start_time": "2022-11-03T12:12:29.412Z"
   },
   {
    "duration": 160,
    "start_time": "2022-11-03T12:12:35.596Z"
   },
   {
    "duration": 130,
    "start_time": "2022-11-03T12:12:53.902Z"
   },
   {
    "duration": 133,
    "start_time": "2022-11-03T12:13:06.780Z"
   },
   {
    "duration": 256,
    "start_time": "2022-11-03T12:13:18.097Z"
   },
   {
    "duration": 126,
    "start_time": "2022-11-03T12:13:40.706Z"
   },
   {
    "duration": 138,
    "start_time": "2022-11-03T12:16:08.569Z"
   },
   {
    "duration": 150,
    "start_time": "2022-11-03T12:16:15.906Z"
   },
   {
    "duration": 135,
    "start_time": "2022-11-03T12:16:27.077Z"
   },
   {
    "duration": 139,
    "start_time": "2022-11-03T12:16:38.814Z"
   },
   {
    "duration": 128,
    "start_time": "2022-11-03T12:16:50.581Z"
   },
   {
    "duration": 7,
    "start_time": "2022-11-03T12:28:10.621Z"
   },
   {
    "duration": 7,
    "start_time": "2022-11-03T12:30:01.682Z"
   },
   {
    "duration": 12,
    "start_time": "2022-11-03T12:37:37.150Z"
   },
   {
    "duration": 20,
    "start_time": "2022-11-03T12:38:09.778Z"
   },
   {
    "duration": 7,
    "start_time": "2022-11-03T12:40:16.586Z"
   },
   {
    "duration": 20,
    "start_time": "2022-11-03T12:41:15.636Z"
   },
   {
    "duration": 11,
    "start_time": "2022-11-03T12:41:45.773Z"
   },
   {
    "duration": 21,
    "start_time": "2022-11-03T12:41:55.076Z"
   },
   {
    "duration": 1215,
    "start_time": "2022-11-03T12:45:07.004Z"
   },
   {
    "duration": 12,
    "start_time": "2022-11-03T12:46:39.076Z"
   },
   {
    "duration": 17,
    "start_time": "2022-11-03T12:46:49.981Z"
   },
   {
    "duration": 6,
    "start_time": "2022-11-03T12:47:14.746Z"
   },
   {
    "duration": 27,
    "start_time": "2022-11-03T12:48:58.793Z"
   },
   {
    "duration": 4,
    "start_time": "2022-11-03T12:55:43.474Z"
   },
   {
    "duration": 7,
    "start_time": "2022-11-03T12:55:56.874Z"
   },
   {
    "duration": 24,
    "start_time": "2022-11-03T12:59:37.374Z"
   },
   {
    "duration": 7,
    "start_time": "2022-11-03T12:59:53.556Z"
   },
   {
    "duration": 5,
    "start_time": "2022-11-03T13:02:17.069Z"
   },
   {
    "duration": 7,
    "start_time": "2022-11-03T13:02:26.515Z"
   },
   {
    "duration": 8,
    "start_time": "2022-11-03T13:03:12.287Z"
   },
   {
    "duration": 7,
    "start_time": "2022-11-03T13:03:16.530Z"
   },
   {
    "duration": 8,
    "start_time": "2022-11-03T13:03:36.700Z"
   },
   {
    "duration": 7,
    "start_time": "2022-11-03T13:03:58.012Z"
   },
   {
    "duration": 12,
    "start_time": "2022-11-03T13:05:59.664Z"
   },
   {
    "duration": 13,
    "start_time": "2022-11-03T13:07:00.765Z"
   },
   {
    "duration": 12,
    "start_time": "2022-11-03T13:07:12.266Z"
   },
   {
    "duration": 14,
    "start_time": "2022-11-03T13:07:20.577Z"
   },
   {
    "duration": 7,
    "start_time": "2022-11-03T13:07:34.417Z"
   },
   {
    "duration": 11,
    "start_time": "2022-11-03T13:08:51.250Z"
   },
   {
    "duration": 7,
    "start_time": "2022-11-03T13:09:54.466Z"
   },
   {
    "duration": 6,
    "start_time": "2022-11-03T13:13:06.744Z"
   },
   {
    "duration": 15,
    "start_time": "2022-11-03T13:13:16.040Z"
   },
   {
    "duration": 13,
    "start_time": "2022-11-03T13:13:59.219Z"
   },
   {
    "duration": 10,
    "start_time": "2022-11-03T13:14:13.153Z"
   },
   {
    "duration": 20,
    "start_time": "2022-11-03T13:14:22.596Z"
   },
   {
    "duration": 7,
    "start_time": "2022-11-03T13:14:45.541Z"
   },
   {
    "duration": 20,
    "start_time": "2022-11-03T13:16:13.310Z"
   },
   {
    "duration": 17,
    "start_time": "2022-11-03T13:16:52.535Z"
   },
   {
    "duration": 113,
    "start_time": "2022-11-03T13:17:53.594Z"
   },
   {
    "duration": 95,
    "start_time": "2022-11-03T13:19:02.533Z"
   },
   {
    "duration": 20,
    "start_time": "2022-11-03T13:20:13.719Z"
   },
   {
    "duration": 100,
    "start_time": "2022-11-03T13:21:30.361Z"
   },
   {
    "duration": 99,
    "start_time": "2022-11-03T13:22:20.764Z"
   },
   {
    "duration": 18,
    "start_time": "2022-11-03T13:24:34.432Z"
   },
   {
    "duration": 118,
    "start_time": "2022-11-03T13:26:20.616Z"
   },
   {
    "duration": 19,
    "start_time": "2022-11-03T13:27:46.382Z"
   },
   {
    "duration": 18,
    "start_time": "2022-11-03T13:27:50.483Z"
   },
   {
    "duration": 99,
    "start_time": "2022-11-03T13:27:58.067Z"
   },
   {
    "duration": 13,
    "start_time": "2022-11-03T13:28:31.960Z"
   },
   {
    "duration": 26,
    "start_time": "2022-11-03T13:29:47.304Z"
   },
   {
    "duration": 20,
    "start_time": "2022-11-03T13:30:09.271Z"
   },
   {
    "duration": 19,
    "start_time": "2022-11-03T13:30:35.773Z"
   },
   {
    "duration": 98,
    "start_time": "2022-11-03T13:30:49.075Z"
   },
   {
    "duration": 18,
    "start_time": "2022-11-03T13:31:54.181Z"
   },
   {
    "duration": 94,
    "start_time": "2022-11-03T13:32:06.302Z"
   },
   {
    "duration": 22,
    "start_time": "2022-11-03T13:32:36.720Z"
   },
   {
    "duration": 75,
    "start_time": "2022-11-03T13:32:45.800Z"
   },
   {
    "duration": 20,
    "start_time": "2022-11-03T13:32:49.797Z"
   },
   {
    "duration": 20,
    "start_time": "2022-11-03T13:33:05.376Z"
   },
   {
    "duration": 98,
    "start_time": "2022-11-03T13:33:11.516Z"
   },
   {
    "duration": 158,
    "start_time": "2022-11-03T13:35:56.849Z"
   },
   {
    "duration": 19,
    "start_time": "2022-11-03T13:36:19.543Z"
   },
   {
    "duration": 20,
    "start_time": "2022-11-03T13:36:37.207Z"
   },
   {
    "duration": 161,
    "start_time": "2022-11-03T13:36:40.081Z"
   },
   {
    "duration": 8,
    "start_time": "2022-11-03T13:36:55.909Z"
   },
   {
    "duration": 9,
    "start_time": "2022-11-03T13:37:03.103Z"
   },
   {
    "duration": 594,
    "start_time": "2022-11-03T13:37:29.243Z"
   },
   {
    "duration": 106,
    "start_time": "2022-11-03T13:37:47.325Z"
   },
   {
    "duration": 98,
    "start_time": "2022-11-03T13:37:53.052Z"
   },
   {
    "duration": 96,
    "start_time": "2022-11-03T13:39:33.309Z"
   },
   {
    "duration": 4,
    "start_time": "2022-11-03T13:40:50.939Z"
   },
   {
    "duration": 7,
    "start_time": "2022-11-03T13:40:54.801Z"
   },
   {
    "duration": 4,
    "start_time": "2022-11-03T13:44:32.634Z"
   },
   {
    "duration": 103,
    "start_time": "2022-11-03T13:44:59.201Z"
   },
   {
    "duration": 1208,
    "start_time": "2022-11-03T13:47:15.041Z"
   },
   {
    "duration": 20,
    "start_time": "2022-11-03T13:47:43.151Z"
   },
   {
    "duration": 1204,
    "start_time": "2022-11-03T13:47:49.388Z"
   },
   {
    "duration": 1228,
    "start_time": "2022-11-03T13:47:58.001Z"
   },
   {
    "duration": 6,
    "start_time": "2022-11-03T13:57:12.092Z"
   },
   {
    "duration": 4,
    "start_time": "2022-11-03T13:57:23.118Z"
   },
   {
    "duration": 592,
    "start_time": "2022-11-03T13:57:45.216Z"
   },
   {
    "duration": 7,
    "start_time": "2022-11-03T13:57:56.970Z"
   },
   {
    "duration": 17,
    "start_time": "2022-11-03T13:58:01.628Z"
   },
   {
    "duration": 16,
    "start_time": "2022-11-03T13:58:29.280Z"
   },
   {
    "duration": 7,
    "start_time": "2022-11-03T13:58:38.971Z"
   },
   {
    "duration": 6,
    "start_time": "2022-11-03T13:59:21.912Z"
   },
   {
    "duration": 8,
    "start_time": "2022-11-03T14:00:45.682Z"
   },
   {
    "duration": 89,
    "start_time": "2022-11-03T14:01:24.940Z"
   },
   {
    "duration": 6,
    "start_time": "2022-11-03T14:01:35.668Z"
   },
   {
    "duration": 93,
    "start_time": "2022-11-03T14:01:41.230Z"
   },
   {
    "duration": 5,
    "start_time": "2022-11-03T14:01:59.730Z"
   },
   {
    "duration": 7,
    "start_time": "2022-11-03T14:02:08.088Z"
   },
   {
    "duration": 20,
    "start_time": "2022-11-03T14:02:22.647Z"
   },
   {
    "duration": 101,
    "start_time": "2022-11-03T14:02:27.440Z"
   },
   {
    "duration": 17,
    "start_time": "2022-11-03T14:02:50.793Z"
   },
   {
    "duration": 103,
    "start_time": "2022-11-03T14:03:04.084Z"
   },
   {
    "duration": 98,
    "start_time": "2022-11-03T14:03:12.862Z"
   },
   {
    "duration": 85,
    "start_time": "2022-11-03T14:03:46.295Z"
   },
   {
    "duration": 113,
    "start_time": "2022-11-03T14:03:50.960Z"
   },
   {
    "duration": 99,
    "start_time": "2022-11-03T14:04:51.845Z"
   },
   {
    "duration": 7,
    "start_time": "2022-11-03T14:05:14.564Z"
   },
   {
    "duration": 9,
    "start_time": "2022-11-03T14:06:34.054Z"
   },
   {
    "duration": 10,
    "start_time": "2022-11-03T14:06:40.414Z"
   },
   {
    "duration": 102,
    "start_time": "2022-11-03T14:06:47.909Z"
   },
   {
    "duration": 110,
    "start_time": "2022-11-03T14:06:52.529Z"
   },
   {
    "duration": 9,
    "start_time": "2022-11-03T14:06:58.105Z"
   },
   {
    "duration": 8,
    "start_time": "2022-11-03T14:07:10.258Z"
   },
   {
    "duration": 10,
    "start_time": "2022-11-03T14:07:16.617Z"
   },
   {
    "duration": 8,
    "start_time": "2022-11-03T14:07:22.408Z"
   },
   {
    "duration": 8,
    "start_time": "2022-11-03T14:07:26.504Z"
   },
   {
    "duration": 10,
    "start_time": "2022-11-03T14:07:36.740Z"
   },
   {
    "duration": 8,
    "start_time": "2022-11-03T14:07:48.440Z"
   },
   {
    "duration": 6,
    "start_time": "2022-11-03T14:08:19.616Z"
   },
   {
    "duration": 9,
    "start_time": "2022-11-03T14:08:23.398Z"
   },
   {
    "duration": 3,
    "start_time": "2022-11-03T14:08:32.942Z"
   },
   {
    "duration": 48,
    "start_time": "2022-11-03T14:08:32.948Z"
   },
   {
    "duration": 14,
    "start_time": "2022-11-03T14:08:32.998Z"
   },
   {
    "duration": 23,
    "start_time": "2022-11-03T14:08:33.013Z"
   },
   {
    "duration": 23,
    "start_time": "2022-11-03T14:08:33.039Z"
   },
   {
    "duration": 4,
    "start_time": "2022-11-03T14:08:33.064Z"
   },
   {
    "duration": 17,
    "start_time": "2022-11-03T14:08:33.069Z"
   },
   {
    "duration": 15,
    "start_time": "2022-11-03T14:08:33.088Z"
   },
   {
    "duration": 25,
    "start_time": "2022-11-03T14:08:33.105Z"
   },
   {
    "duration": 141,
    "start_time": "2022-11-03T14:08:33.137Z"
   },
   {
    "duration": 5,
    "start_time": "2022-11-03T14:08:33.281Z"
   },
   {
    "duration": 8,
    "start_time": "2022-11-03T14:08:33.288Z"
   },
   {
    "duration": 37,
    "start_time": "2022-11-03T14:08:33.298Z"
   },
   {
    "duration": 23,
    "start_time": "2022-11-03T14:08:33.337Z"
   },
   {
    "duration": 33,
    "start_time": "2022-11-03T14:08:33.362Z"
   },
   {
    "duration": 39,
    "start_time": "2022-11-03T14:08:33.397Z"
   },
   {
    "duration": 17,
    "start_time": "2022-11-03T14:08:33.438Z"
   },
   {
    "duration": 19,
    "start_time": "2022-11-03T14:08:33.456Z"
   },
   {
    "duration": 23,
    "start_time": "2022-11-03T14:08:33.477Z"
   },
   {
    "duration": 21,
    "start_time": "2022-11-03T14:08:33.502Z"
   },
   {
    "duration": 36,
    "start_time": "2022-11-03T14:08:33.525Z"
   },
   {
    "duration": 5,
    "start_time": "2022-11-03T14:08:33.563Z"
   },
   {
    "duration": 6,
    "start_time": "2022-11-03T14:08:33.570Z"
   },
   {
    "duration": 9,
    "start_time": "2022-11-03T14:08:33.578Z"
   },
   {
    "duration": 20,
    "start_time": "2022-11-03T14:08:33.588Z"
   },
   {
    "duration": 5,
    "start_time": "2022-11-03T14:08:33.609Z"
   },
   {
    "duration": 21,
    "start_time": "2022-11-03T14:08:33.623Z"
   },
   {
    "duration": 7,
    "start_time": "2022-11-03T14:08:33.646Z"
   },
   {
    "duration": 11,
    "start_time": "2022-11-03T14:08:33.656Z"
   },
   {
    "duration": 5,
    "start_time": "2022-11-03T14:08:33.669Z"
   },
   {
    "duration": 9,
    "start_time": "2022-11-03T14:08:33.675Z"
   },
   {
    "duration": 74,
    "start_time": "2022-11-03T14:08:33.685Z"
   },
   {
    "duration": 313,
    "start_time": "2022-11-03T14:08:33.760Z"
   },
   {
    "duration": 337,
    "start_time": "2022-11-03T14:08:34.075Z"
   },
   {
    "duration": 60,
    "start_time": "2022-11-03T14:08:34.414Z"
   },
   {
    "duration": 4,
    "start_time": "2022-11-03T14:08:34.476Z"
   },
   {
    "duration": 21,
    "start_time": "2022-11-03T14:08:34.481Z"
   },
   {
    "duration": 255,
    "start_time": "2022-11-03T14:08:34.504Z"
   },
   {
    "duration": 288,
    "start_time": "2022-11-03T14:08:34.760Z"
   },
   {
    "duration": 7,
    "start_time": "2022-11-03T14:08:35.049Z"
   },
   {
    "duration": 839,
    "start_time": "2022-11-03T14:08:35.058Z"
   },
   {
    "duration": 8,
    "start_time": "2022-11-03T14:08:35.899Z"
   },
   {
    "duration": 971,
    "start_time": "2022-11-03T14:08:35.908Z"
   },
   {
    "duration": 8,
    "start_time": "2022-11-03T14:08:36.881Z"
   },
   {
    "duration": 278,
    "start_time": "2022-11-03T14:08:36.890Z"
   },
   {
    "duration": 365,
    "start_time": "2022-11-03T14:08:37.170Z"
   },
   {
    "duration": 5,
    "start_time": "2022-11-03T14:08:41.277Z"
   },
   {
    "duration": 9,
    "start_time": "2022-11-03T14:08:43.183Z"
   },
   {
    "duration": 10,
    "start_time": "2022-11-03T14:08:51.146Z"
   },
   {
    "duration": 5,
    "start_time": "2022-11-03T14:08:53.391Z"
   },
   {
    "duration": 5,
    "start_time": "2022-11-03T14:08:54.688Z"
   },
   {
    "duration": 9,
    "start_time": "2022-11-03T14:09:34.463Z"
   },
   {
    "duration": 4,
    "start_time": "2022-11-03T14:09:44.045Z"
   },
   {
    "duration": 5,
    "start_time": "2022-11-03T14:09:54.251Z"
   },
   {
    "duration": 8,
    "start_time": "2022-11-03T14:09:56.395Z"
   },
   {
    "duration": 16,
    "start_time": "2022-11-03T14:10:06.421Z"
   },
   {
    "duration": 6,
    "start_time": "2022-11-03T14:10:24.568Z"
   },
   {
    "duration": 11,
    "start_time": "2022-11-03T14:10:42.745Z"
   },
   {
    "duration": 1296,
    "start_time": "2022-11-03T14:11:11.353Z"
   },
   {
    "duration": 14,
    "start_time": "2022-11-03T14:11:48.418Z"
   },
   {
    "duration": 12,
    "start_time": "2022-11-03T14:11:54.789Z"
   },
   {
    "duration": 6,
    "start_time": "2022-11-03T14:13:32.087Z"
   },
   {
    "duration": 11,
    "start_time": "2022-11-03T14:13:34.101Z"
   },
   {
    "duration": 20,
    "start_time": "2022-11-03T14:14:32.514Z"
   },
   {
    "duration": 9,
    "start_time": "2022-11-03T14:14:54.892Z"
   },
   {
    "duration": 10,
    "start_time": "2022-11-03T14:14:57.798Z"
   },
   {
    "duration": 1411,
    "start_time": "2022-11-03T14:15:04.844Z"
   },
   {
    "duration": 15,
    "start_time": "2022-11-03T14:15:17.281Z"
   },
   {
    "duration": 11,
    "start_time": "2022-11-03T14:15:55.737Z"
   },
   {
    "duration": 9,
    "start_time": "2022-11-03T14:15:57.897Z"
   },
   {
    "duration": 17,
    "start_time": "2022-11-03T14:16:12.741Z"
   },
   {
    "duration": 17,
    "start_time": "2022-11-03T14:16:37.334Z"
   },
   {
    "duration": 173,
    "start_time": "2022-11-03T14:16:55.473Z"
   },
   {
    "duration": 113,
    "start_time": "2022-11-03T14:17:48.605Z"
   },
   {
    "duration": 104,
    "start_time": "2022-11-03T14:18:04.986Z"
   },
   {
    "duration": 110,
    "start_time": "2022-11-03T14:18:14.449Z"
   },
   {
    "duration": 8,
    "start_time": "2022-11-03T14:18:22.437Z"
   },
   {
    "duration": 10,
    "start_time": "2022-11-03T14:19:33.914Z"
   },
   {
    "duration": 7,
    "start_time": "2022-11-03T14:19:53.969Z"
   },
   {
    "duration": 11,
    "start_time": "2022-11-03T14:21:02.575Z"
   },
   {
    "duration": 211,
    "start_time": "2022-11-03T14:22:02.048Z"
   },
   {
    "duration": 190,
    "start_time": "2022-11-03T14:23:18.172Z"
   },
   {
    "duration": 98,
    "start_time": "2022-11-03T14:25:25.111Z"
   },
   {
    "duration": 8,
    "start_time": "2022-11-03T14:25:52.931Z"
   },
   {
    "duration": 10,
    "start_time": "2022-11-03T14:26:57.606Z"
   },
   {
    "duration": 5,
    "start_time": "2022-11-03T14:26:59.151Z"
   },
   {
    "duration": 118,
    "start_time": "2022-11-03T14:27:09.208Z"
   },
   {
    "duration": 118,
    "start_time": "2022-11-03T14:29:59.172Z"
   },
   {
    "duration": 7,
    "start_time": "2022-11-03T14:30:56.949Z"
   },
   {
    "duration": 8,
    "start_time": "2022-11-03T14:31:14.402Z"
   },
   {
    "duration": 18,
    "start_time": "2022-11-03T14:34:38.390Z"
   },
   {
    "duration": 6,
    "start_time": "2022-11-03T14:34:46.247Z"
   },
   {
    "duration": 232,
    "start_time": "2022-11-03T14:36:31.607Z"
   },
   {
    "duration": 19,
    "start_time": "2022-11-03T14:39:33.210Z"
   },
   {
    "duration": 5,
    "start_time": "2022-11-03T14:39:43.245Z"
   },
   {
    "duration": 8,
    "start_time": "2022-11-03T14:41:31.818Z"
   },
   {
    "duration": 459,
    "start_time": "2022-11-03T14:42:26.352Z"
   },
   {
    "duration": 7,
    "start_time": "2022-11-03T14:45:50.844Z"
   },
   {
    "duration": 7,
    "start_time": "2022-11-03T14:46:19.775Z"
   },
   {
    "duration": 9,
    "start_time": "2022-11-03T14:46:22.392Z"
   },
   {
    "duration": 18,
    "start_time": "2022-11-03T14:51:28.057Z"
   },
   {
    "duration": 10,
    "start_time": "2022-11-03T14:52:06.575Z"
   },
   {
    "duration": 139,
    "start_time": "2022-11-03T14:54:56.096Z"
   },
   {
    "duration": 20,
    "start_time": "2022-11-03T14:59:11.992Z"
   },
   {
    "duration": 18,
    "start_time": "2022-11-03T14:59:18.718Z"
   },
   {
    "duration": 236,
    "start_time": "2022-11-03T15:00:41.600Z"
   },
   {
    "duration": 19,
    "start_time": "2022-11-03T15:10:08.688Z"
   },
   {
    "duration": 334,
    "start_time": "2022-11-03T15:11:19.468Z"
   },
   {
    "duration": 11,
    "start_time": "2022-11-03T15:25:37.393Z"
   },
   {
    "duration": 9,
    "start_time": "2022-11-03T15:25:45.364Z"
   },
   {
    "duration": 22,
    "start_time": "2022-11-03T15:26:06.859Z"
   },
   {
    "duration": 20,
    "start_time": "2022-11-03T15:26:46.535Z"
   },
   {
    "duration": 69,
    "start_time": "2022-11-03T15:27:44.372Z"
   },
   {
    "duration": 21,
    "start_time": "2022-11-03T15:27:49.502Z"
   },
   {
    "duration": 3,
    "start_time": "2022-11-03T15:28:02.395Z"
   },
   {
    "duration": 52,
    "start_time": "2022-11-03T15:28:02.399Z"
   },
   {
    "duration": 12,
    "start_time": "2022-11-03T15:28:02.453Z"
   },
   {
    "duration": 35,
    "start_time": "2022-11-03T15:28:02.466Z"
   },
   {
    "duration": 27,
    "start_time": "2022-11-03T15:28:02.503Z"
   },
   {
    "duration": 15,
    "start_time": "2022-11-03T15:28:02.532Z"
   },
   {
    "duration": 106,
    "start_time": "2022-11-03T15:28:02.549Z"
   },
   {
    "duration": 14,
    "start_time": "2022-11-03T15:28:02.656Z"
   },
   {
    "duration": 11,
    "start_time": "2022-11-03T15:28:02.672Z"
   },
   {
    "duration": 19,
    "start_time": "2022-11-03T15:28:02.684Z"
   },
   {
    "duration": 4,
    "start_time": "2022-11-03T15:28:02.705Z"
   },
   {
    "duration": 16,
    "start_time": "2022-11-03T15:28:02.710Z"
   },
   {
    "duration": 20,
    "start_time": "2022-11-03T15:28:02.728Z"
   },
   {
    "duration": 17,
    "start_time": "2022-11-03T15:28:02.750Z"
   },
   {
    "duration": 18,
    "start_time": "2022-11-03T15:28:02.769Z"
   },
   {
    "duration": 34,
    "start_time": "2022-11-03T15:28:02.789Z"
   },
   {
    "duration": 11,
    "start_time": "2022-11-03T15:28:02.824Z"
   },
   {
    "duration": 8,
    "start_time": "2022-11-03T15:28:02.837Z"
   },
   {
    "duration": 12,
    "start_time": "2022-11-03T15:28:02.846Z"
   },
   {
    "duration": 22,
    "start_time": "2022-11-03T15:28:02.859Z"
   },
   {
    "duration": 27,
    "start_time": "2022-11-03T15:28:02.882Z"
   },
   {
    "duration": 6,
    "start_time": "2022-11-03T15:28:02.911Z"
   },
   {
    "duration": 16,
    "start_time": "2022-11-03T15:28:02.918Z"
   },
   {
    "duration": 10,
    "start_time": "2022-11-03T15:28:02.936Z"
   },
   {
    "duration": 17,
    "start_time": "2022-11-03T15:28:02.947Z"
   },
   {
    "duration": 4,
    "start_time": "2022-11-03T15:28:02.965Z"
   },
   {
    "duration": 10,
    "start_time": "2022-11-03T15:28:02.970Z"
   },
   {
    "duration": 4,
    "start_time": "2022-11-03T15:28:02.981Z"
   },
   {
    "duration": 10,
    "start_time": "2022-11-03T15:28:02.988Z"
   },
   {
    "duration": 25,
    "start_time": "2022-11-03T15:28:02.999Z"
   },
   {
    "duration": 7,
    "start_time": "2022-11-03T15:28:03.025Z"
   },
   {
    "duration": 71,
    "start_time": "2022-11-03T15:28:03.033Z"
   },
   {
    "duration": 294,
    "start_time": "2022-11-03T15:28:03.106Z"
   },
   {
    "duration": 286,
    "start_time": "2022-11-03T15:28:03.402Z"
   },
   {
    "duration": 56,
    "start_time": "2022-11-03T15:28:03.690Z"
   },
   {
    "duration": 4,
    "start_time": "2022-11-03T15:28:03.747Z"
   },
   {
    "duration": 20,
    "start_time": "2022-11-03T15:28:03.752Z"
   },
   {
    "duration": 222,
    "start_time": "2022-11-03T15:28:03.773Z"
   },
   {
    "duration": 253,
    "start_time": "2022-11-03T15:28:03.997Z"
   },
   {
    "duration": 5,
    "start_time": "2022-11-03T15:28:04.252Z"
   },
   {
    "duration": 803,
    "start_time": "2022-11-03T15:28:04.259Z"
   },
   {
    "duration": 8,
    "start_time": "2022-11-03T15:28:05.063Z"
   },
   {
    "duration": 681,
    "start_time": "2022-11-03T15:28:05.072Z"
   },
   {
    "duration": 8,
    "start_time": "2022-11-03T15:28:05.755Z"
   },
   {
    "duration": 258,
    "start_time": "2022-11-03T15:28:05.765Z"
   },
   {
    "duration": 344,
    "start_time": "2022-11-03T15:28:06.025Z"
   },
   {
    "duration": 7,
    "start_time": "2022-11-03T15:28:06.371Z"
   },
   {
    "duration": 10,
    "start_time": "2022-11-03T15:28:06.379Z"
   },
   {
    "duration": 6,
    "start_time": "2022-11-03T15:28:06.390Z"
   },
   {
    "duration": 32,
    "start_time": "2022-11-03T15:28:06.398Z"
   },
   {
    "duration": 324,
    "start_time": "2022-11-03T15:28:06.431Z"
   },
   {
    "duration": 7,
    "start_time": "2022-11-03T15:28:06.757Z"
   },
   {
    "duration": 9,
    "start_time": "2022-11-03T15:28:06.765Z"
   },
   {
    "duration": 5,
    "start_time": "2022-11-03T15:28:06.776Z"
   },
   {
    "duration": 17,
    "start_time": "2022-11-03T15:28:06.783Z"
   },
   {
    "duration": 328,
    "start_time": "2022-11-03T15:28:06.821Z"
   },
   {
    "duration": 156,
    "start_time": "2022-11-03T15:28:07.151Z"
   },
   {
    "duration": 14,
    "start_time": "2022-11-03T15:28:07.308Z"
   },
   {
    "duration": 4,
    "start_time": "2022-11-03T15:28:07.324Z"
   },
   {
    "duration": 10,
    "start_time": "2022-11-03T15:28:07.329Z"
   },
   {
    "duration": 11,
    "start_time": "2022-11-03T15:28:07.341Z"
   },
   {
    "duration": 20,
    "start_time": "2022-11-03T15:30:04.508Z"
   },
   {
    "duration": 3,
    "start_time": "2022-11-03T15:30:20.247Z"
   },
   {
    "duration": 68,
    "start_time": "2022-11-03T15:30:20.251Z"
   },
   {
    "duration": 12,
    "start_time": "2022-11-03T15:30:20.320Z"
   },
   {
    "duration": 37,
    "start_time": "2022-11-03T15:30:20.333Z"
   },
   {
    "duration": 32,
    "start_time": "2022-11-03T15:30:20.373Z"
   },
   {
    "duration": 17,
    "start_time": "2022-11-03T15:30:20.407Z"
   },
   {
    "duration": 34,
    "start_time": "2022-11-03T15:30:20.425Z"
   },
   {
    "duration": 26,
    "start_time": "2022-11-03T15:30:20.460Z"
   },
   {
    "duration": 26,
    "start_time": "2022-11-03T15:30:20.488Z"
   },
   {
    "duration": 37,
    "start_time": "2022-11-03T15:30:20.515Z"
   },
   {
    "duration": 4,
    "start_time": "2022-11-03T15:30:20.554Z"
   },
   {
    "duration": 35,
    "start_time": "2022-11-03T15:30:20.560Z"
   },
   {
    "duration": 190,
    "start_time": "2022-11-03T15:30:20.597Z"
   },
   {
    "duration": 18,
    "start_time": "2022-11-03T15:30:24.160Z"
   },
   {
    "duration": 20,
    "start_time": "2022-11-03T15:31:37.182Z"
   },
   {
    "duration": 21,
    "start_time": "2022-11-03T15:32:40.399Z"
   },
   {
    "duration": 4,
    "start_time": "2022-11-03T15:37:56.446Z"
   },
   {
    "duration": 15,
    "start_time": "2022-11-03T15:38:41.098Z"
   },
   {
    "duration": 210,
    "start_time": "2022-11-03T15:40:38.314Z"
   },
   {
    "duration": 8,
    "start_time": "2022-11-03T15:41:59.210Z"
   },
   {
    "duration": 12,
    "start_time": "2022-11-03T15:49:00.378Z"
   },
   {
    "duration": 70,
    "start_time": "2022-11-03T15:54:28.802Z"
   },
   {
    "duration": 19,
    "start_time": "2022-11-03T15:54:51.222Z"
   },
   {
    "duration": 24,
    "start_time": "2022-11-03T15:56:28.975Z"
   },
   {
    "duration": 19,
    "start_time": "2022-11-03T15:57:47.800Z"
   },
   {
    "duration": 2,
    "start_time": "2022-11-03T15:58:16.493Z"
   },
   {
    "duration": 2,
    "start_time": "2022-11-03T15:58:22.827Z"
   },
   {
    "duration": 47,
    "start_time": "2022-11-03T15:58:22.836Z"
   },
   {
    "duration": 13,
    "start_time": "2022-11-03T15:58:22.885Z"
   },
   {
    "duration": 12,
    "start_time": "2022-11-03T15:58:22.900Z"
   },
   {
    "duration": 17,
    "start_time": "2022-11-03T15:58:22.913Z"
   },
   {
    "duration": 4,
    "start_time": "2022-11-03T15:58:22.932Z"
   },
   {
    "duration": 13,
    "start_time": "2022-11-03T15:58:22.937Z"
   },
   {
    "duration": 13,
    "start_time": "2022-11-03T15:58:22.951Z"
   },
   {
    "duration": 8,
    "start_time": "2022-11-03T15:58:22.965Z"
   },
   {
    "duration": 20,
    "start_time": "2022-11-03T15:58:22.974Z"
   },
   {
    "duration": 28,
    "start_time": "2022-11-03T15:58:22.996Z"
   },
   {
    "duration": 4,
    "start_time": "2022-11-03T15:58:23.025Z"
   },
   {
    "duration": 23,
    "start_time": "2022-11-03T15:58:23.031Z"
   },
   {
    "duration": 18,
    "start_time": "2022-11-03T15:58:23.056Z"
   },
   {
    "duration": 18,
    "start_time": "2022-11-03T15:58:23.076Z"
   },
   {
    "duration": 41,
    "start_time": "2022-11-03T15:58:23.095Z"
   },
   {
    "duration": 4,
    "start_time": "2022-11-03T15:58:23.138Z"
   },
   {
    "duration": 13,
    "start_time": "2022-11-03T15:58:23.143Z"
   },
   {
    "duration": 6,
    "start_time": "2022-11-03T15:58:23.158Z"
   },
   {
    "duration": 10,
    "start_time": "2022-11-03T15:58:23.166Z"
   },
   {
    "duration": 6,
    "start_time": "2022-11-03T15:58:23.177Z"
   },
   {
    "duration": 44,
    "start_time": "2022-11-03T15:58:23.184Z"
   },
   {
    "duration": 6,
    "start_time": "2022-11-03T15:58:23.229Z"
   },
   {
    "duration": 10,
    "start_time": "2022-11-03T15:58:23.237Z"
   },
   {
    "duration": 9,
    "start_time": "2022-11-03T15:58:23.248Z"
   },
   {
    "duration": 27,
    "start_time": "2022-11-03T15:58:23.258Z"
   },
   {
    "duration": 4,
    "start_time": "2022-11-03T15:58:23.287Z"
   },
   {
    "duration": 21,
    "start_time": "2022-11-03T15:58:23.292Z"
   },
   {
    "duration": 4,
    "start_time": "2022-11-03T15:58:23.322Z"
   },
   {
    "duration": 15,
    "start_time": "2022-11-03T15:58:23.327Z"
   },
   {
    "duration": 4,
    "start_time": "2022-11-03T15:58:23.343Z"
   },
   {
    "duration": 7,
    "start_time": "2022-11-03T15:58:23.349Z"
   },
   {
    "duration": 90,
    "start_time": "2022-11-03T15:58:23.358Z"
   },
   {
    "duration": 312,
    "start_time": "2022-11-03T15:58:23.450Z"
   },
   {
    "duration": 321,
    "start_time": "2022-11-03T15:58:23.763Z"
   },
   {
    "duration": 59,
    "start_time": "2022-11-03T15:58:24.085Z"
   },
   {
    "duration": 4,
    "start_time": "2022-11-03T15:58:24.146Z"
   },
   {
    "duration": 29,
    "start_time": "2022-11-03T15:58:24.152Z"
   },
   {
    "duration": 220,
    "start_time": "2022-11-03T15:58:24.182Z"
   },
   {
    "duration": 265,
    "start_time": "2022-11-03T15:58:24.404Z"
   },
   {
    "duration": 6,
    "start_time": "2022-11-03T15:58:24.672Z"
   },
   {
    "duration": 735,
    "start_time": "2022-11-03T15:58:24.679Z"
   },
   {
    "duration": 12,
    "start_time": "2022-11-03T15:58:25.415Z"
   },
   {
    "duration": 910,
    "start_time": "2022-11-03T15:58:25.429Z"
   },
   {
    "duration": 8,
    "start_time": "2022-11-03T15:58:26.341Z"
   },
   {
    "duration": 244,
    "start_time": "2022-11-03T15:58:26.350Z"
   },
   {
    "duration": 297,
    "start_time": "2022-11-03T15:58:26.595Z"
   },
   {
    "duration": 7,
    "start_time": "2022-11-03T15:58:26.893Z"
   },
   {
    "duration": 33,
    "start_time": "2022-11-03T15:58:26.901Z"
   },
   {
    "duration": 5,
    "start_time": "2022-11-03T15:58:26.936Z"
   },
   {
    "duration": 23,
    "start_time": "2022-11-03T15:58:26.943Z"
   },
   {
    "duration": 317,
    "start_time": "2022-11-03T15:58:26.967Z"
   },
   {
    "duration": 6,
    "start_time": "2022-11-03T15:58:27.286Z"
   },
   {
    "duration": 9,
    "start_time": "2022-11-03T15:58:27.293Z"
   },
   {
    "duration": 19,
    "start_time": "2022-11-03T15:58:27.303Z"
   },
   {
    "duration": 18,
    "start_time": "2022-11-03T15:58:27.324Z"
   },
   {
    "duration": 350,
    "start_time": "2022-11-03T15:58:27.343Z"
   },
   {
    "duration": 168,
    "start_time": "2022-11-03T15:58:27.694Z"
   },
   {
    "duration": 9,
    "start_time": "2022-11-03T15:58:27.864Z"
   },
   {
    "duration": 18,
    "start_time": "2022-11-03T15:58:27.874Z"
   },
   {
    "duration": 11,
    "start_time": "2022-11-03T15:58:27.893Z"
   },
   {
    "duration": 9,
    "start_time": "2022-11-03T15:58:40.927Z"
   },
   {
    "duration": 114,
    "start_time": "2022-11-03T16:06:38.202Z"
   },
   {
    "duration": 8,
    "start_time": "2022-11-03T16:06:51.313Z"
   },
   {
    "duration": 78,
    "start_time": "2022-11-03T16:12:33.514Z"
   },
   {
    "duration": 7,
    "start_time": "2022-11-03T16:14:35.437Z"
   },
   {
    "duration": 108,
    "start_time": "2022-11-03T16:15:42.865Z"
   },
   {
    "duration": 103,
    "start_time": "2022-11-03T16:20:44.151Z"
   },
   {
    "duration": 7,
    "start_time": "2022-11-03T16:20:53.724Z"
   },
   {
    "duration": 7,
    "start_time": "2022-11-03T16:20:59.092Z"
   },
   {
    "duration": 7,
    "start_time": "2022-11-03T16:21:13.850Z"
   },
   {
    "duration": 3,
    "start_time": "2022-11-03T16:26:59.660Z"
   },
   {
    "duration": 52,
    "start_time": "2022-11-03T16:26:59.665Z"
   },
   {
    "duration": 12,
    "start_time": "2022-11-03T16:26:59.719Z"
   },
   {
    "duration": 12,
    "start_time": "2022-11-03T16:26:59.732Z"
   },
   {
    "duration": 14,
    "start_time": "2022-11-03T16:26:59.746Z"
   },
   {
    "duration": 4,
    "start_time": "2022-11-03T16:26:59.761Z"
   },
   {
    "duration": 23,
    "start_time": "2022-11-03T16:26:59.766Z"
   },
   {
    "duration": 16,
    "start_time": "2022-11-03T16:26:59.790Z"
   },
   {
    "duration": 5,
    "start_time": "2022-11-03T16:26:59.822Z"
   },
   {
    "duration": 21,
    "start_time": "2022-11-03T16:26:59.829Z"
   },
   {
    "duration": 5,
    "start_time": "2022-11-03T16:26:59.852Z"
   },
   {
    "duration": 6,
    "start_time": "2022-11-03T16:26:59.859Z"
   },
   {
    "duration": 19,
    "start_time": "2022-11-03T16:26:59.866Z"
   },
   {
    "duration": 49,
    "start_time": "2022-11-03T16:26:59.886Z"
   },
   {
    "duration": 21,
    "start_time": "2022-11-03T16:26:59.936Z"
   },
   {
    "duration": 17,
    "start_time": "2022-11-03T16:26:59.959Z"
   },
   {
    "duration": 5,
    "start_time": "2022-11-03T16:26:59.977Z"
   },
   {
    "duration": 15,
    "start_time": "2022-11-03T16:26:59.983Z"
   },
   {
    "duration": 34,
    "start_time": "2022-11-03T16:26:59.999Z"
   },
   {
    "duration": 17,
    "start_time": "2022-11-03T16:27:00.034Z"
   },
   {
    "duration": 6,
    "start_time": "2022-11-03T16:27:00.053Z"
   },
   {
    "duration": 20,
    "start_time": "2022-11-03T16:27:00.060Z"
   },
   {
    "duration": 6,
    "start_time": "2022-11-03T16:27:00.082Z"
   },
   {
    "duration": 17,
    "start_time": "2022-11-03T16:27:00.089Z"
   },
   {
    "duration": 13,
    "start_time": "2022-11-03T16:27:00.108Z"
   },
   {
    "duration": 29,
    "start_time": "2022-11-03T16:27:00.122Z"
   },
   {
    "duration": 4,
    "start_time": "2022-11-03T16:27:00.153Z"
   },
   {
    "duration": 22,
    "start_time": "2022-11-03T16:27:00.159Z"
   },
   {
    "duration": 8,
    "start_time": "2022-11-03T16:27:00.184Z"
   },
   {
    "duration": 20,
    "start_time": "2022-11-03T16:27:00.194Z"
   },
   {
    "duration": 10,
    "start_time": "2022-11-03T16:27:00.215Z"
   },
   {
    "duration": 12,
    "start_time": "2022-11-03T16:27:00.227Z"
   },
   {
    "duration": 70,
    "start_time": "2022-11-03T16:27:00.240Z"
   },
   {
    "duration": 301,
    "start_time": "2022-11-03T16:27:00.312Z"
   },
   {
    "duration": 424,
    "start_time": "2022-11-03T16:27:00.614Z"
   },
   {
    "duration": 51,
    "start_time": "2022-11-03T16:27:01.040Z"
   },
   {
    "duration": 5,
    "start_time": "2022-11-03T16:27:01.094Z"
   },
   {
    "duration": 68,
    "start_time": "2022-11-03T16:27:01.100Z"
   },
   {
    "duration": 276,
    "start_time": "2022-11-03T16:27:01.170Z"
   },
   {
    "duration": 275,
    "start_time": "2022-11-03T16:27:01.448Z"
   },
   {
    "duration": 6,
    "start_time": "2022-11-03T16:27:01.724Z"
   },
   {
    "duration": 731,
    "start_time": "2022-11-03T16:27:01.731Z"
   },
   {
    "duration": 9,
    "start_time": "2022-11-03T16:27:02.464Z"
   },
   {
    "duration": 709,
    "start_time": "2022-11-03T16:27:02.475Z"
   },
   {
    "duration": 8,
    "start_time": "2022-11-03T16:27:03.186Z"
   },
   {
    "duration": 243,
    "start_time": "2022-11-03T16:27:03.196Z"
   },
   {
    "duration": 411,
    "start_time": "2022-11-03T16:27:03.441Z"
   },
   {
    "duration": 7,
    "start_time": "2022-11-03T16:27:03.854Z"
   },
   {
    "duration": 14,
    "start_time": "2022-11-03T16:27:03.863Z"
   },
   {
    "duration": 9,
    "start_time": "2022-11-03T16:27:03.878Z"
   },
   {
    "duration": 34,
    "start_time": "2022-11-03T16:27:03.889Z"
   },
   {
    "duration": 320,
    "start_time": "2022-11-03T16:27:03.924Z"
   },
   {
    "duration": 6,
    "start_time": "2022-11-03T16:27:04.246Z"
   },
   {
    "duration": 7,
    "start_time": "2022-11-03T16:27:04.253Z"
   },
   {
    "duration": 7,
    "start_time": "2022-11-03T16:27:04.263Z"
   },
   {
    "duration": 18,
    "start_time": "2022-11-03T16:27:04.271Z"
   },
   {
    "duration": 346,
    "start_time": "2022-11-03T16:27:04.290Z"
   },
   {
    "duration": 164,
    "start_time": "2022-11-03T16:27:04.637Z"
   },
   {
    "duration": 8,
    "start_time": "2022-11-03T16:27:04.803Z"
   },
   {
    "duration": 14,
    "start_time": "2022-11-03T16:27:04.822Z"
   },
   {
    "duration": 22,
    "start_time": "2022-11-03T16:27:04.837Z"
   },
   {
    "duration": 28,
    "start_time": "2022-11-03T16:27:04.860Z"
   },
   {
    "duration": 33,
    "start_time": "2022-11-03T16:27:04.889Z"
   },
   {
    "duration": 16,
    "start_time": "2022-11-03T16:27:04.924Z"
   },
   {
    "duration": 20,
    "start_time": "2022-11-03T16:28:18.968Z"
   },
   {
    "duration": 209,
    "start_time": "2022-11-03T16:35:28.900Z"
   },
   {
    "duration": 212,
    "start_time": "2022-11-03T16:35:34.852Z"
   },
   {
    "duration": 261,
    "start_time": "2022-11-03T16:35:40.102Z"
   },
   {
    "duration": 325,
    "start_time": "2022-11-03T17:31:14.509Z"
   },
   {
    "duration": 1489,
    "start_time": "2022-11-04T10:00:18.904Z"
   },
   {
    "duration": 194,
    "start_time": "2022-11-04T10:00:20.395Z"
   },
   {
    "duration": 17,
    "start_time": "2022-11-04T10:00:20.591Z"
   },
   {
    "duration": 21,
    "start_time": "2022-11-04T10:00:20.610Z"
   },
   {
    "duration": 17,
    "start_time": "2022-11-04T10:00:20.633Z"
   },
   {
    "duration": 6,
    "start_time": "2022-11-04T10:00:20.651Z"
   },
   {
    "duration": 13,
    "start_time": "2022-11-04T10:00:20.659Z"
   },
   {
    "duration": 24,
    "start_time": "2022-11-04T10:00:20.674Z"
   },
   {
    "duration": 31,
    "start_time": "2022-11-04T10:00:20.701Z"
   },
   {
    "duration": 24,
    "start_time": "2022-11-04T10:00:20.734Z"
   },
   {
    "duration": 19,
    "start_time": "2022-11-04T10:00:20.760Z"
   },
   {
    "duration": 11,
    "start_time": "2022-11-04T10:00:20.781Z"
   },
   {
    "duration": 27,
    "start_time": "2022-11-04T10:00:20.794Z"
   },
   {
    "duration": 23,
    "start_time": "2022-11-04T10:00:20.825Z"
   },
   {
    "duration": 22,
    "start_time": "2022-11-04T10:00:20.850Z"
   },
   {
    "duration": 50,
    "start_time": "2022-11-04T10:00:20.874Z"
   },
   {
    "duration": 5,
    "start_time": "2022-11-04T10:00:20.926Z"
   },
   {
    "duration": 21,
    "start_time": "2022-11-04T10:00:20.933Z"
   },
   {
    "duration": 13,
    "start_time": "2022-11-04T10:00:20.955Z"
   },
   {
    "duration": 18,
    "start_time": "2022-11-04T10:00:20.970Z"
   },
   {
    "duration": 13,
    "start_time": "2022-11-04T10:00:20.990Z"
   },
   {
    "duration": 30,
    "start_time": "2022-11-04T10:00:21.005Z"
   },
   {
    "duration": 7,
    "start_time": "2022-11-04T10:00:21.036Z"
   },
   {
    "duration": 11,
    "start_time": "2022-11-04T10:00:21.044Z"
   },
   {
    "duration": 15,
    "start_time": "2022-11-04T10:00:21.057Z"
   },
   {
    "duration": 21,
    "start_time": "2022-11-04T10:00:21.074Z"
   },
   {
    "duration": 28,
    "start_time": "2022-11-04T10:00:21.097Z"
   },
   {
    "duration": 10,
    "start_time": "2022-11-04T10:00:21.127Z"
   },
   {
    "duration": 15,
    "start_time": "2022-11-04T10:00:21.139Z"
   },
   {
    "duration": 18,
    "start_time": "2022-11-04T10:00:21.156Z"
   },
   {
    "duration": 16,
    "start_time": "2022-11-04T10:00:21.176Z"
   },
   {
    "duration": 16,
    "start_time": "2022-11-04T10:00:21.194Z"
   },
   {
    "duration": 86,
    "start_time": "2022-11-04T10:00:21.212Z"
   },
   {
    "duration": 393,
    "start_time": "2022-11-04T10:00:21.300Z"
   },
   {
    "duration": 414,
    "start_time": "2022-11-04T10:00:21.695Z"
   },
   {
    "duration": 67,
    "start_time": "2022-11-04T10:00:22.111Z"
   },
   {
    "duration": 5,
    "start_time": "2022-11-04T10:00:22.180Z"
   },
   {
    "duration": 21,
    "start_time": "2022-11-04T10:00:22.186Z"
   },
   {
    "duration": 268,
    "start_time": "2022-11-04T10:00:22.225Z"
   },
   {
    "duration": 322,
    "start_time": "2022-11-04T10:00:22.496Z"
   },
   {
    "duration": 7,
    "start_time": "2022-11-04T10:00:22.827Z"
   },
   {
    "duration": 958,
    "start_time": "2022-11-04T10:00:22.837Z"
   },
   {
    "duration": 9,
    "start_time": "2022-11-04T10:00:23.797Z"
   },
   {
    "duration": 949,
    "start_time": "2022-11-04T10:00:23.808Z"
   },
   {
    "duration": 9,
    "start_time": "2022-11-04T10:00:24.759Z"
   },
   {
    "duration": 267,
    "start_time": "2022-11-04T10:00:24.770Z"
   },
   {
    "duration": 450,
    "start_time": "2022-11-04T10:00:25.039Z"
   },
   {
    "duration": 9,
    "start_time": "2022-11-04T10:00:25.491Z"
   },
   {
    "duration": 23,
    "start_time": "2022-11-04T10:00:25.502Z"
   },
   {
    "duration": 8,
    "start_time": "2022-11-04T10:00:25.527Z"
   },
   {
    "duration": 24,
    "start_time": "2022-11-04T10:00:25.537Z"
   },
   {
    "duration": 440,
    "start_time": "2022-11-04T10:00:25.563Z"
   },
   {
    "duration": 19,
    "start_time": "2022-11-04T10:00:26.005Z"
   },
   {
    "duration": 10,
    "start_time": "2022-11-04T10:00:26.027Z"
   },
   {
    "duration": 9,
    "start_time": "2022-11-04T10:00:26.039Z"
   },
   {
    "duration": 24,
    "start_time": "2022-11-04T10:00:26.050Z"
   },
   {
    "duration": 422,
    "start_time": "2022-11-04T10:00:26.076Z"
   },
   {
    "duration": 206,
    "start_time": "2022-11-04T10:00:26.499Z"
   },
   {
    "duration": 24,
    "start_time": "2022-11-04T10:00:26.707Z"
   },
   {
    "duration": 3,
    "start_time": "2022-11-04T10:00:26.735Z"
   },
   {
    "duration": 10,
    "start_time": "2022-11-04T10:00:26.739Z"
   },
   {
    "duration": 9,
    "start_time": "2022-11-04T10:00:26.751Z"
   },
   {
    "duration": 8,
    "start_time": "2022-11-04T10:00:26.762Z"
   },
   {
    "duration": 8,
    "start_time": "2022-11-04T10:00:26.772Z"
   }
  ],
  "kernelspec": {
   "display_name": "Python 3 (ipykernel)",
   "language": "python",
   "name": "python3"
  },
  "language_info": {
   "codemirror_mode": {
    "name": "ipython",
    "version": 3
   },
   "file_extension": ".py",
   "mimetype": "text/x-python",
   "name": "python",
   "nbconvert_exporter": "python",
   "pygments_lexer": "ipython3",
   "version": "3.8.16"
  },
  "toc": {
   "base_numbering": 1,
   "nav_menu": {},
   "number_sections": true,
   "sideBar": true,
   "skip_h1_title": true,
   "title_cell": "Table of Contents",
   "title_sidebar": "Contents",
   "toc_cell": false,
   "toc_position": {},
   "toc_section_display": true,
   "toc_window_display": false
  }
 },
 "nbformat": 4,
 "nbformat_minor": 2
}
