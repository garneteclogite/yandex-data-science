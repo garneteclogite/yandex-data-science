{
 "cells": [
  {
   "cell_type": "markdown",
   "metadata": {},
   "source": [
    "# Supervised machine learning"
   ]
  },
  {
   "cell_type": "markdown",
   "metadata": {},
   "source": [
    "## Introduction"
   ]
  },
  {
   "cell_type": "markdown",
   "metadata": {},
   "source": [
    "Clients started leaving Beta Bank every month. Not much, but noticeable. The bank's marketing experts figured keeping current customers was cheaper than bringing in new ones."
   ]
  },
  {
   "cell_type": "markdown",
   "metadata": {},
   "source": [
    "### Main goal"
   ]
  },
  {
   "cell_type": "markdown",
   "metadata": {},
   "source": [
    "We need to predict whether the client will leave the bank in the near future or not. We are provided with historical data on customer behavior and termination of contracts with the bank."
   ]
  },
  {
   "cell_type": "markdown",
   "metadata": {},
   "source": [
    "### Used data"
   ]
  },
  {
   "cell_type": "markdown",
   "metadata": {},
   "source": [
    "Source: [https://www.kaggle.com/barelydedicated/bank-customer-churn-modeling](https://www.kaggle.com/barelydedicated/bank-customer-churn-modeling)"
   ]
  },
  {
   "cell_type": "markdown",
   "metadata": {},
   "source": [
    "### Metrics"
   ]
  },
  {
   "cell_type": "markdown",
   "metadata": {},
   "source": [
    "It is necessary to build a model with *F1* more than 0.59.\n",
    "\n",
    "The *AUC-ROC* should also be checked and compared to *F1*."
   ]
  },
  {
   "cell_type": "markdown",
   "metadata": {},
   "source": [
    "## Data preparation"
   ]
  },
  {
   "cell_type": "markdown",
   "metadata": {},
   "source": [
    "The next cell is for importing the necessary libraries."
   ]
  },
  {
   "cell_type": "code",
   "execution_count": 1,
   "metadata": {},
   "outputs": [],
   "source": [
    "import pandas as pd\n",
    "from sklearn.model_selection import train_test_split\n",
    "from sklearn.preprocessing import StandardScaler\n",
    "from sklearn.ensemble import RandomForestClassifier\n",
    "from sklearn.linear_model import LogisticRegression\n",
    "from sklearn.metrics import f1_score\n",
    "from sklearn.dummy import DummyClassifier\n",
    "from sklearn.utils import shuffle\n",
    "from sklearn.metrics import roc_auc_score\n",
    "import matplotlib.pyplot as plt\n",
    "from sklearn.metrics import roc_curve"
   ]
  },
  {
   "cell_type": "markdown",
   "metadata": {},
   "source": [
    "Let's create a variable that will contain our dataframe. Let's study the information about it."
   ]
  },
  {
   "cell_type": "code",
   "execution_count": 2,
   "metadata": {},
   "outputs": [
    {
     "name": "stdout",
     "output_type": "stream",
     "text": [
      "<class 'pandas.core.frame.DataFrame'>\n",
      "RangeIndex: 10000 entries, 0 to 9999\n",
      "Data columns (total 14 columns):\n",
      " #   Column           Non-Null Count  Dtype  \n",
      "---  ------           --------------  -----  \n",
      " 0   RowNumber        10000 non-null  int64  \n",
      " 1   CustomerId       10000 non-null  int64  \n",
      " 2   Surname          10000 non-null  object \n",
      " 3   CreditScore      10000 non-null  int64  \n",
      " 4   Geography        10000 non-null  object \n",
      " 5   Gender           10000 non-null  object \n",
      " 6   Age              10000 non-null  int64  \n",
      " 7   Tenure           9091 non-null   float64\n",
      " 8   Balance          10000 non-null  float64\n",
      " 9   NumOfProducts    10000 non-null  int64  \n",
      " 10  HasCrCard        10000 non-null  int64  \n",
      " 11  IsActiveMember   10000 non-null  int64  \n",
      " 12  EstimatedSalary  10000 non-null  float64\n",
      " 13  Exited           10000 non-null  int64  \n",
      "dtypes: float64(3), int64(8), object(3)\n",
      "memory usage: 1.1+ MB\n"
     ]
    }
   ],
   "source": [
    "df = pd.read_csv('/datasets/Churn.csv')\n",
    "df.info()"
   ]
  },
  {
   "cell_type": "code",
   "execution_count": 3,
   "metadata": {},
   "outputs": [
    {
     "data": {
      "text/html": [
       "<div>\n",
       "<style scoped>\n",
       "    .dataframe tbody tr th:only-of-type {\n",
       "        vertical-align: middle;\n",
       "    }\n",
       "\n",
       "    .dataframe tbody tr th {\n",
       "        vertical-align: top;\n",
       "    }\n",
       "\n",
       "    .dataframe thead th {\n",
       "        text-align: right;\n",
       "    }\n",
       "</style>\n",
       "<table border=\"1\" class=\"dataframe\">\n",
       "  <thead>\n",
       "    <tr style=\"text-align: right;\">\n",
       "      <th></th>\n",
       "      <th>RowNumber</th>\n",
       "      <th>CustomerId</th>\n",
       "      <th>Surname</th>\n",
       "      <th>CreditScore</th>\n",
       "      <th>Geography</th>\n",
       "      <th>Gender</th>\n",
       "      <th>Age</th>\n",
       "      <th>Tenure</th>\n",
       "      <th>Balance</th>\n",
       "      <th>NumOfProducts</th>\n",
       "      <th>HasCrCard</th>\n",
       "      <th>IsActiveMember</th>\n",
       "      <th>EstimatedSalary</th>\n",
       "      <th>Exited</th>\n",
       "    </tr>\n",
       "  </thead>\n",
       "  <tbody>\n",
       "    <tr>\n",
       "      <th>0</th>\n",
       "      <td>1</td>\n",
       "      <td>15634602</td>\n",
       "      <td>Hargrave</td>\n",
       "      <td>619</td>\n",
       "      <td>France</td>\n",
       "      <td>Female</td>\n",
       "      <td>42</td>\n",
       "      <td>2.0</td>\n",
       "      <td>0.00</td>\n",
       "      <td>1</td>\n",
       "      <td>1</td>\n",
       "      <td>1</td>\n",
       "      <td>101348.88</td>\n",
       "      <td>1</td>\n",
       "    </tr>\n",
       "    <tr>\n",
       "      <th>1</th>\n",
       "      <td>2</td>\n",
       "      <td>15647311</td>\n",
       "      <td>Hill</td>\n",
       "      <td>608</td>\n",
       "      <td>Spain</td>\n",
       "      <td>Female</td>\n",
       "      <td>41</td>\n",
       "      <td>1.0</td>\n",
       "      <td>83807.86</td>\n",
       "      <td>1</td>\n",
       "      <td>0</td>\n",
       "      <td>1</td>\n",
       "      <td>112542.58</td>\n",
       "      <td>0</td>\n",
       "    </tr>\n",
       "    <tr>\n",
       "      <th>2</th>\n",
       "      <td>3</td>\n",
       "      <td>15619304</td>\n",
       "      <td>Onio</td>\n",
       "      <td>502</td>\n",
       "      <td>France</td>\n",
       "      <td>Female</td>\n",
       "      <td>42</td>\n",
       "      <td>8.0</td>\n",
       "      <td>159660.80</td>\n",
       "      <td>3</td>\n",
       "      <td>1</td>\n",
       "      <td>0</td>\n",
       "      <td>113931.57</td>\n",
       "      <td>1</td>\n",
       "    </tr>\n",
       "    <tr>\n",
       "      <th>3</th>\n",
       "      <td>4</td>\n",
       "      <td>15701354</td>\n",
       "      <td>Boni</td>\n",
       "      <td>699</td>\n",
       "      <td>France</td>\n",
       "      <td>Female</td>\n",
       "      <td>39</td>\n",
       "      <td>1.0</td>\n",
       "      <td>0.00</td>\n",
       "      <td>2</td>\n",
       "      <td>0</td>\n",
       "      <td>0</td>\n",
       "      <td>93826.63</td>\n",
       "      <td>0</td>\n",
       "    </tr>\n",
       "    <tr>\n",
       "      <th>4</th>\n",
       "      <td>5</td>\n",
       "      <td>15737888</td>\n",
       "      <td>Mitchell</td>\n",
       "      <td>850</td>\n",
       "      <td>Spain</td>\n",
       "      <td>Female</td>\n",
       "      <td>43</td>\n",
       "      <td>2.0</td>\n",
       "      <td>125510.82</td>\n",
       "      <td>1</td>\n",
       "      <td>1</td>\n",
       "      <td>1</td>\n",
       "      <td>79084.10</td>\n",
       "      <td>0</td>\n",
       "    </tr>\n",
       "  </tbody>\n",
       "</table>\n",
       "</div>"
      ],
      "text/plain": [
       "   RowNumber  CustomerId   Surname  CreditScore Geography  Gender  Age  \\\n",
       "0          1    15634602  Hargrave          619    France  Female   42   \n",
       "1          2    15647311      Hill          608     Spain  Female   41   \n",
       "2          3    15619304      Onio          502    France  Female   42   \n",
       "3          4    15701354      Boni          699    France  Female   39   \n",
       "4          5    15737888  Mitchell          850     Spain  Female   43   \n",
       "\n",
       "   Tenure    Balance  NumOfProducts  HasCrCard  IsActiveMember  \\\n",
       "0     2.0       0.00              1          1               1   \n",
       "1     1.0   83807.86              1          0               1   \n",
       "2     8.0  159660.80              3          1               0   \n",
       "3     1.0       0.00              2          0               0   \n",
       "4     2.0  125510.82              1          1               1   \n",
       "\n",
       "   EstimatedSalary  Exited  \n",
       "0        101348.88       1  \n",
       "1        112542.58       0  \n",
       "2        113931.57       1  \n",
       "3         93826.63       0  \n",
       "4         79084.10       0  "
      ]
     },
     "execution_count": 3,
     "metadata": {},
     "output_type": "execute_result"
    }
   ],
   "source": [
    "df.head()"
   ]
  },
  {
   "cell_type": "markdown",
   "metadata": {},
   "source": [
    "The format of all data is adequate, there is no need to change it. Let's rename the columns."
   ]
  },
  {
   "cell_type": "code",
   "execution_count": 4,
   "metadata": {},
   "outputs": [],
   "source": [
    "df = df.rename(columns={\n",
    "    'RowNumber':'Row_Number', \n",
    "    'CustomerId':'Customer_Id', \n",
    "    'CreditScore':'Credit_Score',\n",
    "    'NumOfProducts':'Num_Of_Products',\n",
    "    'HasCrCard':'Has_Cr_Card',\n",
    "    'IsActiveMember':'Is_Active_Member',\n",
    "    'EstimatedSalary':'Estimated_Salary'\n",
    "})"
   ]
  },
  {
   "cell_type": "markdown",
   "metadata": {},
   "source": [
    "Let's look at the number of complete duplicates."
   ]
  },
  {
   "cell_type": "code",
   "execution_count": 5,
   "metadata": {},
   "outputs": [
    {
     "data": {
      "text/plain": [
       "0"
      ]
     },
     "execution_count": 5,
     "metadata": {},
     "output_type": "execute_result"
    }
   ],
   "source": [
    "df.duplicated().sum()"
   ]
  },
  {
   "cell_type": "markdown",
   "metadata": {},
   "source": [
    "Let's look at the number of missing data."
   ]
  },
  {
   "cell_type": "code",
   "execution_count": 6,
   "metadata": {},
   "outputs": [
    {
     "data": {
      "text/plain": [
       "Row_Number            0\n",
       "Customer_Id           0\n",
       "Surname               0\n",
       "Credit_Score          0\n",
       "Geography             0\n",
       "Gender                0\n",
       "Age                   0\n",
       "Tenure              909\n",
       "Balance               0\n",
       "Num_Of_Products       0\n",
       "Has_Cr_Card           0\n",
       "Is_Active_Member      0\n",
       "Estimated_Salary      0\n",
       "Exited                0\n",
       "dtype: int64"
      ]
     },
     "execution_count": 6,
     "metadata": {},
     "output_type": "execute_result"
    }
   ],
   "source": [
    "df.isnull().sum()"
   ]
  },
  {
   "cell_type": "markdown",
   "metadata": {},
   "source": [
    "We see that there are gaps only in the column that gives us information about how many years the person has been a bank client. In this case, the omission is probably because the client is new. Not even a year has passed since he came to the bank. We need to study this issue."
   ]
  },
  {
   "cell_type": "code",
   "execution_count": 7,
   "metadata": {},
   "outputs": [
    {
     "data": {
      "text/plain": [
       "1.0     952\n",
       "2.0     950\n",
       "8.0     933\n",
       "3.0     928\n",
       "5.0     927\n",
       "7.0     925\n",
       "4.0     885\n",
       "9.0     882\n",
       "6.0     881\n",
       "10.0    446\n",
       "0.0     382\n",
       "Name: Tenure, dtype: int64"
      ]
     },
     "execution_count": 7,
     "metadata": {},
     "output_type": "execute_result"
    }
   ],
   "source": [
    "df['Tenure'].value_counts()"
   ]
  },
  {
   "cell_type": "code",
   "execution_count": 8,
   "metadata": {},
   "outputs": [
    {
     "data": {
      "text/html": [
       "<div>\n",
       "<style scoped>\n",
       "    .dataframe tbody tr th:only-of-type {\n",
       "        vertical-align: middle;\n",
       "    }\n",
       "\n",
       "    .dataframe tbody tr th {\n",
       "        vertical-align: top;\n",
       "    }\n",
       "\n",
       "    .dataframe thead th {\n",
       "        text-align: right;\n",
       "    }\n",
       "</style>\n",
       "<table border=\"1\" class=\"dataframe\">\n",
       "  <thead>\n",
       "    <tr style=\"text-align: right;\">\n",
       "      <th></th>\n",
       "      <th>Row_Number</th>\n",
       "      <th>Customer_Id</th>\n",
       "      <th>Surname</th>\n",
       "      <th>Credit_Score</th>\n",
       "      <th>Geography</th>\n",
       "      <th>Gender</th>\n",
       "      <th>Age</th>\n",
       "      <th>Tenure</th>\n",
       "      <th>Balance</th>\n",
       "      <th>Num_Of_Products</th>\n",
       "      <th>Has_Cr_Card</th>\n",
       "      <th>Is_Active_Member</th>\n",
       "      <th>Estimated_Salary</th>\n",
       "      <th>Exited</th>\n",
       "    </tr>\n",
       "  </thead>\n",
       "  <tbody>\n",
       "    <tr>\n",
       "      <th>30</th>\n",
       "      <td>31</td>\n",
       "      <td>15589475</td>\n",
       "      <td>Azikiwe</td>\n",
       "      <td>591</td>\n",
       "      <td>Spain</td>\n",
       "      <td>Female</td>\n",
       "      <td>39</td>\n",
       "      <td>NaN</td>\n",
       "      <td>0.00</td>\n",
       "      <td>3</td>\n",
       "      <td>1</td>\n",
       "      <td>0</td>\n",
       "      <td>140469.38</td>\n",
       "      <td>1</td>\n",
       "    </tr>\n",
       "    <tr>\n",
       "      <th>48</th>\n",
       "      <td>49</td>\n",
       "      <td>15766205</td>\n",
       "      <td>Yin</td>\n",
       "      <td>550</td>\n",
       "      <td>Germany</td>\n",
       "      <td>Male</td>\n",
       "      <td>38</td>\n",
       "      <td>NaN</td>\n",
       "      <td>103391.38</td>\n",
       "      <td>1</td>\n",
       "      <td>0</td>\n",
       "      <td>1</td>\n",
       "      <td>90878.13</td>\n",
       "      <td>0</td>\n",
       "    </tr>\n",
       "    <tr>\n",
       "      <th>51</th>\n",
       "      <td>52</td>\n",
       "      <td>15768193</td>\n",
       "      <td>Trevisani</td>\n",
       "      <td>585</td>\n",
       "      <td>Germany</td>\n",
       "      <td>Male</td>\n",
       "      <td>36</td>\n",
       "      <td>NaN</td>\n",
       "      <td>146050.97</td>\n",
       "      <td>2</td>\n",
       "      <td>0</td>\n",
       "      <td>0</td>\n",
       "      <td>86424.57</td>\n",
       "      <td>0</td>\n",
       "    </tr>\n",
       "    <tr>\n",
       "      <th>53</th>\n",
       "      <td>54</td>\n",
       "      <td>15702298</td>\n",
       "      <td>Parkhill</td>\n",
       "      <td>655</td>\n",
       "      <td>Germany</td>\n",
       "      <td>Male</td>\n",
       "      <td>41</td>\n",
       "      <td>NaN</td>\n",
       "      <td>125561.97</td>\n",
       "      <td>1</td>\n",
       "      <td>0</td>\n",
       "      <td>0</td>\n",
       "      <td>164040.94</td>\n",
       "      <td>1</td>\n",
       "    </tr>\n",
       "    <tr>\n",
       "      <th>60</th>\n",
       "      <td>61</td>\n",
       "      <td>15651280</td>\n",
       "      <td>Hunter</td>\n",
       "      <td>742</td>\n",
       "      <td>Germany</td>\n",
       "      <td>Male</td>\n",
       "      <td>35</td>\n",
       "      <td>NaN</td>\n",
       "      <td>136857.00</td>\n",
       "      <td>1</td>\n",
       "      <td>0</td>\n",
       "      <td>0</td>\n",
       "      <td>84509.57</td>\n",
       "      <td>0</td>\n",
       "    </tr>\n",
       "    <tr>\n",
       "      <th>...</th>\n",
       "      <td>...</td>\n",
       "      <td>...</td>\n",
       "      <td>...</td>\n",
       "      <td>...</td>\n",
       "      <td>...</td>\n",
       "      <td>...</td>\n",
       "      <td>...</td>\n",
       "      <td>...</td>\n",
       "      <td>...</td>\n",
       "      <td>...</td>\n",
       "      <td>...</td>\n",
       "      <td>...</td>\n",
       "      <td>...</td>\n",
       "      <td>...</td>\n",
       "    </tr>\n",
       "    <tr>\n",
       "      <th>9944</th>\n",
       "      <td>9945</td>\n",
       "      <td>15703923</td>\n",
       "      <td>Cameron</td>\n",
       "      <td>744</td>\n",
       "      <td>Germany</td>\n",
       "      <td>Male</td>\n",
       "      <td>41</td>\n",
       "      <td>NaN</td>\n",
       "      <td>190409.34</td>\n",
       "      <td>2</td>\n",
       "      <td>1</td>\n",
       "      <td>1</td>\n",
       "      <td>138361.48</td>\n",
       "      <td>0</td>\n",
       "    </tr>\n",
       "    <tr>\n",
       "      <th>9956</th>\n",
       "      <td>9957</td>\n",
       "      <td>15707861</td>\n",
       "      <td>Nucci</td>\n",
       "      <td>520</td>\n",
       "      <td>France</td>\n",
       "      <td>Female</td>\n",
       "      <td>46</td>\n",
       "      <td>NaN</td>\n",
       "      <td>85216.61</td>\n",
       "      <td>1</td>\n",
       "      <td>1</td>\n",
       "      <td>0</td>\n",
       "      <td>117369.52</td>\n",
       "      <td>1</td>\n",
       "    </tr>\n",
       "    <tr>\n",
       "      <th>9964</th>\n",
       "      <td>9965</td>\n",
       "      <td>15642785</td>\n",
       "      <td>Douglas</td>\n",
       "      <td>479</td>\n",
       "      <td>France</td>\n",
       "      <td>Male</td>\n",
       "      <td>34</td>\n",
       "      <td>NaN</td>\n",
       "      <td>117593.48</td>\n",
       "      <td>2</td>\n",
       "      <td>0</td>\n",
       "      <td>0</td>\n",
       "      <td>113308.29</td>\n",
       "      <td>0</td>\n",
       "    </tr>\n",
       "    <tr>\n",
       "      <th>9985</th>\n",
       "      <td>9986</td>\n",
       "      <td>15586914</td>\n",
       "      <td>Nepean</td>\n",
       "      <td>659</td>\n",
       "      <td>France</td>\n",
       "      <td>Male</td>\n",
       "      <td>36</td>\n",
       "      <td>NaN</td>\n",
       "      <td>123841.49</td>\n",
       "      <td>2</td>\n",
       "      <td>1</td>\n",
       "      <td>0</td>\n",
       "      <td>96833.00</td>\n",
       "      <td>0</td>\n",
       "    </tr>\n",
       "    <tr>\n",
       "      <th>9999</th>\n",
       "      <td>10000</td>\n",
       "      <td>15628319</td>\n",
       "      <td>Walker</td>\n",
       "      <td>792</td>\n",
       "      <td>France</td>\n",
       "      <td>Female</td>\n",
       "      <td>28</td>\n",
       "      <td>NaN</td>\n",
       "      <td>130142.79</td>\n",
       "      <td>1</td>\n",
       "      <td>1</td>\n",
       "      <td>0</td>\n",
       "      <td>38190.78</td>\n",
       "      <td>0</td>\n",
       "    </tr>\n",
       "  </tbody>\n",
       "</table>\n",
       "<p>909 rows × 14 columns</p>\n",
       "</div>"
      ],
      "text/plain": [
       "      Row_Number  Customer_Id    Surname  Credit_Score Geography  Gender  Age  \\\n",
       "30            31     15589475    Azikiwe           591     Spain  Female   39   \n",
       "48            49     15766205        Yin           550   Germany    Male   38   \n",
       "51            52     15768193  Trevisani           585   Germany    Male   36   \n",
       "53            54     15702298   Parkhill           655   Germany    Male   41   \n",
       "60            61     15651280     Hunter           742   Germany    Male   35   \n",
       "...          ...          ...        ...           ...       ...     ...  ...   \n",
       "9944        9945     15703923    Cameron           744   Germany    Male   41   \n",
       "9956        9957     15707861      Nucci           520    France  Female   46   \n",
       "9964        9965     15642785    Douglas           479    France    Male   34   \n",
       "9985        9986     15586914     Nepean           659    France    Male   36   \n",
       "9999       10000     15628319     Walker           792    France  Female   28   \n",
       "\n",
       "      Tenure    Balance  Num_Of_Products  Has_Cr_Card  Is_Active_Member  \\\n",
       "30       NaN       0.00                3            1                 0   \n",
       "48       NaN  103391.38                1            0                 1   \n",
       "51       NaN  146050.97                2            0                 0   \n",
       "53       NaN  125561.97                1            0                 0   \n",
       "60       NaN  136857.00                1            0                 0   \n",
       "...      ...        ...              ...          ...               ...   \n",
       "9944     NaN  190409.34                2            1                 1   \n",
       "9956     NaN   85216.61                1            1                 0   \n",
       "9964     NaN  117593.48                2            0                 0   \n",
       "9985     NaN  123841.49                2            1                 0   \n",
       "9999     NaN  130142.79                1            1                 0   \n",
       "\n",
       "      Estimated_Salary  Exited  \n",
       "30           140469.38       1  \n",
       "48            90878.13       0  \n",
       "51            86424.57       0  \n",
       "53           164040.94       1  \n",
       "60            84509.57       0  \n",
       "...                ...     ...  \n",
       "9944         138361.48       0  \n",
       "9956         117369.52       1  \n",
       "9964         113308.29       0  \n",
       "9985          96833.00       0  \n",
       "9999          38190.78       0  \n",
       "\n",
       "[909 rows x 14 columns]"
      ]
     },
     "execution_count": 8,
     "metadata": {},
     "output_type": "execute_result"
    }
   ],
   "source": [
    "df[df['Tenure'].isna()]"
   ]
  },
  {
   "cell_type": "markdown",
   "metadata": {},
   "source": [
    "As we can see, if the client is fresh, it is noted in the data. So my suggestion is probably wrong. So we can delete this data, especially since it does not exceed 10% of all data. In addition, given that there are no floating-point values in this column, we can rename the type of this data to int."
   ]
  },
  {
   "cell_type": "code",
   "execution_count": 9,
   "metadata": {},
   "outputs": [],
   "source": [
    "df = df.loc[~(df['Tenure'].isna())]\n",
    "df['Tenure'] = df['Tenure'].astype('int64')"
   ]
  },
  {
   "cell_type": "markdown",
   "metadata": {},
   "source": [
    "In my opinion, the columns *Row_Number*, *Customer_Id*, and *Surname* are not necessary for machine learning, because they are not features that can affect the client leaving the bank. I will remove them."
   ]
  },
  {
   "cell_type": "code",
   "execution_count": 10,
   "metadata": {},
   "outputs": [],
   "source": [
    "df = df.drop('Row_Number', axis=1)\n",
    "df = df.drop('Customer_Id', axis=1)\n",
    "df = df.drop('Surname', axis=1)"
   ]
  },
  {
   "cell_type": "markdown",
   "metadata": {},
   "source": [
    "Now let's evaluate the adequacy of each column's data."
   ]
  },
  {
   "cell_type": "code",
   "execution_count": 11,
   "metadata": {},
   "outputs": [
    {
     "data": {
      "text/plain": [
       "(350, 850)"
      ]
     },
     "execution_count": 11,
     "metadata": {},
     "output_type": "execute_result"
    }
   ],
   "source": [
    "df['Credit_Score'].min(), df['Credit_Score'].max()"
   ]
  },
  {
   "cell_type": "code",
   "execution_count": 12,
   "metadata": {},
   "outputs": [
    {
     "data": {
      "text/plain": [
       "France     4550\n",
       "Germany    2293\n",
       "Spain      2248\n",
       "Name: Geography, dtype: int64"
      ]
     },
     "execution_count": 12,
     "metadata": {},
     "output_type": "execute_result"
    }
   ],
   "source": [
    "df['Geography'].value_counts()"
   ]
  },
  {
   "cell_type": "code",
   "execution_count": 13,
   "metadata": {},
   "outputs": [
    {
     "data": {
      "text/plain": [
       "Male      4974\n",
       "Female    4117\n",
       "Name: Gender, dtype: int64"
      ]
     },
     "execution_count": 13,
     "metadata": {},
     "output_type": "execute_result"
    }
   ],
   "source": [
    "df['Gender'].value_counts()"
   ]
  },
  {
   "cell_type": "code",
   "execution_count": 14,
   "metadata": {},
   "outputs": [
    {
     "data": {
      "text/plain": [
       "(18, 92)"
      ]
     },
     "execution_count": 14,
     "metadata": {},
     "output_type": "execute_result"
    }
   ],
   "source": [
    "df['Age'].min(), df['Age'].max()"
   ]
  },
  {
   "cell_type": "code",
   "execution_count": 15,
   "metadata": {},
   "outputs": [
    {
     "data": {
      "text/plain": [
       "(0.0, 250898.09)"
      ]
     },
     "execution_count": 15,
     "metadata": {},
     "output_type": "execute_result"
    }
   ],
   "source": [
    "df['Balance'].min(), df['Balance'].max()"
   ]
  },
  {
   "cell_type": "code",
   "execution_count": 16,
   "metadata": {},
   "outputs": [
    {
     "data": {
      "text/html": [
       "<div>\n",
       "<style scoped>\n",
       "    .dataframe tbody tr th:only-of-type {\n",
       "        vertical-align: middle;\n",
       "    }\n",
       "\n",
       "    .dataframe tbody tr th {\n",
       "        vertical-align: top;\n",
       "    }\n",
       "\n",
       "    .dataframe thead th {\n",
       "        text-align: right;\n",
       "    }\n",
       "</style>\n",
       "<table border=\"1\" class=\"dataframe\">\n",
       "  <thead>\n",
       "    <tr style=\"text-align: right;\">\n",
       "      <th></th>\n",
       "      <th>Credit_Score</th>\n",
       "      <th>Geography</th>\n",
       "      <th>Gender</th>\n",
       "      <th>Age</th>\n",
       "      <th>Tenure</th>\n",
       "      <th>Balance</th>\n",
       "      <th>Num_Of_Products</th>\n",
       "      <th>Has_Cr_Card</th>\n",
       "      <th>Is_Active_Member</th>\n",
       "      <th>Estimated_Salary</th>\n",
       "      <th>Exited</th>\n",
       "    </tr>\n",
       "  </thead>\n",
       "  <tbody>\n",
       "    <tr>\n",
       "      <th>0</th>\n",
       "      <td>619</td>\n",
       "      <td>France</td>\n",
       "      <td>Female</td>\n",
       "      <td>42</td>\n",
       "      <td>2</td>\n",
       "      <td>0.0</td>\n",
       "      <td>1</td>\n",
       "      <td>1</td>\n",
       "      <td>1</td>\n",
       "      <td>101348.88</td>\n",
       "      <td>1</td>\n",
       "    </tr>\n",
       "    <tr>\n",
       "      <th>3</th>\n",
       "      <td>699</td>\n",
       "      <td>France</td>\n",
       "      <td>Female</td>\n",
       "      <td>39</td>\n",
       "      <td>1</td>\n",
       "      <td>0.0</td>\n",
       "      <td>2</td>\n",
       "      <td>0</td>\n",
       "      <td>0</td>\n",
       "      <td>93826.63</td>\n",
       "      <td>0</td>\n",
       "    </tr>\n",
       "    <tr>\n",
       "      <th>6</th>\n",
       "      <td>822</td>\n",
       "      <td>France</td>\n",
       "      <td>Male</td>\n",
       "      <td>50</td>\n",
       "      <td>7</td>\n",
       "      <td>0.0</td>\n",
       "      <td>2</td>\n",
       "      <td>1</td>\n",
       "      <td>1</td>\n",
       "      <td>10062.80</td>\n",
       "      <td>0</td>\n",
       "    </tr>\n",
       "    <tr>\n",
       "      <th>11</th>\n",
       "      <td>497</td>\n",
       "      <td>Spain</td>\n",
       "      <td>Male</td>\n",
       "      <td>24</td>\n",
       "      <td>3</td>\n",
       "      <td>0.0</td>\n",
       "      <td>2</td>\n",
       "      <td>1</td>\n",
       "      <td>0</td>\n",
       "      <td>76390.01</td>\n",
       "      <td>0</td>\n",
       "    </tr>\n",
       "    <tr>\n",
       "      <th>12</th>\n",
       "      <td>476</td>\n",
       "      <td>France</td>\n",
       "      <td>Female</td>\n",
       "      <td>34</td>\n",
       "      <td>10</td>\n",
       "      <td>0.0</td>\n",
       "      <td>2</td>\n",
       "      <td>1</td>\n",
       "      <td>0</td>\n",
       "      <td>26260.98</td>\n",
       "      <td>0</td>\n",
       "    </tr>\n",
       "    <tr>\n",
       "      <th>...</th>\n",
       "      <td>...</td>\n",
       "      <td>...</td>\n",
       "      <td>...</td>\n",
       "      <td>...</td>\n",
       "      <td>...</td>\n",
       "      <td>...</td>\n",
       "      <td>...</td>\n",
       "      <td>...</td>\n",
       "      <td>...</td>\n",
       "      <td>...</td>\n",
       "      <td>...</td>\n",
       "    </tr>\n",
       "    <tr>\n",
       "      <th>9989</th>\n",
       "      <td>841</td>\n",
       "      <td>Spain</td>\n",
       "      <td>Male</td>\n",
       "      <td>28</td>\n",
       "      <td>4</td>\n",
       "      <td>0.0</td>\n",
       "      <td>2</td>\n",
       "      <td>1</td>\n",
       "      <td>1</td>\n",
       "      <td>179436.60</td>\n",
       "      <td>0</td>\n",
       "    </tr>\n",
       "    <tr>\n",
       "      <th>9992</th>\n",
       "      <td>726</td>\n",
       "      <td>Spain</td>\n",
       "      <td>Male</td>\n",
       "      <td>36</td>\n",
       "      <td>2</td>\n",
       "      <td>0.0</td>\n",
       "      <td>1</td>\n",
       "      <td>1</td>\n",
       "      <td>0</td>\n",
       "      <td>195192.40</td>\n",
       "      <td>0</td>\n",
       "    </tr>\n",
       "    <tr>\n",
       "      <th>9994</th>\n",
       "      <td>800</td>\n",
       "      <td>France</td>\n",
       "      <td>Female</td>\n",
       "      <td>29</td>\n",
       "      <td>2</td>\n",
       "      <td>0.0</td>\n",
       "      <td>2</td>\n",
       "      <td>0</td>\n",
       "      <td>0</td>\n",
       "      <td>167773.55</td>\n",
       "      <td>0</td>\n",
       "    </tr>\n",
       "    <tr>\n",
       "      <th>9995</th>\n",
       "      <td>771</td>\n",
       "      <td>France</td>\n",
       "      <td>Male</td>\n",
       "      <td>39</td>\n",
       "      <td>5</td>\n",
       "      <td>0.0</td>\n",
       "      <td>2</td>\n",
       "      <td>1</td>\n",
       "      <td>0</td>\n",
       "      <td>96270.64</td>\n",
       "      <td>0</td>\n",
       "    </tr>\n",
       "    <tr>\n",
       "      <th>9997</th>\n",
       "      <td>709</td>\n",
       "      <td>France</td>\n",
       "      <td>Female</td>\n",
       "      <td>36</td>\n",
       "      <td>7</td>\n",
       "      <td>0.0</td>\n",
       "      <td>1</td>\n",
       "      <td>0</td>\n",
       "      <td>1</td>\n",
       "      <td>42085.58</td>\n",
       "      <td>1</td>\n",
       "    </tr>\n",
       "  </tbody>\n",
       "</table>\n",
       "<p>3283 rows × 11 columns</p>\n",
       "</div>"
      ],
      "text/plain": [
       "      Credit_Score Geography  Gender  Age  Tenure  Balance  Num_Of_Products  \\\n",
       "0              619    France  Female   42       2      0.0                1   \n",
       "3              699    France  Female   39       1      0.0                2   \n",
       "6              822    France    Male   50       7      0.0                2   \n",
       "11             497     Spain    Male   24       3      0.0                2   \n",
       "12             476    France  Female   34      10      0.0                2   \n",
       "...            ...       ...     ...  ...     ...      ...              ...   \n",
       "9989           841     Spain    Male   28       4      0.0                2   \n",
       "9992           726     Spain    Male   36       2      0.0                1   \n",
       "9994           800    France  Female   29       2      0.0                2   \n",
       "9995           771    France    Male   39       5      0.0                2   \n",
       "9997           709    France  Female   36       7      0.0                1   \n",
       "\n",
       "      Has_Cr_Card  Is_Active_Member  Estimated_Salary  Exited  \n",
       "0               1                 1         101348.88       1  \n",
       "3               0                 0          93826.63       0  \n",
       "6               1                 1          10062.80       0  \n",
       "11              1                 0          76390.01       0  \n",
       "12              1                 0          26260.98       0  \n",
       "...           ...               ...               ...     ...  \n",
       "9989            1                 1         179436.60       0  \n",
       "9992            1                 0         195192.40       0  \n",
       "9994            0                 0         167773.55       0  \n",
       "9995            1                 0          96270.64       0  \n",
       "9997            0                 1          42085.58       1  \n",
       "\n",
       "[3283 rows x 11 columns]"
      ]
     },
     "execution_count": 16,
     "metadata": {},
     "output_type": "execute_result"
    }
   ],
   "source": [
    "df[df['Balance']==0]"
   ]
  },
  {
   "cell_type": "markdown",
   "metadata": {},
   "source": [
    "There are so many clients who have 0 in their account. But there is nothing wrong with that. There could be different explanations for this."
   ]
  },
  {
   "cell_type": "code",
   "execution_count": 17,
   "metadata": {},
   "outputs": [
    {
     "data": {
      "text/plain": [
       "1    4617\n",
       "2    4184\n",
       "3     234\n",
       "4      56\n",
       "Name: Num_Of_Products, dtype: int64"
      ]
     },
     "execution_count": 17,
     "metadata": {},
     "output_type": "execute_result"
    }
   ],
   "source": [
    "df['Num_Of_Products'].value_counts()"
   ]
  },
  {
   "cell_type": "code",
   "execution_count": 18,
   "metadata": {},
   "outputs": [
    {
     "data": {
      "text/plain": [
       "1    6409\n",
       "0    2682\n",
       "Name: Has_Cr_Card, dtype: int64"
      ]
     },
     "execution_count": 18,
     "metadata": {},
     "output_type": "execute_result"
    }
   ],
   "source": [
    "df['Has_Cr_Card'].value_counts()"
   ]
  },
  {
   "cell_type": "code",
   "execution_count": 19,
   "metadata": {},
   "outputs": [
    {
     "data": {
      "text/plain": [
       "1    4687\n",
       "0    4404\n",
       "Name: Is_Active_Member, dtype: int64"
      ]
     },
     "execution_count": 19,
     "metadata": {},
     "output_type": "execute_result"
    }
   ],
   "source": [
    "df['Is_Active_Member'].value_counts()"
   ]
  },
  {
   "cell_type": "code",
   "execution_count": 20,
   "metadata": {},
   "outputs": [
    {
     "data": {
      "text/plain": [
       "(11.58, 199992.48)"
      ]
     },
     "execution_count": 20,
     "metadata": {},
     "output_type": "execute_result"
    }
   ],
   "source": [
    "df['Estimated_Salary'].min(), df['Estimated_Salary'].max()"
   ]
  },
  {
   "cell_type": "code",
   "execution_count": 21,
   "metadata": {},
   "outputs": [
    {
     "data": {
      "text/plain": [
       "0    7237\n",
       "1    1854\n",
       "Name: Exited, dtype: int64"
      ]
     },
     "execution_count": 21,
     "metadata": {},
     "output_type": "execute_result"
    }
   ],
   "source": [
    "df['Exited'].value_counts()"
   ]
  },
  {
   "cell_type": "markdown",
   "metadata": {},
   "source": [
    "**Conclusion:** Data preprocessing is complete. At this point, we can start machine learning."
   ]
  },
  {
   "cell_type": "markdown",
   "metadata": {},
   "source": [
    "## Problem research"
   ]
  },
  {
   "cell_type": "markdown",
   "metadata": {},
   "source": [
    "We are faced with the task of classification. It has been found that there is an imbalance of classes in the data. And this fact will undoubtedly contribute to the machine learning results. We will deal with it in the later stages of the project. In the meantime, we will make models without considering this factor"
   ]
  },
  {
   "cell_type": "markdown",
   "metadata": {},
   "source": [
    "Let's start with the encoding of features. We have two categorical variables of type object. They need to be encoded. Let's do it using the OHE coding technique. Let's also make a necessary step to avoid getting into the dummy trap."
   ]
  },
  {
   "cell_type": "code",
   "execution_count": 22,
   "metadata": {},
   "outputs": [],
   "source": [
    "df = pd.get_dummies(df, drop_first=True)"
   ]
  },
  {
   "cell_type": "code",
   "execution_count": 38,
   "metadata": {},
   "outputs": [
    {
     "data": {
      "text/html": [
       "<div>\n",
       "<style scoped>\n",
       "    .dataframe tbody tr th:only-of-type {\n",
       "        vertical-align: middle;\n",
       "    }\n",
       "\n",
       "    .dataframe tbody tr th {\n",
       "        vertical-align: top;\n",
       "    }\n",
       "\n",
       "    .dataframe thead th {\n",
       "        text-align: right;\n",
       "    }\n",
       "</style>\n",
       "<table border=\"1\" class=\"dataframe\">\n",
       "  <thead>\n",
       "    <tr style=\"text-align: right;\">\n",
       "      <th></th>\n",
       "      <th>Credit_Score</th>\n",
       "      <th>Age</th>\n",
       "      <th>Tenure</th>\n",
       "      <th>Balance</th>\n",
       "      <th>Num_Of_Products</th>\n",
       "      <th>Has_Cr_Card</th>\n",
       "      <th>Is_Active_Member</th>\n",
       "      <th>Estimated_Salary</th>\n",
       "      <th>Exited</th>\n",
       "      <th>Geography_Germany</th>\n",
       "      <th>Geography_Spain</th>\n",
       "      <th>Gender_Male</th>\n",
       "    </tr>\n",
       "  </thead>\n",
       "  <tbody>\n",
       "    <tr>\n",
       "      <th>0</th>\n",
       "      <td>619</td>\n",
       "      <td>42</td>\n",
       "      <td>2</td>\n",
       "      <td>0.00</td>\n",
       "      <td>1</td>\n",
       "      <td>1</td>\n",
       "      <td>1</td>\n",
       "      <td>101348.88</td>\n",
       "      <td>1</td>\n",
       "      <td>0</td>\n",
       "      <td>0</td>\n",
       "      <td>0</td>\n",
       "    </tr>\n",
       "    <tr>\n",
       "      <th>1</th>\n",
       "      <td>608</td>\n",
       "      <td>41</td>\n",
       "      <td>1</td>\n",
       "      <td>83807.86</td>\n",
       "      <td>1</td>\n",
       "      <td>0</td>\n",
       "      <td>1</td>\n",
       "      <td>112542.58</td>\n",
       "      <td>0</td>\n",
       "      <td>0</td>\n",
       "      <td>1</td>\n",
       "      <td>0</td>\n",
       "    </tr>\n",
       "    <tr>\n",
       "      <th>2</th>\n",
       "      <td>502</td>\n",
       "      <td>42</td>\n",
       "      <td>8</td>\n",
       "      <td>159660.80</td>\n",
       "      <td>3</td>\n",
       "      <td>1</td>\n",
       "      <td>0</td>\n",
       "      <td>113931.57</td>\n",
       "      <td>1</td>\n",
       "      <td>0</td>\n",
       "      <td>0</td>\n",
       "      <td>0</td>\n",
       "    </tr>\n",
       "    <tr>\n",
       "      <th>3</th>\n",
       "      <td>699</td>\n",
       "      <td>39</td>\n",
       "      <td>1</td>\n",
       "      <td>0.00</td>\n",
       "      <td>2</td>\n",
       "      <td>0</td>\n",
       "      <td>0</td>\n",
       "      <td>93826.63</td>\n",
       "      <td>0</td>\n",
       "      <td>0</td>\n",
       "      <td>0</td>\n",
       "      <td>0</td>\n",
       "    </tr>\n",
       "    <tr>\n",
       "      <th>4</th>\n",
       "      <td>850</td>\n",
       "      <td>43</td>\n",
       "      <td>2</td>\n",
       "      <td>125510.82</td>\n",
       "      <td>1</td>\n",
       "      <td>1</td>\n",
       "      <td>1</td>\n",
       "      <td>79084.10</td>\n",
       "      <td>0</td>\n",
       "      <td>0</td>\n",
       "      <td>1</td>\n",
       "      <td>0</td>\n",
       "    </tr>\n",
       "    <tr>\n",
       "      <th>...</th>\n",
       "      <td>...</td>\n",
       "      <td>...</td>\n",
       "      <td>...</td>\n",
       "      <td>...</td>\n",
       "      <td>...</td>\n",
       "      <td>...</td>\n",
       "      <td>...</td>\n",
       "      <td>...</td>\n",
       "      <td>...</td>\n",
       "      <td>...</td>\n",
       "      <td>...</td>\n",
       "      <td>...</td>\n",
       "    </tr>\n",
       "    <tr>\n",
       "      <th>9994</th>\n",
       "      <td>800</td>\n",
       "      <td>29</td>\n",
       "      <td>2</td>\n",
       "      <td>0.00</td>\n",
       "      <td>2</td>\n",
       "      <td>0</td>\n",
       "      <td>0</td>\n",
       "      <td>167773.55</td>\n",
       "      <td>0</td>\n",
       "      <td>0</td>\n",
       "      <td>0</td>\n",
       "      <td>0</td>\n",
       "    </tr>\n",
       "    <tr>\n",
       "      <th>9995</th>\n",
       "      <td>771</td>\n",
       "      <td>39</td>\n",
       "      <td>5</td>\n",
       "      <td>0.00</td>\n",
       "      <td>2</td>\n",
       "      <td>1</td>\n",
       "      <td>0</td>\n",
       "      <td>96270.64</td>\n",
       "      <td>0</td>\n",
       "      <td>0</td>\n",
       "      <td>0</td>\n",
       "      <td>1</td>\n",
       "    </tr>\n",
       "    <tr>\n",
       "      <th>9996</th>\n",
       "      <td>516</td>\n",
       "      <td>35</td>\n",
       "      <td>10</td>\n",
       "      <td>57369.61</td>\n",
       "      <td>1</td>\n",
       "      <td>1</td>\n",
       "      <td>1</td>\n",
       "      <td>101699.77</td>\n",
       "      <td>0</td>\n",
       "      <td>0</td>\n",
       "      <td>0</td>\n",
       "      <td>1</td>\n",
       "    </tr>\n",
       "    <tr>\n",
       "      <th>9997</th>\n",
       "      <td>709</td>\n",
       "      <td>36</td>\n",
       "      <td>7</td>\n",
       "      <td>0.00</td>\n",
       "      <td>1</td>\n",
       "      <td>0</td>\n",
       "      <td>1</td>\n",
       "      <td>42085.58</td>\n",
       "      <td>1</td>\n",
       "      <td>0</td>\n",
       "      <td>0</td>\n",
       "      <td>0</td>\n",
       "    </tr>\n",
       "    <tr>\n",
       "      <th>9998</th>\n",
       "      <td>772</td>\n",
       "      <td>42</td>\n",
       "      <td>3</td>\n",
       "      <td>75075.31</td>\n",
       "      <td>2</td>\n",
       "      <td>1</td>\n",
       "      <td>0</td>\n",
       "      <td>92888.52</td>\n",
       "      <td>1</td>\n",
       "      <td>1</td>\n",
       "      <td>0</td>\n",
       "      <td>1</td>\n",
       "    </tr>\n",
       "  </tbody>\n",
       "</table>\n",
       "<p>9091 rows × 12 columns</p>\n",
       "</div>"
      ],
      "text/plain": [
       "      Credit_Score  Age  Tenure    Balance  Num_Of_Products  Has_Cr_Card  \\\n",
       "0              619   42       2       0.00                1            1   \n",
       "1              608   41       1   83807.86                1            0   \n",
       "2              502   42       8  159660.80                3            1   \n",
       "3              699   39       1       0.00                2            0   \n",
       "4              850   43       2  125510.82                1            1   \n",
       "...            ...  ...     ...        ...              ...          ...   \n",
       "9994           800   29       2       0.00                2            0   \n",
       "9995           771   39       5       0.00                2            1   \n",
       "9996           516   35      10   57369.61                1            1   \n",
       "9997           709   36       7       0.00                1            0   \n",
       "9998           772   42       3   75075.31                2            1   \n",
       "\n",
       "      Is_Active_Member  Estimated_Salary  Exited  Geography_Germany  \\\n",
       "0                    1         101348.88       1                  0   \n",
       "1                    1         112542.58       0                  0   \n",
       "2                    0         113931.57       1                  0   \n",
       "3                    0          93826.63       0                  0   \n",
       "4                    1          79084.10       0                  0   \n",
       "...                ...               ...     ...                ...   \n",
       "9994                 0         167773.55       0                  0   \n",
       "9995                 0          96270.64       0                  0   \n",
       "9996                 1         101699.77       0                  0   \n",
       "9997                 1          42085.58       1                  0   \n",
       "9998                 0          92888.52       1                  1   \n",
       "\n",
       "      Geography_Spain  Gender_Male  \n",
       "0                   0            0  \n",
       "1                   1            0  \n",
       "2                   0            0  \n",
       "3                   0            0  \n",
       "4                   1            0  \n",
       "...               ...          ...  \n",
       "9994                0            0  \n",
       "9995                0            1  \n",
       "9996                0            1  \n",
       "9997                0            0  \n",
       "9998                0            1  \n",
       "\n",
       "[9091 rows x 12 columns]"
      ]
     },
     "execution_count": 38,
     "metadata": {},
     "output_type": "execute_result"
    }
   ],
   "source": [
    "df"
   ]
  },
  {
   "cell_type": "markdown",
   "metadata": {},
   "source": [
    "Let's select the usual features and target features in the dataframe, split the data into samples, and check how many values are contained in each sample."
   ]
  },
  {
   "cell_type": "code",
   "execution_count": 23,
   "metadata": {},
   "outputs": [],
   "source": [
    "target = df['Exited']\n",
    "features = df.drop('Exited', axis=1)\n",
    "features_train_valid, features_test, target_train_valid, target_test = train_test_split(\n",
    "    features, target, test_size=0.20, random_state=12345)\n",
    "features_train, features_valid, target_train, target_valid = train_test_split(\n",
    "    features_train_valid, target_train_valid, test_size=0.20, random_state=12345)"
   ]
  },
  {
   "cell_type": "code",
   "execution_count": 24,
   "metadata": {},
   "outputs": [
    {
     "data": {
      "text/plain": [
       "((5817, 11), (5817,))"
      ]
     },
     "execution_count": 24,
     "metadata": {},
     "output_type": "execute_result"
    }
   ],
   "source": [
    "features_train.shape, target_train.shape"
   ]
  },
  {
   "cell_type": "code",
   "execution_count": 25,
   "metadata": {},
   "outputs": [
    {
     "data": {
      "text/plain": [
       "((1455, 11), (1455,))"
      ]
     },
     "execution_count": 25,
     "metadata": {},
     "output_type": "execute_result"
    }
   ],
   "source": [
    "features_valid.shape, target_valid.shape"
   ]
  },
  {
   "cell_type": "code",
   "execution_count": 26,
   "metadata": {},
   "outputs": [
    {
     "data": {
      "text/plain": [
       "((1819, 11), (1819,))"
      ]
     },
     "execution_count": 26,
     "metadata": {},
     "output_type": "execute_result"
    }
   ],
   "source": [
    "features_test.shape, target_test.shape"
   ]
  },
  {
   "cell_type": "markdown",
   "metadata": {},
   "source": [
    "Now it is necessary to scale the features (to standardize them)."
   ]
  },
  {
   "cell_type": "code",
   "execution_count": 28,
   "metadata": {},
   "outputs": [],
   "source": [
    "pd.options.mode.chained_assignment = None\n",
    "\n",
    "numeric = ['Credit_Score', 'Age', 'Tenure', 'Balance', 'Num_Of_Products', 'Estimated_Salary']\n",
    "\n",
    "scaler = StandardScaler()\n",
    "scaler.fit(features_train[numeric])\n",
    "features_train[numeric] = scaler.transform(features_train[numeric])\n",
    "features_valid[numeric] = scaler.transform(features_valid[numeric])\n",
    "features_test[numeric] = scaler.transform(features_test[numeric])"
   ]
  },
  {
   "cell_type": "markdown",
   "metadata": {},
   "source": [
    "Now let's select the best classification model. First, we train the model by applying the random forest method. We will go through different maximal depths to see at what value of this hyperparameter we get the largest value of F1. Let us apply the number of trees equal to 100."
   ]
  },
  {
   "cell_type": "code",
   "execution_count": 29,
   "metadata": {},
   "outputs": [
    {
     "name": "stdout",
     "output_type": "stream",
     "text": [
      "max_depth = 1 : 0.0\n",
      "max_depth = 2 : 0.12\n",
      "max_depth = 3 : 0.17307692307692307\n",
      "max_depth = 4 : 0.3579545454545454\n",
      "max_depth = 5 : 0.45758354755784064\n",
      "max_depth = 6 : 0.5148514851485149\n",
      "max_depth = 7 : 0.5393794749403341\n",
      "max_depth = 8 : 0.5502392344497608\n",
      "max_depth = 9 : 0.5599999999999999\n",
      "max_depth = 10 : 0.5539906103286385\n",
      "max_depth = 11 : 0.5773672055427251\n",
      "max_depth = 12 : 0.560919540229885\n",
      "max_depth = 13 : 0.5753424657534246\n",
      "max_depth = 14 : 0.5752808988764044\n",
      "max_depth = 15 : 0.5810810810810811\n",
      "max_depth = 16 : 0.5759637188208616\n",
      "max_depth = 17 : 0.5720720720720721\n",
      "max_depth = 18 : 0.5778781038374718\n",
      "max_depth = 19 : 0.5771812080536913\n"
     ]
    }
   ],
   "source": [
    "for depth in range(1, 20, 1):\n",
    "    model = RandomForestClassifier(n_estimators=100, max_depth=depth, random_state=12345)\n",
    "    model.fit(features_train, target_train)\n",
    "    predicted_valid = model.predict(features_valid)\n",
    "    print(\"max_depth =\", depth, \": \", end='')\n",
    "    print(f1_score(target_valid, predicted_valid))"
   ]
  },
  {
   "cell_type": "markdown",
   "metadata": {},
   "source": [
    "It was found that at the maximum depth of 15, the highest F1 value is obtained."
   ]
  },
  {
   "cell_type": "markdown",
   "metadata": {},
   "source": [
    "Now train the model using logistic regression."
   ]
  },
  {
   "cell_type": "code",
   "execution_count": 30,
   "metadata": {},
   "outputs": [
    {
     "name": "stdout",
     "output_type": "stream",
     "text": [
      "0.2949061662198391\n"
     ]
    }
   ],
   "source": [
    "model = LogisticRegression(random_state=12345, solver='liblinear', max_iter=1000) \n",
    "model.fit(features_train, target_train)\n",
    "predicted_valid = model.predict(features_valid)\n",
    "print(f1_score(target_valid, predicted_valid))"
   ]
  },
  {
   "cell_type": "markdown",
   "metadata": {},
   "source": [
    "The metric F1 in the case of logistic regression is much smaller, so we can conclude at this stage that we should work with a random forest."
   ]
  },
  {
   "cell_type": "markdown",
   "metadata": {},
   "source": [
    "But now we need to test the model for adequacy. What predictions will DummyClassifier make on our data? Let's choose uniform as the strategy for the classifier. "
   ]
  },
  {
   "cell_type": "code",
   "execution_count": 31,
   "metadata": {},
   "outputs": [
    {
     "data": {
      "text/plain": [
       "0.30481809242871194"
      ]
     },
     "execution_count": 31,
     "metadata": {},
     "output_type": "execute_result"
    }
   ],
   "source": [
    "model = DummyClassifier(strategy='uniform', random_state=12345)\n",
    "model.fit(features_train, target_train)\n",
    "predicted_valid = model.predict(features_valid)\n",
    "f1_score(target_valid, predicted_valid)"
   ]
  },
  {
   "cell_type": "markdown",
   "metadata": {},
   "source": [
    "In my opinion, even though there is an imbalance of classes in our data, our model does quite well. For example, the random model has F1=0.30, and ours has F1=0.58. Perhaps this is because the imbalance is not so strong. But we have not yet reached the target of 0.59."
   ]
  },
  {
   "cell_type": "markdown",
   "metadata": {},
   "source": [
    "Using the AUC-ROC metric, we can also check how different our model is from the random one. This parameter for the random model is 0.5."
   ]
  },
  {
   "cell_type": "code",
   "execution_count": 32,
   "metadata": {},
   "outputs": [
    {
     "name": "stdout",
     "output_type": "stream",
     "text": [
      "0.8452791230584124\n"
     ]
    }
   ],
   "source": [
    "model = RandomForestClassifier(n_estimators=100, max_depth=15, random_state=12345)\n",
    "model.fit(features_train, target_train)\n",
    "probabilities_valid = model.predict_proba(features_valid)\n",
    "probabilities_one_valid = probabilities_valid[:, 1]\n",
    "\n",
    "print(roc_auc_score(target_valid, probabilities_one_valid))"
   ]
  },
  {
   "cell_type": "markdown",
   "metadata": {},
   "source": [
    "It's a great result, but it could be better."
   ]
  },
  {
   "cell_type": "markdown",
   "metadata": {},
   "source": [
    "**Conclusion:** Before working with imbalance, the RandomForestClassifier learning model (max_depth=15) looks the most preferable for the goal since the F1 metric almost reaches the target value."
   ]
  },
  {
   "cell_type": "markdown",
   "metadata": {},
   "source": [
    "## Dealing with imbalances"
   ]
  },
  {
   "cell_type": "markdown",
   "metadata": {},
   "source": [
    "We will control the imbalance by upsampling. To do this, we will create a special function that will take the usual features, the target feature, and the value by which we want to multiply the data. This function will also contain mixing."
   ]
  },
  {
   "cell_type": "code",
   "execution_count": 33,
   "metadata": {},
   "outputs": [
    {
     "name": "stdout",
     "output_type": "stream",
     "text": [
      "0.6226415094339623\n",
      "0.8465760340522273\n"
     ]
    },
    {
     "data": {
      "image/png": "[encoded data removed]",
      "text/plain": [
       "<Figure size 432x288 with 1 Axes>"
      ]
     },
     "metadata": {
      "needs_background": "light"
     },
     "output_type": "display_data"
    }
   ],
   "source": [
    "def upsample(features, target, repeat):\n",
    "    features_zeros = features[target == 0]\n",
    "    features_ones = features[target == 1]\n",
    "    target_zeros = target[target == 0]\n",
    "    target_ones = target[target == 1]\n",
    "\n",
    "    features_upsampled = pd.concat([features_zeros] + [features_ones] * repeat)\n",
    "    target_upsampled = pd.concat([target_zeros] + [target_ones] * repeat)\n",
    "    \n",
    "    features_upsampled, target_upsampled = shuffle(\n",
    "        features_upsampled, target_upsampled, random_state=12345)\n",
    "    \n",
    "    return features_upsampled, target_upsampled\n",
    "\n",
    "features_upsampled, target_upsampled = upsample(features_train, target_train, 4)\n",
    "\n",
    "model = RandomForestClassifier(n_estimators=100, max_depth=15, random_state=12345)\n",
    "model.fit(features_upsampled, target_upsampled)\n",
    "predicted_valid = model.predict(features_valid)\n",
    "\n",
    "print(f1_score(target_valid, predicted_valid))\n",
    "\n",
    "probabilities_valid = model.predict_proba(features_valid)\n",
    "probabilities_one_valid = probabilities_valid[:, 1]\n",
    "print(roc_auc_score(target_valid, probabilities_one_valid))\n",
    "\n",
    "fpr, tpr, thresholds = roc_curve(target_valid, probabilities_one_valid)\n",
    "\n",
    "plt.figure()\n",
    "plt.plot(fpr, tpr)\n",
    "plt.plot([0, 1], [0, 1], linestyle='--')\n",
    "plt.xlim([0.0, 1.0])\n",
    "plt.ylim([0.0, 1.0])\n",
    "plt.xlabel('False Positive Rate')\n",
    "plt.ylabel('True Positive Rate')\n",
    "plt.title('ROC-кривая')\n",
    "plt.show()"
   ]
  },
  {
   "cell_type": "markdown",
   "metadata": {},
   "source": [
    "A very good result was obtained. The target F1=0.59 is exceeded. The AUC-ROC value increased slightly."
   ]
  },
  {
   "cell_type": "markdown",
   "metadata": {},
   "source": [
    "Now let's fight the imbalance with downsampling using a similar principle to the one described above."
   ]
  },
  {
   "cell_type": "code",
   "execution_count": 34,
   "metadata": {},
   "outputs": [
    {
     "name": "stdout",
     "output_type": "stream",
     "text": [
      "0.5628272251308901\n",
      "0.8547414340389254\n"
     ]
    },
    {
     "data": {
      "image/png": "[encoded data removed]",
      "text/plain": [
       "<Figure size 432x288 with 1 Axes>"
      ]
     },
     "metadata": {
      "needs_background": "light"
     },
     "output_type": "display_data"
    }
   ],
   "source": [
    "def downsample(features, target, fraction):\n",
    "    features_zeros = features[target == 0]\n",
    "    features_ones = features[target == 1]\n",
    "    target_zeros = target[target == 0]\n",
    "    target_ones = target[target == 1]\n",
    "\n",
    "    features_downsampled = pd.concat(\n",
    "        [features_zeros.sample(frac=fraction, random_state=12345)] + [features_ones])\n",
    "    target_downsampled = pd.concat(\n",
    "        [target_zeros.sample(frac=fraction, random_state=12345)] + [target_ones])\n",
    "    \n",
    "    features_downsampled, target_downsampled = shuffle(\n",
    "        features_downsampled, target_downsampled, random_state=12345)\n",
    "    \n",
    "    return features_downsampled, target_downsampled\n",
    "\n",
    "features_downsampled, target_downsampled = downsample(features_train, target_train, 0.25)\n",
    "\n",
    "model = RandomForestClassifier(n_estimators=100, max_depth=15, random_state=12345)\n",
    "model.fit(features_downsampled, target_downsampled)\n",
    "predicted_valid = model.predict(features_valid)\n",
    "\n",
    "print(f1_score(target_valid, predicted_valid))\n",
    "\n",
    "probabilities_valid = model.predict_proba(features_valid)\n",
    "probabilities_one_valid = probabilities_valid[:, 1]\n",
    "print(roc_auc_score(target_valid, probabilities_one_valid))\n",
    "\n",
    "fpr, tpr, thresholds = roc_curve(target_valid, probabilities_one_valid)\n",
    "\n",
    "plt.figure()\n",
    "plt.plot(fpr, tpr)\n",
    "plt.plot([0, 1], [0, 1], linestyle='--')\n",
    "plt.xlim([0.0, 1.0])\n",
    "plt.ylim([0.0, 1.0])\n",
    "plt.xlabel('False Positive Rate')\n",
    "plt.ylabel('True Positive Rate')\n",
    "plt.title('ROC-кривая')\n",
    "plt.show()"
   ]
  },
  {
   "cell_type": "markdown",
   "metadata": {},
   "source": [
    "Even though the AUC-ROC value has increased, the F1 has decreased significantly. This is no good. We will use upsampling."
   ]
  },
  {
   "cell_type": "markdown",
   "metadata": {},
   "source": [
    "Now let's look at the logistic regression model with up- and downsampling."
   ]
  },
  {
   "cell_type": "code",
   "execution_count": 35,
   "metadata": {},
   "outputs": [
    {
     "name": "stdout",
     "output_type": "stream",
     "text": [
      "0.4993788819875776\n",
      "0.7911217524320859\n"
     ]
    },
    {
     "data": {
      "image/png": "[encoded data removed]",
      "text/plain": [
       "<Figure size 432x288 with 1 Axes>"
      ]
     },
     "metadata": {
      "needs_background": "light"
     },
     "output_type": "display_data"
    }
   ],
   "source": [
    "model = LogisticRegression(random_state=12345, solver='liblinear', max_iter=1000) \n",
    "model.fit(features_upsampled, target_upsampled)\n",
    "predicted_valid = model.predict(features_valid)\n",
    "print(f1_score(target_valid, predicted_valid))\n",
    "\n",
    "probabilities_valid = model.predict_proba(features_valid)\n",
    "probabilities_one_valid = probabilities_valid[:, 1]\n",
    "print(roc_auc_score(target_valid, probabilities_one_valid))\n",
    "\n",
    "fpr, tpr, thresholds = roc_curve(target_valid, probabilities_one_valid)\n",
    "\n",
    "plt.figure()\n",
    "plt.plot(fpr, tpr)\n",
    "plt.plot([0, 1], [0, 1], linestyle='--')\n",
    "plt.xlim([0.0, 1.0])\n",
    "plt.ylim([0.0, 1.0])\n",
    "plt.xlabel('False Positive Rate')\n",
    "plt.ylabel('True Positive Rate')\n",
    "plt.title('ROC-кривая')\n",
    "plt.show()"
   ]
  },
  {
   "cell_type": "code",
   "execution_count": 36,
   "metadata": {},
   "outputs": [
    {
     "name": "stdout",
     "output_type": "stream",
     "text": [
      "0.49757281553398053\n",
      "0.7891748743900892\n"
     ]
    },
    {
     "data": {
      "image/png": "[encoded data removed]",
      "text/plain": [
       "<Figure size 432x288 with 1 Axes>"
      ]
     },
     "metadata": {
      "needs_background": "light"
     },
     "output_type": "display_data"
    }
   ],
   "source": [
    "model = LogisticRegression(random_state=12345, solver='liblinear', max_iter=1000) \n",
    "model.fit(features_downsampled, target_downsampled)\n",
    "predicted_valid = model.predict(features_valid)\n",
    "print(f1_score(target_valid, predicted_valid))\n",
    "\n",
    "probabilities_valid = model.predict_proba(features_valid)\n",
    "probabilities_one_valid = probabilities_valid[:, 1]\n",
    "print(roc_auc_score(target_valid, probabilities_one_valid))\n",
    "\n",
    "fpr, tpr, thresholds = roc_curve(target_valid, probabilities_one_valid)\n",
    "\n",
    "plt.figure()\n",
    "plt.plot(fpr, tpr)\n",
    "plt.plot([0, 1], [0, 1], linestyle='--')\n",
    "plt.xlim([0.0, 1.0])\n",
    "plt.ylim([0.0, 1.0])\n",
    "plt.xlabel('False Positive Rate')\n",
    "plt.ylabel('True Positive Rate')\n",
    "plt.title('ROC-кривая')\n",
    "plt.show()"
   ]
  },
  {
   "cell_type": "markdown",
   "metadata": {},
   "source": [
    "F1 has grown considerably here, but still less than the random forest model. You can also see that upsampling is more effective at dealing with class imbalance."
   ]
  },
  {
   "cell_type": "markdown",
   "metadata": {},
   "source": [
    "**Conclusion:** Combating class imbalance with upsampling is the most effective. The goal is reached, and we can start testing."
   ]
  },
  {
   "cell_type": "markdown",
   "metadata": {},
   "source": [
    "## Model testing"
   ]
  },
  {
   "cell_type": "markdown",
   "metadata": {},
   "source": [
    "Let's test using the best random forest model by the study results with a maximum depth of 15 and upsampling. We will measure F1 and AUC-ROC."
   ]
  },
  {
   "cell_type": "code",
   "execution_count": 37,
   "metadata": {},
   "outputs": [
    {
     "name": "stdout",
     "output_type": "stream",
     "text": [
      "0.5988538681948423\n",
      "0.8515129427156342\n"
     ]
    },
    {
     "data": {
      "image/png": "[encoded data removed]",
      "text/plain": [
       "<Figure size 432x288 with 1 Axes>"
      ]
     },
     "metadata": {
      "needs_background": "light"
     },
     "output_type": "display_data"
    }
   ],
   "source": [
    "model = RandomForestClassifier(n_estimators=100, max_depth=15, random_state=12345)\n",
    "model.fit(features_upsampled, target_upsampled)\n",
    "predicted_test = model.predict(features_test)\n",
    "\n",
    "print(f1_score(target_test, predicted_test))\n",
    "\n",
    "probabilities_test = model.predict_proba(features_test)\n",
    "probabilities_one_test = probabilities_test[:, 1]\n",
    "print(roc_auc_score(target_test, probabilities_one_test))\n",
    "\n",
    "fpr, tpr, thresholds = roc_curve(target_test, probabilities_one_test)\n",
    "\n",
    "plt.figure()\n",
    "plt.plot(fpr, tpr)\n",
    "plt.plot([0, 1], [0, 1], linestyle='--')\n",
    "plt.xlim([0.0, 1.0])\n",
    "plt.ylim([0.0, 1.0])\n",
    "plt.xlabel('False Positive Rate')\n",
    "plt.ylabel('True Positive Rate')\n",
    "plt.title('ROC-кривая')\n",
    "plt.show()"
   ]
  },
  {
   "cell_type": "markdown",
   "metadata": {},
   "source": [
    "**Conclusion:** Testing with the most efficient machine learning model and upsampling achieved the target value of F1=0.59. Thus, our goal is achieved."
   ]
  },
  {
   "cell_type": "markdown",
   "metadata": {},
   "source": [
    "## Conclusion"
   ]
  },
  {
   "cell_type": "markdown",
   "metadata": {},
   "source": [
    "The project's main goal was to develop a machine learning model that can help Beta Bank predict customer behavior, specifically whether a customer will leave the bank or not.  The F1 metric should reach 0.59.\n",
    "\n",
    "The data for the development of the model were the characteristics of clients, including their gender, residence, as well as financial indicators.\n",
    "\n",
    "The target feature was the fact of the client leaving the bank - yes or no.\n",
    "\n",
    "The study found that the best model for the bank-provided data is the random forest model, with a maximum depth of 15. Also, the best F1 index is achieved when the data are processed using upsampling."
   ]
  }
 ],
 "metadata": {
  "ExecuteTimeLog": [
   {
    "duration": 402,
    "start_time": "2022-12-08T07:27:43.141Z"
   },
   {
    "duration": 85,
    "start_time": "2022-12-08T07:28:11.111Z"
   },
   {
    "duration": 53,
    "start_time": "2022-12-08T07:28:27.907Z"
   },
   {
    "duration": 46,
    "start_time": "2022-12-08T07:30:44.978Z"
   },
   {
    "duration": 5,
    "start_time": "2022-12-08T07:34:47.936Z"
   },
   {
    "duration": 13,
    "start_time": "2022-12-08T07:34:57.341Z"
   },
   {
    "duration": 14,
    "start_time": "2022-12-08T07:36:45.418Z"
   },
   {
    "duration": 49,
    "start_time": "2022-12-08T07:38:12.442Z"
   },
   {
    "duration": 58,
    "start_time": "2022-12-08T07:39:04.050Z"
   },
   {
    "duration": 10,
    "start_time": "2022-12-08T07:40:06.559Z"
   },
   {
    "duration": 6,
    "start_time": "2022-12-08T07:41:51.314Z"
   },
   {
    "duration": 22,
    "start_time": "2022-12-08T07:42:00.635Z"
   },
   {
    "duration": 6,
    "start_time": "2022-12-08T07:45:56.124Z"
   },
   {
    "duration": 19,
    "start_time": "2022-12-08T07:46:46.937Z"
   },
   {
    "duration": 5,
    "start_time": "2022-12-08T07:47:41.721Z"
   },
   {
    "duration": 19,
    "start_time": "2022-12-08T07:49:14.672Z"
   },
   {
    "duration": 19,
    "start_time": "2022-12-08T07:49:46.823Z"
   },
   {
    "duration": 69,
    "start_time": "2022-12-08T07:58:04.238Z"
   },
   {
    "duration": 10,
    "start_time": "2022-12-08T08:00:11.205Z"
   },
   {
    "duration": 4,
    "start_time": "2022-12-08T08:02:13.181Z"
   },
   {
    "duration": 13,
    "start_time": "2022-12-08T08:02:32.434Z"
   },
   {
    "duration": 5,
    "start_time": "2022-12-08T08:02:48.007Z"
   },
   {
    "duration": 12,
    "start_time": "2022-12-08T08:02:49.692Z"
   },
   {
    "duration": 4,
    "start_time": "2022-12-08T08:03:14.805Z"
   },
   {
    "duration": 11,
    "start_time": "2022-12-08T08:03:16.359Z"
   },
   {
    "duration": 5,
    "start_time": "2022-12-08T08:04:11.109Z"
   },
   {
    "duration": 12,
    "start_time": "2022-12-08T08:04:12.339Z"
   },
   {
    "duration": 5,
    "start_time": "2022-12-08T08:04:25.245Z"
   },
   {
    "duration": 18,
    "start_time": "2022-12-08T08:04:25.957Z"
   },
   {
    "duration": 16,
    "start_time": "2022-12-08T08:05:45.173Z"
   },
   {
    "duration": 2,
    "start_time": "2022-12-08T08:05:55.793Z"
   },
   {
    "duration": 60,
    "start_time": "2022-12-08T08:05:55.798Z"
   },
   {
    "duration": 4,
    "start_time": "2022-12-08T08:05:55.861Z"
   },
   {
    "duration": 23,
    "start_time": "2022-12-08T08:05:55.866Z"
   },
   {
    "duration": 8,
    "start_time": "2022-12-08T08:05:55.891Z"
   },
   {
    "duration": 17,
    "start_time": "2022-12-08T08:05:55.901Z"
   },
   {
    "duration": 36,
    "start_time": "2022-12-08T08:05:55.920Z"
   },
   {
    "duration": 13,
    "start_time": "2022-12-08T08:05:55.958Z"
   },
   {
    "duration": 0,
    "start_time": "2022-12-08T08:05:55.972Z"
   },
   {
    "duration": 11,
    "start_time": "2022-12-08T08:06:38.877Z"
   },
   {
    "duration": 8,
    "start_time": "2022-12-08T08:39:36.521Z"
   },
   {
    "duration": 7,
    "start_time": "2022-12-08T08:39:47.310Z"
   },
   {
    "duration": 7,
    "start_time": "2022-12-08T08:39:54.478Z"
   },
   {
    "duration": 3,
    "start_time": "2022-12-08T08:41:09.112Z"
   },
   {
    "duration": 7,
    "start_time": "2022-12-08T08:41:16.424Z"
   },
   {
    "duration": 10,
    "start_time": "2022-12-08T08:42:10.424Z"
   },
   {
    "duration": 8,
    "start_time": "2022-12-08T08:42:16.079Z"
   },
   {
    "duration": 7,
    "start_time": "2022-12-08T08:42:20.106Z"
   },
   {
    "duration": 2,
    "start_time": "2022-12-08T08:43:06.092Z"
   },
   {
    "duration": 61,
    "start_time": "2022-12-08T08:43:06.096Z"
   },
   {
    "duration": 4,
    "start_time": "2022-12-08T08:43:06.158Z"
   },
   {
    "duration": 24,
    "start_time": "2022-12-08T08:43:06.163Z"
   },
   {
    "duration": 6,
    "start_time": "2022-12-08T08:43:06.189Z"
   },
   {
    "duration": 7,
    "start_time": "2022-12-08T08:43:06.196Z"
   },
   {
    "duration": 46,
    "start_time": "2022-12-08T08:43:06.204Z"
   },
   {
    "duration": 4,
    "start_time": "2022-12-08T08:44:11.458Z"
   },
   {
    "duration": 11,
    "start_time": "2022-12-08T08:44:19.109Z"
   },
   {
    "duration": 12,
    "start_time": "2022-12-08T08:49:26.978Z"
   },
   {
    "duration": 6,
    "start_time": "2022-12-08T08:52:24.235Z"
   },
   {
    "duration": 4,
    "start_time": "2022-12-08T08:52:31.347Z"
   },
   {
    "duration": 5,
    "start_time": "2022-12-08T08:52:40.891Z"
   },
   {
    "duration": 4,
    "start_time": "2022-12-08T08:52:45.429Z"
   },
   {
    "duration": 6,
    "start_time": "2022-12-08T08:53:17.838Z"
   },
   {
    "duration": 6,
    "start_time": "2022-12-08T08:53:25.278Z"
   },
   {
    "duration": 6,
    "start_time": "2022-12-08T08:53:52.314Z"
   },
   {
    "duration": 7,
    "start_time": "2022-12-08T08:54:13.044Z"
   },
   {
    "duration": 69,
    "start_time": "2022-12-08T08:54:26.489Z"
   },
   {
    "duration": 7,
    "start_time": "2022-12-08T08:54:29.696Z"
   },
   {
    "duration": 6,
    "start_time": "2022-12-08T08:54:39.762Z"
   },
   {
    "duration": 52,
    "start_time": "2022-12-08T09:00:15.898Z"
   },
   {
    "duration": 7,
    "start_time": "2022-12-08T09:08:10.059Z"
   },
   {
    "duration": 11,
    "start_time": "2022-12-08T09:08:29.341Z"
   },
   {
    "duration": 8,
    "start_time": "2022-12-08T09:09:54.203Z"
   },
   {
    "duration": 5,
    "start_time": "2022-12-08T09:10:01.591Z"
   },
   {
    "duration": 4,
    "start_time": "2022-12-08T09:10:18.381Z"
   },
   {
    "duration": 10,
    "start_time": "2022-12-08T09:10:36.109Z"
   },
   {
    "duration": 7,
    "start_time": "2022-12-08T09:11:08.689Z"
   },
   {
    "duration": 5,
    "start_time": "2022-12-08T09:12:41.607Z"
   },
   {
    "duration": 5,
    "start_time": "2022-12-08T09:15:28.373Z"
   },
   {
    "duration": 10,
    "start_time": "2022-12-08T09:15:33.000Z"
   },
   {
    "duration": 4,
    "start_time": "2022-12-08T09:16:46.304Z"
   },
   {
    "duration": 5,
    "start_time": "2022-12-08T09:17:39.116Z"
   },
   {
    "duration": 17,
    "start_time": "2022-12-08T09:18:30.951Z"
   },
   {
    "duration": 4,
    "start_time": "2022-12-08T09:21:15.379Z"
   },
   {
    "duration": 5,
    "start_time": "2022-12-08T09:21:27.994Z"
   },
   {
    "duration": 5,
    "start_time": "2022-12-08T09:22:34.010Z"
   },
   {
    "duration": 10,
    "start_time": "2022-12-08T09:23:00.347Z"
   },
   {
    "duration": 5,
    "start_time": "2022-12-08T09:23:44.212Z"
   },
   {
    "duration": 5,
    "start_time": "2022-12-08T09:24:23.007Z"
   },
   {
    "duration": 5,
    "start_time": "2022-12-08T09:24:45.182Z"
   },
   {
    "duration": 3,
    "start_time": "2022-12-08T09:26:04.824Z"
   },
   {
    "duration": 52,
    "start_time": "2022-12-08T09:26:04.831Z"
   },
   {
    "duration": 10,
    "start_time": "2022-12-08T09:26:04.885Z"
   },
   {
    "duration": 8,
    "start_time": "2022-12-08T09:26:04.897Z"
   },
   {
    "duration": 14,
    "start_time": "2022-12-08T09:26:04.906Z"
   },
   {
    "duration": 6,
    "start_time": "2022-12-08T09:26:04.922Z"
   },
   {
    "duration": 8,
    "start_time": "2022-12-08T09:26:04.929Z"
   },
   {
    "duration": 27,
    "start_time": "2022-12-08T09:26:04.939Z"
   },
   {
    "duration": 4,
    "start_time": "2022-12-08T09:26:04.968Z"
   },
   {
    "duration": 23,
    "start_time": "2022-12-08T09:26:04.974Z"
   },
   {
    "duration": 7,
    "start_time": "2022-12-08T09:26:04.999Z"
   },
   {
    "duration": 33,
    "start_time": "2022-12-08T09:26:05.007Z"
   },
   {
    "duration": 11,
    "start_time": "2022-12-08T09:26:05.042Z"
   },
   {
    "duration": 27,
    "start_time": "2022-12-08T09:26:05.054Z"
   },
   {
    "duration": 15,
    "start_time": "2022-12-08T09:26:05.083Z"
   },
   {
    "duration": 23,
    "start_time": "2022-12-08T09:26:05.099Z"
   },
   {
    "duration": 13,
    "start_time": "2022-12-08T09:26:05.124Z"
   },
   {
    "duration": 8,
    "start_time": "2022-12-08T09:26:05.139Z"
   },
   {
    "duration": 12,
    "start_time": "2022-12-08T09:26:05.148Z"
   },
   {
    "duration": 15,
    "start_time": "2022-12-08T09:26:05.161Z"
   },
   {
    "duration": 6,
    "start_time": "2022-12-08T09:26:10.987Z"
   },
   {
    "duration": 91,
    "start_time": "2022-12-08T09:27:12.092Z"
   },
   {
    "duration": 630,
    "start_time": "2022-12-08T09:42:16.378Z"
   },
   {
    "duration": 10,
    "start_time": "2022-12-08T09:46:27.954Z"
   },
   {
    "duration": 13,
    "start_time": "2022-12-08T09:48:05.242Z"
   },
   {
    "duration": 43,
    "start_time": "2022-12-08T09:49:14.430Z"
   },
   {
    "duration": 8,
    "start_time": "2022-12-08T09:50:12.509Z"
   },
   {
    "duration": 4,
    "start_time": "2022-12-08T09:51:16.206Z"
   },
   {
    "duration": 4,
    "start_time": "2022-12-08T09:51:17.684Z"
   },
   {
    "duration": 4,
    "start_time": "2022-12-08T09:51:18.892Z"
   },
   {
    "duration": 12,
    "start_time": "2022-12-08T10:17:03.644Z"
   },
   {
    "duration": 10,
    "start_time": "2022-12-08T10:18:41.826Z"
   },
   {
    "duration": 11,
    "start_time": "2022-12-08T10:18:50.173Z"
   },
   {
    "duration": 13,
    "start_time": "2022-12-08T10:19:37.112Z"
   },
   {
    "duration": 3,
    "start_time": "2022-12-08T10:21:39.064Z"
   },
   {
    "duration": 8,
    "start_time": "2022-12-08T10:24:15.589Z"
   },
   {
    "duration": 9,
    "start_time": "2022-12-08T10:24:19.360Z"
   },
   {
    "duration": 3,
    "start_time": "2022-12-08T10:24:20.176Z"
   },
   {
    "duration": 3,
    "start_time": "2022-12-08T10:24:20.903Z"
   },
   {
    "duration": 3,
    "start_time": "2022-12-08T10:24:21.990Z"
   },
   {
    "duration": 10,
    "start_time": "2022-12-08T10:24:52.781Z"
   },
   {
    "duration": 35,
    "start_time": "2022-12-08T14:12:40.440Z"
   },
   {
    "duration": 36,
    "start_time": "2022-12-08T14:13:21.114Z"
   },
   {
    "duration": 23,
    "start_time": "2022-12-08T14:13:39.191Z"
   },
   {
    "duration": 27,
    "start_time": "2022-12-08T14:13:43.004Z"
   },
   {
    "duration": 16,
    "start_time": "2022-12-08T14:14:45.473Z"
   },
   {
    "duration": 12,
    "start_time": "2022-12-08T14:15:06.479Z"
   },
   {
    "duration": 12,
    "start_time": "2022-12-08T14:15:13.733Z"
   },
   {
    "duration": 51,
    "start_time": "2022-12-08T14:24:56.530Z"
   },
   {
    "duration": 270,
    "start_time": "2022-12-08T14:27:26.585Z"
   },
   {
    "duration": 32,
    "start_time": "2022-12-08T14:28:49.437Z"
   },
   {
    "duration": 403,
    "start_time": "2022-12-08T14:29:12.128Z"
   },
   {
    "duration": 281,
    "start_time": "2022-12-08T14:38:54.950Z"
   },
   {
    "duration": 80,
    "start_time": "2022-12-08T14:46:59.899Z"
   },
   {
    "duration": 12,
    "start_time": "2022-12-08T14:47:12.041Z"
   },
   {
    "duration": 111,
    "start_time": "2022-12-08T14:47:18.993Z"
   },
   {
    "duration": 128,
    "start_time": "2022-12-08T14:47:40.790Z"
   },
   {
    "duration": 113,
    "start_time": "2022-12-08T14:47:49.419Z"
   },
   {
    "duration": 1502,
    "start_time": "2022-12-08T14:48:53.428Z"
   },
   {
    "duration": 2132,
    "start_time": "2022-12-08T14:49:22.154Z"
   },
   {
    "duration": 4046,
    "start_time": "2022-12-08T14:49:41.545Z"
   },
   {
    "duration": 9656,
    "start_time": "2022-12-08T14:54:06.440Z"
   },
   {
    "duration": 2118,
    "start_time": "2022-12-08T14:54:40.080Z"
   },
   {
    "duration": 9756,
    "start_time": "2022-12-08T14:56:33.038Z"
   },
   {
    "duration": 2071,
    "start_time": "2022-12-08T14:57:25.553Z"
   },
   {
    "duration": 7867,
    "start_time": "2022-12-08T14:57:38.270Z"
   },
   {
    "duration": 2106,
    "start_time": "2022-12-08T14:58:02.171Z"
   },
   {
    "duration": 61,
    "start_time": "2022-12-08T15:08:34.783Z"
   },
   {
    "duration": 50,
    "start_time": "2022-12-08T15:11:53.752Z"
   },
   {
    "duration": 52,
    "start_time": "2022-12-08T15:12:12.345Z"
   },
   {
    "duration": 3,
    "start_time": "2022-12-08T15:12:28.859Z"
   },
   {
    "duration": 63,
    "start_time": "2022-12-08T15:12:37.347Z"
   },
   {
    "duration": 56,
    "start_time": "2022-12-08T15:14:29.593Z"
   },
   {
    "duration": 2152,
    "start_time": "2022-12-08T15:14:33.703Z"
   },
   {
    "duration": 19,
    "start_time": "2022-12-08T15:16:38.411Z"
   },
   {
    "duration": 4,
    "start_time": "2022-12-08T15:17:14.090Z"
   },
   {
    "duration": 88,
    "start_time": "2022-12-08T15:17:19.844Z"
   },
   {
    "duration": 414,
    "start_time": "2022-12-08T15:17:44.408Z"
   },
   {
    "duration": 83,
    "start_time": "2022-12-08T15:17:53.741Z"
   },
   {
    "duration": 23,
    "start_time": "2022-12-08T15:17:59.088Z"
   },
   {
    "duration": 4,
    "start_time": "2022-12-08T15:23:34.283Z"
   },
   {
    "duration": 7,
    "start_time": "2022-12-08T15:30:32.195Z"
   },
   {
    "duration": 8,
    "start_time": "2022-12-08T15:30:35.218Z"
   },
   {
    "duration": 9,
    "start_time": "2022-12-08T15:33:32.360Z"
   },
   {
    "duration": 9,
    "start_time": "2022-12-08T15:33:39.263Z"
   },
   {
    "duration": 4,
    "start_time": "2022-12-08T15:34:04.114Z"
   },
   {
    "duration": 8,
    "start_time": "2022-12-08T15:34:09.939Z"
   },
   {
    "duration": 10,
    "start_time": "2022-12-08T15:39:13.221Z"
   },
   {
    "duration": 13,
    "start_time": "2022-12-08T15:40:59.642Z"
   },
   {
    "duration": 4,
    "start_time": "2022-12-08T15:41:17.509Z"
   },
   {
    "duration": 7,
    "start_time": "2022-12-08T15:41:29.485Z"
   },
   {
    "duration": 2054,
    "start_time": "2022-12-08T15:47:15.971Z"
   },
   {
    "duration": 27,
    "start_time": "2022-12-08T15:48:07.443Z"
   },
   {
    "duration": 7,
    "start_time": "2022-12-08T15:50:28.450Z"
   },
   {
    "duration": 7,
    "start_time": "2022-12-08T15:58:46.011Z"
   },
   {
    "duration": 52,
    "start_time": "2022-12-09T07:07:25.558Z"
   },
   {
    "duration": 1109,
    "start_time": "2022-12-09T07:07:33.446Z"
   },
   {
    "duration": 195,
    "start_time": "2022-12-09T07:07:34.557Z"
   },
   {
    "duration": 18,
    "start_time": "2022-12-09T07:07:34.754Z"
   },
   {
    "duration": 24,
    "start_time": "2022-12-09T07:07:34.773Z"
   },
   {
    "duration": 14,
    "start_time": "2022-12-09T07:07:34.800Z"
   },
   {
    "duration": 8,
    "start_time": "2022-12-09T07:07:34.815Z"
   },
   {
    "duration": 7,
    "start_time": "2022-12-09T07:07:34.825Z"
   },
   {
    "duration": 34,
    "start_time": "2022-12-09T07:07:34.833Z"
   },
   {
    "duration": 7,
    "start_time": "2022-12-09T07:07:34.869Z"
   },
   {
    "duration": 23,
    "start_time": "2022-12-09T07:07:34.877Z"
   },
   {
    "duration": 5,
    "start_time": "2022-12-09T07:07:34.902Z"
   },
   {
    "duration": 9,
    "start_time": "2022-12-09T07:07:34.908Z"
   },
   {
    "duration": 8,
    "start_time": "2022-12-09T07:07:34.919Z"
   },
   {
    "duration": 7,
    "start_time": "2022-12-09T07:07:34.929Z"
   },
   {
    "duration": 9,
    "start_time": "2022-12-09T07:07:34.937Z"
   },
   {
    "duration": 31,
    "start_time": "2022-12-09T07:07:34.948Z"
   },
   {
    "duration": 5,
    "start_time": "2022-12-09T07:07:34.981Z"
   },
   {
    "duration": 22,
    "start_time": "2022-12-09T07:07:34.988Z"
   },
   {
    "duration": 12,
    "start_time": "2022-12-09T07:07:35.011Z"
   },
   {
    "duration": 16,
    "start_time": "2022-12-09T07:07:35.024Z"
   },
   {
    "duration": 15,
    "start_time": "2022-12-09T07:07:35.041Z"
   },
   {
    "duration": 50,
    "start_time": "2022-12-09T07:07:35.057Z"
   },
   {
    "duration": 27,
    "start_time": "2022-12-09T07:07:35.110Z"
   },
   {
    "duration": 34,
    "start_time": "2022-12-09T07:07:35.138Z"
   },
   {
    "duration": 28,
    "start_time": "2022-12-09T07:07:35.174Z"
   },
   {
    "duration": 25,
    "start_time": "2022-12-09T07:07:35.204Z"
   },
   {
    "duration": 57,
    "start_time": "2022-12-09T07:07:35.231Z"
   },
   {
    "duration": 1985,
    "start_time": "2022-12-09T07:07:37.191Z"
   },
   {
    "duration": 12671,
    "start_time": "2022-12-09T07:08:51.116Z"
   },
   {
    "duration": 2151,
    "start_time": "2022-12-09T07:09:20.192Z"
   },
   {
    "duration": 9549,
    "start_time": "2022-12-09T07:09:37.994Z"
   },
   {
    "duration": 98,
    "start_time": "2022-12-09T07:10:36.880Z"
   },
   {
    "duration": 7,
    "start_time": "2022-12-09T07:14:50.110Z"
   },
   {
    "duration": 6,
    "start_time": "2022-12-09T07:15:16.442Z"
   },
   {
    "duration": 6,
    "start_time": "2022-12-09T07:15:27.658Z"
   },
   {
    "duration": 65,
    "start_time": "2022-12-09T07:15:34.386Z"
   },
   {
    "duration": 6,
    "start_time": "2022-12-09T07:15:40.667Z"
   },
   {
    "duration": 8,
    "start_time": "2022-12-09T07:17:22.042Z"
   },
   {
    "duration": 65,
    "start_time": "2022-12-09T07:29:09.924Z"
   },
   {
    "duration": 18,
    "start_time": "2022-12-09T07:37:52.093Z"
   },
   {
    "duration": 4,
    "start_time": "2022-12-09T07:38:13.649Z"
   },
   {
    "duration": 225,
    "start_time": "2022-12-09T07:38:21.854Z"
   },
   {
    "duration": 220,
    "start_time": "2022-12-09T07:39:03.997Z"
   },
   {
    "duration": 185,
    "start_time": "2022-12-09T07:39:07.952Z"
   },
   {
    "duration": 191,
    "start_time": "2022-12-09T07:39:11.651Z"
   },
   {
    "duration": 901,
    "start_time": "2022-12-09T07:39:46.389Z"
   },
   {
    "duration": 104,
    "start_time": "2022-12-09T07:41:05.816Z"
   },
   {
    "duration": 87,
    "start_time": "2022-12-09T07:42:47.549Z"
   },
   {
    "duration": 104,
    "start_time": "2022-12-09T07:43:23.876Z"
   },
   {
    "duration": 4,
    "start_time": "2022-12-09T07:45:43.612Z"
   },
   {
    "duration": 4,
    "start_time": "2022-12-09T07:50:10.986Z"
   },
   {
    "duration": 634,
    "start_time": "2022-12-09T07:50:34.685Z"
   },
   {
    "duration": 69,
    "start_time": "2022-12-09T07:55:53.436Z"
   },
   {
    "duration": 8994,
    "start_time": "2022-12-09T07:57:08.029Z"
   },
   {
    "duration": 858,
    "start_time": "2022-12-09T07:58:04.648Z"
   },
   {
    "duration": 879,
    "start_time": "2022-12-09T07:59:26.296Z"
   },
   {
    "duration": 884,
    "start_time": "2022-12-09T08:02:30.757Z"
   },
   {
    "duration": 584,
    "start_time": "2022-12-09T08:02:46.223Z"
   },
   {
    "duration": 26,
    "start_time": "2022-12-09T08:03:40.013Z"
   },
   {
    "duration": 853,
    "start_time": "2022-12-09T08:11:31.739Z"
   },
   {
    "duration": 437,
    "start_time": "2022-12-09T08:21:53.962Z"
   },
   {
    "duration": 90,
    "start_time": "2022-12-09T08:24:06.346Z"
   },
   {
    "duration": 132,
    "start_time": "2022-12-09T08:25:05.656Z"
   },
   {
    "duration": 19,
    "start_time": "2022-12-09T08:25:36.042Z"
   },
   {
    "duration": 3,
    "start_time": "2022-12-09T08:35:40.422Z"
   },
   {
    "duration": 916,
    "start_time": "2022-12-09T08:35:51.463Z"
   },
   {
    "duration": 357,
    "start_time": "2022-12-09T08:36:09.548Z"
   },
   {
    "duration": 1041,
    "start_time": "2022-12-09T08:36:16.107Z"
   },
   {
    "duration": 502,
    "start_time": "2022-12-09T08:37:09.185Z"
   },
   {
    "duration": 371,
    "start_time": "2022-12-09T08:37:53.076Z"
   },
   {
    "duration": 309,
    "start_time": "2022-12-09T08:38:20.889Z"
   },
   {
    "duration": 1000,
    "start_time": "2022-12-09T08:39:12.318Z"
   },
   {
    "duration": 1087,
    "start_time": "2022-12-09T08:39:35.163Z"
   },
   {
    "duration": 1020,
    "start_time": "2022-12-09T08:40:26.919Z"
   },
   {
    "duration": 3,
    "start_time": "2022-12-09T08:51:45.594Z"
   },
   {
    "duration": 57,
    "start_time": "2022-12-09T08:51:45.599Z"
   },
   {
    "duration": 14,
    "start_time": "2022-12-09T08:51:45.659Z"
   },
   {
    "duration": 13,
    "start_time": "2022-12-09T08:51:45.675Z"
   },
   {
    "duration": 12,
    "start_time": "2022-12-09T08:51:45.690Z"
   },
   {
    "duration": 7,
    "start_time": "2022-12-09T08:51:45.704Z"
   },
   {
    "duration": 7,
    "start_time": "2022-12-09T08:51:45.713Z"
   },
   {
    "duration": 31,
    "start_time": "2022-12-09T08:51:45.721Z"
   },
   {
    "duration": 24,
    "start_time": "2022-12-09T08:51:45.755Z"
   },
   {
    "duration": 7,
    "start_time": "2022-12-09T08:51:45.781Z"
   },
   {
    "duration": 8,
    "start_time": "2022-12-09T08:51:45.790Z"
   },
   {
    "duration": 18,
    "start_time": "2022-12-09T08:51:45.800Z"
   },
   {
    "duration": 11,
    "start_time": "2022-12-09T08:51:45.819Z"
   },
   {
    "duration": 10,
    "start_time": "2022-12-09T08:51:45.831Z"
   },
   {
    "duration": 6,
    "start_time": "2022-12-09T08:51:45.843Z"
   },
   {
    "duration": 28,
    "start_time": "2022-12-09T08:51:45.851Z"
   },
   {
    "duration": 6,
    "start_time": "2022-12-09T08:51:45.880Z"
   },
   {
    "duration": 14,
    "start_time": "2022-12-09T08:51:45.887Z"
   },
   {
    "duration": 12,
    "start_time": "2022-12-09T08:51:45.903Z"
   },
   {
    "duration": 8,
    "start_time": "2022-12-09T08:51:45.917Z"
   },
   {
    "duration": 15,
    "start_time": "2022-12-09T08:51:45.927Z"
   },
   {
    "duration": 11,
    "start_time": "2022-12-09T08:51:45.944Z"
   },
   {
    "duration": 21,
    "start_time": "2022-12-09T08:51:45.957Z"
   },
   {
    "duration": 4,
    "start_time": "2022-12-09T08:51:45.981Z"
   },
   {
    "duration": 6,
    "start_time": "2022-12-09T08:51:45.986Z"
   },
   {
    "duration": 7,
    "start_time": "2022-12-09T08:51:45.993Z"
   },
   {
    "duration": 26,
    "start_time": "2022-12-09T08:51:46.002Z"
   },
   {
    "duration": 9128,
    "start_time": "2022-12-09T08:51:46.030Z"
   },
   {
    "duration": 33,
    "start_time": "2022-12-09T08:51:55.159Z"
   },
   {
    "duration": 98,
    "start_time": "2022-12-09T08:51:55.280Z"
   },
   {
    "duration": 698,
    "start_time": "2022-12-09T08:51:55.380Z"
   },
   {
    "duration": 1024,
    "start_time": "2022-12-09T08:51:56.080Z"
   },
   {
    "duration": 491,
    "start_time": "2022-12-09T08:51:57.106Z"
   },
   {
    "duration": 280,
    "start_time": "2022-12-09T08:51:57.598Z"
   },
   {
    "duration": 314,
    "start_time": "2022-12-09T08:51:57.880Z"
   },
   {
    "duration": 1034,
    "start_time": "2022-12-09T08:51:58.195Z"
   },
   {
    "duration": 148,
    "start_time": "2022-12-10T08:18:24.897Z"
   },
   {
    "duration": 113,
    "start_time": "2022-12-10T08:19:24.433Z"
   },
   {
    "duration": 1557,
    "start_time": "2023-04-28T17:10:03.732Z"
   },
   {
    "duration": 93,
    "start_time": "2023-04-28T17:10:05.291Z"
   },
   {
    "duration": 15,
    "start_time": "2023-04-28T17:10:05.385Z"
   },
   {
    "duration": 45,
    "start_time": "2023-04-28T17:10:05.401Z"
   },
   {
    "duration": 45,
    "start_time": "2023-04-28T17:10:05.447Z"
   },
   {
    "duration": 18,
    "start_time": "2023-04-28T17:10:05.493Z"
   },
   {
    "duration": 18,
    "start_time": "2023-04-28T17:10:05.513Z"
   },
   {
    "duration": 32,
    "start_time": "2023-04-28T17:10:05.533Z"
   },
   {
    "duration": 6,
    "start_time": "2023-04-28T17:10:05.567Z"
   },
   {
    "duration": 15,
    "start_time": "2023-04-28T17:10:05.575Z"
   },
   {
    "duration": 25,
    "start_time": "2023-04-28T17:10:05.591Z"
   },
   {
    "duration": 28,
    "start_time": "2023-04-28T17:10:05.617Z"
   },
   {
    "duration": 26,
    "start_time": "2023-04-28T17:10:05.646Z"
   },
   {
    "duration": 21,
    "start_time": "2023-04-28T17:10:05.673Z"
   },
   {
    "duration": 12,
    "start_time": "2023-04-28T17:10:05.695Z"
   },
   {
    "duration": 24,
    "start_time": "2023-04-28T17:10:05.708Z"
   },
   {
    "duration": 6,
    "start_time": "2023-04-28T17:10:05.733Z"
   },
   {
    "duration": 23,
    "start_time": "2023-04-28T17:10:05.741Z"
   },
   {
    "duration": 8,
    "start_time": "2023-04-28T17:10:05.765Z"
   },
   {
    "duration": 13,
    "start_time": "2023-04-28T17:10:05.775Z"
   },
   {
    "duration": 13,
    "start_time": "2023-04-28T17:10:05.790Z"
   },
   {
    "duration": 14,
    "start_time": "2023-04-28T17:10:05.805Z"
   },
   {
    "duration": 10,
    "start_time": "2023-04-28T17:10:05.820Z"
   },
   {
    "duration": 16,
    "start_time": "2023-04-28T17:10:05.832Z"
   },
   {
    "duration": 23,
    "start_time": "2023-04-28T17:10:05.849Z"
   },
   {
    "duration": 31,
    "start_time": "2023-04-28T17:10:05.874Z"
   },
   {
    "duration": 3062,
    "start_time": "2023-04-28T17:10:05.907Z"
   },
   {
    "duration": 25,
    "start_time": "2023-04-28T17:10:08.972Z"
   },
   {
    "duration": 8651,
    "start_time": "2023-04-28T17:10:08.998Z"
   },
   {
    "duration": 18,
    "start_time": "2023-04-28T17:10:17.651Z"
   },
   {
    "duration": 163,
    "start_time": "2023-04-28T17:10:17.671Z"
   },
   {
    "duration": 586,
    "start_time": "2023-04-28T17:10:17.836Z"
   },
   {
    "duration": 996,
    "start_time": "2023-04-28T17:10:18.423Z"
   },
   {
    "duration": 486,
    "start_time": "2023-04-28T17:10:19.420Z"
   },
   {
    "duration": 394,
    "start_time": "2023-04-28T17:10:19.907Z"
   },
   {
    "duration": 332,
    "start_time": "2023-04-28T17:10:20.303Z"
   },
   {
    "duration": 953,
    "start_time": "2023-04-28T17:10:20.637Z"
   },
   {
    "duration": 17,
    "start_time": "2023-04-28T17:10:53.207Z"
   },
   {
    "duration": 2084,
    "start_time": "2023-04-29T11:36:50.603Z"
   },
   {
    "duration": 167,
    "start_time": "2023-04-29T11:36:52.690Z"
   },
   {
    "duration": 32,
    "start_time": "2023-04-29T11:36:52.867Z"
   },
   {
    "duration": 6,
    "start_time": "2023-04-29T11:36:52.901Z"
   },
   {
    "duration": 21,
    "start_time": "2023-04-29T11:36:52.910Z"
   },
   {
    "duration": 42,
    "start_time": "2023-04-29T11:36:52.933Z"
   },
   {
    "duration": 30,
    "start_time": "2023-04-29T11:36:52.977Z"
   },
   {
    "duration": 26,
    "start_time": "2023-04-29T11:36:53.009Z"
   },
   {
    "duration": 21,
    "start_time": "2023-04-29T11:36:53.036Z"
   },
   {
    "duration": 44,
    "start_time": "2023-04-29T11:36:53.066Z"
   },
   {
    "duration": 9,
    "start_time": "2023-04-29T11:36:53.111Z"
   },
   {
    "duration": 10,
    "start_time": "2023-04-29T11:36:53.122Z"
   },
   {
    "duration": 55,
    "start_time": "2023-04-29T11:36:53.134Z"
   },
   {
    "duration": 9,
    "start_time": "2023-04-29T11:36:53.193Z"
   },
   {
    "duration": 12,
    "start_time": "2023-04-29T11:36:53.204Z"
   },
   {
    "duration": 29,
    "start_time": "2023-04-29T11:36:53.218Z"
   },
   {
    "duration": 11,
    "start_time": "2023-04-29T11:36:53.248Z"
   },
   {
    "duration": 59,
    "start_time": "2023-04-29T11:36:53.261Z"
   },
   {
    "duration": 16,
    "start_time": "2023-04-29T11:36:53.322Z"
   },
   {
    "duration": 61,
    "start_time": "2023-04-29T11:36:53.340Z"
   },
   {
    "duration": 20,
    "start_time": "2023-04-29T11:36:53.403Z"
   },
   {
    "duration": 15,
    "start_time": "2023-04-29T11:36:53.425Z"
   },
   {
    "duration": 41,
    "start_time": "2023-04-29T11:36:53.443Z"
   },
   {
    "duration": 18,
    "start_time": "2023-04-29T11:36:53.486Z"
   },
   {
    "duration": 8,
    "start_time": "2023-04-29T11:36:53.506Z"
   },
   {
    "duration": 13,
    "start_time": "2023-04-29T11:36:53.516Z"
   },
   {
    "duration": 4200,
    "start_time": "2023-04-29T11:36:53.531Z"
   },
   {
    "duration": 51,
    "start_time": "2023-04-29T11:36:57.733Z"
   },
   {
    "duration": 14673,
    "start_time": "2023-04-29T11:36:57.791Z"
   },
   {
    "duration": 79,
    "start_time": "2023-04-29T11:37:12.478Z"
   },
   {
    "duration": 12,
    "start_time": "2023-04-29T11:37:12.563Z"
   },
   {
    "duration": 998,
    "start_time": "2023-04-29T11:37:12.580Z"
   },
   {
    "duration": 1441,
    "start_time": "2023-04-29T11:37:13.580Z"
   },
   {
    "duration": 773,
    "start_time": "2023-04-29T11:37:15.024Z"
   },
   {
    "duration": 516,
    "start_time": "2023-04-29T11:37:15.803Z"
   },
   {
    "duration": 332,
    "start_time": "2023-04-29T11:37:16.321Z"
   },
   {
    "duration": 1439,
    "start_time": "2023-04-29T11:37:16.655Z"
   },
   {
    "duration": 23,
    "start_time": "2023-04-29T11:37:33.988Z"
   }
  ],
  "kernelspec": {
   "display_name": "Python 3 (ipykernel)",
   "language": "python",
   "name": "python3"
  },
  "language_info": {
   "codemirror_mode": {
    "name": "ipython",
    "version": 3
   },
   "file_extension": ".py",
   "mimetype": "text/x-python",
   "name": "python",
   "nbconvert_exporter": "python",
   "pygments_lexer": "ipython3",
   "version": "3.8.16"
  },
  "toc": {
   "base_numbering": 1,
   "nav_menu": {},
   "number_sections": true,
   "sideBar": true,
   "skip_h1_title": true,
   "title_cell": "Содержание",
   "title_sidebar": "Contents",
   "toc_cell": true,
   "toc_position": {
    "height": "calc(100% - 180px)",
    "left": "10px",
    "top": "150px",
    "width": "165px"
   },
   "toc_section_display": true,
   "toc_window_display": true
  }
 },
 "nbformat": 4,
 "nbformat_minor": 2
}
