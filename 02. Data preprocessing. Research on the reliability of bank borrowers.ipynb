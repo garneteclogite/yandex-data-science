{
 "cells": [
  {
   "cell_type": "markdown",
   "id": "488f52c0",
   "metadata": {
    "deletable": false,
    "editable": false,
    "id": "c81daeeb"
   },
   "source": [
    "# Исследование надежности заемщиков\n"
   ]
  },
  {
   "cell_type": "markdown",
   "id": "81da515d",
   "metadata": {},
   "source": [
    "## Введение "
   ]
  },
  {
   "cell_type": "markdown",
   "id": "049146b6",
   "metadata": {},
   "source": [
    "Заказчик — кредитный отдел банка. \n",
    "\n",
    "Нужно разобраться, влияет ли семейное положение и количество детей клиента на факт погашения кредита в срок. \n",
    "\n",
    "Входные данные от банка — статистика о платёжеспособности клиентов.\n",
    "\n",
    "\n",
    "Результаты исследования будут учтены при построении модели кредитного скоринга — специальной системы, которая оценивает способность потенциального заёмщика вернуть кредит банку."
   ]
  },
  {
   "cell_type": "markdown",
   "id": "dfab9352",
   "metadata": {},
   "source": [
    "Описание данных:\n",
    "\n",
    "`children` — количество детей в семье\n",
    "\n",
    "`days_employed` — общий трудовой стаж в днях\n",
    "\n",
    "`dob_years` — возраст клиента в годах\n",
    "\n",
    "`education` — уровень образования клиента\n",
    "\n",
    "`education_id` — идентификатор уровня образования\n",
    "\n",
    "`family_status` — семейное положение\n",
    "\n",
    "`family_status_id` — идентификатор семейного положения\n",
    "\n",
    "`gender` — пол клиента\n",
    "\n",
    "`income_type` — тип занятости\n",
    "\n",
    "`debt` — имел ли задолженность по возврату кредитов\n",
    "\n",
    "`total_income` — ежемесячный доход\n",
    "\n",
    "`purpose` — цель получения кредита"
   ]
  },
  {
   "cell_type": "markdown",
   "id": "505c5226",
   "metadata": {
    "id": "744d7639"
   },
   "source": [
    "## Загрузка данных и изучение общей информации"
   ]
  },
  {
   "cell_type": "markdown",
   "id": "d5fabdc0",
   "metadata": {
    "id": "e7a14c31"
   },
   "source": [
    "Импорт pandas и загрузка данных."
   ]
  },
  {
   "cell_type": "code",
   "execution_count": 1,
   "id": "ff866200",
   "metadata": {
    "deletable": false,
    "id": "7bcf75c9"
   },
   "outputs": [],
   "source": [
    "import pandas as pd\n",
    "\n",
    "try:\n",
    "    data = pd.read_csv('/datasets/data.csv')\n",
    "except:\n",
    "    data = pd.read_csv('https://code.s3.yandex.net/datasets/data.csv')"
   ]
  },
  {
   "cell_type": "markdown",
   "id": "dde167f5",
   "metadata": {
    "id": "b8038fe3"
   },
   "source": [
    "Вывод первых 20 строчек на экран."
   ]
  },
  {
   "cell_type": "code",
   "execution_count": 2,
   "id": "8f3b1389",
   "metadata": {
    "deletable": false,
    "id": "2a7cab99",
    "outputId": "1a8f3ef2-d323-4ec2-ddf7-89670b5944c4"
   },
   "outputs": [
    {
     "data": {
      "text/html": [
       "<div>\n",
       "<style scoped>\n",
       "    .dataframe tbody tr th:only-of-type {\n",
       "        vertical-align: middle;\n",
       "    }\n",
       "\n",
       "    .dataframe tbody tr th {\n",
       "        vertical-align: top;\n",
       "    }\n",
       "\n",
       "    .dataframe thead th {\n",
       "        text-align: right;\n",
       "    }\n",
       "</style>\n",
       "<table border=\"1\" class=\"dataframe\">\n",
       "  <thead>\n",
       "    <tr style=\"text-align: right;\">\n",
       "      <th></th>\n",
       "      <th>children</th>\n",
       "      <th>days_employed</th>\n",
       "      <th>dob_years</th>\n",
       "      <th>education</th>\n",
       "      <th>education_id</th>\n",
       "      <th>family_status</th>\n",
       "      <th>family_status_id</th>\n",
       "      <th>gender</th>\n",
       "      <th>income_type</th>\n",
       "      <th>debt</th>\n",
       "      <th>total_income</th>\n",
       "      <th>purpose</th>\n",
       "    </tr>\n",
       "  </thead>\n",
       "  <tbody>\n",
       "    <tr>\n",
       "      <th>0</th>\n",
       "      <td>1</td>\n",
       "      <td>-8437.673028</td>\n",
       "      <td>42</td>\n",
       "      <td>высшее</td>\n",
       "      <td>0</td>\n",
       "      <td>женат / замужем</td>\n",
       "      <td>0</td>\n",
       "      <td>F</td>\n",
       "      <td>сотрудник</td>\n",
       "      <td>0</td>\n",
       "      <td>253875.639453</td>\n",
       "      <td>покупка жилья</td>\n",
       "    </tr>\n",
       "    <tr>\n",
       "      <th>1</th>\n",
       "      <td>1</td>\n",
       "      <td>-4024.803754</td>\n",
       "      <td>36</td>\n",
       "      <td>среднее</td>\n",
       "      <td>1</td>\n",
       "      <td>женат / замужем</td>\n",
       "      <td>0</td>\n",
       "      <td>F</td>\n",
       "      <td>сотрудник</td>\n",
       "      <td>0</td>\n",
       "      <td>112080.014102</td>\n",
       "      <td>приобретение автомобиля</td>\n",
       "    </tr>\n",
       "    <tr>\n",
       "      <th>2</th>\n",
       "      <td>0</td>\n",
       "      <td>-5623.422610</td>\n",
       "      <td>33</td>\n",
       "      <td>Среднее</td>\n",
       "      <td>1</td>\n",
       "      <td>женат / замужем</td>\n",
       "      <td>0</td>\n",
       "      <td>M</td>\n",
       "      <td>сотрудник</td>\n",
       "      <td>0</td>\n",
       "      <td>145885.952297</td>\n",
       "      <td>покупка жилья</td>\n",
       "    </tr>\n",
       "    <tr>\n",
       "      <th>3</th>\n",
       "      <td>3</td>\n",
       "      <td>-4124.747207</td>\n",
       "      <td>32</td>\n",
       "      <td>среднее</td>\n",
       "      <td>1</td>\n",
       "      <td>женат / замужем</td>\n",
       "      <td>0</td>\n",
       "      <td>M</td>\n",
       "      <td>сотрудник</td>\n",
       "      <td>0</td>\n",
       "      <td>267628.550329</td>\n",
       "      <td>дополнительное образование</td>\n",
       "    </tr>\n",
       "    <tr>\n",
       "      <th>4</th>\n",
       "      <td>0</td>\n",
       "      <td>340266.072047</td>\n",
       "      <td>53</td>\n",
       "      <td>среднее</td>\n",
       "      <td>1</td>\n",
       "      <td>гражданский брак</td>\n",
       "      <td>1</td>\n",
       "      <td>F</td>\n",
       "      <td>пенсионер</td>\n",
       "      <td>0</td>\n",
       "      <td>158616.077870</td>\n",
       "      <td>сыграть свадьбу</td>\n",
       "    </tr>\n",
       "    <tr>\n",
       "      <th>5</th>\n",
       "      <td>0</td>\n",
       "      <td>-926.185831</td>\n",
       "      <td>27</td>\n",
       "      <td>высшее</td>\n",
       "      <td>0</td>\n",
       "      <td>гражданский брак</td>\n",
       "      <td>1</td>\n",
       "      <td>M</td>\n",
       "      <td>компаньон</td>\n",
       "      <td>0</td>\n",
       "      <td>255763.565419</td>\n",
       "      <td>покупка жилья</td>\n",
       "    </tr>\n",
       "    <tr>\n",
       "      <th>6</th>\n",
       "      <td>0</td>\n",
       "      <td>-2879.202052</td>\n",
       "      <td>43</td>\n",
       "      <td>высшее</td>\n",
       "      <td>0</td>\n",
       "      <td>женат / замужем</td>\n",
       "      <td>0</td>\n",
       "      <td>F</td>\n",
       "      <td>компаньон</td>\n",
       "      <td>0</td>\n",
       "      <td>240525.971920</td>\n",
       "      <td>операции с жильем</td>\n",
       "    </tr>\n",
       "    <tr>\n",
       "      <th>7</th>\n",
       "      <td>0</td>\n",
       "      <td>-152.779569</td>\n",
       "      <td>50</td>\n",
       "      <td>СРЕДНЕЕ</td>\n",
       "      <td>1</td>\n",
       "      <td>женат / замужем</td>\n",
       "      <td>0</td>\n",
       "      <td>M</td>\n",
       "      <td>сотрудник</td>\n",
       "      <td>0</td>\n",
       "      <td>135823.934197</td>\n",
       "      <td>образование</td>\n",
       "    </tr>\n",
       "    <tr>\n",
       "      <th>8</th>\n",
       "      <td>2</td>\n",
       "      <td>-6929.865299</td>\n",
       "      <td>35</td>\n",
       "      <td>ВЫСШЕЕ</td>\n",
       "      <td>0</td>\n",
       "      <td>гражданский брак</td>\n",
       "      <td>1</td>\n",
       "      <td>F</td>\n",
       "      <td>сотрудник</td>\n",
       "      <td>0</td>\n",
       "      <td>95856.832424</td>\n",
       "      <td>на проведение свадьбы</td>\n",
       "    </tr>\n",
       "    <tr>\n",
       "      <th>9</th>\n",
       "      <td>0</td>\n",
       "      <td>-2188.756445</td>\n",
       "      <td>41</td>\n",
       "      <td>среднее</td>\n",
       "      <td>1</td>\n",
       "      <td>женат / замужем</td>\n",
       "      <td>0</td>\n",
       "      <td>M</td>\n",
       "      <td>сотрудник</td>\n",
       "      <td>0</td>\n",
       "      <td>144425.938277</td>\n",
       "      <td>покупка жилья для семьи</td>\n",
       "    </tr>\n",
       "    <tr>\n",
       "      <th>10</th>\n",
       "      <td>2</td>\n",
       "      <td>-4171.483647</td>\n",
       "      <td>36</td>\n",
       "      <td>высшее</td>\n",
       "      <td>0</td>\n",
       "      <td>женат / замужем</td>\n",
       "      <td>0</td>\n",
       "      <td>M</td>\n",
       "      <td>компаньон</td>\n",
       "      <td>0</td>\n",
       "      <td>113943.491460</td>\n",
       "      <td>покупка недвижимости</td>\n",
       "    </tr>\n",
       "    <tr>\n",
       "      <th>11</th>\n",
       "      <td>0</td>\n",
       "      <td>-792.701887</td>\n",
       "      <td>40</td>\n",
       "      <td>среднее</td>\n",
       "      <td>1</td>\n",
       "      <td>женат / замужем</td>\n",
       "      <td>0</td>\n",
       "      <td>F</td>\n",
       "      <td>сотрудник</td>\n",
       "      <td>0</td>\n",
       "      <td>77069.234271</td>\n",
       "      <td>покупка коммерческой недвижимости</td>\n",
       "    </tr>\n",
       "    <tr>\n",
       "      <th>12</th>\n",
       "      <td>0</td>\n",
       "      <td>NaN</td>\n",
       "      <td>65</td>\n",
       "      <td>среднее</td>\n",
       "      <td>1</td>\n",
       "      <td>гражданский брак</td>\n",
       "      <td>1</td>\n",
       "      <td>M</td>\n",
       "      <td>пенсионер</td>\n",
       "      <td>0</td>\n",
       "      <td>NaN</td>\n",
       "      <td>сыграть свадьбу</td>\n",
       "    </tr>\n",
       "    <tr>\n",
       "      <th>13</th>\n",
       "      <td>0</td>\n",
       "      <td>-1846.641941</td>\n",
       "      <td>54</td>\n",
       "      <td>неоконченное высшее</td>\n",
       "      <td>2</td>\n",
       "      <td>женат / замужем</td>\n",
       "      <td>0</td>\n",
       "      <td>F</td>\n",
       "      <td>сотрудник</td>\n",
       "      <td>0</td>\n",
       "      <td>130458.228857</td>\n",
       "      <td>приобретение автомобиля</td>\n",
       "    </tr>\n",
       "    <tr>\n",
       "      <th>14</th>\n",
       "      <td>0</td>\n",
       "      <td>-1844.956182</td>\n",
       "      <td>56</td>\n",
       "      <td>высшее</td>\n",
       "      <td>0</td>\n",
       "      <td>гражданский брак</td>\n",
       "      <td>1</td>\n",
       "      <td>F</td>\n",
       "      <td>компаньон</td>\n",
       "      <td>1</td>\n",
       "      <td>165127.911772</td>\n",
       "      <td>покупка жилой недвижимости</td>\n",
       "    </tr>\n",
       "    <tr>\n",
       "      <th>15</th>\n",
       "      <td>1</td>\n",
       "      <td>-972.364419</td>\n",
       "      <td>26</td>\n",
       "      <td>среднее</td>\n",
       "      <td>1</td>\n",
       "      <td>женат / замужем</td>\n",
       "      <td>0</td>\n",
       "      <td>F</td>\n",
       "      <td>сотрудник</td>\n",
       "      <td>0</td>\n",
       "      <td>116820.904450</td>\n",
       "      <td>строительство собственной недвижимости</td>\n",
       "    </tr>\n",
       "    <tr>\n",
       "      <th>16</th>\n",
       "      <td>0</td>\n",
       "      <td>-1719.934226</td>\n",
       "      <td>35</td>\n",
       "      <td>среднее</td>\n",
       "      <td>1</td>\n",
       "      <td>женат / замужем</td>\n",
       "      <td>0</td>\n",
       "      <td>F</td>\n",
       "      <td>сотрудник</td>\n",
       "      <td>0</td>\n",
       "      <td>289202.704229</td>\n",
       "      <td>недвижимость</td>\n",
       "    </tr>\n",
       "    <tr>\n",
       "      <th>17</th>\n",
       "      <td>0</td>\n",
       "      <td>-2369.999720</td>\n",
       "      <td>33</td>\n",
       "      <td>высшее</td>\n",
       "      <td>0</td>\n",
       "      <td>гражданский брак</td>\n",
       "      <td>1</td>\n",
       "      <td>M</td>\n",
       "      <td>сотрудник</td>\n",
       "      <td>0</td>\n",
       "      <td>90410.586745</td>\n",
       "      <td>строительство недвижимости</td>\n",
       "    </tr>\n",
       "    <tr>\n",
       "      <th>18</th>\n",
       "      <td>0</td>\n",
       "      <td>400281.136913</td>\n",
       "      <td>53</td>\n",
       "      <td>среднее</td>\n",
       "      <td>1</td>\n",
       "      <td>вдовец / вдова</td>\n",
       "      <td>2</td>\n",
       "      <td>F</td>\n",
       "      <td>пенсионер</td>\n",
       "      <td>0</td>\n",
       "      <td>56823.777243</td>\n",
       "      <td>на покупку подержанного автомобиля</td>\n",
       "    </tr>\n",
       "    <tr>\n",
       "      <th>19</th>\n",
       "      <td>0</td>\n",
       "      <td>-10038.818549</td>\n",
       "      <td>48</td>\n",
       "      <td>СРЕДНЕЕ</td>\n",
       "      <td>1</td>\n",
       "      <td>в разводе</td>\n",
       "      <td>3</td>\n",
       "      <td>F</td>\n",
       "      <td>сотрудник</td>\n",
       "      <td>0</td>\n",
       "      <td>242831.107982</td>\n",
       "      <td>на покупку своего автомобиля</td>\n",
       "    </tr>\n",
       "  </tbody>\n",
       "</table>\n",
       "</div>"
      ],
      "text/plain": [
       "    children  days_employed  dob_years            education  education_id  \\\n",
       "0          1   -8437.673028         42               высшее             0   \n",
       "1          1   -4024.803754         36              среднее             1   \n",
       "2          0   -5623.422610         33              Среднее             1   \n",
       "3          3   -4124.747207         32              среднее             1   \n",
       "4          0  340266.072047         53              среднее             1   \n",
       "5          0    -926.185831         27               высшее             0   \n",
       "6          0   -2879.202052         43               высшее             0   \n",
       "7          0    -152.779569         50              СРЕДНЕЕ             1   \n",
       "8          2   -6929.865299         35               ВЫСШЕЕ             0   \n",
       "9          0   -2188.756445         41              среднее             1   \n",
       "10         2   -4171.483647         36               высшее             0   \n",
       "11         0    -792.701887         40              среднее             1   \n",
       "12         0            NaN         65              среднее             1   \n",
       "13         0   -1846.641941         54  неоконченное высшее             2   \n",
       "14         0   -1844.956182         56               высшее             0   \n",
       "15         1    -972.364419         26              среднее             1   \n",
       "16         0   -1719.934226         35              среднее             1   \n",
       "17         0   -2369.999720         33               высшее             0   \n",
       "18         0  400281.136913         53              среднее             1   \n",
       "19         0  -10038.818549         48              СРЕДНЕЕ             1   \n",
       "\n",
       "       family_status  family_status_id gender income_type  debt  \\\n",
       "0    женат / замужем                 0      F   сотрудник     0   \n",
       "1    женат / замужем                 0      F   сотрудник     0   \n",
       "2    женат / замужем                 0      M   сотрудник     0   \n",
       "3    женат / замужем                 0      M   сотрудник     0   \n",
       "4   гражданский брак                 1      F   пенсионер     0   \n",
       "5   гражданский брак                 1      M   компаньон     0   \n",
       "6    женат / замужем                 0      F   компаньон     0   \n",
       "7    женат / замужем                 0      M   сотрудник     0   \n",
       "8   гражданский брак                 1      F   сотрудник     0   \n",
       "9    женат / замужем                 0      M   сотрудник     0   \n",
       "10   женат / замужем                 0      M   компаньон     0   \n",
       "11   женат / замужем                 0      F   сотрудник     0   \n",
       "12  гражданский брак                 1      M   пенсионер     0   \n",
       "13   женат / замужем                 0      F   сотрудник     0   \n",
       "14  гражданский брак                 1      F   компаньон     1   \n",
       "15   женат / замужем                 0      F   сотрудник     0   \n",
       "16   женат / замужем                 0      F   сотрудник     0   \n",
       "17  гражданский брак                 1      M   сотрудник     0   \n",
       "18    вдовец / вдова                 2      F   пенсионер     0   \n",
       "19         в разводе                 3      F   сотрудник     0   \n",
       "\n",
       "     total_income                                 purpose  \n",
       "0   253875.639453                           покупка жилья  \n",
       "1   112080.014102                 приобретение автомобиля  \n",
       "2   145885.952297                           покупка жилья  \n",
       "3   267628.550329              дополнительное образование  \n",
       "4   158616.077870                         сыграть свадьбу  \n",
       "5   255763.565419                           покупка жилья  \n",
       "6   240525.971920                       операции с жильем  \n",
       "7   135823.934197                             образование  \n",
       "8    95856.832424                   на проведение свадьбы  \n",
       "9   144425.938277                 покупка жилья для семьи  \n",
       "10  113943.491460                    покупка недвижимости  \n",
       "11   77069.234271       покупка коммерческой недвижимости  \n",
       "12            NaN                         сыграть свадьбу  \n",
       "13  130458.228857                 приобретение автомобиля  \n",
       "14  165127.911772              покупка жилой недвижимости  \n",
       "15  116820.904450  строительство собственной недвижимости  \n",
       "16  289202.704229                            недвижимость  \n",
       "17   90410.586745              строительство недвижимости  \n",
       "18   56823.777243      на покупку подержанного автомобиля  \n",
       "19  242831.107982            на покупку своего автомобиля  "
      ]
     },
     "execution_count": 2,
     "metadata": {},
     "output_type": "execute_result"
    }
   ],
   "source": [
    "data.head(20)"
   ]
  },
  {
   "cell_type": "markdown",
   "id": "d2d0c1ef",
   "metadata": {
    "id": "1c12e233"
   },
   "source": [
    "Выведем основную информацию о данных."
   ]
  },
  {
   "cell_type": "code",
   "execution_count": 3,
   "id": "30bc7f42",
   "metadata": {
    "deletable": false,
    "id": "2b757bca",
    "outputId": "15376089-8dad-46c9-b520-c05248d43158"
   },
   "outputs": [
    {
     "name": "stdout",
     "output_type": "stream",
     "text": [
      "<class 'pandas.core.frame.DataFrame'>\n",
      "RangeIndex: 21525 entries, 0 to 21524\n",
      "Data columns (total 12 columns):\n",
      " #   Column            Non-Null Count  Dtype  \n",
      "---  ------            --------------  -----  \n",
      " 0   children          21525 non-null  int64  \n",
      " 1   days_employed     19351 non-null  float64\n",
      " 2   dob_years         21525 non-null  int64  \n",
      " 3   education         21525 non-null  object \n",
      " 4   education_id      21525 non-null  int64  \n",
      " 5   family_status     21525 non-null  object \n",
      " 6   family_status_id  21525 non-null  int64  \n",
      " 7   gender            21525 non-null  object \n",
      " 8   income_type       21525 non-null  object \n",
      " 9   debt              21525 non-null  int64  \n",
      " 10  total_income      19351 non-null  float64\n",
      " 11  purpose           21525 non-null  object \n",
      "dtypes: float64(2), int64(5), object(5)\n",
      "memory usage: 2.0+ MB\n"
     ]
    }
   ],
   "source": [
    "data.info()"
   ]
  },
  {
   "cell_type": "markdown",
   "id": "61b0028c",
   "metadata": {
    "id": "333ec665"
   },
   "source": [
    "## Предобработка данных"
   ]
  },
  {
   "cell_type": "markdown",
   "id": "0ad248f7",
   "metadata": {
    "id": "02d92d53"
   },
   "source": [
    "### Удаление пропусков"
   ]
  },
  {
   "cell_type": "markdown",
   "id": "8b1bc825",
   "metadata": {
    "id": "cd84967c"
   },
   "source": [
    "Выведем количество пропущенных значений для каждого столбца."
   ]
  },
  {
   "cell_type": "code",
   "execution_count": 4,
   "id": "6851b51b",
   "metadata": {
    "deletable": false,
    "id": "7f9b2309",
    "outputId": "81f4d817-781c-465c-ed15-91ce4446810d"
   },
   "outputs": [
    {
     "data": {
      "text/plain": [
       "children               0\n",
       "days_employed       2174\n",
       "dob_years              0\n",
       "education              0\n",
       "education_id           0\n",
       "family_status          0\n",
       "family_status_id       0\n",
       "gender                 0\n",
       "income_type            0\n",
       "debt                   0\n",
       "total_income        2174\n",
       "purpose                0\n",
       "dtype: int64"
      ]
     },
     "execution_count": 4,
     "metadata": {},
     "output_type": "execute_result"
    }
   ],
   "source": [
    "data.isna().sum()"
   ]
  },
  {
   "cell_type": "markdown",
   "id": "ca68c70d",
   "metadata": {
    "id": "db86e27b"
   },
   "source": [
    "В двух столбцах есть пропущенные значения. Один из них — `days_employed`. Пропуски в этом столбце я обработаю на следующем этапе. Другой столбец с пропущенными значениями — `total_income` — хранит данные о доходах. На сумму дохода сильнее всего влияет тип занятости, поэтому заполнить пропуски в этом столбце нужно медианным значением по каждому типу из столбца `income_type`. Например, у человека с типом занятости `сотрудник` пропуск в столбце `total_income` должен быть заполнен медианным доходом среди всех записей с тем же типом."
   ]
  },
  {
   "cell_type": "code",
   "execution_count": 5,
   "id": "0ab2285b",
   "metadata": {
    "deletable": false,
    "id": "42006a93"
   },
   "outputs": [],
   "source": [
    "for t in data['income_type'].unique():\n",
    "    data.loc[(data['income_type'] == t) & (data['total_income'].isna()), 'total_income'] = \\\n",
    "    data.loc[(data['income_type'] == t), 'total_income'].median()"
   ]
  },
  {
   "cell_type": "markdown",
   "id": "9f1cce75",
   "metadata": {
    "id": "89da5ece"
   },
   "source": [
    "### Обработка аномальных значений"
   ]
  },
  {
   "cell_type": "markdown",
   "id": "95c7129f",
   "metadata": {
    "id": "57964554"
   },
   "source": [
    "В данных есть аномалии, которые не отражают действительность и появились по какой-то ошибке. Например, отрицательное количество дней трудового стажа в столбце `days_employed`. Обработаем значения в этом столбце: заменим все отрицательные значения положительными с помощью метода `abs()`."
   ]
  },
  {
   "cell_type": "code",
   "execution_count": 6,
   "id": "d1cfb804",
   "metadata": {
    "deletable": false,
    "id": "f6f055bf"
   },
   "outputs": [],
   "source": [
    "data['days_employed'] = data['days_employed'].abs()"
   ]
  },
  {
   "cell_type": "markdown",
   "id": "dd0a33ed",
   "metadata": {
    "id": "6107dd2f"
   },
   "source": [
    "Для каждого типа занятости выведем медианное значение трудового стажа `days_employed` в днях."
   ]
  },
  {
   "cell_type": "code",
   "execution_count": 7,
   "id": "488813a0",
   "metadata": {
    "deletable": false,
    "id": "85a5faf6",
    "outputId": "801ef80e-522b-4668-f34e-565af7432bcf"
   },
   "outputs": [
    {
     "data": {
      "text/plain": [
       "income_type\n",
       "безработный        366413.652744\n",
       "в декрете            3296.759962\n",
       "госслужащий          2689.368353\n",
       "компаньон            1547.382223\n",
       "пенсионер          365213.306266\n",
       "предприниматель       520.848083\n",
       "сотрудник            1574.202821\n",
       "студент               578.751554\n",
       "Name: days_employed, dtype: float64"
      ]
     },
     "execution_count": 7,
     "metadata": {},
     "output_type": "execute_result"
    }
   ],
   "source": [
    "data.groupby('income_type')['days_employed'].agg('median')"
   ]
  },
  {
   "cell_type": "markdown",
   "id": "02655fed",
   "metadata": {
    "id": "38d1a030"
   },
   "source": [
    "У двух типов (безработные и пенсионеры) получатся аномально большие значения. Исправить такие значения сложно, поэтому оставим их как есть. Тем более этот столбец не понадобится для исследования."
   ]
  },
  {
   "cell_type": "markdown",
   "id": "ca309ccd",
   "metadata": {
    "id": "d8a9f147"
   },
   "source": [
    "Выведем перечень уникальных значений столбца `children`."
   ]
  },
  {
   "cell_type": "code",
   "execution_count": 8,
   "id": "65c435e2",
   "metadata": {
    "deletable": false,
    "id": "ef5056eb",
    "outputId": "6975b15c-7f95-4697-d16d-a0c79b657b03"
   },
   "outputs": [
    {
     "data": {
      "text/plain": [
       "array([ 1,  0,  3,  2, -1,  4, 20,  5])"
      ]
     },
     "execution_count": 8,
     "metadata": {},
     "output_type": "execute_result"
    }
   ],
   "source": [
    "data['children'].unique()"
   ]
  },
  {
   "cell_type": "markdown",
   "id": "2b2fca50",
   "metadata": {
    "id": "40b9ebf2"
   },
   "source": [
    "В столбце `children` есть два аномальных значения. Удалим строки, в которых встречаются такие аномальные значения."
   ]
  },
  {
   "cell_type": "code",
   "execution_count": 9,
   "id": "a8d6baa2",
   "metadata": {
    "deletable": false,
    "id": "3ff9801d"
   },
   "outputs": [],
   "source": [
    "data = data[(data['children'] != -1) & (data['children'] != 20)]"
   ]
  },
  {
   "cell_type": "markdown",
   "id": "e011a9a9",
   "metadata": {
    "id": "bbc4d0ce"
   },
   "source": [
    "Ещё раз выведем перечень уникальных значений столбца `children`, чтобы убедиться, что артефакты удалены."
   ]
  },
  {
   "cell_type": "code",
   "execution_count": 10,
   "id": "952df268",
   "metadata": {
    "deletable": false,
    "id": "ad4fa8b7",
    "outputId": "b2097101-d49d-44d9-901b-32a65c9463d1"
   },
   "outputs": [
    {
     "data": {
      "text/plain": [
       "array([1, 0, 3, 2, 4, 5])"
      ]
     },
     "execution_count": 10,
     "metadata": {},
     "output_type": "execute_result"
    }
   ],
   "source": [
    "data['children'].unique()"
   ]
  },
  {
   "cell_type": "markdown",
   "id": "f1cf98a4",
   "metadata": {
    "id": "75440b63"
   },
   "source": [
    "### Удаление пропусков (продолжение)"
   ]
  },
  {
   "cell_type": "markdown",
   "id": "7aa862c4",
   "metadata": {
    "id": "f4ea573f"
   },
   "source": [
    "Заполним пропуски в столбце `days_employed` медианными значениями по каждого типа занятости `income_type`."
   ]
  },
  {
   "cell_type": "code",
   "execution_count": 11,
   "id": "96d13b40",
   "metadata": {
    "deletable": false,
    "id": "af6b1a7e"
   },
   "outputs": [],
   "source": [
    "for t in data['income_type'].unique():\n",
    "    data.loc[(data['income_type'] == t) & (data['days_employed'].isna()), 'days_employed'] = \\\n",
    "    data.loc[(data['income_type'] == t), 'days_employed'].median()"
   ]
  },
  {
   "cell_type": "markdown",
   "id": "477f6032",
   "metadata": {
    "id": "2753f40d"
   },
   "source": [
    "Убедимся, что все пропуски заполнены."
   ]
  },
  {
   "cell_type": "code",
   "execution_count": 12,
   "id": "b7236b87",
   "metadata": {
    "deletable": false,
    "id": "55f78bc2",
    "outputId": "8da1e4e1-358e-4e87-98c9-f261bce0a7b2"
   },
   "outputs": [
    {
     "data": {
      "text/plain": [
       "children            0\n",
       "days_employed       0\n",
       "dob_years           0\n",
       "education           0\n",
       "education_id        0\n",
       "family_status       0\n",
       "family_status_id    0\n",
       "gender              0\n",
       "income_type         0\n",
       "debt                0\n",
       "total_income        0\n",
       "purpose             0\n",
       "dtype: int64"
      ]
     },
     "execution_count": 12,
     "metadata": {},
     "output_type": "execute_result"
    }
   ],
   "source": [
    "data.isna().sum()"
   ]
  },
  {
   "cell_type": "markdown",
   "id": "83ecf9b7",
   "metadata": {
    "id": "ddc81e43"
   },
   "source": [
    "### Изменение типов данных"
   ]
  },
  {
   "cell_type": "markdown",
   "id": "5261f2c1",
   "metadata": {
    "id": "42d19d24"
   },
   "source": [
    "Заменим вещественный тип данных в столбце `total_income` на целочисленный с помощью метода `astype()`."
   ]
  },
  {
   "cell_type": "code",
   "execution_count": 13,
   "id": "2ed8f344",
   "metadata": {
    "deletable": false,
    "id": "920b65ad"
   },
   "outputs": [],
   "source": [
    "data['total_income'] = data['total_income'].astype(int)"
   ]
  },
  {
   "cell_type": "markdown",
   "id": "ef6d71ec",
   "metadata": {
    "id": "80c420ba"
   },
   "source": [
    "### Обработка дубликатов"
   ]
  },
  {
   "cell_type": "markdown",
   "id": "c9f02aed",
   "metadata": {},
   "source": [
    "Обработаем неявные дубликаты в столбце `education`. В этом столбце есть одни и те же значения, но записанные по-разному: с использованием заглавных и строчных букв."
   ]
  },
  {
   "cell_type": "code",
   "execution_count": 14,
   "id": "11708eea",
   "metadata": {
    "deletable": false
   },
   "outputs": [],
   "source": [
    "data['education'] = data['education'].str.lower()"
   ]
  },
  {
   "cell_type": "markdown",
   "id": "92c17a8d",
   "metadata": {
    "id": "dc587695"
   },
   "source": [
    "Выведем на экран количество строк-дубликатов в данных. Если такие строки присутствуют, удалим их."
   ]
  },
  {
   "cell_type": "code",
   "execution_count": 15,
   "id": "619708e5",
   "metadata": {
    "deletable": false,
    "id": "3ee445e4",
    "outputId": "9684deba-1934-42d1-99e1-cda61740f822"
   },
   "outputs": [
    {
     "data": {
      "text/plain": [
       "71"
      ]
     },
     "execution_count": 15,
     "metadata": {},
     "output_type": "execute_result"
    }
   ],
   "source": [
    "data.duplicated().sum()"
   ]
  },
  {
   "cell_type": "code",
   "execution_count": 16,
   "id": "fa97e03f",
   "metadata": {
    "deletable": false,
    "id": "8575fe05"
   },
   "outputs": [],
   "source": [
    "data = data.drop_duplicates()"
   ]
  },
  {
   "cell_type": "markdown",
   "id": "bef55d12",
   "metadata": {
    "id": "9904cf55"
   },
   "source": [
    "### Категоризация данных"
   ]
  },
  {
   "cell_type": "markdown",
   "id": "fb7b169a",
   "metadata": {
    "id": "72fcc8a2"
   },
   "source": [
    "На основании диапазонов, указанных ниже, создадим в датафрейме `data` столбец `total_income_category` с категориями:\n",
    "\n",
    "- 0–30000 — `'E'`;\n",
    "- 30001–50000 — `'D'`;\n",
    "- 50001–200000 — `'C'`;\n",
    "- 200001–1000000 — `'B'`;\n",
    "- 1000001 и выше — `'A'`.\n",
    "\n",
    "\n",
    "Например, кредитополучателю с доходом 25000 нужно назначить категорию `'E'`, а клиенту, получающему 235000, — `'B'`. "
   ]
  },
  {
   "cell_type": "code",
   "execution_count": 17,
   "id": "acae003a",
   "metadata": {
    "deletable": false,
    "id": "e1771346"
   },
   "outputs": [],
   "source": [
    "def categorize_income(income):\n",
    "    try:\n",
    "        if 0 <= income <= 30000:\n",
    "            return 'E'\n",
    "        elif 30001 <= income <= 50000:\n",
    "            return 'D'\n",
    "        elif 50001 <= income <= 200000:\n",
    "            return 'C'\n",
    "        elif 200001 <= income <= 1000000:\n",
    "            return 'B'\n",
    "        elif income >= 1000001:\n",
    "            return 'A'\n",
    "    except:\n",
    "        pass"
   ]
  },
  {
   "cell_type": "code",
   "execution_count": 18,
   "id": "07936ee9",
   "metadata": {
    "deletable": false,
    "id": "d5f3586d"
   },
   "outputs": [],
   "source": [
    "data['total_income_category'] = data['total_income'].apply(categorize_income)"
   ]
  },
  {
   "cell_type": "markdown",
   "id": "8c2d6bdc",
   "metadata": {
    "id": "dde49b5c"
   },
   "source": [
    "Выведем на экран перечень уникальных целей взятия кредита из столбца `purpose`."
   ]
  },
  {
   "cell_type": "code",
   "execution_count": 19,
   "id": "1f60b463",
   "metadata": {
    "deletable": false,
    "id": "f67ce9b3",
    "outputId": "673c12d9-7d7e-4ae0-9812-c622c89dd244"
   },
   "outputs": [
    {
     "data": {
      "text/plain": [
       "array(['покупка жилья', 'приобретение автомобиля',\n",
       "       'дополнительное образование', 'сыграть свадьбу',\n",
       "       'операции с жильем', 'образование', 'на проведение свадьбы',\n",
       "       'покупка жилья для семьи', 'покупка недвижимости',\n",
       "       'покупка коммерческой недвижимости', 'покупка жилой недвижимости',\n",
       "       'строительство собственной недвижимости', 'недвижимость',\n",
       "       'строительство недвижимости', 'на покупку подержанного автомобиля',\n",
       "       'на покупку своего автомобиля',\n",
       "       'операции с коммерческой недвижимостью',\n",
       "       'строительство жилой недвижимости', 'жилье',\n",
       "       'операции со своей недвижимостью', 'автомобили',\n",
       "       'заняться образованием', 'сделка с подержанным автомобилем',\n",
       "       'получение образования', 'автомобиль', 'свадьба',\n",
       "       'получение дополнительного образования', 'покупка своего жилья',\n",
       "       'операции с недвижимостью', 'получение высшего образования',\n",
       "       'свой автомобиль', 'сделка с автомобилем',\n",
       "       'профильное образование', 'высшее образование',\n",
       "       'покупка жилья для сдачи', 'на покупку автомобиля', 'ремонт жилью',\n",
       "       'заняться высшим образованием'], dtype=object)"
      ]
     },
     "execution_count": 19,
     "metadata": {},
     "output_type": "execute_result"
    }
   ],
   "source": [
    "data['purpose'].unique()"
   ]
  },
  {
   "cell_type": "markdown",
   "id": "a30c0553",
   "metadata": {
    "id": "85d0aef0"
   },
   "source": [
    "Создадим функцию, которая на основании данных из столбца `purpose` сформирует новый столбец `purpose_category`, в который войдут следующие категории:\n",
    "\n",
    "- `'операции с автомобилем'`,\n",
    "- `'операции с недвижимостью'`,\n",
    "- `'проведение свадьбы'`,\n",
    "- `'получение образования'`.\n",
    "\n",
    "Например, если в столбце `purpose` находится подстрока `'на покупку автомобиля'`, то в столбце `purpose_category` должна появиться строка `'операции с автомобилем'`."
   ]
  },
  {
   "cell_type": "code",
   "execution_count": 20,
   "id": "c45ff599",
   "metadata": {
    "deletable": false,
    "id": "e149fab4"
   },
   "outputs": [],
   "source": [
    "def categorize_purpose(row):\n",
    "    try:\n",
    "        if 'автом' in row:\n",
    "            return 'операции с автомобилем'\n",
    "        elif 'жил' in row or 'недвиж' in row:\n",
    "            return 'операции с недвижимостью'\n",
    "        elif 'свад' in row:\n",
    "            return 'проведение свадьбы'\n",
    "        elif 'образов' in row:\n",
    "            return 'получение образования'\n",
    "    except:\n",
    "        return 'нет категории'"
   ]
  },
  {
   "cell_type": "code",
   "execution_count": 21,
   "id": "f924d265",
   "metadata": {
    "deletable": false,
    "id": "bf36e69b"
   },
   "outputs": [],
   "source": [
    "data['purpose_category'] = data['purpose'].apply(categorize_purpose)"
   ]
  },
  {
   "cell_type": "markdown",
   "id": "e09cca4a",
   "metadata": {
    "id": "09b242bf"
   },
   "source": [
    "### Исследование данных"
   ]
  },
  {
   "cell_type": "markdown",
   "id": "692da99e",
   "metadata": {
    "id": "c5d66278"
   },
   "source": [
    "#### Есть ли зависимость между количеством детей и возвратом кредита в срок?"
   ]
  },
  {
   "cell_type": "code",
   "execution_count": 25,
   "id": "51cb9130",
   "metadata": {},
   "outputs": [
    {
     "data": {
      "text/html": [
       "<div>\n",
       "<style scoped>\n",
       "    .dataframe tbody tr th:only-of-type {\n",
       "        vertical-align: middle;\n",
       "    }\n",
       "\n",
       "    .dataframe tbody tr th {\n",
       "        vertical-align: top;\n",
       "    }\n",
       "\n",
       "    .dataframe thead tr th {\n",
       "        text-align: left;\n",
       "    }\n",
       "\n",
       "    .dataframe thead tr:last-of-type th {\n",
       "        text-align: right;\n",
       "    }\n",
       "</style>\n",
       "<table border=\"1\" class=\"dataframe\">\n",
       "  <thead>\n",
       "    <tr>\n",
       "      <th></th>\n",
       "      <th colspan=\"2\" halign=\"left\">debt</th>\n",
       "      <th>conversion</th>\n",
       "    </tr>\n",
       "    <tr>\n",
       "      <th></th>\n",
       "      <th>count</th>\n",
       "      <th>sum</th>\n",
       "      <th></th>\n",
       "    </tr>\n",
       "    <tr>\n",
       "      <th>children</th>\n",
       "      <th></th>\n",
       "      <th></th>\n",
       "      <th></th>\n",
       "    </tr>\n",
       "  </thead>\n",
       "  <tbody>\n",
       "    <tr>\n",
       "      <th>0</th>\n",
       "      <td>14091</td>\n",
       "      <td>1063</td>\n",
       "      <td>0.075</td>\n",
       "    </tr>\n",
       "    <tr>\n",
       "      <th>1</th>\n",
       "      <td>4808</td>\n",
       "      <td>444</td>\n",
       "      <td>0.092</td>\n",
       "    </tr>\n",
       "    <tr>\n",
       "      <th>2</th>\n",
       "      <td>2052</td>\n",
       "      <td>194</td>\n",
       "      <td>0.095</td>\n",
       "    </tr>\n",
       "    <tr>\n",
       "      <th>3</th>\n",
       "      <td>330</td>\n",
       "      <td>27</td>\n",
       "      <td>0.082</td>\n",
       "    </tr>\n",
       "    <tr>\n",
       "      <th>4</th>\n",
       "      <td>41</td>\n",
       "      <td>4</td>\n",
       "      <td>0.098</td>\n",
       "    </tr>\n",
       "    <tr>\n",
       "      <th>5</th>\n",
       "      <td>9</td>\n",
       "      <td>0</td>\n",
       "      <td>0.000</td>\n",
       "    </tr>\n",
       "  </tbody>\n",
       "</table>\n",
       "</div>"
      ],
      "text/plain": [
       "           debt       conversion\n",
       "          count   sum           \n",
       "children                        \n",
       "0         14091  1063      0.075\n",
       "1          4808   444      0.092\n",
       "2          2052   194      0.095\n",
       "3           330    27      0.082\n",
       "4            41     4      0.098\n",
       "5             9     0      0.000"
      ]
     },
     "execution_count": 25,
     "metadata": {},
     "output_type": "execute_result"
    }
   ],
   "source": [
    "child_grouped = data.groupby('children').agg({'debt':['count','sum']})\n",
    "child_grouped['conversion'] = round(child_grouped['debt']['sum'] / child_grouped['debt']['count'], 3)\n",
    "child_grouped.head(6)\n"
   ]
  },
  {
   "cell_type": "markdown",
   "id": "52e64af7",
   "metadata": {},
   "source": [
    "**Вывод:** Полученная таблица довольно показательная. По ней видно, что с увеличением количеством детей у заемщиков, понижается вероятность того, что они не выплатят долг. Более того, данная выборка говорит о том, что заемщики с 5 детьми всегда выплачивали кредит."
   ]
  },
  {
   "cell_type": "markdown",
   "id": "a33ebddd",
   "metadata": {
    "id": "97be82ca"
   },
   "source": [
    "#### Есть ли зависимость между семейным положением и возвратом кредита в срок?"
   ]
  },
  {
   "cell_type": "code",
   "execution_count": 31,
   "id": "96e7b13d",
   "metadata": {},
   "outputs": [
    {
     "data": {
      "text/html": [
       "<div>\n",
       "<style scoped>\n",
       "    .dataframe tbody tr th:only-of-type {\n",
       "        vertical-align: middle;\n",
       "    }\n",
       "\n",
       "    .dataframe tbody tr th {\n",
       "        vertical-align: top;\n",
       "    }\n",
       "\n",
       "    .dataframe thead tr th {\n",
       "        text-align: left;\n",
       "    }\n",
       "\n",
       "    .dataframe thead tr:last-of-type th {\n",
       "        text-align: right;\n",
       "    }\n",
       "</style>\n",
       "<table border=\"1\" class=\"dataframe\">\n",
       "  <thead>\n",
       "    <tr>\n",
       "      <th></th>\n",
       "      <th colspan=\"2\" halign=\"left\">debt</th>\n",
       "      <th>conversion</th>\n",
       "    </tr>\n",
       "    <tr>\n",
       "      <th></th>\n",
       "      <th>count</th>\n",
       "      <th>sum</th>\n",
       "      <th></th>\n",
       "    </tr>\n",
       "    <tr>\n",
       "      <th>family_status_id</th>\n",
       "      <th></th>\n",
       "      <th></th>\n",
       "      <th></th>\n",
       "    </tr>\n",
       "  </thead>\n",
       "  <tbody>\n",
       "    <tr>\n",
       "      <th>0</th>\n",
       "      <td>12261</td>\n",
       "      <td>927</td>\n",
       "      <td>0.076</td>\n",
       "    </tr>\n",
       "    <tr>\n",
       "      <th>1</th>\n",
       "      <td>4134</td>\n",
       "      <td>385</td>\n",
       "      <td>0.093</td>\n",
       "    </tr>\n",
       "    <tr>\n",
       "      <th>2</th>\n",
       "      <td>951</td>\n",
       "      <td>63</td>\n",
       "      <td>0.066</td>\n",
       "    </tr>\n",
       "    <tr>\n",
       "      <th>3</th>\n",
       "      <td>1189</td>\n",
       "      <td>84</td>\n",
       "      <td>0.071</td>\n",
       "    </tr>\n",
       "    <tr>\n",
       "      <th>4</th>\n",
       "      <td>2796</td>\n",
       "      <td>273</td>\n",
       "      <td>0.098</td>\n",
       "    </tr>\n",
       "  </tbody>\n",
       "</table>\n",
       "</div>"
      ],
      "text/plain": [
       "                   debt      conversion\n",
       "                  count  sum           \n",
       "family_status_id                       \n",
       "0                 12261  927      0.076\n",
       "1                  4134  385      0.093\n",
       "2                   951   63      0.066\n",
       "3                  1189   84      0.071\n",
       "4                  2796  273      0.098"
      ]
     },
     "execution_count": 31,
     "metadata": {},
     "output_type": "execute_result"
    }
   ],
   "source": [
    "fam_id_grouped = data.groupby('family_status_id').agg({'debt':['count','sum']})\n",
    "fam_id_grouped['conversion'] = round(fam_id_grouped['debt']['sum'] / fam_id_grouped['debt']['count'], 3)\n",
    "fam_id_grouped.head(6)\n"
   ]
  },
  {
   "cell_type": "markdown",
   "id": "9c02886e",
   "metadata": {},
   "source": [
    "**Вывод:** Таблица показывает, что в большинстве случаев наибольшая доля невыплачивающих кредит в срок среди заемщиков, которые либо не состоят в браке, либо состоят в гражданском браке. При этом по статистике наиболее добросовестные заемщики - вдовы или вдовцы."
   ]
  },
  {
   "cell_type": "markdown",
   "id": "171cff34",
   "metadata": {
    "id": "1e8b2fca"
   },
   "source": [
    "#### Есть ли зависимость между уровнем дохода и возвратом кредита в срок?"
   ]
  },
  {
   "cell_type": "code",
   "execution_count": 34,
   "id": "803ff211",
   "metadata": {},
   "outputs": [
    {
     "data": {
      "text/html": [
       "<div>\n",
       "<style scoped>\n",
       "    .dataframe tbody tr th:only-of-type {\n",
       "        vertical-align: middle;\n",
       "    }\n",
       "\n",
       "    .dataframe tbody tr th {\n",
       "        vertical-align: top;\n",
       "    }\n",
       "\n",
       "    .dataframe thead tr th {\n",
       "        text-align: left;\n",
       "    }\n",
       "\n",
       "    .dataframe thead tr:last-of-type th {\n",
       "        text-align: right;\n",
       "    }\n",
       "</style>\n",
       "<table border=\"1\" class=\"dataframe\">\n",
       "  <thead>\n",
       "    <tr>\n",
       "      <th></th>\n",
       "      <th colspan=\"2\" halign=\"left\">debt</th>\n",
       "      <th>conversion</th>\n",
       "    </tr>\n",
       "    <tr>\n",
       "      <th></th>\n",
       "      <th>count</th>\n",
       "      <th>sum</th>\n",
       "      <th></th>\n",
       "    </tr>\n",
       "    <tr>\n",
       "      <th>total_income_category</th>\n",
       "      <th></th>\n",
       "      <th></th>\n",
       "      <th></th>\n",
       "    </tr>\n",
       "  </thead>\n",
       "  <tbody>\n",
       "    <tr>\n",
       "      <th>A</th>\n",
       "      <td>25</td>\n",
       "      <td>2</td>\n",
       "      <td>0.080</td>\n",
       "    </tr>\n",
       "    <tr>\n",
       "      <th>B</th>\n",
       "      <td>5014</td>\n",
       "      <td>354</td>\n",
       "      <td>0.071</td>\n",
       "    </tr>\n",
       "    <tr>\n",
       "      <th>C</th>\n",
       "      <td>15921</td>\n",
       "      <td>1353</td>\n",
       "      <td>0.085</td>\n",
       "    </tr>\n",
       "    <tr>\n",
       "      <th>D</th>\n",
       "      <td>349</td>\n",
       "      <td>21</td>\n",
       "      <td>0.060</td>\n",
       "    </tr>\n",
       "    <tr>\n",
       "      <th>E</th>\n",
       "      <td>22</td>\n",
       "      <td>2</td>\n",
       "      <td>0.091</td>\n",
       "    </tr>\n",
       "  </tbody>\n",
       "</table>\n",
       "</div>"
      ],
      "text/plain": [
       "                        debt       conversion\n",
       "                       count   sum           \n",
       "total_income_category                        \n",
       "A                         25     2      0.080\n",
       "B                       5014   354      0.071\n",
       "C                      15921  1353      0.085\n",
       "D                        349    21      0.060\n",
       "E                         22     2      0.091"
      ]
     },
     "execution_count": 34,
     "metadata": {},
     "output_type": "execute_result"
    }
   ],
   "source": [
    "inc_id_grouped = data.groupby('total_income_category').agg({'debt':['count','sum']})\n",
    "inc_id_grouped['conversion'] = round(inc_id_grouped['debt']['sum'] / inc_id_grouped['debt']['count'], 3)\n",
    "inc_id_grouped.head(6)"
   ]
  },
  {
   "cell_type": "markdown",
   "id": "9508fe69",
   "metadata": {},
   "source": [
    "**Вывод:** Зависимость между уровнем дохода заемщиков и возвратом кредита в срок существует. Анализ показывает, что заемщики с наименьшим уровнем дохода в большинстве случае являются должниками."
   ]
  },
  {
   "cell_type": "markdown",
   "id": "bdfd2ef8",
   "metadata": {
    "id": "99ecbd1f"
   },
   "source": [
    "#### Как разные цели кредита влияют на его возврат в срок?"
   ]
  },
  {
   "cell_type": "code",
   "execution_count": 37,
   "id": "bc72950b",
   "metadata": {},
   "outputs": [
    {
     "data": {
      "text/html": [
       "<div>\n",
       "<style scoped>\n",
       "    .dataframe tbody tr th:only-of-type {\n",
       "        vertical-align: middle;\n",
       "    }\n",
       "\n",
       "    .dataframe tbody tr th {\n",
       "        vertical-align: top;\n",
       "    }\n",
       "\n",
       "    .dataframe thead tr th {\n",
       "        text-align: left;\n",
       "    }\n",
       "\n",
       "    .dataframe thead tr:last-of-type th {\n",
       "        text-align: right;\n",
       "    }\n",
       "</style>\n",
       "<table border=\"1\" class=\"dataframe\">\n",
       "  <thead>\n",
       "    <tr>\n",
       "      <th></th>\n",
       "      <th colspan=\"2\" halign=\"left\">debt</th>\n",
       "      <th>conversion</th>\n",
       "    </tr>\n",
       "    <tr>\n",
       "      <th></th>\n",
       "      <th>count</th>\n",
       "      <th>sum</th>\n",
       "      <th></th>\n",
       "    </tr>\n",
       "    <tr>\n",
       "      <th>purpose_category</th>\n",
       "      <th></th>\n",
       "      <th></th>\n",
       "      <th></th>\n",
       "    </tr>\n",
       "  </thead>\n",
       "  <tbody>\n",
       "    <tr>\n",
       "      <th>операции с автомобилем</th>\n",
       "      <td>4279</td>\n",
       "      <td>400</td>\n",
       "      <td>0.093</td>\n",
       "    </tr>\n",
       "    <tr>\n",
       "      <th>операции с недвижимостью</th>\n",
       "      <td>10751</td>\n",
       "      <td>780</td>\n",
       "      <td>0.073</td>\n",
       "    </tr>\n",
       "    <tr>\n",
       "      <th>получение образования</th>\n",
       "      <td>3988</td>\n",
       "      <td>369</td>\n",
       "      <td>0.093</td>\n",
       "    </tr>\n",
       "    <tr>\n",
       "      <th>проведение свадьбы</th>\n",
       "      <td>2313</td>\n",
       "      <td>183</td>\n",
       "      <td>0.079</td>\n",
       "    </tr>\n",
       "  </tbody>\n",
       "</table>\n",
       "</div>"
      ],
      "text/plain": [
       "                           debt      conversion\n",
       "                          count  sum           \n",
       "purpose_category                               \n",
       "операции с автомобилем     4279  400      0.093\n",
       "операции с недвижимостью  10751  780      0.073\n",
       "получение образования      3988  369      0.093\n",
       "проведение свадьбы         2313  183      0.079"
      ]
     },
     "execution_count": 37,
     "metadata": {},
     "output_type": "execute_result"
    }
   ],
   "source": [
    "purpose_grouped = data.groupby('purpose_category').agg({'debt':['count','sum']})\n",
    "purpose_grouped['conversion'] = round(purpose_grouped['debt']['sum'] / purpose_grouped['debt']['count'], 3)\n",
    "purpose_grouped.head(6)"
   ]
  },
  {
   "cell_type": "markdown",
   "id": "0acc56f6",
   "metadata": {},
   "source": [
    "**Вывод:** Полученная таблица показывает, что наибольшая доля невыплативших в срок кредит среди заемщиков просивших финансирование на операции с автомобилем и получение образования."
   ]
  },
  {
   "cell_type": "markdown",
   "id": "2f4c83bd",
   "metadata": {
    "id": "09c3ac4c"
   },
   "source": [
    "#### Приведите возможные причины появления пропусков в исходных данных."
   ]
  },
  {
   "cell_type": "markdown",
   "id": "e6d96e4d",
   "metadata": {
    "deletable": false,
    "id": "9da2ceda"
   },
   "source": [
    "**Ответ:** Принимая во внимание то, что данные отсутствуют для столбцов days_employed и total_income, можно сделать вывод, что пропуски связаны с тем, что в данные столбцы вообще ничего не вводилось сотрудником банка. Так как заемщик не имеет опыта работы, и поэтому не имеет никакого дохода. В пользу этого говорит и то, что количство пропусков в этих столбцах одинаковое. Но это достаточно странная версия, потому как банк не должен выдавать кредит человеку без работы."
   ]
  },
  {
   "cell_type": "markdown",
   "id": "77f77102",
   "metadata": {
    "id": "7b0487d6"
   },
   "source": [
    "#### Объясните, почему заполнить пропуски медианным значением — лучшее решение для количественных переменных."
   ]
  },
  {
   "cell_type": "markdown",
   "id": "c97f04e6",
   "metadata": {
    "deletable": false,
    "id": "7ecf2b8e"
   },
   "source": [
    "**Ответ:** Со статистической точки зрения медиана является самой надежной мерой центральной тенденции, не откликающейся на выбросы (аномалии) выборки."
   ]
  },
  {
   "cell_type": "markdown",
   "id": "941ea115",
   "metadata": {
    "id": "6db5255a"
   },
   "source": [
    "## Заключение"
   ]
  },
  {
   "cell_type": "markdown",
   "id": "f0cc9dc2",
   "metadata": {},
   "source": [
    "Мною было проведено исследование о факторах, влияющих на платежеспособность заемщиков банка. Входными данными стали данные клиентов о их семейном статусе, уровне дохода, платежеспособности и др. Результаты исследования могут быть использованы при выработке банком новой кредитной политики в отношении граждан с разными материальными и социальными характеристиками.\n",
    "\n",
    "Перед исследованием были выдвинуты следуюдующие гипотезы:\n",
    "* Гипотеза 1: количество детей заемщиков влияет на погашение кредита в срок\n",
    "* Гипотеза 2: семейный статус заемщиков влияет на погашение кредита в срок\n",
    "* Гипотеза 3: уровень дохода заемщиков влияет на погащение кредита в срок\n",
    "* Гипотеза 4: цель взятия кредия заемщиков влияет на погашение кредита в срок\n",
    "\n",
    "Гипотеза 1 частично подтверждена:\n",
    "- 9.8% заемщиков с 4 детьми являются задолжниками;\n",
    "- 7.5% заемщиков без детей являются задолжниками;\n",
    "- среди заемщиков с 5 детьми (всего 9 человек!) нет задолжников.\n",
    "\n",
    "Выводы и рекомендации: На первый взгляд, заемщики без детей являются более платежеспособными, чем заемщики с детьми. Однако дополнительные статистические данные необходимы относительно заемщиков с 5 и более детьми.\n",
    "\n",
    "Гипотеза 2 подтверждена:\n",
    "- заемщики, не состоящие в браке или состоящие в гражданском браке, в большинстве случаев являются должниками (доля должников 9.8 и 9.3%, соответственно);\n",
    "- овдовевшие заемщики более трепетно по сравнению с остальными относятся к финансовым обязательствам (доля должников 6.6%).\n",
    "\n",
    "Выводы и рекомендации: так как доля должников между заемщиками с разным семейным статусом довольно невелика, то при выдаче им кредитов следует уделять внимание и другим их особенностям, таким как количество детей, уровень доходов и цели кредита.\n",
    "\n",
    "Гипотеза 3 частично подтверждена:\n",
    "- заемщики с минимальным уровнем дохода (категория Е) обладают большей долей должников (9.1%);\n",
    "- однако заемщики с чуть более высоким уровнем дохода (категория D) обладают самой меньшей долей должников (6.0%).\n",
    "\n",
    "Выводы и рекомендации: Следует настрожденно относиться к лицам с минимальным уровнем дохода, учитывать другие особенности заемщиков. Необходимо провести дополнительные исследования среди заемщиков с уровнем дохода категории D.\n",
    "\n",
    "Гипотеза 4 подтверждена:\n",
    "- по 9.3% заемщиков, запрашивающих кредит на операции с автомобилем и получение образования, являются должниками, что явлется наибольшим показателем;\n",
    "- 7.3 и 7.9% доля должников среди заемщиков, запрашивающих финансирование на недвижимость и свадьбу, соответственно.\n",
    "\n",
    "Выводы и рекомендаци: Так как разница между минимальной и максимальной долями должников в разных категориях довольно небольшая, то этому критерию следует уделять большее внимание лишь в сочетании с другими неблагополучными особенностями заемщиков.\n",
    "\n",
    "**Общий вывод по исследованию:**\n",
    "\n",
    "Исследование показало, что доли должников в разных социальных и материальных категориях заемщиков варьируют незначительно и отличаются лишь первыми процентами. Однако специалистам банков при предоставлении кредитов следует большее внимание уделять критериям, приведенным в гипотезах 2 и 4. Кроме того, предоставленная аналитикам выборка по некоторым категориям граждан обладает невысокой степенью репрезентативности. Необходим больший объем статистических данных."
   ]
  }
 ],
 "metadata": {
  "ExecuteTimeLog": [
   {
    "duration": 56,
    "start_time": "2022-10-01T12:17:16.904Z"
   },
   {
    "duration": 585,
    "start_time": "2022-10-01T12:17:22.483Z"
   },
   {
    "duration": 33,
    "start_time": "2022-10-01T12:17:23.071Z"
   },
   {
    "duration": 72,
    "start_time": "2022-10-01T12:17:23.106Z"
   },
   {
    "duration": 57,
    "start_time": "2022-10-01T12:17:23.181Z"
   },
   {
    "duration": 80,
    "start_time": "2022-10-01T12:17:23.240Z"
   },
   {
    "duration": 7,
    "start_time": "2022-10-01T12:17:23.325Z"
   },
   {
    "duration": 38,
    "start_time": "2022-10-01T12:17:23.334Z"
   },
   {
    "duration": 16,
    "start_time": "2022-10-01T12:17:23.374Z"
   },
   {
    "duration": 44,
    "start_time": "2022-10-01T12:17:23.392Z"
   },
   {
    "duration": 8,
    "start_time": "2022-10-01T12:17:23.440Z"
   },
   {
    "duration": 66,
    "start_time": "2022-10-01T12:17:23.450Z"
   },
   {
    "duration": 13,
    "start_time": "2022-10-01T12:17:23.518Z"
   },
   {
    "duration": 26,
    "start_time": "2022-10-01T12:17:23.533Z"
   },
   {
    "duration": 25,
    "start_time": "2022-10-01T12:17:23.561Z"
   },
   {
    "duration": 72,
    "start_time": "2022-10-01T12:17:23.588Z"
   },
   {
    "duration": 56,
    "start_time": "2022-10-01T12:17:23.662Z"
   },
   {
    "duration": 24,
    "start_time": "2022-10-01T12:17:23.720Z"
   },
   {
    "duration": 35,
    "start_time": "2022-10-01T12:17:23.746Z"
   },
   {
    "duration": 63,
    "start_time": "2022-10-01T12:17:23.783Z"
   },
   {
    "duration": 103,
    "start_time": "2022-10-01T12:17:23.848Z"
   },
   {
    "duration": 101,
    "start_time": "2022-10-01T12:20:38.931Z"
   },
   {
    "duration": 18,
    "start_time": "2022-10-01T12:20:39.034Z"
   },
   {
    "duration": 65,
    "start_time": "2022-10-01T12:20:39.055Z"
   },
   {
    "duration": 17,
    "start_time": "2022-10-01T12:20:39.122Z"
   },
   {
    "duration": 45,
    "start_time": "2022-10-01T12:20:39.141Z"
   },
   {
    "duration": 8,
    "start_time": "2022-10-01T12:20:39.187Z"
   },
   {
    "duration": 24,
    "start_time": "2022-10-01T12:20:39.204Z"
   },
   {
    "duration": 13,
    "start_time": "2022-10-01T12:20:39.230Z"
   },
   {
    "duration": 10,
    "start_time": "2022-10-01T12:20:39.246Z"
   },
   {
    "duration": 11,
    "start_time": "2022-10-01T12:20:39.257Z"
   },
   {
    "duration": 64,
    "start_time": "2022-10-01T12:20:39.269Z"
   },
   {
    "duration": 11,
    "start_time": "2022-10-01T12:20:39.336Z"
   },
   {
    "duration": 21,
    "start_time": "2022-10-01T12:20:39.349Z"
   },
   {
    "duration": 15,
    "start_time": "2022-10-01T12:20:39.372Z"
   },
   {
    "duration": 38,
    "start_time": "2022-10-01T12:20:39.389Z"
   },
   {
    "duration": 19,
    "start_time": "2022-10-01T12:20:39.429Z"
   },
   {
    "duration": 3,
    "start_time": "2022-10-01T12:20:39.450Z"
   },
   {
    "duration": 22,
    "start_time": "2022-10-01T12:20:39.455Z"
   },
   {
    "duration": 15,
    "start_time": "2022-10-01T12:20:39.479Z"
   },
   {
    "duration": 15,
    "start_time": "2022-10-01T12:20:39.498Z"
   },
   {
    "duration": 36,
    "start_time": "2022-10-01T12:20:39.514Z"
   },
   {
    "duration": 25,
    "start_time": "2022-10-01T12:20:39.552Z"
   },
   {
    "duration": 7,
    "start_time": "2022-10-01T12:20:39.579Z"
   },
   {
    "duration": 22,
    "start_time": "2022-10-01T12:20:39.589Z"
   },
   {
    "duration": 34,
    "start_time": "2022-10-01T12:20:39.613Z"
   },
   {
    "duration": 48,
    "start_time": "2022-10-01T13:57:27.364Z"
   },
   {
    "duration": 5,
    "start_time": "2022-10-01T13:57:33.958Z"
   },
   {
    "duration": 7,
    "start_time": "2022-10-01T13:57:47.430Z"
   },
   {
    "duration": 5,
    "start_time": "2022-10-01T13:58:03.457Z"
   },
   {
    "duration": 7,
    "start_time": "2022-10-01T13:58:24.863Z"
   },
   {
    "duration": 6,
    "start_time": "2022-10-01T13:59:41.206Z"
   },
   {
    "duration": 6,
    "start_time": "2022-10-01T14:02:14.508Z"
   },
   {
    "duration": 5,
    "start_time": "2022-10-01T14:02:26.939Z"
   },
   {
    "duration": 10,
    "start_time": "2022-10-01T14:03:01.229Z"
   },
   {
    "duration": 4,
    "start_time": "2022-10-01T14:03:14.828Z"
   },
   {
    "duration": 14,
    "start_time": "2022-10-01T14:11:21.454Z"
   },
   {
    "duration": 12,
    "start_time": "2022-10-01T14:11:42.656Z"
   },
   {
    "duration": 14,
    "start_time": "2022-10-01T14:11:49.634Z"
   },
   {
    "duration": 706,
    "start_time": "2022-10-02T14:46:27.039Z"
   },
   {
    "duration": 21,
    "start_time": "2022-10-02T14:46:27.747Z"
   },
   {
    "duration": 14,
    "start_time": "2022-10-02T14:46:27.769Z"
   },
   {
    "duration": 11,
    "start_time": "2022-10-02T14:46:27.784Z"
   },
   {
    "duration": 31,
    "start_time": "2022-10-02T14:46:27.797Z"
   },
   {
    "duration": 3,
    "start_time": "2022-10-02T14:46:27.830Z"
   },
   {
    "duration": 10,
    "start_time": "2022-10-02T14:46:27.835Z"
   },
   {
    "duration": 32,
    "start_time": "2022-10-02T14:46:27.846Z"
   },
   {
    "duration": 10,
    "start_time": "2022-10-02T14:46:27.879Z"
   },
   {
    "duration": 4,
    "start_time": "2022-10-02T14:46:27.890Z"
   },
   {
    "duration": 36,
    "start_time": "2022-10-02T14:46:27.895Z"
   },
   {
    "duration": 9,
    "start_time": "2022-10-02T14:46:27.932Z"
   },
   {
    "duration": 6,
    "start_time": "2022-10-02T14:46:27.942Z"
   },
   {
    "duration": 34,
    "start_time": "2022-10-02T14:46:27.950Z"
   },
   {
    "duration": 18,
    "start_time": "2022-10-02T14:46:27.986Z"
   },
   {
    "duration": 18,
    "start_time": "2022-10-02T14:46:28.006Z"
   },
   {
    "duration": 4,
    "start_time": "2022-10-02T14:46:28.025Z"
   },
   {
    "duration": 12,
    "start_time": "2022-10-02T14:46:28.030Z"
   },
   {
    "duration": 34,
    "start_time": "2022-10-02T14:46:28.043Z"
   },
   {
    "duration": 3,
    "start_time": "2022-10-02T14:46:28.079Z"
   },
   {
    "duration": 14,
    "start_time": "2022-10-02T14:46:28.084Z"
   },
   {
    "duration": 5,
    "start_time": "2022-10-02T14:46:28.100Z"
   },
   {
    "duration": 99,
    "start_time": "2022-10-02T14:46:28.107Z"
   },
   {
    "duration": 0,
    "start_time": "2022-10-02T14:46:28.208Z"
   },
   {
    "duration": 0,
    "start_time": "2022-10-02T14:46:28.209Z"
   },
   {
    "duration": 6,
    "start_time": "2022-10-02T14:52:39.307Z"
   },
   {
    "duration": 5,
    "start_time": "2022-10-02T14:52:46.398Z"
   },
   {
    "duration": 46,
    "start_time": "2022-10-02T14:53:46.428Z"
   },
   {
    "duration": 8,
    "start_time": "2022-10-02T14:54:03.895Z"
   },
   {
    "duration": 12,
    "start_time": "2022-10-02T14:54:30.855Z"
   },
   {
    "duration": 7,
    "start_time": "2022-10-02T14:54:35.888Z"
   },
   {
    "duration": 9,
    "start_time": "2022-10-02T14:55:03.601Z"
   },
   {
    "duration": 8,
    "start_time": "2022-10-02T14:55:16.206Z"
   },
   {
    "duration": 6,
    "start_time": "2022-10-02T15:11:29.150Z"
   },
   {
    "duration": 7,
    "start_time": "2022-10-02T15:11:40.199Z"
   },
   {
    "duration": 7,
    "start_time": "2022-10-02T15:11:58.036Z"
   },
   {
    "duration": 6,
    "start_time": "2022-10-02T15:12:14.277Z"
   },
   {
    "duration": 8,
    "start_time": "2022-10-02T15:12:46.858Z"
   },
   {
    "duration": 9,
    "start_time": "2022-10-02T15:13:17.448Z"
   },
   {
    "duration": 7,
    "start_time": "2022-10-02T15:13:58.872Z"
   },
   {
    "duration": 19,
    "start_time": "2022-10-02T15:25:19.926Z"
   },
   {
    "duration": 20,
    "start_time": "2022-10-02T15:25:52.552Z"
   },
   {
    "duration": 8,
    "start_time": "2022-10-02T15:27:09.735Z"
   },
   {
    "duration": 6,
    "start_time": "2022-10-02T15:27:18.855Z"
   },
   {
    "duration": 16,
    "start_time": "2022-10-02T15:29:07.473Z"
   },
   {
    "duration": 16,
    "start_time": "2022-10-02T15:29:32.115Z"
   },
   {
    "duration": 18,
    "start_time": "2022-10-02T15:31:55.555Z"
   },
   {
    "duration": 748,
    "start_time": "2022-10-02T15:32:56.459Z"
   },
   {
    "duration": 6,
    "start_time": "2022-10-02T15:33:26.382Z"
   },
   {
    "duration": 561,
    "start_time": "2022-10-02T15:33:55.017Z"
   },
   {
    "duration": 16,
    "start_time": "2022-10-02T15:34:18.237Z"
   },
   {
    "duration": 17,
    "start_time": "2022-10-02T15:35:10.115Z"
   },
   {
    "duration": 618,
    "start_time": "2022-10-02T15:37:19.315Z"
   },
   {
    "duration": 13,
    "start_time": "2022-10-02T15:37:55.414Z"
   },
   {
    "duration": 9,
    "start_time": "2022-10-02T15:38:30.134Z"
   },
   {
    "duration": 8,
    "start_time": "2022-10-02T15:38:39.214Z"
   },
   {
    "duration": 8,
    "start_time": "2022-10-02T15:38:46.773Z"
   },
   {
    "duration": 6,
    "start_time": "2022-10-02T15:39:21.060Z"
   },
   {
    "duration": 696,
    "start_time": "2022-10-02T15:39:51.492Z"
   },
   {
    "duration": 18,
    "start_time": "2022-10-02T15:40:26.093Z"
   },
   {
    "duration": 18,
    "start_time": "2022-10-02T15:41:08.915Z"
   },
   {
    "duration": 25,
    "start_time": "2022-10-02T15:41:30.475Z"
   },
   {
    "duration": 29,
    "start_time": "2022-10-02T15:43:17.353Z"
   },
   {
    "duration": 28,
    "start_time": "2022-10-02T15:44:45.983Z"
   },
   {
    "duration": 29,
    "start_time": "2022-10-02T15:45:25.057Z"
   },
   {
    "duration": 30,
    "start_time": "2022-10-02T15:45:36.937Z"
   },
   {
    "duration": 8,
    "start_time": "2022-10-02T15:47:47.738Z"
   },
   {
    "duration": 3,
    "start_time": "2022-10-02T15:48:44.409Z"
   },
   {
    "duration": 7,
    "start_time": "2022-10-02T15:48:52.137Z"
   },
   {
    "duration": 8,
    "start_time": "2022-10-02T15:49:16.858Z"
   },
   {
    "duration": 7,
    "start_time": "2022-10-02T15:49:24.157Z"
   },
   {
    "duration": 70,
    "start_time": "2022-10-02T15:49:39.498Z"
   },
   {
    "duration": 15,
    "start_time": "2022-10-02T15:49:39.570Z"
   },
   {
    "duration": 19,
    "start_time": "2022-10-02T15:49:39.587Z"
   },
   {
    "duration": 11,
    "start_time": "2022-10-02T15:49:39.609Z"
   },
   {
    "duration": 56,
    "start_time": "2022-10-02T15:49:39.623Z"
   },
   {
    "duration": 5,
    "start_time": "2022-10-02T15:49:39.680Z"
   },
   {
    "duration": 18,
    "start_time": "2022-10-02T15:49:39.687Z"
   },
   {
    "duration": 7,
    "start_time": "2022-10-02T15:49:39.706Z"
   },
   {
    "duration": 9,
    "start_time": "2022-10-02T15:49:39.714Z"
   },
   {
    "duration": 7,
    "start_time": "2022-10-02T15:49:39.726Z"
   },
   {
    "duration": 55,
    "start_time": "2022-10-02T15:49:39.735Z"
   },
   {
    "duration": 11,
    "start_time": "2022-10-02T15:49:39.791Z"
   },
   {
    "duration": 4,
    "start_time": "2022-10-02T15:49:39.804Z"
   },
   {
    "duration": 14,
    "start_time": "2022-10-02T15:49:39.810Z"
   },
   {
    "duration": 18,
    "start_time": "2022-10-02T15:49:39.825Z"
   },
   {
    "duration": 42,
    "start_time": "2022-10-02T15:49:39.845Z"
   },
   {
    "duration": 4,
    "start_time": "2022-10-02T15:49:39.889Z"
   },
   {
    "duration": 11,
    "start_time": "2022-10-02T15:49:39.895Z"
   },
   {
    "duration": 7,
    "start_time": "2022-10-02T15:49:39.908Z"
   },
   {
    "duration": 4,
    "start_time": "2022-10-02T15:49:39.916Z"
   },
   {
    "duration": 17,
    "start_time": "2022-10-02T15:49:39.922Z"
   },
   {
    "duration": 4,
    "start_time": "2022-10-02T15:49:39.941Z"
   },
   {
    "duration": 34,
    "start_time": "2022-10-02T15:49:39.947Z"
   },
   {
    "duration": 3,
    "start_time": "2022-10-02T15:49:46.038Z"
   },
   {
    "duration": 7,
    "start_time": "2022-10-02T15:49:48.757Z"
   },
   {
    "duration": 7,
    "start_time": "2022-10-02T15:50:17.717Z"
   },
   {
    "duration": 10,
    "start_time": "2022-10-02T15:50:28.352Z"
   },
   {
    "duration": 7,
    "start_time": "2022-10-02T15:50:54.438Z"
   },
   {
    "duration": 12,
    "start_time": "2022-10-02T15:51:25.037Z"
   },
   {
    "duration": 10,
    "start_time": "2022-10-02T15:51:34.317Z"
   },
   {
    "duration": 8,
    "start_time": "2022-10-02T15:51:48.348Z"
   },
   {
    "duration": 27,
    "start_time": "2022-10-02T15:52:20.051Z"
   },
   {
    "duration": 21,
    "start_time": "2022-10-02T15:53:27.958Z"
   },
   {
    "duration": 8,
    "start_time": "2022-10-02T15:54:25.536Z"
   },
   {
    "duration": 18,
    "start_time": "2022-10-02T15:54:56.317Z"
   },
   {
    "duration": 16,
    "start_time": "2022-10-02T15:56:37.748Z"
   },
   {
    "duration": 12,
    "start_time": "2022-10-02T15:56:49.100Z"
   },
   {
    "duration": 21,
    "start_time": "2022-10-02T15:56:59.024Z"
   },
   {
    "duration": 6,
    "start_time": "2022-10-02T16:03:00.300Z"
   },
   {
    "duration": 9,
    "start_time": "2022-10-02T16:03:14.167Z"
   },
   {
    "duration": 22,
    "start_time": "2022-10-02T16:12:50.537Z"
   },
   {
    "duration": 38,
    "start_time": "2022-10-02T16:13:11.387Z"
   },
   {
    "duration": 15,
    "start_time": "2022-10-02T16:14:59.179Z"
   },
   {
    "duration": 15,
    "start_time": "2022-10-02T16:16:31.580Z"
   },
   {
    "duration": 18,
    "start_time": "2022-10-02T16:16:46.349Z"
   },
   {
    "duration": 36,
    "start_time": "2022-10-02T16:16:49.099Z"
   },
   {
    "duration": 9,
    "start_time": "2022-10-02T16:18:31.219Z"
   },
   {
    "duration": 4,
    "start_time": "2022-10-02T16:18:43.339Z"
   },
   {
    "duration": 8,
    "start_time": "2022-10-02T16:18:56.539Z"
   },
   {
    "duration": 16,
    "start_time": "2022-10-02T16:19:32.857Z"
   },
   {
    "duration": 30,
    "start_time": "2022-10-02T16:19:39.954Z"
   },
   {
    "duration": 33,
    "start_time": "2022-10-02T16:19:55.651Z"
   },
   {
    "duration": 69,
    "start_time": "2022-10-02T16:20:05.901Z"
   },
   {
    "duration": 15,
    "start_time": "2022-10-02T16:20:05.972Z"
   },
   {
    "duration": 15,
    "start_time": "2022-10-02T16:20:05.988Z"
   },
   {
    "duration": 10,
    "start_time": "2022-10-02T16:20:06.005Z"
   },
   {
    "duration": 50,
    "start_time": "2022-10-02T16:20:06.016Z"
   },
   {
    "duration": 9,
    "start_time": "2022-10-02T16:20:06.067Z"
   },
   {
    "duration": 30,
    "start_time": "2022-10-02T16:20:06.078Z"
   },
   {
    "duration": 6,
    "start_time": "2022-10-02T16:20:06.110Z"
   },
   {
    "duration": 20,
    "start_time": "2022-10-02T16:20:06.117Z"
   },
   {
    "duration": 17,
    "start_time": "2022-10-02T16:20:06.138Z"
   },
   {
    "duration": 41,
    "start_time": "2022-10-02T16:20:06.156Z"
   },
   {
    "duration": 8,
    "start_time": "2022-10-02T16:20:06.199Z"
   },
   {
    "duration": 8,
    "start_time": "2022-10-02T16:20:06.209Z"
   },
   {
    "duration": 34,
    "start_time": "2022-10-02T16:20:06.218Z"
   },
   {
    "duration": 21,
    "start_time": "2022-10-02T16:20:06.254Z"
   },
   {
    "duration": 24,
    "start_time": "2022-10-02T16:20:06.276Z"
   },
   {
    "duration": 3,
    "start_time": "2022-10-02T16:20:06.302Z"
   },
   {
    "duration": 23,
    "start_time": "2022-10-02T16:20:06.306Z"
   },
   {
    "duration": 50,
    "start_time": "2022-10-02T16:20:06.330Z"
   },
   {
    "duration": 9,
    "start_time": "2022-10-02T16:20:06.381Z"
   },
   {
    "duration": 27,
    "start_time": "2022-10-02T16:20:06.391Z"
   },
   {
    "duration": 12,
    "start_time": "2022-10-02T16:20:06.420Z"
   },
   {
    "duration": 16,
    "start_time": "2022-10-02T16:20:06.434Z"
   },
   {
    "duration": 8,
    "start_time": "2022-10-02T16:20:07.977Z"
   },
   {
    "duration": 18,
    "start_time": "2022-10-02T16:20:23.293Z"
   },
   {
    "duration": 19,
    "start_time": "2022-10-02T16:20:32.537Z"
   },
   {
    "duration": 19,
    "start_time": "2022-10-02T16:20:59.297Z"
   },
   {
    "duration": 18,
    "start_time": "2022-10-02T16:21:02.360Z"
   },
   {
    "duration": 20,
    "start_time": "2022-10-02T16:21:22.856Z"
   },
   {
    "duration": 14,
    "start_time": "2022-10-02T16:23:34.854Z"
   },
   {
    "duration": 10,
    "start_time": "2022-10-02T16:25:28.377Z"
   },
   {
    "duration": 14,
    "start_time": "2022-10-02T16:25:40.037Z"
   },
   {
    "duration": 13,
    "start_time": "2022-10-02T16:25:56.077Z"
   },
   {
    "duration": 13,
    "start_time": "2022-10-02T16:26:22.072Z"
   },
   {
    "duration": 11,
    "start_time": "2022-10-02T16:27:01.364Z"
   },
   {
    "duration": 15,
    "start_time": "2022-10-02T16:28:05.850Z"
   },
   {
    "duration": 14,
    "start_time": "2022-10-02T16:28:28.725Z"
   },
   {
    "duration": 11,
    "start_time": "2022-10-02T16:28:46.777Z"
   },
   {
    "duration": 12,
    "start_time": "2022-10-02T16:28:53.938Z"
   },
   {
    "duration": 5,
    "start_time": "2022-10-02T16:37:48.807Z"
   },
   {
    "duration": 4,
    "start_time": "2022-10-02T16:38:23.590Z"
   },
   {
    "duration": 5,
    "start_time": "2022-10-02T16:39:48.685Z"
   },
   {
    "duration": 9,
    "start_time": "2022-10-02T16:46:53.708Z"
   },
   {
    "duration": 6,
    "start_time": "2022-10-02T16:47:12.327Z"
   },
   {
    "duration": 8,
    "start_time": "2022-10-02T16:48:31.186Z"
   },
   {
    "duration": 15,
    "start_time": "2022-10-02T16:49:53.647Z"
   },
   {
    "duration": 44,
    "start_time": "2022-10-02T16:52:36.602Z"
   },
   {
    "duration": 68,
    "start_time": "2022-10-02T16:55:24.525Z"
   },
   {
    "duration": 52,
    "start_time": "2022-10-02T16:55:34.185Z"
   },
   {
    "duration": 60,
    "start_time": "2022-10-02T16:56:20.178Z"
   },
   {
    "duration": 72,
    "start_time": "2022-10-02T16:56:39.035Z"
   },
   {
    "duration": 34,
    "start_time": "2022-10-02T16:56:55.144Z"
   },
   {
    "duration": 13,
    "start_time": "2022-10-02T16:57:55.121Z"
   },
   {
    "duration": 14,
    "start_time": "2022-10-02T16:59:59.456Z"
   },
   {
    "duration": 89,
    "start_time": "2022-10-02T17:01:33.277Z"
   },
   {
    "duration": 16,
    "start_time": "2022-10-02T17:01:42.022Z"
   },
   {
    "duration": 7,
    "start_time": "2022-10-02T17:03:39.878Z"
   },
   {
    "duration": 3,
    "start_time": "2022-10-02T17:17:17.980Z"
   },
   {
    "duration": 7,
    "start_time": "2022-10-02T17:17:17.985Z"
   },
   {
    "duration": 4,
    "start_time": "2022-10-02T17:21:08.325Z"
   },
   {
    "duration": 45,
    "start_time": "2022-10-02T17:26:41.706Z"
   },
   {
    "duration": 62,
    "start_time": "2022-10-02T17:26:56.956Z"
   },
   {
    "duration": 4,
    "start_time": "2022-10-02T17:27:48.329Z"
   },
   {
    "duration": 1118,
    "start_time": "2022-10-02T17:28:03.359Z"
   },
   {
    "duration": 766,
    "start_time": "2022-10-02T17:28:17.120Z"
   },
   {
    "duration": 924,
    "start_time": "2022-10-02T17:28:28.028Z"
   },
   {
    "duration": 4,
    "start_time": "2022-10-02T17:35:18.020Z"
   },
   {
    "duration": 3,
    "start_time": "2022-10-02T17:35:58.739Z"
   },
   {
    "duration": 5,
    "start_time": "2022-10-02T17:37:11.960Z"
   },
   {
    "duration": 6,
    "start_time": "2022-10-02T17:40:48.643Z"
   },
   {
    "duration": 8,
    "start_time": "2022-10-02T17:41:05.183Z"
   },
   {
    "duration": 7,
    "start_time": "2022-10-02T17:41:16.983Z"
   },
   {
    "duration": 5,
    "start_time": "2022-10-02T17:41:37.663Z"
   },
   {
    "duration": 7,
    "start_time": "2022-10-02T17:41:57.657Z"
   },
   {
    "duration": 12,
    "start_time": "2022-10-02T17:46:35.763Z"
   },
   {
    "duration": 7,
    "start_time": "2022-10-02T17:47:42.511Z"
   },
   {
    "duration": 45,
    "start_time": "2022-10-02T17:50:34.808Z"
   },
   {
    "duration": 7,
    "start_time": "2022-10-02T17:52:17.784Z"
   },
   {
    "duration": 6,
    "start_time": "2022-10-02T17:52:23.670Z"
   },
   {
    "duration": 6,
    "start_time": "2022-10-02T17:52:32.506Z"
   },
   {
    "duration": 8,
    "start_time": "2022-10-02T17:52:45.392Z"
   },
   {
    "duration": 9,
    "start_time": "2022-10-02T17:59:28.824Z"
   },
   {
    "duration": 6,
    "start_time": "2022-10-02T18:02:28.184Z"
   },
   {
    "duration": 715,
    "start_time": "2022-10-02T18:40:45.323Z"
   },
   {
    "duration": 29,
    "start_time": "2022-10-02T18:40:46.040Z"
   },
   {
    "duration": 15,
    "start_time": "2022-10-02T18:40:46.071Z"
   },
   {
    "duration": 13,
    "start_time": "2022-10-02T18:40:46.088Z"
   },
   {
    "duration": 56,
    "start_time": "2022-10-02T18:40:46.102Z"
   },
   {
    "duration": 4,
    "start_time": "2022-10-02T18:40:46.160Z"
   },
   {
    "duration": 33,
    "start_time": "2022-10-02T18:40:46.166Z"
   },
   {
    "duration": 17,
    "start_time": "2022-10-02T18:40:46.201Z"
   },
   {
    "duration": 15,
    "start_time": "2022-10-02T18:40:46.220Z"
   },
   {
    "duration": 11,
    "start_time": "2022-10-02T18:40:46.239Z"
   },
   {
    "duration": 59,
    "start_time": "2022-10-02T18:40:46.252Z"
   },
   {
    "duration": 21,
    "start_time": "2022-10-02T18:40:46.313Z"
   },
   {
    "duration": 12,
    "start_time": "2022-10-02T18:40:46.336Z"
   },
   {
    "duration": 22,
    "start_time": "2022-10-02T18:40:46.350Z"
   },
   {
    "duration": 40,
    "start_time": "2022-10-02T18:40:46.373Z"
   },
   {
    "duration": 24,
    "start_time": "2022-10-02T18:40:46.415Z"
   },
   {
    "duration": 5,
    "start_time": "2022-10-02T18:40:46.441Z"
   },
   {
    "duration": 25,
    "start_time": "2022-10-02T18:40:46.447Z"
   },
   {
    "duration": 29,
    "start_time": "2022-10-02T18:40:46.475Z"
   },
   {
    "duration": 10,
    "start_time": "2022-10-02T18:40:46.506Z"
   },
   {
    "duration": 16,
    "start_time": "2022-10-02T18:40:46.520Z"
   },
   {
    "duration": 13,
    "start_time": "2022-10-02T18:40:46.538Z"
   },
   {
    "duration": 17,
    "start_time": "2022-10-02T18:40:46.553Z"
   },
   {
    "duration": 18,
    "start_time": "2022-10-02T18:40:46.572Z"
   },
   {
    "duration": 4,
    "start_time": "2022-10-02T18:40:46.592Z"
   },
   {
    "duration": 16,
    "start_time": "2022-10-02T18:40:46.598Z"
   },
   {
    "duration": 14,
    "start_time": "2022-10-02T18:40:46.616Z"
   },
   {
    "duration": 5,
    "start_time": "2022-10-02T18:40:46.633Z"
   },
   {
    "duration": 13,
    "start_time": "2022-10-02T18:40:46.639Z"
   },
   {
    "duration": 11,
    "start_time": "2022-10-02T18:40:46.654Z"
   },
   {
    "duration": 10,
    "start_time": "2022-10-02T18:40:46.667Z"
   },
   {
    "duration": 17,
    "start_time": "2022-10-02T18:40:46.679Z"
   },
   {
    "duration": 9,
    "start_time": "2022-10-02T18:40:46.698Z"
   },
   {
    "duration": 45,
    "start_time": "2022-10-03T04:17:04.625Z"
   },
   {
    "duration": 52,
    "start_time": "2022-10-03T04:26:52.841Z"
   },
   {
    "duration": 7,
    "start_time": "2022-10-03T04:27:26.343Z"
   },
   {
    "duration": 636,
    "start_time": "2022-10-03T04:27:35.824Z"
   },
   {
    "duration": 22,
    "start_time": "2022-10-03T04:27:36.462Z"
   },
   {
    "duration": 14,
    "start_time": "2022-10-03T04:27:36.485Z"
   },
   {
    "duration": 9,
    "start_time": "2022-10-03T04:27:36.501Z"
   },
   {
    "duration": 45,
    "start_time": "2022-10-03T04:27:36.512Z"
   },
   {
    "duration": 3,
    "start_time": "2022-10-03T04:27:36.559Z"
   },
   {
    "duration": 23,
    "start_time": "2022-10-03T04:27:36.564Z"
   },
   {
    "duration": 17,
    "start_time": "2022-10-03T04:27:36.589Z"
   },
   {
    "duration": 24,
    "start_time": "2022-10-03T04:27:36.607Z"
   },
   {
    "duration": 13,
    "start_time": "2022-10-03T04:27:36.633Z"
   },
   {
    "duration": 49,
    "start_time": "2022-10-03T04:27:36.647Z"
   },
   {
    "duration": 9,
    "start_time": "2022-10-03T04:27:36.698Z"
   },
   {
    "duration": 18,
    "start_time": "2022-10-03T04:27:36.709Z"
   },
   {
    "duration": 30,
    "start_time": "2022-10-03T04:27:36.730Z"
   },
   {
    "duration": 24,
    "start_time": "2022-10-03T04:27:36.762Z"
   },
   {
    "duration": 22,
    "start_time": "2022-10-03T04:27:36.788Z"
   },
   {
    "duration": 3,
    "start_time": "2022-10-03T04:27:36.812Z"
   },
   {
    "duration": 29,
    "start_time": "2022-10-03T04:27:36.817Z"
   },
   {
    "duration": 25,
    "start_time": "2022-10-03T04:27:36.848Z"
   },
   {
    "duration": 11,
    "start_time": "2022-10-03T04:27:36.875Z"
   },
   {
    "duration": 36,
    "start_time": "2022-10-03T04:27:36.887Z"
   },
   {
    "duration": 20,
    "start_time": "2022-10-03T04:27:36.925Z"
   },
   {
    "duration": 26,
    "start_time": "2022-10-03T04:27:36.947Z"
   },
   {
    "duration": 26,
    "start_time": "2022-10-03T04:27:36.974Z"
   },
   {
    "duration": 13,
    "start_time": "2022-10-03T04:27:37.002Z"
   },
   {
    "duration": 8,
    "start_time": "2022-10-03T04:40:23.967Z"
   },
   {
    "duration": 15,
    "start_time": "2022-10-03T04:40:53.201Z"
   },
   {
    "duration": 14,
    "start_time": "2022-10-03T04:41:26.443Z"
   },
   {
    "duration": 7,
    "start_time": "2022-10-03T05:55:26.775Z"
   },
   {
    "duration": 7,
    "start_time": "2022-10-03T05:55:33.304Z"
   },
   {
    "duration": 468,
    "start_time": "2022-10-03T05:55:39.977Z"
   },
   {
    "duration": 21,
    "start_time": "2022-10-03T05:55:40.447Z"
   },
   {
    "duration": 16,
    "start_time": "2022-10-03T05:55:40.469Z"
   },
   {
    "duration": 8,
    "start_time": "2022-10-03T05:55:40.486Z"
   },
   {
    "duration": 47,
    "start_time": "2022-10-03T05:55:40.496Z"
   },
   {
    "duration": 4,
    "start_time": "2022-10-03T05:55:40.545Z"
   },
   {
    "duration": 29,
    "start_time": "2022-10-03T05:55:40.550Z"
   },
   {
    "duration": 4,
    "start_time": "2022-10-03T05:55:40.581Z"
   },
   {
    "duration": 32,
    "start_time": "2022-10-03T05:55:40.586Z"
   },
   {
    "duration": 6,
    "start_time": "2022-10-03T05:55:40.621Z"
   },
   {
    "duration": 33,
    "start_time": "2022-10-03T05:55:40.629Z"
   },
   {
    "duration": 9,
    "start_time": "2022-10-03T05:55:40.663Z"
   },
   {
    "duration": 5,
    "start_time": "2022-10-03T05:55:40.674Z"
   },
   {
    "duration": 15,
    "start_time": "2022-10-03T05:55:40.680Z"
   },
   {
    "duration": 19,
    "start_time": "2022-10-03T05:55:40.697Z"
   },
   {
    "duration": 17,
    "start_time": "2022-10-03T05:55:40.717Z"
   },
   {
    "duration": 3,
    "start_time": "2022-10-03T05:55:40.735Z"
   },
   {
    "duration": 15,
    "start_time": "2022-10-03T05:55:40.740Z"
   },
   {
    "duration": 5,
    "start_time": "2022-10-03T05:55:40.777Z"
   },
   {
    "duration": 3,
    "start_time": "2022-10-03T05:55:40.784Z"
   },
   {
    "duration": 11,
    "start_time": "2022-10-03T05:55:40.788Z"
   },
   {
    "duration": 7,
    "start_time": "2022-10-03T05:55:40.800Z"
   },
   {
    "duration": 9,
    "start_time": "2022-10-03T05:55:40.808Z"
   },
   {
    "duration": 15,
    "start_time": "2022-10-03T05:55:40.819Z"
   },
   {
    "duration": 44,
    "start_time": "2022-10-03T05:55:40.835Z"
   },
   {
    "duration": 16,
    "start_time": "2022-10-03T06:05:10.169Z"
   },
   {
    "duration": 14,
    "start_time": "2022-10-03T06:08:04.319Z"
   },
   {
    "duration": 14,
    "start_time": "2022-10-03T06:21:07.258Z"
   },
   {
    "duration": 15,
    "start_time": "2022-10-03T06:26:47.889Z"
   },
   {
    "duration": 532,
    "start_time": "2022-10-03T15:09:45.067Z"
   },
   {
    "duration": 25,
    "start_time": "2022-10-03T15:09:45.602Z"
   },
   {
    "duration": 16,
    "start_time": "2022-10-03T15:09:45.629Z"
   },
   {
    "duration": 10,
    "start_time": "2022-10-03T15:09:45.647Z"
   },
   {
    "duration": 68,
    "start_time": "2022-10-03T15:09:45.660Z"
   },
   {
    "duration": 4,
    "start_time": "2022-10-03T15:09:45.729Z"
   },
   {
    "duration": 10,
    "start_time": "2022-10-03T15:09:45.735Z"
   },
   {
    "duration": 4,
    "start_time": "2022-10-03T15:09:45.747Z"
   },
   {
    "duration": 14,
    "start_time": "2022-10-03T15:09:45.752Z"
   },
   {
    "duration": 5,
    "start_time": "2022-10-03T15:09:45.768Z"
   },
   {
    "duration": 57,
    "start_time": "2022-10-03T15:09:45.774Z"
   },
   {
    "duration": 12,
    "start_time": "2022-10-03T15:09:45.833Z"
   },
   {
    "duration": 4,
    "start_time": "2022-10-03T15:09:45.847Z"
   },
   {
    "duration": 17,
    "start_time": "2022-10-03T15:09:45.854Z"
   },
   {
    "duration": 44,
    "start_time": "2022-10-03T15:09:45.872Z"
   },
   {
    "duration": 17,
    "start_time": "2022-10-03T15:09:45.918Z"
   },
   {
    "duration": 4,
    "start_time": "2022-10-03T15:09:45.937Z"
   },
   {
    "duration": 13,
    "start_time": "2022-10-03T15:09:45.942Z"
   },
   {
    "duration": 5,
    "start_time": "2022-10-03T15:09:45.957Z"
   },
   {
    "duration": 38,
    "start_time": "2022-10-03T15:09:45.964Z"
   },
   {
    "duration": 10,
    "start_time": "2022-10-03T15:09:46.005Z"
   },
   {
    "duration": 8,
    "start_time": "2022-10-03T15:09:46.017Z"
   },
   {
    "duration": 8,
    "start_time": "2022-10-03T15:09:46.027Z"
   },
   {
    "duration": 20,
    "start_time": "2022-10-03T15:09:46.036Z"
   },
   {
    "duration": 35,
    "start_time": "2022-10-03T15:09:46.057Z"
   },
   {
    "duration": 6,
    "start_time": "2022-10-03T15:09:46.094Z"
   },
   {
    "duration": 11,
    "start_time": "2022-10-03T15:09:46.102Z"
   },
   {
    "duration": 16,
    "start_time": "2022-10-03T15:09:46.115Z"
   },
   {
    "duration": 6,
    "start_time": "2022-10-03T15:09:46.133Z"
   },
   {
    "duration": 10,
    "start_time": "2022-10-03T15:09:46.140Z"
   },
   {
    "duration": 50,
    "start_time": "2022-10-03T15:09:46.152Z"
   },
   {
    "duration": 8,
    "start_time": "2022-10-03T15:09:46.205Z"
   },
   {
    "duration": 6,
    "start_time": "2022-10-03T15:09:46.215Z"
   },
   {
    "duration": 17,
    "start_time": "2022-10-03T15:09:46.223Z"
   },
   {
    "duration": 8,
    "start_time": "2022-10-03T15:09:46.241Z"
   },
   {
    "duration": 7,
    "start_time": "2022-10-03T15:09:46.251Z"
   },
   {
    "duration": 29,
    "start_time": "2022-10-03T15:09:46.290Z"
   }
  ],
  "celltoolbar": "Edit Metadata",
  "colab": {
   "name": "dpp_template_part2.ipynb",
   "provenance": []
  },
  "kernelspec": {
   "display_name": "Python 3 (ipykernel)",
   "language": "python",
   "name": "python3"
  },
  "language_info": {
   "codemirror_mode": {
    "name": "ipython",
    "version": 3
   },
   "file_extension": ".py",
   "mimetype": "text/x-python",
   "name": "python",
   "nbconvert_exporter": "python",
   "pygments_lexer": "ipython3",
   "version": "3.8.16"
  },
  "toc": {
   "base_numbering": 1,
   "nav_menu": {},
   "number_sections": true,
   "sideBar": true,
   "skip_h1_title": true,
   "title_cell": "Table of Contents",
   "title_sidebar": "Contents",
   "toc_cell": false,
   "toc_position": {},
   "toc_section_display": true,
   "toc_window_display": true
  }
 },
 "nbformat": 4,
 "nbformat_minor": 5
}
